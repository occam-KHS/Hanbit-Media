{
 "cells": [
  {
   "cell_type": "markdown",
   "id": "89765799-b23e-475c-8759-419f21e86526",
   "metadata": {},
   "source": [
    "헤더\n",
    "====="
   ]
  },
  {
   "cell_type": "markdown",
   "id": "e561938e-6969-48d8-9380-763d8c3afc59",
   "metadata": {},
   "source": [
    "H1\n",
    "---"
   ]
  },
  {
   "cell_type": "markdown",
   "id": "006b83da-5a28-4e91-877e-fb8d2045e0f9",
   "metadata": {},
   "source": [
    "### from H2 use ##\n",
    "# This is H1\n",
    "###### This is H6"
   ]
  },
  {
   "cell_type": "markdown",
   "id": "bf021c8e-7bb8-4a3f-9613-331397c0ead7",
   "metadata": {},
   "source": [
    "> This is  a first blockquote\n",
    ">   > This is a second blockquote\n",
    "> > > This is a third blockquote\n",
    "\n",
    "> - blockcode "
   ]
  },
  {
   "cell_type": "markdown",
   "id": "413d7809-3c40-45b1-b2b4-c3f0d824da86",
   "metadata": {},
   "source": [
    "1. Number one\n",
    "3. Number Three\n",
    "2. Number Two (알아서 내림차순으로 정렬)"
   ]
  },
  {
   "cell_type": "markdown",
   "id": "adb50ae5-e0ae-4ba4-bc42-dc7c52a95f30",
   "metadata": {},
   "source": [
    "* 빨간\n",
    "     * 파랑\n",
    "         * 녹색"
   ]
  },
  {
   "cell_type": "markdown",
   "id": "252af0ef-bcca-4f0a-8f1a-0696f24ff9e1",
   "metadata": {},
   "source": [
    "This is a normal paragraph: line 을 띠우지 않으면 걍 이어서 씀\n",
    "    \n",
    "    This is a code block\n",
    "\n",
    "End of a paragraph"
   ]
  },
  {
   "cell_type": "markdown",
   "id": "2e9c451b-5511-4e5a-95dc-9f63c1ccae06",
   "metadata": {},
   "source": [
    "# 코드 백틱 이용\n",
    "```python\n",
    "list = [1.2.4]\n",
    "for i in list:\n",
    "    print(i)\n",
    "```"
   ]
  },
  {
   "cell_type": "markdown",
   "id": "332f501d-79e1-449b-ae28-564f1db9c92a",
   "metadata": {},
   "source": [
    "#### 수평선  페이지 나누기 용도\n",
    "---------------------------------"
   ]
  },
  {
   "cell_type": "markdown",
   "id": "8df1f517-ac1a-442b-977c-363cf4118099",
   "metadata": {},
   "source": [
    "#### 강조\n",
    "*single asterisks*\n",
    "**single asterisks**\n",
    "~~cancelline~~"
   ]
  },
  {
   "cell_type": "markdown",
   "id": "4447c685-773c-4700-8e2b-cae42db8f3c9",
   "metadata": {},
   "source": [
    "줄 바꿈은 문장 마지막에 3 칸을 뜨워야 한다.    \n",
    "이것을 실험하자"
   ]
  },
  {
   "cell_type": "code",
   "execution_count": null,
   "id": "3f2e46f9-a28b-4511-9fdb-ed247d2abb6e",
   "metadata": {},
   "outputs": [],
   "source": []
  }
 ],
 "metadata": {
  "kernelspec": {
   "display_name": "Python 3 (ipykernel)",
   "language": "python",
   "name": "python3"
  },
  "language_info": {
   "codemirror_mode": {
    "name": "ipython",
    "version": 3
   },
   "file_extension": ".py",
   "mimetype": "text/x-python",
   "name": "python",
   "nbconvert_exporter": "python",
   "pygments_lexer": "ipython3",
   "version": "3.9.7"
  }
 },
 "nbformat": 4,
 "nbformat_minor": 5
}
