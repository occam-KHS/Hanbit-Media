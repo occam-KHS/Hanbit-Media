{
 "cells": [
  {
   "cell_type": "code",
   "execution_count": 2,
   "metadata": {},
   "outputs": [],
   "source": [
    "import FinanceDataReader as fdr\n",
    "%matplotlib inline\n",
    "import matplotlib.pyplot as plt\n",
    "import requests\n",
    "import bs4\n",
    "import pandas as pd\n",
    "import numpy as np\n",
    "import time\n",
    "import datetime\n",
    "import os\n",
    "import warnings\n",
    "warnings.filterwarnings('ignore')\n",
    "import json\n",
    "import statsmodels\n",
    "import statsmodels.api as sm\n",
    "from statsmodels.tsa.stattools import coint\n",
    "import pickle\n",
    "import timeit\n",
    "from IPython.display import clear_output\n",
    "import glob\n",
    "\n",
    "pd.options.display.float_format = '{:,.3f}'.format"
   ]
  },
  {
   "cell_type": "code",
   "execution_count": 12,
   "metadata": {},
   "outputs": [],
   "source": [
    "model_data = pd.read_pickle('model_data.pkl')"
   ]
  },
  {
   "cell_type": "markdown",
   "metadata": {},
   "source": [
    "- #### 가설 - 5일 이동 평균선이 오늘 종가보다 위에 위치해 있다.\n",
    "\n",
    "'price_from_5ma' 변수는 5일 이동평균선을 매수가격으로 나눈 값입니다. <br>\n",
    "매수가격보다 5일 이동평균선이 클 수록 좋은 수익율을 보여줍니다. 역시 맞는 가설로 판단됩니다."
   ]
  },
  {
   "cell_type": "code",
   "execution_count": 11,
   "metadata": {},
   "outputs": [
    {
     "name": "stdout",
     "output_type": "stream",
     "text": [
      "                count  mean\n",
      "ranks                      \n",
      "(0.799, 0.958]    105 0.419\n",
      "(0.958, 0.979]    104 0.452\n",
      "(0.979, 0.995]    104 0.481\n",
      "(0.995, 1.016]    104 0.452\n",
      "(1.016, 1.268]    104 0.500\n"
     ]
    },
    {
     "data": {
      "image/png": "[encoded data removed]",
      "text/plain": [
       "<Figure size 864x360 with 1 Axes>"
      ]
     },
     "metadata": {
      "needs_background": "light"
     },
     "output_type": "display_data"
    }
   ],
   "source": [
    "var = 'price_from_5ma'\n",
    "\n",
    "model_data['target'] = np.where(model_data['return']>1, 1, 0)\n",
    "model_data['ranks'] = pd.qcut(model_data[var], q = 5)\n",
    "print(model_data.groupby('ranks')['target'].agg(['count', 'mean']))\n",
    "model_data.groupby('ranks')['target'].mean().plot(kind='bar', figsize=(12,5), ylim=(0.3, 0.6))\n",
    "plt.title(var)\n",
    "plt.show()"
   ]
  },
  {
   "cell_type": "code",
   "execution_count": null,
   "metadata": {},
   "outputs": [],
   "source": []
  }
 ],
 "metadata": {
  "kernelspec": {
   "display_name": "Python 3",
   "language": "python",
   "name": "python3"
  },
  "language_info": {
   "codemirror_mode": {
    "name": "ipython",
    "version": 3
   },
   "file_extension": ".py",
   "mimetype": "text/x-python",
   "name": "python",
   "nbconvert_exporter": "python",
   "pygments_lexer": "ipython3",
   "version": "3.8.5"
  }
 },
 "nbformat": 4,
 "nbformat_minor": 4
}
