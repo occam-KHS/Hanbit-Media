{
 "cells": [
  {
   "cell_type": "markdown",
   "id": "70e95683-a6d9-4461-9d1f-27ce848d82f7",
   "metadata": {},
   "source": [
    "### **자동매매를 해보자**"
   ]
  },
  {
   "cell_type": "markdown",
   "id": "211f0ef8-2042-4d1a-b966-79f103c6cee8",
   "metadata": {},
   "source": [
    "이베스트의 Xing API 를 이용하여 개발한 알고리즘에 따라 자동매매을 해 보겠습니다."
   ]
  },
  {
   "cell_type": "code",
   "execution_count": null,
   "id": "455b7782-678f-46ad-98ac-c74e71a85e90",
   "metadata": {},
   "outputs": [],
   "source": []
  }
 ],
 "metadata": {
  "kernelspec": {
   "display_name": "Python 3 (ipykernel)",
   "language": "python",
   "name": "python3"
  },
  "language_info": {
   "codemirror_mode": {
    "name": "ipython",
    "version": 3
   },
   "file_extension": ".py",
   "mimetype": "text/x-python",
   "name": "python",
   "nbconvert_exporter": "python",
   "pygments_lexer": "ipython3",
   "version": "3.9.7"
  }
 },
 "nbformat": 4,
 "nbformat_minor": 5
}
