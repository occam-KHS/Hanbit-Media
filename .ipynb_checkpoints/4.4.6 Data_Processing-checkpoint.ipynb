{
 "cells": [
  {
   "cell_type": "code",
   "execution_count": 2,
   "metadata": {},
   "outputs": [],
   "source": [
    "import FinanceDataReader as fdr\n",
    "%matplotlib inline\n",
    "import matplotlib.pyplot as plt\n",
    "import pandas as pd\n",
    "import numpy as np\n",
    "\n",
    "pd.options.display.float_format = '{:,.5f}'.format\n"
   ]
  },
  {
   "cell_type": "markdown",
   "metadata": {},
   "source": [
    "### 매수 전략 데이터 프로세싱\n",
    "모델 개발을 위해서는 매수 전략에 따라 매수 종목을 결정할 수 있어야 합니다. 이번 장에서는 기본적인 매수 종목을 찾는 데이터처리를 진행해 보겠습니다. 저장해 둔 mdl_data pickle 파일을 읽습니다.\n"
   ]
  },
  {
   "cell_type": "code",
   "execution_count": 5,
   "metadata": {},
   "outputs": [],
   "source": [
    "mdl_data = pd.read_pickle('mdl_data.pkl')"
   ]
  },
  {
   "cell_type": "markdown",
   "metadata": {},
   "source": [
    "### <br>매수 전략 1 - 시장 수익율보다 더 좋은 수익율을 보인 종목을 매수\n",
    "시장 수익율보다 더 좋은 수익율을 보인 종목을 알기 위해 4.4.5 절에 'win_market' 이라는 변수를 생성했습니다. 이것을 이용할 것인데요. 더 의미있는 지표를 생성하기 위해서 과거 60일 누적 합을 보겠습니다. 수익율은 max_close(5 영업일 중 최고 종가 수익율) 이용하겠습니다.\n"
   ]
  },
  {
   "cell_type": "code",
   "execution_count": 6,
   "metadata": {},
   "outputs": [
    {
     "data": {
      "text/html": [
       "<div>\n",
       "<style scoped>\n",
       "    .dataframe tbody tr th:only-of-type {\n",
       "        vertical-align: middle;\n",
       "    }\n",
       "\n",
       "    .dataframe tbody tr th {\n",
       "        vertical-align: top;\n",
       "    }\n",
       "\n",
       "    .dataframe thead th {\n",
       "        text-align: right;\n",
       "    }\n",
       "</style>\n",
       "<table border=\"1\" class=\"dataframe\">\n",
       "  <thead>\n",
       "    <tr style=\"text-align: right;\">\n",
       "      <th></th>\n",
       "      <th>open</th>\n",
       "      <th>high</th>\n",
       "      <th>low</th>\n",
       "      <th>close</th>\n",
       "      <th>volume</th>\n",
       "      <th>change</th>\n",
       "      <th>code</th>\n",
       "      <th>name</th>\n",
       "      <th>kosdaq_return</th>\n",
       "      <th>return</th>\n",
       "      <th>...</th>\n",
       "      <th>high_r1</th>\n",
       "      <th>low_r1</th>\n",
       "      <th>high_r2</th>\n",
       "      <th>low_r2</th>\n",
       "      <th>high_r3</th>\n",
       "      <th>low_r3</th>\n",
       "      <th>high_r4</th>\n",
       "      <th>low_r4</th>\n",
       "      <th>high_r5</th>\n",
       "      <th>low_r5</th>\n",
       "    </tr>\n",
       "    <tr>\n",
       "      <th>date</th>\n",
       "      <th></th>\n",
       "      <th></th>\n",
       "      <th></th>\n",
       "      <th></th>\n",
       "      <th></th>\n",
       "      <th></th>\n",
       "      <th></th>\n",
       "      <th></th>\n",
       "      <th></th>\n",
       "      <th></th>\n",
       "      <th></th>\n",
       "      <th></th>\n",
       "      <th></th>\n",
       "      <th></th>\n",
       "      <th></th>\n",
       "      <th></th>\n",
       "      <th></th>\n",
       "      <th></th>\n",
       "      <th></th>\n",
       "      <th></th>\n",
       "      <th></th>\n",
       "    </tr>\n",
       "  </thead>\n",
       "  <tbody>\n",
       "    <tr>\n",
       "      <th>2021-03-31</th>\n",
       "      <td>13350</td>\n",
       "      <td>13350</td>\n",
       "      <td>13100</td>\n",
       "      <td>13100</td>\n",
       "      <td>103171</td>\n",
       "      <td>-0.01504</td>\n",
       "      <td>238490</td>\n",
       "      <td>힘스</td>\n",
       "      <td>0.99803</td>\n",
       "      <td>0.98496</td>\n",
       "      <td>...</td>\n",
       "      <td>1.04198</td>\n",
       "      <td>1.00000</td>\n",
       "      <td>1.04198</td>\n",
       "      <td>1.01527</td>\n",
       "      <td>1.05344</td>\n",
       "      <td>1.02290</td>\n",
       "      <td>1.06107</td>\n",
       "      <td>1.03053</td>\n",
       "      <td>1.06489</td>\n",
       "      <td>1.03053</td>\n",
       "    </tr>\n",
       "    <tr>\n",
       "      <th>2021-04-01</th>\n",
       "      <td>13100</td>\n",
       "      <td>13650</td>\n",
       "      <td>13100</td>\n",
       "      <td>13400</td>\n",
       "      <td>194185</td>\n",
       "      <td>0.02290</td>\n",
       "      <td>238490</td>\n",
       "      <td>힘스</td>\n",
       "      <td>1.01005</td>\n",
       "      <td>1.02290</td>\n",
       "      <td>...</td>\n",
       "      <td>1.01866</td>\n",
       "      <td>0.99254</td>\n",
       "      <td>1.02985</td>\n",
       "      <td>1.00000</td>\n",
       "      <td>1.03731</td>\n",
       "      <td>1.00746</td>\n",
       "      <td>1.04104</td>\n",
       "      <td>1.00746</td>\n",
       "      <td>1.04851</td>\n",
       "      <td>1.02612</td>\n",
       "    </tr>\n",
       "    <tr>\n",
       "      <th>2021-04-02</th>\n",
       "      <td>13500</td>\n",
       "      <td>13650</td>\n",
       "      <td>13300</td>\n",
       "      <td>13500</td>\n",
       "      <td>136673</td>\n",
       "      <td>0.00746</td>\n",
       "      <td>238490</td>\n",
       "      <td>힘스</td>\n",
       "      <td>1.00446</td>\n",
       "      <td>1.00746</td>\n",
       "      <td>...</td>\n",
       "      <td>1.02222</td>\n",
       "      <td>0.99259</td>\n",
       "      <td>1.02963</td>\n",
       "      <td>1.00000</td>\n",
       "      <td>1.03333</td>\n",
       "      <td>1.00000</td>\n",
       "      <td>1.04074</td>\n",
       "      <td>1.01852</td>\n",
       "      <td>1.02963</td>\n",
       "      <td>1.01481</td>\n",
       "    </tr>\n",
       "    <tr>\n",
       "      <th>2021-04-05</th>\n",
       "      <td>13600</td>\n",
       "      <td>13800</td>\n",
       "      <td>13400</td>\n",
       "      <td>13700</td>\n",
       "      <td>219062</td>\n",
       "      <td>0.01481</td>\n",
       "      <td>238490</td>\n",
       "      <td>힘스</td>\n",
       "      <td>0.99967</td>\n",
       "      <td>1.01481</td>\n",
       "      <td>...</td>\n",
       "      <td>1.01460</td>\n",
       "      <td>0.98540</td>\n",
       "      <td>1.01825</td>\n",
       "      <td>0.98540</td>\n",
       "      <td>1.02555</td>\n",
       "      <td>1.00365</td>\n",
       "      <td>1.01460</td>\n",
       "      <td>1.00000</td>\n",
       "      <td>1.01095</td>\n",
       "      <td>0.98905</td>\n",
       "    </tr>\n",
       "    <tr>\n",
       "      <th>2021-04-06</th>\n",
       "      <td>13800</td>\n",
       "      <td>13900</td>\n",
       "      <td>13500</td>\n",
       "      <td>13650</td>\n",
       "      <td>135914</td>\n",
       "      <td>-0.00365</td>\n",
       "      <td>238490</td>\n",
       "      <td>힘스</td>\n",
       "      <td>0.99882</td>\n",
       "      <td>0.99635</td>\n",
       "      <td>...</td>\n",
       "      <td>1.02198</td>\n",
       "      <td>0.98901</td>\n",
       "      <td>1.02930</td>\n",
       "      <td>1.00733</td>\n",
       "      <td>1.01832</td>\n",
       "      <td>1.00366</td>\n",
       "      <td>1.01465</td>\n",
       "      <td>0.99267</td>\n",
       "      <td>1.00733</td>\n",
       "      <td>0.99634</td>\n",
       "    </tr>\n",
       "  </tbody>\n",
       "</table>\n",
       "<p>5 rows × 28 columns</p>\n",
       "</div>"
      ],
      "text/plain": [
       "             open   high    low  close  volume   change    code name  \\\n",
       "date                                                                   \n",
       "2021-03-31  13350  13350  13100  13100  103171 -0.01504  238490   힘스   \n",
       "2021-04-01  13100  13650  13100  13400  194185  0.02290  238490   힘스   \n",
       "2021-04-02  13500  13650  13300  13500  136673  0.00746  238490   힘스   \n",
       "2021-04-05  13600  13800  13400  13700  219062  0.01481  238490   힘스   \n",
       "2021-04-06  13800  13900  13500  13650  135914 -0.00365  238490   힘스   \n",
       "\n",
       "            kosdaq_return  return  ...  high_r1  low_r1  high_r2  low_r2  \\\n",
       "date                               ...                                     \n",
       "2021-03-31        0.99803 0.98496  ...  1.04198 1.00000  1.04198 1.01527   \n",
       "2021-04-01        1.01005 1.02290  ...  1.01866 0.99254  1.02985 1.00000   \n",
       "2021-04-02        1.00446 1.00746  ...  1.02222 0.99259  1.02963 1.00000   \n",
       "2021-04-05        0.99967 1.01481  ...  1.01460 0.98540  1.01825 0.98540   \n",
       "2021-04-06        0.99882 0.99635  ...  1.02198 0.98901  1.02930 1.00733   \n",
       "\n",
       "            high_r3  low_r3  high_r4  low_r4  high_r5  low_r5  \n",
       "date                                                           \n",
       "2021-03-31  1.05344 1.02290  1.06107 1.03053  1.06489 1.03053  \n",
       "2021-04-01  1.03731 1.00746  1.04104 1.00746  1.04851 1.02612  \n",
       "2021-04-02  1.03333 1.00000  1.04074 1.01852  1.02963 1.01481  \n",
       "2021-04-05  1.02555 1.00365  1.01460 1.00000  1.01095 0.98905  \n",
       "2021-04-06  1.01832 1.00366  1.01465 0.99267  1.00733 0.99634  \n",
       "\n",
       "[5 rows x 28 columns]"
      ]
     },
     "execution_count": 6,
     "metadata": {},
     "output_type": "execute_result"
    }
   ],
   "source": [
    "kosdaq_list = pd.read_pickle('kosdaq_list.pkl')\n",
    "\n",
    "data_all_6 = pd.DataFrame()\n",
    "\n",
    "for code in kosdaq_list['code']:\n",
    "    \n",
    "    # 종목별 처리\n",
    "    data = mdl_data[mdl_data['code']==code].sort_index().copy()\n",
    "    \n",
    "    # 과거 60일 win_market 누적 합\n",
    "    data['win_market_sum'] = data['win_market'].rolling(60).sum() \n",
    "    \n",
    "        # 고가, 저가, 종가 수익율\n",
    "    for i in [1,2,3,4,5]:\n",
    "\n",
    "        data['high_r' + str(i)] = data['high'].shift(-1*i)/data['close']      \n",
    "        data['low_r' + str(i)] = data['low'].shift(-1*i)/data['close']   \n",
    "        data['close_r' + str(i)] = data['close'].shift(-1*i)/data['close']    \n",
    "        \n",
    "    data['max_close']  = data[['close_r1','close_r2','close_r3','close_r4','close_r5']].max(axis=1) # 5 영업일 종가 수익율 중 최고 값\n",
    "    data.dropna(subset=['win_market_sum','close_r1','close_r2','close_r3','close_r4','close_r5'], inplace=True) # missing 이 있는 행은 제거   \n",
    " \n",
    "    data_all_6 = pd.concat([data, data_all_6], axis=0)\n",
    "\n",
    "data_all_6.to_pickle('data_all_6.pkl')    \n",
    "data_all_6.head()    "
   ]
  },
  {
   "cell_type": "code",
   "execution_count": 7,
   "metadata": {},
   "outputs": [
    {
     "name": "stdout",
     "output_type": "stream",
     "text": [
      "win_market_sum\n",
      "(-0.001, 4.0]   1.02213\n",
      "(4.0, 5.0]      1.03136\n",
      "(5.0, 6.0]      1.03094\n",
      "(6.0, 7.0]      1.03165\n",
      "(7.0, 8.0]      1.03202\n",
      "(8.0, 9.0]      1.03370\n",
      "(9.0, 11.0]     1.03646\n",
      "(11.0, 22.0]    1.03989\n",
      "Name: max_close, dtype: float64\n"
     ]
    }
   ],
   "source": [
    "data_all_6 = pd.read_pickle('data_all_6.pkl')    \n",
    "ranks = pd.qcut(data_all_6['win_market_sum'], q=8)\n",
    "print(data_all_6.groupby(ranks)['max_close'].mean())"
   ]
  },
  {
   "cell_type": "code",
   "execution_count": 8,
   "metadata": {},
   "outputs": [
    {
     "data": {
      "text/plain": [
       "<AxesSubplot:xlabel='win_market_sum'>"
      ]
     },
     "execution_count": 8,
     "metadata": {},
     "output_type": "execute_result"
    },
    {
     "data": {
      "image/png": "[encoded data removed]",
      "text/plain": [
       "<Figure size 864x360 with 1 Axes>"
      ]
     },
     "metadata": {
      "needs_background": "light"
     },
     "output_type": "display_data"
    }
   ],
   "source": [
    "data_all_6.groupby(ranks)['max_close'].mean().plot(figsize=(12,5))"
   ]
  },
  {
   "cell_type": "markdown",
   "metadata": {},
   "source": [
    "### <br>메수 전략 2 - 섹터 평균 수익율보다 더 높은 수익율을 보인 종목을 매수\n",
    "kosdaq_list 에 있는 종목별 섹터 정보를 이용하겠습니다. 우선, 종목별 최근 60일 평균 수익율을 rolling 함수를 이용하여 으로 계산합니다. for Loop 을 이용하여 종목에 섹터 정보를 추가합니다. \n"
   ]
  },
  {
   "cell_type": "code",
   "execution_count": 11,
   "metadata": {},
   "outputs": [],
   "source": [
    "kosdaq_list = pd.read_pickle('kosdaq_list.pkl')\n",
    "\n",
    "data_all_6 = pd.DataFrame()\n",
    "\n",
    "for code, sector in zip(kosdaq_list['code'], kosdaq_list['sector']):\n",
    "    \n",
    "    # 종목별 처리\n",
    "    data = mdl_data[mdl_data['code']==code].sort_index().copy()\n",
    "    data.dropna(inplace=True)\n",
    "    \n",
    "    # 최근 60일 평균 수익율            \n",
    "    data['return_mean'] = data['return'].rolling(60).mean() # 종목별 최근 60 일 수익율의 평균\n",
    "    data['sector'] = sector     \n",
    "  \n",
    "    data.dropna(subset=['return_mean'], inplace=True)    \n",
    "    data_all_6 = pd.concat([data, data_all_6], axis=0)\n",
    "\n",
    "data_all_6.to_pickle('data_all_6.pkl')   "
   ]
  },
  {
   "cell_type": "code",
   "execution_count": 12,
   "metadata": {},
   "outputs": [
    {
     "data": {
      "text/html": [
       "<div>\n",
       "<style scoped>\n",
       "    .dataframe tbody tr th:only-of-type {\n",
       "        vertical-align: middle;\n",
       "    }\n",
       "\n",
       "    .dataframe tbody tr th {\n",
       "        vertical-align: top;\n",
       "    }\n",
       "\n",
       "    .dataframe thead th {\n",
       "        text-align: right;\n",
       "    }\n",
       "</style>\n",
       "<table border=\"1\" class=\"dataframe\">\n",
       "  <thead>\n",
       "    <tr style=\"text-align: right;\">\n",
       "      <th></th>\n",
       "      <th>open</th>\n",
       "      <th>high</th>\n",
       "      <th>low</th>\n",
       "      <th>close</th>\n",
       "      <th>volume</th>\n",
       "      <th>change</th>\n",
       "      <th>code</th>\n",
       "      <th>name</th>\n",
       "      <th>kosdaq_return</th>\n",
       "      <th>return</th>\n",
       "      <th>win_market</th>\n",
       "      <th>close_r1</th>\n",
       "      <th>close_r2</th>\n",
       "      <th>close_r3</th>\n",
       "      <th>close_r4</th>\n",
       "      <th>close_r5</th>\n",
       "      <th>max_close</th>\n",
       "      <th>return_mean</th>\n",
       "      <th>sector</th>\n",
       "    </tr>\n",
       "    <tr>\n",
       "      <th>date</th>\n",
       "      <th></th>\n",
       "      <th></th>\n",
       "      <th></th>\n",
       "      <th></th>\n",
       "      <th></th>\n",
       "      <th></th>\n",
       "      <th></th>\n",
       "      <th></th>\n",
       "      <th></th>\n",
       "      <th></th>\n",
       "      <th></th>\n",
       "      <th></th>\n",
       "      <th></th>\n",
       "      <th></th>\n",
       "      <th></th>\n",
       "      <th></th>\n",
       "      <th></th>\n",
       "      <th></th>\n",
       "      <th></th>\n",
       "    </tr>\n",
       "  </thead>\n",
       "  <tbody>\n",
       "    <tr>\n",
       "      <th>2021-04-01</th>\n",
       "      <td>13100</td>\n",
       "      <td>13650</td>\n",
       "      <td>13100</td>\n",
       "      <td>13400</td>\n",
       "      <td>194185</td>\n",
       "      <td>0.02290</td>\n",
       "      <td>238490</td>\n",
       "      <td>힘스</td>\n",
       "      <td>1.01005</td>\n",
       "      <td>1.02290</td>\n",
       "      <td>0</td>\n",
       "      <td>1.00746</td>\n",
       "      <td>1.02239</td>\n",
       "      <td>1.01866</td>\n",
       "      <td>1.04104</td>\n",
       "      <td>1.02612</td>\n",
       "      <td>1.04104</td>\n",
       "      <td>1.00075</td>\n",
       "      <td>특수 목적용 기계 제조업</td>\n",
       "    </tr>\n",
       "    <tr>\n",
       "      <th>2021-04-02</th>\n",
       "      <td>13500</td>\n",
       "      <td>13650</td>\n",
       "      <td>13300</td>\n",
       "      <td>13500</td>\n",
       "      <td>136673</td>\n",
       "      <td>0.00746</td>\n",
       "      <td>238490</td>\n",
       "      <td>힘스</td>\n",
       "      <td>1.00446</td>\n",
       "      <td>1.00746</td>\n",
       "      <td>0</td>\n",
       "      <td>1.01481</td>\n",
       "      <td>1.01111</td>\n",
       "      <td>1.03333</td>\n",
       "      <td>1.01852</td>\n",
       "      <td>1.02222</td>\n",
       "      <td>1.03333</td>\n",
       "      <td>1.00107</td>\n",
       "      <td>특수 목적용 기계 제조업</td>\n",
       "    </tr>\n",
       "    <tr>\n",
       "      <th>2021-04-05</th>\n",
       "      <td>13600</td>\n",
       "      <td>13800</td>\n",
       "      <td>13400</td>\n",
       "      <td>13700</td>\n",
       "      <td>219062</td>\n",
       "      <td>0.01481</td>\n",
       "      <td>238490</td>\n",
       "      <td>힘스</td>\n",
       "      <td>0.99967</td>\n",
       "      <td>1.01481</td>\n",
       "      <td>1</td>\n",
       "      <td>0.99635</td>\n",
       "      <td>1.01825</td>\n",
       "      <td>1.00365</td>\n",
       "      <td>1.00730</td>\n",
       "      <td>0.99270</td>\n",
       "      <td>1.01825</td>\n",
       "      <td>1.00106</td>\n",
       "      <td>특수 목적용 기계 제조업</td>\n",
       "    </tr>\n",
       "    <tr>\n",
       "      <th>2021-04-06</th>\n",
       "      <td>13800</td>\n",
       "      <td>13900</td>\n",
       "      <td>13500</td>\n",
       "      <td>13650</td>\n",
       "      <td>135914</td>\n",
       "      <td>-0.00365</td>\n",
       "      <td>238490</td>\n",
       "      <td>힘스</td>\n",
       "      <td>0.99882</td>\n",
       "      <td>0.99635</td>\n",
       "      <td>0</td>\n",
       "      <td>1.02198</td>\n",
       "      <td>1.00733</td>\n",
       "      <td>1.01099</td>\n",
       "      <td>0.99634</td>\n",
       "      <td>1.00366</td>\n",
       "      <td>1.02198</td>\n",
       "      <td>1.00100</td>\n",
       "      <td>특수 목적용 기계 제조업</td>\n",
       "    </tr>\n",
       "    <tr>\n",
       "      <th>2021-04-07</th>\n",
       "      <td>13700</td>\n",
       "      <td>13950</td>\n",
       "      <td>13500</td>\n",
       "      <td>13950</td>\n",
       "      <td>195408</td>\n",
       "      <td>0.02198</td>\n",
       "      <td>238490</td>\n",
       "      <td>힘스</td>\n",
       "      <td>1.00474</td>\n",
       "      <td>1.02198</td>\n",
       "      <td>0</td>\n",
       "      <td>0.98566</td>\n",
       "      <td>0.98925</td>\n",
       "      <td>0.97491</td>\n",
       "      <td>0.98208</td>\n",
       "      <td>1.01792</td>\n",
       "      <td>1.01792</td>\n",
       "      <td>1.00156</td>\n",
       "      <td>특수 목적용 기계 제조업</td>\n",
       "    </tr>\n",
       "  </tbody>\n",
       "</table>\n",
       "</div>"
      ],
      "text/plain": [
       "             open   high    low  close  volume   change    code name  \\\n",
       "date                                                                   \n",
       "2021-04-01  13100  13650  13100  13400  194185  0.02290  238490   힘스   \n",
       "2021-04-02  13500  13650  13300  13500  136673  0.00746  238490   힘스   \n",
       "2021-04-05  13600  13800  13400  13700  219062  0.01481  238490   힘스   \n",
       "2021-04-06  13800  13900  13500  13650  135914 -0.00365  238490   힘스   \n",
       "2021-04-07  13700  13950  13500  13950  195408  0.02198  238490   힘스   \n",
       "\n",
       "            kosdaq_return  return  win_market  close_r1  close_r2  close_r3  \\\n",
       "date                                                                          \n",
       "2021-04-01        1.01005 1.02290           0   1.00746   1.02239   1.01866   \n",
       "2021-04-02        1.00446 1.00746           0   1.01481   1.01111   1.03333   \n",
       "2021-04-05        0.99967 1.01481           1   0.99635   1.01825   1.00365   \n",
       "2021-04-06        0.99882 0.99635           0   1.02198   1.00733   1.01099   \n",
       "2021-04-07        1.00474 1.02198           0   0.98566   0.98925   0.97491   \n",
       "\n",
       "            close_r4  close_r5  max_close  return_mean         sector  \n",
       "date                                                                   \n",
       "2021-04-01   1.04104   1.02612    1.04104      1.00075  특수 목적용 기계 제조업  \n",
       "2021-04-02   1.01852   1.02222    1.03333      1.00107  특수 목적용 기계 제조업  \n",
       "2021-04-05   1.00730   0.99270    1.01825      1.00106  특수 목적용 기계 제조업  \n",
       "2021-04-06   0.99634   1.00366    1.02198      1.00100  특수 목적용 기계 제조업  \n",
       "2021-04-07   0.98208   1.01792    1.01792      1.00156  특수 목적용 기계 제조업  "
      ]
     },
     "execution_count": 12,
     "metadata": {},
     "output_type": "execute_result"
    }
   ],
   "source": [
    "data_all_6 = pd.read_pickle('data_all_6.pkl') \n",
    "data_all_6.head()"
   ]
  },
  {
   "cell_type": "markdown",
   "metadata": {},
   "source": [
    "최근 60 일 평균수익율 정보를 섹터 별, 일 별로 요약한 값을 추가합니다. 이때 apply 대신 Transform 함수가 이용되었습니다. apply 는 그룹의 숫자 만큼 행을 리턴하나, transform 은 그룹핑 하기 전의 행 수 를 리턴합니다. 그 값을 'return over sector' 라는 변수에 저장합니다."
   ]
  },
  {
   "cell_type": "code",
   "execution_count": 13,
   "metadata": {},
   "outputs": [],
   "source": [
    "data_all_6['sector_return'] = data_all_6.groupby(['sector', data_all_6.index])['return'].transform(lambda x: x.mean())\n",
    "data_all_6['return over sector'] = (data_all_6['return']/data_all_6['sector_return'])"
   ]
  },
  {
   "cell_type": "markdown",
   "metadata": {},
   "source": [
    "결과를 보니, 섹터를 이용하여 종목을 선정할 때는 섹터 평균 수익율보다 많이 높거나, 많이 낮는 종목을 선정하는 것이 수익율이 좋게 나왔습니다. 섹터 평균 수익율 대비 종목 수익율은 미래 수익율 예측에 도움이 되는 정보입니다."
   ]
  },
  {
   "cell_type": "code",
   "execution_count": 14,
   "metadata": {},
   "outputs": [
    {
     "name": "stdout",
     "output_type": "stream",
     "text": [
      "                        count  mean   std   min    1%   50%   99%   max\n",
      "return over sector                                                     \n",
      "(0.378, 0.974]     34,389.000 1.041 0.085 0.700 0.920 1.022 1.383 2.968\n",
      "(0.974, 0.984]     34,388.000 1.034 0.067 0.702 0.946 1.018 1.303 2.171\n",
      "(0.984, 0.99]      34,388.000 1.030 0.061 0.700 0.949 1.016 1.277 2.330\n",
      "(0.99, 0.994]      34,388.000 1.028 0.059 0.701 0.952 1.014 1.264 2.269\n",
      "(0.994, 0.999]     34,388.000 1.027 0.058 0.708 0.954 1.013 1.257 2.729\n",
      "(0.999, 1.002]     34,388.000 1.029 0.066 0.700 0.949 1.013 1.294 3.701\n",
      "(1.002, 1.007]     34,388.000 1.027 0.059 0.700 0.951 1.012 1.254 3.027\n",
      "(1.007, 1.013]     34,390.000 1.028 0.062 0.700 0.949 1.013 1.274 3.380\n",
      "(1.013, 1.026]     34,386.000 1.031 0.067 0.326 0.944 1.014 1.306 2.412\n",
      "(1.026, 1.399]     34,389.000 1.042 0.103 0.700 0.910 1.019 1.419 3.703\n"
     ]
    }
   ],
   "source": [
    "pd.options.display.float_format = '{:,.3f}'.format\n",
    "ranks = pd.qcut(data_all_6['return over sector'], q=10)\n",
    "print(data_all_6.groupby(ranks)['max_close'].describe(percentiles=[0.01, 0.99]))"
   ]
  },
  {
   "cell_type": "code",
   "execution_count": 426,
   "metadata": {},
   "outputs": [
    {
     "data": {
      "text/plain": [
       "<AxesSubplot:xlabel='return over sector'>"
      ]
     },
     "execution_count": 426,
     "metadata": {},
     "output_type": "execute_result"
    },
    {
     "data": {
      "image/png": "[encoded data removed]",
      "text/plain": [
       "<Figure size 864x360 with 1 Axes>"
      ]
     },
     "metadata": {
      "needs_background": "light"
     },
     "output_type": "display_data"
    }
   ],
   "source": [
    "data_all_6.groupby(ranks)['max_close'].mean().plot(figsize=(12,5))"
   ]
  },
  {
   "cell_type": "markdown",
   "metadata": {},
   "source": [
    "한 섹터에 최소 10 개 이상의 종목이 있어야 섹터의 평균 수익율이 의미가 있을 것 같습니다. 10개 이상의 종목이 있는 섹터만을 매수 대상으로 해서 다시 수익율을 계산해봅니다. 같은 결과를 얻었습니다. 섹터의 평균 수익율보다 아주 낮거나 높은 종목의 수익율의 상승이 높았습니다."
   ]
  },
  {
   "cell_type": "code",
   "execution_count": 15,
   "metadata": {},
   "outputs": [
    {
     "name": "stdout",
     "output_type": "stream",
     "text": [
      "                        count  mean   std   min    1%   50%   99%   max\n",
      "return over sector                                                     \n",
      "(0.688, 0.973]     26,935.000 1.042 0.087 0.700 0.918 1.022 1.388 2.968\n",
      "(0.973, 0.983]     26,935.000 1.034 0.067 0.702 0.944 1.018 1.299 2.171\n",
      "(0.983, 0.989]     26,934.000 1.030 0.060 0.704 0.948 1.016 1.270 2.286\n",
      "(0.989, 0.994]     26,935.000 1.028 0.060 0.700 0.952 1.014 1.268 2.194\n",
      "(0.994, 0.998]     26,934.000 1.027 0.058 0.819 0.954 1.013 1.255 2.729\n",
      "(0.998, 1.002]     26,935.000 1.026 0.059 0.700 0.954 1.012 1.258 2.652\n",
      "(1.002, 1.007]     26,934.000 1.027 0.062 0.700 0.950 1.012 1.257 3.027\n",
      "(1.007, 1.014]     26,935.000 1.028 0.062 0.700 0.949 1.013 1.284 3.380\n",
      "(1.014, 1.027]     26,934.000 1.031 0.068 0.700 0.943 1.014 1.313 2.412\n",
      "(1.027, 1.399]     26,935.000 1.043 0.105 0.700 0.909 1.019 1.423 3.703\n"
     ]
    },
    {
     "data": {
      "text/plain": [
       "<AxesSubplot:xlabel='return over sector'>"
      ]
     },
     "execution_count": 15,
     "metadata": {},
     "output_type": "execute_result"
    },
    {
     "data": {
      "image/png": "[encoded data removed]",
      "text/plain": [
       "<Figure size 864x360 with 1 Axes>"
      ]
     },
     "metadata": {
      "needs_background": "light"
     },
     "output_type": "display_data"
    }
   ],
   "source": [
    "sector_count = data_all_6.groupby('sector')['code'].nunique().sort_values()\n",
    "data_all_6x = data_all_6[data_all_6['sector'].isin(sector_count[sector_count>=10].index)]\n",
    "ranks = pd.qcut(data_all_6x['return over sector'], q=10)\n",
    "print(data_all_6x.groupby(ranks)['max_close'].describe(percentiles=[0.01, 0.99]))\n",
    "data_all_6x.groupby(ranks)['max_close'].mean().plot(figsize=(12,5))"
   ]
  }
 ],
 "metadata": {
  "kernelspec": {
   "display_name": "Python 3 (ipykernel)",
   "language": "python",
   "name": "python3"
  },
  "language_info": {
   "codemirror_mode": {
    "name": "ipython",
    "version": 3
   },
   "file_extension": ".py",
   "mimetype": "text/x-python",
   "name": "python",
   "nbconvert_exporter": "python",
   "pygments_lexer": "ipython3",
   "version": "3.9.7"
  },
  "toc-showmarkdowntxt": true
 },
 "nbformat": 4,
 "nbformat_minor": 4
}
