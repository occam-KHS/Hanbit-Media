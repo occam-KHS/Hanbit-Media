{
 "cells": [
  {
   "cell_type": "code",
   "execution_count": 2,
   "id": "fd61fb77-cd0d-4859-8398-484da8eac680",
   "metadata": {},
   "outputs": [],
   "source": [
    "import FinanceDataReader as fdr\n",
    "%matplotlib inline\n",
    "import matplotlib.pyplot as plt\n",
    "import pandas as pd\n",
    "import numpy as np\n",
    "import warnings\n",
    "warnings.filterwarnings('ignore')\n",
    "pd.options.display.float_format = '{:,.3f}'.format"
   ]
  },
  {
   "cell_type": "markdown",
   "id": "d3b8b8e5-5bf6-42e1-be7b-c0f7086dc540",
   "metadata": {},
   "source": [
    "### **모델링 라이브러리 소개**"
   ]
  },
  {
   "cell_type": "markdown",
   "id": "717d3496-5c59-4f20-8660-764d7e56c767",
   "metadata": {},
   "source": [
    "이번절에서는 Statsmodel 과 Scikit-Learn 라이브러리가 모델 개발에 어떻게 활용되는지 경험해 보는 시간입니다.\n",
    "\n",
    "모델링을 위해 준비한 데이터를 읽습니다. 그리고 모델의 오버피팅을 최소화하기 위하여 타겟변수를 0 과 1 로 치환합니다. 예를 들어, 5% 익절의 데이터 표현은 - 'max_close' 가 5% 이상일 때 1, 아니면 0 이 됩니다. 'max_close' 가 1 인 비율을 보니, 약 24% 입니다. 5000 개 샘플을 뽑아 예측모델을 만들고 나머지로 데이터로 테스트(혹은 백테스팅)를 하겠습니다. "
   ]
  },
  {
   "cell_type": "code",
   "execution_count": 3,
   "id": "fe9081ae-5bd2-4b5b-ad57-df54722bc02e",
   "metadata": {},
   "outputs": [
    {
     "name": "stdout",
     "output_type": "stream",
     "text": [
      "% of target: 24.2%\n"
     ]
    }
   ],
   "source": [
    "feature_all = pd.read_pickle('feature_all.pkl') \n",
    "feature_all['target'] = np.where(feature_all['max_close']>= 1.05, 1, 0)\n",
    "target = feature_all['target'].mean()\n",
    "print(f'% of target:{target: 5.1%}')"
   ]
  },
  {
   "cell_type": "code",
   "execution_count": 4,
   "id": "571f5710-393b-441e-979a-9eb9060c994b",
   "metadata": {},
   "outputs": [],
   "source": [
    "mdl_all = feature_all.drop(columns=['max_close', 'sector']).set_index([feature_all.index,'code'])\n",
    "\n",
    "train = mdl_all.sample(5000, random_state=124)\n",
    "test = mdl_all.loc[~mdl_all.index.isin(train.index)]"
   ]
  },
  {
   "cell_type": "markdown",
   "id": "5e7139e5-cfbb-4aef-aeee-987e08de3da1",
   "metadata": {},
   "source": [
    "### Statsmodels - Logistic Regression   \n",
    "아래 코드는 Statsmodels 라이브러리에 대한 이해가 목적입니다. Statsmodels 는 전통적인 통계모델을 구현하는데 주로 활용하는데요. 통계모델의 장점은 변수의 해석이 가능하다는 것입니다. 아래 코드는 랜덤해게 뽑은 5천개의 샘플로 모델을 만들고, 나머지 데이터로 모델 성능을 테스트하는 과정입니다. 모델 개발은 여기서부터 시작입니다.  결과를 보면 P Value(P>|z|) 가 0.01(유의수준) 보다 큰 변수가 많은데요. P Value(P>|z|) 가 유의수준보다 크다는 이야기는 coefficient 가 0 일 가능성이 높다는 말이고, Coefficient 가 0 이라는 말은 예측에 도움을 안 준다는 말입니다. 이런 변수들은 적절한 변형을 통하여 유의미하게 만들거나 제거해야 합니다. 가장 대표적인 방법이 Binning 입니다. 이 절은 라이브러리를 소개하는 것이 목적이라, 모델 완성을 위한 나머지 과정은 생략하도록 하겠습니다. 제가 통계모델의 장점으로 해석을 언급했는데요. 아직 모델이 완성되지 않았지만, 변수 'volume_z' 를 해석해 보도록 하겠습니다. 'volume_z' 는 과거 20일대비 당일 거래량이 얼마나 많은 지를 의미하는 변수입니다. 'volume_z' 가 1 증가하면 log(odds) 는 그 변수의 계수 0.1854 만큼 증가하게 됩니다. 즉, odds 는 exp(0.1854) 증가하게 됩니다. 풀어서 이야기하면, 전일 20일 대비 당일 거래량 표준화 값 z 가  1 증가할 때마다, 5% 로 익절할 odds(=p/1-p)는 exp(0.1854) 증가한다고 말할 수 있습니다. \n",
    "\n",
    "모델을 완성하기까지 필요한 나머지 절차는 아래와 같습니다.\n",
    "1. 각 설명변수와 타겟변수와 관계를 분석합니다 (변수가 상호작용 여부 체크)\n",
    "2. 선형적인 관계가 없는 변수는 binning 등을 통해 문제를 해결합니다.\n",
    "3. 다중 공선성이 의심되는 변수는 제거하거나 새로운 변수로 대체합니다. (다중 공선성이 높은 모델은 변수의 해석이 부정확함)\n",
    "4. 테스트 데이터셋과 예측성능을 비교합니다 (오버피팅 여부 확인). \n",
    "5. 변수를 해석하고 예측값을 만듭니다."
   ]
  },
  {
   "cell_type": "code",
   "execution_count": 5,
   "id": "fac2df2b-052a-4ebd-a1c1-57e5763a0e03",
   "metadata": {},
   "outputs": [
    {
     "name": "stdout",
     "output_type": "stream",
     "text": [
      "Optimization terminated successfully.\n",
      "         Current function value: 0.543207\n",
      "         Iterations 6\n",
      "                           Logit Regression Results                           \n",
      "==============================================================================\n",
      "Dep. Variable:                 target   No. Observations:                 5000\n",
      "Model:                          Logit   Df Residuals:                     4991\n",
      "Method:                           MLE   Df Model:                            8\n",
      "Date:                Sat, 21 May 2022   Pseudo R-squ.:                 0.01305\n",
      "Time:                        22:30:50   Log-Likelihood:                -2716.0\n",
      "converged:                       True   LL-Null:                       -2751.9\n",
      "Covariance Type:            nonrobust   LLR p-value:                 2.151e-12\n",
      "======================================================================================\n",
      "                         coef    std err          z      P>|z|      [0.025      0.975]\n",
      "--------------------------------------------------------------------------------------\n",
      "const                -34.5770      9.732     -3.553      0.000     -53.651     -15.503\n",
      "price_z               -0.1423      0.029     -4.845      0.000      -0.200      -0.085\n",
      "volume_z               0.1854      0.032      5.771      0.000       0.122       0.248\n",
      "num_high/close         0.0716      0.085      0.838      0.402      -0.096       0.239\n",
      "num_long              -0.3276      0.257     -1.275      0.202      -0.831       0.176\n",
      "num_z>1.96             0.0183      0.018      0.991      0.321      -0.018       0.055\n",
      "num_win_market         0.0192      0.014      1.417      0.156      -0.007       0.046\n",
      "pct_win_market        33.2812      9.737      3.418      0.001      14.198      52.365\n",
      "return over sector    -0.0937      1.093     -0.086      0.932      -2.236       2.049\n",
      "======================================================================================\n"
     ]
    }
   ],
   "source": [
    "import statsmodels.api as sm\n",
    "\n",
    "X = train.drop(columns='target')\n",
    "y = train['target']\n",
    "\n",
    "X = sm.add_constant(X)\n",
    "model = sm.Logit(y, X)\n",
    "results = model.fit()\n",
    "print(results.summary())\n",
    "yhat = results.predict(X)\n",
    "yhat = pd.Series(yhat, name='yhat')\n",
    "\n",
    "X_test = test.drop(columns='target')\n",
    "y_test = test['target']\n",
    "X_test = sm.add_constant(X_test)\n",
    "yhat_test = results.predict(X_test)\n",
    "yhat_test = pd.Series(yhat_test, name='yhat')"
   ]
  },
  {
   "cell_type": "markdown",
   "id": "78e52147-5e5d-4e54-afb3-b0a1fea91337",
   "metadata": {},
   "source": [
    "<br> 개발 데이터가 아니라, 테스트데이터에서도 좋은 성능을 보이는지 확인해봅니다. 쉽게 확인하는 방법은 Decile 분석입니다. 예측값의 변별력을 알기 위해서 정렬된 예측값을 10 개 구간으로 나누고, 각 구간에서 'target'의 평균값을 찍어봅니다. 모델이 예측력이 좋다면, 예측값의 십분위 수가 증가하면 5%로 익절할 확률도 같이 증가하는 형태를 보이게 됩니다. 아래 결과에서 완성되지 않은 모델이지만 단조증가하는 좋은 흐름을 보여주고 있습니다. 테스트 결과에서 제 1 십분위수(첫 번째 구간) 에서 종목을 선택한다면 19.7% 로 익절할 확률이 있지만, 제 10 분위수(마지막 구간)에서 종목을 선택한다면 34.9% 로 익절할 확률이 생깁니다. "
   ]
  },
  {
   "cell_type": "code",
   "execution_count": 6,
   "id": "b48c6ada-afa5-4c3d-af25-9daf49f0d308",
   "metadata": {},
   "outputs": [
    {
     "name": "stdout",
     "output_type": "stream",
     "text": [
      "                count  mean\n",
      "yhat                       \n",
      "(0.121, 0.184]    500 0.190\n",
      "(0.184, 0.198]    500 0.192\n",
      "(0.198, 0.211]    500 0.182\n",
      "(0.211, 0.221]    500 0.216\n",
      "(0.221, 0.232]    500 0.210\n",
      "(0.232, 0.242]    500 0.238\n",
      "(0.242, 0.254]    500 0.258\n",
      "(0.254, 0.271]    500 0.252\n",
      "(0.271, 0.301]    500 0.286\n",
      "(0.301, 0.664]    500 0.370\n",
      "                count  mean\n",
      "yhat                       \n",
      "(0.104, 0.185]  29755 0.197\n",
      "(0.185, 0.199]  29754 0.199\n",
      "(0.199, 0.21]   29754 0.209\n",
      "(0.21, 0.22]    29755 0.211\n",
      "(0.22, 0.23]    29754 0.221\n",
      "(0.23, 0.241]   29754 0.228\n",
      "(0.241, 0.254]  29755 0.243\n",
      "(0.254, 0.27]   29754 0.264\n",
      "(0.27, 0.298]   29754 0.296\n",
      "(0.298, 0.745]  29755 0.348\n"
     ]
    },
    {
     "data": {
      "image/png": "[encoded data removed]",
      "text/plain": [
       "<Figure size 432x288 with 1 Axes>"
      ]
     },
     "metadata": {
      "needs_background": "light"
     },
     "output_type": "display_data"
    }
   ],
   "source": [
    "def perf(y, yhat): # Decile 분석 함수\n",
    "    combined = pd.concat([y, yhat], axis=1)\n",
    "    ranks = pd.qcut(combined['yhat'], q=10)\n",
    "    print(combined.groupby(ranks)['target'].agg(['count','mean']))\n",
    "    combined.groupby(ranks)['target'].mean().plot()\n",
    "\n",
    "perf(y, yhat)\n",
    "perf(y_test, yhat_test)"
   ]
  },
  {
   "cell_type": "markdown",
   "id": "73c3a833-b4cd-4a38-a208-2f01d1491296",
   "metadata": {},
   "source": [
    "### SK-Learn - Logistic Regression\n",
    "Scikit-Learn 에서도 Logistic Regression 을 지원합니다. 하지만 계수를 추정하는 방식이 Statsmodels 과는 다른데요. Scikit-Learn Logistic Regression 은 loss 함수를 만들고, 과대적합을 해결하기 위해 penalty term (L1/L2) 도 추가합니다. 이런 방식으로 Penalty Term 이 있는 Loss 함수를 최소화하는 방식을 계수를 찾을 때는 입력 피처의 스케일이 동일해야 의미가 있습니다. 아래 코드에서 입력 피쳐를 Scaling 하는 부분이 반드시 들어가야 합니다. 아래 Test 데이터의 결과가 Train 데이터보다 모델성능이 많이 떨어지는 데요. 즉 overfitting(과대적합)된 상황입니다.\n",
    "\n",
    "SK-Learn 으로 만드는 모델은 절차가 아래와 같습니다.\n",
    "1. 입력 피처 스케일링 (Loss 함수 + Penalty Term 로 훈련하는 모델만 해당)\n",
    "2. 하이퍼파라미터 튜닝 (성능을 최고로 만드는 하이퍼파라미터을 찾기)\n",
    "3. 테스트 데이터셋과 예측성능을 비교합니다 (오버피팅 여부 확인) \n",
    "4. 변수의 중요도 파악과 이해\n",
    "5. 예측값 만들기"
   ]
  },
  {
   "cell_type": "code",
   "execution_count": 264,
   "id": "d9324e5a-117c-4ccc-8051-0197998a8af5",
   "metadata": {},
   "outputs": [],
   "source": [
    "from sklearn.linear_model import LogisticRegression\n",
    "from sklearn.preprocessing import StandardScaler\n",
    "\n",
    "X = train.drop(columns='target')\n",
    "y = train['target']\n",
    "\n",
    "# 입력 피처 표준화\n",
    "scaler = StandardScaler() # 평균이 0 이고 편차가 1 가 되도록 피처 표준화\n",
    "scaler.fit_transform(X)\n",
    "scaler.transform(X_test)\n",
    "\n",
    "lr = LogisticRegression(fit_intercept=True, C=1) # 정해진 하이퍼파라미터를 가진 객체를 생성\n",
    "lr.fit(X, y)\n",
    "yhat = lr.predict_proba(X)[:,1]\n",
    "yhat_test = lr.predict_proba(X_test)[:,1]\n",
    "\n",
    "yhat = pd.Series(yhat, name='yhat', index=y.index) \n",
    "yhat_test = pd.Series(yhat_test, name='yhat', index=y_test.index) "
   ]
  },
  {
   "cell_type": "code",
   "execution_count": 268,
   "id": "af2496fa-6075-466f-854c-2847836fc1fc",
   "metadata": {},
   "outputs": [
    {
     "name": "stdout",
     "output_type": "stream",
     "text": [
      "                count  mean\n",
      "yhat                       \n",
      "(0.146, 0.196]    501 0.108\n",
      "(0.196, 0.207]    499 0.146\n",
      "(0.207, 0.214]    500 0.174\n",
      "(0.214, 0.222]    500 0.224\n",
      "(0.222, 0.23]     500 0.178\n",
      "(0.23, 0.239]     500 0.224\n",
      "(0.239, 0.25]     500 0.248\n",
      "(0.25, 0.268]     500 0.290\n",
      "(0.268, 0.297]    500 0.354\n",
      "(0.297, 0.45]     500 0.448\n",
      "                count  mean\n",
      "yhat                       \n",
      "(0.143, 0.192]  30255 0.164\n",
      "(0.192, 0.206]  30255 0.174\n",
      "(0.206, 0.214]  30260 0.189\n",
      "(0.214, 0.221]  30248 0.201\n",
      "(0.221, 0.229]  30255 0.218\n",
      "(0.229, 0.238]  30253 0.239\n",
      "(0.238, 0.249]  30255 0.260\n",
      "(0.249, 0.266]  30254 0.283\n",
      "(0.266, 0.295]  30254 0.315\n",
      "(0.295, 0.454]  30255 0.370\n"
     ]
    },
    {
     "data": {
      "image/png": "[encoded data removed]",
      "text/plain": [
       "<Figure size 432x288 with 1 Axes>"
      ]
     },
     "metadata": {
      "needs_background": "light"
     },
     "output_type": "display_data"
    }
   ],
   "source": [
    "perf(y, yhat)\n",
    "perf(y_test, yhat_test)\n",
    "plt.show()"
   ]
  },
  {
   "cell_type": "markdown",
   "id": "cc7aecdb-8d40-48be-8fea-e72e8a47f34f",
   "metadata": {},
   "source": [
    "### SK-learn - Random Forerst  \n",
    "Random Forest 는 Scikit-Learn 에서 인기있는 모델인데요. Decision-Tree(의사결정나무)의 문제점을 보완하고자 나온 개념입니다. 모델을 훈련시키기 위한 loss 함수와 Penalty term 이 없기 때문에 피쳐 스케일링이 불필요해서 쉽게 모델을 만들어 볼 수 있습니다.\n",
    "sklearn 의 ensemble(앙상블) 모델군에서 RandomForestClassifier 을 불러옵니다. 그 다음 정해진 하이퍼파라미터(hyperparameter)를 가진 객체를 하나 생성합니다. 여기서 어떤 하이퍼파라미터로 객체를 생성하는가에 따라 모델의 성능이 결정되므로, 하이퍼파라미터 튜닝이라 절차가 필요합니다. 보통 최적의 하이퍼파라미터는 Grid Search 로 찾습니다. 그리고 fit 를 이용해서 데이터를 적용하면 됩니다. 예측값 생성은 predict 함수나 predict_proba 함수로 할 수 있는데요. predict 함수는 0/1 값을 리턴하고, predict_proba 함수는 '0 일 확률'/'1 일 확률'을 리턴합니다. 각 피처의 중요도를 그래프로 파악해보겠습니다."
   ]
  },
  {
   "cell_type": "code",
   "execution_count": 7,
   "id": "f1c7295a-7643-41d9-992d-24ba663c3dc3",
   "metadata": {},
   "outputs": [
    {
     "data": {
      "image/png": "[encoded data removed]",
      "text/plain": [
       "<Figure size 432x288 with 1 Axes>"
      ]
     },
     "metadata": {
      "needs_background": "light"
     },
     "output_type": "display_data"
    }
   ],
   "source": [
    "from sklearn.ensemble import RandomForestClassifier\n",
    "rf = RandomForestClassifier(max_depth=4, min_samples_leaf=30) # 정해진 하이퍼파라미터를 가진 객체를 생성\n",
    "\n",
    "X = train.drop(columns='target')\n",
    "y = train['target']\n",
    "rf.fit(X, y)\n",
    "yhat = rf.predict_proba(X)[:,1] # 첫번째 열은 0일 확률, 두번째 열은 1 일 확률 -> 1 일 확률을 저장\n",
    "yhat = pd.Series(yhat, name='yhat', index=y.index) \n",
    "\n",
    "X_test = test.drop(columns='target')\n",
    "y_test = test['target']\n",
    "yhat_test = rf.predict_proba(X_test)[:,1] # 첫번째 열은 0일 확률, 두번째 열은 1 일 확률 -> 1 일 확률을 저장\n",
    "yhat_test = pd.Series(yhat_test, name='yhat', index=y_test.index) \n",
    "\n",
    "importances = rf.feature_importances_\n",
    "sorted_indices = np.argsort(importances)[::-1]\n",
    "\n",
    "import matplotlib.pyplot as plt\n",
    " \n",
    "plt.title('Feature Importance')\n",
    "plt.bar(range(X.shape[1]), importances[sorted_indices], align='center')\n",
    "plt.xticks(range(X.shape[1]), X.columns[sorted_indices], rotation=90)\n",
    "plt.show()\n"
   ]
  },
  {
   "cell_type": "code",
   "execution_count": 8,
   "id": "f7ff1182-1838-4411-9334-25a828883efb",
   "metadata": {},
   "outputs": [
    {
     "name": "stdout",
     "output_type": "stream",
     "text": [
      "                count  mean\n",
      "yhat                       \n",
      "(0.157, 0.197]    500 0.106\n",
      "(0.197, 0.207]    501 0.140\n",
      "(0.207, 0.216]    499 0.180\n",
      "(0.216, 0.223]    500 0.176\n",
      "(0.223, 0.231]    500 0.218\n",
      "(0.231, 0.239]    501 0.234\n",
      "(0.239, 0.251]    499 0.259\n",
      "(0.251, 0.268]    500 0.260\n",
      "(0.268, 0.298]    500 0.386\n",
      "(0.298, 0.452]    500 0.436\n",
      "                count  mean\n",
      "yhat                       \n",
      "(0.156, 0.193]  29755 0.167\n",
      "(0.193, 0.206]  29758 0.173\n",
      "(0.206, 0.215]  29755 0.190\n",
      "(0.215, 0.222]  29750 0.204\n",
      "(0.222, 0.23]   29754 0.223\n",
      "(0.23, 0.238]   29754 0.238\n",
      "(0.238, 0.249]  29755 0.258\n",
      "(0.249, 0.266]  29754 0.279\n",
      "(0.266, 0.294]  29754 0.313\n",
      "(0.294, 0.459]  29755 0.371\n"
     ]
    },
    {
     "data": {
      "image/png": "[encoded data removed]",
      "text/plain": [
       "<Figure size 432x288 with 1 Axes>"
      ]
     },
     "metadata": {
      "needs_background": "light"
     },
     "output_type": "display_data"
    }
   ],
   "source": [
    "perf(y, yhat)\n",
    "perf(y_test, yhat_test)\n",
    "plt.show()"
   ]
  }
 ],
 "metadata": {
  "kernelspec": {
   "display_name": "Python 3 (ipykernel)",
   "language": "python",
   "name": "python3"
  },
  "language_info": {
   "codemirror_mode": {
    "name": "ipython",
    "version": 3
   },
   "file_extension": ".py",
   "mimetype": "text/x-python",
   "name": "python",
   "nbconvert_exporter": "python",
   "pygments_lexer": "ipython3",
   "version": "3.9.7"
  }
 },
 "nbformat": 4,
 "nbformat_minor": 5
}
