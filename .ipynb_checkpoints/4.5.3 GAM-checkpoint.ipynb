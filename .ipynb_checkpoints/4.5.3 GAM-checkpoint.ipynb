{
 "cells": [
  {
   "cell_type": "code",
   "execution_count": 66,
   "id": "9eaf805d-22ef-4d9e-826b-dec519819fff",
   "metadata": {},
   "outputs": [],
   "source": [
    "import FinanceDataReader as fdr\n",
    "%matplotlib inline\n",
    "import matplotlib.pyplot as plt\n",
    "import pandas as pd\n",
    "import numpy as np\n",
    "import warnings\n",
    "warnings.filterwarnings('ignore')\n",
    "pd.options.display.float_format = '{:,.3f}'.format"
   ]
  },
  {
   "cell_type": "markdown",
   "id": "e50b0c04-04ae-4c62-9c50-e746d1114d30",
   "metadata": {},
   "source": [
    "### **종목 선정 모델 개발**"
   ]
  },
  {
   "cell_type": "markdown",
   "id": "a0230e0c-2861-4b84-ac53-9810c1843962",
   "metadata": {},
   "source": [
    "이번절에서는 책에서 종목선정을 위해 사용할 GAM 모델을 개발하겠습니다. 아나콘다 프롬프트에서 conda install -c conda-forge pygam 로 설치를 해 줍니다. 관련 링크 https://anaconda.org/conda-forge/pygam\n",
    "\n",
    "모델링을 위해 준비한 데이터를 읽습니다. 그리고 모델의 오버피팅을 최소화하기 위하여 타겟변수를 0 과 1 로 치환합니다. 5% 익절은 다음과 같이 데이터로 표현할 수 있습니다. - 'max_close' 가 5% 이상일 때 1, 아니면 0. 파이썬 코드는 아래와 같습니다.\n",
    "```python\n",
    "np.where(feature_all['max_close']>= 1.05, 1, 0)\n",
    "``` \n",
    "타겟 변수 - 'target' 값이 1 인 비율을 보니, 약 24% 입니다. 타겟변수의 비율이 너무 적으면 모델 트레이닝이 어렵습니다. "
   ]
  },
  {
   "cell_type": "code",
   "execution_count": 67,
   "id": "43914ce5-ea0c-40cb-be18-c067381987b5",
   "metadata": {},
   "outputs": [
    {
     "name": "stdout",
     "output_type": "stream",
     "text": [
      "% of target: 24.3%\n"
     ]
    }
   ],
   "source": [
    "feature_all = pd.read_pickle('feature_all.pkl') \n",
    "feature_all['target'] = np.where(feature_all['max_close']>= 1.05, 1, 0)\n",
    "target = feature_all['target'].mean()\n",
    "print(f'% of target:{target: 5.1%}')"
   ]
  },
  {
   "cell_type": "markdown",
   "id": "a39b2e28-574c-439b-9107-3580639abcef",
   "metadata": {},
   "source": [
    "<br> 날짜와 종목은 모델의 입력피처가 아닙니다. 편의를 위해 제거하거나 인덱스로 처리합니다. 모델 트레이닝 용도로 10,000 개 샘플을 뽑아 예측모델을 만들고, 나머지 데이터는 테스트(혹은 백테스팅)를 하겠습니다.  "
   ]
  },
  {
   "cell_type": "code",
   "execution_count": 68,
   "id": "069b37d6-d13b-4a5f-8755-46c74ac203b7",
   "metadata": {},
   "outputs": [
    {
     "name": "stdout",
     "output_type": "stream",
     "text": [
      "5000 325186\n"
     ]
    }
   ],
   "source": [
    "mdl_all = feature_all.drop(columns=['max_close', 'sector']).set_index([feature_all.index,'code'])\n",
    "\n",
    "train = mdl_all.sample(5000, random_state=124)\n",
    "test = mdl_all.loc[~mdl_all.index.isin(train.index)]\n",
    "print(len(train), len(test))"
   ]
  },
  {
   "cell_type": "markdown",
   "id": "782dfd75-f337-4986-8b8c-faf408ddb266",
   "metadata": {},
   "source": [
    "입력 피처의 갯수와 데이터타입을 확인합니다."
   ]
  },
  {
   "cell_type": "code",
   "execution_count": 69,
   "id": "271c1508-942d-4307-bfcc-e76b3fa54f18",
   "metadata": {},
   "outputs": [
    {
     "name": "stdout",
     "output_type": "stream",
     "text": [
      "<class 'pandas.core.frame.DataFrame'>\n",
      "MultiIndex: 5000 entries, (Timestamp('2022-01-19 00:00:00'), '213420') to (Timestamp('2022-01-26 00:00:00'), '189860')\n",
      "Data columns (total 8 columns):\n",
      " #   Column              Non-Null Count  Dtype  \n",
      "---  ------              --------------  -----  \n",
      " 0   price_z             5000 non-null   float64\n",
      " 1   volume_z            5000 non-null   float64\n",
      " 2   num_high/close      5000 non-null   float64\n",
      " 3   num_long            5000 non-null   float64\n",
      " 4   num_z>1.96          5000 non-null   float64\n",
      " 5   num_win_market      5000 non-null   float64\n",
      " 6   pct_win_market      5000 non-null   float64\n",
      " 7   return over sector  5000 non-null   float64\n",
      "dtypes: float64(8)\n",
      "memory usage: 385.2+ KB\n"
     ]
    }
   ],
   "source": [
    "train.drop(columns=['target']).info()"
   ]
  },
  {
   "cell_type": "code",
   "execution_count": null,
   "id": "cc7932fc-9cc8-4e9d-95e5-62d20ff62534",
   "metadata": {},
   "outputs": [],
   "source": [
    "# from pygam import LogisticGAM, s, f, te, l\n",
    "# from sklearn.metrics import accuracy_score\n",
    "# from sklearn.metrics import log_loss\n",
    "\n",
    "# X = train.drop(columns='target')\n",
    "# y = train['target']\n",
    "# X_test = test.drop(columns='target')\n",
    "# y_test = test['target']\n",
    "\n",
    "# lambda_list = np.logspace(-3, 3, 7)\n",
    "\n",
    "# accuracy_list = []\n",
    "# logloss_list = []\n",
    "\n",
    "# for lam in lambda_list:\n",
    "#     gam = LogisticGAM(te(0,1, n_splines=5) + s(1) + s(2) + f(3) + l(4) + s(5) + s(6) + s(7), lam = lam).fit(X.to_numpy(), y.to_numpy())\n",
    "    \n",
    "#     pred = gam.predict(X_test)\n",
    "#     prob = gam.predict_proba(X_test)\n",
    "    \n",
    "#     print(f'{lam}:{accuracy_score(y_test, pred):5.4f}, log loss:{log_loss(y_test, prob):5.4f}')\n",
    "    \n",
    "#     accuracy_list.append(accuracy_score(y_test, pred)) \n",
    "#     logloss_list.append(log_loss(y_test, prob)) \n",
    "\n",
    "# print(gam.summary())\n",
    "# print(gam.accuracy(X_test, y_test))    "
   ]
  },
  {
   "cell_type": "markdown",
   "id": "d89da596-c7e0-491a-832b-f45945c70c7a",
   "metadata": {},
   "source": [
    "<br> 각 변수별로 다른 'lambda' (Wiggliness Penalty Weight) 을 적용해서 grid Search 를 합니다. spline 수는 20 이 default 값입니다. spline 수는 고정하고 lambda의 최적 조합을 찾거나, lambda 를 고정하고, spline 수의 최적 조합을 찾는 것이 현실적이고, 두 하이퍼파라미터를 동시에 조합하여 grid Search 하는 것은 시간이 많이 걸립니다. 다양한 시도를 통하여 더 좋은 모델을 구현할 수 있겠으나, 이 책에서는 grid search 로 변수별 최적의 lambda 를 찾는 것으로 모델을 완성합니다. P value 가 크게 나타나는 입력변수는 제거하는 것이 좋겠습니다."
   ]
  },
  {
   "cell_type": "code",
   "execution_count": 146,
   "id": "2039e739-e2a8-4870-a7d4-f7eb3ec7d0b6",
   "metadata": {},
   "outputs": [
    {
     "name": "stderr",
     "output_type": "stream",
     "text": [
      "100% (256 of 256) |######################| Elapsed Time: 0:02:01 Time:  0:02:01\n"
     ]
    },
    {
     "name": "stdout",
     "output_type": "stream",
     "text": [
      "LogisticGAM                                                                                               \n",
      "=============================================== ==========================================================\n",
      "Distribution:                      BinomialDist Effective DoF:                                     18.5157\n",
      "Link Function:                        LogitLink Log Likelihood:                                 -2754.1698\n",
      "Number of Samples:                         5000 AIC:                                             5545.3709\n",
      "                                                AICc:                                            5545.5317\n",
      "                                                UBRE:                                                3.112\n",
      "                                                Scale:                                                 1.0\n",
      "                                                Pseudo R-Squared:                                   0.0235\n",
      "==========================================================================================================\n",
      "Feature Function                  Lambda               Rank         EDoF         P > x        Sig. Code   \n",
      "================================= ==================== ============ ============ ============ ============\n",
      "te(0, 1)                          [1000. 1000.]        25           6.1          9.85e-07     ***         \n",
      "s(0)                              [1000.]              20           0.2          5.51e-02     .           \n",
      "s(1)                              [1000.]              20           0.1          3.50e-03     **          \n",
      "s(2)                              [1000.]              20           2.3          1.94e-01                 \n",
      "s(3)                              [1.]                 20           7.9          2.49e-10     ***         \n",
      "te(3, 4)                          [1. 1.]              25           1.8          1.08e-01                 \n",
      "intercept                                              1            0.0          9.44e-01                 \n",
      "==========================================================================================================\n",
      "Significance codes:  0 '***' 0.001 '**' 0.01 '*' 0.05 '.' 0.1 ' ' 1\n",
      "\n",
      "WARNING: Fitting splines and a linear function to a feature introduces a model identifiability problem\n",
      "         which can cause p-values to appear significant when they are not.\n",
      "\n",
      "WARNING: p-values calculated in this manner behave correctly for un-penalized models or models with\n",
      "         known smoothing parameters, but when smoothing parameters have been estimated, the p-values\n",
      "         are typically lower than they should be, meaning that the tests reject the null too readily.\n",
      "None\n",
      "0.7563794259285455\n"
     ]
    }
   ],
   "source": [
    "from pygam import LogisticGAM, s, f, te, l\n",
    "from sklearn.metrics import accuracy_score\n",
    "from sklearn.metrics import log_loss\n",
    "\n",
    "feature_list = ['price_z','volume_z','num_win_market','pct_win_market','return over sector']\n",
    "X = train[feature_list]\n",
    "y = train['target']\n",
    "X_test = test[feature_list]\n",
    "y_test = test['target']\n",
    "\n",
    "# 하이퍼파라미터 설정 N 개의 변수면 (M x N) 개의 리스트로 생성함으로써 변수별로 다른 하이퍼파라미터 테스트 가능. \n",
    "# M 개만 1D 리스트를 만들면 동일한 lambda 른 모든 변수에 적용함.\n",
    "lam_list = [np.logspace(0, 3, 2)]*8\n",
    "   \n",
    "gam = LogisticGAM(te(0, 1, n_splines=5) + s(0) + s(1) + s(2) + s(3) + te(3, 4, n_splines=5)).gridsearch(X.to_numpy(), y.to_numpy(), lam=lam_list) \n",
    "\n",
    "print(gam.summary())\n",
    "print(gam.accuracy(X_test, y_test))"
   ]
  },
  {
   "cell_type": "markdown",
   "id": "998892d5-050c-428f-99b8-107b12dab7d7",
   "metadata": {},
   "source": [
    "<br> 완성된 모델을 pickle 로 binary 파일로 저장합니다."
   ]
  },
  {
   "cell_type": "code",
   "execution_count": 191,
   "id": "fb6dc5ec-b9a3-4923-9488-6bc886c04e7f",
   "metadata": {},
   "outputs": [],
   "source": [
    "import pickle\n",
    "with open(\"gam.pkl\", \"wb\") as file:\n",
    "    pickle.dump(gam, file)    "
   ]
  },
  {
   "cell_type": "code",
   "execution_count": 192,
   "id": "f06c9f55-5cf1-4cd0-a1cb-acd49eb0e3f8",
   "metadata": {},
   "outputs": [],
   "source": [
    "with open(\"gam.pkl\", \"rb\") as file:\n",
    "    gam = pickle.load(file) "
   ]
  },
  {
   "cell_type": "code",
   "execution_count": 190,
   "id": "d888c817-f5e1-4b09-a534-0fff94a1a7a7",
   "metadata": {},
   "outputs": [
    {
     "name": "stdout",
     "output_type": "stream",
     "text": [
      "{'max_iter': 100, 'tol': 0.0001, 'callbacks': [Deviance(), Diffs(), Accuracy()], 'verbose': False, 'terms': te(0, 1) + s(0) + s(1) + s(2) + s(3) + te(3, 4) + intercept, 'fit_intercept': True}\n",
      "(131,)\n"
     ]
    }
   ],
   "source": [
    "print(gam.get_params())\n",
    "print(gam.coef_.shape)"
   ]
  },
  {
   "cell_type": "code",
   "execution_count": 189,
   "id": "d209120f-1168-4744-b5e5-a6fc55c0427c",
   "metadata": {},
   "outputs": [
    {
     "name": "stdout",
     "output_type": "stream",
     "text": [
      "0:  0.000 (10000, 5)\n",
      "1:  0.055 (100, 5)\n",
      "2:  0.004 (100, 5)\n",
      "3:  0.194 (100, 5)\n",
      "4:  0.000 (100, 5)\n",
      "5:  0.108 (10000, 5)\n"
     ]
    }
   ],
   "source": [
    "for i in range(6):\n",
    "    print(f'{i}: {gam._compute_p_value(i): 5.3f} {gam.generate_X_grid(term=i).shape}')"
   ]
  },
  {
   "cell_type": "markdown",
   "id": "d9c8923b-21bf-4887-98f5-60a611d921fc",
   "metadata": {},
   "source": [
    "<br> 간단하게 십분위수 분석을 하고, 성능을 평가합니다. 안정적인 모델을 만들었습니다. 이론적으로는 마지막 Decile(제 10 십분위 수)에서 랜덤하게 종목을 골라 동일한 금액으로 매수를 한다면, 5 영업일이내 5% 익절할 확률이 37% 가 됩니다.  100% 만족스럽지는 않지만, 생성된 GAM 모델을 이용하여 종목 추천을 받도록 하겠습니다."
   ]
  },
  {
   "cell_type": "code",
   "execution_count": 140,
   "id": "9d5d925b-71f3-4a80-b347-859d8a766c0c",
   "metadata": {},
   "outputs": [],
   "source": [
    "yhat = gam.predict_proba(X.to_numpy())\n",
    "yhat = pd.Series(yhat, name='yhat', index=y.index)\n",
    "\n",
    "yhat_test = gam.predict_proba(X_test.to_numpy())\n",
    "yhat_test = pd.Series(yhat_test, name='yhat', index=y_test.index)"
   ]
  },
  {
   "cell_type": "code",
   "execution_count": 141,
   "id": "5ed5f606-9ee6-4dad-a9a8-53fd7be39df0",
   "metadata": {},
   "outputs": [
    {
     "name": "stdout",
     "output_type": "stream",
     "text": [
      "                count  mean\n",
      "yhat                       \n",
      "(0.155, 0.199]    500 0.168\n",
      "(0.199, 0.209]    500 0.172\n",
      "(0.209, 0.218]    500 0.210\n",
      "(0.218, 0.228]    500 0.232\n",
      "(0.228, 0.237]    500 0.218\n",
      "(0.237, 0.248]    500 0.244\n",
      "(0.248, 0.263]    500 0.248\n",
      "(0.263, 0.284]    500 0.310\n",
      "(0.284, 0.323]    500 0.324\n",
      "(0.323, 0.736]    500 0.390\n",
      "                count  mean\n",
      "yhat                       \n",
      "(0.137, 0.198]  32519 0.169\n",
      "(0.198, 0.208]  32519 0.182\n",
      "(0.208, 0.217]  32518 0.193\n",
      "(0.217, 0.226]  32519 0.206\n",
      "(0.226, 0.236]  32518 0.221\n",
      "(0.236, 0.248]  32519 0.238\n",
      "(0.248, 0.263]  32518 0.258\n",
      "(0.263, 0.284]  32519 0.280\n",
      "(0.284, 0.321]  32518 0.309\n",
      "(0.321, 0.958]  32519 0.370\n"
     ]
    },
    {
     "data": {
      "image/png": "[encoded data removed]",
      "text/plain": [
       "<Figure size 576x360 with 1 Axes>"
      ]
     },
     "metadata": {
      "needs_background": "light"
     },
     "output_type": "display_data"
    }
   ],
   "source": [
    "def perf(y, yhat): # Decile 분석 함수\n",
    "    combined = pd.concat([y, yhat], axis=1)\n",
    "    ranks = pd.qcut(combined['yhat'], q=10)\n",
    "    print(combined.groupby(ranks)['target'].agg(['count','mean']))\n",
    "    combined.groupby(ranks)['target'].mean().plot(figsize=(8,5))\n",
    "\n",
    "perf(y, yhat)\n",
    "perf(y_test, yhat_test)"
   ]
  },
  {
   "cell_type": "code",
   "execution_count": 193,
   "id": "bebffd70-32d2-4793-96c5-1cd23ca1e8bd",
   "metadata": {},
   "outputs": [
    {
     "name": "stdout",
     "output_type": "stream",
     "text": [
      "2021-04-01 00:00:00 2022-03-24 00:00:00\n"
     ]
    }
   ],
   "source": [
    "print(feature_all.index.min(), feature_all.index.max())"
   ]
  }
 ],
 "metadata": {
  "kernelspec": {
   "display_name": "Python 3 (ipykernel)",
   "language": "python",
   "name": "python3"
  },
  "language_info": {
   "codemirror_mode": {
    "name": "ipython",
    "version": 3
   },
   "file_extension": ".py",
   "mimetype": "text/x-python",
   "name": "python",
   "nbconvert_exporter": "python",
   "pygments_lexer": "ipython3",
   "version": "3.9.7"
  }
 },
 "nbformat": 4,
 "nbformat_minor": 5
}
