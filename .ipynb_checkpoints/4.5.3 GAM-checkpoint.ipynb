{
 "cells": [
  {
   "cell_type": "code",
   "execution_count": 8,
   "id": "9eaf805d-22ef-4d9e-826b-dec519819fff",
   "metadata": {},
   "outputs": [],
   "source": [
    "import FinanceDataReader as fdr\n",
    "%matplotlib inline\n",
    "import matplotlib.pyplot as plt\n",
    "import pandas as pd\n",
    "import numpy as np\n",
    "import warnings\n",
    "import pickle\n",
    "warnings.filterwarnings('ignore')\n",
    "pd.options.display.float_format = '{:,.3f}'.format"
   ]
  },
  {
   "cell_type": "markdown",
   "id": "e50b0c04-04ae-4c62-9c50-e746d1114d30",
   "metadata": {},
   "source": [
    "### **종목 선정 모델 개발**"
   ]
  },
  {
   "cell_type": "markdown",
   "id": "a0230e0c-2861-4b84-ac53-9810c1843962",
   "metadata": {},
   "source": [
    "이번절에서는 책에서 종목선정을 위해 사용할 GAM 모델을 개발하겠습니다. 아나콘다 프롬프트에서 conda install -c conda-forge pygam 로 설치를 해 줍니다. 관련 링크 https://anaconda.org/conda-forge/pygam\n",
    "\n",
    "모델링을 위해 준비한 데이터를 읽습니다. 그리고 모델의 오버피팅을 최소화하기 위하여 타겟변수를 0 과 1 로 치환합니다. 5% 익절은 다음과 같이 데이터로 표현할 수 있습니다. - 'max_close' 가 5% 이상일 때 1, 아니면 0. 파이썬 코드는 아래와 같습니다.\n",
    "```python\n",
    "np.where(feature_all['max_close']>= 1.05, 1, 0)\n",
    "``` \n",
    "타겟 변수 - 'target' 값이 1 인 비율을 보니, 약 24% 입니다. 타겟변수의 비율이 너무 적으면 모델 트레이닝이 어렵습니다. "
   ]
  },
  {
   "cell_type": "code",
   "execution_count": 101,
   "id": "43914ce5-ea0c-40cb-be18-c067381987b5",
   "metadata": {},
   "outputs": [
    {
     "name": "stdout",
     "output_type": "stream",
     "text": [
      "% of target: 24.3%\n"
     ]
    }
   ],
   "source": [
    "feature_all = pd.read_pickle('feature_all.pkl') \n",
    "feature_all['target'] = np.where(feature_all['max_close']>= 1.05, 1, 0)\n",
    "target = feature_all['target'].mean()\n",
    "print(f'% of target:{target: 5.1%}')"
   ]
  },
  {
   "cell_type": "markdown",
   "id": "a39b2e28-574c-439b-9107-3580639abcef",
   "metadata": {},
   "source": [
    "<br> 날짜와 종목은 모델의 입력피처가 아닙니다. 편의를 위해 제거하거나 인덱스로 처리합니다. 모델 트레이닝 용도로 10,000 개 샘플을 뽑아 예측모델을 만들고, 나머지 데이터는 테스트(혹은 백테스팅)를 하겠습니다.  "
   ]
  },
  {
   "cell_type": "code",
   "execution_count": 102,
   "id": "069b37d6-d13b-4a5f-8755-46c74ac203b7",
   "metadata": {},
   "outputs": [
    {
     "name": "stdout",
     "output_type": "stream",
     "text": [
      "10000 320186\n"
     ]
    }
   ],
   "source": [
    "mdl_all = feature_all.set_index([feature_all.index,'code'])\n",
    "\n",
    "train = mdl_all.sample(10000, random_state=124)\n",
    "test = mdl_all.loc[~mdl_all.index.isin(train.index)]\n",
    "print(len(train), len(test))"
   ]
  },
  {
   "cell_type": "markdown",
   "id": "782dfd75-f337-4986-8b8c-faf408ddb266",
   "metadata": {},
   "source": [
    "입력 피처의 갯수와 데이터타입을 확인합니다."
   ]
  },
  {
   "cell_type": "code",
   "execution_count": 66,
   "id": "271c1508-942d-4307-bfcc-e76b3fa54f18",
   "metadata": {},
   "outputs": [
    {
     "name": "stdout",
     "output_type": "stream",
     "text": [
      "<class 'pandas.core.frame.DataFrame'>\n",
      "MultiIndex: 10000 entries, (Timestamp('2022-01-19 00:00:00'), '213420') to (Timestamp('2021-07-01 00:00:00'), '140860')\n",
      "Data columns (total 13 columns):\n",
      " #   Column              Non-Null Count  Dtype  \n",
      "---  ------              --------------  -----  \n",
      " 0   sector              10000 non-null  object \n",
      " 1   return              10000 non-null  float64\n",
      " 2   price_z             10000 non-null  float64\n",
      " 3   volume_z            10000 non-null  float64\n",
      " 4   num_high/close      10000 non-null  float64\n",
      " 5   num_long            10000 non-null  float64\n",
      " 6   num_z>1.96          10000 non-null  float64\n",
      " 7   num_win_market      10000 non-null  float64\n",
      " 8   pct_win_market      10000 non-null  float64\n",
      " 9   return over sector  10000 non-null  float64\n",
      " 10  max_close           10000 non-null  float64\n",
      " 11  min_close           10000 non-null  float64\n",
      " 12  target              10000 non-null  int32  \n",
      "dtypes: float64(11), int32(1), object(1)\n",
      "memory usage: 1.0+ MB\n"
     ]
    }
   ],
   "source": [
    "train.info()"
   ]
  },
  {
   "cell_type": "code",
   "execution_count": 30,
   "id": "cc7932fc-9cc8-4e9d-95e5-62d20ff62534",
   "metadata": {},
   "outputs": [
    {
     "name": "stdout",
     "output_type": "stream",
     "text": [
      "0.001:0.7525, log loss:0.5570\n",
      "0.01:0.7531, log loss:0.5507\n",
      "0.1:0.7541, log loss:0.5468\n",
      "1.0:0.7554, log loss:0.5443\n",
      "10.0:0.7564, log loss:0.5433\n",
      "100.0:0.7566, log loss:0.5443\n",
      "1000.0:0.7569, log loss:0.5465\n",
      "LogisticGAM                                                                                               \n",
      "=============================================== ==========================================================\n",
      "Distribution:                      BinomialDist Effective DoF:                                     10.4012\n",
      "Link Function:                        LogitLink Log Likelihood:                                 -2776.3105\n",
      "Number of Samples:                         5000 AIC:                                             5573.4235\n",
      "                                                AICc:                                            5573.4802\n",
      "                                                UBRE:                                               3.1163\n",
      "                                                Scale:                                                 1.0\n",
      "                                                Pseudo R-Squared:                                   0.0156\n",
      "==========================================================================================================\n",
      "Feature Function                  Lambda               Rank         EDoF         P > x        Sig. Code   \n",
      "================================= ==================== ============ ============ ============ ============\n",
      "te(0, 1)                          [1000. 1000.]        25           6.0          1.40e-07     ***         \n",
      "s(0)                              [1000.]              20           0.1          2.32e-02     *           \n",
      "s(1)                              [1000.]              20           0.1          9.00e-03     **          \n",
      "s(2)                              [1000.]              20           1.5          2.65e-01                 \n",
      "f(3)                              [1000.]              3            0.1          6.98e-01                 \n",
      "s(6)                              [1000.]              20           1.4          1.54e-09     ***         \n",
      "s(7)                              [1000.]              20           1.2          3.47e-04     ***         \n",
      "intercept                                              1            0.0          4.97e-01                 \n",
      "==========================================================================================================\n",
      "Significance codes:  0 '***' 0.001 '**' 0.01 '*' 0.05 '.' 0.1 ' ' 1\n",
      "\n",
      "WARNING: Fitting splines and a linear function to a feature introduces a model identifiability problem\n",
      "         which can cause p-values to appear significant when they are not.\n",
      "\n",
      "WARNING: p-values calculated in this manner behave correctly for un-penalized models or models with\n",
      "         known smoothing parameters, but when smoothing parameters have been estimated, the p-values\n",
      "         are typically lower than they should be, meaning that the tests reject the null too readily.\n",
      "None\n",
      "0.7569421807826905\n"
     ]
    }
   ],
   "source": [
    "'''\n",
    "from pygam import LogisticGAM, s, f, te, l\n",
    "from sklearn.metrics import accuracy_score\n",
    "from sklearn.metrics import log_loss\n",
    "\n",
    "feature_list = ['price_z','volume_z','num_high/close','num_win_market','pct_win_market','return over sector']\n",
    "X = train[feature_list]\n",
    "y = train['target']\n",
    "X_test = test[feature_list]\n",
    "y_test = test['target']\n",
    "\n",
    "lambda_list = np.logspace(-3, 3, 7)\n",
    "\n",
    "accuracy_list = []\n",
    "logloss_list = []\n",
    "\n",
    "for lam in lambda_list:\n",
    "    \n",
    "    gam = LogisticGAM(te(0, 1, n_splines=5) + s(0) + s(1) + s(2) + f(3) + s(6) + s(7), lam = lam).fit(X.to_numpy(), y.to_numpy())\n",
    "    \n",
    "    pred = gam.predict(X_test)\n",
    "    prob = gam.predict_proba(X_test)\n",
    "    \n",
    "    print(f'{lam}:{accuracy_score(y_test, pred):5.4f}, log loss:{log_loss(y_test, prob):5.4f}')\n",
    "    \n",
    "    accuracy_list.append(accuracy_score(y_test, pred)) \n",
    "    logloss_list.append(log_loss(y_test, prob)) \n",
    "\n",
    "print(gam.summary())\n",
    "print(gam.accuracy(X_test, y_test))    "
   ]
  },
  {
   "cell_type": "markdown",
   "id": "d89da596-c7e0-491a-832b-f45945c70c7a",
   "metadata": {},
   "source": [
    "<br> 각 변수별로 다른 'lambda' (Wiggliness Penalty Weight) 을 적용해서 grid Search 를 합니다. spline 수는 20 이 default 값입니다. spline 수는 고정하고 lambda의 최적 조합을 찾거나, lambda 를 고정하고, spline 수의 최적 조합을 찾는 것이 현실적이고, 두 하이퍼파라미터를 동시에 조합하여 grid Search 하는 것은 시간이 많이 걸립니다. 다양한 시도를 통하여 더 좋은 모델을 구현할 수 있겠으나, 이 책에서는 grid search 로 변수별 최적의 lambda 를 찾는 것으로 모델을 완성합니다. P value 가 크게 나타나는 입력변수는 제거하는 것이 좋겠습니다."
   ]
  },
  {
   "cell_type": "code",
   "execution_count": 67,
   "id": "2039e739-e2a8-4870-a7d4-f7eb3ec7d0b6",
   "metadata": {},
   "outputs": [
    {
     "name": "stderr",
     "output_type": "stream",
     "text": [
      "100% (256 of 256) |######################| Elapsed Time: 0:03:32 Time:  0:03:32\n"
     ]
    },
    {
     "name": "stdout",
     "output_type": "stream",
     "text": [
      "LogisticGAM                                                                                               \n",
      "=============================================== ==========================================================\n",
      "Distribution:                      BinomialDist Effective DoF:                                     21.7127\n",
      "Link Function:                        LogitLink Log Likelihood:                                 -5473.5193\n",
      "Number of Samples:                        10000 AIC:                                            10990.4639\n",
      "                                                AICc:                                           10990.5719\n",
      "                                                UBRE:                                               3.1008\n",
      "                                                Scale:                                                 1.0\n",
      "                                                Pseudo R-Squared:                                   0.0197\n",
      "==========================================================================================================\n",
      "Feature Function                  Lambda               Rank         EDoF         P > x        Sig. Code   \n",
      "================================= ==================== ============ ============ ============ ============\n",
      "te(0, 1)                          [1. 1.]              25           6.2          1.11e-15     ***         \n",
      "s(1)                              [1000.]              20           0.1          1.39e-04     ***         \n",
      "s(2)                              [1000.]              20           1.8          1.65e-01                 \n",
      "s(3)                              [1000.]              20           2.7          4.35e-02     *           \n",
      "s(4)                              [1.]                 20           8.9          1.11e-11     ***         \n",
      "te(4, 5)                          [1. 1.]              25           2.0          1.80e-01                 \n",
      "intercept                                              1            0.0          2.07e-01                 \n",
      "==========================================================================================================\n",
      "Significance codes:  0 '***' 0.001 '**' 0.01 '*' 0.05 '.' 0.1 ' ' 1\n",
      "\n",
      "WARNING: Fitting splines and a linear function to a feature introduces a model identifiability problem\n",
      "         which can cause p-values to appear significant when they are not.\n",
      "\n",
      "WARNING: p-values calculated in this manner behave correctly for un-penalized models or models with\n",
      "         known smoothing parameters, but when smoothing parameters have been estimated, the p-values\n",
      "         are typically lower than they should be, meaning that the tests reject the null too readily.\n",
      "None\n",
      "0.7571130530379218\n"
     ]
    }
   ],
   "source": [
    "from pygam import LogisticGAM, s, f, te, l\n",
    "from sklearn.metrics import accuracy_score\n",
    "from sklearn.metrics import log_loss\n",
    "\n",
    "feature_list = ['price_z','volume_z','num_high/close','num_win_market','pct_win_market','return over sector']\n",
    "X = train[feature_list]\n",
    "y = train['target']\n",
    "X_test = test[feature_list]\n",
    "y_test = test['target']\n",
    "\n",
    "# 하이퍼파라미터 설정 N 개의 변수면 (M x N) 개의 리스트로 생성함으로써 변수별로 다른 하이퍼파라미터 테스트 가능. \n",
    "# M 개만 1D 리스트를 만들면 동일한 lambda 른 모든 변수에 적용함.\n",
    "lam_list = [np.logspace(0, 3, 2)]*8\n",
    "   \n",
    "gam = LogisticGAM(te(0, 1, n_splines=5) + s(1) + s(2) + s(3) + s(4) + te(4, 5, n_splines=5)).gridsearch(X.to_numpy(), y.to_numpy(), lam=lam_list) \n",
    "\n",
    "print(gam.summary())\n",
    "print(gam.accuracy(X_test, y_test))"
   ]
  },
  {
   "cell_type": "code",
   "execution_count": 68,
   "id": "219ab0df-4e2a-4933-9bcb-861ea762752e",
   "metadata": {},
   "outputs": [
    {
     "name": "stdout",
     "output_type": "stream",
     "text": [
      "0 tensor_term\n",
      "1 spline_term\n",
      "2 spline_term\n",
      "3 spline_term\n",
      "4 spline_term\n",
      "5 tensor_term\n",
      "6 intercept_term\n"
     ]
    }
   ],
   "source": [
    "for i, term in enumerate(gam.terms):\n",
    "    print(i, term)"
   ]
  },
  {
   "cell_type": "code",
   "execution_count": 70,
   "id": "5c4bc1a6-c86a-4a38-ba80-0b7239a329d4",
   "metadata": {},
   "outputs": [
    {
     "data": {
      "image/png": "[encoded data removed]",
      "text/plain": [
       "<Figure size 432x288 with 1 Axes>"
      ]
     },
     "metadata": {
      "needs_background": "light"
     },
     "output_type": "display_data"
    },
    {
     "data": {
      "image/png": "[encoded data removed]",
      "text/plain": [
       "<Figure size 432x288 with 1 Axes>"
      ]
     },
     "metadata": {
      "needs_background": "light"
     },
     "output_type": "display_data"
    },
    {
     "data": {
      "image/png": "[encoded data removed]",
      "text/plain": [
       "<Figure size 432x288 with 1 Axes>"
      ]
     },
     "metadata": {
      "needs_background": "light"
     },
     "output_type": "display_data"
    },
    {
     "data": {
      "image/png": "[encoded data removed]",
      "text/plain": [
       "<Figure size 432x288 with 1 Axes>"
      ]
     },
     "metadata": {
      "needs_background": "light"
     },
     "output_type": "display_data"
    }
   ],
   "source": [
    "feature_list =  ['price_z','volume_z','num_high/close','num_win_market','pct_win_market','return over sector']\n",
    "for i, term in enumerate(gam.terms):\n",
    "    \n",
    "    if i>=1 and i<=4:\n",
    "\n",
    "        XX = gam.generate_X_grid(term=i)\n",
    "        pdep, confi = gam.partial_dependence(term=i, X=XX, width=0.95)\n",
    "\n",
    "        plt.figure()\n",
    "        plt.plot(XX[:, term.feature], pdep)\n",
    "        plt.plot(XX[:, term.feature], confi, c='r', ls='--')\n",
    "        plt.title(feature_list[i])\n",
    "        plt.show()"
   ]
  },
  {
   "cell_type": "markdown",
   "id": "998892d5-050c-428f-99b8-107b12dab7d7",
   "metadata": {},
   "source": [
    "<br> 완성된 모델을 pickle 로 binary 파일로 저장합니다."
   ]
  },
  {
   "cell_type": "code",
   "execution_count": 71,
   "id": "fb6dc5ec-b9a3-4923-9488-6bc886c04e7f",
   "metadata": {},
   "outputs": [],
   "source": [
    "import pickle\n",
    "with open(\"gam.pkl\", \"wb\") as file:\n",
    "    pickle.dump(gam, file)    "
   ]
  },
  {
   "cell_type": "code",
   "execution_count": 72,
   "id": "f06c9f55-5cf1-4cd0-a1cb-acd49eb0e3f8",
   "metadata": {},
   "outputs": [],
   "source": [
    "with open(\"gam.pkl\", \"rb\") as file:\n",
    "    gam = pickle.load(file) "
   ]
  },
  {
   "cell_type": "code",
   "execution_count": 73,
   "id": "d888c817-f5e1-4b09-a534-0fff94a1a7a7",
   "metadata": {},
   "outputs": [
    {
     "name": "stdout",
     "output_type": "stream",
     "text": [
      "{'max_iter': 100, 'tol': 0.0001, 'callbacks': [Deviance(), Diffs(), Accuracy()], 'verbose': False, 'terms': te(0, 1) + s(1) + s(2) + s(3) + s(4) + te(4, 5) + intercept, 'fit_intercept': True}\n",
      "(131,)\n"
     ]
    }
   ],
   "source": [
    "print(gam.get_params())\n",
    "print(gam.coef_.shape)"
   ]
  },
  {
   "cell_type": "code",
   "execution_count": 74,
   "id": "d209120f-1168-4744-b5e5-a6fc55c0427c",
   "metadata": {},
   "outputs": [
    {
     "name": "stdout",
     "output_type": "stream",
     "text": [
      "0:  0.000 (10000, 6)\n",
      "1:  0.000 (100, 6)\n",
      "2:  0.165 (100, 6)\n",
      "3:  0.043 (100, 6)\n",
      "4:  0.000 (100, 6)\n",
      "5:  0.180 (10000, 6)\n"
     ]
    }
   ],
   "source": [
    "for i in range(6):\n",
    "    print(f'{i}: {gam._compute_p_value(i): 5.3f} {gam.generate_X_grid(term=i).shape}')"
   ]
  },
  {
   "cell_type": "markdown",
   "id": "d9c8923b-21bf-4887-98f5-60a611d921fc",
   "metadata": {},
   "source": [
    "<br> 간단하게 십분위수 분석을 하고, 성능을 평가합니다. 안정적인 모델을 만들었습니다. 이론적으로는 마지막 Decile(제 10 십분위 수)에서 랜덤하게 종목을 골라 동일한 금액으로 매수를 한다면, 5 영업일이내 5% 익절할 확률이 37% 가 됩니다.  100% 만족스럽지는 않지만, 생성된 GAM 모델을 이용하여 종목 추천을 받도록 하겠습니다."
   ]
  },
  {
   "cell_type": "code",
   "execution_count": 105,
   "id": "9d5d925b-71f3-4a80-b347-859d8a766c0c",
   "metadata": {},
   "outputs": [],
   "source": [
    "yhat = gam.predict_proba(X.to_numpy())\n",
    "yhat = pd.Series(yhat, name='yhat', index=y.index)\n",
    "\n",
    "yhat_test = gam.predict_proba(X_test.to_numpy())\n",
    "yhat_test = pd.Series(yhat_test, name='yhat', index=y_test.index)"
   ]
  },
  {
   "cell_type": "code",
   "execution_count": 106,
   "id": "5ed5f606-9ee6-4dad-a9a8-53fd7be39df0",
   "metadata": {},
   "outputs": [
    {
     "name": "stdout",
     "output_type": "stream",
     "text": [
      "                 count  mean\n",
      "yhat                        \n",
      "(0.0607, 0.184]   1000 0.158\n",
      "(0.184, 0.198]    1000 0.185\n",
      "(0.198, 0.21]     1000 0.188\n",
      "(0.21, 0.222]     1000 0.228\n",
      "(0.222, 0.234]    1000 0.224\n",
      "(0.234, 0.249]    1000 0.212\n",
      "(0.249, 0.267]    1000 0.293\n",
      "(0.267, 0.292]    1000 0.266\n",
      "(0.292, 0.327]    1000 0.326\n",
      "(0.327, 0.655]    1000 0.384\n",
      "                 count  mean\n",
      "yhat                        \n",
      "(0.0342, 0.184]  32019 0.154\n",
      "(0.184, 0.198]   32019 0.182\n",
      "(0.198, 0.209]   32018 0.193\n",
      "(0.209, 0.221]   32019 0.202\n",
      "(0.221, 0.234]   32018 0.223\n",
      "(0.234, 0.249]   32019 0.238\n",
      "(0.249, 0.268]   32018 0.258\n",
      "(0.268, 0.292]   32019 0.284\n",
      "(0.292, 0.327]   32018 0.319\n",
      "(0.327, 0.783]   32019 0.372\n"
     ]
    },
    {
     "data": {
      "image/png": "[encoded data removed]",
      "text/plain": [
       "<Figure size 576x360 with 1 Axes>"
      ]
     },
     "metadata": {
      "needs_background": "light"
     },
     "output_type": "display_data"
    }
   ],
   "source": [
    "def perf(y, yhat): # Decile 분석 함수\n",
    "    combined = pd.concat([y, yhat], axis=1)\n",
    "    ranks = pd.qcut(combined['yhat'], q=10)\n",
    "    print(combined.groupby(ranks)['target'].agg(['count','mean']))\n",
    "    combined.groupby(ranks)['target'].mean().plot(figsize=(8,5))\n",
    "\n",
    "perf(y, yhat)\n",
    "perf(y_test, yhat_test)"
   ]
  },
  {
   "cell_type": "markdown",
   "id": "e281a047-e581-423e-835e-a18bc39ed6c3",
   "metadata": {},
   "source": [
    "### Basic Filtering\n",
    "단순히 스코어가 높다고 무조건 매수했다가 큰 낙폭으로 손해를 볼 수도 있기 때문에 기본적인 필터링이 필요합니다. 오늘 종가 수익률과 가격 변동성으로 기본적인 필터를 만들어 보겠습니다."
   ]
  },
  {
   "cell_type": "code",
   "execution_count": 107,
   "id": "bebffd70-32d2-4793-96c5-1cd23ca1e8bd",
   "metadata": {},
   "outputs": [
    {
     "data": {
      "text/plain": [
       "yhat_rank\n",
       "(0.0342, 0.184]   0.154\n",
       "(0.184, 0.198]    0.182\n",
       "(0.198, 0.209]    0.193\n",
       "(0.209, 0.221]    0.202\n",
       "(0.221, 0.234]    0.223\n",
       "(0.234, 0.249]    0.238\n",
       "(0.249, 0.268]    0.258\n",
       "(0.268, 0.292]    0.284\n",
       "(0.292, 0.327]    0.319\n",
       "(0.327, 0.783]    0.372\n",
       "Name: target, dtype: float64"
      ]
     },
     "execution_count": 107,
     "metadata": {},
     "output_type": "execute_result"
    }
   ],
   "source": [
    "test['yhat'] = yhat_test\n",
    "test['yhat_rank'] = pd.qcut(test['yhat'], q=10)\n",
    "test.groupby('yhat_rank')['target'].mean()"
   ]
  },
  {
   "cell_type": "code",
   "execution_count": 108,
   "id": "7ebc3e27-c7d4-4568-878e-39597b83db17",
   "metadata": {},
   "outputs": [
    {
     "data": {
      "text/html": [
       "<div>\n",
       "<style scoped>\n",
       "    .dataframe tbody tr th:only-of-type {\n",
       "        vertical-align: middle;\n",
       "    }\n",
       "\n",
       "    .dataframe tbody tr th {\n",
       "        vertical-align: top;\n",
       "    }\n",
       "\n",
       "    .dataframe thead th {\n",
       "        text-align: right;\n",
       "    }\n",
       "</style>\n",
       "<table border=\"1\" class=\"dataframe\">\n",
       "  <thead>\n",
       "    <tr style=\"text-align: right;\">\n",
       "      <th>price_rank</th>\n",
       "      <th>(-4.36, -1.836]</th>\n",
       "      <th>(-1.836, -0.959]</th>\n",
       "      <th>(-0.959, 0.529]</th>\n",
       "      <th>(0.529, 1.655]</th>\n",
       "      <th>(1.655, 4.359]</th>\n",
       "    </tr>\n",
       "    <tr>\n",
       "      <th>return_rank</th>\n",
       "      <th></th>\n",
       "      <th></th>\n",
       "      <th></th>\n",
       "      <th></th>\n",
       "      <th></th>\n",
       "    </tr>\n",
       "  </thead>\n",
       "  <tbody>\n",
       "    <tr>\n",
       "      <th>(0.325, 0.958]</th>\n",
       "      <td>4549</td>\n",
       "      <td>1861</td>\n",
       "      <td>2234</td>\n",
       "      <td>1945</td>\n",
       "      <td>391</td>\n",
       "    </tr>\n",
       "    <tr>\n",
       "      <th>(0.958, 0.98]</th>\n",
       "      <td>3797</td>\n",
       "      <td>2764</td>\n",
       "      <td>2189</td>\n",
       "      <td>1729</td>\n",
       "      <td>497</td>\n",
       "    </tr>\n",
       "    <tr>\n",
       "      <th>(0.98, 1.0]</th>\n",
       "      <td>1888</td>\n",
       "      <td>3320</td>\n",
       "      <td>2584</td>\n",
       "      <td>2326</td>\n",
       "      <td>1153</td>\n",
       "    </tr>\n",
       "    <tr>\n",
       "      <th>(1.0, 1.031]</th>\n",
       "      <td>639</td>\n",
       "      <td>2282</td>\n",
       "      <td>2461</td>\n",
       "      <td>2735</td>\n",
       "      <td>2567</td>\n",
       "    </tr>\n",
       "    <tr>\n",
       "      <th>(1.031, 1.3]</th>\n",
       "      <td>105</td>\n",
       "      <td>751</td>\n",
       "      <td>1509</td>\n",
       "      <td>2243</td>\n",
       "      <td>6370</td>\n",
       "    </tr>\n",
       "  </tbody>\n",
       "</table>\n",
       "</div>"
      ],
      "text/plain": [
       "price_rank      (-4.36, -1.836]  (-1.836, -0.959]  (-0.959, 0.529]  \\\n",
       "return_rank                                                          \n",
       "(0.325, 0.958]             4549              1861             2234   \n",
       "(0.958, 0.98]              3797              2764             2189   \n",
       "(0.98, 1.0]                1888              3320             2584   \n",
       "(1.0, 1.031]                639              2282             2461   \n",
       "(1.031, 1.3]                105               751             1509   \n",
       "\n",
       "price_rank      (0.529, 1.655]  (1.655, 4.359]  \n",
       "return_rank                                     \n",
       "(0.325, 0.958]            1945             391  \n",
       "(0.958, 0.98]             1729             497  \n",
       "(0.98, 1.0]               2326            1153  \n",
       "(1.0, 1.031]              2735            2567  \n",
       "(1.031, 1.3]              2243            6370  "
      ]
     },
     "execution_count": 108,
     "metadata": {},
     "output_type": "execute_result"
    }
   ],
   "source": [
    "tops.groupby(['return_rank','price_rank'])['target'].count().unstack()"
   ]
  },
  {
   "cell_type": "markdown",
   "id": "8ab31ff5-f908-4f8e-babb-2a16f80663e7",
   "metadata": {},
   "source": [
    "<br> 종목선정은 상위 스코어 구간에서 할 것이므로 상위 구간에서만 보겠습니다. "
   ]
  },
  {
   "cell_type": "code",
   "execution_count": 109,
   "id": "f8916b14-1c0b-4a53-89bb-c55ba7614b4d",
   "metadata": {},
   "outputs": [
    {
     "data": {
      "text/html": [
       "<div>\n",
       "<style scoped>\n",
       "    .dataframe tbody tr th:only-of-type {\n",
       "        vertical-align: middle;\n",
       "    }\n",
       "\n",
       "    .dataframe tbody tr th {\n",
       "        vertical-align: top;\n",
       "    }\n",
       "\n",
       "    .dataframe thead th {\n",
       "        text-align: right;\n",
       "    }\n",
       "</style>\n",
       "<table border=\"1\" class=\"dataframe\">\n",
       "  <thead>\n",
       "    <tr style=\"text-align: right;\">\n",
       "      <th>price_rank</th>\n",
       "      <th>(-4.36, -1.836]</th>\n",
       "      <th>(-1.836, -0.959]</th>\n",
       "      <th>(-0.959, 0.529]</th>\n",
       "      <th>(0.529, 1.655]</th>\n",
       "      <th>(1.655, 4.359]</th>\n",
       "    </tr>\n",
       "    <tr>\n",
       "      <th>return_rank</th>\n",
       "      <th></th>\n",
       "      <th></th>\n",
       "      <th></th>\n",
       "      <th></th>\n",
       "      <th></th>\n",
       "    </tr>\n",
       "  </thead>\n",
       "  <tbody>\n",
       "    <tr>\n",
       "      <th>(0.325, 0.958]</th>\n",
       "      <td>0.465</td>\n",
       "      <td>0.400</td>\n",
       "      <td>0.364</td>\n",
       "      <td>0.405</td>\n",
       "      <td>0.353</td>\n",
       "    </tr>\n",
       "    <tr>\n",
       "      <th>(0.958, 0.98]</th>\n",
       "      <td>0.322</td>\n",
       "      <td>0.322</td>\n",
       "      <td>0.312</td>\n",
       "      <td>0.367</td>\n",
       "      <td>0.378</td>\n",
       "    </tr>\n",
       "    <tr>\n",
       "      <th>(0.98, 1.0]</th>\n",
       "      <td>0.250</td>\n",
       "      <td>0.300</td>\n",
       "      <td>0.303</td>\n",
       "      <td>0.331</td>\n",
       "      <td>0.331</td>\n",
       "    </tr>\n",
       "    <tr>\n",
       "      <th>(1.0, 1.031]</th>\n",
       "      <td>0.383</td>\n",
       "      <td>0.341</td>\n",
       "      <td>0.322</td>\n",
       "      <td>0.339</td>\n",
       "      <td>0.328</td>\n",
       "    </tr>\n",
       "    <tr>\n",
       "      <th>(1.031, 1.3]</th>\n",
       "      <td>0.695</td>\n",
       "      <td>0.470</td>\n",
       "      <td>0.331</td>\n",
       "      <td>0.381</td>\n",
       "      <td>0.370</td>\n",
       "    </tr>\n",
       "  </tbody>\n",
       "</table>\n",
       "</div>"
      ],
      "text/plain": [
       "price_rank      (-4.36, -1.836]  (-1.836, -0.959]  (-0.959, 0.529]  \\\n",
       "return_rank                                                          \n",
       "(0.325, 0.958]            0.465             0.400            0.364   \n",
       "(0.958, 0.98]             0.322             0.322            0.312   \n",
       "(0.98, 1.0]               0.250             0.300            0.303   \n",
       "(1.0, 1.031]              0.383             0.341            0.322   \n",
       "(1.031, 1.3]              0.695             0.470            0.331   \n",
       "\n",
       "price_rank      (0.529, 1.655]  (1.655, 4.359]  \n",
       "return_rank                                     \n",
       "(0.325, 0.958]           0.405           0.353  \n",
       "(0.958, 0.98]            0.367           0.378  \n",
       "(0.98, 1.0]              0.331           0.331  \n",
       "(1.0, 1.031]             0.339           0.328  \n",
       "(1.031, 1.3]             0.381           0.370  "
      ]
     },
     "execution_count": 109,
     "metadata": {},
     "output_type": "execute_result"
    }
   ],
   "source": [
    "tops = test[test['yhat'] > 0.3].copy()\n",
    "\n",
    "tops['return_rank']  = pd.qcut(tops['return'], q=5) # 종가 수익률\n",
    "tops['price_rank']  = pd.qcut(tops['price_z'], q=5) # 가격 변동성\n",
    "tops.groupby(['return_rank','price_rank'])['target'].mean().unstack()"
   ]
  },
  {
   "cell_type": "markdown",
   "id": "68a90b91-c7d3-4c99-98fc-db67a9da454a",
   "metadata": {},
   "source": [
    "<br> 참고로 groupby 로 데이터를 요약하는 방법은 직관적이나, 각 행과 열의 총계는 보여주지 않는다는 단점이 있습니다. 총계가 보고 싶을 때는 pivot_table 에서 'margins=True' 를 인수로 넣어주면 총계를 볼 수 있습니다."
   ]
  },
  {
   "cell_type": "code",
   "execution_count": 110,
   "id": "cff0348f-0cfc-4c14-a34d-0c12a0483613",
   "metadata": {},
   "outputs": [
    {
     "data": {
      "text/html": [
       "<div>\n",
       "<style scoped>\n",
       "    .dataframe tbody tr th:only-of-type {\n",
       "        vertical-align: middle;\n",
       "    }\n",
       "\n",
       "    .dataframe tbody tr th {\n",
       "        vertical-align: top;\n",
       "    }\n",
       "\n",
       "    .dataframe thead th {\n",
       "        text-align: right;\n",
       "    }\n",
       "</style>\n",
       "<table border=\"1\" class=\"dataframe\">\n",
       "  <thead>\n",
       "    <tr style=\"text-align: right;\">\n",
       "      <th>price_rank</th>\n",
       "      <th>(-4.36, -1.836]</th>\n",
       "      <th>(-1.836, -0.959]</th>\n",
       "      <th>(-0.959, 0.529]</th>\n",
       "      <th>(0.529, 1.655]</th>\n",
       "      <th>(1.655, 4.359]</th>\n",
       "      <th>All</th>\n",
       "    </tr>\n",
       "    <tr>\n",
       "      <th>return_rank</th>\n",
       "      <th></th>\n",
       "      <th></th>\n",
       "      <th></th>\n",
       "      <th></th>\n",
       "      <th></th>\n",
       "      <th></th>\n",
       "    </tr>\n",
       "  </thead>\n",
       "  <tbody>\n",
       "    <tr>\n",
       "      <th>(0.325, 0.958]</th>\n",
       "      <td>0.465</td>\n",
       "      <td>0.400</td>\n",
       "      <td>0.364</td>\n",
       "      <td>0.405</td>\n",
       "      <td>0.353</td>\n",
       "      <td>0.419</td>\n",
       "    </tr>\n",
       "    <tr>\n",
       "      <th>(0.958, 0.98]</th>\n",
       "      <td>0.322</td>\n",
       "      <td>0.322</td>\n",
       "      <td>0.312</td>\n",
       "      <td>0.367</td>\n",
       "      <td>0.378</td>\n",
       "      <td>0.330</td>\n",
       "    </tr>\n",
       "    <tr>\n",
       "      <th>(0.98, 1.0]</th>\n",
       "      <td>0.250</td>\n",
       "      <td>0.300</td>\n",
       "      <td>0.303</td>\n",
       "      <td>0.331</td>\n",
       "      <td>0.331</td>\n",
       "      <td>0.302</td>\n",
       "    </tr>\n",
       "    <tr>\n",
       "      <th>(1.0, 1.031]</th>\n",
       "      <td>0.383</td>\n",
       "      <td>0.341</td>\n",
       "      <td>0.322</td>\n",
       "      <td>0.339</td>\n",
       "      <td>0.328</td>\n",
       "      <td>0.335</td>\n",
       "    </tr>\n",
       "    <tr>\n",
       "      <th>(1.031, 1.3]</th>\n",
       "      <td>0.695</td>\n",
       "      <td>0.470</td>\n",
       "      <td>0.331</td>\n",
       "      <td>0.381</td>\n",
       "      <td>0.370</td>\n",
       "      <td>0.377</td>\n",
       "    </tr>\n",
       "    <tr>\n",
       "      <th>All</th>\n",
       "      <td>0.376</td>\n",
       "      <td>0.343</td>\n",
       "      <td>0.325</td>\n",
       "      <td>0.362</td>\n",
       "      <td>0.356</td>\n",
       "      <td>0.352</td>\n",
       "    </tr>\n",
       "  </tbody>\n",
       "</table>\n",
       "</div>"
      ],
      "text/plain": [
       "price_rank      (-4.36, -1.836]  (-1.836, -0.959]  (-0.959, 0.529]  \\\n",
       "return_rank                                                          \n",
       "(0.325, 0.958]            0.465             0.400            0.364   \n",
       "(0.958, 0.98]             0.322             0.322            0.312   \n",
       "(0.98, 1.0]               0.250             0.300            0.303   \n",
       "(1.0, 1.031]              0.383             0.341            0.322   \n",
       "(1.031, 1.3]              0.695             0.470            0.331   \n",
       "All                       0.376             0.343            0.325   \n",
       "\n",
       "price_rank      (0.529, 1.655]  (1.655, 4.359]   All  \n",
       "return_rank                                           \n",
       "(0.325, 0.958]           0.405           0.353 0.419  \n",
       "(0.958, 0.98]            0.367           0.378 0.330  \n",
       "(0.98, 1.0]              0.331           0.331 0.302  \n",
       "(1.0, 1.031]             0.339           0.328 0.335  \n",
       "(1.031, 1.3]             0.381           0.370 0.377  \n",
       "All                      0.362           0.356 0.352  "
      ]
     },
     "execution_count": 110,
     "metadata": {},
     "output_type": "execute_result"
    }
   ],
   "source": [
    "pd.pivot_table(data = tops, index = 'return_rank', columns = 'price_rank', values = 'target', aggfunc='mean', margins=True)"
   ]
  },
  {
   "cell_type": "code",
   "execution_count": 112,
   "id": "a13b7530-0643-41b7-bf02-43cd57955002",
   "metadata": {},
   "outputs": [
    {
     "data": {
      "text/html": [
       "<div>\n",
       "<style scoped>\n",
       "    .dataframe tbody tr th:only-of-type {\n",
       "        vertical-align: middle;\n",
       "    }\n",
       "\n",
       "    .dataframe tbody tr th {\n",
       "        vertical-align: top;\n",
       "    }\n",
       "\n",
       "    .dataframe thead th {\n",
       "        text-align: right;\n",
       "    }\n",
       "</style>\n",
       "<table border=\"1\" class=\"dataframe\">\n",
       "  <thead>\n",
       "    <tr style=\"text-align: right;\">\n",
       "      <th>price_rank</th>\n",
       "      <th>(-4.36, -1.836]</th>\n",
       "      <th>(-1.836, -0.959]</th>\n",
       "      <th>(-0.959, 0.529]</th>\n",
       "      <th>(0.529, 1.655]</th>\n",
       "      <th>(1.655, 4.359]</th>\n",
       "      <th>All</th>\n",
       "    </tr>\n",
       "    <tr>\n",
       "      <th>return_rank</th>\n",
       "      <th></th>\n",
       "      <th></th>\n",
       "      <th></th>\n",
       "      <th></th>\n",
       "      <th></th>\n",
       "      <th></th>\n",
       "    </tr>\n",
       "  </thead>\n",
       "  <tbody>\n",
       "    <tr>\n",
       "      <th>(0.325, 0.958]</th>\n",
       "      <td>0.971</td>\n",
       "      <td>0.955</td>\n",
       "      <td>0.950</td>\n",
       "      <td>0.950</td>\n",
       "      <td>0.939</td>\n",
       "      <td>0.959</td>\n",
       "    </tr>\n",
       "    <tr>\n",
       "      <th>(0.958, 0.98]</th>\n",
       "      <td>0.968</td>\n",
       "      <td>0.962</td>\n",
       "      <td>0.956</td>\n",
       "      <td>0.956</td>\n",
       "      <td>0.948</td>\n",
       "      <td>0.961</td>\n",
       "    </tr>\n",
       "    <tr>\n",
       "      <th>(0.98, 1.0]</th>\n",
       "      <td>0.964</td>\n",
       "      <td>0.965</td>\n",
       "      <td>0.959</td>\n",
       "      <td>0.955</td>\n",
       "      <td>0.946</td>\n",
       "      <td>0.960</td>\n",
       "    </tr>\n",
       "    <tr>\n",
       "      <th>(1.0, 1.031]</th>\n",
       "      <td>0.971</td>\n",
       "      <td>0.966</td>\n",
       "      <td>0.959</td>\n",
       "      <td>0.953</td>\n",
       "      <td>0.952</td>\n",
       "      <td>0.958</td>\n",
       "    </tr>\n",
       "    <tr>\n",
       "      <th>(1.031, 1.3]</th>\n",
       "      <td>0.994</td>\n",
       "      <td>0.969</td>\n",
       "      <td>0.951</td>\n",
       "      <td>0.948</td>\n",
       "      <td>0.949</td>\n",
       "      <td>0.951</td>\n",
       "    </tr>\n",
       "    <tr>\n",
       "      <th>All</th>\n",
       "      <td>0.969</td>\n",
       "      <td>0.963</td>\n",
       "      <td>0.955</td>\n",
       "      <td>0.952</td>\n",
       "      <td>0.949</td>\n",
       "      <td>0.958</td>\n",
       "    </tr>\n",
       "  </tbody>\n",
       "</table>\n",
       "</div>"
      ],
      "text/plain": [
       "price_rank      (-4.36, -1.836]  (-1.836, -0.959]  (-0.959, 0.529]  \\\n",
       "return_rank                                                          \n",
       "(0.325, 0.958]            0.971             0.955            0.950   \n",
       "(0.958, 0.98]             0.968             0.962            0.956   \n",
       "(0.98, 1.0]               0.964             0.965            0.959   \n",
       "(1.0, 1.031]              0.971             0.966            0.959   \n",
       "(1.031, 1.3]              0.994             0.969            0.951   \n",
       "All                       0.969             0.963            0.955   \n",
       "\n",
       "price_rank      (0.529, 1.655]  (1.655, 4.359]   All  \n",
       "return_rank                                           \n",
       "(0.325, 0.958]           0.950           0.939 0.959  \n",
       "(0.958, 0.98]            0.956           0.948 0.961  \n",
       "(0.98, 1.0]              0.955           0.946 0.960  \n",
       "(1.0, 1.031]             0.953           0.952 0.958  \n",
       "(1.031, 1.3]             0.948           0.949 0.951  \n",
       "All                      0.952           0.949 0.958  "
      ]
     },
     "execution_count": 112,
     "metadata": {},
     "output_type": "execute_result"
    }
   ],
   "source": [
    "pd.pivot_table(data = tops, index = 'return_rank', columns = 'price_rank', values = 'min_close', aggfunc='mean', margins=True)"
   ]
  },
  {
   "cell_type": "markdown",
   "id": "fd53e5e8-0dd3-45f4-a6c5-c5a83dcee5ad",
   "metadata": {},
   "source": [
    "<br> 위 결과를 종합하면 종가 수익률은 높고, 최근 20일 대비 가격이 낮은 종목을 매수하면 리스크가 적을 것으로 판단됩니다."
   ]
  },
  {
   "cell_type": "code",
   "execution_count": 122,
   "id": "2ffee5d0-38ff-487e-a4a0-ec4be0b5307c",
   "metadata": {},
   "outputs": [
    {
     "data": {
      "text/html": [
       "<div>\n",
       "<style scoped>\n",
       "    .dataframe tbody tr th:only-of-type {\n",
       "        vertical-align: middle;\n",
       "    }\n",
       "\n",
       "    .dataframe tbody tr th {\n",
       "        vertical-align: top;\n",
       "    }\n",
       "\n",
       "    .dataframe thead th {\n",
       "        text-align: right;\n",
       "    }\n",
       "</style>\n",
       "<table border=\"1\" class=\"dataframe\">\n",
       "  <thead>\n",
       "    <tr style=\"text-align: right;\">\n",
       "      <th></th>\n",
       "      <th></th>\n",
       "      <th>return_rank</th>\n",
       "      <th>price_rank</th>\n",
       "    </tr>\n",
       "    <tr>\n",
       "      <th>date</th>\n",
       "      <th>code</th>\n",
       "      <th></th>\n",
       "      <th></th>\n",
       "    </tr>\n",
       "  </thead>\n",
       "  <tbody>\n",
       "    <tr>\n",
       "      <th>2021-12-01</th>\n",
       "      <th>010240</th>\n",
       "      <td>4</td>\n",
       "      <td>0</td>\n",
       "    </tr>\n",
       "    <tr>\n",
       "      <th>2021-11-12</th>\n",
       "      <th>145020</th>\n",
       "      <td>4</td>\n",
       "      <td>0</td>\n",
       "    </tr>\n",
       "    <tr>\n",
       "      <th>2021-11-03</th>\n",
       "      <th>215090</th>\n",
       "      <td>4</td>\n",
       "      <td>0</td>\n",
       "    </tr>\n",
       "    <tr>\n",
       "      <th>2021-09-07</th>\n",
       "      <th>032860</th>\n",
       "      <td>4</td>\n",
       "      <td>0</td>\n",
       "    </tr>\n",
       "    <tr>\n",
       "      <th>2021-07-29</th>\n",
       "      <th>353190</th>\n",
       "      <td>4</td>\n",
       "      <td>0</td>\n",
       "    </tr>\n",
       "    <tr>\n",
       "      <th>...</th>\n",
       "      <th>...</th>\n",
       "      <td>...</td>\n",
       "      <td>...</td>\n",
       "    </tr>\n",
       "    <tr>\n",
       "      <th>2021-10-07</th>\n",
       "      <th>022220</th>\n",
       "      <td>4</td>\n",
       "      <td>0</td>\n",
       "    </tr>\n",
       "    <tr>\n",
       "      <th>2022-01-28</th>\n",
       "      <th>255220</th>\n",
       "      <td>4</td>\n",
       "      <td>0</td>\n",
       "    </tr>\n",
       "    <tr>\n",
       "      <th>2021-08-23</th>\n",
       "      <th>226360</th>\n",
       "      <td>4</td>\n",
       "      <td>0</td>\n",
       "    </tr>\n",
       "    <tr>\n",
       "      <th>2021-11-18</th>\n",
       "      <th>023460</th>\n",
       "      <td>4</td>\n",
       "      <td>0</td>\n",
       "    </tr>\n",
       "    <tr>\n",
       "      <th>2022-03-16</th>\n",
       "      <th>013720</th>\n",
       "      <td>4</td>\n",
       "      <td>0</td>\n",
       "    </tr>\n",
       "  </tbody>\n",
       "</table>\n",
       "<p>105 rows × 2 columns</p>\n",
       "</div>"
      ],
      "text/plain": [
       "                  return_rank price_rank\n",
       "date       code                         \n",
       "2021-12-01 010240           4          0\n",
       "2021-11-12 145020           4          0\n",
       "2021-11-03 215090           4          0\n",
       "2021-09-07 032860           4          0\n",
       "2021-07-29 353190           4          0\n",
       "...                       ...        ...\n",
       "2021-10-07 022220           4          0\n",
       "2022-01-28 255220           4          0\n",
       "2021-08-23 226360           4          0\n",
       "2021-11-18 023460           4          0\n",
       "2022-03-16 013720           4          0\n",
       "\n",
       "[105 rows x 2 columns]"
      ]
     },
     "execution_count": 122,
     "metadata": {},
     "output_type": "execute_result"
    }
   ],
   "source": [
    "tops['return_rank']  = pd.qcut(tops['return'], q=5, labels=range(5)) # 종가 수익률\n",
    "tops['price_rank']  = pd.qcut(tops['price_z'], q=5, labels=range(5)) # 가격 변동성\n",
    "tops[ (tops['return_rank']==4) & (tops['price_rank']==0)][['return_rank','price_rank']]\n"
   ]
  },
  {
   "cell_type": "code",
   "execution_count": null,
   "id": "df64be4b-7e29-49d4-84b8-c6680c91a791",
   "metadata": {},
   "outputs": [],
   "source": []
  }
 ],
 "metadata": {
  "kernelspec": {
   "display_name": "Python 3 (ipykernel)",
   "language": "python",
   "name": "python3"
  },
  "language_info": {
   "codemirror_mode": {
    "name": "ipython",
    "version": 3
   },
   "file_extension": ".py",
   "mimetype": "text/x-python",
   "name": "python",
   "nbconvert_exporter": "python",
   "pygments_lexer": "ipython3",
   "version": "3.9.7"
  }
 },
 "nbformat": 4,
 "nbformat_minor": 5
}
