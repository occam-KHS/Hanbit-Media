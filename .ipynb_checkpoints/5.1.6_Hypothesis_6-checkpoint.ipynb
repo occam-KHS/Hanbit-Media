{
 "cells": [
  {
   "cell_type": "code",
   "execution_count": 1,
   "id": "1c8f9b4e-79d6-4dba-862d-237d5f9c871d",
   "metadata": {},
   "outputs": [],
   "source": [
    "import FinanceDataReader as fdr\n",
    "%matplotlib inline\n",
    "import matplotlib.pyplot as plt\n",
    "import pandas as pd\n",
    "import numpy as np\n",
    "\n",
    "pd.options.display.float_format = '{:,.3f}'.format"
   ]
  },
  {
   "cell_type": "markdown",
   "id": "089ccb20-4ff9-4a73-92f5-c3cb04bacbcb",
   "metadata": {},
   "source": [
    "### 동종업계 평균 수익률보다 더 좋은 수익률을 보여준다.     "
   ]
  },
  {
   "cell_type": "code",
   "execution_count": 2,
   "id": "13020bf7-1724-43e8-8e33-63ea728d7808",
   "metadata": {},
   "outputs": [
    {
     "data": {
      "text/html": [
       "<style type=\"text/css\">\n",
       "</style>\n",
       "<table id=\"T_5fa9c_\" style=\"font-size: 10px\">\n",
       "  <thead>\n",
       "    <tr>\n",
       "      <th class=\"blank level0\" >&nbsp;</th>\n",
       "      <th class=\"col_heading level0 col0\" >open</th>\n",
       "      <th class=\"col_heading level0 col1\" >high</th>\n",
       "      <th class=\"col_heading level0 col2\" >low</th>\n",
       "      <th class=\"col_heading level0 col3\" >close</th>\n",
       "      <th class=\"col_heading level0 col4\" >volume</th>\n",
       "      <th class=\"col_heading level0 col5\" >change</th>\n",
       "      <th class=\"col_heading level0 col6\" >code</th>\n",
       "      <th class=\"col_heading level0 col7\" >name</th>\n",
       "      <th class=\"col_heading level0 col8\" >kosdaq_return</th>\n",
       "      <th class=\"col_heading level0 col9\" >return</th>\n",
       "      <th class=\"col_heading level0 col10\" >win_market</th>\n",
       "      <th class=\"col_heading level0 col11\" >close_r1</th>\n",
       "      <th class=\"col_heading level0 col12\" >close_r2</th>\n",
       "      <th class=\"col_heading level0 col13\" >close_r3</th>\n",
       "      <th class=\"col_heading level0 col14\" >close_r4</th>\n",
       "      <th class=\"col_heading level0 col15\" >close_r5</th>\n",
       "      <th class=\"col_heading level0 col16\" >max_close</th>\n",
       "    </tr>\n",
       "  </thead>\n",
       "  <tbody>\n",
       "    <tr>\n",
       "      <th id=\"T_5fa9c_level0_row0\" class=\"row_heading level0 row0\" >2021-01-05</th>\n",
       "      <td id=\"T_5fa9c_row0_col0\" class=\"data row0 col0\" >2270</td>\n",
       "      <td id=\"T_5fa9c_row0_col1\" class=\"data row0 col1\" >2285</td>\n",
       "      <td id=\"T_5fa9c_row0_col2\" class=\"data row0 col2\" >2200</td>\n",
       "      <td id=\"T_5fa9c_row0_col3\" class=\"data row0 col3\" >2250</td>\n",
       "      <td id=\"T_5fa9c_row0_col4\" class=\"data row0 col4\" >410263</td>\n",
       "      <td id=\"T_5fa9c_row0_col5\" class=\"data row0 col5\" >-0.004425</td>\n",
       "      <td id=\"T_5fa9c_row0_col6\" class=\"data row0 col6\" >060310</td>\n",
       "      <td id=\"T_5fa9c_row0_col7\" class=\"data row0 col7\" >3S</td>\n",
       "      <td id=\"T_5fa9c_row0_col8\" class=\"data row0 col8\" >1.008326</td>\n",
       "      <td id=\"T_5fa9c_row0_col9\" class=\"data row0 col9\" >0.995575</td>\n",
       "      <td id=\"T_5fa9c_row0_col10\" class=\"data row0 col10\" >0</td>\n",
       "      <td id=\"T_5fa9c_row0_col11\" class=\"data row0 col11\" >1.017778</td>\n",
       "      <td id=\"T_5fa9c_row0_col12\" class=\"data row0 col12\" >1.017778</td>\n",
       "      <td id=\"T_5fa9c_row0_col13\" class=\"data row0 col13\" >0.997778</td>\n",
       "      <td id=\"T_5fa9c_row0_col14\" class=\"data row0 col14\" >0.966667</td>\n",
       "      <td id=\"T_5fa9c_row0_col15\" class=\"data row0 col15\" >0.971111</td>\n",
       "      <td id=\"T_5fa9c_row0_col16\" class=\"data row0 col16\" >1.017778</td>\n",
       "    </tr>\n",
       "    <tr>\n",
       "      <th id=\"T_5fa9c_level0_row1\" class=\"row_heading level0 row1\" >2021-01-06</th>\n",
       "      <td id=\"T_5fa9c_row1_col0\" class=\"data row1 col0\" >2225</td>\n",
       "      <td id=\"T_5fa9c_row1_col1\" class=\"data row1 col1\" >2310</td>\n",
       "      <td id=\"T_5fa9c_row1_col2\" class=\"data row1 col2\" >2215</td>\n",
       "      <td id=\"T_5fa9c_row1_col3\" class=\"data row1 col3\" >2290</td>\n",
       "      <td id=\"T_5fa9c_row1_col4\" class=\"data row1 col4\" >570349</td>\n",
       "      <td id=\"T_5fa9c_row1_col5\" class=\"data row1 col5\" >0.017778</td>\n",
       "      <td id=\"T_5fa9c_row1_col6\" class=\"data row1 col6\" >060310</td>\n",
       "      <td id=\"T_5fa9c_row1_col7\" class=\"data row1 col7\" >3S</td>\n",
       "      <td id=\"T_5fa9c_row1_col8\" class=\"data row1 col8\" >0.995567</td>\n",
       "      <td id=\"T_5fa9c_row1_col9\" class=\"data row1 col9\" >1.017778</td>\n",
       "      <td id=\"T_5fa9c_row1_col10\" class=\"data row1 col10\" >1</td>\n",
       "      <td id=\"T_5fa9c_row1_col11\" class=\"data row1 col11\" >1.000000</td>\n",
       "      <td id=\"T_5fa9c_row1_col12\" class=\"data row1 col12\" >0.980349</td>\n",
       "      <td id=\"T_5fa9c_row1_col13\" class=\"data row1 col13\" >0.949782</td>\n",
       "      <td id=\"T_5fa9c_row1_col14\" class=\"data row1 col14\" >0.954148</td>\n",
       "      <td id=\"T_5fa9c_row1_col15\" class=\"data row1 col15\" >0.949782</td>\n",
       "      <td id=\"T_5fa9c_row1_col16\" class=\"data row1 col16\" >1.000000</td>\n",
       "    </tr>\n",
       "    <tr>\n",
       "      <th id=\"T_5fa9c_level0_row2\" class=\"row_heading level0 row2\" >2021-01-07</th>\n",
       "      <td id=\"T_5fa9c_row2_col0\" class=\"data row2 col0\" >2290</td>\n",
       "      <td id=\"T_5fa9c_row2_col1\" class=\"data row2 col1\" >2340</td>\n",
       "      <td id=\"T_5fa9c_row2_col2\" class=\"data row2 col2\" >2240</td>\n",
       "      <td id=\"T_5fa9c_row2_col3\" class=\"data row2 col3\" >2290</td>\n",
       "      <td id=\"T_5fa9c_row2_col4\" class=\"data row2 col4\" >519777</td>\n",
       "      <td id=\"T_5fa9c_row2_col5\" class=\"data row2 col5\" >0.000000</td>\n",
       "      <td id=\"T_5fa9c_row2_col6\" class=\"data row2 col6\" >060310</td>\n",
       "      <td id=\"T_5fa9c_row2_col7\" class=\"data row2 col7\" >3S</td>\n",
       "      <td id=\"T_5fa9c_row2_col8\" class=\"data row2 col8\" >1.007612</td>\n",
       "      <td id=\"T_5fa9c_row2_col9\" class=\"data row2 col9\" >1.000000</td>\n",
       "      <td id=\"T_5fa9c_row2_col10\" class=\"data row2 col10\" >0</td>\n",
       "      <td id=\"T_5fa9c_row2_col11\" class=\"data row2 col11\" >0.980349</td>\n",
       "      <td id=\"T_5fa9c_row2_col12\" class=\"data row2 col12\" >0.949782</td>\n",
       "      <td id=\"T_5fa9c_row2_col13\" class=\"data row2 col13\" >0.954148</td>\n",
       "      <td id=\"T_5fa9c_row2_col14\" class=\"data row2 col14\" >0.949782</td>\n",
       "      <td id=\"T_5fa9c_row2_col15\" class=\"data row2 col15\" >0.958515</td>\n",
       "      <td id=\"T_5fa9c_row2_col16\" class=\"data row2 col16\" >0.980349</td>\n",
       "    </tr>\n",
       "    <tr>\n",
       "      <th id=\"T_5fa9c_level0_row3\" class=\"row_heading level0 row3\" >2021-01-08</th>\n",
       "      <td id=\"T_5fa9c_row3_col0\" class=\"data row3 col0\" >2300</td>\n",
       "      <td id=\"T_5fa9c_row3_col1\" class=\"data row3 col1\" >2315</td>\n",
       "      <td id=\"T_5fa9c_row3_col2\" class=\"data row3 col2\" >2225</td>\n",
       "      <td id=\"T_5fa9c_row3_col3\" class=\"data row3 col3\" >2245</td>\n",
       "      <td id=\"T_5fa9c_row3_col4\" class=\"data row3 col4\" >462568</td>\n",
       "      <td id=\"T_5fa9c_row3_col5\" class=\"data row3 col5\" >-0.019651</td>\n",
       "      <td id=\"T_5fa9c_row3_col6\" class=\"data row3 col6\" >060310</td>\n",
       "      <td id=\"T_5fa9c_row3_col7\" class=\"data row3 col7\" >3S</td>\n",
       "      <td id=\"T_5fa9c_row3_col8\" class=\"data row3 col8\" >0.998918</td>\n",
       "      <td id=\"T_5fa9c_row3_col9\" class=\"data row3 col9\" >0.980349</td>\n",
       "      <td id=\"T_5fa9c_row3_col10\" class=\"data row3 col10\" >0</td>\n",
       "      <td id=\"T_5fa9c_row3_col11\" class=\"data row3 col11\" >0.968820</td>\n",
       "      <td id=\"T_5fa9c_row3_col12\" class=\"data row3 col12\" >0.973274</td>\n",
       "      <td id=\"T_5fa9c_row3_col13\" class=\"data row3 col13\" >0.968820</td>\n",
       "      <td id=\"T_5fa9c_row3_col14\" class=\"data row3 col14\" >0.977728</td>\n",
       "      <td id=\"T_5fa9c_row3_col15\" class=\"data row3 col15\" >0.973274</td>\n",
       "      <td id=\"T_5fa9c_row3_col16\" class=\"data row3 col16\" >0.977728</td>\n",
       "    </tr>\n",
       "    <tr>\n",
       "      <th id=\"T_5fa9c_level0_row4\" class=\"row_heading level0 row4\" >2021-01-11</th>\n",
       "      <td id=\"T_5fa9c_row4_col0\" class=\"data row4 col0\" >2230</td>\n",
       "      <td id=\"T_5fa9c_row4_col1\" class=\"data row4 col1\" >2275</td>\n",
       "      <td id=\"T_5fa9c_row4_col2\" class=\"data row4 col2\" >2130</td>\n",
       "      <td id=\"T_5fa9c_row4_col3\" class=\"data row4 col3\" >2175</td>\n",
       "      <td id=\"T_5fa9c_row4_col4\" class=\"data row4 col4\" >409057</td>\n",
       "      <td id=\"T_5fa9c_row4_col5\" class=\"data row4 col5\" >-0.031180</td>\n",
       "      <td id=\"T_5fa9c_row4_col6\" class=\"data row4 col6\" >060310</td>\n",
       "      <td id=\"T_5fa9c_row4_col7\" class=\"data row4 col7\" >3S</td>\n",
       "      <td id=\"T_5fa9c_row4_col8\" class=\"data row4 col8\" >0.988702</td>\n",
       "      <td id=\"T_5fa9c_row4_col9\" class=\"data row4 col9\" >0.968820</td>\n",
       "      <td id=\"T_5fa9c_row4_col10\" class=\"data row4 col10\" >0</td>\n",
       "      <td id=\"T_5fa9c_row4_col11\" class=\"data row4 col11\" >1.004598</td>\n",
       "      <td id=\"T_5fa9c_row4_col12\" class=\"data row4 col12\" >1.000000</td>\n",
       "      <td id=\"T_5fa9c_row4_col13\" class=\"data row4 col13\" >1.009195</td>\n",
       "      <td id=\"T_5fa9c_row4_col14\" class=\"data row4 col14\" >1.004598</td>\n",
       "      <td id=\"T_5fa9c_row4_col15\" class=\"data row4 col15\" >1.002299</td>\n",
       "      <td id=\"T_5fa9c_row4_col16\" class=\"data row4 col16\" >1.009195</td>\n",
       "    </tr>\n",
       "  </tbody>\n",
       "</table>\n"
      ],
      "text/plain": [
       "<pandas.io.formats.style.Styler at 0x29c3b6fb580>"
      ]
     },
     "execution_count": 2,
     "metadata": {},
     "output_type": "execute_result"
    }
   ],
   "source": [
    "mdl_data = pd.read_pickle('mdl_data.pkl')\n",
    "mdl_data.head().style.set_table_attributes('style=\"font-size: 10px\"')"
   ]
  },
  {
   "cell_type": "markdown",
   "id": "18dd532c-52dd-4f7e-9c32-099638618cf6",
   "metadata": {},
   "source": [
    "<br> 우선 과거 60일 평균 수익율 값을 return_mean 에 저장합니다. 그리고 종목에 sector 정보를 추가합니다."
   ]
  },
  {
   "cell_type": "code",
   "execution_count": 3,
   "id": "06ca3861-36c0-4bc5-afc3-f4945f1e9308",
   "metadata": {},
   "outputs": [],
   "source": [
    "kosdaq_list = pd.read_pickle('kosdaq_list.pkl')\n",
    "\n",
    "data_h6 = pd.DataFrame()\n",
    "\n",
    "for code, sector in zip(kosdaq_list['code'], kosdaq_list['sector']):\n",
    "    \n",
    "    # 종목별 처리\n",
    "    data = mdl_data[mdl_data['code']==code].sort_index().copy()\n",
    "    data.dropna(inplace=True)\n",
    "    \n",
    "    # 최근 60일 평균 수익율            \n",
    "    data['return_mean'] = data['return'].rolling(60).mean() # 종목별 최근 60 일 수익율의 평균\n",
    "    data['sector'] = sector     \n",
    "  \n",
    "    data.dropna(subset=['return_mean'], inplace=True)    \n",
    "    data_h6 = pd.concat([data, data_h6], axis=0)\n",
    "\n",
    "    \n",
    "data_h6['sector_return'] = data_h6.groupby(['sector', data_h6.index])['return'].transform(lambda x: x.mean())\n",
    "data_h6['return over sector'] = (data_h6['return']/data_h6['sector_return'])\n",
    "\n",
    "data_h6.to_pickle('data_h6.pkl')  "
   ]
  },
  {
   "cell_type": "markdown",
   "id": "3746424e-e126-40e1-8c40-2103d1cb1456",
   "metadata": {},
   "source": [
    "<br> 종목이 몇 개 없는 섹터는 평균의 의미가 없으므로 섹터에 종목이 최소한 10 개 이상이 있는 섹터만 보겠습니다. "
   ]
  },
  {
   "cell_type": "code",
   "execution_count": 4,
   "id": "33281376-0fd4-4531-9b27-479c132815a7",
   "metadata": {},
   "outputs": [],
   "source": [
    "data_h6 = pd.read_pickle('data_h6.pkl')  \n",
    "sector_count = data_h6.groupby('sector')['code'].nunique().sort_values() # 섹터별로 종목 수 계산\n",
    "data_h6x = data_h6[data_h6['sector'].isin(sector_count[sector_count>=10].index)].copy() # 섹터별로 10개 이상이 있는 종목이 있는 섹터만 추출"
   ]
  },
  {
   "cell_type": "markdown",
   "id": "67b1932a-fbb4-48ae-bc08-80ac1fb3fb77",
   "metadata": {},
   "source": [
    "<br> 섹터 평균 수익율 대비 종목 수익율이 아주 낮거나, 높은 경우에 미래 수익률이 높게 나왔습니다. 종목 수익률이 섹터 평균 수익률과 비슷한 경우는 예상 수익율이 낮게 나타나고 있습니다."
   ]
  },
  {
   "cell_type": "code",
   "execution_count": 5,
   "id": "5aabef4f-0bb4-4a67-bb0b-8766717a5683",
   "metadata": {},
   "outputs": [
    {
     "name": "stdout",
     "output_type": "stream",
     "text": [
      "                        count  mean   std   min   10%   50%   90%   max\n",
      "return over sector                                                     \n",
      "(0.688, 0.973]     26,935.000 1.042 0.087 0.700 0.974 1.022 1.126 2.968\n",
      "(0.973, 0.983]     26,935.000 1.034 0.067 0.702 0.982 1.018 1.099 2.171\n",
      "(0.983, 0.989]     26,934.000 1.030 0.060 0.704 0.984 1.016 1.087 2.286\n",
      "(0.989, 0.994]     26,935.000 1.028 0.060 0.700 0.985 1.014 1.082 2.194\n",
      "(0.994, 0.998]     26,934.000 1.027 0.058 0.819 0.985 1.013 1.080 2.729\n",
      "(0.998, 1.002]     26,935.000 1.026 0.059 0.700 0.985 1.012 1.077 2.652\n",
      "(1.002, 1.007]     26,934.000 1.027 0.062 0.700 0.984 1.012 1.080 3.027\n",
      "(1.007, 1.014]     26,935.000 1.028 0.062 0.700 0.983 1.013 1.084 3.380\n",
      "(1.014, 1.027]     26,934.000 1.031 0.068 0.700 0.980 1.014 1.093 2.412\n",
      "(1.027, 1.399]     26,935.000 1.043 0.105 0.700 0.970 1.019 1.136 3.703\n"
     ]
    },
    {
     "data": {
      "text/plain": [
       "<AxesSubplot:xlabel='return over sector'>"
      ]
     },
     "execution_count": 5,
     "metadata": {},
     "output_type": "execute_result"
    },
    {
     "data": {
      "image/png": "[encoded data removed]",
      "text/plain": [
       "<Figure size 864x360 with 1 Axes>"
      ]
     },
     "metadata": {
      "needs_background": "light"
     },
     "output_type": "display_data"
    }
   ],
   "source": [
    "data_h6x['sector_return'] = data_h6x.groupby(['sector', data_h6x.index])['return'].transform(lambda x: x.mean())\n",
    "data_h6x['return over sector'] = (data_h6x['return']/data_h6x['sector_return'])\n",
    "ranks = pd.qcut(data_h6x['return over sector'], q=10)\n",
    "print(data_h6x.groupby(ranks)['max_close'].describe(percentiles=[0.1, 0.9]))\n",
    "data_h6x.groupby(ranks)['max_close'].mean().plot(figsize=(12,5))"
   ]
  }
 ],
 "metadata": {
  "kernelspec": {
   "display_name": "Python 3 (ipykernel)",
   "language": "python",
   "name": "python3"
  },
  "language_info": {
   "codemirror_mode": {
    "name": "ipython",
    "version": 3
   },
   "file_extension": ".py",
   "mimetype": "text/x-python",
   "name": "python",
   "nbconvert_exporter": "python",
   "pygments_lexer": "ipython3",
   "version": "3.9.7"
  }
 },
 "nbformat": 4,
 "nbformat_minor": 5
}
