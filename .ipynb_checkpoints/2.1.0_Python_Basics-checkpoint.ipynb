{
 "cells": [
  {
   "cell_type": "markdown",
   "id": "7130e3ad-58cf-4931-a666-baed70865d99",
   "metadata": {},
   "source": [
    "### **2장 파이썬 데이터분석 기초**\n",
    "\n",
    "이번 장에서는 데이터 분석에 꼭 필요한 부분만 다룰 수 있도록 하겠습니다. 파이썬 기초 학습은 유튜브에서 좋은 강의를 쉽게 찾으실 수 있습니다. 데이터 분석에 필요한 기술만 우선적으로 익히고, 배운 기술을 이용하여 래리 윌리암스의 변동성 돌파전략을 구현해 보겠습니다. \n"
   ]
  },
  {
   "cell_type": "code",
   "execution_count": null,
   "id": "66734e29-a539-4abb-a8b0-c4681fc47bd0",
   "metadata": {},
   "outputs": [],
   "source": []
  }
 ],
 "metadata": {
  "kernelspec": {
   "display_name": "Python 3 (ipykernel)",
   "language": "python",
   "name": "python3"
  },
  "language_info": {
   "codemirror_mode": {
    "name": "ipython",
    "version": 3
   },
   "file_extension": ".py",
   "mimetype": "text/x-python",
   "name": "python",
   "nbconvert_exporter": "python",
   "pygments_lexer": "ipython3",
   "version": "3.9.7"
  }
 },
 "nbformat": 4,
 "nbformat_minor": 5
}
