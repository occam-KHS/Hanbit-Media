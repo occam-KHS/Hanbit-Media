{
 "cells": [
  {
   "cell_type": "code",
   "execution_count": 1,
   "metadata": {},
   "outputs": [],
   "source": [
    "import FinanceDataReader as fdr\n",
    "%matplotlib inline\n",
    "import matplotlib.pyplot as plt\n",
    "import pandas as pd\n",
    "import numpy as np\n",
    "import warnings\n",
    "warnings.filterwarnings('ignore')\n",
    "\n",
    "pd.options.display.float_format = '{:,.3f}'.format"
   ]
  },
  {
   "cell_type": "markdown",
   "metadata": {},
   "source": [
    "### **가설 - 위 꼬리가 긴 양봉이 자주 발생한다.**\n",
    "위 꼬리는 종가보다 고가가 더 높이 위치해 있는 양봉입니다. 따라서 고가를 종가로 나눈 값이 1 보다 상당히 크면 위꼬리 양봉이라고 할 수 있습니다. 양봉의 조건은 종가가 시가보다 큰 것입니다. 이 것을 데이터로 표현합니다.\n",
    "\n"
   ]
  },
  {
   "cell_type": "code",
   "execution_count": 2,
   "metadata": {},
   "outputs": [
    {
     "data": {
      "text/html": [
       "<div>\n",
       "<style scoped>\n",
       "    .dataframe tbody tr th:only-of-type {\n",
       "        vertical-align: middle;\n",
       "    }\n",
       "\n",
       "    .dataframe tbody tr th {\n",
       "        vertical-align: top;\n",
       "    }\n",
       "\n",
       "    .dataframe thead th {\n",
       "        text-align: right;\n",
       "    }\n",
       "</style>\n",
       "<table border=\"1\" class=\"dataframe\">\n",
       "  <thead>\n",
       "    <tr style=\"text-align: right;\">\n",
       "      <th></th>\n",
       "      <th>open</th>\n",
       "      <th>high</th>\n",
       "      <th>low</th>\n",
       "      <th>close</th>\n",
       "      <th>volume</th>\n",
       "      <th>change</th>\n",
       "      <th>code</th>\n",
       "      <th>name</th>\n",
       "      <th>kosdaq_return</th>\n",
       "      <th>return</th>\n",
       "      <th>win_market</th>\n",
       "      <th>close_r1</th>\n",
       "      <th>close_r2</th>\n",
       "      <th>close_r3</th>\n",
       "      <th>close_r4</th>\n",
       "      <th>close_r5</th>\n",
       "      <th>max_close</th>\n",
       "    </tr>\n",
       "    <tr>\n",
       "      <th>date</th>\n",
       "      <th></th>\n",
       "      <th></th>\n",
       "      <th></th>\n",
       "      <th></th>\n",
       "      <th></th>\n",
       "      <th></th>\n",
       "      <th></th>\n",
       "      <th></th>\n",
       "      <th></th>\n",
       "      <th></th>\n",
       "      <th></th>\n",
       "      <th></th>\n",
       "      <th></th>\n",
       "      <th></th>\n",
       "      <th></th>\n",
       "      <th></th>\n",
       "      <th></th>\n",
       "    </tr>\n",
       "  </thead>\n",
       "  <tbody>\n",
       "    <tr>\n",
       "      <th>2021-01-04</th>\n",
       "      <td>2185</td>\n",
       "      <td>2320</td>\n",
       "      <td>2135</td>\n",
       "      <td>2260</td>\n",
       "      <td>588133</td>\n",
       "      <td>0.044</td>\n",
       "      <td>060310</td>\n",
       "      <td>3S</td>\n",
       "      <td>NaN</td>\n",
       "      <td>NaN</td>\n",
       "      <td>0</td>\n",
       "      <td>0.996</td>\n",
       "      <td>1.013</td>\n",
       "      <td>1.013</td>\n",
       "      <td>0.993</td>\n",
       "      <td>0.962</td>\n",
       "      <td>1.013</td>\n",
       "    </tr>\n",
       "    <tr>\n",
       "      <th>2021-01-05</th>\n",
       "      <td>2270</td>\n",
       "      <td>2285</td>\n",
       "      <td>2200</td>\n",
       "      <td>2250</td>\n",
       "      <td>410263</td>\n",
       "      <td>-0.004</td>\n",
       "      <td>060310</td>\n",
       "      <td>3S</td>\n",
       "      <td>1.008</td>\n",
       "      <td>0.996</td>\n",
       "      <td>0</td>\n",
       "      <td>1.018</td>\n",
       "      <td>1.018</td>\n",
       "      <td>0.998</td>\n",
       "      <td>0.967</td>\n",
       "      <td>0.971</td>\n",
       "      <td>1.018</td>\n",
       "    </tr>\n",
       "    <tr>\n",
       "      <th>2021-01-06</th>\n",
       "      <td>2225</td>\n",
       "      <td>2310</td>\n",
       "      <td>2215</td>\n",
       "      <td>2290</td>\n",
       "      <td>570349</td>\n",
       "      <td>0.018</td>\n",
       "      <td>060310</td>\n",
       "      <td>3S</td>\n",
       "      <td>0.996</td>\n",
       "      <td>1.018</td>\n",
       "      <td>1</td>\n",
       "      <td>1.000</td>\n",
       "      <td>0.980</td>\n",
       "      <td>0.950</td>\n",
       "      <td>0.954</td>\n",
       "      <td>0.950</td>\n",
       "      <td>1.000</td>\n",
       "    </tr>\n",
       "    <tr>\n",
       "      <th>2021-01-07</th>\n",
       "      <td>2290</td>\n",
       "      <td>2340</td>\n",
       "      <td>2240</td>\n",
       "      <td>2290</td>\n",
       "      <td>519777</td>\n",
       "      <td>0.000</td>\n",
       "      <td>060310</td>\n",
       "      <td>3S</td>\n",
       "      <td>1.008</td>\n",
       "      <td>1.000</td>\n",
       "      <td>0</td>\n",
       "      <td>0.980</td>\n",
       "      <td>0.950</td>\n",
       "      <td>0.954</td>\n",
       "      <td>0.950</td>\n",
       "      <td>0.959</td>\n",
       "      <td>0.980</td>\n",
       "    </tr>\n",
       "    <tr>\n",
       "      <th>2021-01-08</th>\n",
       "      <td>2300</td>\n",
       "      <td>2315</td>\n",
       "      <td>2225</td>\n",
       "      <td>2245</td>\n",
       "      <td>462568</td>\n",
       "      <td>-0.020</td>\n",
       "      <td>060310</td>\n",
       "      <td>3S</td>\n",
       "      <td>0.999</td>\n",
       "      <td>0.980</td>\n",
       "      <td>0</td>\n",
       "      <td>0.969</td>\n",
       "      <td>0.973</td>\n",
       "      <td>0.969</td>\n",
       "      <td>0.978</td>\n",
       "      <td>0.973</td>\n",
       "      <td>0.978</td>\n",
       "    </tr>\n",
       "  </tbody>\n",
       "</table>\n",
       "</div>"
      ],
      "text/plain": [
       "            open  high   low  close  volume  change    code name  \\\n",
       "date                                                               \n",
       "2021-01-04  2185  2320  2135   2260  588133   0.044  060310   3S   \n",
       "2021-01-05  2270  2285  2200   2250  410263  -0.004  060310   3S   \n",
       "2021-01-06  2225  2310  2215   2290  570349   0.018  060310   3S   \n",
       "2021-01-07  2290  2340  2240   2290  519777   0.000  060310   3S   \n",
       "2021-01-08  2300  2315  2225   2245  462568  -0.020  060310   3S   \n",
       "\n",
       "            kosdaq_return  return  win_market  close_r1  close_r2  close_r3  \\\n",
       "date                                                                          \n",
       "2021-01-04            NaN     NaN           0     0.996     1.013     1.013   \n",
       "2021-01-05          1.008   0.996           0     1.018     1.018     0.998   \n",
       "2021-01-06          0.996   1.018           1     1.000     0.980     0.950   \n",
       "2021-01-07          1.008   1.000           0     0.980     0.950     0.954   \n",
       "2021-01-08          0.999   0.980           0     0.969     0.973     0.969   \n",
       "\n",
       "            close_r4  close_r5  max_close  \n",
       "date                                       \n",
       "2021-01-04     0.993     0.962      1.013  \n",
       "2021-01-05     0.967     0.971      1.018  \n",
       "2021-01-06     0.954     0.950      1.000  \n",
       "2021-01-07     0.950     0.959      0.980  \n",
       "2021-01-08     0.978     0.973      0.978  "
      ]
     },
     "execution_count": 2,
     "metadata": {},
     "output_type": "execute_result"
    }
   ],
   "source": [
    "mdl_data = pd.read_pickle('mdl_data.pkl')\n",
    "mdl_data.head()"
   ]
  },
  {
   "cell_type": "code",
   "execution_count": 3,
   "metadata": {},
   "outputs": [],
   "source": [
    "kosdaq_list = pd.read_pickle('kosdaq_list.pkl')\n",
    "\n",
    "data_all_9 = pd.DataFrame()\n",
    "\n",
    "for code in kosdaq_list['code']:\n",
    "\n",
    "    data = mdl_data[mdl_data['code']==code].sort_index().copy()\n",
    "    \n",
    "    data['positive_candle'] = (data['close'] > data['open']).astype(int) # 양봉\n",
    "    data['high/close'] = (data['positive_candle']==1)*(data['high']/data['close'] > 1.1).astype(int) # 양봉이면서 고가가 종가보다 높게 위치\n",
    "    data['num_high/close'] =  data['high/close'].rolling(20).sum()\n",
    "       \n",
    "    data['max_close']  = data[['close_r1','close_r2','close_r3','close_r4','close_r5']].max(axis=1) # 5 영업일 종가 수익율 중 최고 값\n",
    "    data.dropna(subset=['num_high/close','close_r1','close_r2','close_r3','close_r4','close_r5'], inplace=True) # missing 이 있는 행은 제거  \n",
    "    \n",
    "    data_all_9 = pd.concat([data, data_all_9], axis=0)\n",
    "\n",
    "data_all_9.to_pickle('data_all_9.pkl')  "
   ]
  },
  {
   "cell_type": "markdown",
   "metadata": {},
   "source": [
    "<br> 윗 꼬리가 긴 양봉이 많이 발생할 수 록 수익율에 좋은 영향을 주는 것으로 분석이 되었습니다."
   ]
  },
  {
   "cell_type": "code",
   "execution_count": 4,
   "metadata": {},
   "outputs": [
    {
     "name": "stdout",
     "output_type": "stream",
     "text": [
      "                 count  mean\n",
      "num_high/close              \n",
      "0.000           357946 1.031\n",
      "1.000            38027 1.043\n",
      "2.000             5170 1.050\n",
      "3.000              829 1.073\n",
      "4.000              161 1.048\n",
      "5.000               10 1.168\n"
     ]
    },
    {
     "data": {
      "text/plain": [
       "<AxesSubplot:xlabel='num_high/close'>"
      ]
     },
     "execution_count": 4,
     "metadata": {},
     "output_type": "execute_result"
    },
    {
     "data": {
      "image/png": "[encoded data removed]",
      "text/plain": [
       "<Figure size 432x288 with 1 Axes>"
      ]
     },
     "metadata": {
      "needs_background": "light"
     },
     "output_type": "display_data"
    }
   ],
   "source": [
    "data_all_9 = pd.read_pickle('data_all_9.pkl')\n",
    "print(data_all_9.groupby('num_high/close')['max_close'].agg(['count','mean']))\n",
    "data_all_9.groupby('num_high/close')['max_close'].mean().plot()"
   ]
  },
  {
   "cell_type": "markdown",
   "metadata": {},
   "source": [
    "<br> 윗 꼬리가 긴 양봉도 궁금하지만, 장대양봉은 어떨지도 궁금합니다. 이렇게 가설을 검증하는 과정에서 새로운 가설을 테스트하기도 합니다. 장대양봉이 과거 60일 동안 몇 번 발생했는지 카운트해보고, 장대양봉의 갯 수와 수익율 사이에 상관성이 있는 지 함 보겠습니다."
   ]
  },
  {
   "cell_type": "code",
   "execution_count": 5,
   "metadata": {},
   "outputs": [],
   "source": [
    "kosdaq_list = pd.read_pickle('kosdaq_list.pkl')\n",
    "\n",
    "data_all_9 = pd.DataFrame()\n",
    "\n",
    "for code in kosdaq_list['code']:\n",
    "\n",
    "    data = mdl_data[mdl_data['code']==code].sort_index().copy()\n",
    "    \n",
    "    data['positive_candle'] = (data['close'] > data['open']).astype(int) # 양봉\n",
    "    data['long_candle'] = (data['positive_candle']==1)*(data['high']==data['close'])*\\\n",
    "    (data['low']==data['open'])*(data['close']/data['open'] > 1.2).astype(int) # 장대 양봉을 데이터로 표현\n",
    "    \n",
    "    data['num_long'] =  data['long_candle'].rolling(60).sum() # 지난 20 일 동안 장대양봉의 갯 수\n",
    "       \n",
    "    data['max_close']  = data[['close_r1','close_r2','close_r3','close_r4','close_r5']].max(axis=1) # 5 영업일 종가 수익율 중 최고 값\n",
    "    data.dropna(subset=['num_long','close_r1','close_r2','close_r3','close_r4','close_r5'], inplace=True) # missing 이 있는 행은 제거  \n",
    "    \n",
    "    data_all_9 = pd.concat([data, data_all_9], axis=0)\n",
    "\n",
    "data_all_9.to_pickle('data_all_9.pkl')  "
   ]
  },
  {
   "cell_type": "markdown",
   "metadata": {},
   "source": [
    "<br> 과거 60일 동안 장대양봉이 2 번 발생한 경우 상당히 좋은 수익율을 보여주고 있습니다."
   ]
  },
  {
   "cell_type": "code",
   "execution_count": 6,
   "metadata": {},
   "outputs": [
    {
     "name": "stdout",
     "output_type": "stream",
     "text": [
      "           count  mean\n",
      "num_long              \n",
      "0.000     339691 1.031\n",
      "1.000       5521 1.047\n",
      "2.000         91 1.058\n"
     ]
    },
    {
     "data": {
      "text/plain": [
       "<AxesSubplot:xlabel='num_long'>"
      ]
     },
     "execution_count": 6,
     "metadata": {},
     "output_type": "execute_result"
    },
    {
     "data": {
      "image/png": "[encoded data removed]",
      "text/plain": [
       "<Figure size 432x288 with 1 Axes>"
      ]
     },
     "metadata": {
      "needs_background": "light"
     },
     "output_type": "display_data"
    }
   ],
   "source": [
    "data_all_9 = pd.read_pickle('data_all_9.pkl')\n",
    "print(data_all_9.groupby('num_long')['max_close'].agg(['count','mean']))\n",
    "data_all_9.groupby('num_long')['max_close'].mean().plot()"
   ]
  },
  {
   "cell_type": "code",
   "execution_count": null,
   "metadata": {},
   "outputs": [],
   "source": []
  }
 ],
 "metadata": {
  "kernelspec": {
   "display_name": "Python 3 (ipykernel)",
   "language": "python",
   "name": "python3"
  },
  "language_info": {
   "codemirror_mode": {
    "name": "ipython",
    "version": 3
   },
   "file_extension": ".py",
   "mimetype": "text/x-python",
   "name": "python",
   "nbconvert_exporter": "python",
   "pygments_lexer": "ipython3",
   "version": "3.9.7"
  }
 },
 "nbformat": 4,
 "nbformat_minor": 4
}
