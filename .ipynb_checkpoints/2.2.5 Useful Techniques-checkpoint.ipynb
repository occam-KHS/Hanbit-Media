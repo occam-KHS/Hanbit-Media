{
 "cells": [
  {
   "cell_type": "markdown",
   "id": "30724f83-599e-4402-9550-3f597af8aee1",
   "metadata": {},
   "source": [
    "### Pickle\n",
    "Pickle 은 사전적으로 절여서 저장해 놓는다는 말인데요. 파이썬에서 데이터를 저장해 놓을 때 쓰는 패키지입니다. 파이썬 언어로 만들어진 데이터는 RAM 상에 존재합니다. 따라서, 컴퓨터가 꺼지면 자동으로 데이터가 사라지게 됩니다. 그래서, 저는 pickle 를 이용해서 데이터 작업 중간에 데이터를 저장합니다. 파이썬 DataFrame 의 저장은 csv, excel, json 등 다양한 형식으로 저장할 수 있으나, 파이썬의 데이터 타입을 손상시키지 않고, 원형대로 저장하고 불러올 수 있는 pickle 이 제일 편리합니다. 삼성전자 일봉데이터를 가져와서 피클로 저장해 보겠습니다."
   ]
  },
  {
   "cell_type": "code",
   "execution_count": 4,
   "id": "b52bafbc-84bc-4105-b9a2-afa34bd39131",
   "metadata": {},
   "outputs": [],
   "source": [
    "import FinanceDataReader as fdr\n",
    "\n",
    "code = '005930' # 삼성전자\n",
    "stock_data = fdr.DataReader(code, start='2021-01-03', end='2021-12-31') \n",
    "\n",
    "stock_data.to_pickle('stock_data.pkl') # 디렉토리를 지정하지 않으면 현재 작업 폴더에 저장이 됩니다."
   ]
  },
  {
   "cell_type": "markdown",
   "id": "fef10a8a-269d-4982-9ebe-b49663873afb",
   "metadata": {},
   "source": [
    "<br>\n",
    "이번에는 저장된 pickle 파일을 불러와 출력해 보겠습니다. 데이터가 손상되지 않고, 원형 그대로 복원되었음을 알 수 있습니다."
   ]
  },
  {
   "cell_type": "code",
   "execution_count": 3,
   "id": "40607c64-09a2-45a1-ae90-c387a67a5e25",
   "metadata": {},
   "outputs": [
    {
     "data": {
      "text/html": [
       "<div>\n",
       "<style scoped>\n",
       "    .dataframe tbody tr th:only-of-type {\n",
       "        vertical-align: middle;\n",
       "    }\n",
       "\n",
       "    .dataframe tbody tr th {\n",
       "        vertical-align: top;\n",
       "    }\n",
       "\n",
       "    .dataframe thead th {\n",
       "        text-align: right;\n",
       "    }\n",
       "</style>\n",
       "<table border=\"1\" class=\"dataframe\">\n",
       "  <thead>\n",
       "    <tr style=\"text-align: right;\">\n",
       "      <th></th>\n",
       "      <th>Open</th>\n",
       "      <th>High</th>\n",
       "      <th>Low</th>\n",
       "      <th>Close</th>\n",
       "      <th>Volume</th>\n",
       "      <th>Change</th>\n",
       "    </tr>\n",
       "    <tr>\n",
       "      <th>Date</th>\n",
       "      <th></th>\n",
       "      <th></th>\n",
       "      <th></th>\n",
       "      <th></th>\n",
       "      <th></th>\n",
       "      <th></th>\n",
       "    </tr>\n",
       "  </thead>\n",
       "  <tbody>\n",
       "    <tr>\n",
       "      <th>2021-01-04</th>\n",
       "      <td>81000</td>\n",
       "      <td>84400</td>\n",
       "      <td>80200</td>\n",
       "      <td>83000</td>\n",
       "      <td>38655276</td>\n",
       "      <td>0.024691</td>\n",
       "    </tr>\n",
       "    <tr>\n",
       "      <th>2021-01-05</th>\n",
       "      <td>81600</td>\n",
       "      <td>83900</td>\n",
       "      <td>81600</td>\n",
       "      <td>83900</td>\n",
       "      <td>35335669</td>\n",
       "      <td>0.010843</td>\n",
       "    </tr>\n",
       "    <tr>\n",
       "      <th>2021-01-06</th>\n",
       "      <td>83300</td>\n",
       "      <td>84500</td>\n",
       "      <td>82100</td>\n",
       "      <td>82200</td>\n",
       "      <td>42089013</td>\n",
       "      <td>-0.020262</td>\n",
       "    </tr>\n",
       "    <tr>\n",
       "      <th>2021-01-07</th>\n",
       "      <td>82800</td>\n",
       "      <td>84200</td>\n",
       "      <td>82700</td>\n",
       "      <td>82900</td>\n",
       "      <td>32644642</td>\n",
       "      <td>0.008516</td>\n",
       "    </tr>\n",
       "    <tr>\n",
       "      <th>2021-01-08</th>\n",
       "      <td>83300</td>\n",
       "      <td>90000</td>\n",
       "      <td>83000</td>\n",
       "      <td>88800</td>\n",
       "      <td>59013307</td>\n",
       "      <td>0.071170</td>\n",
       "    </tr>\n",
       "  </tbody>\n",
       "</table>\n",
       "</div>"
      ],
      "text/plain": [
       "             Open   High    Low  Close    Volume    Change\n",
       "Date                                                      \n",
       "2021-01-04  81000  84400  80200  83000  38655276  0.024691\n",
       "2021-01-05  81600  83900  81600  83900  35335669  0.010843\n",
       "2021-01-06  83300  84500  82100  82200  42089013 -0.020262\n",
       "2021-01-07  82800  84200  82700  82900  32644642  0.008516\n",
       "2021-01-08  83300  90000  83000  88800  59013307  0.071170"
      ]
     },
     "execution_count": 3,
     "metadata": {},
     "output_type": "execute_result"
    }
   ],
   "source": [
    "import pandas as pd\n",
    "stock_data = pd.read_pickle('stock_data.pkl')\n",
    "stock_data.head()"
   ]
  },
  {
   "cell_type": "markdown",
   "id": "d2a61d8f-670b-48ff-b15d-6f1fe2b88fe6",
   "metadata": {},
   "source": [
    "<br>\n",
    "pickle 모듈을 이용하여 binary 파일로 저장하는 것도 가능합니다. 특히 pickle 를 사용할 때는 pandas 버전이 저정하는 환경과 읽는 환경이 동일해야 에러가 발생하지 않습니다. "
   ]
  },
  {
   "cell_type": "code",
   "execution_count": 10,
   "id": "343bf55f-047d-43d2-b0c0-b81dbd796169",
   "metadata": {},
   "outputs": [],
   "source": [
    "import pickle\n",
    "\n",
    "with open('stock_data.pkl', 'wb') as file:    # Binary 파일로 저징\n",
    "    pickle.dump(stock_data, file)\n",
    "    \n",
    "with open('stock_data.pkl', 'rb') as file:    # 저장된 binary 파일 읽기\n",
    "    stock_data = pickle.load(file)    "
   ]
  },
  {
   "cell_type": "code",
   "execution_count": 11,
   "id": "761cee21-da0a-4021-8fa7-5c33f3a0733f",
   "metadata": {},
   "outputs": [
    {
     "data": {
      "text/html": [
       "<div>\n",
       "<style scoped>\n",
       "    .dataframe tbody tr th:only-of-type {\n",
       "        vertical-align: middle;\n",
       "    }\n",
       "\n",
       "    .dataframe tbody tr th {\n",
       "        vertical-align: top;\n",
       "    }\n",
       "\n",
       "    .dataframe thead th {\n",
       "        text-align: right;\n",
       "    }\n",
       "</style>\n",
       "<table border=\"1\" class=\"dataframe\">\n",
       "  <thead>\n",
       "    <tr style=\"text-align: right;\">\n",
       "      <th></th>\n",
       "      <th>Open</th>\n",
       "      <th>High</th>\n",
       "      <th>Low</th>\n",
       "      <th>Close</th>\n",
       "      <th>Volume</th>\n",
       "      <th>Change</th>\n",
       "    </tr>\n",
       "    <tr>\n",
       "      <th>Date</th>\n",
       "      <th></th>\n",
       "      <th></th>\n",
       "      <th></th>\n",
       "      <th></th>\n",
       "      <th></th>\n",
       "      <th></th>\n",
       "    </tr>\n",
       "  </thead>\n",
       "  <tbody>\n",
       "    <tr>\n",
       "      <th>2021-01-04</th>\n",
       "      <td>81000</td>\n",
       "      <td>84400</td>\n",
       "      <td>80200</td>\n",
       "      <td>83000</td>\n",
       "      <td>38655276</td>\n",
       "      <td>0.024691</td>\n",
       "    </tr>\n",
       "    <tr>\n",
       "      <th>2021-01-05</th>\n",
       "      <td>81600</td>\n",
       "      <td>83900</td>\n",
       "      <td>81600</td>\n",
       "      <td>83900</td>\n",
       "      <td>35335669</td>\n",
       "      <td>0.010843</td>\n",
       "    </tr>\n",
       "    <tr>\n",
       "      <th>2021-01-06</th>\n",
       "      <td>83300</td>\n",
       "      <td>84500</td>\n",
       "      <td>82100</td>\n",
       "      <td>82200</td>\n",
       "      <td>42089013</td>\n",
       "      <td>-0.020262</td>\n",
       "    </tr>\n",
       "    <tr>\n",
       "      <th>2021-01-07</th>\n",
       "      <td>82800</td>\n",
       "      <td>84200</td>\n",
       "      <td>82700</td>\n",
       "      <td>82900</td>\n",
       "      <td>32644642</td>\n",
       "      <td>0.008516</td>\n",
       "    </tr>\n",
       "    <tr>\n",
       "      <th>2021-01-08</th>\n",
       "      <td>83300</td>\n",
       "      <td>90000</td>\n",
       "      <td>83000</td>\n",
       "      <td>88800</td>\n",
       "      <td>59013307</td>\n",
       "      <td>0.071170</td>\n",
       "    </tr>\n",
       "  </tbody>\n",
       "</table>\n",
       "</div>"
      ],
      "text/plain": [
       "             Open   High    Low  Close    Volume    Change\n",
       "Date                                                      \n",
       "2021-01-04  81000  84400  80200  83000  38655276  0.024691\n",
       "2021-01-05  81600  83900  81600  83900  35335669  0.010843\n",
       "2021-01-06  83300  84500  82100  82200  42089013 -0.020262\n",
       "2021-01-07  82800  84200  82700  82900  32644642  0.008516\n",
       "2021-01-08  83300  90000  83000  88800  59013307  0.071170"
      ]
     },
     "execution_count": 11,
     "metadata": {},
     "output_type": "execute_result"
    }
   ],
   "source": [
    "stock_data.head()"
   ]
  },
  {
   "cell_type": "code",
   "execution_count": null,
   "id": "56116b27-8189-4fe3-b268-18a51efc90f3",
   "metadata": {},
   "outputs": [],
   "source": []
  }
 ],
 "metadata": {
  "kernelspec": {
   "display_name": "Python 3 (ipykernel)",
   "language": "python",
   "name": "python3"
  },
  "language_info": {
   "codemirror_mode": {
    "name": "ipython",
    "version": 3
   },
   "file_extension": ".py",
   "mimetype": "text/x-python",
   "name": "python",
   "nbconvert_exporter": "python",
   "pygments_lexer": "ipython3",
   "version": "3.9.7"
  }
 },
 "nbformat": 4,
 "nbformat_minor": 5
}
