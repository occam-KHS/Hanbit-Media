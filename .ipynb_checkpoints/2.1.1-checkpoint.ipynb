{
 "cells": [
  {
   "cell_type": "markdown",
   "id": "3f0cab5b-cfc4-4e2c-adee-c3b576030be6",
   "metadata": {},
   "source": [
    "- ##### 데이터 타입"
   ]
  },
  {
   "cell_type": "code",
   "execution_count": 91,
   "id": "e0038c67-a66e-40df-a3a2-255341bbdd81",
   "metadata": {},
   "outputs": [
    {
     "name": "stdout",
     "output_type": "stream",
     "text": [
      "string\n",
      "I T\n"
     ]
    }
   ],
   "source": [
    "# String \n",
    "s1 = 'string'\n",
    "s2 = 'I am Tom'\n",
    "\n",
    "print(s1)\n",
    "print(s2[0], s2[5])"
   ]
  },
  {
   "cell_type": "code",
   "execution_count": 92,
   "id": "4a3d95cb-f6a4-4f74-bcec-f73bd3a17781",
   "metadata": {},
   "outputs": [
    {
     "name": "stdout",
     "output_type": "stream",
     "text": [
      "28782\n"
     ]
    }
   ],
   "source": [
    "# Number\n",
    "n1 = 123\n",
    "n2 = 234\n",
    "print(n1*n2)"
   ]
  },
  {
   "cell_type": "code",
   "execution_count": 93,
   "id": "4a21b041-2784-455a-9cad-11d9be96d6a0",
   "metadata": {},
   "outputs": [],
   "source": [
    "# Date\n",
    "import datetime\n",
    "d1 = datetime.datetime(2021, 1, 3, 0, 0)\n",
    "\n",
    "yymmdd = '2021-01-03'\n",
    "d2 = datetime.datetime.strptime(yymmdd, '%Y-%m-%d')"
   ]
  },
  {
   "cell_type": "code",
   "execution_count": 94,
   "id": "5140fc2d-34b5-41af-bac9-c54e7c3248ef",
   "metadata": {},
   "outputs": [
    {
     "name": "stdout",
     "output_type": "stream",
     "text": [
      "2021-01-03 00:00:00\n",
      "2021-01-03 00:00:00\n"
     ]
    }
   ],
   "source": [
    "print(d1)\n",
    "print(d2)"
   ]
  },
  {
   "cell_type": "code",
   "execution_count": 95,
   "id": "cb020020-02c7-4dd0-ad00-41174be4d350",
   "metadata": {},
   "outputs": [
    {
     "name": "stdout",
     "output_type": "stream",
     "text": [
      "[1, 2, 3]\n",
      "['a', 'b', 'c']\n"
     ]
    }
   ],
   "source": [
    "# List\n",
    "l1 = [1,2,3]\n",
    "l2 =  ['a','b','c']\n",
    "\n",
    "print(l1)\n",
    "print(l2)"
   ]
  },
  {
   "cell_type": "code",
   "execution_count": 96,
   "id": "ba74003d-a946-490e-af03-b7e9d92fe2d4",
   "metadata": {},
   "outputs": [
    {
     "name": "stdout",
     "output_type": "stream",
     "text": [
      "1\n",
      "b\n"
     ]
    }
   ],
   "source": [
    "print(l1[0])\n",
    "print(l2[1])"
   ]
  },
  {
   "cell_type": "code",
   "execution_count": 97,
   "id": "470d0572-7f26-4d7b-bef2-a3710b1bb875",
   "metadata": {},
   "outputs": [
    {
     "name": "stdout",
     "output_type": "stream",
     "text": [
      "0    11\n",
      "1    12\n",
      "2    13\n",
      "3    14\n",
      "4    15\n",
      "dtype: int64\n"
     ]
    }
   ],
   "source": [
    "# Series\n",
    "import pandas as pd\n",
    "ss1 = [11,12,13,14,15]\n",
    "ss2 = pd.Series(ss1)\n",
    "\n",
    "print(ss2)"
   ]
  },
  {
   "cell_type": "code",
   "execution_count": 98,
   "id": "9a6415eb-4ea6-466c-a97f-df29f80a34b2",
   "metadata": {},
   "outputs": [
    {
     "name": "stdout",
     "output_type": "stream",
     "text": [
      "12\n"
     ]
    }
   ],
   "source": [
    "print(ss2.loc[1])"
   ]
  },
  {
   "cell_type": "code",
   "execution_count": 99,
   "id": "9ce66daf-6b66-4035-a58b-7d9ad469ec23",
   "metadata": {},
   "outputs": [
    {
     "name": "stdout",
     "output_type": "stream",
     "text": [
      "a    11\n",
      "b    12\n",
      "c    13\n",
      "d    14\n",
      "e    15\n",
      "dtype: int64\n"
     ]
    }
   ],
   "source": [
    "ss3 = [11,12,13,14,15]\n",
    "ss4 = pd.Series(ss3, index=['a','b','c','d','e'])\n",
    "print(ss4)"
   ]
  },
  {
   "cell_type": "code",
   "execution_count": 100,
   "id": "df9ba34a-45c9-4339-a573-470266bb3c45",
   "metadata": {},
   "outputs": [
    {
     "name": "stdout",
     "output_type": "stream",
     "text": [
      "12\n"
     ]
    }
   ],
   "source": [
    "print(ss4.loc['b'])"
   ]
  },
  {
   "cell_type": "code",
   "execution_count": 101,
   "id": "bf02deb5-0322-43ad-82ea-c3907078cddd",
   "metadata": {},
   "outputs": [
    {
     "name": "stdout",
     "output_type": "stream",
     "text": [
      "{'a': 11, 'b': 12, 'c': 13}\n",
      "12\n"
     ]
    }
   ],
   "source": [
    "# Dictionary\n",
    "dic1 = {'a':11, 'b':12, 'c':13}\n",
    "print(dic1)\n",
    "print(dic1['b'])"
   ]
  },
  {
   "cell_type": "code",
   "execution_count": 102,
   "id": "15a10cda-6344-4b4e-a804-2e087e25169c",
   "metadata": {},
   "outputs": [
    {
     "name": "stdout",
     "output_type": "stream",
     "text": [
      "{'a': 11, 'b': 12, 'c': 13, 'd': 14}\n"
     ]
    }
   ],
   "source": [
    "dic1['d'] = 14\n",
    "print(dic1)"
   ]
  },
  {
   "cell_type": "code",
   "execution_count": 103,
   "id": "6606652a-cbb6-4713-b829-a410185152b1",
   "metadata": {},
   "outputs": [
    {
     "name": "stdout",
     "output_type": "stream",
     "text": [
      "   col1 col2\n",
      "0     1    a\n",
      "1     2    b\n",
      "2     3    c\n"
     ]
    }
   ],
   "source": [
    "# DataFrame\n",
    "c_1 = [1,2,3]\n",
    "c_2 =  ['a','b','c']\n",
    "\n",
    "df1 = pd.DataFrame({'col1': c_1, 'col2': c_2})\n",
    "print(df1)"
   ]
  },
  {
   "cell_type": "code",
   "execution_count": 104,
   "id": "af0e11e9-5fef-4201-b756-329d06286fca",
   "metadata": {},
   "outputs": [
    {
     "name": "stdout",
     "output_type": "stream",
     "text": [
      "col1    2\n",
      "col2    b\n",
      "Name: 1, dtype: object\n",
      "b\n"
     ]
    }
   ],
   "source": [
    "print(df1.loc[1])\n",
    "print(df1.loc[1]['col2'])"
   ]
  },
  {
   "cell_type": "code",
   "execution_count": null,
   "id": "1ab5862b-2f7b-4f82-a7f8-001e27590918",
   "metadata": {},
   "outputs": [],
   "source": []
  },
  {
   "cell_type": "code",
   "execution_count": 105,
   "id": "d0a44578-13f0-41b7-a190-ef0fdffc641b",
   "metadata": {},
   "outputs": [],
   "source": [
    "# Function\n",
    "def add(x, y):\n",
    "    z = x + y\n",
    "    return x, y, z"
   ]
  },
  {
   "cell_type": "code",
   "execution_count": 107,
   "id": "20e3ae2c-a191-4b2a-98a6-c487ebb3f4fd",
   "metadata": {},
   "outputs": [
    {
     "name": "stdout",
     "output_type": "stream",
     "text": [
      "4 5 9\n"
     ]
    }
   ],
   "source": [
    "a, b, c = add(4,5)\n",
    "print(a, b, c)"
   ]
  },
  {
   "cell_type": "code",
   "execution_count": 108,
   "id": "59645ee8-3794-4967-bade-6ad6683f8708",
   "metadata": {},
   "outputs": [
    {
     "name": "stdout",
     "output_type": "stream",
     "text": [
      "1\n",
      "2\n",
      "3\n",
      "4\n",
      "5\n"
     ]
    }
   ],
   "source": [
    "# Iteration\n",
    "for i in [1,2,3,4,5]:\n",
    "    print(i)"
   ]
  },
  {
   "cell_type": "code",
   "execution_count": 112,
   "id": "d556f43a-46ba-4dd4-825d-07997674509b",
   "metadata": {},
   "outputs": [
    {
     "name": "stdout",
     "output_type": "stream",
     "text": [
      "2\n",
      "4\n"
     ]
    }
   ],
   "source": [
    "for i in [1,2,3,4,5]:\n",
    "    if (i)%2 == 0:\n",
    "        print(i)"
   ]
  },
  {
   "cell_type": "code",
   "execution_count": 27,
   "id": "fa76c3d5-c263-4c0c-9fc7-3dd4dc806577",
   "metadata": {},
   "outputs": [],
   "source": [
    "import datetime"
   ]
  },
  {
   "cell_type": "code",
   "execution_count": 29,
   "id": "f42b9c89-7969-48bd-9f9c-a8ed255e6cd3",
   "metadata": {},
   "outputs": [
    {
     "data": {
      "text/plain": [
       "datetime.datetime(2021, 4, 13, 0, 0)"
      ]
     },
     "execution_count": 29,
     "metadata": {},
     "output_type": "execute_result"
    }
   ],
   "source": [
    "datetime.datetime.strptime(d, '%Y-%m-%d') + datetime.timedelta(days=100)"
   ]
  },
  {
   "cell_type": "code",
   "execution_count": 41,
   "id": "792e0c86-1845-408e-955f-a9603547b46e",
   "metadata": {},
   "outputs": [],
   "source": [
    "s1 = [1,2,3]\n",
    "s2= ['a','b','c']"
   ]
  },
  {
   "cell_type": "code",
   "execution_count": 45,
   "id": "35e5a3dd-1143-4c65-9b17-5173efb27cd5",
   "metadata": {},
   "outputs": [],
   "source": [
    "ss = pd.DataFrame({'k1': s1, 'k2': s2}, index=['No1' ,'No2' , 'No3'])"
   ]
  },
  {
   "cell_type": "code",
   "execution_count": 46,
   "id": "635393b1-7fae-486f-8658-74dd9ce9b899",
   "metadata": {},
   "outputs": [
    {
     "data": {
      "text/html": [
       "<div>\n",
       "<style scoped>\n",
       "    .dataframe tbody tr th:only-of-type {\n",
       "        vertical-align: middle;\n",
       "    }\n",
       "\n",
       "    .dataframe tbody tr th {\n",
       "        vertical-align: top;\n",
       "    }\n",
       "\n",
       "    .dataframe thead th {\n",
       "        text-align: right;\n",
       "    }\n",
       "</style>\n",
       "<table border=\"1\" class=\"dataframe\">\n",
       "  <thead>\n",
       "    <tr style=\"text-align: right;\">\n",
       "      <th></th>\n",
       "      <th>k1</th>\n",
       "      <th>k2</th>\n",
       "    </tr>\n",
       "  </thead>\n",
       "  <tbody>\n",
       "    <tr>\n",
       "      <th>No1</th>\n",
       "      <td>1</td>\n",
       "      <td>a</td>\n",
       "    </tr>\n",
       "    <tr>\n",
       "      <th>No2</th>\n",
       "      <td>2</td>\n",
       "      <td>b</td>\n",
       "    </tr>\n",
       "    <tr>\n",
       "      <th>No3</th>\n",
       "      <td>3</td>\n",
       "      <td>c</td>\n",
       "    </tr>\n",
       "  </tbody>\n",
       "</table>\n",
       "</div>"
      ],
      "text/plain": [
       "     k1 k2\n",
       "No1   1  a\n",
       "No2   2  b\n",
       "No3   3  c"
      ]
     },
     "execution_count": 46,
     "metadata": {},
     "output_type": "execute_result"
    }
   ],
   "source": [
    "ss"
   ]
  },
  {
   "cell_type": "code",
   "execution_count": 47,
   "id": "3bf1efd9-f0dd-40d1-a505-0ba5db897ff2",
   "metadata": {},
   "outputs": [
    {
     "data": {
      "text/plain": [
       "'b'"
      ]
     },
     "execution_count": 47,
     "metadata": {},
     "output_type": "execute_result"
    }
   ],
   "source": [
    "ss.loc['No2']['k2']"
   ]
  },
  {
   "cell_type": "code",
   "execution_count": 6,
   "id": "e43bd2d1-b4a4-4543-8926-320fade1f87d",
   "metadata": {},
   "outputs": [],
   "source": [
    "ctc = pd.read_csv('m_cm2_ctc2_rev.csv')"
   ]
  },
  {
   "cell_type": "code",
   "execution_count": 7,
   "id": "dd01090c-7405-40d3-9e3d-729f6b86e58c",
   "metadata": {},
   "outputs": [],
   "source": [
    "ctc.to_pickle('ctc.pkl')"
   ]
  },
  {
   "cell_type": "code",
   "execution_count": 8,
   "id": "d06de349-ab8e-4526-b83a-531a7dc833f6",
   "metadata": {},
   "outputs": [],
   "source": [
    "ctc = pd.read_pickle('ctc.pkl')"
   ]
  },
  {
   "cell_type": "code",
   "execution_count": 4,
   "id": "7d07822d-1f79-4585-a077-610baf337f7f",
   "metadata": {},
   "outputs": [
    {
     "data": {
      "text/html": [
       "<div>\n",
       "<style scoped>\n",
       "    .dataframe tbody tr th:only-of-type {\n",
       "        vertical-align: middle;\n",
       "    }\n",
       "\n",
       "    .dataframe tbody tr th {\n",
       "        vertical-align: top;\n",
       "    }\n",
       "\n",
       "    .dataframe thead th {\n",
       "        text-align: right;\n",
       "    }\n",
       "</style>\n",
       "<table border=\"1\" class=\"dataframe\">\n",
       "  <thead>\n",
       "    <tr style=\"text-align: right;\">\n",
       "      <th></th>\n",
       "      <th>Pass</th>\n",
       "      <th>Start</th>\n",
       "      <th>End</th>\n",
       "      <th>근무</th>\n",
       "      <th>조</th>\n",
       "      <th>작업자</th>\n",
       "      <th>준비시간</th>\n",
       "      <th>작업시간</th>\n",
       "      <th>소요시간(UPTIME)</th>\n",
       "      <th>Alloy</th>\n",
       "      <th>...</th>\n",
       "      <th>Exit_5_Exit_mandrel_collapse</th>\n",
       "      <th>Exit_6_Exit_coil_car_move_to_conveyor_position</th>\n",
       "      <th>Exit_7_Exit_Spool_charger_in</th>\n",
       "      <th>Exit_8_Exit_Spool_charger_head_in</th>\n",
       "      <th>Exit_9_Exit_Spool_charger_head_out</th>\n",
       "      <th>Exit_10_Exit_Spool_charger_out</th>\n",
       "      <th>Exit_11_Exit_Belt_wrapper_in</th>\n",
       "      <th>Exit_12_Coil_Winding</th>\n",
       "      <th>Exit_13_Coil_Threading</th>\n",
       "      <th>Exit_14_Line_speed_to_100_mpm</th>\n",
       "    </tr>\n",
       "    <tr>\n",
       "      <th>coilid</th>\n",
       "      <th></th>\n",
       "      <th></th>\n",
       "      <th></th>\n",
       "      <th></th>\n",
       "      <th></th>\n",
       "      <th></th>\n",
       "      <th></th>\n",
       "      <th></th>\n",
       "      <th></th>\n",
       "      <th></th>\n",
       "      <th></th>\n",
       "      <th></th>\n",
       "      <th></th>\n",
       "      <th></th>\n",
       "      <th></th>\n",
       "      <th></th>\n",
       "      <th></th>\n",
       "      <th></th>\n",
       "      <th></th>\n",
       "      <th></th>\n",
       "      <th></th>\n",
       "    </tr>\n",
       "  </thead>\n",
       "  <tbody>\n",
       "    <tr>\n",
       "      <th>S610403</th>\n",
       "      <td>F</td>\n",
       "      <td>2021-08-01 12:37:46.000000</td>\n",
       "      <td>2021-08-01 12:48:50.000000</td>\n",
       "      <td>1근</td>\n",
       "      <td>B</td>\n",
       "      <td>김찬형</td>\n",
       "      <td>2.80</td>\n",
       "      <td>8.27</td>\n",
       "      <td>11.07</td>\n",
       "      <td>K5182</td>\n",
       "      <td>...</td>\n",
       "      <td>3.0</td>\n",
       "      <td>19.0</td>\n",
       "      <td>5.0</td>\n",
       "      <td>14.0</td>\n",
       "      <td>4.0</td>\n",
       "      <td>5.0</td>\n",
       "      <td>12.0</td>\n",
       "      <td>11575.0</td>\n",
       "      <td>20.0</td>\n",
       "      <td>-11595.0</td>\n",
       "    </tr>\n",
       "    <tr>\n",
       "      <th>S610874</th>\n",
       "      <td>F</td>\n",
       "      <td>2021-08-01 12:48:50.000000</td>\n",
       "      <td>2021-08-01 13:00:10.000000</td>\n",
       "      <td>1근</td>\n",
       "      <td>B</td>\n",
       "      <td>김찬형</td>\n",
       "      <td>2.78</td>\n",
       "      <td>8.55</td>\n",
       "      <td>11.33</td>\n",
       "      <td>K5182</td>\n",
       "      <td>...</td>\n",
       "      <td>2.0</td>\n",
       "      <td>19.0</td>\n",
       "      <td>4.0</td>\n",
       "      <td>15.0</td>\n",
       "      <td>3.0</td>\n",
       "      <td>5.0</td>\n",
       "      <td>13.0</td>\n",
       "      <td>50.0</td>\n",
       "      <td>21.0</td>\n",
       "      <td>3.0</td>\n",
       "    </tr>\n",
       "    <tr>\n",
       "      <th>S587584</th>\n",
       "      <td>F</td>\n",
       "      <td>2021-08-01 13:00:10.000000</td>\n",
       "      <td>2021-08-01 13:11:29.000000</td>\n",
       "      <td>1근</td>\n",
       "      <td>B</td>\n",
       "      <td>김찬형</td>\n",
       "      <td>2.90</td>\n",
       "      <td>8.42</td>\n",
       "      <td>11.32</td>\n",
       "      <td>F5182</td>\n",
       "      <td>...</td>\n",
       "      <td>3.0</td>\n",
       "      <td>19.0</td>\n",
       "      <td>5.0</td>\n",
       "      <td>14.0</td>\n",
       "      <td>3.0</td>\n",
       "      <td>4.0</td>\n",
       "      <td>13.0</td>\n",
       "      <td>65.0</td>\n",
       "      <td>21.0</td>\n",
       "      <td>3.0</td>\n",
       "    </tr>\n",
       "    <tr>\n",
       "      <th>S610304</th>\n",
       "      <td>F</td>\n",
       "      <td>2021-08-01 18:25:42.000000</td>\n",
       "      <td>2021-08-01 18:36:56.000000</td>\n",
       "      <td>2근</td>\n",
       "      <td>A</td>\n",
       "      <td>권순갑</td>\n",
       "      <td>2.95</td>\n",
       "      <td>8.28</td>\n",
       "      <td>11.23</td>\n",
       "      <td>K5182</td>\n",
       "      <td>...</td>\n",
       "      <td>2.0</td>\n",
       "      <td>19.0</td>\n",
       "      <td>4.0</td>\n",
       "      <td>15.0</td>\n",
       "      <td>3.0</td>\n",
       "      <td>5.0</td>\n",
       "      <td>13.0</td>\n",
       "      <td>58.0</td>\n",
       "      <td>23.0</td>\n",
       "      <td>3.0</td>\n",
       "    </tr>\n",
       "    <tr>\n",
       "      <th>S610411</th>\n",
       "      <td>F</td>\n",
       "      <td>2021-08-01 19:01:09.000000</td>\n",
       "      <td>2021-08-01 19:12:04.000000</td>\n",
       "      <td>2근</td>\n",
       "      <td>A</td>\n",
       "      <td>권순갑</td>\n",
       "      <td>2.55</td>\n",
       "      <td>8.37</td>\n",
       "      <td>10.92</td>\n",
       "      <td>K5182</td>\n",
       "      <td>...</td>\n",
       "      <td>3.0</td>\n",
       "      <td>19.0</td>\n",
       "      <td>5.0</td>\n",
       "      <td>14.0</td>\n",
       "      <td>4.0</td>\n",
       "      <td>5.0</td>\n",
       "      <td>13.0</td>\n",
       "      <td>52.0</td>\n",
       "      <td>20.0</td>\n",
       "      <td>4.0</td>\n",
       "    </tr>\n",
       "  </tbody>\n",
       "</table>\n",
       "<p>5 rows × 35 columns</p>\n",
       "</div>"
      ],
      "text/plain": [
       "        Pass                       Start                         End  근무  조  \\\n",
       "coilid                                                                        \n",
       "S610403    F  2021-08-01 12:37:46.000000  2021-08-01 12:48:50.000000  1근  B   \n",
       "S610874    F  2021-08-01 12:48:50.000000  2021-08-01 13:00:10.000000  1근  B   \n",
       "S587584    F  2021-08-01 13:00:10.000000  2021-08-01 13:11:29.000000  1근  B   \n",
       "S610304    F  2021-08-01 18:25:42.000000  2021-08-01 18:36:56.000000  2근  A   \n",
       "S610411    F  2021-08-01 19:01:09.000000  2021-08-01 19:12:04.000000  2근  A   \n",
       "\n",
       "         작업자  준비시간  작업시간  소요시간(UPTIME)  Alloy  ...  \\\n",
       "coilid                                         ...   \n",
       "S610403  김찬형  2.80  8.27         11.07  K5182  ...   \n",
       "S610874  김찬형  2.78  8.55         11.33  K5182  ...   \n",
       "S587584  김찬형  2.90  8.42         11.32  F5182  ...   \n",
       "S610304  권순갑  2.95  8.28         11.23  K5182  ...   \n",
       "S610411  권순갑  2.55  8.37         10.92  K5182  ...   \n",
       "\n",
       "        Exit_5_Exit_mandrel_collapse  \\\n",
       "coilid                                 \n",
       "S610403                          3.0   \n",
       "S610874                          2.0   \n",
       "S587584                          3.0   \n",
       "S610304                          2.0   \n",
       "S610411                          3.0   \n",
       "\n",
       "         Exit_6_Exit_coil_car_move_to_conveyor_position  \\\n",
       "coilid                                                    \n",
       "S610403                                            19.0   \n",
       "S610874                                            19.0   \n",
       "S587584                                            19.0   \n",
       "S610304                                            19.0   \n",
       "S610411                                            19.0   \n",
       "\n",
       "         Exit_7_Exit_Spool_charger_in  Exit_8_Exit_Spool_charger_head_in  \\\n",
       "coilid                                                                     \n",
       "S610403                           5.0                               14.0   \n",
       "S610874                           4.0                               15.0   \n",
       "S587584                           5.0                               14.0   \n",
       "S610304                           4.0                               15.0   \n",
       "S610411                           5.0                               14.0   \n",
       "\n",
       "         Exit_9_Exit_Spool_charger_head_out  Exit_10_Exit_Spool_charger_out  \\\n",
       "coilid                                                                        \n",
       "S610403                                 4.0                             5.0   \n",
       "S610874                                 3.0                             5.0   \n",
       "S587584                                 3.0                             4.0   \n",
       "S610304                                 3.0                             5.0   \n",
       "S610411                                 4.0                             5.0   \n",
       "\n",
       "         Exit_11_Exit_Belt_wrapper_in  Exit_12_Coil_Winding  \\\n",
       "coilid                                                        \n",
       "S610403                          12.0               11575.0   \n",
       "S610874                          13.0                  50.0   \n",
       "S587584                          13.0                  65.0   \n",
       "S610304                          13.0                  58.0   \n",
       "S610411                          13.0                  52.0   \n",
       "\n",
       "         Exit_13_Coil_Threading  Exit_14_Line_speed_to_100_mpm  \n",
       "coilid                                                          \n",
       "S610403                    20.0                       -11595.0  \n",
       "S610874                    21.0                            3.0  \n",
       "S587584                    21.0                            3.0  \n",
       "S610304                    23.0                            3.0  \n",
       "S610411                    20.0                            4.0  \n",
       "\n",
       "[5 rows x 35 columns]"
      ]
     },
     "execution_count": 4,
     "metadata": {},
     "output_type": "execute_result"
    }
   ],
   "source": [
    "# ctc.head(10)\n",
    "ctc.drop(columns=['Unnamed: 0','coilid.1']).set_index('coilid').head()"
   ]
  },
  {
   "cell_type": "code",
   "execution_count": 5,
   "id": "c8e56d9a-c365-4206-893f-b8383c00032f",
   "metadata": {},
   "outputs": [
    {
     "name": "stdout",
     "output_type": "stream",
     "text": [
      "<class 'pandas.core.frame.DataFrame'>\n",
      "RangeIndex: 847 entries, 0 to 846\n",
      "Data columns (total 38 columns):\n",
      " #   Column                                          Non-Null Count  Dtype  \n",
      "---  ------                                          --------------  -----  \n",
      " 0   Unnamed: 0                                      847 non-null    int64  \n",
      " 1   coilid                                          847 non-null    object \n",
      " 2   coilid.1                                        847 non-null    object \n",
      " 3   Pass                                            847 non-null    object \n",
      " 4   Start                                           847 non-null    object \n",
      " 5   End                                             847 non-null    object \n",
      " 6   근무                                              847 non-null    object \n",
      " 7   조                                               847 non-null    object \n",
      " 8   작업자                                             847 non-null    object \n",
      " 9   준비시간                                            847 non-null    float64\n",
      " 10  작업시간                                            847 non-null    float64\n",
      " 11  소요시간(UPTIME)                                    847 non-null    float64\n",
      " 12  Alloy                                           847 non-null    object \n",
      " 13  max_time                                        847 non-null    object \n",
      " 14  Entry_1_Line_speed_100mpm_to_0mpm               847 non-null    float64\n",
      " 15  Entry_2_Entry_Spool_Grab_traverse_in            847 non-null    float64\n",
      " 16  Entry_3_Entry_Pup_Coil_Winding                  847 non-null    float64\n",
      " 17  Entry_4_Entry_Spool_Grab_traverse_out           847 non-null    float64\n",
      " 18  Entry_5_Entry_Spool_Grab_pivot_out              847 non-null    float64\n",
      " 19  Entry_6_Entry_Coil_Car_move_to_reel             847 non-null    float64\n",
      " 20  Entry_7_Entry_Coil_작업_준비                        847 non-null    float64\n",
      " 21  Entry_8_Coil_Winding                            847 non-null    float64\n",
      " 22  Entry_9_Coil_Threading                          847 non-null    float64\n",
      " 23  Entry_10_Line_speed_to_100_mpm                  847 non-null    float64\n",
      " 24  Exit_1_Line_speed_100mpm_to_0mpm                847 non-null    float64\n",
      " 25  Exit_2_Exit_tail_shear                          847 non-null    float64\n",
      " 26  Exit_3_Exit_coil_tail_out                       847 non-null    float64\n",
      " 27  Exit_4_Exit_coil_car_lifter_up                  847 non-null    float64\n",
      " 28  Exit_5_Exit_mandrel_collapse                    847 non-null    float64\n",
      " 29  Exit_6_Exit_coil_car_move_to_conveyor_position  847 non-null    float64\n",
      " 30  Exit_7_Exit_Spool_charger_in                    847 non-null    float64\n",
      " 31  Exit_8_Exit_Spool_charger_head_in               847 non-null    float64\n",
      " 32  Exit_9_Exit_Spool_charger_head_out              847 non-null    float64\n",
      " 33  Exit_10_Exit_Spool_charger_out                  847 non-null    float64\n",
      " 34  Exit_11_Exit_Belt_wrapper_in                    847 non-null    float64\n",
      " 35  Exit_12_Coil_Winding                            847 non-null    float64\n",
      " 36  Exit_13_Coil_Threading                          847 non-null    float64\n",
      " 37  Exit_14_Line_speed_to_100_mpm                   847 non-null    float64\n",
      "dtypes: float64(27), int64(1), object(10)\n",
      "memory usage: 251.6+ KB\n"
     ]
    }
   ],
   "source": [
    "ctc.info()"
   ]
  },
  {
   "cell_type": "code",
   "execution_count": 6,
   "id": "5f2a5f78-edec-48c4-b0a4-861cec00d912",
   "metadata": {},
   "outputs": [
    {
     "data": {
      "text/html": [
       "<div>\n",
       "<style scoped>\n",
       "    .dataframe tbody tr th:only-of-type {\n",
       "        vertical-align: middle;\n",
       "    }\n",
       "\n",
       "    .dataframe tbody tr th {\n",
       "        vertical-align: top;\n",
       "    }\n",
       "\n",
       "    .dataframe thead th {\n",
       "        text-align: right;\n",
       "    }\n",
       "</style>\n",
       "<table border=\"1\" class=\"dataframe\">\n",
       "  <thead>\n",
       "    <tr style=\"text-align: right;\">\n",
       "      <th></th>\n",
       "      <th>Entry_1_Line_speed_100mpm_to_0mpm</th>\n",
       "      <th>Entry_2_Entry_Spool_Grab_traverse_in</th>\n",
       "    </tr>\n",
       "  </thead>\n",
       "  <tbody>\n",
       "    <tr>\n",
       "      <th>1</th>\n",
       "      <td>2.0</td>\n",
       "      <td>16.0</td>\n",
       "    </tr>\n",
       "    <tr>\n",
       "      <th>2</th>\n",
       "      <td>2.0</td>\n",
       "      <td>16.0</td>\n",
       "    </tr>\n",
       "    <tr>\n",
       "      <th>3</th>\n",
       "      <td>2.0</td>\n",
       "      <td>15.0</td>\n",
       "    </tr>\n",
       "  </tbody>\n",
       "</table>\n",
       "</div>"
      ],
      "text/plain": [
       "   Entry_1_Line_speed_100mpm_to_0mpm  Entry_2_Entry_Spool_Grab_traverse_in\n",
       "1                                2.0                                  16.0\n",
       "2                                2.0                                  16.0\n",
       "3                                2.0                                  15.0"
      ]
     },
     "execution_count": 6,
     "metadata": {},
     "output_type": "execute_result"
    }
   ],
   "source": [
    "select = ['Entry_1_Line_speed_100mpm_to_0mpm','Entry_2_Entry_Spool_Grab_traverse_in']\n",
    "ctc.loc[1:3][select]"
   ]
  },
  {
   "cell_type": "code",
   "execution_count": 9,
   "id": "493394bd-fe89-4838-ad33-c7af8c58b0b6",
   "metadata": {},
   "outputs": [],
   "source": [
    "select = [var for var in list(ctc.columns) if 'Entry' in var] \n",
    "ctc_entry = ctc[select]"
   ]
  },
  {
   "cell_type": "code",
   "execution_count": 10,
   "id": "3122dc33-0626-4699-ab9f-b8cc2342c821",
   "metadata": {},
   "outputs": [],
   "source": [
    "select = [var for var in list(ctc.columns) if 'Exit' in var] \n",
    "ctc_exit = ctc[select]\n"
   ]
  },
  {
   "cell_type": "code",
   "execution_count": 13,
   "id": "da890d07-ab89-4bb4-933a-00056623606c",
   "metadata": {},
   "outputs": [
    {
     "name": "stdout",
     "output_type": "stream",
     "text": [
      "<class 'pandas.core.frame.DataFrame'>\n",
      "RangeIndex: 847 entries, 0 to 846\n",
      "Data columns (total 14 columns):\n",
      " #   Column                                          Non-Null Count  Dtype  \n",
      "---  ------                                          --------------  -----  \n",
      " 0   Exit_1_Line_speed_100mpm_to_0mpm                847 non-null    float64\n",
      " 1   Exit_2_Exit_tail_shear                          847 non-null    float64\n",
      " 2   Exit_3_Exit_coil_tail_out                       847 non-null    float64\n",
      " 3   Exit_4_Exit_coil_car_lifter_up                  847 non-null    float64\n",
      " 4   Exit_5_Exit_mandrel_collapse                    847 non-null    float64\n",
      " 5   Exit_6_Exit_coil_car_move_to_conveyor_position  847 non-null    float64\n",
      " 6   Exit_7_Exit_Spool_charger_in                    847 non-null    float64\n",
      " 7   Exit_8_Exit_Spool_charger_head_in               847 non-null    float64\n",
      " 8   Exit_9_Exit_Spool_charger_head_out              847 non-null    float64\n",
      " 9   Exit_10_Exit_Spool_charger_out                  847 non-null    float64\n",
      " 10  Exit_11_Exit_Belt_wrapper_in                    847 non-null    float64\n",
      " 11  Exit_12_Coil_Winding                            847 non-null    float64\n",
      " 12  Exit_13_Coil_Threading                          847 non-null    float64\n",
      " 13  Exit_14_Line_speed_to_100_mpm                   847 non-null    float64\n",
      "dtypes: float64(14)\n",
      "memory usage: 92.8 KB\n"
     ]
    }
   ],
   "source": [
    "ctc_exit.info()"
   ]
  },
  {
   "cell_type": "code",
   "execution_count": 14,
   "id": "3d057789-261e-4aa3-beb7-f1205def095c",
   "metadata": {},
   "outputs": [
    {
     "name": "stdout",
     "output_type": "stream",
     "text": [
      "<class 'pandas.core.frame.DataFrame'>\n",
      "RangeIndex: 847 entries, 0 to 846\n",
      "Data columns (total 24 columns):\n",
      " #   Column                                          Non-Null Count  Dtype  \n",
      "---  ------                                          --------------  -----  \n",
      " 0   Entry_1_Line_speed_100mpm_to_0mpm               847 non-null    float64\n",
      " 1   Entry_2_Entry_Spool_Grab_traverse_in            847 non-null    float64\n",
      " 2   Entry_3_Entry_Pup_Coil_Winding                  847 non-null    float64\n",
      " 3   Entry_4_Entry_Spool_Grab_traverse_out           847 non-null    float64\n",
      " 4   Entry_5_Entry_Spool_Grab_pivot_out              847 non-null    float64\n",
      " 5   Entry_6_Entry_Coil_Car_move_to_reel             847 non-null    float64\n",
      " 6   Entry_7_Entry_Coil_작업_준비                        847 non-null    float64\n",
      " 7   Entry_8_Coil_Winding                            847 non-null    float64\n",
      " 8   Entry_9_Coil_Threading                          847 non-null    float64\n",
      " 9   Entry_10_Line_speed_to_100_mpm                  847 non-null    float64\n",
      " 10  Exit_1_Line_speed_100mpm_to_0mpm                847 non-null    float64\n",
      " 11  Exit_2_Exit_tail_shear                          847 non-null    float64\n",
      " 12  Exit_3_Exit_coil_tail_out                       847 non-null    float64\n",
      " 13  Exit_4_Exit_coil_car_lifter_up                  847 non-null    float64\n",
      " 14  Exit_5_Exit_mandrel_collapse                    847 non-null    float64\n",
      " 15  Exit_6_Exit_coil_car_move_to_conveyor_position  847 non-null    float64\n",
      " 16  Exit_7_Exit_Spool_charger_in                    847 non-null    float64\n",
      " 17  Exit_8_Exit_Spool_charger_head_in               847 non-null    float64\n",
      " 18  Exit_9_Exit_Spool_charger_head_out              847 non-null    float64\n",
      " 19  Exit_10_Exit_Spool_charger_out                  847 non-null    float64\n",
      " 20  Exit_11_Exit_Belt_wrapper_in                    847 non-null    float64\n",
      " 21  Exit_12_Coil_Winding                            847 non-null    float64\n",
      " 22  Exit_13_Coil_Threading                          847 non-null    float64\n",
      " 23  Exit_14_Line_speed_to_100_mpm                   847 non-null    float64\n",
      "dtypes: float64(24)\n",
      "memory usage: 158.9 KB\n"
     ]
    }
   ],
   "source": [
    "ctc_all = pd.concat([ctc_entry, ctc_exit], axis=1, join='inner')\n",
    "ctc_all.info()"
   ]
  },
  {
   "cell_type": "code",
   "execution_count": 15,
   "id": "b9f903d7-34ee-4754-a211-abe1e7c582a1",
   "metadata": {},
   "outputs": [
    {
     "name": "stdout",
     "output_type": "stream",
     "text": [
      "<class 'pandas.core.frame.DataFrame'>\n",
      "RangeIndex: 847 entries, 0 to 846\n",
      "Data columns (total 24 columns):\n",
      " #   Column                                          Non-Null Count  Dtype  \n",
      "---  ------                                          --------------  -----  \n",
      " 0   Entry_1_Line_speed_100mpm_to_0mpm               847 non-null    float64\n",
      " 1   Entry_2_Entry_Spool_Grab_traverse_in            847 non-null    float64\n",
      " 2   Entry_3_Entry_Pup_Coil_Winding                  847 non-null    float64\n",
      " 3   Entry_4_Entry_Spool_Grab_traverse_out           847 non-null    float64\n",
      " 4   Entry_5_Entry_Spool_Grab_pivot_out              847 non-null    float64\n",
      " 5   Entry_6_Entry_Coil_Car_move_to_reel             847 non-null    float64\n",
      " 6   Entry_7_Entry_Coil_작업_준비                        847 non-null    float64\n",
      " 7   Entry_8_Coil_Winding                            847 non-null    float64\n",
      " 8   Entry_9_Coil_Threading                          847 non-null    float64\n",
      " 9   Entry_10_Line_speed_to_100_mpm                  847 non-null    float64\n",
      " 10  Exit_1_Line_speed_100mpm_to_0mpm                847 non-null    float64\n",
      " 11  Exit_2_Exit_tail_shear                          847 non-null    float64\n",
      " 12  Exit_3_Exit_coil_tail_out                       847 non-null    float64\n",
      " 13  Exit_4_Exit_coil_car_lifter_up                  847 non-null    float64\n",
      " 14  Exit_5_Exit_mandrel_collapse                    847 non-null    float64\n",
      " 15  Exit_6_Exit_coil_car_move_to_conveyor_position  847 non-null    float64\n",
      " 16  Exit_7_Exit_Spool_charger_in                    847 non-null    float64\n",
      " 17  Exit_8_Exit_Spool_charger_head_in               847 non-null    float64\n",
      " 18  Exit_9_Exit_Spool_charger_head_out              847 non-null    float64\n",
      " 19  Exit_10_Exit_Spool_charger_out                  847 non-null    float64\n",
      " 20  Exit_11_Exit_Belt_wrapper_in                    847 non-null    float64\n",
      " 21  Exit_12_Coil_Winding                            847 non-null    float64\n",
      " 22  Exit_13_Coil_Threading                          847 non-null    float64\n",
      " 23  Exit_14_Line_speed_to_100_mpm                   847 non-null    float64\n",
      "dtypes: float64(24)\n",
      "memory usage: 158.9 KB\n"
     ]
    }
   ],
   "source": [
    "ctc_all2 = ctc_entry.merge(ctc_exit, left_index=True, right_index=True, how='inner')\n",
    "ctc_all2.info()"
   ]
  },
  {
   "cell_type": "code",
   "execution_count": 18,
   "id": "e223dee1-2221-4322-b08f-b0d3d8e5f948",
   "metadata": {},
   "outputs": [
    {
     "data": {
      "text/html": [
       "<div>\n",
       "<style scoped>\n",
       "    .dataframe tbody tr th:only-of-type {\n",
       "        vertical-align: middle;\n",
       "    }\n",
       "\n",
       "    .dataframe tbody tr th {\n",
       "        vertical-align: top;\n",
       "    }\n",
       "\n",
       "    .dataframe thead th {\n",
       "        text-align: right;\n",
       "    }\n",
       "</style>\n",
       "<table border=\"1\" class=\"dataframe\">\n",
       "  <thead>\n",
       "    <tr style=\"text-align: right;\">\n",
       "      <th></th>\n",
       "      <th>Exit_1_Line_speed_100mpm_to_0mpm</th>\n",
       "      <th>Exit_2_Exit_tail_shear</th>\n",
       "    </tr>\n",
       "  </thead>\n",
       "  <tbody>\n",
       "    <tr>\n",
       "      <th>100</th>\n",
       "      <td>2.0</td>\n",
       "      <td>6.0</td>\n",
       "    </tr>\n",
       "    <tr>\n",
       "      <th>101</th>\n",
       "      <td>1.0</td>\n",
       "      <td>6.0</td>\n",
       "    </tr>\n",
       "    <tr>\n",
       "      <th>102</th>\n",
       "      <td>2.0</td>\n",
       "      <td>6.0</td>\n",
       "    </tr>\n",
       "    <tr>\n",
       "      <th>103</th>\n",
       "      <td>2.0</td>\n",
       "      <td>6.0</td>\n",
       "    </tr>\n",
       "    <tr>\n",
       "      <th>104</th>\n",
       "      <td>1.0</td>\n",
       "      <td>6.0</td>\n",
       "    </tr>\n",
       "    <tr>\n",
       "      <th>...</th>\n",
       "      <td>...</td>\n",
       "      <td>...</td>\n",
       "    </tr>\n",
       "    <tr>\n",
       "      <th>196</th>\n",
       "      <td>3.0</td>\n",
       "      <td>6.0</td>\n",
       "    </tr>\n",
       "    <tr>\n",
       "      <th>197</th>\n",
       "      <td>6.0</td>\n",
       "      <td>6.0</td>\n",
       "    </tr>\n",
       "    <tr>\n",
       "      <th>198</th>\n",
       "      <td>3.0</td>\n",
       "      <td>6.0</td>\n",
       "    </tr>\n",
       "    <tr>\n",
       "      <th>199</th>\n",
       "      <td>4.0</td>\n",
       "      <td>6.0</td>\n",
       "    </tr>\n",
       "    <tr>\n",
       "      <th>200</th>\n",
       "      <td>2.0</td>\n",
       "      <td>5.0</td>\n",
       "    </tr>\n",
       "  </tbody>\n",
       "</table>\n",
       "<p>101 rows × 2 columns</p>\n",
       "</div>"
      ],
      "text/plain": [
       "     Exit_1_Line_speed_100mpm_to_0mpm  Exit_2_Exit_tail_shear\n",
       "100                               2.0                     6.0\n",
       "101                               1.0                     6.0\n",
       "102                               2.0                     6.0\n",
       "103                               2.0                     6.0\n",
       "104                               1.0                     6.0\n",
       "..                                ...                     ...\n",
       "196                               3.0                     6.0\n",
       "197                               6.0                     6.0\n",
       "198                               3.0                     6.0\n",
       "199                               4.0                     6.0\n",
       "200                               2.0                     5.0\n",
       "\n",
       "[101 rows x 2 columns]"
      ]
     },
     "execution_count": 18,
     "metadata": {},
     "output_type": "execute_result"
    }
   ],
   "source": [
    "ctc_exit.loc[100:200][['Exit_1_Line_speed_100mpm_to_0mpm','Exit_2_Exit_tail_shear']]"
   ]
  },
  {
   "cell_type": "code",
   "execution_count": 27,
   "id": "4f5c30e0-630f-4c72-8ac4-f0ded1e9e02e",
   "metadata": {},
   "outputs": [
    {
     "data": {
      "text/plain": [
       "count      847.000000\n",
       "mean       289.161747\n",
       "std       4304.146218\n",
       "min     -27628.000000\n",
       "1%          28.000000\n",
       "10%         28.000000\n",
       "20%         28.000000\n",
       "50%         29.000000\n",
       "80%         29.000000\n",
       "90%         29.000000\n",
       "99%         29.000000\n",
       "max      81240.000000\n",
       "Name: Entry_6_Entry_Coil_Car_move_to_reel, dtype: float64"
      ]
     },
     "execution_count": 27,
     "metadata": {},
     "output_type": "execute_result"
    }
   ],
   "source": [
    "ctc_entry['Entry_6_Entry_Coil_Car_move_to_reel'].describe(percentiles=[0.01, 0.1, 0.2, 0.5, 0.8, 0.9, 0.99])"
   ]
  },
  {
   "cell_type": "code",
   "execution_count": 22,
   "id": "a71eaa48-c1db-4647-98e7-87609de12087",
   "metadata": {},
   "outputs": [],
   "source": [
    "c1 = ('Entry_1_Line_speed_100mpm_to_0mpm']>0)\n",
    "c2 = (ctc_entry['Entry_6_Entry_Coil_Car_move_to_reel'] > 28)\n",
    "\n",
    "ctc_entry_p = ctc_entry[c1 | c2]"
   ]
  },
  {
   "cell_type": "code",
   "execution_count": 28,
   "id": "d953a13e-5843-4cf0-9a9c-01334f7e1365",
   "metadata": {},
   "outputs": [
    {
     "data": {
      "text/html": [
       "<div>\n",
       "<style scoped>\n",
       "    .dataframe tbody tr th:only-of-type {\n",
       "        vertical-align: middle;\n",
       "    }\n",
       "\n",
       "    .dataframe tbody tr th {\n",
       "        vertical-align: top;\n",
       "    }\n",
       "\n",
       "    .dataframe thead th {\n",
       "        text-align: right;\n",
       "    }\n",
       "</style>\n",
       "<table border=\"1\" class=\"dataframe\">\n",
       "  <thead>\n",
       "    <tr style=\"text-align: right;\">\n",
       "      <th></th>\n",
       "      <th>Unnamed: 0</th>\n",
       "      <th>coilid</th>\n",
       "      <th>coilid.1</th>\n",
       "      <th>Pass</th>\n",
       "      <th>Start</th>\n",
       "      <th>End</th>\n",
       "      <th>근무</th>\n",
       "      <th>조</th>\n",
       "      <th>작업자</th>\n",
       "      <th>준비시간</th>\n",
       "      <th>...</th>\n",
       "      <th>Exit_5_Exit_mandrel_collapse</th>\n",
       "      <th>Exit_6_Exit_coil_car_move_to_conveyor_position</th>\n",
       "      <th>Exit_7_Exit_Spool_charger_in</th>\n",
       "      <th>Exit_8_Exit_Spool_charger_head_in</th>\n",
       "      <th>Exit_9_Exit_Spool_charger_head_out</th>\n",
       "      <th>Exit_10_Exit_Spool_charger_out</th>\n",
       "      <th>Exit_11_Exit_Belt_wrapper_in</th>\n",
       "      <th>Exit_12_Coil_Winding</th>\n",
       "      <th>Exit_13_Coil_Threading</th>\n",
       "      <th>Exit_14_Line_speed_to_100_mpm</th>\n",
       "    </tr>\n",
       "  </thead>\n",
       "  <tbody>\n",
       "    <tr>\n",
       "      <th>0</th>\n",
       "      <td>0</td>\n",
       "      <td>S610403</td>\n",
       "      <td>S610403</td>\n",
       "      <td>F</td>\n",
       "      <td>2021-08-01 12:37:46.000000</td>\n",
       "      <td>2021-08-01 12:48:50.000000</td>\n",
       "      <td>1근</td>\n",
       "      <td>B</td>\n",
       "      <td>김찬형</td>\n",
       "      <td>2.80</td>\n",
       "      <td>...</td>\n",
       "      <td>3.0</td>\n",
       "      <td>19.0</td>\n",
       "      <td>5.0</td>\n",
       "      <td>14.0</td>\n",
       "      <td>4.0</td>\n",
       "      <td>5.0</td>\n",
       "      <td>12.0</td>\n",
       "      <td>11575.0</td>\n",
       "      <td>20.0</td>\n",
       "      <td>-11595.0</td>\n",
       "    </tr>\n",
       "    <tr>\n",
       "      <th>1</th>\n",
       "      <td>1</td>\n",
       "      <td>S610874</td>\n",
       "      <td>S610874</td>\n",
       "      <td>F</td>\n",
       "      <td>2021-08-01 12:48:50.000000</td>\n",
       "      <td>2021-08-01 13:00:10.000000</td>\n",
       "      <td>1근</td>\n",
       "      <td>B</td>\n",
       "      <td>김찬형</td>\n",
       "      <td>2.78</td>\n",
       "      <td>...</td>\n",
       "      <td>2.0</td>\n",
       "      <td>19.0</td>\n",
       "      <td>4.0</td>\n",
       "      <td>15.0</td>\n",
       "      <td>3.0</td>\n",
       "      <td>5.0</td>\n",
       "      <td>13.0</td>\n",
       "      <td>50.0</td>\n",
       "      <td>21.0</td>\n",
       "      <td>3.0</td>\n",
       "    </tr>\n",
       "    <tr>\n",
       "      <th>2</th>\n",
       "      <td>2</td>\n",
       "      <td>S587584</td>\n",
       "      <td>S587584</td>\n",
       "      <td>F</td>\n",
       "      <td>2021-08-01 13:00:10.000000</td>\n",
       "      <td>2021-08-01 13:11:29.000000</td>\n",
       "      <td>1근</td>\n",
       "      <td>B</td>\n",
       "      <td>김찬형</td>\n",
       "      <td>2.90</td>\n",
       "      <td>...</td>\n",
       "      <td>3.0</td>\n",
       "      <td>19.0</td>\n",
       "      <td>5.0</td>\n",
       "      <td>14.0</td>\n",
       "      <td>3.0</td>\n",
       "      <td>4.0</td>\n",
       "      <td>13.0</td>\n",
       "      <td>65.0</td>\n",
       "      <td>21.0</td>\n",
       "      <td>3.0</td>\n",
       "    </tr>\n",
       "    <tr>\n",
       "      <th>3</th>\n",
       "      <td>3</td>\n",
       "      <td>S610304</td>\n",
       "      <td>S610304</td>\n",
       "      <td>F</td>\n",
       "      <td>2021-08-01 18:25:42.000000</td>\n",
       "      <td>2021-08-01 18:36:56.000000</td>\n",
       "      <td>2근</td>\n",
       "      <td>A</td>\n",
       "      <td>권순갑</td>\n",
       "      <td>2.95</td>\n",
       "      <td>...</td>\n",
       "      <td>2.0</td>\n",
       "      <td>19.0</td>\n",
       "      <td>4.0</td>\n",
       "      <td>15.0</td>\n",
       "      <td>3.0</td>\n",
       "      <td>5.0</td>\n",
       "      <td>13.0</td>\n",
       "      <td>58.0</td>\n",
       "      <td>23.0</td>\n",
       "      <td>3.0</td>\n",
       "    </tr>\n",
       "    <tr>\n",
       "      <th>4</th>\n",
       "      <td>4</td>\n",
       "      <td>S610411</td>\n",
       "      <td>S610411</td>\n",
       "      <td>F</td>\n",
       "      <td>2021-08-01 19:01:09.000000</td>\n",
       "      <td>2021-08-01 19:12:04.000000</td>\n",
       "      <td>2근</td>\n",
       "      <td>A</td>\n",
       "      <td>권순갑</td>\n",
       "      <td>2.55</td>\n",
       "      <td>...</td>\n",
       "      <td>3.0</td>\n",
       "      <td>19.0</td>\n",
       "      <td>5.0</td>\n",
       "      <td>14.0</td>\n",
       "      <td>4.0</td>\n",
       "      <td>5.0</td>\n",
       "      <td>13.0</td>\n",
       "      <td>52.0</td>\n",
       "      <td>20.0</td>\n",
       "      <td>4.0</td>\n",
       "    </tr>\n",
       "    <tr>\n",
       "      <th>...</th>\n",
       "      <td>...</td>\n",
       "      <td>...</td>\n",
       "      <td>...</td>\n",
       "      <td>...</td>\n",
       "      <td>...</td>\n",
       "      <td>...</td>\n",
       "      <td>...</td>\n",
       "      <td>...</td>\n",
       "      <td>...</td>\n",
       "      <td>...</td>\n",
       "      <td>...</td>\n",
       "      <td>...</td>\n",
       "      <td>...</td>\n",
       "      <td>...</td>\n",
       "      <td>...</td>\n",
       "      <td>...</td>\n",
       "      <td>...</td>\n",
       "      <td>...</td>\n",
       "      <td>...</td>\n",
       "      <td>...</td>\n",
       "      <td>...</td>\n",
       "    </tr>\n",
       "    <tr>\n",
       "      <th>842</th>\n",
       "      <td>1665</td>\n",
       "      <td>S655364</td>\n",
       "      <td>S655364</td>\n",
       "      <td>F</td>\n",
       "      <td>2021-12-28 13:56:22.000000</td>\n",
       "      <td>2021-12-28 14:07:31.000000</td>\n",
       "      <td>1근</td>\n",
       "      <td>C</td>\n",
       "      <td>송홍근</td>\n",
       "      <td>2.60</td>\n",
       "      <td>...</td>\n",
       "      <td>2.0</td>\n",
       "      <td>19.0</td>\n",
       "      <td>6.0</td>\n",
       "      <td>16.0</td>\n",
       "      <td>5.0</td>\n",
       "      <td>7.0</td>\n",
       "      <td>13.0</td>\n",
       "      <td>38.0</td>\n",
       "      <td>20.0</td>\n",
       "      <td>4.0</td>\n",
       "    </tr>\n",
       "    <tr>\n",
       "      <th>843</th>\n",
       "      <td>1669</td>\n",
       "      <td>S672405</td>\n",
       "      <td>S672405</td>\n",
       "      <td>F</td>\n",
       "      <td>2021-12-31 02:34:02.000000</td>\n",
       "      <td>2021-12-31 02:45:48.000000</td>\n",
       "      <td>3근</td>\n",
       "      <td>A</td>\n",
       "      <td>권순갑</td>\n",
       "      <td>2.82</td>\n",
       "      <td>...</td>\n",
       "      <td>3.0</td>\n",
       "      <td>19.0</td>\n",
       "      <td>6.0</td>\n",
       "      <td>15.0</td>\n",
       "      <td>5.0</td>\n",
       "      <td>6.0</td>\n",
       "      <td>8963.0</td>\n",
       "      <td>56.0</td>\n",
       "      <td>22.0</td>\n",
       "      <td>-8587.0</td>\n",
       "    </tr>\n",
       "    <tr>\n",
       "      <th>844</th>\n",
       "      <td>1670</td>\n",
       "      <td>S672396</td>\n",
       "      <td>S672396</td>\n",
       "      <td>F</td>\n",
       "      <td>2021-12-31 02:45:57.000000</td>\n",
       "      <td>2021-12-31 02:57:40.000000</td>\n",
       "      <td>3근</td>\n",
       "      <td>A</td>\n",
       "      <td>권순갑</td>\n",
       "      <td>3.00</td>\n",
       "      <td>...</td>\n",
       "      <td>2.0</td>\n",
       "      <td>19.0</td>\n",
       "      <td>5.0</td>\n",
       "      <td>15.0</td>\n",
       "      <td>5.0</td>\n",
       "      <td>6.0</td>\n",
       "      <td>13.0</td>\n",
       "      <td>85.0</td>\n",
       "      <td>22.0</td>\n",
       "      <td>-9307.0</td>\n",
       "    </tr>\n",
       "    <tr>\n",
       "      <th>845</th>\n",
       "      <td>1671</td>\n",
       "      <td>S672397</td>\n",
       "      <td>S672397</td>\n",
       "      <td>F</td>\n",
       "      <td>2021-12-31 03:00:40.000000</td>\n",
       "      <td>2021-12-31 03:09:21.000000</td>\n",
       "      <td>3근</td>\n",
       "      <td>A</td>\n",
       "      <td>권순갑</td>\n",
       "      <td>3.00</td>\n",
       "      <td>...</td>\n",
       "      <td>2.0</td>\n",
       "      <td>19.0</td>\n",
       "      <td>5.0</td>\n",
       "      <td>15.0</td>\n",
       "      <td>5.0</td>\n",
       "      <td>6.0</td>\n",
       "      <td>13.0</td>\n",
       "      <td>39.0</td>\n",
       "      <td>20.0</td>\n",
       "      <td>4.0</td>\n",
       "    </tr>\n",
       "    <tr>\n",
       "      <th>846</th>\n",
       "      <td>1672</td>\n",
       "      <td>S672398</td>\n",
       "      <td>S672398</td>\n",
       "      <td>F</td>\n",
       "      <td>2021-12-31 03:09:21.000000</td>\n",
       "      <td>2021-12-31 03:21:04.000000</td>\n",
       "      <td>3근</td>\n",
       "      <td>A</td>\n",
       "      <td>권순갑</td>\n",
       "      <td>2.83</td>\n",
       "      <td>...</td>\n",
       "      <td>2.0</td>\n",
       "      <td>19.0</td>\n",
       "      <td>5.0</td>\n",
       "      <td>14.0</td>\n",
       "      <td>5.0</td>\n",
       "      <td>6.0</td>\n",
       "      <td>13.0</td>\n",
       "      <td>50.0</td>\n",
       "      <td>21.0</td>\n",
       "      <td>4.0</td>\n",
       "    </tr>\n",
       "  </tbody>\n",
       "</table>\n",
       "<p>847 rows × 38 columns</p>\n",
       "</div>"
      ],
      "text/plain": [
       "     Unnamed: 0   coilid coilid.1 Pass                       Start  \\\n",
       "0             0  S610403  S610403    F  2021-08-01 12:37:46.000000   \n",
       "1             1  S610874  S610874    F  2021-08-01 12:48:50.000000   \n",
       "2             2  S587584  S587584    F  2021-08-01 13:00:10.000000   \n",
       "3             3  S610304  S610304    F  2021-08-01 18:25:42.000000   \n",
       "4             4  S610411  S610411    F  2021-08-01 19:01:09.000000   \n",
       "..          ...      ...      ...  ...                         ...   \n",
       "842        1665  S655364  S655364    F  2021-12-28 13:56:22.000000   \n",
       "843        1669  S672405  S672405    F  2021-12-31 02:34:02.000000   \n",
       "844        1670  S672396  S672396    F  2021-12-31 02:45:57.000000   \n",
       "845        1671  S672397  S672397    F  2021-12-31 03:00:40.000000   \n",
       "846        1672  S672398  S672398    F  2021-12-31 03:09:21.000000   \n",
       "\n",
       "                            End  근무  조  작업자  준비시간  ...  \\\n",
       "0    2021-08-01 12:48:50.000000  1근  B  김찬형  2.80  ...   \n",
       "1    2021-08-01 13:00:10.000000  1근  B  김찬형  2.78  ...   \n",
       "2    2021-08-01 13:11:29.000000  1근  B  김찬형  2.90  ...   \n",
       "3    2021-08-01 18:36:56.000000  2근  A  권순갑  2.95  ...   \n",
       "4    2021-08-01 19:12:04.000000  2근  A  권순갑  2.55  ...   \n",
       "..                          ...  .. ..  ...   ...  ...   \n",
       "842  2021-12-28 14:07:31.000000  1근  C  송홍근  2.60  ...   \n",
       "843  2021-12-31 02:45:48.000000  3근  A  권순갑  2.82  ...   \n",
       "844  2021-12-31 02:57:40.000000  3근  A  권순갑  3.00  ...   \n",
       "845  2021-12-31 03:09:21.000000  3근  A  권순갑  3.00  ...   \n",
       "846  2021-12-31 03:21:04.000000  3근  A  권순갑  2.83  ...   \n",
       "\n",
       "     Exit_5_Exit_mandrel_collapse  \\\n",
       "0                             3.0   \n",
       "1                             2.0   \n",
       "2                             3.0   \n",
       "3                             2.0   \n",
       "4                             3.0   \n",
       "..                            ...   \n",
       "842                           2.0   \n",
       "843                           3.0   \n",
       "844                           2.0   \n",
       "845                           2.0   \n",
       "846                           2.0   \n",
       "\n",
       "     Exit_6_Exit_coil_car_move_to_conveyor_position  \\\n",
       "0                                              19.0   \n",
       "1                                              19.0   \n",
       "2                                              19.0   \n",
       "3                                              19.0   \n",
       "4                                              19.0   \n",
       "..                                              ...   \n",
       "842                                            19.0   \n",
       "843                                            19.0   \n",
       "844                                            19.0   \n",
       "845                                            19.0   \n",
       "846                                            19.0   \n",
       "\n",
       "    Exit_7_Exit_Spool_charger_in Exit_8_Exit_Spool_charger_head_in  \\\n",
       "0                            5.0                              14.0   \n",
       "1                            4.0                              15.0   \n",
       "2                            5.0                              14.0   \n",
       "3                            4.0                              15.0   \n",
       "4                            5.0                              14.0   \n",
       "..                           ...                               ...   \n",
       "842                          6.0                              16.0   \n",
       "843                          6.0                              15.0   \n",
       "844                          5.0                              15.0   \n",
       "845                          5.0                              15.0   \n",
       "846                          5.0                              14.0   \n",
       "\n",
       "     Exit_9_Exit_Spool_charger_head_out  Exit_10_Exit_Spool_charger_out  \\\n",
       "0                                   4.0                             5.0   \n",
       "1                                   3.0                             5.0   \n",
       "2                                   3.0                             4.0   \n",
       "3                                   3.0                             5.0   \n",
       "4                                   4.0                             5.0   \n",
       "..                                  ...                             ...   \n",
       "842                                 5.0                             7.0   \n",
       "843                                 5.0                             6.0   \n",
       "844                                 5.0                             6.0   \n",
       "845                                 5.0                             6.0   \n",
       "846                                 5.0                             6.0   \n",
       "\n",
       "     Exit_11_Exit_Belt_wrapper_in  Exit_12_Coil_Winding  \\\n",
       "0                            12.0               11575.0   \n",
       "1                            13.0                  50.0   \n",
       "2                            13.0                  65.0   \n",
       "3                            13.0                  58.0   \n",
       "4                            13.0                  52.0   \n",
       "..                            ...                   ...   \n",
       "842                          13.0                  38.0   \n",
       "843                        8963.0                  56.0   \n",
       "844                          13.0                  85.0   \n",
       "845                          13.0                  39.0   \n",
       "846                          13.0                  50.0   \n",
       "\n",
       "     Exit_13_Coil_Threading  Exit_14_Line_speed_to_100_mpm  \n",
       "0                      20.0                       -11595.0  \n",
       "1                      21.0                            3.0  \n",
       "2                      21.0                            3.0  \n",
       "3                      23.0                            3.0  \n",
       "4                      20.0                            4.0  \n",
       "..                      ...                            ...  \n",
       "842                    20.0                            4.0  \n",
       "843                    22.0                        -8587.0  \n",
       "844                    22.0                        -9307.0  \n",
       "845                    20.0                            4.0  \n",
       "846                    21.0                            4.0  \n",
       "\n",
       "[847 rows x 38 columns]"
      ]
     },
     "execution_count": 28,
     "metadata": {},
     "output_type": "execute_result"
    }
   ],
   "source": [
    "ctc"
   ]
  },
  {
   "cell_type": "code",
   "execution_count": 23,
   "id": "d0214660-82c6-4796-b862-cfa88c9e6c8f",
   "metadata": {},
   "outputs": [
    {
     "data": {
      "text/plain": [
       "count     828.000000\n",
       "mean        8.550725\n",
       "std       115.697730\n",
       "min         1.000000\n",
       "1%          1.000000\n",
       "10%         2.000000\n",
       "20%         2.000000\n",
       "50%         3.000000\n",
       "80%         4.000000\n",
       "90%         5.000000\n",
       "99%        17.460000\n",
       "max      3254.000000\n",
       "Name: Entry_1_Line_speed_100mpm_to_0mpm, dtype: float64"
      ]
     },
     "execution_count": 23,
     "metadata": {},
     "output_type": "execute_result"
    }
   ],
   "source": [
    "ctc_entry_p['Entry_1_Line_speed_100mpm_to_0mpm'].describe(percentiles=[0.01, 0.1, 0.2, 0.5, 0.8, 0.9, 0.99])"
   ]
  },
  {
   "cell_type": "code",
   "execution_count": 29,
   "id": "b8d140d3-b27b-42c3-b387-c480cd87f50f",
   "metadata": {},
   "outputs": [],
   "source": [
    "ctc2 = ctc.drop(columns=['Unnamed: 0','coilid.1']).set_index('coilid')"
   ]
  },
  {
   "cell_type": "code",
   "execution_count": 33,
   "id": "dcaf122e-d88c-4fe9-92dd-551a7688d155",
   "metadata": {},
   "outputs": [
    {
     "data": {
      "text/plain": [
       "Pass                                              0\n",
       "Start                                             0\n",
       "End                                               0\n",
       "근무                                                0\n",
       "조                                                 0\n",
       "작업자                                               0\n",
       "준비시간                                              0\n",
       "작업시간                                              0\n",
       "소요시간(UPTIME)                                      0\n",
       "Alloy                                             0\n",
       "max_time                                          0\n",
       "Entry_1_Line_speed_100mpm_to_0mpm                 0\n",
       "Entry_2_Entry_Spool_Grab_traverse_in              0\n",
       "Entry_3_Entry_Pup_Coil_Winding                    0\n",
       "Entry_4_Entry_Spool_Grab_traverse_out             0\n",
       "Entry_5_Entry_Spool_Grab_pivot_out                0\n",
       "Entry_6_Entry_Coil_Car_move_to_reel               0\n",
       "Entry_7_Entry_Coil_작업_준비                          0\n",
       "Entry_8_Coil_Winding                              0\n",
       "Entry_9_Coil_Threading                            0\n",
       "Entry_10_Line_speed_to_100_mpm                    0\n",
       "Exit_1_Line_speed_100mpm_to_0mpm                  0\n",
       "Exit_2_Exit_tail_shear                            0\n",
       "Exit_3_Exit_coil_tail_out                         0\n",
       "Exit_4_Exit_coil_car_lifter_up                    0\n",
       "Exit_5_Exit_mandrel_collapse                      0\n",
       "Exit_6_Exit_coil_car_move_to_conveyor_position    0\n",
       "Exit_7_Exit_Spool_charger_in                      0\n",
       "Exit_8_Exit_Spool_charger_head_in                 0\n",
       "Exit_9_Exit_Spool_charger_head_out                0\n",
       "Exit_10_Exit_Spool_charger_out                    0\n",
       "Exit_11_Exit_Belt_wrapper_in                      0\n",
       "Exit_12_Coil_Winding                              0\n",
       "Exit_13_Coil_Threading                            0\n",
       "Exit_14_Line_speed_to_100_mpm                     0\n",
       "dtype: int64"
      ]
     },
     "execution_count": 33,
     "metadata": {},
     "output_type": "execute_result"
    }
   ],
   "source": [
    "ctc2.isnull().sum()"
   ]
  },
  {
   "cell_type": "code",
   "execution_count": null,
   "id": "b8334255-51bd-452f-a4ae-de033f9a7ba9",
   "metadata": {},
   "outputs": [],
   "source": [
    "# cut, sort, merge and concat"
   ]
  },
  {
   "cell_type": "code",
   "execution_count": 70,
   "id": "2d694ac3-acd2-40d1-a2f2-f65b348dca89",
   "metadata": {},
   "outputs": [
    {
     "name": "stdout",
     "output_type": "stream",
     "text": [
      "Unnamed: 0\n",
      "coilid\n",
      "coilid.1\n",
      "Pass\n",
      "Start\n",
      "End\n",
      "근무\n",
      "조\n",
      "작업자\n",
      "준비시간\n",
      "작업시간\n",
      "소요시간(UPTIME)\n",
      "Alloy\n",
      "max_time\n",
      "Entry_1_Line_speed_100mpm_to_0mpm\n",
      "Entry_2_Entry_Spool_Grab_traverse_in\n",
      "Entry_3_Entry_Pup_Coil_Winding\n",
      "Entry_4_Entry_Spool_Grab_traverse_out\n",
      "Entry_5_Entry_Spool_Grab_pivot_out\n",
      "Entry_6_Entry_Coil_Car_move_to_reel\n",
      "Entry_7_Entry_Coil_작업_준비\n",
      "Entry_8_Coil_Winding\n",
      "Entry_9_Coil_Threading\n",
      "Entry_10_Line_speed_to_100_mpm\n",
      "Exit_1_Line_speed_100mpm_to_0mpm\n",
      "Exit_2_Exit_tail_shear\n",
      "Exit_3_Exit_coil_tail_out\n",
      "Exit_4_Exit_coil_car_lifter_up\n",
      "Exit_5_Exit_mandrel_collapse\n",
      "Exit_6_Exit_coil_car_move_to_conveyor_position\n",
      "Exit_7_Exit_Spool_charger_in\n",
      "Exit_8_Exit_Spool_charger_head_in\n",
      "Exit_9_Exit_Spool_charger_head_out\n",
      "Exit_10_Exit_Spool_charger_out\n",
      "Exit_11_Exit_Belt_wrapper_in\n",
      "Exit_12_Coil_Winding\n",
      "Exit_13_Coil_Threading\n",
      "Exit_14_Line_speed_to_100_mpm\n"
     ]
    }
   ],
   "source": [
    "for i in ctc.columns:\n",
    "    print(i)"
   ]
  },
  {
   "cell_type": "code",
   "execution_count": 2,
   "id": "197a75d9-9315-4b8d-87d3-e392b6bf940d",
   "metadata": {},
   "outputs": [
    {
     "name": "stdout",
     "output_type": "stream",
     "text": [
      "OSIsoft(r) AF SDK Version: 2.9.1.8106\n",
      "server name: YEJRC1AF01\n"
     ]
    }
   ],
   "source": [
    "import PIconnect as PI\n",
    "\n",
    "def find_server():\n",
    "\n",
    "    with PI.PIServer() as server:\n",
    "        return server.server_name\n",
    "\n",
    "print('server name:', find_server())"
   ]
  },
  {
   "cell_type": "code",
   "execution_count": 13,
   "id": "ca1db04a-ffdf-4f24-bfa1-25da7e80ffe7",
   "metadata": {},
   "outputs": [
    {
     "name": "stdout",
     "output_type": "stream",
     "text": [
      "['_PIPoint__attributes_loaded', '_PIPoint__load_attributes', '_PIPoint__raw_attributes', '_PISeriesContainer__boundary_types', '__abstractmethods__', '__add__', '__class__', '__delattr__', '__dict__', '__dir__', '__div__', '__divmod__', '__doc__', '__eq__', '__floordiv__', '__format__', '__ge__', '__getattribute__', '__gt__', '__hash__', '__init__', '__init_subclass__', '__le__', '__lt__', '__mod__', '__module__', '__mul__', '__ne__', '__new__', '__radd__', '__rdiv__', '__rdivmod__', '__reduce__', '__reduce_ex__', '__repr__', '__rfloordiv__', '__rmod__', '__rmul__', '__rsub__', '__rtruediv__', '__setattr__', '__sizeof__', '__slots__', '__str__', '__sub__', '__subclasshook__', '__truediv__', '__weakref__', '_abc_impl', '_current_value', '_filtered_summaries', '_interpolated_value', '_interpolated_values', '_normalize_filter_expression', '_recorded_value', '_recorded_values', '_summaries', '_summary', '_update_value', 'current_value', 'description', 'filtered_summaries', 'interpolated_value', 'interpolated_values', 'last_update', 'name', 'pi_point', 'raw_attributes', 'recorded_value', 'recorded_values', 'summaries', 'summary', 'tag', 'units_of_measurement', 'update_value', 'version']\n"
     ]
    }
   ],
   "source": [
    "import PI_connection as pi\n",
    "PI.PIConfig.DEFAULT_TIMEZONE = 'Asia/Seoul'\n",
    "with PI.PIServer() as server:\n",
    "    tag = ['RF2_SUBFURDOR01CLS']\n",
    "    points = server.search(tag)[0]\n",
    "    print(dir(points))"
   ]
  },
  {
   "cell_type": "code",
   "execution_count": null,
   "id": "1af208a6-259b-42e9-b4ef-afcce7d6cf68",
   "metadata": {},
   "outputs": [],
   "source": [
    "import PI_connection as pi\n",
    "PI.PIConfig.DEFAULT_TIMEZONE = 'Asia/Seoul'\n",
    "with PI.PIServer() as server:\n",
    "    tag = ['RF2_SUBFURDOR01CLS']\n",
    "    points = server.search(tag)[0]\n",
    "    data = points.interpolated_values(start_time=start, end_time=end, interval= freq)\n",
    "    "
   ]
  },
  {
   "cell_type": "code",
   "execution_count": 7,
   "id": "6a4b4ed6-a99b-4a96-96f4-a60bd0dbe9b2",
   "metadata": {},
   "outputs": [
    {
     "name": "stdout",
     "output_type": "stream",
     "text": [
      "2022-02-28 15:00:00+00:00    OFF\n",
      "2022-02-28 15:01:00+00:00    OFF\n",
      "2022-02-28 15:02:00+00:00    OFF\n",
      "2022-02-28 15:03:00+00:00    OFF\n",
      "2022-02-28 15:04:00+00:00    OFF\n",
      "Name: RF2_SUBFURDOR01CLS, dtype: object\n"
     ]
    }
   ],
   "source": [
    "with PI.PIServer() as server:\n",
    "    tag = ['RF2_SUBFURDOR01CLS','RF2_MAINFURDOR01CLS']\n",
    "    points = server.search(tag)[0]\n",
    "    data = points.interpolated_values(start_time='2022-03-01', end_time='2022-03-17', interval= '1m')\n",
    "    print(data.head())"
   ]
  },
  {
   "cell_type": "code",
   "execution_count": 8,
   "id": "4b28de06-31c1-4f0d-9b07-da7a144dc950",
   "metadata": {},
   "outputs": [],
   "source": [
    "\n",
    "def data_to_python(tag_list, start, end, freq):\n",
    "\n",
    "    with PI.PIServer() as server:\n",
    "        data_all = pd.DataFrame()\n",
    "        \n",
    "        for tag in tag_list:\n",
    "            points = server.search(tag)[0]\n",
    "            data = points.interpolated_values(start_time=start, end_time=end, interval= freq)\n",
    "            # data = pd.to_numeric(data, errors='coerce')\n",
    "            data_all = pd.concat([data_all, data], axis=1)\n",
    "        \n",
    "    return data_all    \n",
    "\n",
    "data = data_to_python(['RF2_SUBFURDOR01CLS','RF2_MAINFURDOR01CLS'], '2022-03-01', '2022-03-17', '1m')"
   ]
  },
  {
   "cell_type": "code",
   "execution_count": 9,
   "id": "4f362330-97d1-4368-a7f0-124a6a07172d",
   "metadata": {},
   "outputs": [
    {
     "data": {
      "text/html": [
       "<div>\n",
       "<style scoped>\n",
       "    .dataframe tbody tr th:only-of-type {\n",
       "        vertical-align: middle;\n",
       "    }\n",
       "\n",
       "    .dataframe tbody tr th {\n",
       "        vertical-align: top;\n",
       "    }\n",
       "\n",
       "    .dataframe thead th {\n",
       "        text-align: right;\n",
       "    }\n",
       "</style>\n",
       "<table border=\"1\" class=\"dataframe\">\n",
       "  <thead>\n",
       "    <tr style=\"text-align: right;\">\n",
       "      <th></th>\n",
       "      <th>RF2_SUBFURDOR01CLS</th>\n",
       "      <th>RF2_MAINFURDOR01CLS</th>\n",
       "    </tr>\n",
       "  </thead>\n",
       "  <tbody>\n",
       "    <tr>\n",
       "      <th>2022-02-28 15:00:00+00:00</th>\n",
       "      <td>OFF</td>\n",
       "      <td>OFF</td>\n",
       "    </tr>\n",
       "    <tr>\n",
       "      <th>2022-02-28 15:01:00+00:00</th>\n",
       "      <td>OFF</td>\n",
       "      <td>OFF</td>\n",
       "    </tr>\n",
       "    <tr>\n",
       "      <th>2022-02-28 15:02:00+00:00</th>\n",
       "      <td>OFF</td>\n",
       "      <td>OFF</td>\n",
       "    </tr>\n",
       "    <tr>\n",
       "      <th>2022-02-28 15:03:00+00:00</th>\n",
       "      <td>OFF</td>\n",
       "      <td>OFF</td>\n",
       "    </tr>\n",
       "    <tr>\n",
       "      <th>2022-02-28 15:04:00+00:00</th>\n",
       "      <td>OFF</td>\n",
       "      <td>OFF</td>\n",
       "    </tr>\n",
       "  </tbody>\n",
       "</table>\n",
       "</div>"
      ],
      "text/plain": [
       "                          RF2_SUBFURDOR01CLS RF2_MAINFURDOR01CLS\n",
       "2022-02-28 15:00:00+00:00                OFF                 OFF\n",
       "2022-02-28 15:01:00+00:00                OFF                 OFF\n",
       "2022-02-28 15:02:00+00:00                OFF                 OFF\n",
       "2022-02-28 15:03:00+00:00                OFF                 OFF\n",
       "2022-02-28 15:04:00+00:00                OFF                 OFF"
      ]
     },
     "execution_count": 9,
     "metadata": {},
     "output_type": "execute_result"
    }
   ],
   "source": [
    "data.head()"
   ]
  },
  {
   "cell_type": "code",
   "execution_count": 5,
   "id": "1406630f-1031-42ce-bc57-f0923cdb2c9f",
   "metadata": {},
   "outputs": [
    {
     "data": {
      "text/html": [
       "<div>\n",
       "<style scoped>\n",
       "    .dataframe tbody tr th:only-of-type {\n",
       "        vertical-align: middle;\n",
       "    }\n",
       "\n",
       "    .dataframe tbody tr th {\n",
       "        vertical-align: top;\n",
       "    }\n",
       "\n",
       "    .dataframe thead th {\n",
       "        text-align: right;\n",
       "    }\n",
       "</style>\n",
       "<table border=\"1\" class=\"dataframe\">\n",
       "  <thead>\n",
       "    <tr style=\"text-align: right;\">\n",
       "      <th></th>\n",
       "      <th>RF2_SUBFURDOR01CLS</th>\n",
       "      <th>RF2_MAINFURDOR01CLS</th>\n",
       "    </tr>\n",
       "  </thead>\n",
       "  <tbody>\n",
       "    <tr>\n",
       "      <th>2022-03-01 00:00:00+09:00</th>\n",
       "      <td>NaN</td>\n",
       "      <td>NaN</td>\n",
       "    </tr>\n",
       "    <tr>\n",
       "      <th>2022-03-01 00:01:00+09:00</th>\n",
       "      <td>NaN</td>\n",
       "      <td>NaN</td>\n",
       "    </tr>\n",
       "    <tr>\n",
       "      <th>2022-03-01 00:02:00+09:00</th>\n",
       "      <td>NaN</td>\n",
       "      <td>NaN</td>\n",
       "    </tr>\n",
       "    <tr>\n",
       "      <th>2022-03-01 00:03:00+09:00</th>\n",
       "      <td>NaN</td>\n",
       "      <td>NaN</td>\n",
       "    </tr>\n",
       "    <tr>\n",
       "      <th>2022-03-01 00:04:00+09:00</th>\n",
       "      <td>NaN</td>\n",
       "      <td>NaN</td>\n",
       "    </tr>\n",
       "  </tbody>\n",
       "</table>\n",
       "</div>"
      ],
      "text/plain": [
       "                           RF2_SUBFURDOR01CLS  RF2_MAINFURDOR01CLS\n",
       "2022-03-01 00:00:00+09:00                 NaN                  NaN\n",
       "2022-03-01 00:01:00+09:00                 NaN                  NaN\n",
       "2022-03-01 00:02:00+09:00                 NaN                  NaN\n",
       "2022-03-01 00:03:00+09:00                 NaN                  NaN\n",
       "2022-03-01 00:04:00+09:00                 NaN                  NaN"
      ]
     },
     "execution_count": 5,
     "metadata": {},
     "output_type": "execute_result"
    }
   ],
   "source": [
    "rk1_list = ['RF2_SUBFURDOR01CLS','RF2_MAINFURDOR01CLS']\n",
    "\n",
    "rk1_data = pi.data_to_python(rk1_list, '2022-03-01', '2022-03-17', '1m') # Convert to dataframe\n",
    "# rk1_data.to_pickle('rk_pi_data1.pkl')\n",
    "rk1_data.head()"
   ]
  },
  {
   "cell_type": "code",
   "execution_count": 37,
   "id": "51577387-4431-4ddf-9316-ab720c3d1efb",
   "metadata": {},
   "outputs": [
    {
     "data": {
      "text/html": [
       "<div>\n",
       "<style scoped>\n",
       "    .dataframe tbody tr th:only-of-type {\n",
       "        vertical-align: middle;\n",
       "    }\n",
       "\n",
       "    .dataframe tbody tr th {\n",
       "        vertical-align: top;\n",
       "    }\n",
       "\n",
       "    .dataframe thead th {\n",
       "        text-align: right;\n",
       "    }\n",
       "</style>\n",
       "<table border=\"1\" class=\"dataframe\">\n",
       "  <thead>\n",
       "    <tr style=\"text-align: right;\">\n",
       "      <th></th>\n",
       "      <th>Delac_1 WTCT3</th>\n",
       "      <th>Delac_1 WTCT4</th>\n",
       "    </tr>\n",
       "  </thead>\n",
       "  <tbody>\n",
       "    <tr>\n",
       "      <th>2022-01-01 00:00:00</th>\n",
       "      <td>437.4747</td>\n",
       "      <td>537.8519</td>\n",
       "    </tr>\n",
       "    <tr>\n",
       "      <th>2022-01-01 00:01:00</th>\n",
       "      <td>438.1966</td>\n",
       "      <td>538.0870</td>\n",
       "    </tr>\n",
       "    <tr>\n",
       "      <th>2022-01-01 00:02:00</th>\n",
       "      <td>439.1429</td>\n",
       "      <td>538.3221</td>\n",
       "    </tr>\n",
       "    <tr>\n",
       "      <th>2022-01-01 00:03:00</th>\n",
       "      <td>440.0892</td>\n",
       "      <td>538.5573</td>\n",
       "    </tr>\n",
       "    <tr>\n",
       "      <th>2022-01-01 00:04:00</th>\n",
       "      <td>441.0354</td>\n",
       "      <td>538.7924</td>\n",
       "    </tr>\n",
       "  </tbody>\n",
       "</table>\n",
       "</div>"
      ],
      "text/plain": [
       "                     Delac_1 WTCT3  Delac_1 WTCT4\n",
       "2022-01-01 00:00:00       437.4747       537.8519\n",
       "2022-01-01 00:01:00       438.1966       538.0870\n",
       "2022-01-01 00:02:00       439.1429       538.3221\n",
       "2022-01-01 00:03:00       440.0892       538.5573\n",
       "2022-01-01 00:04:00       441.0354       538.7924"
      ]
     },
     "execution_count": 37,
     "metadata": {},
     "output_type": "execute_result"
    }
   ],
   "source": [
    "rk1_data.index = pd.to_datetime(rk1_data.index).tz_localize(None)\n",
    "rk1_data.head()"
   ]
  },
  {
   "cell_type": "code",
   "execution_count": 36,
   "id": "ce68356a-651e-451d-a653-18aec5b32536",
   "metadata": {},
   "outputs": [
    {
     "name": "stdout",
     "output_type": "stream",
     "text": [
      "2022-01-01 00:00:00 2022-03-17 00:00:00\n"
     ]
    }
   ],
   "source": [
    "print(rk1_data.index.min(),rk1_data.index.max())"
   ]
  },
  {
   "cell_type": "code",
   "execution_count": 37,
   "id": "a1722bc3-7790-4556-95bb-e1f1e70fb8cb",
   "metadata": {},
   "outputs": [
    {
     "data": {
      "text/plain": [
       "Delac_1 WTCT3    28\n",
       "Delac_1 WTCT4    28\n",
       "dtype: int64"
      ]
     },
     "execution_count": 37,
     "metadata": {},
     "output_type": "execute_result"
    }
   ],
   "source": [
    "rk1_data.isnull().sum()"
   ]
  },
  {
   "cell_type": "code",
   "execution_count": null,
   "id": "29b11539-2851-4589-94be-2bbdee280453",
   "metadata": {},
   "outputs": [],
   "source": []
  },
  {
   "cell_type": "markdown",
   "id": "2679bd89-ce5c-4151-a418-b93a6fcd1c0f",
   "metadata": {},
   "source": [
    "- ### Graph"
   ]
  },
  {
   "cell_type": "code",
   "execution_count": 38,
   "id": "6511298b-7d17-4608-acb4-318c20433c31",
   "metadata": {},
   "outputs": [
    {
     "data": {
      "text/plain": [
       "Text(0.5, 1.0, 'Zone 3 vs. Zone 4 Temperature')"
      ]
     },
     "execution_count": 38,
     "metadata": {},
     "output_type": "execute_result"
    },
    {
     "data": {
      "image/png": "[encoded data removed]",
      "text/plain": [
       "<Figure size 720x360 with 1 Axes>"
      ]
     },
     "metadata": {
      "needs_background": "light"
     },
     "output_type": "display_data"
    }
   ],
   "source": [
    "plt.figure(figsize=(10,5))\n",
    "plt.scatter(x=rk1_data['Delac_1 WTCT3'], y=rk1_data['Delac_1 WTCT4'], s=1, color='red')\n",
    "plt.xlim(300,600)\n",
    "plt.ylim(200, 600)\n",
    "plt.xlabel('Zone 3 Temperature')\n",
    "plt.ylabel('Zone 4 Temperature')\n",
    "plt.title('Zone 3 vs. Zone 4 Temperature')"
   ]
  },
  {
   "cell_type": "code",
   "execution_count": 51,
   "id": "cf037f50-02e1-4303-acc2-c79f5b8b0a1b",
   "metadata": {},
   "outputs": [
    {
     "data": {
      "text/plain": [
       "<AxesSubplot:xlabel='Delac_1 WTCT3'>"
      ]
     },
     "execution_count": 51,
     "metadata": {},
     "output_type": "execute_result"
    },
    {
     "data": {
      "image/png": "[encoded data removed]",
      "text/plain": [
       "<Figure size 720x360 with 1 Axes>"
      ]
     },
     "metadata": {},
     "output_type": "display_data"
    }
   ],
   "source": [
    "import seaborn as sns\n",
    "plt.figure(figsize=(10,5))\n",
    "sns.boxplot(x=rk1_data['Delac_1 WTCT3'].sample(500), orient=\"h\", palette=\"Set2\")"
   ]
  },
  {
   "cell_type": "code",
   "execution_count": 53,
   "id": "9f47cb9a-5a60-459c-af12-a3eaf436adab",
   "metadata": {},
   "outputs": [
    {
     "data": {
      "text/plain": [
       "count   107,973.00\n",
       "mean        402.98\n",
       "std          62.13\n",
       "min           0.06\n",
       "25%         403.82\n",
       "50%         414.39\n",
       "75%         422.69\n",
       "max         624.34\n",
       "Name: Delac_1 WTCT3, dtype: float64"
      ]
     },
     "execution_count": 53,
     "metadata": {},
     "output_type": "execute_result"
    }
   ],
   "source": [
    "pd.options.display.float_format = '{:,.2f}'.format\n",
    "rk1_data['Delac_1 WTCT3'].describe()"
   ]
  },
  {
   "cell_type": "code",
   "execution_count": 62,
   "id": "ebe5527f-7068-473c-b62d-b2c2880931b2",
   "metadata": {},
   "outputs": [
    {
     "name": "stderr",
     "output_type": "stream",
     "text": [
      "C:\\Users\\shinki\\Anaconda3\\lib\\site-packages\\seaborn\\distributions.py:2619: FutureWarning: `distplot` is a deprecated function and will be removed in a future version. Please adapt your code to use either `displot` (a figure-level function with similar flexibility) or `histplot` (an axes-level function for histograms).\n",
      "  warnings.warn(msg, FutureWarning)\n"
     ]
    },
    {
     "data": {
      "text/plain": [
       "<AxesSubplot:xlabel='Delac_1 WTCT3'>"
      ]
     },
     "execution_count": 62,
     "metadata": {},
     "output_type": "execute_result"
    },
    {
     "data": {
      "image/png": "[encoded data removed]",
      "text/plain": [
       "<Figure size 432x288 with 1 Axes>"
      ]
     },
     "metadata": {},
     "output_type": "display_data"
    }
   ],
   "source": [
    "sns.distplot(rk1_data['Delac_1 WTCT3'], hist=True, kde=False, color='red')"
   ]
  },
  {
   "cell_type": "code",
   "execution_count": 63,
   "id": "d3ae4728-7c10-4a37-9cef-d10bf67e7f27",
   "metadata": {},
   "outputs": [
    {
     "name": "stderr",
     "output_type": "stream",
     "text": [
      "C:\\Users\\shinki\\Anaconda3\\lib\\site-packages\\seaborn\\distributions.py:2619: FutureWarning: `distplot` is a deprecated function and will be removed in a future version. Please adapt your code to use either `displot` (a figure-level function with similar flexibility) or `kdeplot` (an axes-level function for kernel density plots).\n",
      "  warnings.warn(msg, FutureWarning)\n"
     ]
    },
    {
     "data": {
      "image/png": "[encoded data removed]",
      "text/plain": [
       "<Figure size 432x288 with 1 Axes>"
      ]
     },
     "metadata": {},
     "output_type": "display_data"
    }
   ],
   "source": [
    "sns.distplot(rk1_data['Delac_1 WTCT3'], kde_kws = {'shade': True, 'linewidth': 1,'clip': (330, 530)}, hist=False, kde=True, color='cyan')\n",
    "plt.show()"
   ]
  },
  {
   "cell_type": "code",
   "execution_count": 69,
   "id": "5da13c82-1b40-49cd-879c-1881a4c4f699",
   "metadata": {
    "collapsed": true,
    "jupyter": {
     "outputs_hidden": true
    },
    "tags": []
   },
   "outputs": [
    {
     "name": "stderr",
     "output_type": "stream",
     "text": [
      "C:\\Users\\shinki\\AppData\\Local\\Temp\\ipykernel_32224\\945156456.py:1: UserWarning: Boolean Series key will be reindexed to match DataFrame index.\n",
      "  rk1_data.loc['2022-01-10':][rk1_data['Delac_1 WTCT3']>400].resample('D')['Delac_1 WTCT3'].median().plot(figsize=(10,5))\n"
     ]
    },
    {
     "data": {
      "text/plain": [
       "<AxesSubplot:>"
      ]
     },
     "execution_count": 69,
     "metadata": {},
     "output_type": "execute_result"
    },
    {
     "data": {
      "image/png": "[encoded data removed]",
      "text/plain": [
       "<Figure size 720x360 with 1 Axes>"
      ]
     },
     "metadata": {},
     "output_type": "display_data"
    }
   ],
   "source": [
    "rk1_data.loc['2022-01-10':][rk1_data['Delac_1 WTCT3']>400].resample('D')['Delac_1 WTCT3'].median().plot(figsize=(10,5))"
   ]
  },
  {
   "cell_type": "code",
   "execution_count": 1,
   "id": "9961fd96-4ceb-4585-9ffd-72fb516ca384",
   "metadata": {},
   "outputs": [],
   "source": [
    "import simpy\n",
    "\n",
    "def Customer(env):\n",
    "\n",
    "    print(f'A customer arrives at {env.now: d}')\n",
    "    interarrival_time = 2\n",
    "\n",
    "    yield env.timeout(interarrival_time) # inter-arrival time - 2 mins \n",
    "    \n",
    "    \n",
    "def Service(env):\n",
    "\n",
    "    print(f'A customer gets service at {env.now: d}')\n",
    "    service_time = 5\n",
    "\n",
    "    yield env.timeout(service_time) # inter-arrival time - 2 mins     "
   ]
  },
  {
   "cell_type": "code",
   "execution_count": 2,
   "id": "c4fe2b07-787a-43c4-af7f-3df4ba49657e",
   "metadata": {},
   "outputs": [],
   "source": [
    "env = simpy.Environment()\n",
    "Customer(env)\n",
    "Service(env)\n",
    "env.run()\n",
    "\n"
   ]
  },
  {
   "cell_type": "code",
   "execution_count": 6,
   "id": "f0d4cf50-af12-415d-998d-0683f1a31016",
   "metadata": {},
   "outputs": [
    {
     "data": {
      "text/plain": [
       "['__class__',\n",
       " '__delattr__',\n",
       " '__dict__',\n",
       " '__dir__',\n",
       " '__doc__',\n",
       " '__eq__',\n",
       " '__format__',\n",
       " '__ge__',\n",
       " '__getattribute__',\n",
       " '__gt__',\n",
       " '__hash__',\n",
       " '__init__',\n",
       " '__init_subclass__',\n",
       " '__le__',\n",
       " '__lt__',\n",
       " '__module__',\n",
       " '__ne__',\n",
       " '__new__',\n",
       " '__reduce__',\n",
       " '__reduce_ex__',\n",
       " '__repr__',\n",
       " '__setattr__',\n",
       " '__sizeof__',\n",
       " '__str__',\n",
       " '__subclasshook__',\n",
       " '__weakref__',\n",
       " '_active_proc',\n",
       " '_eid',\n",
       " '_now',\n",
       " '_queue',\n",
       " 'active_process',\n",
       " 'all_of',\n",
       " 'any_of',\n",
       " 'event',\n",
       " 'now',\n",
       " 'peek',\n",
       " 'process',\n",
       " 'run',\n",
       " 'schedule',\n",
       " 'step',\n",
       " 'timeout']"
      ]
     },
     "execution_count": 6,
     "metadata": {},
     "output_type": "execute_result"
    }
   ],
   "source": [
    "dir(env)"
   ]
  },
  {
   "cell_type": "code",
   "execution_count": 9,
   "id": "37497a3c-5728-4536-806a-5562a12be835",
   "metadata": {},
   "outputs": [
    {
     "data": {
      "text/plain": [
       "0"
      ]
     },
     "execution_count": 9,
     "metadata": {},
     "output_type": "execute_result"
    }
   ],
   "source": [
    "env.now"
   ]
  },
  {
   "cell_type": "code",
   "execution_count": null,
   "id": "349b4b3e-e941-4cf3-baa7-67474ff0d999",
   "metadata": {},
   "outputs": [],
   "source": []
  }
 ],
 "metadata": {
  "kernelspec": {
   "display_name": "Python 3 (ipykernel)",
   "language": "python",
   "name": "python3"
  },
  "language_info": {
   "codemirror_mode": {
    "name": "ipython",
    "version": 3
   },
   "file_extension": ".py",
   "mimetype": "text/x-python",
   "name": "python",
   "nbconvert_exporter": "python",
   "pygments_lexer": "ipython3",
   "version": "3.9.7"
  }
 },
 "nbformat": 4,
 "nbformat_minor": 5
}
