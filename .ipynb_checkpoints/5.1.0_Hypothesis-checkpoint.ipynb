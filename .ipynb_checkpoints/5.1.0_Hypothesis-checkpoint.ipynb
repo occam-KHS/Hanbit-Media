{
 "cells": [
  {
   "cell_type": "markdown",
   "id": "c248ea1f-d181-4b3f-b10e-24136dd2e571",
   "metadata": {},
   "source": [
    "### **가설 검정**"
   ]
  },
  {
   "cell_type": "markdown",
   "id": "9eb812ce-c283-48c8-8e8e-c56f47e29abe",
   "metadata": {},
   "source": [
    "이번 장에서는 아래 가설들을 하나씩 데이터를 이용하여 검정해 보시는 시간입니다. 유의미한 것으로 증명된 가설은 주가를 예측하는 모델에 입력 피쳐로 들어가게 됩니다.\n",
    "\n",
    "- 변동성이 크고 거래량이 몰린 종목이 주가가 상승한다.\n",
    "- 5일 이동 평균선이 오늘 종가보다 위에 위치해 있다.\n",
    "- 위 꼬리가 긴 양봉이 자주 발생한다.\n",
    "- 거래량이 종종 크게 터지며 매집의 흔적을 보인다.\n",
    "- 주가지수보다 더 좋은 수익율을 자주 보여준다.\n",
    "- 동종업계의 평균 수익률보다 좋은 수익률을 보여준다.\n",
    "- 개인투자자보다는 투신/사모펀드 등이 매수를 많이 한다.\n"
   ]
  },
  {
   "cell_type": "code",
   "execution_count": null,
   "id": "f5d9b39f-a50b-4d3d-86e4-60b985b049a6",
   "metadata": {},
   "outputs": [],
   "source": []
  }
 ],
 "metadata": {
  "kernelspec": {
   "display_name": "Python 3 (ipykernel)",
   "language": "python",
   "name": "python3"
  },
  "language_info": {
   "codemirror_mode": {
    "name": "ipython",
    "version": 3
   },
   "file_extension": ".py",
   "mimetype": "text/x-python",
   "name": "python",
   "nbconvert_exporter": "python",
   "pygments_lexer": "ipython3",
   "version": "3.9.7"
  }
 },
 "nbformat": 4,
 "nbformat_minor": 5
}
