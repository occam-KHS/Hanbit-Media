{
 "cells": [
  {
   "cell_type": "code",
   "execution_count": 1,
   "metadata": {},
   "outputs": [],
   "source": [
    "import FinanceDataReader as fdr\n",
    "%matplotlib inline\n",
    "import matplotlib.pyplot as plt\n",
    "import pandas as pd\n",
    "import numpy as np\n",
    "import warnings\n",
    "warnings.filterwarnings('ignore')\n",
    "\n",
    "pd.options.display.float_format = '{:,.3f}'.format"
   ]
  },
  {
   "cell_type": "markdown",
   "metadata": {},
   "source": [
    "### 가설 - 5일 이동 평균선이 오늘 종가보다 위에 위치해 있다.   \n",
    "rolling(5) 을 이용하여 이동평균선을 만듭니다. 그리고 당일의 종가보다 크면, 1 아니면 0 인 변수 'flag' 을 생성합니다. 이 가설은 검증이 쉬운 것 같습니다."
   ]
  },
  {
   "cell_type": "code",
   "execution_count": 15,
   "metadata": {},
   "outputs": [
    {
     "data": {
      "text/html": [
       "<div>\n",
       "<style scoped>\n",
       "    .dataframe tbody tr th:only-of-type {\n",
       "        vertical-align: middle;\n",
       "    }\n",
       "\n",
       "    .dataframe tbody tr th {\n",
       "        vertical-align: top;\n",
       "    }\n",
       "\n",
       "    .dataframe thead th {\n",
       "        text-align: right;\n",
       "    }\n",
       "</style>\n",
       "<table border=\"1\" class=\"dataframe\">\n",
       "  <thead>\n",
       "    <tr style=\"text-align: right;\">\n",
       "      <th></th>\n",
       "      <th>open</th>\n",
       "      <th>high</th>\n",
       "      <th>low</th>\n",
       "      <th>close</th>\n",
       "      <th>volume</th>\n",
       "      <th>change</th>\n",
       "      <th>code</th>\n",
       "      <th>name</th>\n",
       "      <th>kosdaq_return</th>\n",
       "      <th>return</th>\n",
       "      <th>win_market</th>\n",
       "      <th>close_r1</th>\n",
       "      <th>close_r2</th>\n",
       "      <th>close_r3</th>\n",
       "      <th>close_r4</th>\n",
       "      <th>close_r5</th>\n",
       "      <th>max_close</th>\n",
       "    </tr>\n",
       "    <tr>\n",
       "      <th>date</th>\n",
       "      <th></th>\n",
       "      <th></th>\n",
       "      <th></th>\n",
       "      <th></th>\n",
       "      <th></th>\n",
       "      <th></th>\n",
       "      <th></th>\n",
       "      <th></th>\n",
       "      <th></th>\n",
       "      <th></th>\n",
       "      <th></th>\n",
       "      <th></th>\n",
       "      <th></th>\n",
       "      <th></th>\n",
       "      <th></th>\n",
       "      <th></th>\n",
       "      <th></th>\n",
       "    </tr>\n",
       "  </thead>\n",
       "  <tbody>\n",
       "    <tr>\n",
       "      <th>2021-01-04</th>\n",
       "      <td>2185</td>\n",
       "      <td>2320</td>\n",
       "      <td>2135</td>\n",
       "      <td>2260</td>\n",
       "      <td>588133</td>\n",
       "      <td>0.044</td>\n",
       "      <td>060310</td>\n",
       "      <td>3S</td>\n",
       "      <td>NaN</td>\n",
       "      <td>NaN</td>\n",
       "      <td>0</td>\n",
       "      <td>0.996</td>\n",
       "      <td>1.013</td>\n",
       "      <td>1.013</td>\n",
       "      <td>0.993</td>\n",
       "      <td>0.962</td>\n",
       "      <td>1.013</td>\n",
       "    </tr>\n",
       "    <tr>\n",
       "      <th>2021-01-05</th>\n",
       "      <td>2270</td>\n",
       "      <td>2285</td>\n",
       "      <td>2200</td>\n",
       "      <td>2250</td>\n",
       "      <td>410263</td>\n",
       "      <td>-0.004</td>\n",
       "      <td>060310</td>\n",
       "      <td>3S</td>\n",
       "      <td>1.008</td>\n",
       "      <td>0.996</td>\n",
       "      <td>0</td>\n",
       "      <td>1.018</td>\n",
       "      <td>1.018</td>\n",
       "      <td>0.998</td>\n",
       "      <td>0.967</td>\n",
       "      <td>0.971</td>\n",
       "      <td>1.018</td>\n",
       "    </tr>\n",
       "    <tr>\n",
       "      <th>2021-01-06</th>\n",
       "      <td>2225</td>\n",
       "      <td>2310</td>\n",
       "      <td>2215</td>\n",
       "      <td>2290</td>\n",
       "      <td>570349</td>\n",
       "      <td>0.018</td>\n",
       "      <td>060310</td>\n",
       "      <td>3S</td>\n",
       "      <td>0.996</td>\n",
       "      <td>1.018</td>\n",
       "      <td>1</td>\n",
       "      <td>1.000</td>\n",
       "      <td>0.980</td>\n",
       "      <td>0.950</td>\n",
       "      <td>0.954</td>\n",
       "      <td>0.950</td>\n",
       "      <td>1.000</td>\n",
       "    </tr>\n",
       "    <tr>\n",
       "      <th>2021-01-07</th>\n",
       "      <td>2290</td>\n",
       "      <td>2340</td>\n",
       "      <td>2240</td>\n",
       "      <td>2290</td>\n",
       "      <td>519777</td>\n",
       "      <td>0.000</td>\n",
       "      <td>060310</td>\n",
       "      <td>3S</td>\n",
       "      <td>1.008</td>\n",
       "      <td>1.000</td>\n",
       "      <td>0</td>\n",
       "      <td>0.980</td>\n",
       "      <td>0.950</td>\n",
       "      <td>0.954</td>\n",
       "      <td>0.950</td>\n",
       "      <td>0.959</td>\n",
       "      <td>0.980</td>\n",
       "    </tr>\n",
       "    <tr>\n",
       "      <th>2021-01-08</th>\n",
       "      <td>2300</td>\n",
       "      <td>2315</td>\n",
       "      <td>2225</td>\n",
       "      <td>2245</td>\n",
       "      <td>462568</td>\n",
       "      <td>-0.020</td>\n",
       "      <td>060310</td>\n",
       "      <td>3S</td>\n",
       "      <td>0.999</td>\n",
       "      <td>0.980</td>\n",
       "      <td>0</td>\n",
       "      <td>0.969</td>\n",
       "      <td>0.973</td>\n",
       "      <td>0.969</td>\n",
       "      <td>0.978</td>\n",
       "      <td>0.973</td>\n",
       "      <td>0.978</td>\n",
       "    </tr>\n",
       "  </tbody>\n",
       "</table>\n",
       "</div>"
      ],
      "text/plain": [
       "            open  high   low  close  volume  change    code name  \\\n",
       "date                                                               \n",
       "2021-01-04  2185  2320  2135   2260  588133   0.044  060310   3S   \n",
       "2021-01-05  2270  2285  2200   2250  410263  -0.004  060310   3S   \n",
       "2021-01-06  2225  2310  2215   2290  570349   0.018  060310   3S   \n",
       "2021-01-07  2290  2340  2240   2290  519777   0.000  060310   3S   \n",
       "2021-01-08  2300  2315  2225   2245  462568  -0.020  060310   3S   \n",
       "\n",
       "            kosdaq_return  return  win_market  close_r1  close_r2  close_r3  \\\n",
       "date                                                                          \n",
       "2021-01-04            NaN     NaN           0     0.996     1.013     1.013   \n",
       "2021-01-05          1.008   0.996           0     1.018     1.018     0.998   \n",
       "2021-01-06          0.996   1.018           1     1.000     0.980     0.950   \n",
       "2021-01-07          1.008   1.000           0     0.980     0.950     0.954   \n",
       "2021-01-08          0.999   0.980           0     0.969     0.973     0.969   \n",
       "\n",
       "            close_r4  close_r5  max_close  \n",
       "date                                       \n",
       "2021-01-04     0.993     0.962      1.013  \n",
       "2021-01-05     0.967     0.971      1.018  \n",
       "2021-01-06     0.954     0.950      1.000  \n",
       "2021-01-07     0.950     0.959      0.980  \n",
       "2021-01-08     0.978     0.973      0.978  "
      ]
     },
     "execution_count": 15,
     "metadata": {},
     "output_type": "execute_result"
    }
   ],
   "source": [
    "mdl_data = pd.read_pickle('mdl_data.pkl')\n",
    "mdl_data.head()"
   ]
  },
  {
   "cell_type": "code",
   "execution_count": 17,
   "metadata": {},
   "outputs": [],
   "source": [
    "kosdaq_list = pd.read_pickle('kosdaq_list.pkl')\n",
    "\n",
    "data_all_6 = pd.DataFrame()\n",
    "\n",
    "for code in kosdaq_list['code']:\n",
    "\n",
    "    data = mdl_data[mdl_data['code']==code].sort_index().copy()\n",
    "    \n",
    "    data['5day_ma'] = data['close'].rolling(5).mean() # 5일 이동평균선\n",
    "    data['flag'] = (data['close'] < data['5day_ma']).astype(int) # 5일 이동평균선이 종가보다 크면 1, 아니면 0\n",
    "\n",
    "       \n",
    "    data['max_close']  = data[['close_r1','close_r2','close_r3','close_r4','close_r5']].max(axis=1) # 5 영업일 종가 수익율 중 최고 값\n",
    "    data.dropna(subset=['5day_ma','close_r1','close_r2','close_r3','close_r4','close_r5'], inplace=True) # missing 이 있는 행은 제거  \n",
    "    \n",
    "    data_all_6 = pd.concat([data, data_all_6], axis=0)\n",
    "\n",
    "data_all_6.to_pickle('data_all_6.pkl')  "
   ]
  },
  {
   "cell_type": "code",
   "execution_count": null,
   "metadata": {},
   "outputs": [],
   "source": [
    "결과를 보니 이 가설은 데이터가 강하게 뒷받침하지 못하고 있습니다. "
   ]
  },
  {
   "cell_type": "code",
   "execution_count": 18,
   "metadata": {},
   "outputs": [
    {
     "data": {
      "text/html": [
       "<div>\n",
       "<style scoped>\n",
       "    .dataframe tbody tr th:only-of-type {\n",
       "        vertical-align: middle;\n",
       "    }\n",
       "\n",
       "    .dataframe tbody tr th {\n",
       "        vertical-align: top;\n",
       "    }\n",
       "\n",
       "    .dataframe thead th {\n",
       "        text-align: right;\n",
       "    }\n",
       "</style>\n",
       "<table border=\"1\" class=\"dataframe\">\n",
       "  <thead>\n",
       "    <tr style=\"text-align: right;\">\n",
       "      <th></th>\n",
       "      <th>count</th>\n",
       "      <th>mean</th>\n",
       "      <th>std</th>\n",
       "      <th>min</th>\n",
       "      <th>25%</th>\n",
       "      <th>50%</th>\n",
       "      <th>75%</th>\n",
       "      <th>max</th>\n",
       "    </tr>\n",
       "    <tr>\n",
       "      <th>flag</th>\n",
       "      <th></th>\n",
       "      <th></th>\n",
       "      <th></th>\n",
       "      <th></th>\n",
       "      <th></th>\n",
       "      <th></th>\n",
       "      <th></th>\n",
       "      <th></th>\n",
       "    </tr>\n",
       "  </thead>\n",
       "  <tbody>\n",
       "    <tr>\n",
       "      <th>0</th>\n",
       "      <td>211,145.000</td>\n",
       "      <td>1.032</td>\n",
       "      <td>0.077</td>\n",
       "      <td>0.326</td>\n",
       "      <td>1.000</td>\n",
       "      <td>1.012</td>\n",
       "      <td>1.044</td>\n",
       "      <td>3.703</td>\n",
       "    </tr>\n",
       "    <tr>\n",
       "      <th>1</th>\n",
       "      <td>212,313.000</td>\n",
       "      <td>1.034</td>\n",
       "      <td>0.068</td>\n",
       "      <td>0.700</td>\n",
       "      <td>0.999</td>\n",
       "      <td>1.019</td>\n",
       "      <td>1.052</td>\n",
       "      <td>3.139</td>\n",
       "    </tr>\n",
       "  </tbody>\n",
       "</table>\n",
       "</div>"
      ],
      "text/plain": [
       "           count  mean   std   min   25%   50%   75%   max\n",
       "flag                                                      \n",
       "0    211,145.000 1.032 0.077 0.326 1.000 1.012 1.044 3.703\n",
       "1    212,313.000 1.034 0.068 0.700 0.999 1.019 1.052 3.139"
      ]
     },
     "execution_count": 18,
     "metadata": {},
     "output_type": "execute_result"
    }
   ],
   "source": [
    "data_all_6 = pd.read_pickle('data_all_6.pkl')\n",
    "data_all_6.groupby('flag')['max_close'].describe()"
   ]
  },
  {
   "cell_type": "markdown",
   "metadata": {},
   "source": [
    " T-Test 를 해보겠습니다. T-Test 는 두 집단의 평균이 서로 유의미하게 다른 지 확인하는 검정입니다. 귀무가설이 \"두 집단의 평균이 같다\" 이기 때문에,  p -value 가 유의수준(0.01) 보다 작으면 귀무가설을 기각합니다. 결과를 보니 P-Value 가 유의수준(0.01) 보다 큽니다. 따라서 귀무가설을 기각할 수 없습니다. 즉, flag 가 0 인 집단과 1 인 집단간의 차가 유의미하지 않은 것으로 판단됩니다. 왜 각 집단에서 샘플을 200 개만 뽑아서 테스트를 하는 지 궁금한 독자도 있으실 것 같습니다. 통계 검정은 샘플의 수가 많아지면 p value 가 작게 나오는 경향이 있습니다. 그렇게 되면 유의미하게 차이가 없는데도, 서로 다르다고 통계 결과가 나오게됩니다. "
   ]
  },
  {
   "cell_type": "code",
   "execution_count": 41,
   "metadata": {},
   "outputs": [
    {
     "data": {
      "text/plain": [
       "Ttest_indResult(statistic=-0.8586946484324887, pvalue=0.3910313915956015)"
      ]
     },
     "execution_count": 41,
     "metadata": {},
     "output_type": "execute_result"
    }
   ],
   "source": [
    "from scipy import stats\n",
    "a = data_all_6[data_all_6['flag']==0]['max_close'].sample(200)\n",
    "b = data_all_6[data_all_6['flag']==1]['max_close'].sample(200)\n",
    "\n",
    "stats.ttest_ind(a, b, equal_var=False)"
   ]
  },
  {
   "cell_type": "markdown",
   "metadata": {},
   "source": [
    "<br> 위 가설은 비교적 증명하기가 쉬웠습니다. 이번에는 5일선과 20일 이동평균선이 만나는 골든크로스에서 매수를 하면 어떤지 보겠습니다. 골든 크로스에서 매수한다고 더 좋은 수익율을 보장하지 않는 것 같습니다."
   ]
  },
  {
   "cell_type": "code",
   "execution_count": 44,
   "metadata": {},
   "outputs": [],
   "source": [
    "kosdaq_list = pd.read_pickle('kosdaq_list.pkl')\n",
    "\n",
    "data_all_6 = pd.DataFrame()\n",
    "\n",
    "for code in kosdaq_list['code']:\n",
    "\n",
    "    data = mdl_data[mdl_data['code']==code].sort_index().copy()\n",
    "    data['5day_ma'] = data['close'].rolling(5).mean()\n",
    "    data['20day_ma'] = data['close'].rolling(20).mean()\n",
    "    data['g_cross'] = (data['5day_ma'].shift(1) < data['20day_ma'].shift(1))*(data['5day_ma'] > data['20day_ma']).astype(int) # 5일선이 20일 이동평균선보다 작았다가 커지는 시점\n",
    "       \n",
    "    data['max_close']  = data[['close_r1','close_r2','close_r3','close_r4','close_r5']].max(axis=1) # 5 영업일 종가 수익율 중 최고 값\n",
    "    data.dropna(subset=['5day_ma','g_cross','close_r1','close_r2','close_r3','close_r4','close_r5'], inplace=True) # missing 이 있는 행은 제거  \n",
    "    \n",
    "    data_all_6 = pd.concat([data, data_all_6], axis=0)\n",
    "\n",
    "data_all_6.to_pickle('data_all_6.pkl')  "
   ]
  },
  {
   "cell_type": "code",
   "execution_count": 46,
   "metadata": {},
   "outputs": [
    {
     "data": {
      "text/html": [
       "<div>\n",
       "<style scoped>\n",
       "    .dataframe tbody tr th:only-of-type {\n",
       "        vertical-align: middle;\n",
       "    }\n",
       "\n",
       "    .dataframe tbody tr th {\n",
       "        vertical-align: top;\n",
       "    }\n",
       "\n",
       "    .dataframe thead th {\n",
       "        text-align: right;\n",
       "    }\n",
       "</style>\n",
       "<table border=\"1\" class=\"dataframe\">\n",
       "  <thead>\n",
       "    <tr style=\"text-align: right;\">\n",
       "      <th></th>\n",
       "      <th>count</th>\n",
       "      <th>mean</th>\n",
       "      <th>std</th>\n",
       "      <th>min</th>\n",
       "      <th>25%</th>\n",
       "      <th>50%</th>\n",
       "      <th>75%</th>\n",
       "      <th>max</th>\n",
       "    </tr>\n",
       "    <tr>\n",
       "      <th>g_cross</th>\n",
       "      <th></th>\n",
       "      <th></th>\n",
       "      <th></th>\n",
       "      <th></th>\n",
       "      <th></th>\n",
       "      <th></th>\n",
       "      <th></th>\n",
       "      <th></th>\n",
       "    </tr>\n",
       "  </thead>\n",
       "  <tbody>\n",
       "    <tr>\n",
       "      <th>0</th>\n",
       "      <td>411,269.000</td>\n",
       "      <td>1.033</td>\n",
       "      <td>0.072</td>\n",
       "      <td>0.326</td>\n",
       "      <td>1.000</td>\n",
       "      <td>1.016</td>\n",
       "      <td>1.048</td>\n",
       "      <td>3.703</td>\n",
       "    </tr>\n",
       "    <tr>\n",
       "      <th>1</th>\n",
       "      <td>12,189.000</td>\n",
       "      <td>1.033</td>\n",
       "      <td>0.080</td>\n",
       "      <td>0.700</td>\n",
       "      <td>0.997</td>\n",
       "      <td>1.015</td>\n",
       "      <td>1.047</td>\n",
       "      <td>2.852</td>\n",
       "    </tr>\n",
       "  </tbody>\n",
       "</table>\n",
       "</div>"
      ],
      "text/plain": [
       "              count  mean   std   min   25%   50%   75%   max\n",
       "g_cross                                                      \n",
       "0       411,269.000 1.033 0.072 0.326 1.000 1.016 1.048 3.703\n",
       "1        12,189.000 1.033 0.080 0.700 0.997 1.015 1.047 2.852"
      ]
     },
     "execution_count": 46,
     "metadata": {},
     "output_type": "execute_result"
    }
   ],
   "source": [
    "data_all_6 = pd.read_pickle('data_all_6.pkl')\n",
    "data_all_6.groupby('g_cross')['max_close'].describe()"
   ]
  },
  {
   "cell_type": "code",
   "execution_count": null,
   "metadata": {},
   "outputs": [],
   "source": []
  },
  {
   "cell_type": "code",
   "execution_count": null,
   "metadata": {},
   "outputs": [],
   "source": []
  },
  {
   "cell_type": "code",
   "execution_count": null,
   "metadata": {},
   "outputs": [],
   "source": []
  },
  {
   "cell_type": "code",
   "execution_count": null,
   "metadata": {},
   "outputs": [],
   "source": []
  },
  {
   "cell_type": "code",
   "execution_count": null,
   "metadata": {},
   "outputs": [],
   "source": []
  },
  {
   "cell_type": "code",
   "execution_count": null,
   "metadata": {},
   "outputs": [],
   "source": []
  },
  {
   "cell_type": "code",
   "execution_count": 11,
   "metadata": {},
   "outputs": [
    {
     "name": "stdout",
     "output_type": "stream",
     "text": [
      "                count  mean\n",
      "ranks                      \n",
      "(0.799, 0.958]    105 0.419\n",
      "(0.958, 0.979]    104 0.452\n",
      "(0.979, 0.995]    104 0.481\n",
      "(0.995, 1.016]    104 0.452\n",
      "(1.016, 1.268]    104 0.500\n"
     ]
    },
    {
     "data": {
      "image/png": "[encoded data removed]",
      "text/plain": [
       "<Figure size 864x360 with 1 Axes>"
      ]
     },
     "metadata": {
      "needs_background": "light"
     },
     "output_type": "display_data"
    }
   ],
   "source": [
    "var = 'price_from_5ma'\n",
    "\n",
    "model_data['target'] = np.where(model_data['return']>1, 1, 0)\n",
    "model_data['ranks'] = pd.qcut(model_data[var], q = 5)\n",
    "print(model_data.groupby('ranks')['target'].agg(['count', 'mean']))\n",
    "model_data.groupby('ranks')['target'].mean().plot(kind='bar', figsize=(12,5), ylim=(0.3, 0.6))\n",
    "plt.title(var)\n",
    "plt.show()"
   ]
  },
  {
   "cell_type": "code",
   "execution_count": null,
   "metadata": {},
   "outputs": [],
   "source": []
  }
 ],
 "metadata": {
  "kernelspec": {
   "display_name": "Python 3 (ipykernel)",
   "language": "python",
   "name": "python3"
  },
  "language_info": {
   "codemirror_mode": {
    "name": "ipython",
    "version": 3
   },
   "file_extension": ".py",
   "mimetype": "text/x-python",
   "name": "python",
   "nbconvert_exporter": "python",
   "pygments_lexer": "ipython3",
   "version": "3.9.7"
  }
 },
 "nbformat": 4,
 "nbformat_minor": 4
}
