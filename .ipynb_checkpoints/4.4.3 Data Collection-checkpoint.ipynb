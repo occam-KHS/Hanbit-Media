{
 "cells": [
  {
   "cell_type": "code",
   "execution_count": 1,
   "metadata": {},
   "outputs": [],
   "source": [
    "import FinanceDataReader as fdr\n",
    "%matplotlib inline\n",
    "import matplotlib.pyplot as plt\n",
    "import pandas as pd\n",
    "import numpy as np\n",
    "pd.options.display.float_format = '{:,.3f}'.format"
   ]
  },
  {
   "cell_type": "markdown",
   "metadata": {},
   "source": [
    "### 종목별 일봉 데이터와 코스피 지수 데이터와 결합   \n",
    "앞에서 저장한 종목 리스트, 코스닥 종목별 주가 데이터와 지수 데이터를 읽습니다. 인덱스(날짜) 의 최소값과 최대값을 확인해 봅니다."
   ]
  },
  {
   "cell_type": "code",
   "execution_count": 2,
   "metadata": {},
   "outputs": [
    {
     "name": "stdout",
     "output_type": "stream",
     "text": [
      "2021-01-04 00:00:00 2022-03-31 00:00:00\n",
      "2021-01-04 00:00:00 2022-05-06 00:00:00\n"
     ]
    }
   ],
   "source": [
    "price_data = pd.read_pickle('stock_data_from_fdr.pkl')\n",
    "kosdaq_index = pd.read_pickle('kosdaq_index.pkl')\n",
    "kosdaq_list = pd.read_pickle('kosdaq_list.pkl')\n",
    "\n",
    "print(price_data.index.min(), price_data.index.max())\n",
    "print(kosdaq_index.index.min(), kosdaq_index.index.max())"
   ]
  },
  {
   "cell_type": "markdown",
   "metadata": {},
   "source": [
    "<br> 나중에 검정할 가설 중 하나가 \"주가가 상승할 확률이 높은 종목은 마켓이 안 좋을 때(즉 지표가 빠질 때) 수익율이 좋았다\" 입니다. 이 가설을 검증하기 위해 두 데이타셋을 병합합니다. 두 데이터를 종목별 날짜별로 병합을 해야 '종목 수익율'과 '코스닥 지수 수익율'을 비교할 수 있습니다.\n",
    "\n",
    "price_data 를 기준으로 kosdaq_index 데이터의 지수 수익율을 추가합니다. price_data 에 날짜를 Index 로 left merge 를 하면 주가지수 정보를 추가할 수 있습니다."
   ]
  },
  {
   "cell_type": "code",
   "execution_count": 67,
   "metadata": {},
   "outputs": [
    {
     "data": {
      "text/html": [
       "<div>\n",
       "<style scoped>\n",
       "    .dataframe tbody tr th:only-of-type {\n",
       "        vertical-align: middle;\n",
       "    }\n",
       "\n",
       "    .dataframe tbody tr th {\n",
       "        vertical-align: top;\n",
       "    }\n",
       "\n",
       "    .dataframe thead th {\n",
       "        text-align: right;\n",
       "    }\n",
       "</style>\n",
       "<table border=\"1\" class=\"dataframe\">\n",
       "  <thead>\n",
       "    <tr style=\"text-align: right;\">\n",
       "      <th></th>\n",
       "      <th>open</th>\n",
       "      <th>high</th>\n",
       "      <th>low</th>\n",
       "      <th>close</th>\n",
       "      <th>volume</th>\n",
       "      <th>change</th>\n",
       "      <th>code</th>\n",
       "      <th>name</th>\n",
       "      <th>kosdaq_return</th>\n",
       "    </tr>\n",
       "    <tr>\n",
       "      <th>date</th>\n",
       "      <th></th>\n",
       "      <th></th>\n",
       "      <th></th>\n",
       "      <th></th>\n",
       "      <th></th>\n",
       "      <th></th>\n",
       "      <th></th>\n",
       "      <th></th>\n",
       "      <th></th>\n",
       "    </tr>\n",
       "  </thead>\n",
       "  <tbody>\n",
       "    <tr>\n",
       "      <th>2021-01-04</th>\n",
       "      <td>2185</td>\n",
       "      <td>2320</td>\n",
       "      <td>2135</td>\n",
       "      <td>2260</td>\n",
       "      <td>588133</td>\n",
       "      <td>0.044</td>\n",
       "      <td>060310</td>\n",
       "      <td>3S</td>\n",
       "      <td>NaN</td>\n",
       "    </tr>\n",
       "    <tr>\n",
       "      <th>2021-01-04</th>\n",
       "      <td>8220</td>\n",
       "      <td>8270</td>\n",
       "      <td>7960</td>\n",
       "      <td>8000</td>\n",
       "      <td>300316</td>\n",
       "      <td>-0.026</td>\n",
       "      <td>054620</td>\n",
       "      <td>APS홀딩스</td>\n",
       "      <td>NaN</td>\n",
       "    </tr>\n",
       "    <tr>\n",
       "      <th>2021-01-04</th>\n",
       "      <td>25100</td>\n",
       "      <td>25600</td>\n",
       "      <td>24800</td>\n",
       "      <td>25500</td>\n",
       "      <td>415285</td>\n",
       "      <td>0.026</td>\n",
       "      <td>265520</td>\n",
       "      <td>AP시스템</td>\n",
       "      <td>NaN</td>\n",
       "    </tr>\n",
       "    <tr>\n",
       "      <th>2021-01-04</th>\n",
       "      <td>7960</td>\n",
       "      <td>8470</td>\n",
       "      <td>7790</td>\n",
       "      <td>8330</td>\n",
       "      <td>424730</td>\n",
       "      <td>0.052</td>\n",
       "      <td>211270</td>\n",
       "      <td>AP위성</td>\n",
       "      <td>NaN</td>\n",
       "    </tr>\n",
       "    <tr>\n",
       "      <th>2021-01-04</th>\n",
       "      <td>0</td>\n",
       "      <td>0</td>\n",
       "      <td>0</td>\n",
       "      <td>4075</td>\n",
       "      <td>0</td>\n",
       "      <td>0.000</td>\n",
       "      <td>032790</td>\n",
       "      <td>BNGT</td>\n",
       "      <td>NaN</td>\n",
       "    </tr>\n",
       "  </tbody>\n",
       "</table>\n",
       "</div>"
      ],
      "text/plain": [
       "             open   high    low  close  volume  change    code    name  \\\n",
       "date                                                                     \n",
       "2021-01-04   2185   2320   2135   2260  588133   0.044  060310      3S   \n",
       "2021-01-04   8220   8270   7960   8000  300316  -0.026  054620  APS홀딩스   \n",
       "2021-01-04  25100  25600  24800  25500  415285   0.026  265520   AP시스템   \n",
       "2021-01-04   7960   8470   7790   8330  424730   0.052  211270    AP위성   \n",
       "2021-01-04      0      0      0   4075       0   0.000  032790    BNGT   \n",
       "\n",
       "            kosdaq_return  \n",
       "date                       \n",
       "2021-01-04            NaN  \n",
       "2021-01-04            NaN  \n",
       "2021-01-04            NaN  \n",
       "2021-01-04            NaN  \n",
       "2021-01-04            NaN  "
      ]
     },
     "execution_count": 67,
     "metadata": {},
     "output_type": "execute_result"
    }
   ],
   "source": [
    "merged = price_data.merge(kosdaq_index['kosdaq_return'], left_index=True, right_index=True, how='left')\n",
    "merged.head()"
   ]
  },
  {
   "cell_type": "markdown",
   "metadata": {},
   "source": [
    "<br>가설 검정을 위해 미리 컬럼을 생성합니다. 코스닥 지수 수익율이 1 보다 적을 때, 종목의 수익율이 1 보다 크면 1, 아니면 0 을 생성합니다. 그 값을 win_market 이라는 새로운 컬럼에 저장합니다. np.where 를 사용했는데요. 이 메소드는 np.where(조건, 조건이 참일 때 값, 조건이 거짓일 때 값)와 같이 인수를 받습니다. "
   ]
  },
  {
   "cell_type": "code",
   "execution_count": 63,
   "metadata": {},
   "outputs": [],
   "source": [
    "return_all = pd.DataFrame()\n",
    "\n",
    "for code in kosdaq_list['code']:  \n",
    "    \n",
    "    stock_return = merged[merged['code']==code].sort_index()\n",
    "    stock_return['return'] = stock_return['close']/stock_return['close'].shift(1) # 종목별 전일 종가 대비 당일 종가 수익율\n",
    "    c1 = (stock_return['kosdaq_return'] < 1) # 수익율 1 보다 작음. 당일 종가가 전일 종가보다 낮음 (코스닥 지표)\n",
    "    c2 = (stock_return['return'] > 1) # 수익율 1 보다 큼. 당일 종가가 전일 종가보다 큼 (개별 종목)\n",
    "    stock_return['win_market'] = np.where((c1&c2), 1, 0) # C1 과 C2 조건을 동시에 만족하면 1, 아니면 0\n",
    "    return_all = pd.concat([return_all, stock_return], axis=0) \n",
    "    \n",
    "return_all.to_pickle('return_all.pkl')       "
   ]
  },
  {
   "cell_type": "markdown",
   "metadata": {},
   "source": [
    "<br> 값이 잘 들어갔는 지 head 메소드로 첫 번째 행 5 개를 출력해 봅니다."
   ]
  },
  {
   "cell_type": "code",
   "execution_count": 68,
   "metadata": {},
   "outputs": [
    {
     "data": {
      "text/html": [
       "<div>\n",
       "<style scoped>\n",
       "    .dataframe tbody tr th:only-of-type {\n",
       "        vertical-align: middle;\n",
       "    }\n",
       "\n",
       "    .dataframe tbody tr th {\n",
       "        vertical-align: top;\n",
       "    }\n",
       "\n",
       "    .dataframe thead th {\n",
       "        text-align: right;\n",
       "    }\n",
       "</style>\n",
       "<table border=\"1\" class=\"dataframe\">\n",
       "  <thead>\n",
       "    <tr style=\"text-align: right;\">\n",
       "      <th></th>\n",
       "      <th>open</th>\n",
       "      <th>high</th>\n",
       "      <th>low</th>\n",
       "      <th>close</th>\n",
       "      <th>volume</th>\n",
       "      <th>change</th>\n",
       "      <th>code</th>\n",
       "      <th>name</th>\n",
       "      <th>kosdaq_return</th>\n",
       "      <th>return</th>\n",
       "      <th>win_market</th>\n",
       "    </tr>\n",
       "    <tr>\n",
       "      <th>date</th>\n",
       "      <th></th>\n",
       "      <th></th>\n",
       "      <th></th>\n",
       "      <th></th>\n",
       "      <th></th>\n",
       "      <th></th>\n",
       "      <th></th>\n",
       "      <th></th>\n",
       "      <th></th>\n",
       "      <th></th>\n",
       "      <th></th>\n",
       "    </tr>\n",
       "  </thead>\n",
       "  <tbody>\n",
       "    <tr>\n",
       "      <th>2021-01-04</th>\n",
       "      <td>2185</td>\n",
       "      <td>2320</td>\n",
       "      <td>2135</td>\n",
       "      <td>2260</td>\n",
       "      <td>588133</td>\n",
       "      <td>0.044</td>\n",
       "      <td>060310</td>\n",
       "      <td>3S</td>\n",
       "      <td>NaN</td>\n",
       "      <td>NaN</td>\n",
       "      <td>0</td>\n",
       "    </tr>\n",
       "    <tr>\n",
       "      <th>2021-01-05</th>\n",
       "      <td>2270</td>\n",
       "      <td>2285</td>\n",
       "      <td>2200</td>\n",
       "      <td>2250</td>\n",
       "      <td>410263</td>\n",
       "      <td>-0.004</td>\n",
       "      <td>060310</td>\n",
       "      <td>3S</td>\n",
       "      <td>1.008</td>\n",
       "      <td>0.996</td>\n",
       "      <td>0</td>\n",
       "    </tr>\n",
       "    <tr>\n",
       "      <th>2021-01-06</th>\n",
       "      <td>2225</td>\n",
       "      <td>2310</td>\n",
       "      <td>2215</td>\n",
       "      <td>2290</td>\n",
       "      <td>570349</td>\n",
       "      <td>0.018</td>\n",
       "      <td>060310</td>\n",
       "      <td>3S</td>\n",
       "      <td>0.996</td>\n",
       "      <td>1.018</td>\n",
       "      <td>1</td>\n",
       "    </tr>\n",
       "    <tr>\n",
       "      <th>2021-01-07</th>\n",
       "      <td>2290</td>\n",
       "      <td>2340</td>\n",
       "      <td>2240</td>\n",
       "      <td>2290</td>\n",
       "      <td>519777</td>\n",
       "      <td>0.000</td>\n",
       "      <td>060310</td>\n",
       "      <td>3S</td>\n",
       "      <td>1.008</td>\n",
       "      <td>1.000</td>\n",
       "      <td>0</td>\n",
       "    </tr>\n",
       "    <tr>\n",
       "      <th>2021-01-08</th>\n",
       "      <td>2300</td>\n",
       "      <td>2315</td>\n",
       "      <td>2225</td>\n",
       "      <td>2245</td>\n",
       "      <td>462568</td>\n",
       "      <td>-0.020</td>\n",
       "      <td>060310</td>\n",
       "      <td>3S</td>\n",
       "      <td>0.999</td>\n",
       "      <td>0.980</td>\n",
       "      <td>0</td>\n",
       "    </tr>\n",
       "  </tbody>\n",
       "</table>\n",
       "</div>"
      ],
      "text/plain": [
       "            open  high   low  close  volume  change    code name  \\\n",
       "date                                                               \n",
       "2021-01-04  2185  2320  2135   2260  588133   0.044  060310   3S   \n",
       "2021-01-05  2270  2285  2200   2250  410263  -0.004  060310   3S   \n",
       "2021-01-06  2225  2310  2215   2290  570349   0.018  060310   3S   \n",
       "2021-01-07  2290  2340  2240   2290  519777   0.000  060310   3S   \n",
       "2021-01-08  2300  2315  2225   2245  462568  -0.020  060310   3S   \n",
       "\n",
       "            kosdaq_return  return  win_market  \n",
       "date                                           \n",
       "2021-01-04            NaN     NaN           0  \n",
       "2021-01-05          1.008   0.996           0  \n",
       "2021-01-06          0.996   1.018           1  \n",
       "2021-01-07          1.008   1.000           0  \n",
       "2021-01-08          0.999   0.980           0  "
      ]
     },
     "execution_count": 68,
     "metadata": {},
     "output_type": "execute_result"
    }
   ],
   "source": [
    "return_all = pd.read_pickle('return_all.pkl')  \n",
    "return_all.head()"
   ]
  },
  {
   "cell_type": "markdown",
   "metadata": {},
   "source": [
    "가설 검정 시 자세히 다루겠지만, win_market 의 비율과 종목별 수익율과의 관계를 간단하게 조사하겠습니다. 이번에 scatter plot 를 함 그려보겠습니다. Scatter plot 에는 x 축의 값과 y 축의 값을 인수로 넣어주면 됩니다. 그래프를 보니 두 값 사이에 상관성이 높아 보입니다. "
   ]
  },
  {
   "cell_type": "code",
   "execution_count": 69,
   "metadata": {},
   "outputs": [
    {
     "data": {
      "text/plain": [
       "Text(0, 0.5, 'Avg. Return')"
      ]
     },
     "execution_count": 69,
     "metadata": {},
     "output_type": "execute_result"
    },
    {
     "data": {
      "image/png": "[encoded data removed]",
      "text/plain": [
       "<Figure size 720x432 with 1 Axes>"
      ]
     },
     "metadata": {
      "needs_background": "light"
     },
     "output_type": "display_data"
    }
   ],
   "source": [
    "plt.figure(figsize=(10,6))\n",
    "x = return_all.groupby('code')['win_market'].mean() # 종목별 win_market의 비율\n",
    "y = return_all.groupby('code')['return'].mean() # 종목별 평균 수익율 \n",
    "plt.scatter(x = x , y= y, s=1, color='red')\n",
    "plt.xlabel('% of Win Market')\n",
    "plt.ylabel('Avg. Return')"
   ]
  },
  {
   "cell_type": "code",
   "execution_count": null,
   "metadata": {},
   "outputs": [],
   "source": []
  }
 ],
 "metadata": {
  "kernelspec": {
   "display_name": "Python 3 (ipykernel)",
   "language": "python",
   "name": "python3"
  },
  "language_info": {
   "codemirror_mode": {
    "name": "ipython",
    "version": 3
   },
   "file_extension": ".py",
   "mimetype": "text/x-python",
   "name": "python",
   "nbconvert_exporter": "python",
   "pygments_lexer": "ipython3",
   "version": "3.9.7"
  }
 },
 "nbformat": 4,
 "nbformat_minor": 4
}
