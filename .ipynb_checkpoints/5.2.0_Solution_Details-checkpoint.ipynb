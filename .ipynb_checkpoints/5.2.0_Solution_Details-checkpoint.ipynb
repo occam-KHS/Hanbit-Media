{
 "cells": [
  {
   "cell_type": "markdown",
   "id": "fe9eeb2c-152f-4ee9-bddf-d720a16519f2",
   "metadata": {},
   "source": [
    "### **해결책 개발** "
   ]
  },
  {
   "cell_type": "markdown",
   "id": "631564ef-ad65-4e11-bdec-fe76c85c6489",
   "metadata": {},
   "source": [
    "\n",
    "가설 검증을 통하여 각 가설이 유의미한지 알아보았습니다. 가설 검정과정에서 얻은 지식을 이용하여  종목을 찾고, 매매 수익을 실현하고 싶습니다. 하지만 유미의한 가설들을 동시에 활용하여 종목을 뽑아내기는 쉬운 일이 아닙니다.  단지 2 개의 가설을 동시에 고려하는 것도 어렵습니다.  이것을 가능하게 해 주는 것이 예측 모델인데요. 가설들이 입력변수가 되는 예측 모델을 만들어 보겠습니다.\n",
    "\n",
    "매수 후 5 영업일 이내 주가 상승 여부를 알 수 있는 예측력이 좋은 모델이 개발되면, 매일 모델을 실행시켜 종목 추천을 모델로 부터 받을 것입니다. 정규장이 3시 30에 종료되므로 3시 30분에 모델을 돌리고 종목 추천을 받겠습니다. 그리고 익일 정해진 지정가에 매수를 하겠습니다. 매수와 매도는 자동매매로 구현해볼 계획입니다.\n"
   ]
  },
  {
   "cell_type": "code",
   "execution_count": null,
   "id": "5d481767-c84b-4e45-b47f-2cb849164897",
   "metadata": {},
   "outputs": [],
   "source": []
  }
 ],
 "metadata": {
  "kernelspec": {
   "display_name": "Python 3 (ipykernel)",
   "language": "python",
   "name": "python3"
  },
  "language_info": {
   "codemirror_mode": {
    "name": "ipython",
    "version": 3
   },
   "file_extension": ".py",
   "mimetype": "text/x-python",
   "name": "python",
   "nbconvert_exporter": "python",
   "pygments_lexer": "ipython3",
   "version": "3.9.7"
  }
 },
 "nbformat": 4,
 "nbformat_minor": 5
}
