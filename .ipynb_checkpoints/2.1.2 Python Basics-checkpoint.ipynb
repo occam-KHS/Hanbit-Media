{
 "cells": [
  {
   "cell_type": "markdown",
   "id": "8afd0779-c6e6-4cd0-8e78-a9ea007c79e3",
   "metadata": {},
   "source": [
    "### Index\n",
    "데이터 처리에 중요한 역활을 하는 Index 에 대하여 알아보겠습니다. Index 는 우리말로 색인이라고 할 수 있을 것 같은데요. 색인은 무엇을 빨리 찾기 위해 순서대로 정리되어 있는 목록입니다. Index 는 색인처럼 어떤 값을 빨리 찾을 때도 필요하지만, 두 데이터를 어떤 값을 기준으로 결합하는데도 유용하게 쓰입니다. Index 는 Series 와 DataFrame 에 주로 활용됩니다. ss2 는 바로 이전 장에서 만든 Series 입니다. 출력을 해 보면 맨 왼쪽에 0 ~ 4 까지 값이 보이는데요. 이게 Index 입니다. 특별하게 지정하지 않으면 숫자 0 부터서 순서대로 들어가게 됩니다. 다음은 알파벳 Index 를 넣어서 ss3 를 생성하고 출력 해보겠습니다. 맨 왼쪽 index 값이 숫자가 아니라 알파벳으로 바뀌었습니다. "
   ]
  },
  {
   "cell_type": "code",
   "execution_count": 2,
   "id": "2bddedf3-e760-4d85-a70d-dad7a3d95db9",
   "metadata": {},
   "outputs": [
    {
     "name": "stdout",
     "output_type": "stream",
     "text": [
      "0    11\n",
      "1    12\n",
      "2    13\n",
      "3    14\n",
      "4    15\n",
      "dtype: int64\n",
      "a    11\n",
      "b    12\n",
      "c    13\n",
      "d    14\n",
      "e    15\n",
      "dtype: int64\n"
     ]
    }
   ],
   "source": [
    "import pandas as pd\n",
    "\n",
    "ss1 = [11,12,13,14,15]\n",
    "ss2 = pd.Series(ss1)\n",
    "print(ss2)\n",
    "\n",
    "ss3 = pd.Series(ss1, index=['a', 'b', 'c', 'd', 'e'])\n",
    "print(ss3)"
   ]
  },
  {
   "cell_type": "markdown",
   "id": "e655e946-7173-4f34-bc97-acaa34aea643",
   "metadata": {},
   "source": [
    "### Index 활용\n",
    "Index 의 본연의 기능은 찾기입니다. ss3.loc[인덱스값] 를 이용하여 원하는 값을 찾을 수 있습니다. 인덱스 'c' 에 해당하는 값은 13입니다. ss3.loc['c'] 를 하면 13이 출력됩니다. 만약, 인덱스 'a' 와 'c' 를 다 찾고 싶으면 ['a', 'c'] 와 같이 List 로 넣어주면 됩니다. loc 를 하지 않아도 같은 결과를 얻으시겠지만, loc 를 넣으면 'a','c' 를 column 이 아니라 index 에서 찾는다는 것을 명확하게 해 줍니다."
   ]
  },
  {
   "cell_type": "code",
   "execution_count": 4,
   "id": "97e2f9e8-9a87-4574-baf9-284955853e93",
   "metadata": {},
   "outputs": [
    {
     "name": "stdout",
     "output_type": "stream",
     "text": [
      "13 13\n",
      "a    11\n",
      "c    13\n",
      "dtype: int64\n"
     ]
    }
   ],
   "source": [
    "print(ss3.loc['c'], ss3['c'])\n",
    "print(ss3.loc[['a','c']])\n"
   ]
  },
  {
   "cell_type": "markdown",
   "id": "28eeae6c-3f09-41f7-a016-ec2398d39e0d",
   "metadata": {},
   "source": [
    "<br> DataFrame 에서도 동일하게 활용가능합니다. 먼저 df1 이라는 DataFrame 을 생성하고 출력합니다. Default Index 인 숫자 0 ~ 4 로 되어 있음을 확인할 수 있습니다. 이제 원하는 인덱스 s1 ~ s5 를 할당하고 df2 에 저장합니다. 출력 결과를 보니 df2 의 인덱스가 바뀌었습니다. \n",
    "    \n",
    "이번에는 원하는 값을 찾아보겠습니다. df2 의 index 가 's3' 인 c1 컬럼값을 알고 싶다면 df2.loc['s3']['c1'] 이라고 하면 됩니다. 만약, c1 과 c2 둘다 출력하고 싶으면  df2.loc['s3'][['c1','c2']] 형태로 리스트로 입력합니다. 실수로 df2.loc['s3']['c1','c2'] 로 입력을 하면 Pandas 패키지는 'c1,'c2' 가 하나의 column 이름이라고 착각하게 되어 에러가 발생합니다. "
   ]
  },
  {
   "cell_type": "code",
   "execution_count": 24,
   "id": "2a47d86c-3307-40c0-86f7-2787ad8b1c37",
   "metadata": {},
   "outputs": [
    {
     "name": "stdout",
     "output_type": "stream",
     "text": [
      "   c1 c2\n",
      "0  11  a\n",
      "1  12  b\n",
      "2  13  c\n",
      "3  14  d\n",
      "4  15  e\n",
      "\n",
      "\n",
      "    c1 c2\n",
      "s1  11  a\n",
      "s2  12  b\n",
      "s3  13  c\n",
      "s4  14  d\n",
      "s4  15  e\n",
      "\n",
      "\n",
      "13\n",
      "c1    13\n",
      "c2     c\n",
      "Name: s3, dtype: object\n"
     ]
    }
   ],
   "source": [
    "# DataFrame 생성\n",
    "c1_list = [11,12,13,14,15]\n",
    "c2_list = ['a','b','c','d','e']\n",
    "df1 = pd.DataFrame({'c1': c1_list, 'c2': c2_list})\n",
    "print(df1)\n",
    "\n",
    "print('\\n')\n",
    "df2 = pd.DataFrame({'c1': c1_list, 'c2': c2_list}, index=['s1','s2','s3','s4','s4'])\n",
    "print(df2)\n",
    "\n",
    "print('\\n')\n",
    "print(df2.loc['s3']['c1']) # 13 출력\n",
    "print(df2.loc['s3'][['c1','c2']]) # 13 과 c 출력"
   ]
  },
  {
   "cell_type": "markdown",
   "id": "54436dad-5343-40bf-aec8-d12b66b51638",
   "metadata": {},
   "source": [
    "### Index 생성 및 추출\n",
    "set_index(column) 메소드로 기존의 column 을 index 로 만들 수 있습니다. set_index('c2') 처리 후, df2 를 출력하시면 df1 의 'c2' 컬럼이 index 로 되어 있음을 확인할 수 있습니다. \n",
    "이제 df2 의 index 값을 변경해 보겠습니다. 아래와 같이 DataFrame 의 Index를 호출하여 원하는 Index 로 교체도 가능합니다. 참고로 아래 df2 는 column 하나지만 현재 Series 가 아닌 DataFrame 입니다. \n"
   ]
  },
  {
   "cell_type": "code",
   "execution_count": 18,
   "id": "de3e0a36-96c1-419a-857a-33941cacab40",
   "metadata": {},
   "outputs": [
    {
     "name": "stdout",
     "output_type": "stream",
     "text": [
      "   c1 c2\n",
      "0  11  a\n",
      "1  12  b\n",
      "2  13  c\n",
      "3  14  d\n",
      "4  15  e\n",
      "    c1\n",
      "c2    \n",
      "a   11\n",
      "b   12\n",
      "c   13\n",
      "d   14\n",
      "e   15\n",
      "\n",
      "\n",
      "     c1\n",
      "ss1  11\n",
      "ss2  12\n",
      "ss3  13\n",
      "ss4  14\n",
      "ss5  15 <class 'pandas.core.frame.DataFrame'>\n"
     ]
    }
   ],
   "source": [
    "c1_list = [11,12,13,14,15]\n",
    "c2_list = ['a','b','c','d','e']\n",
    "df1 = pd.DataFrame({'c1': c1_list, 'c2': c2_list})\n",
    "print(df1)        \n",
    "\n",
    "df2 = df1.set_index('c2') # c1 를 index 로 변경\n",
    "print(df2)\n",
    "\n",
    "print('\\n')\n",
    "df2.index = ['ss1', 'ss2', 'ss3', 'ss4', 'ss5']\n",
    "print(df2, type(df2))"
   ]
  },
  {
   "cell_type": "markdown",
   "id": "9b7d0de0-e342-4e5d-9379-79d16363caee",
   "metadata": {},
   "source": [
    "<br> 항상 두 데이터셋을 index 로 병합할 때는 index 에 중복이 있는지 확인을 할 필요가 있습니다. index 가 중복 여부를 체크하는 인수는 verify_integriry 입니다. 아래는 중복이 있는 경우 에러를 발생시킵니다."
   ]
  },
  {
   "cell_type": "code",
   "execution_count": 24,
   "id": "1fdd0a81-676a-491a-b489-532b6d8259e5",
   "metadata": {},
   "outputs": [
    {
     "ename": "ValueError",
     "evalue": "Index has duplicate keys: Index(['a'], dtype='object', name='c2')",
     "output_type": "error",
     "traceback": [
      "\u001b[1;31m---------------------------------------------------------------------------\u001b[0m",
      "\u001b[1;31mValueError\u001b[0m                                Traceback (most recent call last)",
      "\u001b[1;32m~\\AppData\\Local\\Temp\\ipykernel_38068\\2078573242.py\u001b[0m in \u001b[0;36m<module>\u001b[1;34m\u001b[0m\n\u001b[0;32m      2\u001b[0m \u001b[0mc2_list\u001b[0m \u001b[1;33m=\u001b[0m \u001b[1;33m[\u001b[0m\u001b[1;34m'a'\u001b[0m\u001b[1;33m,\u001b[0m\u001b[1;34m'a'\u001b[0m\u001b[1;33m,\u001b[0m\u001b[1;34m'b'\u001b[0m\u001b[1;33m,\u001b[0m\u001b[1;34m'c'\u001b[0m\u001b[1;33m,\u001b[0m\u001b[1;34m'd'\u001b[0m\u001b[1;33m]\u001b[0m \u001b[1;31m# 값에 중복이 있음\u001b[0m\u001b[1;33m\u001b[0m\u001b[1;33m\u001b[0m\u001b[0m\n\u001b[0;32m      3\u001b[0m \u001b[0mdf\u001b[0m \u001b[1;33m=\u001b[0m \u001b[0mpd\u001b[0m\u001b[1;33m.\u001b[0m\u001b[0mDataFrame\u001b[0m\u001b[1;33m(\u001b[0m\u001b[1;33m{\u001b[0m\u001b[1;34m'c1'\u001b[0m\u001b[1;33m:\u001b[0m \u001b[0mc1_list\u001b[0m\u001b[1;33m,\u001b[0m \u001b[1;34m'c2'\u001b[0m\u001b[1;33m:\u001b[0m \u001b[0mc2_list\u001b[0m\u001b[1;33m}\u001b[0m\u001b[1;33m)\u001b[0m\u001b[1;33m\u001b[0m\u001b[1;33m\u001b[0m\u001b[0m\n\u001b[1;32m----> 4\u001b[1;33m \u001b[0mdf\u001b[0m\u001b[1;33m.\u001b[0m\u001b[0mset_index\u001b[0m\u001b[1;33m(\u001b[0m\u001b[1;34m'c2'\u001b[0m\u001b[1;33m,\u001b[0m \u001b[0mverify_integrity\u001b[0m\u001b[1;33m=\u001b[0m\u001b[1;32mTrue\u001b[0m\u001b[1;33m)\u001b[0m \u001b[1;31m# index 중복여부를 체크\u001b[0m\u001b[1;33m\u001b[0m\u001b[1;33m\u001b[0m\u001b[0m\n\u001b[0m",
      "\u001b[1;32m~\\Anaconda3\\lib\\site-packages\\pandas\\util\\_decorators.py\u001b[0m in \u001b[0;36mwrapper\u001b[1;34m(*args, **kwargs)\u001b[0m\n\u001b[0;32m    309\u001b[0m                     \u001b[0mstacklevel\u001b[0m\u001b[1;33m=\u001b[0m\u001b[0mstacklevel\u001b[0m\u001b[1;33m,\u001b[0m\u001b[1;33m\u001b[0m\u001b[1;33m\u001b[0m\u001b[0m\n\u001b[0;32m    310\u001b[0m                 )\n\u001b[1;32m--> 311\u001b[1;33m             \u001b[1;32mreturn\u001b[0m \u001b[0mfunc\u001b[0m\u001b[1;33m(\u001b[0m\u001b[1;33m*\u001b[0m\u001b[0margs\u001b[0m\u001b[1;33m,\u001b[0m \u001b[1;33m**\u001b[0m\u001b[0mkwargs\u001b[0m\u001b[1;33m)\u001b[0m\u001b[1;33m\u001b[0m\u001b[1;33m\u001b[0m\u001b[0m\n\u001b[0m\u001b[0;32m    312\u001b[0m \u001b[1;33m\u001b[0m\u001b[0m\n\u001b[0;32m    313\u001b[0m         \u001b[1;32mreturn\u001b[0m \u001b[0mwrapper\u001b[0m\u001b[1;33m\u001b[0m\u001b[1;33m\u001b[0m\u001b[0m\n",
      "\u001b[1;32m~\\Anaconda3\\lib\\site-packages\\pandas\\core\\frame.py\u001b[0m in \u001b[0;36mset_index\u001b[1;34m(self, keys, drop, append, inplace, verify_integrity)\u001b[0m\n\u001b[0;32m   5508\u001b[0m         \u001b[1;32mif\u001b[0m \u001b[0mverify_integrity\u001b[0m \u001b[1;32mand\u001b[0m \u001b[1;32mnot\u001b[0m \u001b[0mindex\u001b[0m\u001b[1;33m.\u001b[0m\u001b[0mis_unique\u001b[0m\u001b[1;33m:\u001b[0m\u001b[1;33m\u001b[0m\u001b[1;33m\u001b[0m\u001b[0m\n\u001b[0;32m   5509\u001b[0m             \u001b[0mduplicates\u001b[0m \u001b[1;33m=\u001b[0m \u001b[0mindex\u001b[0m\u001b[1;33m[\u001b[0m\u001b[0mindex\u001b[0m\u001b[1;33m.\u001b[0m\u001b[0mduplicated\u001b[0m\u001b[1;33m(\u001b[0m\u001b[1;33m)\u001b[0m\u001b[1;33m]\u001b[0m\u001b[1;33m.\u001b[0m\u001b[0munique\u001b[0m\u001b[1;33m(\u001b[0m\u001b[1;33m)\u001b[0m\u001b[1;33m\u001b[0m\u001b[1;33m\u001b[0m\u001b[0m\n\u001b[1;32m-> 5510\u001b[1;33m             \u001b[1;32mraise\u001b[0m \u001b[0mValueError\u001b[0m\u001b[1;33m(\u001b[0m\u001b[1;34mf\"Index has duplicate keys: {duplicates}\"\u001b[0m\u001b[1;33m)\u001b[0m\u001b[1;33m\u001b[0m\u001b[1;33m\u001b[0m\u001b[0m\n\u001b[0m\u001b[0;32m   5511\u001b[0m \u001b[1;33m\u001b[0m\u001b[0m\n\u001b[0;32m   5512\u001b[0m         \u001b[1;31m# use set to handle duplicate column names gracefully in case of drop\u001b[0m\u001b[1;33m\u001b[0m\u001b[1;33m\u001b[0m\u001b[0m\n",
      "\u001b[1;31mValueError\u001b[0m: Index has duplicate keys: Index(['a'], dtype='object', name='c2')"
     ]
    }
   ],
   "source": [
    "c1_list = [11,12,13,14,15]\n",
    "c2_list = ['a','a','b','c','d'] # 값에 중복이 있음\n",
    "df = pd.DataFrame({'c1': c1_list, 'c2': c2_list})\n",
    "df.set_index('c2', verify_integrity=True) # index 중복여부를 체크"
   ]
  },
  {
   "cell_type": "code",
   "execution_count": null,
   "id": "2f988a42-2d7d-47f1-a703-e3b920cc348e",
   "metadata": {},
   "outputs": [],
   "source": []
  }
 ],
 "metadata": {
  "kernelspec": {
   "display_name": "Python 3 (ipykernel)",
   "language": "python",
   "name": "python3"
  },
  "language_info": {
   "codemirror_mode": {
    "name": "ipython",
    "version": 3
   },
   "file_extension": ".py",
   "mimetype": "text/x-python",
   "name": "python",
   "nbconvert_exporter": "python",
   "pygments_lexer": "ipython3",
   "version": "3.9.7"
  }
 },
 "nbformat": 4,
 "nbformat_minor": 5
}
