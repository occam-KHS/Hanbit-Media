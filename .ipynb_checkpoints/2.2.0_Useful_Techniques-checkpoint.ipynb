{
 "cells": [
  {
   "cell_type": "markdown",
   "id": "7130e3ad-58cf-4931-a666-baed70865d99",
   "metadata": {},
   "source": [
    "### **유용한 기능들**\n",
    "\n",
    "이번 장에서는 유용한 데이터 핸들링 방법들을 배우겠습니다. 데이터 분석을 통해서 원하는 결과를 얻기 위해서는, 우선 분석이 가능한 형태의 데이터로 가공을 해야합니다. "
   ]
  },
  {
   "cell_type": "code",
   "execution_count": null,
   "id": "66734e29-a539-4abb-a8b0-c4681fc47bd0",
   "metadata": {},
   "outputs": [],
   "source": []
  }
 ],
 "metadata": {
  "kernelspec": {
   "display_name": "Python 3 (ipykernel)",
   "language": "python",
   "name": "python3"
  },
  "language_info": {
   "codemirror_mode": {
    "name": "ipython",
    "version": 3
   },
   "file_extension": ".py",
   "mimetype": "text/x-python",
   "name": "python",
   "nbconvert_exporter": "python",
   "pygments_lexer": "ipython3",
   "version": "3.9.7"
  }
 },
 "nbformat": 4,
 "nbformat_minor": 5
}
