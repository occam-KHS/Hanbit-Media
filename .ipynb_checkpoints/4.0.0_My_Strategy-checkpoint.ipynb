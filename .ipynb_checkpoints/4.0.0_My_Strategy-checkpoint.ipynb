{
 "cells": [
  {
   "cell_type": "markdown",
   "id": "d092d3d5-e2b2-4dce-82c9-204a13b05c62",
   "metadata": {
    "tags": []
   },
   "source": [
    "### **데이터분석으로 나만의 전략 만들기**           \n",
    "\n",
    "<br>\n",
    "주식데이터로 데이터분석를 하는 과정을 보험회사 사례를 활용하여 풀어보겠습니다. 먼저 문제점은 명확합니다. 주식으로 수익을 내고 싶다는 것입니다. 주식 투자 기간에 따라 장기투자와 단기투자로 나눌 수 있습니다. 데이터 분석을 배우기 위해서는 통계적인 접근이 필요합니다. 즉, 많은 데이터와 테스트 결과가 필요합니다. 따라서 단기 투자로만으로 분석을 한정하겠습니다. 장기투자의 경우는 가치투자에 더 가까운데 결과을 얻는데 시간이 많이 필요하므로 단시간에 많은 결과 데이터를 확보하기가 어렵습니다. 데이터분석의 가치를 통계적으로 보여주기는 단기 투자가 사례로 더 적절합니다. \n",
    "\n",
    "보험회사 사례의 과정을 따라 데이터 분석을 해 보겠습니다.\n",
    "\n",
    ">1. 문제점 파악\n",
    ">2. 정보 수집 및 전문가 인터뷰\n",
    ">3. 가설 설정\n",
    ">4. 가설 검증을 위한 데이터 수집 및 분석\n",
    ">5. 검정과정에서 발견된 결과을 이용하여 해결책 개발\n",
    ">6. 해결책 테스트 및 해결책의 효과 측정"
   ]
  },
  {
   "cell_type": "code",
   "execution_count": null,
   "id": "7c616137-1230-488c-9632-cc18904aeb42",
   "metadata": {},
   "outputs": [],
   "source": []
  }
 ],
 "metadata": {
  "kernelspec": {
   "display_name": "Python 3 (ipykernel)",
   "language": "python",
   "name": "python3"
  },
  "language_info": {
   "codemirror_mode": {
    "name": "ipython",
    "version": 3
   },
   "file_extension": ".py",
   "mimetype": "text/x-python",
   "name": "python",
   "nbconvert_exporter": "python",
   "pygments_lexer": "ipython3",
   "version": "3.9.7"
  }
 },
 "nbformat": 4,
 "nbformat_minor": 5
}
