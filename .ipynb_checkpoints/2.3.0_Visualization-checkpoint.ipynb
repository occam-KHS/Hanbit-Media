{
 "cells": [
  {
   "cell_type": "markdown",
   "id": "7130e3ad-58cf-4931-a666-baed70865d99",
   "metadata": {},
   "source": [
    "### **시각화**\n",
    "\n",
    "이번 장에서는 데이터를 시각화하는 방법등을 배워보겠습니다."
   ]
  },
  {
   "cell_type": "code",
   "execution_count": null,
   "id": "66734e29-a539-4abb-a8b0-c4681fc47bd0",
   "metadata": {},
   "outputs": [],
   "source": []
  }
 ],
 "metadata": {
  "kernelspec": {
   "display_name": "Python 3 (ipykernel)",
   "language": "python",
   "name": "python3"
  },
  "language_info": {
   "codemirror_mode": {
    "name": "ipython",
    "version": 3
   },
   "file_extension": ".py",
   "mimetype": "text/x-python",
   "name": "python",
   "nbconvert_exporter": "python",
   "pygments_lexer": "ipython3",
   "version": "3.9.7"
  }
 },
 "nbformat": 4,
 "nbformat_minor": 5
}
