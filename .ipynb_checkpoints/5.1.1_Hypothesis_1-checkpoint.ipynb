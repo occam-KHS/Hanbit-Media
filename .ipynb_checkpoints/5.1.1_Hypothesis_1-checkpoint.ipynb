{
 "cells": [
  {
   "cell_type": "code",
   "execution_count": 1,
   "metadata": {},
   "outputs": [],
   "source": [
    "import FinanceDataReader as fdr\n",
    "%matplotlib inline\n",
    "import matplotlib.pyplot as plt\n",
    "import pandas as pd\n",
    "import numpy as np\n",
    "pd.options.display.float_format = '{:,.3f}'.format"
   ]
  },
  {
   "cell_type": "markdown",
   "metadata": {},
   "source": [
    "### **가격 변동성이 크고 거래량이 몰린 종목이 주가가 상승한다.**   \n",
    "\"가격 변동성이 크고 거래량이 몰린 종목이 주가가 상승한다\" 라는 가설을 증명하기 위해서는 \"가격 변동성이 크다\", \"거래량이 몰린다\" 등을 표현하는 변수가 필요합니다. 먼저 일봉데이터를 불러옵니다."
   ]
  },
  {
   "cell_type": "code",
   "execution_count": 2,
   "metadata": {},
   "outputs": [
    {
     "data": {
      "text/html": [
       "<style type=\"text/css\">\n",
       "</style>\n",
       "<table id=\"T_194a2_\" style=\"font-size: 10px\">\n",
       "  <thead>\n",
       "    <tr>\n",
       "      <th class=\"blank level0\" >&nbsp;</th>\n",
       "      <th class=\"col_heading level0 col0\" >open</th>\n",
       "      <th class=\"col_heading level0 col1\" >high</th>\n",
       "      <th class=\"col_heading level0 col2\" >low</th>\n",
       "      <th class=\"col_heading level0 col3\" >close</th>\n",
       "      <th class=\"col_heading level0 col4\" >volume</th>\n",
       "      <th class=\"col_heading level0 col5\" >change</th>\n",
       "      <th class=\"col_heading level0 col6\" >code</th>\n",
       "      <th class=\"col_heading level0 col7\" >name</th>\n",
       "      <th class=\"col_heading level0 col8\" >kosdaq_return</th>\n",
       "      <th class=\"col_heading level0 col9\" >return</th>\n",
       "      <th class=\"col_heading level0 col10\" >win_market</th>\n",
       "      <th class=\"col_heading level0 col11\" >close_r1</th>\n",
       "      <th class=\"col_heading level0 col12\" >close_r2</th>\n",
       "      <th class=\"col_heading level0 col13\" >close_r3</th>\n",
       "      <th class=\"col_heading level0 col14\" >close_r4</th>\n",
       "      <th class=\"col_heading level0 col15\" >close_r5</th>\n",
       "      <th class=\"col_heading level0 col16\" >max_close</th>\n",
       "    </tr>\n",
       "  </thead>\n",
       "  <tbody>\n",
       "    <tr>\n",
       "      <th id=\"T_194a2_level0_row0\" class=\"row_heading level0 row0\" >2021-01-05</th>\n",
       "      <td id=\"T_194a2_row0_col0\" class=\"data row0 col0\" >2270</td>\n",
       "      <td id=\"T_194a2_row0_col1\" class=\"data row0 col1\" >2285</td>\n",
       "      <td id=\"T_194a2_row0_col2\" class=\"data row0 col2\" >2200</td>\n",
       "      <td id=\"T_194a2_row0_col3\" class=\"data row0 col3\" >2250</td>\n",
       "      <td id=\"T_194a2_row0_col4\" class=\"data row0 col4\" >410263</td>\n",
       "      <td id=\"T_194a2_row0_col5\" class=\"data row0 col5\" >-0.004425</td>\n",
       "      <td id=\"T_194a2_row0_col6\" class=\"data row0 col6\" >060310</td>\n",
       "      <td id=\"T_194a2_row0_col7\" class=\"data row0 col7\" >3S</td>\n",
       "      <td id=\"T_194a2_row0_col8\" class=\"data row0 col8\" >1.008326</td>\n",
       "      <td id=\"T_194a2_row0_col9\" class=\"data row0 col9\" >0.995575</td>\n",
       "      <td id=\"T_194a2_row0_col10\" class=\"data row0 col10\" >0</td>\n",
       "      <td id=\"T_194a2_row0_col11\" class=\"data row0 col11\" >1.017778</td>\n",
       "      <td id=\"T_194a2_row0_col12\" class=\"data row0 col12\" >1.017778</td>\n",
       "      <td id=\"T_194a2_row0_col13\" class=\"data row0 col13\" >0.997778</td>\n",
       "      <td id=\"T_194a2_row0_col14\" class=\"data row0 col14\" >0.966667</td>\n",
       "      <td id=\"T_194a2_row0_col15\" class=\"data row0 col15\" >0.971111</td>\n",
       "      <td id=\"T_194a2_row0_col16\" class=\"data row0 col16\" >1.017778</td>\n",
       "    </tr>\n",
       "    <tr>\n",
       "      <th id=\"T_194a2_level0_row1\" class=\"row_heading level0 row1\" >2021-01-06</th>\n",
       "      <td id=\"T_194a2_row1_col0\" class=\"data row1 col0\" >2225</td>\n",
       "      <td id=\"T_194a2_row1_col1\" class=\"data row1 col1\" >2310</td>\n",
       "      <td id=\"T_194a2_row1_col2\" class=\"data row1 col2\" >2215</td>\n",
       "      <td id=\"T_194a2_row1_col3\" class=\"data row1 col3\" >2290</td>\n",
       "      <td id=\"T_194a2_row1_col4\" class=\"data row1 col4\" >570349</td>\n",
       "      <td id=\"T_194a2_row1_col5\" class=\"data row1 col5\" >0.017778</td>\n",
       "      <td id=\"T_194a2_row1_col6\" class=\"data row1 col6\" >060310</td>\n",
       "      <td id=\"T_194a2_row1_col7\" class=\"data row1 col7\" >3S</td>\n",
       "      <td id=\"T_194a2_row1_col8\" class=\"data row1 col8\" >0.995567</td>\n",
       "      <td id=\"T_194a2_row1_col9\" class=\"data row1 col9\" >1.017778</td>\n",
       "      <td id=\"T_194a2_row1_col10\" class=\"data row1 col10\" >1</td>\n",
       "      <td id=\"T_194a2_row1_col11\" class=\"data row1 col11\" >1.000000</td>\n",
       "      <td id=\"T_194a2_row1_col12\" class=\"data row1 col12\" >0.980349</td>\n",
       "      <td id=\"T_194a2_row1_col13\" class=\"data row1 col13\" >0.949782</td>\n",
       "      <td id=\"T_194a2_row1_col14\" class=\"data row1 col14\" >0.954148</td>\n",
       "      <td id=\"T_194a2_row1_col15\" class=\"data row1 col15\" >0.949782</td>\n",
       "      <td id=\"T_194a2_row1_col16\" class=\"data row1 col16\" >1.000000</td>\n",
       "    </tr>\n",
       "    <tr>\n",
       "      <th id=\"T_194a2_level0_row2\" class=\"row_heading level0 row2\" >2021-01-07</th>\n",
       "      <td id=\"T_194a2_row2_col0\" class=\"data row2 col0\" >2290</td>\n",
       "      <td id=\"T_194a2_row2_col1\" class=\"data row2 col1\" >2340</td>\n",
       "      <td id=\"T_194a2_row2_col2\" class=\"data row2 col2\" >2240</td>\n",
       "      <td id=\"T_194a2_row2_col3\" class=\"data row2 col3\" >2290</td>\n",
       "      <td id=\"T_194a2_row2_col4\" class=\"data row2 col4\" >519777</td>\n",
       "      <td id=\"T_194a2_row2_col5\" class=\"data row2 col5\" >0.000000</td>\n",
       "      <td id=\"T_194a2_row2_col6\" class=\"data row2 col6\" >060310</td>\n",
       "      <td id=\"T_194a2_row2_col7\" class=\"data row2 col7\" >3S</td>\n",
       "      <td id=\"T_194a2_row2_col8\" class=\"data row2 col8\" >1.007612</td>\n",
       "      <td id=\"T_194a2_row2_col9\" class=\"data row2 col9\" >1.000000</td>\n",
       "      <td id=\"T_194a2_row2_col10\" class=\"data row2 col10\" >0</td>\n",
       "      <td id=\"T_194a2_row2_col11\" class=\"data row2 col11\" >0.980349</td>\n",
       "      <td id=\"T_194a2_row2_col12\" class=\"data row2 col12\" >0.949782</td>\n",
       "      <td id=\"T_194a2_row2_col13\" class=\"data row2 col13\" >0.954148</td>\n",
       "      <td id=\"T_194a2_row2_col14\" class=\"data row2 col14\" >0.949782</td>\n",
       "      <td id=\"T_194a2_row2_col15\" class=\"data row2 col15\" >0.958515</td>\n",
       "      <td id=\"T_194a2_row2_col16\" class=\"data row2 col16\" >0.980349</td>\n",
       "    </tr>\n",
       "    <tr>\n",
       "      <th id=\"T_194a2_level0_row3\" class=\"row_heading level0 row3\" >2021-01-08</th>\n",
       "      <td id=\"T_194a2_row3_col0\" class=\"data row3 col0\" >2300</td>\n",
       "      <td id=\"T_194a2_row3_col1\" class=\"data row3 col1\" >2315</td>\n",
       "      <td id=\"T_194a2_row3_col2\" class=\"data row3 col2\" >2225</td>\n",
       "      <td id=\"T_194a2_row3_col3\" class=\"data row3 col3\" >2245</td>\n",
       "      <td id=\"T_194a2_row3_col4\" class=\"data row3 col4\" >462568</td>\n",
       "      <td id=\"T_194a2_row3_col5\" class=\"data row3 col5\" >-0.019651</td>\n",
       "      <td id=\"T_194a2_row3_col6\" class=\"data row3 col6\" >060310</td>\n",
       "      <td id=\"T_194a2_row3_col7\" class=\"data row3 col7\" >3S</td>\n",
       "      <td id=\"T_194a2_row3_col8\" class=\"data row3 col8\" >0.998918</td>\n",
       "      <td id=\"T_194a2_row3_col9\" class=\"data row3 col9\" >0.980349</td>\n",
       "      <td id=\"T_194a2_row3_col10\" class=\"data row3 col10\" >0</td>\n",
       "      <td id=\"T_194a2_row3_col11\" class=\"data row3 col11\" >0.968820</td>\n",
       "      <td id=\"T_194a2_row3_col12\" class=\"data row3 col12\" >0.973274</td>\n",
       "      <td id=\"T_194a2_row3_col13\" class=\"data row3 col13\" >0.968820</td>\n",
       "      <td id=\"T_194a2_row3_col14\" class=\"data row3 col14\" >0.977728</td>\n",
       "      <td id=\"T_194a2_row3_col15\" class=\"data row3 col15\" >0.973274</td>\n",
       "      <td id=\"T_194a2_row3_col16\" class=\"data row3 col16\" >0.977728</td>\n",
       "    </tr>\n",
       "    <tr>\n",
       "      <th id=\"T_194a2_level0_row4\" class=\"row_heading level0 row4\" >2021-01-11</th>\n",
       "      <td id=\"T_194a2_row4_col0\" class=\"data row4 col0\" >2230</td>\n",
       "      <td id=\"T_194a2_row4_col1\" class=\"data row4 col1\" >2275</td>\n",
       "      <td id=\"T_194a2_row4_col2\" class=\"data row4 col2\" >2130</td>\n",
       "      <td id=\"T_194a2_row4_col3\" class=\"data row4 col3\" >2175</td>\n",
       "      <td id=\"T_194a2_row4_col4\" class=\"data row4 col4\" >409057</td>\n",
       "      <td id=\"T_194a2_row4_col5\" class=\"data row4 col5\" >-0.031180</td>\n",
       "      <td id=\"T_194a2_row4_col6\" class=\"data row4 col6\" >060310</td>\n",
       "      <td id=\"T_194a2_row4_col7\" class=\"data row4 col7\" >3S</td>\n",
       "      <td id=\"T_194a2_row4_col8\" class=\"data row4 col8\" >0.988702</td>\n",
       "      <td id=\"T_194a2_row4_col9\" class=\"data row4 col9\" >0.968820</td>\n",
       "      <td id=\"T_194a2_row4_col10\" class=\"data row4 col10\" >0</td>\n",
       "      <td id=\"T_194a2_row4_col11\" class=\"data row4 col11\" >1.004598</td>\n",
       "      <td id=\"T_194a2_row4_col12\" class=\"data row4 col12\" >1.000000</td>\n",
       "      <td id=\"T_194a2_row4_col13\" class=\"data row4 col13\" >1.009195</td>\n",
       "      <td id=\"T_194a2_row4_col14\" class=\"data row4 col14\" >1.004598</td>\n",
       "      <td id=\"T_194a2_row4_col15\" class=\"data row4 col15\" >1.002299</td>\n",
       "      <td id=\"T_194a2_row4_col16\" class=\"data row4 col16\" >1.009195</td>\n",
       "    </tr>\n",
       "  </tbody>\n",
       "</table>\n"
      ],
      "text/plain": [
       "<pandas.io.formats.style.Styler at 0x212b824e670>"
      ]
     },
     "execution_count": 2,
     "metadata": {},
     "output_type": "execute_result"
    }
   ],
   "source": [
    "mdl_data = pd.read_pickle('mdl_data.pkl')\n",
    "mdl_data.head().style.set_table_attributes('style=\"font-size: 10px\"')"
   ]
  },
  {
   "cell_type": "markdown",
   "metadata": {},
   "source": [
    "첫 번째 종목 060310 에 대하여 가격 변동성 변수를 만들어 보겠습니다. 전 5일 종가의 평균(price_mean), 전 5일 종가의 표준편차(price_std)를 먼저 구합니다. 그리고, 전 5일의 평균 및 표준편차 대비 당일 종가의 수준을 표준화해서 보여주는 값이 'price_z' 입니다. price_z 값이 -1.96 와 +1.96 안에 값이면 95% 신뢰구간 안에 들어갑니다. 즉 -1.96 보다 작거나, 1.96 보다 크면(100 번중 5번 미만으로 일어날 확율) 당일의 종가는 직전 5일의 움직임에 비해 아주 특별하다고 생각할 수 있습니다."
   ]
  },
  {
   "cell_type": "code",
   "execution_count": 3,
   "metadata": {},
   "outputs": [
    {
     "data": {
      "text/html": [
       "<div>\n",
       "<style scoped>\n",
       "    .dataframe tbody tr th:only-of-type {\n",
       "        vertical-align: middle;\n",
       "    }\n",
       "\n",
       "    .dataframe tbody tr th {\n",
       "        vertical-align: top;\n",
       "    }\n",
       "\n",
       "    .dataframe thead th {\n",
       "        text-align: right;\n",
       "    }\n",
       "</style>\n",
       "<table border=\"1\" class=\"dataframe\">\n",
       "  <thead>\n",
       "    <tr style=\"text-align: right;\">\n",
       "      <th></th>\n",
       "      <th>close</th>\n",
       "      <th>price_mean</th>\n",
       "      <th>price_std</th>\n",
       "      <th>price_z</th>\n",
       "    </tr>\n",
       "  </thead>\n",
       "  <tbody>\n",
       "    <tr>\n",
       "      <th>2021-01-05</th>\n",
       "      <td>2250</td>\n",
       "      <td>NaN</td>\n",
       "      <td>NaN</td>\n",
       "      <td>NaN</td>\n",
       "    </tr>\n",
       "    <tr>\n",
       "      <th>2021-01-06</th>\n",
       "      <td>2290</td>\n",
       "      <td>NaN</td>\n",
       "      <td>NaN</td>\n",
       "      <td>NaN</td>\n",
       "    </tr>\n",
       "    <tr>\n",
       "      <th>2021-01-07</th>\n",
       "      <td>2290</td>\n",
       "      <td>NaN</td>\n",
       "      <td>NaN</td>\n",
       "      <td>NaN</td>\n",
       "    </tr>\n",
       "    <tr>\n",
       "      <th>2021-01-08</th>\n",
       "      <td>2245</td>\n",
       "      <td>NaN</td>\n",
       "      <td>NaN</td>\n",
       "      <td>NaN</td>\n",
       "    </tr>\n",
       "    <tr>\n",
       "      <th>2021-01-11</th>\n",
       "      <td>2175</td>\n",
       "      <td>2,250.000</td>\n",
       "      <td>47.037</td>\n",
       "      <td>-1.594</td>\n",
       "    </tr>\n",
       "    <tr>\n",
       "      <th>2021-01-12</th>\n",
       "      <td>2185</td>\n",
       "      <td>2,237.000</td>\n",
       "      <td>55.295</td>\n",
       "      <td>-0.940</td>\n",
       "    </tr>\n",
       "    <tr>\n",
       "      <th>2021-01-13</th>\n",
       "      <td>2175</td>\n",
       "      <td>2,214.000</td>\n",
       "      <td>51.527</td>\n",
       "      <td>-0.757</td>\n",
       "    </tr>\n",
       "    <tr>\n",
       "      <th>2021-01-14</th>\n",
       "      <td>2195</td>\n",
       "      <td>2,195.000</td>\n",
       "      <td>29.155</td>\n",
       "      <td>0.000</td>\n",
       "    </tr>\n",
       "    <tr>\n",
       "      <th>2021-01-15</th>\n",
       "      <td>2185</td>\n",
       "      <td>2,183.000</td>\n",
       "      <td>8.367</td>\n",
       "      <td>0.239</td>\n",
       "    </tr>\n",
       "    <tr>\n",
       "      <th>2021-01-18</th>\n",
       "      <td>2180</td>\n",
       "      <td>2,184.000</td>\n",
       "      <td>7.416</td>\n",
       "      <td>-0.539</td>\n",
       "    </tr>\n",
       "  </tbody>\n",
       "</table>\n",
       "</div>"
      ],
      "text/plain": [
       "            close  price_mean  price_std  price_z\n",
       "2021-01-05   2250         NaN        NaN      NaN\n",
       "2021-01-06   2290         NaN        NaN      NaN\n",
       "2021-01-07   2290         NaN        NaN      NaN\n",
       "2021-01-08   2245         NaN        NaN      NaN\n",
       "2021-01-11   2175   2,250.000     47.037   -1.594\n",
       "2021-01-12   2185   2,237.000     55.295   -0.940\n",
       "2021-01-13   2175   2,214.000     51.527   -0.757\n",
       "2021-01-14   2195   2,195.000     29.155    0.000\n",
       "2021-01-15   2185   2,183.000      8.367    0.239\n",
       "2021-01-18   2180   2,184.000      7.416   -0.539"
      ]
     },
     "execution_count": 3,
     "metadata": {},
     "output_type": "execute_result"
    }
   ],
   "source": [
    "df = mdl_data[mdl_data['code']=='060310'].copy() \n",
    "df['price_mean'] = df['close'].rolling(5).mean() # 직전 5일 종가의 평균\n",
    "df['price_std'] = df['close'].rolling(5).std() # 직전 5일 종가의 표준편차\n",
    "df['price_z'] = (df['close'] - df['price_mean'])/df['price_std'] # 직전 5일 종가의 평균 및 표준편차 대비 오늘 종가의 위치\n",
    "df[['close','price_mean','price_std','price_z']].head(10)"
   ]
  },
  {
   "cell_type": "markdown",
   "metadata": {},
   "source": [
    "<br> 전 종목에 대하여 동일한 계산을 합니다. 그리고 그 결과를 data_h1 에 담습니다."
   ]
  },
  {
   "cell_type": "code",
   "execution_count": 9,
   "metadata": {},
   "outputs": [],
   "source": [
    "kosdaq_list = pd.read_pickle('kosdaq_list.pkl')\n",
    "\n",
    "data_h1 = pd.DataFrame()\n",
    "\n",
    "for code in kosdaq_list['code']:\n",
    "\n",
    "    data = mdl_data[mdl_data['code']==code].sort_index().copy()\n",
    "    data['price_mean'] = data['close'].rolling(20).mean()\n",
    "    data['price_std'] = data['close'].rolling(20).std(ddof=0)\n",
    "    data['price_z'] = (data['close'] - data['price_mean'])/data['price_std']    \n",
    "    \n",
    "    data['volume_mean'] = data['volume'].rolling(20).mean()\n",
    "    data['volume_std'] = data['volume'].rolling(20).std(ddof=0)\n",
    "    data['volume_z'] = (data['volume'] - data['volume_mean'])/data['volume_std']\n",
    "       \n",
    "    data['max_close']  = data[['close_r1','close_r2','close_r3','close_r4','close_r5']].max(axis=1) # 5 영업일 종가 수익율 중 최고 값\n",
    "    data.dropna(subset=['price_z','volume_z','close_r1','close_r2','close_r3','close_r4','close_r5'], inplace=True) # missing 이 있는 행은 제거  \n",
    "    \n",
    "    data = data[(data['price_std']!=0) & (data['volume_std']!=0)] # 0 으로 나누는 상황은 없도록 함.\n",
    "    \n",
    "    data_h1 = pd.concat([data, data_h1], axis=0)\n",
    "\n",
    "data_h1.to_pickle('data_h1.pkl')  "
   ]
  },
  {
   "cell_type": "code",
   "execution_count": 10,
   "metadata": {},
   "outputs": [
    {
     "name": "stdout",
     "output_type": "stream",
     "text": [
      "min   -4.359\n",
      "max    4.359\n",
      "Name: price_z, dtype: float64\n",
      "min   -2.568\n",
      "max    4.359\n",
      "Name: volume_z, dtype: float64\n"
     ]
    }
   ],
   "source": [
    "data_h1 = pd.read_pickle('data_h1.pkl')  \n",
    "print(data_h1['price_z'].agg(['min','max']))\n",
    "print(data_h1['volume_z'].agg(['min','max']))"
   ]
  },
  {
   "cell_type": "code",
   "execution_count": 11,
   "metadata": {},
   "outputs": [
    {
     "data": {
      "text/plain": [
       "<AxesSubplot:xlabel='price_z'>"
      ]
     },
     "execution_count": 11,
     "metadata": {},
     "output_type": "execute_result"
    },
    {
     "data": {
      "image/png": "[encoded data removed]",
      "text/plain": [
       "<Figure size 432x288 with 1 Axes>"
      ]
     },
     "metadata": {
      "needs_background": "light"
     },
     "output_type": "display_data"
    }
   ],
   "source": [
    "rank = pd.qcut(data_h1['price_z'], q=10, labels=range(10))\n",
    "data_h1.groupby(rank)['max_close'].mean().plot()"
   ]
  },
  {
   "cell_type": "code",
   "execution_count": 12,
   "metadata": {},
   "outputs": [
    {
     "data": {
      "text/plain": [
       "<AxesSubplot:xlabel='volume_z'>"
      ]
     },
     "execution_count": 12,
     "metadata": {},
     "output_type": "execute_result"
    },
    {
     "data": {
      "image/png": "[encoded data removed]",
      "text/plain": [
       "<Figure size 432x288 with 1 Axes>"
      ]
     },
     "metadata": {
      "needs_background": "light"
     },
     "output_type": "display_data"
    }
   ],
   "source": [
    "rank = pd.qcut(data_h1['volume_z'], q=10, labels=range(10))\n",
    "data_h1.groupby(rank)['max_close'].mean().plot()"
   ]
  },
  {
   "cell_type": "markdown",
   "metadata": {},
   "source": [
    "<br> 종가의 표준화 값 price_z 와 거래량의 표준화 값 volume_z 를 서로 직교하는 테이블로 구성하고 평균 수익율을 보니, 가격이 변동성이 높고, 거래량이 몰리는 종목은 평균 수익율이 더 높다는 것이 확인되었습니다."
   ]
  },
  {
   "cell_type": "code",
   "execution_count": 13,
   "metadata": {},
   "outputs": [
    {
     "data": {
      "text/html": [
       "<div>\n",
       "<style scoped>\n",
       "    .dataframe tbody tr th:only-of-type {\n",
       "        vertical-align: middle;\n",
       "    }\n",
       "\n",
       "    .dataframe tbody tr th {\n",
       "        vertical-align: top;\n",
       "    }\n",
       "\n",
       "    .dataframe thead th {\n",
       "        text-align: right;\n",
       "    }\n",
       "</style>\n",
       "<table border=\"1\" class=\"dataframe\">\n",
       "  <thead>\n",
       "    <tr style=\"text-align: right;\">\n",
       "      <th>volume_z</th>\n",
       "      <th>0</th>\n",
       "      <th>1</th>\n",
       "      <th>2</th>\n",
       "      <th>3</th>\n",
       "      <th>4</th>\n",
       "    </tr>\n",
       "    <tr>\n",
       "      <th>price_z</th>\n",
       "      <th></th>\n",
       "      <th></th>\n",
       "      <th></th>\n",
       "      <th></th>\n",
       "      <th></th>\n",
       "    </tr>\n",
       "  </thead>\n",
       "  <tbody>\n",
       "    <tr>\n",
       "      <th>0</th>\n",
       "      <td>1.032</td>\n",
       "      <td>1.034</td>\n",
       "      <td>1.035</td>\n",
       "      <td>1.038</td>\n",
       "      <td>1.040</td>\n",
       "    </tr>\n",
       "    <tr>\n",
       "      <th>1</th>\n",
       "      <td>1.028</td>\n",
       "      <td>1.029</td>\n",
       "      <td>1.031</td>\n",
       "      <td>1.033</td>\n",
       "      <td>1.035</td>\n",
       "    </tr>\n",
       "    <tr>\n",
       "      <th>2</th>\n",
       "      <td>1.026</td>\n",
       "      <td>1.030</td>\n",
       "      <td>1.030</td>\n",
       "      <td>1.031</td>\n",
       "      <td>1.032</td>\n",
       "    </tr>\n",
       "    <tr>\n",
       "      <th>3</th>\n",
       "      <td>1.028</td>\n",
       "      <td>1.035</td>\n",
       "      <td>1.035</td>\n",
       "      <td>1.036</td>\n",
       "      <td>1.037</td>\n",
       "    </tr>\n",
       "    <tr>\n",
       "      <th>4</th>\n",
       "      <td>1.029</td>\n",
       "      <td>1.038</td>\n",
       "      <td>1.038</td>\n",
       "      <td>1.039</td>\n",
       "      <td>1.044</td>\n",
       "    </tr>\n",
       "  </tbody>\n",
       "</table>\n",
       "</div>"
      ],
      "text/plain": [
       "volume_z     0     1     2     3     4\n",
       "price_z                               \n",
       "0        1.032 1.034 1.035 1.038 1.040\n",
       "1        1.028 1.029 1.031 1.033 1.035\n",
       "2        1.026 1.030 1.030 1.031 1.032\n",
       "3        1.028 1.035 1.035 1.036 1.037\n",
       "4        1.029 1.038 1.038 1.039 1.044"
      ]
     },
     "execution_count": 13,
     "metadata": {},
     "output_type": "execute_result"
    }
   ],
   "source": [
    "rank1  = pd.qcut(data_h1['price_z'], q=5, labels=range(5))\n",
    "rank2  = pd.qcut(data_h1['volume_z'], q=5, labels=range(5))\n",
    "\n",
    "data_h1.groupby([rank1, rank2])['max_close'].mean().unstack()"
   ]
  },
  {
   "cell_type": "code",
   "execution_count": null,
   "metadata": {},
   "outputs": [],
   "source": []
  }
 ],
 "metadata": {
  "kernelspec": {
   "display_name": "Python 3 (ipykernel)",
   "language": "python",
   "name": "python3"
  },
  "language_info": {
   "codemirror_mode": {
    "name": "ipython",
    "version": 3
   },
   "file_extension": ".py",
   "mimetype": "text/x-python",
   "name": "python",
   "nbconvert_exporter": "python",
   "pygments_lexer": "ipython3",
   "version": "3.9.7"
  }
 },
 "nbformat": 4,
 "nbformat_minor": 4
}
