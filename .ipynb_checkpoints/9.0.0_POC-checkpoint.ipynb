{
 "cells": [
  {
   "cell_type": "markdown",
   "id": "92c217b1-5633-4c1c-926c-7ea85e310f37",
   "metadata": {},
   "source": [
    "### **Streamlit 으로 웹앱을 만들어보자**"
   ]
  },
  {
   "cell_type": "code",
   "execution_count": null,
   "id": "4beb0959-31f8-4b76-bec5-d87762d33d52",
   "metadata": {},
   "outputs": [],
   "source": []
  }
 ],
 "metadata": {
  "kernelspec": {
   "display_name": "Python 3 (ipykernel)",
   "language": "python",
   "name": "python3"
  },
  "language_info": {
   "codemirror_mode": {
    "name": "ipython",
    "version": 3
   },
   "file_extension": ".py",
   "mimetype": "text/x-python",
   "name": "python",
   "nbconvert_exporter": "python",
   "pygments_lexer": "ipython3",
   "version": "3.9.7"
  }
 },
 "nbformat": 4,
 "nbformat_minor": 5
}
