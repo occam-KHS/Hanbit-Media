{
 "cells": [
  {
   "cell_type": "code",
   "execution_count": 1,
   "id": "487b4b35-9efe-40c9-954e-4027e54cf817",
   "metadata": {},
   "outputs": [],
   "source": [
    "import FinanceDataReader as fdr\n",
    "import matplotlib.pyplot as plt\n",
    "%matplotlib inline\n",
    "import pandas as pd\n",
    "import numpy as np\n",
    "import datetime\n",
    "import pickle\n",
    "import glob"
   ]
  },
  {
   "cell_type": "markdown",
   "id": "3595e870-27e3-4b21-9d04-658f45279e02",
   "metadata": {},
   "source": [
    "<br> 이번에는 익절/손절라인을 결정할 수 있는 예측모델을 만들어 보겠습니다. 먼저 피쳐가 있는 데이터를 불러옵니다. "
   ]
  },
  {
   "cell_type": "code",
   "execution_count": 43,
   "id": "65f40bbd-21f3-4a09-9cd6-bf724679f28c",
   "metadata": {},
   "outputs": [
    {
     "name": "stdout",
     "output_type": "stream",
     "text": [
      "% of target: 24.3%\n"
     ]
    }
   ],
   "source": [
    "feature_all = pd.read_pickle('feature_all.pkl') \n",
    "feature_all['target'] = np.where(feature_all['max_close']>= 1.05, 1, 0)\n",
    "target = feature_all['target'].mean()\n",
    "print(f'% of target:{target: 5.1%}')"
   ]
  },
  {
   "cell_type": "markdown",
   "id": "e39169f0-f7bb-4de9-9ddf-1a6d36e1f198",
   "metadata": {},
   "source": [
    "<br> 날짜와 종목을 인덱스로 설정합니다. 데이터에 예측모델을 적용하고 매수 대상 종목을 select_top 이라는 DataFrame 에 저장합니다. "
   ]
  },
  {
   "cell_type": "code",
   "execution_count": 44,
   "id": "aec8b146-c04b-4d5a-b9d8-87637e9ca7a5",
   "metadata": {},
   "outputs": [],
   "source": [
    "mdl_all = feature_all.set_index([feature_all.index,'code'])\n",
    "\n",
    "with open(\"gam.pkl\", \"rb\") as file:\n",
    "    gam = pickle.load(file) \n",
    "\n",
    "feature_list = ['price_z','volume_z','num_high/close','num_win_market','pct_win_market','return over sector']\n",
    "X = mdl_all[feature_list]\n",
    "y = mdl_all['target']\n",
    "\n",
    "yhat = gam.predict_proba(X.to_numpy())\n",
    "yhat = pd.Series(yhat, name='yhat', index=y.index)\n",
    "\n",
    "mdl_all['yhat'] = yhat\n",
    "\n",
    "tops = mdl_all[mdl_all['yhat'] > 0.3].copy()\n",
    "\n",
    "tops['return_rank']  = pd.qcut(tops['return'], q=3, labels=range(3)) # 종가 수익률\n",
    "tops['price_rank']  = pd.qcut(tops['price_z'], q=3, labels=range(3)) # 가격 변동성\n",
    "\n",
    "select_tops = tops[(tops['return_rank']==2) & (tops['price_rank']==0)]"
   ]
  },
  {
   "cell_type": "markdown",
   "id": "7682142f-fdf7-4402-8029-ba32afae3363",
   "metadata": {},
   "source": [
    "<br> 최저 기대 수익율과 피쳐와의 상관계수를 조사합니다. 예상하지 못햇던 사실은 5 영업일 동안 최저 기대 수익률은 종목보다는 지수 수익률과 더 상관관계가 높습니다. "
   ]
  },
  {
   "cell_type": "code",
   "execution_count": 45,
   "id": "b14a6a3d-fe87-4e33-8ac5-96aaae90d555",
   "metadata": {},
   "outputs": [
    {
     "data": {
      "text/html": [
       "<div>\n",
       "<style scoped>\n",
       "    .dataframe tbody tr th:only-of-type {\n",
       "        vertical-align: middle;\n",
       "    }\n",
       "\n",
       "    .dataframe tbody tr th {\n",
       "        vertical-align: top;\n",
       "    }\n",
       "\n",
       "    .dataframe thead th {\n",
       "        text-align: right;\n",
       "    }\n",
       "</style>\n",
       "<table border=\"1\" class=\"dataframe\">\n",
       "  <thead>\n",
       "    <tr style=\"text-align: right;\">\n",
       "      <th></th>\n",
       "      <th>return</th>\n",
       "      <th>kosdaq_return</th>\n",
       "      <th>min_close</th>\n",
       "    </tr>\n",
       "  </thead>\n",
       "  <tbody>\n",
       "    <tr>\n",
       "      <th>return</th>\n",
       "      <td>1.000000</td>\n",
       "      <td>0.181246</td>\n",
       "      <td>-0.004027</td>\n",
       "    </tr>\n",
       "    <tr>\n",
       "      <th>kosdaq_return</th>\n",
       "      <td>0.181246</td>\n",
       "      <td>1.000000</td>\n",
       "      <td>0.194672</td>\n",
       "    </tr>\n",
       "    <tr>\n",
       "      <th>min_close</th>\n",
       "      <td>-0.004027</td>\n",
       "      <td>0.194672</td>\n",
       "      <td>1.000000</td>\n",
       "    </tr>\n",
       "  </tbody>\n",
       "</table>\n",
       "</div>"
      ],
      "text/plain": [
       "                 return  kosdaq_return  min_close\n",
       "return         1.000000       0.181246  -0.004027\n",
       "kosdaq_return  0.181246       1.000000   0.194672\n",
       "min_close     -0.004027       0.194672   1.000000"
      ]
     },
     "execution_count": 81,
     "metadata": {},
     "output_type": "execute_result"
    }
   ],
   "source": [
    "select_tops[['return','kosdaq_return','min_close']].corr()"
   ]
  },
  {
   "cell_type": "markdown",
   "id": "08f4bdcb-ad05-44d1-9865-48a5f19e1a6f",
   "metadata": {},
   "source": [
    "<br> 'return' 과 'kosdaq_return' 이용해서 단순한 예측모델을 구현합니다. 머신러닝 모델 중 가장 쉽게 접근할 수 있는 랜덤포레스트 회귀모형으로 쉽게 빌드해 봅니다. 그래프를 보니 예측값이 기대 최저 수익률을 잘 따라가는 것으로 보입니다. "
   ]
  },
  {
   "cell_type": "code",
   "execution_count": 88,
   "id": "60eadfbf-4cde-4da3-be77-2012de2b21d5",
   "metadata": {},
   "outputs": [],
   "source": [
    "from sklearn.ensemble import RandomForestRegressor\n",
    "rf = RandomForestRegressor(max_depth=4, min_samples_leaf=30) # 정해진 하이퍼파라미터를 가진 객체를 생성\n",
    "\n",
    "X = select_tops[['return','kosdaq_return']]\n",
    "y = select_tops['min_close']\n",
    "\n",
    "rf.fit(X, y)\n",
    "yhat = rf.predict(X) # 최저 기대수익율 예측\n",
    "yhat = pd.Series(yhat, name='min_yhat', index=y.index) "
   ]
  },
  {
   "cell_type": "code",
   "execution_count": 89,
   "id": "2a4a6922-7e87-4176-a50d-6eee82617d67",
   "metadata": {},
   "outputs": [
    {
     "name": "stdout",
     "output_type": "stream",
     "text": [
      "min_yhat\n",
      "(0.914, 0.947]    0.931482\n",
      "(0.947, 0.959]    0.952908\n",
      "(0.959, 0.971]    0.969847\n",
      "(0.971, 0.982]    0.978340\n",
      "(0.982, 1.031]    1.020167\n",
      "Name: min_close, dtype: float64\n"
     ]
    },
    {
     "data": {
      "image/png": "[encoded data removed]",
      "text/plain": [
       "<Figure size 432x288 with 1 Axes>"
      ]
     },
     "metadata": {
      "needs_background": "light"
     },
     "output_type": "display_data"
    }
   ],
   "source": [
    "def perf(y, yhat): # 20 Percentile 분석\n",
    "    combined = pd.concat([y, yhat], axis=1)\n",
    "    ranks = pd.qcut(combined['min_yhat'], q=5)\n",
    "    print(combined.groupby(ranks)['min_close'].mean())\n",
    "    combined.groupby(ranks)['min_close'].mean().plot()\n",
    "\n",
    "perf(y, yhat)"
   ]
  },
  {
   "cell_type": "markdown",
   "id": "9fde19d5-7ec4-465e-8c80-6a71b7bd5471",
   "metadata": {},
   "source": [
    "<br> 만들어진 모델을 pickle 파일로 저장하고, 최소 기대 수익률에 손절라인을 반환하는 함수를 만듭니다."
   ]
  },
  {
   "cell_type": "code",
   "execution_count": 70,
   "id": "daf83e60-bb72-44bc-9b5d-41a211606eb7",
   "metadata": {},
   "outputs": [],
   "source": [
    "import pickle\n",
    "with open(\"rf.pkl\", \"wb\") as file:\n",
    "    pickle.dump(rf, file)    \n",
    "    \n",
    "with open(\"rf.pkl\", \"rb\") as file:\n",
    "    rf = pickle.load(file)     "
   ]
  },
  {
   "cell_type": "markdown",
   "id": "2c4c711c-79f8-4dfd-a5d9-9d64b8a4e2df",
   "metadata": {},
   "source": [
    "<br> 위 최소 기대 수익률 값에 따라 아래와 같이 익절/손절 라인을 변동할 수 있도록 합니다. 아래 함수는 익절 수익률과 손절 수익률을 딕셔너리로 반환합니다."
   ]
  },
  {
   "cell_type": "code",
   "execution_count": 90,
   "id": "13389048-35e4-400d-88b0-bf771b9faa0a",
   "metadata": {},
   "outputs": [],
   "source": [
    "def profit_loss_cut(x):\n",
    "    \n",
    "    if x <= 0.95: # 익절 손절 범위 축소\n",
    "        return 1.04, 0.98 \n",
    "    \n",
    "    elif x <= 0.98: \n",
    "        return 1.05, 0.97\n",
    "    \n",
    "    else: # 익절/손절범위 확대\n",
    "        return 1.06, 0.96"
   ]
  },
  {
   "cell_type": "markdown",
   "id": "8d028c39-91df-412b-b912-18a7907a0371",
   "metadata": {},
   "source": [
    "<br> 종목, 매수가 익절/손절라인 반환하는 함수를 만듭니다."
   ]
  },
  {
   "cell_type": "code",
   "execution_count": 158,
   "id": "2967cc69-eefc-4a81-842b-1dc72615e1c9",
   "metadata": {},
   "outputs": [],
   "source": [
    "def select_stocks(today_dt):\n",
    "    \n",
    "    today = datetime.datetime.strptime(today_dt, '%Y-%m-%d')\n",
    "    start_dt = today - datetime.timedelta(days=100) # 100 일전 데이터 부터 시작 - 피쳐 엔지니어링은 최소 60 개의 일봉이 필요함\n",
    "    print(start_dt, today_dt)\n",
    "\n",
    "    kosdaq_list = pd.read_pickle('kosdaq_list.pkl')\n",
    "\n",
    "    price_data = pd.DataFrame()\n",
    "\n",
    "    for code, name in zip(kosdaq_list['code'], kosdaq_list['name']):  # 코스닥 모든 종목에서 대하여 반복\n",
    "        daily_price = fdr.DataReader(code, start = start_dt, end = today_dt) # 종목, 일봉, 데이터 갯수\n",
    "\n",
    "        daily_price['code'] = code\n",
    "        daily_price['name'] = name\n",
    "        price_data = pd.concat([price_data, daily_price], axis=0)   \n",
    "\n",
    "    price_data.index.name = 'date'\n",
    "    price_data.columns= price_data.columns.str.lower() # 컬럼 이름 소문자로 변경\n",
    "\n",
    "    kosdaq_index = fdr.DataReader('KQ11', start = start_dt, end = today_dt) # 데이터 호출\n",
    "    kosdaq_index.columns = ['close','open','high','low','volume','change'] # 컬럼명 변경\n",
    "    kosdaq_index.index.name='date' # 인덱스 이름 생성\n",
    "    kosdaq_index.sort_index(inplace=True) # 인덱스(날짜) 로 정렬 \n",
    "    kosdaq_index['kosdaq_return'] = kosdaq_index['close']/kosdaq_index['close'].shift(1) # 수익율 : 전 날 종가대비 당일 종가\n",
    "\n",
    "    merged = price_data.merge(kosdaq_index['kosdaq_return'], left_index=True, right_index=True, how='left')\n",
    "\n",
    "    return_all = pd.DataFrame()\n",
    "\n",
    "    for code in kosdaq_list['code']:  \n",
    "\n",
    "        stock_return = merged[merged['code']==code].sort_index()\n",
    "        stock_return['return'] = stock_return['close']/stock_return['close'].shift(1) # 종목별 전일 종가 대비 당일 종가 수익율\n",
    "        c1 = (stock_return['kosdaq_return'] < 1) # 수익율 1 보다 작음. 당일 종가가 전일 종가보다 낮음 (코스닥 지표)\n",
    "        c2 = (stock_return['return'] > 1) # 수익율 1 보다 큼. 당일 종가가 전일 종가보다 큼 (개별 종목)\n",
    "        stock_return['win_market'] = np.where((c1&c2), 1, 0) # C1 과 C2 조건을 동시에 만족하면 1, 아니면 0\n",
    "        return_all = pd.concat([return_all, stock_return], axis=0) \n",
    "\n",
    "    return_all.dropna(inplace=True)    \n",
    "\n",
    "    model_inputs = pd.DataFrame()\n",
    "\n",
    "    for code, name, sector in zip(kosdaq_list['code'], kosdaq_list['name'], kosdaq_list['sector']):\n",
    "\n",
    "        data = return_all[return_all['code']==code].sort_index().copy()    \n",
    "\n",
    "        # 가격변동성이 크고, 거래량이 몰린 종목이 주가가 상승한다\n",
    "        data['price_mean'] = data['close'].rolling(20).mean()\n",
    "        data['price_std'] = data['close'].rolling(20).std(ddof=0)\n",
    "        data['price_z'] = (data['close'] - data['price_mean'])/data['price_std']    \n",
    "        data['volume_mean'] = data['volume'].rolling(20).mean()\n",
    "        data['volume_std'] = data['volume'].rolling(20).std(ddof=0)\n",
    "        data['volume_z'] = (data['volume'] - data['volume_mean'])/data['volume_std']\n",
    "\n",
    "        # 위꼬리가 긴 양봉이 자주발생한다.\n",
    "        data['positive_candle'] = (data['close'] > data['open']).astype(int) # 양봉\n",
    "        data['high/close'] = (data['positive_candle']==1)*(data['high']/data['close'] > 1.1).astype(int) # 양봉이면서 고가가 종가보다 높게 위치\n",
    "        data['num_high/close'] =  data['high/close'].rolling(20).sum()\n",
    "        data['long_candle'] = (data['positive_candle']==1)*(data['high']==data['close'])*\\\n",
    "        (data['low']==data['open'])*(data['close']/data['open'] > 1.2).astype(int) # 장대 양봉을 데이터로 표현\n",
    "        data['num_long'] =  data['long_candle'].rolling(60).sum() # 지난 20 일 동안 장대양봉의 갯 수\n",
    "\n",
    "\n",
    "         # 거래량이 종좀 터지며 매집의 흔적을 보인다   \n",
    "        data['volume_mean'] = data['volume'].rolling(60).mean()\n",
    "        data['volume_std'] = data['volume'].rolling(60).std()\n",
    "        data['volume_z'] = (data['volume'] - data['volume_mean'])/data['volume_std'] # 거래량은 종목과 주가에 따라 다르기 떄문에 표준화한 값이 필요함\n",
    "        data['z>1.96'] = (data['close'] > data['open'])*(data['volume_z'] > 1.65).astype(int) # 양봉이면서 거래량이 90%신뢰구간을 벗어난 날\n",
    "        data['num_z>1.96'] =  data['z>1.96'].rolling(60).sum()  # 양봉이면서 거래량이 90% 신뢰구간을 벗어난 날을 카운트\n",
    "\n",
    "        # 주가지수보다 더 좋은 수익율을 보여준다\n",
    "        data['num_win_market'] = data['win_market'].rolling(60).sum() # 주가지수 수익율이 1 보다 작을 때, 종목 수익율이 1 보다 큰 날 수\n",
    "        data['pct_win_market'] = (data['return']/data['kosdaq_return']).rolling(60).mean() # 주가지수 수익율 대비 종목 수익율\n",
    "\n",
    "\n",
    "        # 동종업체 수익률보다 더 좋은 수익율을 보여준다.           \n",
    "        data['return_mean'] = data['return'].rolling(60).mean() # 종목별 최근 60 일 수익율의 평균\n",
    "        data['sector'] = sector    \n",
    "        data['name'] = name\n",
    "\n",
    "        data = data[(data['price_std']!=0) & (data['volume_std']!=0)]    \n",
    "\n",
    "        model_inputs = pd.concat([data, model_inputs], axis=0)\n",
    "\n",
    "    model_inputs['sector_return'] = model_inputs.groupby(['sector', model_inputs.index])['return'].transform(lambda x: x.mean()) # 섹터의 평균 수익율 계산\n",
    "    model_inputs['return over sector'] = (model_inputs['return']/model_inputs['sector_return']) # 섹터 평균 수익률 대비 종목 수익률 계산\n",
    "    model_inputs.dropna(inplace=True) # Missing 값 있는 행 모두 제거\n",
    "\n",
    "\n",
    "    feature_list = ['price_z','volume_z','num_high/close','num_win_market','pct_win_market','return over sector']\n",
    "\n",
    "    X = model_inputs.loc[today_dt][['code','name','return','kosdaq_return','close'] + feature_list].set_index('code') \n",
    "\n",
    "    with open(\"gam.pkl\", \"rb\") as file:\n",
    "        gam = pickle.load(file)     \n",
    "\n",
    "    yhat = gam.predict_proba(X[feature_list])\n",
    "    X['yhat'] = yhat\n",
    "\n",
    "    tops = X[X['yhat'] >= 0.3].sort_values(by='yhat', ascending=False) # 스코어 0.3 이상 종목만 \n",
    "    print(len(tops))\n",
    "    \n",
    "    tops['return_rank']  = pd.qcut(tops['return'], q=3, labels=range(3)) # 종가 수익률\n",
    "    tops['price_rank']  = pd.qcut(tops['price_z'], q=3, labels=range(3)) # 가격 변동성\n",
    "   \n",
    "    select_tops = tops[(tops['return_rank']==2) & (tops['price_rank']==0)][['name','return_rank','price_rank','yhat','return', 'kosdaq_return','close']]     \n",
    "    \n",
    "    if len(select_tops) > 1: # 최소한 2개 종목 - 추천 리스크 분산        \n",
    "        return select_tops    \n",
    "    \n",
    "    else:\n",
    "        return None"
   ]
  },
  {
   "cell_type": "code",
   "execution_count": 92,
   "id": "3cfd6437-f299-474e-9af5-f57ef450beeb",
   "metadata": {},
   "outputs": [
    {
     "name": "stdout",
     "output_type": "stream",
     "text": [
      "2022-03-05 00:00:00 2022-06-13\n",
      "646\n"
     ]
    }
   ],
   "source": [
    "results = select_stocks('2022-06-13')"
   ]
  },
  {
   "cell_type": "code",
   "execution_count": 162,
   "id": "62d321b4-b309-40ab-b3d8-40fb8bfa4aa8",
   "metadata": {},
   "outputs": [
    {
     "data": {
      "text/html": [
       "<div>\n",
       "<style scoped>\n",
       "    .dataframe tbody tr th:only-of-type {\n",
       "        vertical-align: middle;\n",
       "    }\n",
       "\n",
       "    .dataframe tbody tr th {\n",
       "        vertical-align: top;\n",
       "    }\n",
       "\n",
       "    .dataframe thead th {\n",
       "        text-align: right;\n",
       "    }\n",
       "</style>\n",
       "<table border=\"1\" class=\"dataframe\">\n",
       "  <thead>\n",
       "    <tr style=\"text-align: right;\">\n",
       "      <th></th>\n",
       "      <th>name</th>\n",
       "      <th>return_rank</th>\n",
       "      <th>price_rank</th>\n",
       "      <th>yhat</th>\n",
       "      <th>return</th>\n",
       "      <th>kosdaq_return</th>\n",
       "      <th>close</th>\n",
       "      <th>min_yhat</th>\n",
       "      <th>loss_cut</th>\n",
       "      <th>profit_cut</th>\n",
       "    </tr>\n",
       "    <tr>\n",
       "      <th>code</th>\n",
       "      <th></th>\n",
       "      <th></th>\n",
       "      <th></th>\n",
       "      <th></th>\n",
       "      <th></th>\n",
       "      <th></th>\n",
       "      <th></th>\n",
       "      <th></th>\n",
       "      <th></th>\n",
       "      <th></th>\n",
       "    </tr>\n",
       "  </thead>\n",
       "  <tbody>\n",
       "    <tr>\n",
       "      <th>190650</th>\n",
       "      <td>코리아에셋투자증권</td>\n",
       "      <td>2</td>\n",
       "      <td>0</td>\n",
       "      <td>0.391540</td>\n",
       "      <td>0.954067</td>\n",
       "      <td>0.952763</td>\n",
       "      <td>9970</td>\n",
       "      <td>0.975891</td>\n",
       "      <td>0.97</td>\n",
       "      <td>1.05</td>\n",
       "    </tr>\n",
       "    <tr>\n",
       "      <th>043370</th>\n",
       "      <td>피에이치에이</td>\n",
       "      <td>2</td>\n",
       "      <td>0</td>\n",
       "      <td>0.377710</td>\n",
       "      <td>0.956120</td>\n",
       "      <td>0.952763</td>\n",
       "      <td>8280</td>\n",
       "      <td>0.975891</td>\n",
       "      <td>0.97</td>\n",
       "      <td>1.05</td>\n",
       "    </tr>\n",
       "    <tr>\n",
       "      <th>036800</th>\n",
       "      <td>나이스정보통신</td>\n",
       "      <td>2</td>\n",
       "      <td>0</td>\n",
       "      <td>0.370928</td>\n",
       "      <td>0.957219</td>\n",
       "      <td>0.952763</td>\n",
       "      <td>26850</td>\n",
       "      <td>0.975891</td>\n",
       "      <td>0.97</td>\n",
       "      <td>1.05</td>\n",
       "    </tr>\n",
       "    <tr>\n",
       "      <th>236200</th>\n",
       "      <td>슈프리마</td>\n",
       "      <td>2</td>\n",
       "      <td>0</td>\n",
       "      <td>0.370275</td>\n",
       "      <td>0.950673</td>\n",
       "      <td>0.952763</td>\n",
       "      <td>21200</td>\n",
       "      <td>0.975891</td>\n",
       "      <td>0.97</td>\n",
       "      <td>1.05</td>\n",
       "    </tr>\n",
       "    <tr>\n",
       "      <th>061040</th>\n",
       "      <td>알에프텍</td>\n",
       "      <td>2</td>\n",
       "      <td>0</td>\n",
       "      <td>0.366830</td>\n",
       "      <td>0.957096</td>\n",
       "      <td>0.952763</td>\n",
       "      <td>5800</td>\n",
       "      <td>0.975891</td>\n",
       "      <td>0.97</td>\n",
       "      <td>1.05</td>\n",
       "    </tr>\n",
       "  </tbody>\n",
       "</table>\n",
       "</div>"
      ],
      "text/plain": [
       "             name return_rank price_rank      yhat    return  kosdaq_return  \\\n",
       "code                                                                          \n",
       "190650  코리아에셋투자증권           2          0  0.391540  0.954067       0.952763   \n",
       "043370     피에이치에이           2          0  0.377710  0.956120       0.952763   \n",
       "036800    나이스정보통신           2          0  0.370928  0.957219       0.952763   \n",
       "236200       슈프리마           2          0  0.370275  0.950673       0.952763   \n",
       "061040       알에프텍           2          0  0.366830  0.957096       0.952763   \n",
       "\n",
       "        close  min_yhat  loss_cut  profit_cut  \n",
       "code                                           \n",
       "190650   9970  0.975891      0.97        1.05  \n",
       "043370   8280  0.975891      0.97        1.05  \n",
       "036800  26850  0.975891      0.97        1.05  \n",
       "236200  21200  0.975891      0.97        1.05  \n",
       "061040   5800  0.975891      0.97        1.05  "
      ]
     },
     "execution_count": 162,
     "metadata": {},
     "output_type": "execute_result"
    }
   ],
   "source": [
    "results.head()"
   ]
  },
  {
   "cell_type": "code",
   "execution_count": 159,
   "id": "c036241f-0022-4c92-9162-de5ecebe94e5",
   "metadata": {},
   "outputs": [],
   "source": [
    "def profit_loss_cut(x):\n",
    "    \n",
    "    if x <= 0.95: # 익절 손절 범위 축소\n",
    "        return 1.04, 0.98 \n",
    "    \n",
    "    elif x <= 0.98: \n",
    "        return 1.05, 0.97\n",
    "    \n",
    "    else: # 익절/손절범위 확대\n",
    "        return 1.06, 0.96\n",
    "    \n",
    "with open(\"rf.pkl\", \"rb\") as file:\n",
    "    rf = pickle.load(file)\n",
    "\n",
    "min_yhat = rf.predict(results[['return','kosdaq_return']])\n",
    "results['min_yhat'] = min_yhat \n",
    "\n",
    "p = results['min_yhat'].apply(profit_loss_cut)\n",
    "\n",
    "results['profit_cut'] = [p[0] for p in p]\n",
    "results['loss_cut'] =  [p[1] for p in p]\n",
    "\n",
    "select_dict = {}\n",
    "\n",
    "for code in list(results.index):\n",
    "    s = results.loc[code]\n",
    "    select_dict[code] = [s['name'], s['close'], s['profit_cut'], s['loss_cut']]    "
   ]
  },
  {
   "cell_type": "code",
   "execution_count": 160,
   "id": "3bb432e6-f6c9-456b-b149-922c3508b24b",
   "metadata": {},
   "outputs": [
    {
     "data": {
      "text/plain": [
       "{'190650': ['코리아에셋투자증권', 9970, 1.05, 0.97],\n",
       " '043370': ['피에이치에이', 8280, 1.05, 0.97],\n",
       " '036800': ['나이스정보통신', 26850, 1.05, 0.97],\n",
       " '236200': ['슈프리마', 21200, 1.05, 0.97],\n",
       " '061040': ['알에프텍', 5800, 1.05, 0.97],\n",
       " '040910': ['아이씨디', 9490, 1.05, 0.97],\n",
       " '222110': ['팬젠', 7300, 1.05, 0.97],\n",
       " '051390': ['YW', 3840, 1.05, 0.97],\n",
       " '238490': ['힘스', 7470, 1.05, 0.97],\n",
       " '072020': ['중앙백신', 13150, 1.05, 0.97],\n",
       " '008470': ['부스타', 5500, 1.05, 0.97],\n",
       " '099190': ['아이센스', 29500, 1.05, 0.97],\n",
       " '047770': ['코데즈컴바인', 2170, 1.05, 0.97],\n",
       " '043260': ['성호전자', 1520, 1.05, 0.97],\n",
       " '049630': ['재영솔루텍', 849, 1.05, 0.97],\n",
       " '109740': ['디에스케이', 5820, 1.05, 0.97],\n",
       " '131030': ['디에이치피코리아', 6770, 1.05, 0.97],\n",
       " '302430': ['이노메트리', 11950, 1.05, 0.97],\n",
       " '255440': ['야스', 11750, 1.05, 0.97],\n",
       " '035620': ['바른손이앤에이', 1225, 1.05, 0.97],\n",
       " '053350': ['이니텍', 4140, 1.05, 0.97],\n",
       " '214430': ['아이쓰리시스템', 19150, 1.05, 0.97],\n",
       " '106190': ['하이텍팜', 10150, 1.05, 0.97],\n",
       " '228850': ['레이언스', 10550, 1.05, 0.97],\n",
       " '036560': ['영풍정밀', 9050, 1.05, 0.97],\n",
       " '083550': ['케이엠', 7150, 1.05, 0.97],\n",
       " '004780': ['대륙제관', 4840, 1.05, 0.97],\n",
       " '058400': ['KNN', 1165, 1.05, 0.97],\n",
       " '264660': ['씨앤지하이테크', 12100, 1.05, 0.97],\n",
       " '105550': ['트루윈', 3200, 1.05, 0.97],\n",
       " '096690': ['에이루트', 464, 1.05, 0.97],\n",
       " '001540': ['안국약품', 9350, 1.05, 0.97],\n",
       " '065950': ['웰크론', 3705, 1.05, 0.97],\n",
       " '150900': ['파수', 9300, 1.05, 0.97],\n",
       " '122310': ['제노레이', 9200, 1.05, 0.97],\n",
       " '032190': ['다우데이타', 11950, 1.05, 0.97],\n",
       " '263810': ['상신전자', 3720, 1.05, 0.97],\n",
       " '153710': ['옵티팜', 8930, 1.05, 0.97],\n",
       " '238090': ['앤디포스', 7520, 1.05, 0.97]}"
      ]
     },
     "execution_count": 160,
     "metadata": {},
     "output_type": "execute_result"
    }
   ],
   "source": [
    "select_dict"
   ]
  },
  {
   "cell_type": "code",
   "execution_count": null,
   "id": "276bd444-5aa7-43e2-a695-110e781dabef",
   "metadata": {},
   "outputs": [],
   "source": []
  }
 ],
 "metadata": {
  "kernelspec": {
   "display_name": "Python 3 (ipykernel)",
   "language": "python",
   "name": "python3"
  },
  "language_info": {
   "codemirror_mode": {
    "name": "ipython",
    "version": 3
   },
   "file_extension": ".py",
   "mimetype": "text/x-python",
   "name": "python",
   "nbconvert_exporter": "python",
   "pygments_lexer": "ipython3",
   "version": "3.9.7"
  }
 },
 "nbformat": 4,
 "nbformat_minor": 5
}
