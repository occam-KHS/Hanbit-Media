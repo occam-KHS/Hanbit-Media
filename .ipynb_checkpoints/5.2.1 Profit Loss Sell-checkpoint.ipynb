{
 "cells": [
  {
   "cell_type": "code",
   "execution_count": 1,
   "id": "487b4b35-9efe-40c9-954e-4027e54cf817",
   "metadata": {},
   "outputs": [],
   "source": [
    "import FinanceDataReader as fdr\n",
    "import matplotlib.pyplot as plt\n",
    "%matplotlib inline\n",
    "import pandas as pd\n",
    "import numpy as np\n",
    "import datetime\n",
    "import pickle\n",
    "import glob"
   ]
  },
  {
   "cell_type": "markdown",
   "id": "3595e870-27e3-4b21-9d04-658f45279e02",
   "metadata": {},
   "source": [
    "<br> 이번에는 익절/손절라인을 결정할 수 있는 예측모델을 만들어 보겠습니다. 먼저 피쳐가 있는 데이터를 불러옵니다. "
   ]
  },
  {
   "cell_type": "code",
   "execution_count": 43,
   "id": "65f40bbd-21f3-4a09-9cd6-bf724679f28c",
   "metadata": {},
   "outputs": [
    {
     "name": "stdout",
     "output_type": "stream",
     "text": [
      "% of target: 24.3%\n"
     ]
    }
   ],
   "source": [
    "feature_all = pd.read_pickle('feature_all.pkl') \n",
    "feature_all['target'] = np.where(feature_all['max_close']>= 1.05, 1, 0)\n",
    "target = feature_all['target'].mean()\n",
    "print(f'% of target:{target: 5.1%}')"
   ]
  },
  {
   "cell_type": "markdown",
   "id": "e39169f0-f7bb-4de9-9ddf-1a6d36e1f198",
   "metadata": {},
   "source": [
    "<br> 날짜와 종목을 인덱스로 설정합니다. 데이터에 예측모델을 적용하고 매수 대상 종목을 select_top 이라는 DataFrame 에 저장합니다. "
   ]
  },
  {
   "cell_type": "code",
   "execution_count": 44,
   "id": "aec8b146-c04b-4d5a-b9d8-87637e9ca7a5",
   "metadata": {},
   "outputs": [],
   "source": [
    "mdl_all = feature_all.set_index([feature_all.index,'code'])\n",
    "\n",
    "with open(\"gam.pkl\", \"rb\") as file:\n",
    "    gam = pickle.load(file) \n",
    "\n",
    "feature_list = ['price_z','volume_z','num_high/close','num_win_market','pct_win_market','return over sector']\n",
    "X = mdl_all[feature_list]\n",
    "y = mdl_all['target']\n",
    "\n",
    "yhat = gam.predict_proba(X.to_numpy())\n",
    "yhat = pd.Series(yhat, name='yhat', index=y.index)\n",
    "\n",
    "mdl_all['yhat'] = yhat\n",
    "\n",
    "tops = mdl_all[mdl_all['yhat'] > 0.3].copy()\n",
    "\n",
    "tops['return_rank']  = pd.qcut(tops['return'], q=3, labels=range(3)) # 종가 수익률\n",
    "tops['price_rank']  = pd.qcut(tops['price_z'], q=3, labels=range(3)) # 가격 변동성\n",
    "\n",
    "select_tops = tops[(tops['return_rank']==2) & (tops['price_rank']==0)]"
   ]
  },
  {
   "cell_type": "markdown",
   "id": "7682142f-fdf7-4402-8029-ba32afae3363",
   "metadata": {},
   "source": [
    "<br> 최저 기대 수익율과 피쳐와의 상관계수를 조사합니다. 예상하지 못햇던 사실은 5 영업일 동안 최저 기대 수익률은 종목보다는 지수 수익률과 더 상관관계가 높습니다. "
   ]
  },
  {
   "cell_type": "code",
   "execution_count": 45,
   "id": "b14a6a3d-fe87-4e33-8ac5-96aaae90d555",
   "metadata": {},
   "outputs": [
    {
     "data": {
      "text/html": [
       "<div>\n",
       "<style scoped>\n",
       "    .dataframe tbody tr th:only-of-type {\n",
       "        vertical-align: middle;\n",
       "    }\n",
       "\n",
       "    .dataframe tbody tr th {\n",
       "        vertical-align: top;\n",
       "    }\n",
       "\n",
       "    .dataframe thead th {\n",
       "        text-align: right;\n",
       "    }\n",
       "</style>\n",
       "<table border=\"1\" class=\"dataframe\">\n",
       "  <thead>\n",
       "    <tr style=\"text-align: right;\">\n",
       "      <th></th>\n",
       "      <th>return</th>\n",
       "      <th>kosdaq_return</th>\n",
       "      <th>min_close</th>\n",
       "    </tr>\n",
       "  </thead>\n",
       "  <tbody>\n",
       "    <tr>\n",
       "      <th>return</th>\n",
       "      <td>1.000000</td>\n",
       "      <td>0.181246</td>\n",
       "      <td>-0.004027</td>\n",
       "    </tr>\n",
       "    <tr>\n",
       "      <th>kosdaq_return</th>\n",
       "      <td>0.181246</td>\n",
       "      <td>1.000000</td>\n",
       "      <td>0.194672</td>\n",
       "    </tr>\n",
       "    <tr>\n",
       "      <th>min_close</th>\n",
       "      <td>-0.004027</td>\n",
       "      <td>0.194672</td>\n",
       "      <td>1.000000</td>\n",
       "    </tr>\n",
       "  </tbody>\n",
       "</table>\n",
       "</div>"
      ],
      "text/plain": [
       "                 return  kosdaq_return  min_close\n",
       "return         1.000000       0.181246  -0.004027\n",
       "kosdaq_return  0.181246       1.000000   0.194672\n",
       "min_close     -0.004027       0.194672   1.000000"
      ]
     },
     "execution_count": 45,
     "metadata": {},
     "output_type": "execute_result"
    }
   ],
   "source": [
    "select_tops[['return','kosdaq_return','min_close']].corr()"
   ]
  },
  {
   "cell_type": "markdown",
   "id": "08f4bdcb-ad05-44d1-9865-48a5f19e1a6f",
   "metadata": {},
   "source": [
    "<br> 두 개의 피쳐 - 'return' 와 'kosdaq_return' 이용해서 단순한 예측모델을 구현합니다. 머신러닝 모델 중 가장 쉽게 접근할 수 있는 랜덤포레스트 회귀모형에 쉽게 빌드해 봅니다. 그래프를 보니 예측값이 기대 최저 수익률을 잘 따라가는 것으로 보입니다. "
   ]
  },
  {
   "cell_type": "code",
   "execution_count": 47,
   "id": "60eadfbf-4cde-4da3-be77-2012de2b21d5",
   "metadata": {},
   "outputs": [],
   "source": [
    "from sklearn.ensemble import RandomForestRegressor\n",
    "rf = RandomForestRegressor(max_depth=4, min_samples_leaf=30) # 정해진 하이퍼파라미터를 가진 객체를 생성\n",
    "\n",
    "X = select_tops[['return', 'kosdaq_return']]\n",
    "y = select_tops['min_close']\n",
    "\n",
    "rf.fit(X, y)\n",
    "yhat = rf.predict(X) # 최저 기대수익율 예측\n",
    "yhat = pd.Series(yhat, name='min_yhat', index=y.index) "
   ]
  },
  {
   "cell_type": "code",
   "execution_count": 59,
   "id": "2a4a6922-7e87-4176-a50d-6eee82617d67",
   "metadata": {},
   "outputs": [
    {
     "name": "stdout",
     "output_type": "stream",
     "text": [
      "min_yhat\n",
      "(0.913, 0.954]    0.938265\n",
      "(0.954, 0.981]    0.967607\n",
      "(0.981, 1.03]     1.005554\n",
      "Name: min_close, dtype: float64\n"
     ]
    },
    {
     "data": {
      "image/png": "[encoded data removed]",
      "text/plain": [
       "<Figure size 432x288 with 1 Axes>"
      ]
     },
     "metadata": {
      "needs_background": "light"
     },
     "output_type": "display_data"
    }
   ],
   "source": [
    "def perf(y, yhat): # 20 Percentile 분석\n",
    "    combined = pd.concat([y, yhat], axis=1)\n",
    "    ranks = pd.qcut(combined['min_yhat'], q=3)\n",
    "    print(combined.groupby(ranks)['min_close'].mean())\n",
    "    combined.groupby(ranks)['min_close'].mean().plot()\n",
    "\n",
    "perf(y, yhat)"
   ]
  },
  {
   "cell_type": "markdown",
   "id": "9fde19d5-7ec4-465e-8c80-6a71b7bd5471",
   "metadata": {},
   "source": [
    "<br> 만들어진 모델을 pickle 파일로 저장하고, 최소 기대 수익률에 손절라인을 반환하는 함수를 만듭니다."
   ]
  },
  {
   "cell_type": "code",
   "execution_count": 60,
   "id": "daf83e60-bb72-44bc-9b5d-41a211606eb7",
   "metadata": {},
   "outputs": [],
   "source": [
    "import pickle\n",
    "with open(\"rf.pkl\", \"wb\") as file:\n",
    "    pickle.dump(rf, file)    \n",
    "    \n",
    "with open(\"rf.pkl\", \"rb\") as file:\n",
    "    rf = pickle.load(file)     "
   ]
  },
  {
   "cell_type": "markdown",
   "id": "2c4c711c-79f8-4dfd-a5d9-9d64b8a4e2df",
   "metadata": {},
   "source": [
    "<br> 위 최소 기대 수익률 값에 따라 아래와 같이 익절/손절 라인을 변동할 수 있도록 합니다. 아래 함수는 익절 수익률과 손절 수익률을 딕셔너리로 반환합니다."
   ]
  },
  {
   "cell_type": "code",
   "execution_count": 42,
   "id": "13389048-35e4-400d-88b0-bf771b9faa0a",
   "metadata": {},
   "outputs": [],
   "source": [
    "def profit_loss_cut(x):\n",
    "    \n",
    "    if x <= 0.95: # 익절 손절 범위 축소\n",
    "        return {1.04, 0.98} \n",
    "    \n",
    "    elif x <= 0.98: \n",
    "        return {1.05, 0.97}\n",
    "    \n",
    "    else: # 익절/손절범위 확대\n",
    "        return {1.06, 0.96}"
   ]
  },
  {
   "cell_type": "code",
   "execution_count": null,
   "id": "9d4fed53-e9e2-423b-9fb3-dcb0715e8532",
   "metadata": {},
   "outputs": [],
   "source": []
  }
 ],
 "metadata": {
  "kernelspec": {
   "display_name": "Python 3 (ipykernel)",
   "language": "python",
   "name": "python3"
  },
  "language_info": {
   "codemirror_mode": {
    "name": "ipython",
    "version": 3
   },
   "file_extension": ".py",
   "mimetype": "text/x-python",
   "name": "python",
   "nbconvert_exporter": "python",
   "pygments_lexer": "ipython3",
   "version": "3.9.7"
  }
 },
 "nbformat": 4,
 "nbformat_minor": 5
}
