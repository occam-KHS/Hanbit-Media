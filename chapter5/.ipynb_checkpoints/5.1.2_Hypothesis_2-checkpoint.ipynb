{
 "cells": [
  {
   "cell_type": "code",
   "execution_count": 1,
   "metadata": {},
   "outputs": [],
   "source": [
    "import FinanceDataReader as fdr\n",
    "%matplotlib inline\n",
    "import matplotlib.pyplot as plt\n",
    "import pandas as pd\n",
    "import numpy as np\n",
    "import warnings\n",
    "warnings.filterwarnings('ignore')\n",
    "\n",
    "pd.options.display.float_format = '{:,.3f}'.format"
   ]
  },
  {
   "cell_type": "markdown",
   "metadata": {},
   "source": [
    "### 5일 이동 평균선이 오늘 종가보다 위에 위치해 있다.    \n",
    "rolling(5) 을 이용하여 이동평균선을 만듭니다. 그리고 당일의 종가보다 크면, 1 아니면 0 인 변수 'flag' 을 생성합니다. 이 가설은 검증이 쉬운 것 같습니다."
   ]
  },
  {
   "cell_type": "code",
   "execution_count": 3,
   "metadata": {},
   "outputs": [
    {
     "data": {
      "text/html": [
       "<style type=\"text/css\">\n",
       "</style>\n",
       "<table id=\"T_ff109_\" style=\"font-size: 10px\">\n",
       "  <thead>\n",
       "    <tr>\n",
       "      <th class=\"blank level0\" >&nbsp;</th>\n",
       "      <th class=\"col_heading level0 col0\" >open</th>\n",
       "      <th class=\"col_heading level0 col1\" >high</th>\n",
       "      <th class=\"col_heading level0 col2\" >low</th>\n",
       "      <th class=\"col_heading level0 col3\" >close</th>\n",
       "      <th class=\"col_heading level0 col4\" >volume</th>\n",
       "      <th class=\"col_heading level0 col5\" >change</th>\n",
       "      <th class=\"col_heading level0 col6\" >code</th>\n",
       "      <th class=\"col_heading level0 col7\" >name</th>\n",
       "      <th class=\"col_heading level0 col8\" >kosdaq_return</th>\n",
       "      <th class=\"col_heading level0 col9\" >return</th>\n",
       "      <th class=\"col_heading level0 col10\" >win_market</th>\n",
       "      <th class=\"col_heading level0 col11\" >close_r1</th>\n",
       "      <th class=\"col_heading level0 col12\" >close_r2</th>\n",
       "      <th class=\"col_heading level0 col13\" >close_r3</th>\n",
       "      <th class=\"col_heading level0 col14\" >close_r4</th>\n",
       "      <th class=\"col_heading level0 col15\" >close_r5</th>\n",
       "      <th class=\"col_heading level0 col16\" >max_close</th>\n",
       "    </tr>\n",
       "  </thead>\n",
       "  <tbody>\n",
       "    <tr>\n",
       "      <th id=\"T_ff109_level0_row0\" class=\"row_heading level0 row0\" >2021-01-05</th>\n",
       "      <td id=\"T_ff109_row0_col0\" class=\"data row0 col0\" >2270</td>\n",
       "      <td id=\"T_ff109_row0_col1\" class=\"data row0 col1\" >2285</td>\n",
       "      <td id=\"T_ff109_row0_col2\" class=\"data row0 col2\" >2200</td>\n",
       "      <td id=\"T_ff109_row0_col3\" class=\"data row0 col3\" >2250</td>\n",
       "      <td id=\"T_ff109_row0_col4\" class=\"data row0 col4\" >410263</td>\n",
       "      <td id=\"T_ff109_row0_col5\" class=\"data row0 col5\" >-0.004425</td>\n",
       "      <td id=\"T_ff109_row0_col6\" class=\"data row0 col6\" >060310</td>\n",
       "      <td id=\"T_ff109_row0_col7\" class=\"data row0 col7\" >3S</td>\n",
       "      <td id=\"T_ff109_row0_col8\" class=\"data row0 col8\" >1.008326</td>\n",
       "      <td id=\"T_ff109_row0_col9\" class=\"data row0 col9\" >0.995575</td>\n",
       "      <td id=\"T_ff109_row0_col10\" class=\"data row0 col10\" >0</td>\n",
       "      <td id=\"T_ff109_row0_col11\" class=\"data row0 col11\" >1.017778</td>\n",
       "      <td id=\"T_ff109_row0_col12\" class=\"data row0 col12\" >1.017778</td>\n",
       "      <td id=\"T_ff109_row0_col13\" class=\"data row0 col13\" >0.997778</td>\n",
       "      <td id=\"T_ff109_row0_col14\" class=\"data row0 col14\" >0.966667</td>\n",
       "      <td id=\"T_ff109_row0_col15\" class=\"data row0 col15\" >0.971111</td>\n",
       "      <td id=\"T_ff109_row0_col16\" class=\"data row0 col16\" >1.017778</td>\n",
       "    </tr>\n",
       "    <tr>\n",
       "      <th id=\"T_ff109_level0_row1\" class=\"row_heading level0 row1\" >2021-01-06</th>\n",
       "      <td id=\"T_ff109_row1_col0\" class=\"data row1 col0\" >2225</td>\n",
       "      <td id=\"T_ff109_row1_col1\" class=\"data row1 col1\" >2310</td>\n",
       "      <td id=\"T_ff109_row1_col2\" class=\"data row1 col2\" >2215</td>\n",
       "      <td id=\"T_ff109_row1_col3\" class=\"data row1 col3\" >2290</td>\n",
       "      <td id=\"T_ff109_row1_col4\" class=\"data row1 col4\" >570349</td>\n",
       "      <td id=\"T_ff109_row1_col5\" class=\"data row1 col5\" >0.017778</td>\n",
       "      <td id=\"T_ff109_row1_col6\" class=\"data row1 col6\" >060310</td>\n",
       "      <td id=\"T_ff109_row1_col7\" class=\"data row1 col7\" >3S</td>\n",
       "      <td id=\"T_ff109_row1_col8\" class=\"data row1 col8\" >0.995567</td>\n",
       "      <td id=\"T_ff109_row1_col9\" class=\"data row1 col9\" >1.017778</td>\n",
       "      <td id=\"T_ff109_row1_col10\" class=\"data row1 col10\" >1</td>\n",
       "      <td id=\"T_ff109_row1_col11\" class=\"data row1 col11\" >1.000000</td>\n",
       "      <td id=\"T_ff109_row1_col12\" class=\"data row1 col12\" >0.980349</td>\n",
       "      <td id=\"T_ff109_row1_col13\" class=\"data row1 col13\" >0.949782</td>\n",
       "      <td id=\"T_ff109_row1_col14\" class=\"data row1 col14\" >0.954148</td>\n",
       "      <td id=\"T_ff109_row1_col15\" class=\"data row1 col15\" >0.949782</td>\n",
       "      <td id=\"T_ff109_row1_col16\" class=\"data row1 col16\" >1.000000</td>\n",
       "    </tr>\n",
       "    <tr>\n",
       "      <th id=\"T_ff109_level0_row2\" class=\"row_heading level0 row2\" >2021-01-07</th>\n",
       "      <td id=\"T_ff109_row2_col0\" class=\"data row2 col0\" >2290</td>\n",
       "      <td id=\"T_ff109_row2_col1\" class=\"data row2 col1\" >2340</td>\n",
       "      <td id=\"T_ff109_row2_col2\" class=\"data row2 col2\" >2240</td>\n",
       "      <td id=\"T_ff109_row2_col3\" class=\"data row2 col3\" >2290</td>\n",
       "      <td id=\"T_ff109_row2_col4\" class=\"data row2 col4\" >519777</td>\n",
       "      <td id=\"T_ff109_row2_col5\" class=\"data row2 col5\" >0.000000</td>\n",
       "      <td id=\"T_ff109_row2_col6\" class=\"data row2 col6\" >060310</td>\n",
       "      <td id=\"T_ff109_row2_col7\" class=\"data row2 col7\" >3S</td>\n",
       "      <td id=\"T_ff109_row2_col8\" class=\"data row2 col8\" >1.007612</td>\n",
       "      <td id=\"T_ff109_row2_col9\" class=\"data row2 col9\" >1.000000</td>\n",
       "      <td id=\"T_ff109_row2_col10\" class=\"data row2 col10\" >0</td>\n",
       "      <td id=\"T_ff109_row2_col11\" class=\"data row2 col11\" >0.980349</td>\n",
       "      <td id=\"T_ff109_row2_col12\" class=\"data row2 col12\" >0.949782</td>\n",
       "      <td id=\"T_ff109_row2_col13\" class=\"data row2 col13\" >0.954148</td>\n",
       "      <td id=\"T_ff109_row2_col14\" class=\"data row2 col14\" >0.949782</td>\n",
       "      <td id=\"T_ff109_row2_col15\" class=\"data row2 col15\" >0.958515</td>\n",
       "      <td id=\"T_ff109_row2_col16\" class=\"data row2 col16\" >0.980349</td>\n",
       "    </tr>\n",
       "    <tr>\n",
       "      <th id=\"T_ff109_level0_row3\" class=\"row_heading level0 row3\" >2021-01-08</th>\n",
       "      <td id=\"T_ff109_row3_col0\" class=\"data row3 col0\" >2300</td>\n",
       "      <td id=\"T_ff109_row3_col1\" class=\"data row3 col1\" >2315</td>\n",
       "      <td id=\"T_ff109_row3_col2\" class=\"data row3 col2\" >2225</td>\n",
       "      <td id=\"T_ff109_row3_col3\" class=\"data row3 col3\" >2245</td>\n",
       "      <td id=\"T_ff109_row3_col4\" class=\"data row3 col4\" >462568</td>\n",
       "      <td id=\"T_ff109_row3_col5\" class=\"data row3 col5\" >-0.019651</td>\n",
       "      <td id=\"T_ff109_row3_col6\" class=\"data row3 col6\" >060310</td>\n",
       "      <td id=\"T_ff109_row3_col7\" class=\"data row3 col7\" >3S</td>\n",
       "      <td id=\"T_ff109_row3_col8\" class=\"data row3 col8\" >0.998918</td>\n",
       "      <td id=\"T_ff109_row3_col9\" class=\"data row3 col9\" >0.980349</td>\n",
       "      <td id=\"T_ff109_row3_col10\" class=\"data row3 col10\" >0</td>\n",
       "      <td id=\"T_ff109_row3_col11\" class=\"data row3 col11\" >0.968820</td>\n",
       "      <td id=\"T_ff109_row3_col12\" class=\"data row3 col12\" >0.973274</td>\n",
       "      <td id=\"T_ff109_row3_col13\" class=\"data row3 col13\" >0.968820</td>\n",
       "      <td id=\"T_ff109_row3_col14\" class=\"data row3 col14\" >0.977728</td>\n",
       "      <td id=\"T_ff109_row3_col15\" class=\"data row3 col15\" >0.973274</td>\n",
       "      <td id=\"T_ff109_row3_col16\" class=\"data row3 col16\" >0.977728</td>\n",
       "    </tr>\n",
       "    <tr>\n",
       "      <th id=\"T_ff109_level0_row4\" class=\"row_heading level0 row4\" >2021-01-11</th>\n",
       "      <td id=\"T_ff109_row4_col0\" class=\"data row4 col0\" >2230</td>\n",
       "      <td id=\"T_ff109_row4_col1\" class=\"data row4 col1\" >2275</td>\n",
       "      <td id=\"T_ff109_row4_col2\" class=\"data row4 col2\" >2130</td>\n",
       "      <td id=\"T_ff109_row4_col3\" class=\"data row4 col3\" >2175</td>\n",
       "      <td id=\"T_ff109_row4_col4\" class=\"data row4 col4\" >409057</td>\n",
       "      <td id=\"T_ff109_row4_col5\" class=\"data row4 col5\" >-0.031180</td>\n",
       "      <td id=\"T_ff109_row4_col6\" class=\"data row4 col6\" >060310</td>\n",
       "      <td id=\"T_ff109_row4_col7\" class=\"data row4 col7\" >3S</td>\n",
       "      <td id=\"T_ff109_row4_col8\" class=\"data row4 col8\" >0.988702</td>\n",
       "      <td id=\"T_ff109_row4_col9\" class=\"data row4 col9\" >0.968820</td>\n",
       "      <td id=\"T_ff109_row4_col10\" class=\"data row4 col10\" >0</td>\n",
       "      <td id=\"T_ff109_row4_col11\" class=\"data row4 col11\" >1.004598</td>\n",
       "      <td id=\"T_ff109_row4_col12\" class=\"data row4 col12\" >1.000000</td>\n",
       "      <td id=\"T_ff109_row4_col13\" class=\"data row4 col13\" >1.009195</td>\n",
       "      <td id=\"T_ff109_row4_col14\" class=\"data row4 col14\" >1.004598</td>\n",
       "      <td id=\"T_ff109_row4_col15\" class=\"data row4 col15\" >1.002299</td>\n",
       "      <td id=\"T_ff109_row4_col16\" class=\"data row4 col16\" >1.009195</td>\n",
       "    </tr>\n",
       "  </tbody>\n",
       "</table>\n"
      ],
      "text/plain": [
       "<pandas.io.formats.style.Styler at 0x191eadfda60>"
      ]
     },
     "execution_count": 3,
     "metadata": {},
     "output_type": "execute_result"
    }
   ],
   "source": [
    "mdl_data = pd.read_pickle('mdl_data.pkl')\n",
    "mdl_data.head().style.set_table_attributes('style=\"font-size: 10px\"')"
   ]
  },
  {
   "cell_type": "code",
   "execution_count": 4,
   "metadata": {},
   "outputs": [],
   "source": [
    "kosdaq_list = pd.read_pickle('kosdaq_list.pkl')\n",
    "\n",
    "data_h2 = pd.DataFrame()\n",
    "\n",
    "for code in kosdaq_list['code']:\n",
    "\n",
    "    data = mdl_data[mdl_data['code']==code].sort_index().copy()\n",
    "    \n",
    "    data['5day_ma'] = data['close'].rolling(5).mean() # 5일 이동평균선\n",
    "    data['flag'] = (data['close'] < data['5day_ma']).astype(int) # 5일 이동평균선이 종가보다 크면 1, 아니면 0\n",
    "\n",
    "       \n",
    "    data['max_close']  = data[['close_r1','close_r2','close_r3','close_r4','close_r5']].max(axis=1) # 5 영업일 종가 수익율 중 최고 값\n",
    "    data.dropna(subset=['5day_ma','close_r1','close_r2','close_r3','close_r4','close_r5'], inplace=True) # missing 이 있는 행은 제거  \n",
    "    \n",
    "    data_h2 = pd.concat([data, data_h2], axis=0)\n",
    "\n",
    "data_h2.to_pickle('data_h2.pkl')  "
   ]
  },
  {
   "cell_type": "markdown",
   "metadata": {},
   "source": [
    "<br> 'flag' 가 0 인 경우와 1 인 경우를 비교해보니 이 가설은 데이터가 강하게 뒷받침하지 못하고 있습니다. "
   ]
  },
  {
   "cell_type": "code",
   "execution_count": 5,
   "metadata": {},
   "outputs": [
    {
     "data": {
      "text/html": [
       "<div>\n",
       "<style scoped>\n",
       "    .dataframe tbody tr th:only-of-type {\n",
       "        vertical-align: middle;\n",
       "    }\n",
       "\n",
       "    .dataframe tbody tr th {\n",
       "        vertical-align: top;\n",
       "    }\n",
       "\n",
       "    .dataframe thead th {\n",
       "        text-align: right;\n",
       "    }\n",
       "</style>\n",
       "<table border=\"1\" class=\"dataframe\">\n",
       "  <thead>\n",
       "    <tr style=\"text-align: right;\">\n",
       "      <th></th>\n",
       "      <th>count</th>\n",
       "      <th>mean</th>\n",
       "      <th>std</th>\n",
       "      <th>min</th>\n",
       "      <th>25%</th>\n",
       "      <th>50%</th>\n",
       "      <th>75%</th>\n",
       "      <th>max</th>\n",
       "    </tr>\n",
       "    <tr>\n",
       "      <th>flag</th>\n",
       "      <th></th>\n",
       "      <th></th>\n",
       "      <th></th>\n",
       "      <th></th>\n",
       "      <th></th>\n",
       "      <th></th>\n",
       "      <th></th>\n",
       "      <th></th>\n",
       "    </tr>\n",
       "  </thead>\n",
       "  <tbody>\n",
       "    <tr>\n",
       "      <th>0</th>\n",
       "      <td>210,413.000</td>\n",
       "      <td>1.032</td>\n",
       "      <td>0.077</td>\n",
       "      <td>0.326</td>\n",
       "      <td>1.000</td>\n",
       "      <td>1.012</td>\n",
       "      <td>1.044</td>\n",
       "      <td>3.703</td>\n",
       "    </tr>\n",
       "    <tr>\n",
       "      <th>1</th>\n",
       "      <td>211,624.000</td>\n",
       "      <td>1.034</td>\n",
       "      <td>0.068</td>\n",
       "      <td>0.700</td>\n",
       "      <td>0.999</td>\n",
       "      <td>1.019</td>\n",
       "      <td>1.052</td>\n",
       "      <td>3.139</td>\n",
       "    </tr>\n",
       "  </tbody>\n",
       "</table>\n",
       "</div>"
      ],
      "text/plain": [
       "           count  mean   std   min   25%   50%   75%   max\n",
       "flag                                                      \n",
       "0    210,413.000 1.032 0.077 0.326 1.000 1.012 1.044 3.703\n",
       "1    211,624.000 1.034 0.068 0.700 0.999 1.019 1.052 3.139"
      ]
     },
     "execution_count": 5,
     "metadata": {},
     "output_type": "execute_result"
    }
   ],
   "source": [
    "data_h2 = pd.read_pickle('data_h2.pkl')\n",
    "data_h2.groupby('flag')['max_close'].describe()"
   ]
  },
  {
   "cell_type": "markdown",
   "metadata": {},
   "source": [
    " T-Test 를 해보겠습니다. T-Test 는 두 집단의 평균이 서로 유의미하게 다른 지 확인하는 검정입니다. 귀무가설이 \"두 집단의 평균이 같다\" 이기 때문에,  p -value 가 유의수준(0.01) 보다 작으면 귀무가설을 기각합니다. 결과를 보니 P-Value 가 유의수준(0.01) 보다 큽니다. 따라서 귀무가설을 기각할 수 없습니다. 즉, flag 가 0 인 집단과 1 인 집단간의 차가 유의미하지 않은 것으로 판단됩니다. 왜 각 집단에서 샘플을 200 개만 뽑아서 테스트를 하는 지 궁금한 독자도 있으실 것 같습니다. 통계 검정은 샘플의 수가 많아지면 p value 가 작게 나오는 경향이 있습니다. 그렇게 되면 유의미하게 차이가 없는데도, 서로 다르다고 통계 결과가 나오게됩니다. "
   ]
  },
  {
   "cell_type": "code",
   "execution_count": 6,
   "metadata": {},
   "outputs": [
    {
     "data": {
      "text/plain": [
       "Ttest_indResult(statistic=0.2668171714783188, pvalue=0.7897642485643188)"
      ]
     },
     "execution_count": 6,
     "metadata": {},
     "output_type": "execute_result"
    }
   ],
   "source": [
    "from scipy import stats\n",
    "a = data_h2[data_h2['flag']==0]['max_close'].sample(200)\n",
    "b = data_h2[data_h2['flag']==1]['max_close'].sample(200)\n",
    "\n",
    "stats.ttest_ind(a, b, equal_var=False)"
   ]
  },
  {
   "cell_type": "markdown",
   "metadata": {},
   "source": [
    "<br> 위 가설은 비교적 증명하기가 쉬웠습니다. 이번에는 5일선과 20일 이동평균선이 만나는 골든크로스에서 매수를 하면 어떤지 보겠습니다. 골든 크로스에서 매수한다고 더 좋은 수익율을 보장하지 않는 것 같습니다."
   ]
  },
  {
   "cell_type": "code",
   "execution_count": 7,
   "metadata": {},
   "outputs": [],
   "source": [
    "kosdaq_list = pd.read_pickle('kosdaq_list.pkl')\n",
    "\n",
    "data_h2 = pd.DataFrame()\n",
    "\n",
    "for code in kosdaq_list['code']:\n",
    "\n",
    "    data = mdl_data[mdl_data['code']==code].sort_index().copy()\n",
    "    data['5day_ma'] = data['close'].rolling(5).mean()\n",
    "    data['20day_ma'] = data['close'].rolling(20).mean()\n",
    "    data['g_cross'] = (data['5day_ma'].shift(1) < data['20day_ma'].shift(1))*(data['5day_ma'] > data['20day_ma']).astype(int) # 5일선이 20일 이동평균선보다 작았다가 커지는 시점\n",
    "       \n",
    "    data['max_close']  = data[['close_r1','close_r2','close_r3','close_r4','close_r5']].max(axis=1) # 5 영업일 종가 수익율 중 최고 값\n",
    "    data.dropna(subset=['5day_ma','20day_ma','g_cross','close_r1','close_r2','close_r3','close_r4','close_r5'], inplace=True) # missing 이 있는 행은 제거  \n",
    "    \n",
    "    data_h2 = pd.concat([data, data_h2], axis=0)\n",
    "\n",
    "data_h2.to_pickle('data_h2.pkl')  "
   ]
  },
  {
   "cell_type": "code",
   "execution_count": 8,
   "metadata": {},
   "outputs": [
    {
     "data": {
      "text/html": [
       "<div>\n",
       "<style scoped>\n",
       "    .dataframe tbody tr th:only-of-type {\n",
       "        vertical-align: middle;\n",
       "    }\n",
       "\n",
       "    .dataframe tbody tr th {\n",
       "        vertical-align: top;\n",
       "    }\n",
       "\n",
       "    .dataframe thead th {\n",
       "        text-align: right;\n",
       "    }\n",
       "</style>\n",
       "<table border=\"1\" class=\"dataframe\">\n",
       "  <thead>\n",
       "    <tr style=\"text-align: right;\">\n",
       "      <th></th>\n",
       "      <th>count</th>\n",
       "      <th>mean</th>\n",
       "      <th>std</th>\n",
       "      <th>min</th>\n",
       "      <th>25%</th>\n",
       "      <th>50%</th>\n",
       "      <th>75%</th>\n",
       "      <th>max</th>\n",
       "    </tr>\n",
       "    <tr>\n",
       "      <th>g_cross</th>\n",
       "      <th></th>\n",
       "      <th></th>\n",
       "      <th></th>\n",
       "      <th></th>\n",
       "      <th></th>\n",
       "      <th></th>\n",
       "      <th></th>\n",
       "      <th></th>\n",
       "    </tr>\n",
       "  </thead>\n",
       "  <tbody>\n",
       "    <tr>\n",
       "      <th>0</th>\n",
       "      <td>388,541.000</td>\n",
       "      <td>1.032</td>\n",
       "      <td>0.071</td>\n",
       "      <td>0.326</td>\n",
       "      <td>1.000</td>\n",
       "      <td>1.015</td>\n",
       "      <td>1.048</td>\n",
       "      <td>3.703</td>\n",
       "    </tr>\n",
       "    <tr>\n",
       "      <th>1</th>\n",
       "      <td>12,181.000</td>\n",
       "      <td>1.033</td>\n",
       "      <td>0.080</td>\n",
       "      <td>0.700</td>\n",
       "      <td>0.997</td>\n",
       "      <td>1.015</td>\n",
       "      <td>1.047</td>\n",
       "      <td>2.852</td>\n",
       "    </tr>\n",
       "  </tbody>\n",
       "</table>\n",
       "</div>"
      ],
      "text/plain": [
       "              count  mean   std   min   25%   50%   75%   max\n",
       "g_cross                                                      \n",
       "0       388,541.000 1.032 0.071 0.326 1.000 1.015 1.048 3.703\n",
       "1        12,181.000 1.033 0.080 0.700 0.997 1.015 1.047 2.852"
      ]
     },
     "execution_count": 8,
     "metadata": {},
     "output_type": "execute_result"
    }
   ],
   "source": [
    "data_h2 = pd.read_pickle('data_h2.pkl')\n",
    "data_h2.groupby('g_cross')['max_close'].describe()"
   ]
  },
  {
   "cell_type": "code",
   "execution_count": null,
   "metadata": {},
   "outputs": [],
   "source": []
  }
 ],
 "metadata": {
  "kernelspec": {
   "display_name": "Python 3 (ipykernel)",
   "language": "python",
   "name": "python3"
  },
  "language_info": {
   "codemirror_mode": {
    "name": "ipython",
    "version": 3
   },
   "file_extension": ".py",
   "mimetype": "text/x-python",
   "name": "python",
   "nbconvert_exporter": "python",
   "pygments_lexer": "ipython3",
   "version": "3.9.7"
  }
 },
 "nbformat": 4,
 "nbformat_minor": 4
}
