{
 "cells": [
  {
   "cell_type": "code",
   "execution_count": 2,
   "id": "9eaf805d-22ef-4d9e-826b-dec519819fff",
   "metadata": {},
   "outputs": [],
   "source": [
    "import FinanceDataReader as fdr\n",
    "%matplotlib inline\n",
    "import matplotlib.pyplot as plt\n",
    "import pandas as pd\n",
    "import numpy as np\n",
    "import warnings\n",
    "import pickle\n",
    "warnings.filterwarnings('ignore')\n",
    "pd.options.display.float_format = '{:,.3f}'.format"
   ]
  },
  {
   "cell_type": "markdown",
   "id": "e50b0c04-04ae-4c62-9c50-e746d1114d30",
   "metadata": {},
   "source": [
    "### 종목 선정 모델 개발     \n",
    "\n",
    "선형모델에 대한 중요한 가정과 설명은 다음 절에서 추가로 설명드리겠으나,  수익률에 따라 단조 증가나 감소의 형태를 보이지 않는 피쳐(설명변수)는 변형을 해야 선형모형에서 더 유의미하게 사용될 수 있습니다.  주로 Binning (오름차순으로 정렬 후, 여러개 구간으로 분리) 을 통하여 이런 비선형적인 관계를 선형적으로 변경합니다. 2차 함수나 로그함수 등을 이용해 선형적으로 변경할 수 도 있습니다. 우리는 앞서 수익율과 피쳐사이에 선형적인 관계를 가지지 않는 가설(예: 섹터의 평균 수익률 대비 종목 수익률)들 이 있었습니다. 이런 피처들에 대하여 Binning 없이 적합할 수 있는 모델이 일반화가법모형(Generalized Additive Model) 입니다. 또한 가설 검정에서는 5 영업일 동안의 최대 수익률을 예측변수로 이용했으나, 모델의 overfitting (과대적합) 문제를 최소화하기 위하여, 예측값을 이진값(0/1)으로 치환한 후, 로지스틱 일반화가법모형(Logistic Generalized Additive Model) 을 구현합니다. 로지스틱 회귀모형은 $log(odds) = a0 + a1*x1 + a2*x2 …$  으로 표현할 수 있는데요. 여기서 X 를 여러개의 spline 로 함수로 만든 후, 다시 합하여 X 와 $log(odds)$ 의  비선형적관계를 표현할 수 있도록 한 것이  Logistic GAM 입니다.  이 모델의 구현은 Statsmodels 에서 가능합니다만, pyGAM 패키지는 자동으로 하이퍼파라미터를 찾는 기능이 있어 편리합니다. GAM 을 선택한 다른 이유는 피처사이에 상호작용이 크지 않을 것이라는 가정이 있습니다. 무엇보다도 좋은 점은 모델이 왜 이 종목을 선택했는지에 대한 해석이 가능합니다. 향후, 모델의 예측력이 저하되는 경우 어떤 피처가 원인인지도 파악이 가능합니다. \n",
    "\n",
    "단순히, 스코어가 높은 모든 종목을 매수하는 것이 아니라,  오늘의 종가 수익률과 주가를 고려하여 기본적인 필터링을 합니다. 분석결과 종가 수익률은 높고, 최근 20일 대비 가격이 낮은 종목을 매수하면 리스크가 적은 것으로 판단됩니다."
   ]
  },
  {
   "cell_type": "markdown",
   "id": "a0230e0c-2861-4b84-ac53-9810c1843962",
   "metadata": {},
   "source": [
    "이번절에서는 책에서 종목선정을 위해 사용할 GAM 모델을 개발하겠습니다. 아나콘다 프롬프트에서 conda install -c conda-forge pygam 로 설치를 해 줍니다. 관련 링크 https://anaconda.org/conda-forge/pygam\n",
    "\n",
    "모델링을 위해 준비한 데이터를 읽습니다. 그리고 모델의 오버피팅을 최소화하기 위하여 타겟변수를 0 과 1 로 치환합니다. 5% 익절은 다음과 같이 데이터로 표현할 수 있습니다. - 'max_close' 가 5% 이상일 때 1, 아니면 0. 파이썬 코드는 아래와 같습니다.\n",
    "```python\n",
    "np.where(feature_all['max_close']>= 1.05, 1, 0)\n",
    "``` \n",
    "타겟 변수 - 'target' 값이 1 인 비율을 보니, 약 24% 입니다. 타겟변수의 비율이 너무 적으면 모델 트레이닝이 어렵습니다. "
   ]
  },
  {
   "cell_type": "code",
   "execution_count": 3,
   "id": "43914ce5-ea0c-40cb-be18-c067381987b5",
   "metadata": {},
   "outputs": [
    {
     "name": "stdout",
     "output_type": "stream",
     "text": [
      "% of target: 24.3%\n"
     ]
    }
   ],
   "source": [
    "feature_all = pd.read_pickle('feature_all.pkl') \n",
    "feature_all['target'] = np.where(feature_all['max_close']>= 1.05, 1, 0)\n",
    "target = feature_all['target'].mean()\n",
    "print(f'% of target:{target: 5.1%}')"
   ]
  },
  {
   "cell_type": "markdown",
   "id": "a39b2e28-574c-439b-9107-3580639abcef",
   "metadata": {},
   "source": [
    "<br> 날짜와 종목은 모델의 입력피처가 아닙니다. 편의를 위해 제거하거나 인덱스로 처리합니다. 모델 트레이닝 용도로 10,000 개 샘플을 뽑아 예측모델을 만들고, 나머지 데이터는 테스트(혹은 백테스팅)를 하겠습니다.  "
   ]
  },
  {
   "cell_type": "code",
   "execution_count": 4,
   "id": "069b37d6-d13b-4a5f-8755-46c74ac203b7",
   "metadata": {},
   "outputs": [
    {
     "name": "stdout",
     "output_type": "stream",
     "text": [
      "10000 319307\n"
     ]
    }
   ],
   "source": [
    "mdl_all = feature_all.set_index([feature_all.index,'code'])\n",
    "\n",
    "train = mdl_all.sample(10000, random_state=124)\n",
    "test = mdl_all.loc[~mdl_all.index.isin(train.index)]\n",
    "print(len(train), len(test))"
   ]
  },
  {
   "cell_type": "markdown",
   "id": "782dfd75-f337-4986-8b8c-faf408ddb266",
   "metadata": {},
   "source": [
    "입력 피처의 갯수와 데이터타입을 확인합니다."
   ]
  },
  {
   "cell_type": "code",
   "execution_count": 5,
   "id": "271c1508-942d-4307-bfcc-e76b3fa54f18",
   "metadata": {},
   "outputs": [
    {
     "name": "stdout",
     "output_type": "stream",
     "text": [
      "<class 'pandas.core.frame.DataFrame'>\n",
      "MultiIndex: 10000 entries, ('2021-10-22', '312610') to ('2021-04-28', '011320')\n",
      "Data columns (total 15 columns):\n",
      " #   Column              Non-Null Count  Dtype  \n",
      "---  ------              --------------  -----  \n",
      " 0   sector              10000 non-null  object \n",
      " 1   return              10000 non-null  float64\n",
      " 2   kosdaq_return       10000 non-null  float64\n",
      " 3   price_z             10000 non-null  float64\n",
      " 4   volume_z            10000 non-null  float64\n",
      " 5   num_high/close      10000 non-null  float64\n",
      " 6   num_long            10000 non-null  float64\n",
      " 7   num_z>1.96          10000 non-null  float64\n",
      " 8   num_win_market      10000 non-null  float64\n",
      " 9   pct_win_market      10000 non-null  float64\n",
      " 10  return over sector  10000 non-null  float64\n",
      " 11  max_close           10000 non-null  float64\n",
      " 12  mean_close          10000 non-null  float64\n",
      " 13  min_close           10000 non-null  float64\n",
      " 14  target              10000 non-null  int32  \n",
      "dtypes: float64(13), int32(1), object(1)\n",
      "memory usage: 1.2+ MB\n"
     ]
    }
   ],
   "source": [
    "train.info()"
   ]
  },
  {
   "cell_type": "markdown",
   "id": "d89da596-c7e0-491a-832b-f45945c70c7a",
   "metadata": {},
   "source": [
    "<br> 각 변수별로 다른 'lambda' (Wiggliness Penalty Weight) 을 적용해서 grid Search 를 합니다. spline 수는 20 이 default 값입니다. spline 수는 고정하고 lambda의 최적 조합을 찾거나, lambda 를 고정하고, spline 수의 최적 조합을 찾는 것이 현실적이고, 두 하이퍼파라미터를 동시에 조합하여 grid Search 하는 것은 시간이 많이 걸립니다. 다양한 시도를 통하여 더 좋은 모델을 구현할 수 있겠으나, 이 책에서는 grid search 로 변수별 최적의 lambda 를 찾는 것으로 모델을 완성합니다. P value 가 크게 나타나는 입력변수는 제거하는 것이 좋겠습니다."
   ]
  },
  {
   "cell_type": "code",
   "execution_count": 67,
   "id": "2039e739-e2a8-4870-a7d4-f7eb3ec7d0b6",
   "metadata": {},
   "outputs": [
    {
     "name": "stderr",
     "output_type": "stream",
     "text": [
      "100% (256 of 256) |######################| Elapsed Time: 0:03:32 Time:  0:03:32\n"
     ]
    },
    {
     "name": "stdout",
     "output_type": "stream",
     "text": [
      "LogisticGAM                                                                                               \n",
      "=============================================== ==========================================================\n",
      "Distribution:                      BinomialDist Effective DoF:                                     21.7127\n",
      "Link Function:                        LogitLink Log Likelihood:                                 -5473.5193\n",
      "Number of Samples:                        10000 AIC:                                            10990.4639\n",
      "                                                AICc:                                           10990.5719\n",
      "                                                UBRE:                                               3.1008\n",
      "                                                Scale:                                                 1.0\n",
      "                                                Pseudo R-Squared:                                   0.0197\n",
      "==========================================================================================================\n",
      "Feature Function                  Lambda               Rank         EDoF         P > x        Sig. Code   \n",
      "================================= ==================== ============ ============ ============ ============\n",
      "te(0, 1)                          [1. 1.]              25           6.2          1.11e-15     ***         \n",
      "s(1)                              [1000.]              20           0.1          1.39e-04     ***         \n",
      "s(2)                              [1000.]              20           1.8          1.65e-01                 \n",
      "s(3)                              [1000.]              20           2.7          4.35e-02     *           \n",
      "s(4)                              [1.]                 20           8.9          1.11e-11     ***         \n",
      "te(4, 5)                          [1. 1.]              25           2.0          1.80e-01                 \n",
      "intercept                                              1            0.0          2.07e-01                 \n",
      "==========================================================================================================\n",
      "Significance codes:  0 '***' 0.001 '**' 0.01 '*' 0.05 '.' 0.1 ' ' 1\n",
      "\n",
      "WARNING: Fitting splines and a linear function to a feature introduces a model identifiability problem\n",
      "         which can cause p-values to appear significant when they are not.\n",
      "\n",
      "WARNING: p-values calculated in this manner behave correctly for un-penalized models or models with\n",
      "         known smoothing parameters, but when smoothing parameters have been estimated, the p-values\n",
      "         are typically lower than they should be, meaning that the tests reject the null too readily.\n",
      "None\n",
      "0.7571130530379218\n"
     ]
    }
   ],
   "source": [
    "from pygam import LogisticGAM, s, f, te, l\n",
    "from sklearn.metrics import accuracy_score\n",
    "from sklearn.metrics import log_loss\n",
    "\n",
    "feature_list = ['price_z','volume_z','num_high/close','num_win_market','pct_win_market','return over sector']\n",
    "X = train[feature_list]\n",
    "y = train['target']\n",
    "X_test = test[feature_list]\n",
    "y_test = test['target']\n",
    "\n",
    "# 하이퍼파라미터 설정 N 개의 변수면 (M x N) 개의 리스트로 생성함으로써 변수별로 다른 하이퍼파라미터 테스트 가능. \n",
    "# M 개만 1D 리스트를 만들면 동일한 lambda 른 모든 변수에 적용함.\n",
    "lam_list = [np.logspace(0, 3, 2)]*8\n",
    "   \n",
    "gam = LogisticGAM(te(0, 1, n_splines=5) + s(1) + s(2) + s(3) + s(4) + te(4, 5, n_splines=5)).gridsearch(X.to_numpy(), y.to_numpy(), lam=lam_list) \n",
    "\n",
    "print(gam.summary())\n",
    "print(gam.accuracy(X_test, y_test))"
   ]
  },
  {
   "cell_type": "code",
   "execution_count": 68,
   "id": "219ab0df-4e2a-4933-9bcb-861ea762752e",
   "metadata": {},
   "outputs": [
    {
     "name": "stdout",
     "output_type": "stream",
     "text": [
      "0 tensor_term\n",
      "1 spline_term\n",
      "2 spline_term\n",
      "3 spline_term\n",
      "4 spline_term\n",
      "5 tensor_term\n",
      "6 intercept_term\n"
     ]
    }
   ],
   "source": [
    "for i, term in enumerate(gam.terms):\n",
    "    print(i, term)"
   ]
  },
  {
   "cell_type": "code",
   "execution_count": 70,
   "id": "5c4bc1a6-c86a-4a38-ba80-0b7239a329d4",
   "metadata": {},
   "outputs": [
    {
     "data": {
      "image/png": "[encoded data removed]",
      "text/plain": [
       "<Figure size 432x288 with 1 Axes>"
      ]
     },
     "metadata": {
      "needs_background": "light"
     },
     "output_type": "display_data"
    },
    {
     "data": {
      "image/png": "[encoded data removed]",
      "text/plain": [
       "<Figure size 432x288 with 1 Axes>"
      ]
     },
     "metadata": {
      "needs_background": "light"
     },
     "output_type": "display_data"
    },
    {
     "data": {
      "image/png": "[encoded data removed]",
      "text/plain": [
       "<Figure size 432x288 with 1 Axes>"
      ]
     },
     "metadata": {
      "needs_background": "light"
     },
     "output_type": "display_data"
    },
    {
     "data": {
      "image/png": "[encoded data removed]",
      "text/plain": [
       "<Figure size 432x288 with 1 Axes>"
      ]
     },
     "metadata": {
      "needs_background": "light"
     },
     "output_type": "display_data"
    }
   ],
   "source": [
    "feature_list =  ['price_z','volume_z','num_high/close','num_win_market','pct_win_market','return over sector']\n",
    "for i, term in enumerate(gam.terms):\n",
    "    \n",
    "    if i>=1 and i<=4:\n",
    "\n",
    "        XX = gam.generate_X_grid(term=i)\n",
    "        pdep, confi = gam.partial_dependence(term=i, X=XX, width=0.95)\n",
    "\n",
    "        plt.figure()\n",
    "        plt.plot(XX[:, term.feature], pdep)\n",
    "        plt.plot(XX[:, term.feature], confi, c='r', ls='--')\n",
    "        plt.title(feature_list[i])\n",
    "        plt.show()"
   ]
  },
  {
   "cell_type": "markdown",
   "id": "998892d5-050c-428f-99b8-107b12dab7d7",
   "metadata": {},
   "source": [
    "<br> 완성된 모델을 pickle 로 binary 파일로 저장합니다."
   ]
  },
  {
   "cell_type": "code",
   "execution_count": 71,
   "id": "fb6dc5ec-b9a3-4923-9488-6bc886c04e7f",
   "metadata": {},
   "outputs": [],
   "source": [
    "import pickle\n",
    "with open(\"gam.pkl\", \"wb\") as file:\n",
    "    pickle.dump(gam, file)    "
   ]
  },
  {
   "cell_type": "code",
   "execution_count": 31,
   "id": "f06c9f55-5cf1-4cd0-a1cb-acd49eb0e3f8",
   "metadata": {},
   "outputs": [],
   "source": [
    "with open(\"gam.pkl\", \"rb\") as file:\n",
    "    gam = pickle.load(file) "
   ]
  },
  {
   "cell_type": "code",
   "execution_count": 32,
   "id": "d888c817-f5e1-4b09-a534-0fff94a1a7a7",
   "metadata": {},
   "outputs": [
    {
     "name": "stdout",
     "output_type": "stream",
     "text": [
      "{'max_iter': 100, 'tol': 0.0001, 'callbacks': [Deviance(), Diffs(), Accuracy()], 'verbose': False, 'terms': te(0, 1) + s(1) + s(2) + s(3) + s(4) + te(4, 5) + intercept, 'fit_intercept': True}\n",
      "(131,)\n"
     ]
    }
   ],
   "source": [
    "print(gam.get_params())\n",
    "print(gam.coef_.shape)"
   ]
  },
  {
   "cell_type": "code",
   "execution_count": 33,
   "id": "d209120f-1168-4744-b5e5-a6fc55c0427c",
   "metadata": {},
   "outputs": [
    {
     "name": "stdout",
     "output_type": "stream",
     "text": [
      "0:  0.000 (10000, 6)\n",
      "1:  0.000 (100, 6)\n",
      "2:  0.165 (100, 6)\n",
      "3:  0.043 (100, 6)\n",
      "4:  0.000 (100, 6)\n",
      "5:  0.180 (10000, 6)\n"
     ]
    }
   ],
   "source": [
    "for i in range(6):\n",
    "    print(f'{i}: {gam._compute_p_value(i): 5.3f} {gam.generate_X_grid(term=i).shape}')"
   ]
  },
  {
   "cell_type": "markdown",
   "id": "d9c8923b-21bf-4887-98f5-60a611d921fc",
   "metadata": {},
   "source": [
    "<br> 간단하게 십분위수 분석을 하고, 성능을 평가합니다. 안정적인 모델을 만들었습니다. 이론적으로는 마지막 Decile(제 10 십분위 수)에서 랜덤하게 종목을 골라 동일한 금액으로 매수를 한다면, 5 영업일이내 5% 익절할 확률이 37% 가 됩니다.  100% 만족스럽지는 않지만, 생성된 GAM 모델을 이용하여 종목 추천을 받도록 하겠습니다."
   ]
  },
  {
   "cell_type": "code",
   "execution_count": 34,
   "id": "9d5d925b-71f3-4a80-b347-859d8a766c0c",
   "metadata": {},
   "outputs": [],
   "source": [
    "feature_list = ['price_z','volume_z','num_high/close','num_win_market','pct_win_market','return over sector']\n",
    "X = train[feature_list]\n",
    "y = train['target']\n",
    "X_test = test[feature_list]\n",
    "y_test = test['target']\n",
    "\n",
    "yhat = gam.predict_proba(X.to_numpy())\n",
    "yhat = pd.Series(yhat, name='yhat', index=y.index)\n",
    "\n",
    "yhat_test = gam.predict_proba(X_test.to_numpy())\n",
    "yhat_test = pd.Series(yhat_test, name='yhat', index=y_test.index)"
   ]
  },
  {
   "cell_type": "code",
   "execution_count": 35,
   "id": "5ed5f606-9ee6-4dad-a9a8-53fd7be39df0",
   "metadata": {},
   "outputs": [
    {
     "name": "stdout",
     "output_type": "stream",
     "text": [
      "                count  mean\n",
      "yhat                       \n",
      "(0.121, 0.184]   1000 0.144\n",
      "(0.184, 0.198]   1000 0.183\n",
      "(0.198, 0.21]    1000 0.195\n",
      "(0.21, 0.222]    1000 0.193\n",
      "(0.222, 0.235]   1000 0.229\n",
      "(0.235, 0.251]   1000 0.231\n",
      "(0.251, 0.268]   1000 0.294\n",
      "(0.268, 0.291]   1000 0.281\n",
      "(0.291, 0.326]   1000 0.310\n",
      "(0.326, 0.688]   1000 0.382\n",
      "                 count  mean\n",
      "yhat                        \n",
      "(0.0342, 0.184]  31931 0.156\n",
      "(0.184, 0.198]   31931 0.182\n",
      "(0.198, 0.209]   31930 0.192\n",
      "(0.209, 0.221]   31931 0.203\n",
      "(0.221, 0.234]   31931 0.224\n",
      "(0.234, 0.249]   31930 0.238\n",
      "(0.249, 0.267]   31931 0.259\n",
      "(0.267, 0.292]   31930 0.283\n",
      "(0.292, 0.327]   31931 0.320\n",
      "(0.327, 0.783]   31931 0.373\n"
     ]
    },
    {
     "data": {
      "image/png": "[encoded data removed]",
      "text/plain": [
       "<Figure size 576x360 with 1 Axes>"
      ]
     },
     "metadata": {
      "needs_background": "light"
     },
     "output_type": "display_data"
    }
   ],
   "source": [
    "def perf(y, yhat): # Decile 분석 함수\n",
    "    combined = pd.concat([y, yhat], axis=1)\n",
    "    ranks = pd.qcut(combined['yhat'], q=10)\n",
    "    print(combined.groupby(ranks)['target'].agg(['count','mean']))\n",
    "    combined.groupby(ranks)['target'].mean().plot(figsize=(8,5))\n",
    "\n",
    "perf(y, yhat)\n",
    "perf(y_test, yhat_test)"
   ]
  },
  {
   "cell_type": "markdown",
   "id": "e281a047-e581-423e-835e-a18bc39ed6c3",
   "metadata": {},
   "source": [
    "### Basic Filtering\n",
    "단순히 스코어가 높다고 무조건 매수했다가 큰 낙폭으로 손해를 볼 수도 있기 때문에 기본적인 필터링이 필요합니다. 오늘 종가 수익률과 가격 변동성으로 기본적인 필터를 만들어 보겠습니다."
   ]
  },
  {
   "cell_type": "code",
   "execution_count": 36,
   "id": "bebffd70-32d2-4793-96c5-1cd23ca1e8bd",
   "metadata": {},
   "outputs": [
    {
     "data": {
      "text/plain": [
       "yhat_rank\n",
       "(0.0342, 0.184]   0.156\n",
       "(0.184, 0.198]    0.182\n",
       "(0.198, 0.209]    0.192\n",
       "(0.209, 0.221]    0.203\n",
       "(0.221, 0.234]    0.224\n",
       "(0.234, 0.249]    0.238\n",
       "(0.249, 0.267]    0.259\n",
       "(0.267, 0.292]    0.283\n",
       "(0.292, 0.327]    0.320\n",
       "(0.327, 0.783]    0.373\n",
       "Name: target, dtype: float64"
      ]
     },
     "execution_count": 36,
     "metadata": {},
     "output_type": "execute_result"
    }
   ],
   "source": [
    "test['yhat'] = yhat_test\n",
    "test['yhat_rank'] = pd.qcut(test['yhat'], q=10)\n",
    "test.groupby('yhat_rank')['target'].mean()"
   ]
  },
  {
   "cell_type": "markdown",
   "id": "8ab31ff5-f908-4f8e-babb-2a16f80663e7",
   "metadata": {},
   "source": [
    "<br> 종목선정은 상위 스코어 구간에서 할 것이므로 상위 구간에서 대하여 수익률 및 표준화 가격 구간으로 분리해서 미래 수익률을 보겠습니다. 표준화된 가격이 낮고 당일 수익율이 높은 경우 미래 수익률이 높을 것으로 예상됩니다."
   ]
  },
  {
   "cell_type": "code",
   "execution_count": 37,
   "id": "f8916b14-1c0b-4a53-89bb-c55ba7614b4d",
   "metadata": {},
   "outputs": [
    {
     "data": {
      "text/html": [
       "<style type=\"text/css\">\n",
       "</style>\n",
       "<table id=\"T_904a2_\" style=\"font-size: 12px\">\n",
       "  <thead>\n",
       "    <tr>\n",
       "      <th class=\"index_name level0\" >price_rank</th>\n",
       "      <th class=\"col_heading level0 col0\" >(-4.36, -1.836]</th>\n",
       "      <th class=\"col_heading level0 col1\" >(-1.836, -0.962]</th>\n",
       "      <th class=\"col_heading level0 col2\" >(-0.962, 0.529]</th>\n",
       "      <th class=\"col_heading level0 col3\" >(0.529, 1.659]</th>\n",
       "      <th class=\"col_heading level0 col4\" >(1.659, 4.359]</th>\n",
       "    </tr>\n",
       "    <tr>\n",
       "      <th class=\"index_name level0\" >return_rank</th>\n",
       "      <th class=\"blank col0\" >&nbsp;</th>\n",
       "      <th class=\"blank col1\" >&nbsp;</th>\n",
       "      <th class=\"blank col2\" >&nbsp;</th>\n",
       "      <th class=\"blank col3\" >&nbsp;</th>\n",
       "      <th class=\"blank col4\" >&nbsp;</th>\n",
       "    </tr>\n",
       "  </thead>\n",
       "  <tbody>\n",
       "    <tr>\n",
       "      <th id=\"T_904a2_level0_row0\" class=\"row_heading level0 row0\" >(0.325, 0.958]</th>\n",
       "      <td id=\"T_904a2_row0_col0\" class=\"data row0 col0\" >0.467728</td>\n",
       "      <td id=\"T_904a2_row0_col1\" class=\"data row0 col1\" >0.401386</td>\n",
       "      <td id=\"T_904a2_row0_col2\" class=\"data row0 col2\" >0.365480</td>\n",
       "      <td id=\"T_904a2_row0_col3\" class=\"data row0 col3\" >0.402558</td>\n",
       "      <td id=\"T_904a2_row0_col4\" class=\"data row0 col4\" >0.352185</td>\n",
       "    </tr>\n",
       "    <tr>\n",
       "      <th id=\"T_904a2_level0_row1\" class=\"row_heading level0 row1\" >(0.958, 0.98]</th>\n",
       "      <td id=\"T_904a2_row1_col0\" class=\"data row1 col0\" >0.323312</td>\n",
       "      <td id=\"T_904a2_row1_col1\" class=\"data row1 col1\" >0.322218</td>\n",
       "      <td id=\"T_904a2_row1_col2\" class=\"data row1 col2\" >0.312813</td>\n",
       "      <td id=\"T_904a2_row1_col3\" class=\"data row1 col3\" >0.371080</td>\n",
       "      <td id=\"T_904a2_row1_col4\" class=\"data row1 col4\" >0.380762</td>\n",
       "    </tr>\n",
       "    <tr>\n",
       "      <th id=\"T_904a2_level0_row2\" class=\"row_heading level0 row2\" >(0.98, 1.0]</th>\n",
       "      <td id=\"T_904a2_row2_col0\" class=\"data row2 col0\" >0.247881</td>\n",
       "      <td id=\"T_904a2_row2_col1\" class=\"data row2 col1\" >0.301568</td>\n",
       "      <td id=\"T_904a2_row2_col2\" class=\"data row2 col2\" >0.303585</td>\n",
       "      <td id=\"T_904a2_row2_col3\" class=\"data row2 col3\" >0.335506</td>\n",
       "      <td id=\"T_904a2_row2_col4\" class=\"data row2 col4\" >0.329555</td>\n",
       "    </tr>\n",
       "    <tr>\n",
       "      <th id=\"T_904a2_level0_row3\" class=\"row_heading level0 row3\" >(1.0, 1.031]</th>\n",
       "      <td id=\"T_904a2_row3_col0\" class=\"data row3 col0\" >0.385084</td>\n",
       "      <td id=\"T_904a2_row3_col1\" class=\"data row3 col1\" >0.341678</td>\n",
       "      <td id=\"T_904a2_row3_col2\" class=\"data row3 col2\" >0.318606</td>\n",
       "      <td id=\"T_904a2_row3_col3\" class=\"data row3 col3\" >0.339809</td>\n",
       "      <td id=\"T_904a2_row3_col4\" class=\"data row3 col4\" >0.330736</td>\n",
       "    </tr>\n",
       "    <tr>\n",
       "      <th id=\"T_904a2_level0_row4\" class=\"row_heading level0 row4\" >(1.031, 1.3]</th>\n",
       "      <td id=\"T_904a2_row4_col0\" class=\"data row4 col0\" >0.670000</td>\n",
       "      <td id=\"T_904a2_row4_col1\" class=\"data row4 col1\" >0.471311</td>\n",
       "      <td id=\"T_904a2_row4_col2\" class=\"data row4 col2\" >0.335314</td>\n",
       "      <td id=\"T_904a2_row4_col3\" class=\"data row4 col3\" >0.379326</td>\n",
       "      <td id=\"T_904a2_row4_col4\" class=\"data row4 col4\" >0.368984</td>\n",
       "    </tr>\n",
       "  </tbody>\n",
       "</table>\n"
      ],
      "text/plain": [
       "<pandas.io.formats.style.Styler at 0x1d8d6e270a0>"
      ]
     },
     "execution_count": 37,
     "metadata": {},
     "output_type": "execute_result"
    }
   ],
   "source": [
    "tops = test[test['yhat'] > 0.3].copy()\n",
    "\n",
    "tops['return_rank']  = pd.qcut(tops['return'], q=5) # 종가 수익률\n",
    "tops['price_rank']  = pd.qcut(tops['price_z'], q=5) # 가격 변동성\n",
    "tops.groupby(['return_rank','price_rank'])['target'].mean().unstack().style.set_table_attributes('style=\"font-size: 12px\"')"
   ]
  },
  {
   "cell_type": "markdown",
   "id": "68a90b91-c7d3-4c99-98fc-db67a9da454a",
   "metadata": {},
   "source": [
    "<br> 참고로 groupby 로 데이터를 요약하는 방법은 직관적이나, 각 행과 열의 총계는 보여주지 않는다는 단점이 있습니다. 총계가 보고 싶을 때는 pivot_table 에서 'margins=True' 를 인수로 넣어주면 총계를 볼 수 있습니다."
   ]
  },
  {
   "cell_type": "code",
   "execution_count": 38,
   "id": "cff0348f-0cfc-4c14-a34d-0c12a0483613",
   "metadata": {},
   "outputs": [
    {
     "data": {
      "text/html": [
       "<style type=\"text/css\">\n",
       "</style>\n",
       "<table id=\"T_843af_\" style=\"font-size: 12px\">\n",
       "  <thead>\n",
       "    <tr>\n",
       "      <th class=\"index_name level0\" >price_rank</th>\n",
       "      <th class=\"col_heading level0 col0\" >(-4.36, -1.836]</th>\n",
       "      <th class=\"col_heading level0 col1\" >(-1.836, -0.962]</th>\n",
       "      <th class=\"col_heading level0 col2\" >(-0.962, 0.529]</th>\n",
       "      <th class=\"col_heading level0 col3\" >(0.529, 1.659]</th>\n",
       "      <th class=\"col_heading level0 col4\" >(1.659, 4.359]</th>\n",
       "      <th class=\"col_heading level0 col5\" >All</th>\n",
       "    </tr>\n",
       "    <tr>\n",
       "      <th class=\"index_name level0\" >return_rank</th>\n",
       "      <th class=\"blank col0\" >&nbsp;</th>\n",
       "      <th class=\"blank col1\" >&nbsp;</th>\n",
       "      <th class=\"blank col2\" >&nbsp;</th>\n",
       "      <th class=\"blank col3\" >&nbsp;</th>\n",
       "      <th class=\"blank col4\" >&nbsp;</th>\n",
       "      <th class=\"blank col5\" >&nbsp;</th>\n",
       "    </tr>\n",
       "  </thead>\n",
       "  <tbody>\n",
       "    <tr>\n",
       "      <th id=\"T_843af_level0_row0\" class=\"row_heading level0 row0\" >(0.325, 0.958]</th>\n",
       "      <td id=\"T_843af_row0_col0\" class=\"data row0 col0\" >0.467728</td>\n",
       "      <td id=\"T_843af_row0_col1\" class=\"data row0 col1\" >0.401386</td>\n",
       "      <td id=\"T_843af_row0_col2\" class=\"data row0 col2\" >0.365480</td>\n",
       "      <td id=\"T_843af_row0_col3\" class=\"data row0 col3\" >0.402558</td>\n",
       "      <td id=\"T_843af_row0_col4\" class=\"data row0 col4\" >0.352185</td>\n",
       "      <td id=\"T_843af_row0_col5\" class=\"data row0 col5\" >0.419958</td>\n",
       "    </tr>\n",
       "    <tr>\n",
       "      <th id=\"T_843af_level0_row1\" class=\"row_heading level0 row1\" >(0.958, 0.98]</th>\n",
       "      <td id=\"T_843af_row1_col0\" class=\"data row1 col0\" >0.323312</td>\n",
       "      <td id=\"T_843af_row1_col1\" class=\"data row1 col1\" >0.322218</td>\n",
       "      <td id=\"T_843af_row1_col2\" class=\"data row1 col2\" >0.312813</td>\n",
       "      <td id=\"T_843af_row1_col3\" class=\"data row1 col3\" >0.371080</td>\n",
       "      <td id=\"T_843af_row1_col4\" class=\"data row1 col4\" >0.380762</td>\n",
       "      <td id=\"T_843af_row1_col5\" class=\"data row1 col5\" >0.331053</td>\n",
       "    </tr>\n",
       "    <tr>\n",
       "      <th id=\"T_843af_level0_row2\" class=\"row_heading level0 row2\" >(0.98, 1.0]</th>\n",
       "      <td id=\"T_843af_row2_col0\" class=\"data row2 col0\" >0.247881</td>\n",
       "      <td id=\"T_843af_row2_col1\" class=\"data row2 col1\" >0.301568</td>\n",
       "      <td id=\"T_843af_row2_col2\" class=\"data row2 col2\" >0.303585</td>\n",
       "      <td id=\"T_843af_row2_col3\" class=\"data row2 col3\" >0.335506</td>\n",
       "      <td id=\"T_843af_row2_col4\" class=\"data row2 col4\" >0.329555</td>\n",
       "      <td id=\"T_843af_row2_col5\" class=\"data row2 col5\" >0.302817</td>\n",
       "    </tr>\n",
       "    <tr>\n",
       "      <th id=\"T_843af_level0_row3\" class=\"row_heading level0 row3\" >(1.0, 1.031]</th>\n",
       "      <td id=\"T_843af_row3_col0\" class=\"data row3 col0\" >0.385084</td>\n",
       "      <td id=\"T_843af_row3_col1\" class=\"data row3 col1\" >0.341678</td>\n",
       "      <td id=\"T_843af_row3_col2\" class=\"data row3 col2\" >0.318606</td>\n",
       "      <td id=\"T_843af_row3_col3\" class=\"data row3 col3\" >0.339809</td>\n",
       "      <td id=\"T_843af_row3_col4\" class=\"data row3 col4\" >0.330736</td>\n",
       "      <td id=\"T_843af_row3_col5\" class=\"data row3 col5\" >0.335920</td>\n",
       "    </tr>\n",
       "    <tr>\n",
       "      <th id=\"T_843af_level0_row4\" class=\"row_heading level0 row4\" >(1.031, 1.3]</th>\n",
       "      <td id=\"T_843af_row4_col0\" class=\"data row4 col0\" >0.670000</td>\n",
       "      <td id=\"T_843af_row4_col1\" class=\"data row4 col1\" >0.471311</td>\n",
       "      <td id=\"T_843af_row4_col2\" class=\"data row4 col2\" >0.335314</td>\n",
       "      <td id=\"T_843af_row4_col3\" class=\"data row4 col3\" >0.379326</td>\n",
       "      <td id=\"T_843af_row4_col4\" class=\"data row4 col4\" >0.368984</td>\n",
       "      <td id=\"T_843af_row4_col5\" class=\"data row4 col5\" >0.376038</td>\n",
       "    </tr>\n",
       "    <tr>\n",
       "      <th id=\"T_843af_level0_row5\" class=\"row_heading level0 row5\" >All</th>\n",
       "      <td id=\"T_843af_row5_col0\" class=\"data row5 col0\" >0.376790</td>\n",
       "      <td id=\"T_843af_row5_col1\" class=\"data row5 col1\" >0.343522</td>\n",
       "      <td id=\"T_843af_row5_col2\" class=\"data row5 col2\" >0.325730</td>\n",
       "      <td id=\"T_843af_row5_col3\" class=\"data row5 col3\" >0.363139</td>\n",
       "      <td id=\"T_843af_row5_col4\" class=\"data row5 col4\" >0.355839</td>\n",
       "      <td id=\"T_843af_row5_col5\" class=\"data row5 col5\" >0.353005</td>\n",
       "    </tr>\n",
       "  </tbody>\n",
       "</table>\n"
      ],
      "text/plain": [
       "<pandas.io.formats.style.Styler at 0x1d8d6e44af0>"
      ]
     },
     "execution_count": 38,
     "metadata": {},
     "output_type": "execute_result"
    }
   ],
   "source": [
    "pd.pivot_table(data = tops, index = 'return_rank', columns = 'price_rank', values = 'target', aggfunc='mean', margins=True).style.set_table_attributes('style=\"font-size: 12px\"')"
   ]
  },
  {
   "cell_type": "markdown",
   "id": "76858878-bbb3-4679-ae89-65ebba3c711d",
   "metadata": {},
   "source": [
    "<br> 최저 수익률(리스크)도 조사합니다. 당일 수익률 높고, 표준화 된 주가가 낮은 좌하단 부분의 리스크가 낮습니다."
   ]
  },
  {
   "cell_type": "code",
   "execution_count": 28,
   "id": "a13b7530-0643-41b7-bf02-43cd57955002",
   "metadata": {},
   "outputs": [
    {
     "data": {
      "text/html": [
       "<style type=\"text/css\">\n",
       "</style>\n",
       "<table id=\"T_24612_\" style=\"font-size: 12px\">\n",
       "  <thead>\n",
       "    <tr>\n",
       "      <th class=\"index_name level0\" >price_rank</th>\n",
       "      <th class=\"col_heading level0 col0\" >(-4.36, -1.836]</th>\n",
       "      <th class=\"col_heading level0 col1\" >(-1.836, -0.962]</th>\n",
       "      <th class=\"col_heading level0 col2\" >(-0.962, 0.529]</th>\n",
       "      <th class=\"col_heading level0 col3\" >(0.529, 1.659]</th>\n",
       "      <th class=\"col_heading level0 col4\" >(1.659, 4.359]</th>\n",
       "      <th class=\"col_heading level0 col5\" >All</th>\n",
       "    </tr>\n",
       "    <tr>\n",
       "      <th class=\"index_name level0\" >return_rank</th>\n",
       "      <th class=\"blank col0\" >&nbsp;</th>\n",
       "      <th class=\"blank col1\" >&nbsp;</th>\n",
       "      <th class=\"blank col2\" >&nbsp;</th>\n",
       "      <th class=\"blank col3\" >&nbsp;</th>\n",
       "      <th class=\"blank col4\" >&nbsp;</th>\n",
       "      <th class=\"blank col5\" >&nbsp;</th>\n",
       "    </tr>\n",
       "  </thead>\n",
       "  <tbody>\n",
       "    <tr>\n",
       "      <th id=\"T_24612_level0_row0\" class=\"row_heading level0 row0\" >(0.325, 0.958]</th>\n",
       "      <td id=\"T_24612_row0_col0\" class=\"data row0 col0\" >0.971249</td>\n",
       "      <td id=\"T_24612_row0_col1\" class=\"data row0 col1\" >0.955960</td>\n",
       "      <td id=\"T_24612_row0_col2\" class=\"data row0 col2\" >0.950540</td>\n",
       "      <td id=\"T_24612_row0_col3\" class=\"data row0 col3\" >0.949295</td>\n",
       "      <td id=\"T_24612_row0_col4\" class=\"data row0 col4\" >0.936891</td>\n",
       "      <td id=\"T_24612_row0_col5\" class=\"data row0 col5\" >0.959307</td>\n",
       "    </tr>\n",
       "    <tr>\n",
       "      <th id=\"T_24612_level0_row1\" class=\"row_heading level0 row1\" >(0.958, 0.98]</th>\n",
       "      <td id=\"T_24612_row1_col0\" class=\"data row1 col0\" >0.968130</td>\n",
       "      <td id=\"T_24612_row1_col1\" class=\"data row1 col1\" >0.961449</td>\n",
       "      <td id=\"T_24612_row1_col2\" class=\"data row1 col2\" >0.955620</td>\n",
       "      <td id=\"T_24612_row1_col3\" class=\"data row1 col3\" >0.955920</td>\n",
       "      <td id=\"T_24612_row1_col4\" class=\"data row1 col4\" >0.948468</td>\n",
       "      <td id=\"T_24612_row1_col5\" class=\"data row1 col5\" >0.961134</td>\n",
       "    </tr>\n",
       "    <tr>\n",
       "      <th id=\"T_24612_level0_row2\" class=\"row_heading level0 row2\" >(0.98, 1.0]</th>\n",
       "      <td id=\"T_24612_row2_col0\" class=\"data row2 col0\" >0.963653</td>\n",
       "      <td id=\"T_24612_row2_col1\" class=\"data row2 col1\" >0.965476</td>\n",
       "      <td id=\"T_24612_row2_col2\" class=\"data row2 col2\" >0.958850</td>\n",
       "      <td id=\"T_24612_row2_col3\" class=\"data row2 col3\" >0.955340</td>\n",
       "      <td id=\"T_24612_row2_col4\" class=\"data row2 col4\" >0.945676</td>\n",
       "      <td id=\"T_24612_row2_col5\" class=\"data row2 col5\" >0.959550</td>\n",
       "    </tr>\n",
       "    <tr>\n",
       "      <th id=\"T_24612_level0_row3\" class=\"row_heading level0 row3\" >(1.0, 1.031]</th>\n",
       "      <td id=\"T_24612_row3_col0\" class=\"data row3 col0\" >0.971163</td>\n",
       "      <td id=\"T_24612_row3_col1\" class=\"data row3 col1\" >0.965972</td>\n",
       "      <td id=\"T_24612_row3_col2\" class=\"data row3 col2\" >0.958342</td>\n",
       "      <td id=\"T_24612_row3_col3\" class=\"data row3 col3\" >0.953141</td>\n",
       "      <td id=\"T_24612_row3_col4\" class=\"data row3 col4\" >0.952475</td>\n",
       "      <td id=\"T_24612_row3_col5\" class=\"data row3 col5\" >0.958020</td>\n",
       "    </tr>\n",
       "    <tr>\n",
       "      <th id=\"T_24612_level0_row4\" class=\"row_heading level0 row4\" >(1.031, 1.3]</th>\n",
       "      <td id=\"T_24612_row4_col0\" class=\"data row4 col0\" >0.992942</td>\n",
       "      <td id=\"T_24612_row4_col1\" class=\"data row4 col1\" >0.970208</td>\n",
       "      <td id=\"T_24612_row4_col2\" class=\"data row4 col2\" >0.950858</td>\n",
       "      <td id=\"T_24612_row4_col3\" class=\"data row4 col3\" >0.947691</td>\n",
       "      <td id=\"T_24612_row4_col4\" class=\"data row4 col4\" >0.948263</td>\n",
       "      <td id=\"T_24612_row4_col5\" class=\"data row4 col5\" >0.950377</td>\n",
       "    </tr>\n",
       "    <tr>\n",
       "      <th id=\"T_24612_level0_row5\" class=\"row_heading level0 row5\" >All</th>\n",
       "      <td id=\"T_24612_row5_col0\" class=\"data row5 col0\" >0.969054</td>\n",
       "      <td id=\"T_24612_row5_col1\" class=\"data row5 col1\" >0.963253</td>\n",
       "      <td id=\"T_24612_row5_col2\" class=\"data row5 col2\" >0.955302</td>\n",
       "      <td id=\"T_24612_row5_col3\" class=\"data row5 col3\" >0.952232</td>\n",
       "      <td id=\"T_24612_row5_col4\" class=\"data row5 col4\" >0.948584</td>\n",
       "      <td id=\"T_24612_row5_col5\" class=\"data row5 col5\" >0.957685</td>\n",
       "    </tr>\n",
       "  </tbody>\n",
       "</table>\n"
      ],
      "text/plain": [
       "<pandas.io.formats.style.Styler at 0x1d8d432a310>"
      ]
     },
     "execution_count": 28,
     "metadata": {},
     "output_type": "execute_result"
    }
   ],
   "source": [
    "pd.pivot_table(data = tops, index = 'return_rank', columns = 'price_rank', values = 'min_close', aggfunc='mean', margins=True).style.set_table_attributes('style=\"font-size: 12px\"')"
   ]
  },
  {
   "cell_type": "markdown",
   "id": "fd53e5e8-0dd3-45f4-a6c5-c5a83dcee5ad",
   "metadata": {},
   "source": [
    "<br> 위 결과를 종합하면 당일 종가 수익률은 높고, 최근 20일 대비 가격이 낮은 종목을 매수하면 리스크가 적을 것으로 판단됩니다. 'return' 은 1.03 보다 크고, 'price_z' 는 0 보다 작은 종목만을 고르겠습니다."
   ]
  },
  {
   "cell_type": "code",
   "execution_count": 30,
   "id": "2ffee5d0-38ff-487e-a4a0-ec4be0b5307c",
   "metadata": {},
   "outputs": [
    {
     "data": {
      "text/html": [
       "<style type=\"text/css\">\n",
       "</style>\n",
       "<table id=\"T_2d825_\" style=\"font-size: 12px\">\n",
       "  <thead>\n",
       "    <tr>\n",
       "      <th class=\"blank\" >&nbsp;</th>\n",
       "      <th class=\"blank level0\" >&nbsp;</th>\n",
       "      <th class=\"col_heading level0 col0\" >return</th>\n",
       "      <th class=\"col_heading level0 col1\" >price_z</th>\n",
       "    </tr>\n",
       "    <tr>\n",
       "      <th class=\"index_name level0\" >&nbsp;</th>\n",
       "      <th class=\"index_name level1\" >code</th>\n",
       "      <th class=\"blank col0\" >&nbsp;</th>\n",
       "      <th class=\"blank col1\" >&nbsp;</th>\n",
       "    </tr>\n",
       "  </thead>\n",
       "  <tbody>\n",
       "    <tr>\n",
       "      <th id=\"T_2d825_level0_row0\" class=\"row_heading level0 row0\" >2021-05-26</th>\n",
       "      <th id=\"T_2d825_level1_row0\" class=\"row_heading level1 row0\" >037440</th>\n",
       "      <td id=\"T_2d825_row0_col0\" class=\"data row0 col0\" >1.038084</td>\n",
       "      <td id=\"T_2d825_row0_col1\" class=\"data row0 col1\" >-0.747394</td>\n",
       "    </tr>\n",
       "    <tr>\n",
       "      <th id=\"T_2d825_level0_row1\" class=\"row_heading level0 row1\" >2021-06-24</th>\n",
       "      <th id=\"T_2d825_level1_row1\" class=\"row_heading level1 row1\" >037440</th>\n",
       "      <td id=\"T_2d825_row1_col0\" class=\"data row1 col0\" >1.050481</td>\n",
       "      <td id=\"T_2d825_row1_col1\" class=\"data row1 col1\" >-0.605273</td>\n",
       "    </tr>\n",
       "    <tr>\n",
       "      <th id=\"T_2d825_level0_row2\" class=\"row_heading level0 row2\" >2022-03-10</th>\n",
       "      <th id=\"T_2d825_level1_row2\" class=\"row_heading level1 row2\" >037440</th>\n",
       "      <td id=\"T_2d825_row2_col0\" class=\"data row2 col0\" >1.147170</td>\n",
       "      <td id=\"T_2d825_row2_col1\" class=\"data row2 col1\" >-0.495290</td>\n",
       "    </tr>\n",
       "    <tr>\n",
       "      <th id=\"T_2d825_level0_row3\" class=\"row_heading level0 row3\" >2021-04-19</th>\n",
       "      <th id=\"T_2d825_level1_row3\" class=\"row_heading level1 row3\" >189980</th>\n",
       "      <td id=\"T_2d825_row3_col0\" class=\"data row3 col0\" >1.031782</td>\n",
       "      <td id=\"T_2d825_row3_col1\" class=\"data row3 col1\" >-1.108919</td>\n",
       "    </tr>\n",
       "    <tr>\n",
       "      <th id=\"T_2d825_level0_row4\" class=\"row_heading level0 row4\" >2021-10-07</th>\n",
       "      <th id=\"T_2d825_level1_row4\" class=\"row_heading level1 row4\" >189980</th>\n",
       "      <td id=\"T_2d825_row4_col0\" class=\"data row4 col0\" >1.073741</td>\n",
       "      <td id=\"T_2d825_row4_col1\" class=\"data row4 col1\" >-1.231395</td>\n",
       "    </tr>\n",
       "  </tbody>\n",
       "</table>\n"
      ],
      "text/plain": [
       "<pandas.io.formats.style.Styler at 0x1d8d7617a00>"
      ]
     },
     "execution_count": 30,
     "metadata": {},
     "output_type": "execute_result"
    }
   ],
   "source": [
    "tops[ (tops['return'] > 1.03) & (tops['price_z'] < 0)][['return','price_z']].head().style.set_table_attributes('style=\"font-size: 12px\"')"
   ]
  },
  {
   "cell_type": "code",
   "execution_count": null,
   "id": "bffe7405-8090-4882-941f-77282a9a0211",
   "metadata": {},
   "outputs": [],
   "source": []
  }
 ],
 "metadata": {
  "kernelspec": {
   "display_name": "Python 3 (ipykernel)",
   "language": "python",
   "name": "python3"
  },
  "language_info": {
   "codemirror_mode": {
    "name": "ipython",
    "version": 3
   },
   "file_extension": ".py",
   "mimetype": "text/x-python",
   "name": "python",
   "nbconvert_exporter": "python",
   "pygments_lexer": "ipython3",
   "version": "3.9.7"
  }
 },
 "nbformat": 4,
 "nbformat_minor": 5
}
