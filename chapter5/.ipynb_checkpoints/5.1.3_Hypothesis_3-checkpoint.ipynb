{
 "cells": [
  {
   "cell_type": "code",
   "execution_count": 1,
   "metadata": {},
   "outputs": [],
   "source": [
    "import FinanceDataReader as fdr\n",
    "%matplotlib inline\n",
    "import matplotlib.pyplot as plt\n",
    "import pandas as pd\n",
    "import numpy as np\n",
    "import warnings\n",
    "warnings.filterwarnings('ignore')\n",
    "\n",
    "pd.options.display.float_format = '{:,.3f}'.format"
   ]
  },
  {
   "cell_type": "markdown",
   "metadata": {},
   "source": [
    "### 위 꼬리가 긴 양봉이 자주 발생한다.    \n",
    "위 꼬리는 종가보다 고가가 더 높이 위치해 있는 양봉입니다. 따라서 고가를 종가로 나눈 값이 1 보다 상당히 크면 위꼬리 양봉이라고 할 수 있습니다. 양봉의 조건은 종가가 시가보다 큰 것입니다. 이 것을 데이터로 표현합니다.\n",
    "\n"
   ]
  },
  {
   "cell_type": "code",
   "execution_count": 2,
   "metadata": {},
   "outputs": [
    {
     "data": {
      "text/html": [
       "<style type=\"text/css\">\n",
       "</style>\n",
       "<table id=\"T_44371_\" style=\"font-size: 12px\">\n",
       "  <thead>\n",
       "    <tr>\n",
       "      <th class=\"blank level0\" >&nbsp;</th>\n",
       "      <th class=\"col_heading level0 col0\" >open</th>\n",
       "      <th class=\"col_heading level0 col1\" >high</th>\n",
       "      <th class=\"col_heading level0 col2\" >low</th>\n",
       "      <th class=\"col_heading level0 col3\" >close</th>\n",
       "      <th class=\"col_heading level0 col4\" >volume</th>\n",
       "      <th class=\"col_heading level0 col5\" >change</th>\n",
       "      <th class=\"col_heading level0 col6\" >code</th>\n",
       "      <th class=\"col_heading level0 col7\" >name</th>\n",
       "      <th class=\"col_heading level0 col8\" >kosdaq_return</th>\n",
       "      <th class=\"col_heading level0 col9\" >return</th>\n",
       "      <th class=\"col_heading level0 col10\" >win_market</th>\n",
       "      <th class=\"col_heading level0 col11\" >close_r1</th>\n",
       "      <th class=\"col_heading level0 col12\" >close_r2</th>\n",
       "      <th class=\"col_heading level0 col13\" >close_r3</th>\n",
       "      <th class=\"col_heading level0 col14\" >close_r4</th>\n",
       "      <th class=\"col_heading level0 col15\" >close_r5</th>\n",
       "      <th class=\"col_heading level0 col16\" >max_close</th>\n",
       "    </tr>\n",
       "  </thead>\n",
       "  <tbody>\n",
       "    <tr>\n",
       "      <th id=\"T_44371_level0_row0\" class=\"row_heading level0 row0\" >2021-01-05</th>\n",
       "      <td id=\"T_44371_row0_col0\" class=\"data row0 col0\" >2270</td>\n",
       "      <td id=\"T_44371_row0_col1\" class=\"data row0 col1\" >2285</td>\n",
       "      <td id=\"T_44371_row0_col2\" class=\"data row0 col2\" >2200</td>\n",
       "      <td id=\"T_44371_row0_col3\" class=\"data row0 col3\" >2250</td>\n",
       "      <td id=\"T_44371_row0_col4\" class=\"data row0 col4\" >410263</td>\n",
       "      <td id=\"T_44371_row0_col5\" class=\"data row0 col5\" >-0.004425</td>\n",
       "      <td id=\"T_44371_row0_col6\" class=\"data row0 col6\" >060310</td>\n",
       "      <td id=\"T_44371_row0_col7\" class=\"data row0 col7\" >3S</td>\n",
       "      <td id=\"T_44371_row0_col8\" class=\"data row0 col8\" >1.008326</td>\n",
       "      <td id=\"T_44371_row0_col9\" class=\"data row0 col9\" >0.995575</td>\n",
       "      <td id=\"T_44371_row0_col10\" class=\"data row0 col10\" >0</td>\n",
       "      <td id=\"T_44371_row0_col11\" class=\"data row0 col11\" >1.017778</td>\n",
       "      <td id=\"T_44371_row0_col12\" class=\"data row0 col12\" >1.017778</td>\n",
       "      <td id=\"T_44371_row0_col13\" class=\"data row0 col13\" >0.997778</td>\n",
       "      <td id=\"T_44371_row0_col14\" class=\"data row0 col14\" >0.966667</td>\n",
       "      <td id=\"T_44371_row0_col15\" class=\"data row0 col15\" >0.971111</td>\n",
       "      <td id=\"T_44371_row0_col16\" class=\"data row0 col16\" >1.017778</td>\n",
       "    </tr>\n",
       "    <tr>\n",
       "      <th id=\"T_44371_level0_row1\" class=\"row_heading level0 row1\" >2021-01-06</th>\n",
       "      <td id=\"T_44371_row1_col0\" class=\"data row1 col0\" >2225</td>\n",
       "      <td id=\"T_44371_row1_col1\" class=\"data row1 col1\" >2310</td>\n",
       "      <td id=\"T_44371_row1_col2\" class=\"data row1 col2\" >2215</td>\n",
       "      <td id=\"T_44371_row1_col3\" class=\"data row1 col3\" >2290</td>\n",
       "      <td id=\"T_44371_row1_col4\" class=\"data row1 col4\" >570349</td>\n",
       "      <td id=\"T_44371_row1_col5\" class=\"data row1 col5\" >0.017778</td>\n",
       "      <td id=\"T_44371_row1_col6\" class=\"data row1 col6\" >060310</td>\n",
       "      <td id=\"T_44371_row1_col7\" class=\"data row1 col7\" >3S</td>\n",
       "      <td id=\"T_44371_row1_col8\" class=\"data row1 col8\" >0.995567</td>\n",
       "      <td id=\"T_44371_row1_col9\" class=\"data row1 col9\" >1.017778</td>\n",
       "      <td id=\"T_44371_row1_col10\" class=\"data row1 col10\" >1</td>\n",
       "      <td id=\"T_44371_row1_col11\" class=\"data row1 col11\" >1.000000</td>\n",
       "      <td id=\"T_44371_row1_col12\" class=\"data row1 col12\" >0.980349</td>\n",
       "      <td id=\"T_44371_row1_col13\" class=\"data row1 col13\" >0.949782</td>\n",
       "      <td id=\"T_44371_row1_col14\" class=\"data row1 col14\" >0.954148</td>\n",
       "      <td id=\"T_44371_row1_col15\" class=\"data row1 col15\" >0.949782</td>\n",
       "      <td id=\"T_44371_row1_col16\" class=\"data row1 col16\" >1.000000</td>\n",
       "    </tr>\n",
       "    <tr>\n",
       "      <th id=\"T_44371_level0_row2\" class=\"row_heading level0 row2\" >2021-01-07</th>\n",
       "      <td id=\"T_44371_row2_col0\" class=\"data row2 col0\" >2290</td>\n",
       "      <td id=\"T_44371_row2_col1\" class=\"data row2 col1\" >2340</td>\n",
       "      <td id=\"T_44371_row2_col2\" class=\"data row2 col2\" >2240</td>\n",
       "      <td id=\"T_44371_row2_col3\" class=\"data row2 col3\" >2290</td>\n",
       "      <td id=\"T_44371_row2_col4\" class=\"data row2 col4\" >519777</td>\n",
       "      <td id=\"T_44371_row2_col5\" class=\"data row2 col5\" >0.000000</td>\n",
       "      <td id=\"T_44371_row2_col6\" class=\"data row2 col6\" >060310</td>\n",
       "      <td id=\"T_44371_row2_col7\" class=\"data row2 col7\" >3S</td>\n",
       "      <td id=\"T_44371_row2_col8\" class=\"data row2 col8\" >1.007612</td>\n",
       "      <td id=\"T_44371_row2_col9\" class=\"data row2 col9\" >1.000000</td>\n",
       "      <td id=\"T_44371_row2_col10\" class=\"data row2 col10\" >0</td>\n",
       "      <td id=\"T_44371_row2_col11\" class=\"data row2 col11\" >0.980349</td>\n",
       "      <td id=\"T_44371_row2_col12\" class=\"data row2 col12\" >0.949782</td>\n",
       "      <td id=\"T_44371_row2_col13\" class=\"data row2 col13\" >0.954148</td>\n",
       "      <td id=\"T_44371_row2_col14\" class=\"data row2 col14\" >0.949782</td>\n",
       "      <td id=\"T_44371_row2_col15\" class=\"data row2 col15\" >0.958515</td>\n",
       "      <td id=\"T_44371_row2_col16\" class=\"data row2 col16\" >0.980349</td>\n",
       "    </tr>\n",
       "    <tr>\n",
       "      <th id=\"T_44371_level0_row3\" class=\"row_heading level0 row3\" >2021-01-08</th>\n",
       "      <td id=\"T_44371_row3_col0\" class=\"data row3 col0\" >2300</td>\n",
       "      <td id=\"T_44371_row3_col1\" class=\"data row3 col1\" >2315</td>\n",
       "      <td id=\"T_44371_row3_col2\" class=\"data row3 col2\" >2225</td>\n",
       "      <td id=\"T_44371_row3_col3\" class=\"data row3 col3\" >2245</td>\n",
       "      <td id=\"T_44371_row3_col4\" class=\"data row3 col4\" >462568</td>\n",
       "      <td id=\"T_44371_row3_col5\" class=\"data row3 col5\" >-0.019651</td>\n",
       "      <td id=\"T_44371_row3_col6\" class=\"data row3 col6\" >060310</td>\n",
       "      <td id=\"T_44371_row3_col7\" class=\"data row3 col7\" >3S</td>\n",
       "      <td id=\"T_44371_row3_col8\" class=\"data row3 col8\" >0.998918</td>\n",
       "      <td id=\"T_44371_row3_col9\" class=\"data row3 col9\" >0.980349</td>\n",
       "      <td id=\"T_44371_row3_col10\" class=\"data row3 col10\" >0</td>\n",
       "      <td id=\"T_44371_row3_col11\" class=\"data row3 col11\" >0.968820</td>\n",
       "      <td id=\"T_44371_row3_col12\" class=\"data row3 col12\" >0.973274</td>\n",
       "      <td id=\"T_44371_row3_col13\" class=\"data row3 col13\" >0.968820</td>\n",
       "      <td id=\"T_44371_row3_col14\" class=\"data row3 col14\" >0.977728</td>\n",
       "      <td id=\"T_44371_row3_col15\" class=\"data row3 col15\" >0.973274</td>\n",
       "      <td id=\"T_44371_row3_col16\" class=\"data row3 col16\" >0.977728</td>\n",
       "    </tr>\n",
       "    <tr>\n",
       "      <th id=\"T_44371_level0_row4\" class=\"row_heading level0 row4\" >2021-01-11</th>\n",
       "      <td id=\"T_44371_row4_col0\" class=\"data row4 col0\" >2230</td>\n",
       "      <td id=\"T_44371_row4_col1\" class=\"data row4 col1\" >2275</td>\n",
       "      <td id=\"T_44371_row4_col2\" class=\"data row4 col2\" >2130</td>\n",
       "      <td id=\"T_44371_row4_col3\" class=\"data row4 col3\" >2175</td>\n",
       "      <td id=\"T_44371_row4_col4\" class=\"data row4 col4\" >409057</td>\n",
       "      <td id=\"T_44371_row4_col5\" class=\"data row4 col5\" >-0.031180</td>\n",
       "      <td id=\"T_44371_row4_col6\" class=\"data row4 col6\" >060310</td>\n",
       "      <td id=\"T_44371_row4_col7\" class=\"data row4 col7\" >3S</td>\n",
       "      <td id=\"T_44371_row4_col8\" class=\"data row4 col8\" >0.988702</td>\n",
       "      <td id=\"T_44371_row4_col9\" class=\"data row4 col9\" >0.968820</td>\n",
       "      <td id=\"T_44371_row4_col10\" class=\"data row4 col10\" >0</td>\n",
       "      <td id=\"T_44371_row4_col11\" class=\"data row4 col11\" >1.004598</td>\n",
       "      <td id=\"T_44371_row4_col12\" class=\"data row4 col12\" >1.000000</td>\n",
       "      <td id=\"T_44371_row4_col13\" class=\"data row4 col13\" >1.009195</td>\n",
       "      <td id=\"T_44371_row4_col14\" class=\"data row4 col14\" >1.004598</td>\n",
       "      <td id=\"T_44371_row4_col15\" class=\"data row4 col15\" >1.002299</td>\n",
       "      <td id=\"T_44371_row4_col16\" class=\"data row4 col16\" >1.009195</td>\n",
       "    </tr>\n",
       "  </tbody>\n",
       "</table>\n"
      ],
      "text/plain": [
       "<pandas.io.formats.style.Styler at 0x1a8d5107f70>"
      ]
     },
     "execution_count": 2,
     "metadata": {},
     "output_type": "execute_result"
    }
   ],
   "source": [
    "mdl_data = pd.read_pickle('mdl_data.pkl')\n",
    "mdl_data.head().style.set_table_attributes('style=\"font-size: 12px\"')"
   ]
  },
  {
   "cell_type": "code",
   "execution_count": 3,
   "metadata": {},
   "outputs": [],
   "source": [
    "kosdaq_list = pd.read_pickle('kosdaq_list.pkl')\n",
    "\n",
    "data_h3 = pd.DataFrame()\n",
    "\n",
    "for code in kosdaq_list['code']:\n",
    "\n",
    "    data = mdl_data[mdl_data['code']==code].sort_index().copy()\n",
    "    \n",
    "    data['positive_candle'] = (data['close'] > data['open']).astype(int) # 양봉\n",
    "    data['high/close'] = (data['positive_candle']==1)*(data['high']/data['close'] > 1.1).astype(int) # 양봉이면서 고가가 종가보다 높게 위치 10% 이상 높은 경우\n",
    "    data['num_high/close'] =  data['high/close'].rolling(20).sum()\n",
    "       \n",
    "    data['max_close']  = data[['close_r1','close_r2','close_r3','close_r4','close_r5']].max(axis=1) # 5 영업일 종가 수익율 중 최고 값\n",
    "    data.dropna(subset=['num_high/close','close_r1','close_r2','close_r3','close_r4','close_r5'], inplace=True) # missing 이 있는 행은 제거  \n",
    "    \n",
    "    data_h3 = pd.concat([data, data_h3], axis=0)\n",
    "\n",
    "data_h3.to_pickle('data_h3.pkl')  "
   ]
  },
  {
   "cell_type": "markdown",
   "metadata": {},
   "source": [
    "<br> 윗 꼬리가 긴 양봉이 많이 발생할 수 록 수익율에 좋은 영향을 주는 것으로 분석이 되었습니다."
   ]
  },
  {
   "cell_type": "code",
   "execution_count": 8,
   "metadata": {},
   "outputs": [
    {
     "name": "stdout",
     "output_type": "stream",
     "text": [
      "                 count  mean\n",
      "num_high/close              \n",
      "0.000           355754 1.031\n",
      "1.000            37734 1.043\n",
      "2.000             5113 1.050\n",
      "3.000              824 1.072\n",
      "4.000              159 1.047\n",
      "5.000               10 1.168\n"
     ]
    },
    {
     "data": {
      "text/plain": [
       "<AxesSubplot:xlabel='num_high/close'>"
      ]
     },
     "execution_count": 8,
     "metadata": {},
     "output_type": "execute_result"
    },
    {
     "data": {
      "image/png": "[encoded data removed]",
      "text/plain": [
       "<Figure size 432x288 with 1 Axes>"
      ]
     },
     "metadata": {
      "needs_background": "light"
     },
     "output_type": "display_data"
    }
   ],
   "source": [
    "data_h3 = pd.read_pickle('data_h3.pkl')\n",
    "print(data_h3.groupby('num_high/close')['max_close'].agg(['count','mean']))\n",
    "data_h3.groupby('num_high/close')['max_close'].mean().plot(kind='bar', ylim=(0.9,1.2)) # 막대그래프로 표현"
   ]
  },
  {
   "cell_type": "markdown",
   "metadata": {},
   "source": [
    "<br> 윗 꼬리가 긴 양봉도 궁금하지만, 장대양봉은 어떨지도 궁금합니다. 이렇게 가설을 검증하는 과정에서 새로운 가설을 테스트하기도 합니다. 장대양봉이 과거 60일 동안 몇 번 발생했는지 카운트해보고, 장대양봉의 갯 수와 수익율 사이에 상관성이 있는 지 함 보겠습니다."
   ]
  },
  {
   "cell_type": "code",
   "execution_count": 9,
   "metadata": {},
   "outputs": [],
   "source": [
    "kosdaq_list = pd.read_pickle('kosdaq_list.pkl')\n",
    "\n",
    "data_h3 = pd.DataFrame()\n",
    "\n",
    "for code in kosdaq_list['code']:\n",
    "\n",
    "    data = mdl_data[mdl_data['code']==code].sort_index().copy()\n",
    "    \n",
    "    data['positive_candle'] = (data['close'] > data['open']).astype(int) # 양봉\n",
    "    data['long_candle'] = (data['positive_candle']==1)*(data['high']==data['close'])*\\\n",
    "    (data['low']==data['open'])*(data['close']/data['open'] > 1.2).astype(int) # 장대 양봉을 데이터로 표현\n",
    "    \n",
    "    data['num_long'] =  data['long_candle'].rolling(60).sum() # 지난 20 일 동안 장대양봉의 갯 수\n",
    "       \n",
    "    data['max_close']  = data[['close_r1','close_r2','close_r3','close_r4','close_r5']].max(axis=1) # 5 영업일 종가 수익율 중 최고 값\n",
    "    data.dropna(subset=['num_long','close_r1','close_r2','close_r3','close_r4','close_r5'], inplace=True) # missing 이 있는 행은 제거  \n",
    "    \n",
    "    data_h3 = pd.concat([data, data_h3], axis=0)\n",
    "\n",
    "data_h3.to_pickle('data_h3.pkl')  "
   ]
  },
  {
   "cell_type": "markdown",
   "metadata": {},
   "source": [
    "<br> 과거 60일 동안 장대양봉이 2 번 발생한 경우 좋은 수익율을 보여주고 있습니다."
   ]
  },
  {
   "cell_type": "code",
   "execution_count": 11,
   "metadata": {},
   "outputs": [
    {
     "name": "stdout",
     "output_type": "stream",
     "text": [
      "           count  mean\n",
      "num_long              \n",
      "0.000     337432 1.031\n",
      "1.000       5394 1.047\n",
      "2.000         88 1.056\n"
     ]
    },
    {
     "data": {
      "text/plain": [
       "<AxesSubplot:xlabel='num_long'>"
      ]
     },
     "execution_count": 11,
     "metadata": {},
     "output_type": "execute_result"
    },
    {
     "data": {
      "image/png": "[encoded data removed]",
      "text/plain": [
       "<Figure size 432x288 with 1 Axes>"
      ]
     },
     "metadata": {
      "needs_background": "light"
     },
     "output_type": "display_data"
    }
   ],
   "source": [
    "data_h3 = pd.read_pickle('data_h3.pkl')\n",
    "print(data_h3.groupby('num_long')['max_close'].agg(['count','mean']))\n",
    "data_h3.groupby('num_long')['max_close'].mean().plot(kind='bar', ylim=(0.9,1.1))"
   ]
  },
  {
   "cell_type": "code",
   "execution_count": null,
   "metadata": {},
   "outputs": [],
   "source": []
  }
 ],
 "metadata": {
  "kernelspec": {
   "display_name": "Python 3 (ipykernel)",
   "language": "python",
   "name": "python3"
  },
  "language_info": {
   "codemirror_mode": {
    "name": "ipython",
    "version": 3
   },
   "file_extension": ".py",
   "mimetype": "text/x-python",
   "name": "python",
   "nbconvert_exporter": "python",
   "pygments_lexer": "ipython3",
   "version": "3.9.7"
  }
 },
 "nbformat": 4,
 "nbformat_minor": 4
}
