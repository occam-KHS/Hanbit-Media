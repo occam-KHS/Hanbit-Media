{
 "cells": [
  {
   "cell_type": "code",
   "execution_count": 1,
   "metadata": {},
   "outputs": [],
   "source": [
    "import FinanceDataReader as fdr\n",
    "%matplotlib inline\n",
    "import matplotlib.pyplot as plt\n",
    "import pandas as pd\n",
    "import numpy as np\n",
    "pd.options.display.float_format = '{:,.3f}'.format\n"
   ]
  },
  {
   "cell_type": "markdown",
   "metadata": {},
   "source": [
    "### 거래량이 종종 터지며, 매집의 흔적을 보인다.    \n",
    "\n",
    "양봉이면서 거래량이 갑자기 증가하는 날을 카운트하고, 수익율과의 상관관계를 보겠습니다."
   ]
  },
  {
   "cell_type": "code",
   "execution_count": 2,
   "metadata": {},
   "outputs": [
    {
     "data": {
      "text/html": [
       "<style type=\"text/css\">\n",
       "</style>\n",
       "<table id=\"T_505cb_\" style=\"font-size: 10px\">\n",
       "  <thead>\n",
       "    <tr>\n",
       "      <th class=\"blank level0\" >&nbsp;</th>\n",
       "      <th class=\"col_heading level0 col0\" >open</th>\n",
       "      <th class=\"col_heading level0 col1\" >high</th>\n",
       "      <th class=\"col_heading level0 col2\" >low</th>\n",
       "      <th class=\"col_heading level0 col3\" >close</th>\n",
       "      <th class=\"col_heading level0 col4\" >volume</th>\n",
       "      <th class=\"col_heading level0 col5\" >change</th>\n",
       "      <th class=\"col_heading level0 col6\" >code</th>\n",
       "      <th class=\"col_heading level0 col7\" >name</th>\n",
       "      <th class=\"col_heading level0 col8\" >kosdaq_return</th>\n",
       "      <th class=\"col_heading level0 col9\" >return</th>\n",
       "      <th class=\"col_heading level0 col10\" >win_market</th>\n",
       "      <th class=\"col_heading level0 col11\" >close_r1</th>\n",
       "      <th class=\"col_heading level0 col12\" >close_r2</th>\n",
       "      <th class=\"col_heading level0 col13\" >close_r3</th>\n",
       "      <th class=\"col_heading level0 col14\" >close_r4</th>\n",
       "      <th class=\"col_heading level0 col15\" >close_r5</th>\n",
       "      <th class=\"col_heading level0 col16\" >max_close</th>\n",
       "    </tr>\n",
       "  </thead>\n",
       "  <tbody>\n",
       "    <tr>\n",
       "      <th id=\"T_505cb_level0_row0\" class=\"row_heading level0 row0\" >2021-01-05</th>\n",
       "      <td id=\"T_505cb_row0_col0\" class=\"data row0 col0\" >2270</td>\n",
       "      <td id=\"T_505cb_row0_col1\" class=\"data row0 col1\" >2285</td>\n",
       "      <td id=\"T_505cb_row0_col2\" class=\"data row0 col2\" >2200</td>\n",
       "      <td id=\"T_505cb_row0_col3\" class=\"data row0 col3\" >2250</td>\n",
       "      <td id=\"T_505cb_row0_col4\" class=\"data row0 col4\" >410263</td>\n",
       "      <td id=\"T_505cb_row0_col5\" class=\"data row0 col5\" >-0.004425</td>\n",
       "      <td id=\"T_505cb_row0_col6\" class=\"data row0 col6\" >060310</td>\n",
       "      <td id=\"T_505cb_row0_col7\" class=\"data row0 col7\" >3S</td>\n",
       "      <td id=\"T_505cb_row0_col8\" class=\"data row0 col8\" >1.008326</td>\n",
       "      <td id=\"T_505cb_row0_col9\" class=\"data row0 col9\" >0.995575</td>\n",
       "      <td id=\"T_505cb_row0_col10\" class=\"data row0 col10\" >0</td>\n",
       "      <td id=\"T_505cb_row0_col11\" class=\"data row0 col11\" >1.017778</td>\n",
       "      <td id=\"T_505cb_row0_col12\" class=\"data row0 col12\" >1.017778</td>\n",
       "      <td id=\"T_505cb_row0_col13\" class=\"data row0 col13\" >0.997778</td>\n",
       "      <td id=\"T_505cb_row0_col14\" class=\"data row0 col14\" >0.966667</td>\n",
       "      <td id=\"T_505cb_row0_col15\" class=\"data row0 col15\" >0.971111</td>\n",
       "      <td id=\"T_505cb_row0_col16\" class=\"data row0 col16\" >1.017778</td>\n",
       "    </tr>\n",
       "    <tr>\n",
       "      <th id=\"T_505cb_level0_row1\" class=\"row_heading level0 row1\" >2021-01-06</th>\n",
       "      <td id=\"T_505cb_row1_col0\" class=\"data row1 col0\" >2225</td>\n",
       "      <td id=\"T_505cb_row1_col1\" class=\"data row1 col1\" >2310</td>\n",
       "      <td id=\"T_505cb_row1_col2\" class=\"data row1 col2\" >2215</td>\n",
       "      <td id=\"T_505cb_row1_col3\" class=\"data row1 col3\" >2290</td>\n",
       "      <td id=\"T_505cb_row1_col4\" class=\"data row1 col4\" >570349</td>\n",
       "      <td id=\"T_505cb_row1_col5\" class=\"data row1 col5\" >0.017778</td>\n",
       "      <td id=\"T_505cb_row1_col6\" class=\"data row1 col6\" >060310</td>\n",
       "      <td id=\"T_505cb_row1_col7\" class=\"data row1 col7\" >3S</td>\n",
       "      <td id=\"T_505cb_row1_col8\" class=\"data row1 col8\" >0.995567</td>\n",
       "      <td id=\"T_505cb_row1_col9\" class=\"data row1 col9\" >1.017778</td>\n",
       "      <td id=\"T_505cb_row1_col10\" class=\"data row1 col10\" >1</td>\n",
       "      <td id=\"T_505cb_row1_col11\" class=\"data row1 col11\" >1.000000</td>\n",
       "      <td id=\"T_505cb_row1_col12\" class=\"data row1 col12\" >0.980349</td>\n",
       "      <td id=\"T_505cb_row1_col13\" class=\"data row1 col13\" >0.949782</td>\n",
       "      <td id=\"T_505cb_row1_col14\" class=\"data row1 col14\" >0.954148</td>\n",
       "      <td id=\"T_505cb_row1_col15\" class=\"data row1 col15\" >0.949782</td>\n",
       "      <td id=\"T_505cb_row1_col16\" class=\"data row1 col16\" >1.000000</td>\n",
       "    </tr>\n",
       "    <tr>\n",
       "      <th id=\"T_505cb_level0_row2\" class=\"row_heading level0 row2\" >2021-01-07</th>\n",
       "      <td id=\"T_505cb_row2_col0\" class=\"data row2 col0\" >2290</td>\n",
       "      <td id=\"T_505cb_row2_col1\" class=\"data row2 col1\" >2340</td>\n",
       "      <td id=\"T_505cb_row2_col2\" class=\"data row2 col2\" >2240</td>\n",
       "      <td id=\"T_505cb_row2_col3\" class=\"data row2 col3\" >2290</td>\n",
       "      <td id=\"T_505cb_row2_col4\" class=\"data row2 col4\" >519777</td>\n",
       "      <td id=\"T_505cb_row2_col5\" class=\"data row2 col5\" >0.000000</td>\n",
       "      <td id=\"T_505cb_row2_col6\" class=\"data row2 col6\" >060310</td>\n",
       "      <td id=\"T_505cb_row2_col7\" class=\"data row2 col7\" >3S</td>\n",
       "      <td id=\"T_505cb_row2_col8\" class=\"data row2 col8\" >1.007612</td>\n",
       "      <td id=\"T_505cb_row2_col9\" class=\"data row2 col9\" >1.000000</td>\n",
       "      <td id=\"T_505cb_row2_col10\" class=\"data row2 col10\" >0</td>\n",
       "      <td id=\"T_505cb_row2_col11\" class=\"data row2 col11\" >0.980349</td>\n",
       "      <td id=\"T_505cb_row2_col12\" class=\"data row2 col12\" >0.949782</td>\n",
       "      <td id=\"T_505cb_row2_col13\" class=\"data row2 col13\" >0.954148</td>\n",
       "      <td id=\"T_505cb_row2_col14\" class=\"data row2 col14\" >0.949782</td>\n",
       "      <td id=\"T_505cb_row2_col15\" class=\"data row2 col15\" >0.958515</td>\n",
       "      <td id=\"T_505cb_row2_col16\" class=\"data row2 col16\" >0.980349</td>\n",
       "    </tr>\n",
       "    <tr>\n",
       "      <th id=\"T_505cb_level0_row3\" class=\"row_heading level0 row3\" >2021-01-08</th>\n",
       "      <td id=\"T_505cb_row3_col0\" class=\"data row3 col0\" >2300</td>\n",
       "      <td id=\"T_505cb_row3_col1\" class=\"data row3 col1\" >2315</td>\n",
       "      <td id=\"T_505cb_row3_col2\" class=\"data row3 col2\" >2225</td>\n",
       "      <td id=\"T_505cb_row3_col3\" class=\"data row3 col3\" >2245</td>\n",
       "      <td id=\"T_505cb_row3_col4\" class=\"data row3 col4\" >462568</td>\n",
       "      <td id=\"T_505cb_row3_col5\" class=\"data row3 col5\" >-0.019651</td>\n",
       "      <td id=\"T_505cb_row3_col6\" class=\"data row3 col6\" >060310</td>\n",
       "      <td id=\"T_505cb_row3_col7\" class=\"data row3 col7\" >3S</td>\n",
       "      <td id=\"T_505cb_row3_col8\" class=\"data row3 col8\" >0.998918</td>\n",
       "      <td id=\"T_505cb_row3_col9\" class=\"data row3 col9\" >0.980349</td>\n",
       "      <td id=\"T_505cb_row3_col10\" class=\"data row3 col10\" >0</td>\n",
       "      <td id=\"T_505cb_row3_col11\" class=\"data row3 col11\" >0.968820</td>\n",
       "      <td id=\"T_505cb_row3_col12\" class=\"data row3 col12\" >0.973274</td>\n",
       "      <td id=\"T_505cb_row3_col13\" class=\"data row3 col13\" >0.968820</td>\n",
       "      <td id=\"T_505cb_row3_col14\" class=\"data row3 col14\" >0.977728</td>\n",
       "      <td id=\"T_505cb_row3_col15\" class=\"data row3 col15\" >0.973274</td>\n",
       "      <td id=\"T_505cb_row3_col16\" class=\"data row3 col16\" >0.977728</td>\n",
       "    </tr>\n",
       "    <tr>\n",
       "      <th id=\"T_505cb_level0_row4\" class=\"row_heading level0 row4\" >2021-01-11</th>\n",
       "      <td id=\"T_505cb_row4_col0\" class=\"data row4 col0\" >2230</td>\n",
       "      <td id=\"T_505cb_row4_col1\" class=\"data row4 col1\" >2275</td>\n",
       "      <td id=\"T_505cb_row4_col2\" class=\"data row4 col2\" >2130</td>\n",
       "      <td id=\"T_505cb_row4_col3\" class=\"data row4 col3\" >2175</td>\n",
       "      <td id=\"T_505cb_row4_col4\" class=\"data row4 col4\" >409057</td>\n",
       "      <td id=\"T_505cb_row4_col5\" class=\"data row4 col5\" >-0.031180</td>\n",
       "      <td id=\"T_505cb_row4_col6\" class=\"data row4 col6\" >060310</td>\n",
       "      <td id=\"T_505cb_row4_col7\" class=\"data row4 col7\" >3S</td>\n",
       "      <td id=\"T_505cb_row4_col8\" class=\"data row4 col8\" >0.988702</td>\n",
       "      <td id=\"T_505cb_row4_col9\" class=\"data row4 col9\" >0.968820</td>\n",
       "      <td id=\"T_505cb_row4_col10\" class=\"data row4 col10\" >0</td>\n",
       "      <td id=\"T_505cb_row4_col11\" class=\"data row4 col11\" >1.004598</td>\n",
       "      <td id=\"T_505cb_row4_col12\" class=\"data row4 col12\" >1.000000</td>\n",
       "      <td id=\"T_505cb_row4_col13\" class=\"data row4 col13\" >1.009195</td>\n",
       "      <td id=\"T_505cb_row4_col14\" class=\"data row4 col14\" >1.004598</td>\n",
       "      <td id=\"T_505cb_row4_col15\" class=\"data row4 col15\" >1.002299</td>\n",
       "      <td id=\"T_505cb_row4_col16\" class=\"data row4 col16\" >1.009195</td>\n",
       "    </tr>\n",
       "  </tbody>\n",
       "</table>\n"
      ],
      "text/plain": [
       "<pandas.io.formats.style.Styler at 0x230a494bac0>"
      ]
     },
     "execution_count": 2,
     "metadata": {},
     "output_type": "execute_result"
    }
   ],
   "source": [
    "mdl_data = pd.read_pickle('mdl_data.pkl')\n",
    "mdl_data.head().style.set_table_attributes('style=\"font-size: 10px\"')"
   ]
  },
  {
   "cell_type": "code",
   "execution_count": 3,
   "metadata": {},
   "outputs": [],
   "source": [
    "kosdaq_list = pd.read_pickle('kosdaq_list.pkl')\n",
    "\n",
    "data_h4 = pd.DataFrame()\n",
    "\n",
    "for code in kosdaq_list['code']:\n",
    "\n",
    "    data = mdl_data[mdl_data['code']==code].sort_index().copy()\n",
    "    \n",
    "    data['volume_mean'] = data['volume'].rolling(60).mean()\n",
    "    data['volume_std'] = data['volume'].rolling(60).std()\n",
    "    data['volume_z'] = (data['volume'] - data['volume_mean'])/data['volume_std'] # 거래량은 종목과 주가에 따라 다르기 떄문에 표준화한 값이 필요함\n",
    "    data['z>1.96'] = (data['close'] > data['open'])*(data['volume_z'] > 1.65).astype(int) # 양봉이면서 거래량이 90%신뢰구간을 벗어난 날\n",
    "    data['num_z>1.96'] =  data['z>1.96'].rolling(60).sum()  # 양봉이면서 거래량이 90%신뢰구간을 벗어난 날을 카운트\n",
    "       \n",
    "    data['max_close']  = data[['close_r1','close_r2','close_r3','close_r4','close_r5']].max(axis=1) # 5 영업일 종가 수익율 중 최고 값\n",
    "    data.dropna(subset=['volume_mean','close_r1','close_r2','close_r3','close_r4','close_r5'], inplace=True) # missing 이 있는 행은 제거  \n",
    "    \n",
    "    data_h4 = pd.concat([data, data_h4], axis=0)\n",
    "\n",
    "data_h4.to_pickle('data_h4.pkl')  "
   ]
  },
  {
   "cell_type": "markdown",
   "metadata": {},
   "source": [
    "<br> 거래량이 갑자기 많아지고 양봉인 날을 카운트하고 그 갯 수에 따라 수익율의 변화를 봤습니다. 전체적으로 거래량이 갑자기 증가하는 날이 많을 수 록 수익율이 증가하는 패턴을 보여줍니다. 결과의 마지막 num_z 가 15일인 경우는 수익율이 급강하했는데요. 실제로 너무 많으면 수익율이 안 좋은 것인지 여부는 해당 레코드 수(47개)가 많지 않아 신뢰하기 어렵습니다.  "
   ]
  },
  {
   "cell_type": "code",
   "execution_count": 4,
   "metadata": {},
   "outputs": [
    {
     "name": "stdout",
     "output_type": "stream",
     "text": [
      "             count  mean\n",
      "num_z>1.96              \n",
      "0.000       106042 1.027\n",
      "1.000        78973 1.031\n",
      "2.000        57979 1.032\n",
      "3.000        39562 1.035\n",
      "4.000        25225 1.035\n",
      "5.000        15431 1.038\n",
      "6.000         9268 1.040\n",
      "7.000         4820 1.045\n",
      "8.000         3230 1.047\n",
      "9.000         1483 1.045\n",
      "10.000         904 1.046\n",
      "11.000         450 1.047\n",
      "12.000         318 1.035\n",
      "13.000          56 1.046\n",
      "14.000          94 1.048\n",
      "15.000          47 1.002\n"
     ]
    },
    {
     "data": {
      "image/png": "[encoded data removed]",
      "text/plain": [
       "<Figure size 864x360 with 1 Axes>"
      ]
     },
     "metadata": {
      "needs_background": "light"
     },
     "output_type": "display_data"
    }
   ],
   "source": [
    "data_h4 = pd.read_pickle('data_h4.pkl') \n",
    "data_h4.groupby('num_z>1.96')['max_close'].mean().plot(figsize=(12,5))\n",
    "print(data_h4.groupby('num_z>1.96')['max_close'].agg(['count','mean']))"
   ]
  }
 ],
 "metadata": {
  "kernelspec": {
   "display_name": "Python 3 (ipykernel)",
   "language": "python",
   "name": "python3"
  },
  "language_info": {
   "codemirror_mode": {
    "name": "ipython",
    "version": 3
   },
   "file_extension": ".py",
   "mimetype": "text/x-python",
   "name": "python",
   "nbconvert_exporter": "python",
   "pygments_lexer": "ipython3",
   "version": "3.9.7"
  }
 },
 "nbformat": 4,
 "nbformat_minor": 4
}
