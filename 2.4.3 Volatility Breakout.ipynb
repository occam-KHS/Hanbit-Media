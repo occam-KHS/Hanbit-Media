{
 "cells": [
  {
   "cell_type": "markdown",
   "id": "68b5c6f7-2d9d-4b0c-9241-16b9bc9e61cc",
   "metadata": {},
   "source": [
    "### Volatility Breakout Strategy\n",
    "이전 단원에서 최적의 K 를 찾아보았는데요. 이번에는 K 를 고정하고 최적의 종목을 찾아보겠습니다. 코스피로 한정해서 종목을 찾아보겠습니다. FinanceDataReaer 의 StockListing 메소드의 인수로 'KOSPI' 를 넣으면 코스피 모든 종목을 반환합니다."
   ]
  },
  {
   "cell_type": "code",
   "execution_count": 1,
   "id": "fabde357-2302-4056-a384-30afe64b4376",
   "metadata": {},
   "outputs": [
    {
     "data": {
      "text/html": [
       "<div>\n",
       "<style scoped>\n",
       "    .dataframe tbody tr th:only-of-type {\n",
       "        vertical-align: middle;\n",
       "    }\n",
       "\n",
       "    .dataframe tbody tr th {\n",
       "        vertical-align: top;\n",
       "    }\n",
       "\n",
       "    .dataframe thead th {\n",
       "        text-align: right;\n",
       "    }\n",
       "</style>\n",
       "<table border=\"1\" class=\"dataframe\">\n",
       "  <thead>\n",
       "    <tr style=\"text-align: right;\">\n",
       "      <th></th>\n",
       "      <th>Symbol</th>\n",
       "      <th>Market</th>\n",
       "      <th>Name</th>\n",
       "      <th>Sector</th>\n",
       "      <th>Industry</th>\n",
       "      <th>ListingDate</th>\n",
       "      <th>SettleMonth</th>\n",
       "      <th>Representative</th>\n",
       "      <th>HomePage</th>\n",
       "      <th>Region</th>\n",
       "    </tr>\n",
       "  </thead>\n",
       "  <tbody>\n",
       "    <tr>\n",
       "      <th>1</th>\n",
       "      <td>095570</td>\n",
       "      <td>KOSPI</td>\n",
       "      <td>AJ네트웍스</td>\n",
       "      <td>산업용 기계 및 장비 임대업</td>\n",
       "      <td>렌탈(파렛트, OA장비, 건설장비)</td>\n",
       "      <td>2015-08-21</td>\n",
       "      <td>12월</td>\n",
       "      <td>박대현, 손삼달</td>\n",
       "      <td>http://www.ajnet.co.kr</td>\n",
       "      <td>서울특별시</td>\n",
       "    </tr>\n",
       "    <tr>\n",
       "      <th>2</th>\n",
       "      <td>006840</td>\n",
       "      <td>KOSPI</td>\n",
       "      <td>AK홀딩스</td>\n",
       "      <td>기타 금융업</td>\n",
       "      <td>지주사업</td>\n",
       "      <td>1999-08-11</td>\n",
       "      <td>12월</td>\n",
       "      <td>채형석, 이석주(각자 대표이사)</td>\n",
       "      <td>http://www.aekyunggroup.co.kr</td>\n",
       "      <td>서울특별시</td>\n",
       "    </tr>\n",
       "    <tr>\n",
       "      <th>6</th>\n",
       "      <td>152100</td>\n",
       "      <td>KOSPI</td>\n",
       "      <td>ARIRANG 200</td>\n",
       "      <td>NaN</td>\n",
       "      <td>NaN</td>\n",
       "      <td>NaT</td>\n",
       "      <td>NaN</td>\n",
       "      <td>NaN</td>\n",
       "      <td>NaN</td>\n",
       "      <td>NaN</td>\n",
       "    </tr>\n",
       "    <tr>\n",
       "      <th>7</th>\n",
       "      <td>295820</td>\n",
       "      <td>KOSPI</td>\n",
       "      <td>ARIRANG 200동일가중</td>\n",
       "      <td>NaN</td>\n",
       "      <td>NaN</td>\n",
       "      <td>NaT</td>\n",
       "      <td>NaN</td>\n",
       "      <td>NaN</td>\n",
       "      <td>NaN</td>\n",
       "      <td>NaN</td>\n",
       "    </tr>\n",
       "    <tr>\n",
       "      <th>8</th>\n",
       "      <td>253150</td>\n",
       "      <td>KOSPI</td>\n",
       "      <td>ARIRANG 200선물레버리지</td>\n",
       "      <td>NaN</td>\n",
       "      <td>NaN</td>\n",
       "      <td>NaT</td>\n",
       "      <td>NaN</td>\n",
       "      <td>NaN</td>\n",
       "      <td>NaN</td>\n",
       "      <td>NaN</td>\n",
       "    </tr>\n",
       "  </tbody>\n",
       "</table>\n",
       "</div>"
      ],
      "text/plain": [
       "   Symbol Market               Name           Sector             Industry  \\\n",
       "1  095570  KOSPI             AJ네트웍스  산업용 기계 및 장비 임대업  렌탈(파렛트, OA장비, 건설장비)   \n",
       "2  006840  KOSPI              AK홀딩스           기타 금융업                 지주사업   \n",
       "6  152100  KOSPI        ARIRANG 200              NaN                  NaN   \n",
       "7  295820  KOSPI    ARIRANG 200동일가중              NaN                  NaN   \n",
       "8  253150  KOSPI  ARIRANG 200선물레버리지              NaN                  NaN   \n",
       "\n",
       "  ListingDate SettleMonth     Representative                       HomePage  \\\n",
       "1  2015-08-21         12월           박대현, 손삼달         http://www.ajnet.co.kr   \n",
       "2  1999-08-11         12월  채형석, 이석주(각자 대표이사)  http://www.aekyunggroup.co.kr   \n",
       "6         NaT         NaN                NaN                            NaN   \n",
       "7         NaT         NaN                NaN                            NaN   \n",
       "8         NaT         NaN                NaN                            NaN   \n",
       "\n",
       "  Region  \n",
       "1  서울특별시  \n",
       "2  서울특별시  \n",
       "6    NaN  \n",
       "7    NaN  \n",
       "8    NaN  "
      ]
     },
     "execution_count": 1,
     "metadata": {},
     "output_type": "execute_result"
    }
   ],
   "source": [
    "import FinanceDataReader as fdr \n",
    "import pandas as pd\n",
    "import numpy as np\n",
    "\n",
    "kospi_df = fdr.StockListing('KOSPI')\n",
    "kospi_df.head()"
   ]
  },
  {
   "cell_type": "markdown",
   "id": "76ce26bd-fc88-4096-9b4d-b1331848f796",
   "metadata": {},
   "source": [
    "<br> nunique() 은 유니크한 종목 수를 세는 메소드입니다. 6,361 개의 종목이 있습니다. Sector 가 비어있는 종목의 경우는 일반적인 회사의 종목이 아닌 것인 것으로 보입니다. Sector 가 비어있는 종목은 제외하겠습니다. 이제 820 개의 종목만 남았습니다."
   ]
  },
  {
   "cell_type": "code",
   "execution_count": 15,
   "id": "63a2b659-59db-4886-a5a0-94ab617c9de8",
   "metadata": {},
   "outputs": [
    {
     "name": "stdout",
     "output_type": "stream",
     "text": [
      "6361\n",
      "820\n"
     ]
    }
   ],
   "source": [
    "print(kospi_df['Symbol'].nunique())\n",
    "print(kospi_df[~kospi_df['Sector'].isnull()]['Symbol'].nunique())"
   ]
  },
  {
   "cell_type": "markdown",
   "id": "662188be-6b1b-49a7-8e57-adc03721d080",
   "metadata": {},
   "source": [
    "<br> kospi_df 에서 필요한 컬럼 'Symbol' 과 'Name' 두 개만 kospi_list DataFrame 에 저장합니다. 그리고 종목코드 'Symbol' 과 'Name' 을 각 각 'code' 외 'name' 으로 바꿔줍니다. 그리고 나중을 위해서 결과물을 pickle 파일로 저장도 합니다."
   ]
  },
  {
   "cell_type": "code",
   "execution_count": 16,
   "id": "48d46dff-5fd6-4a98-8949-72947732eb66",
   "metadata": {},
   "outputs": [],
   "source": [
    "kospi_list = kospi_df[~kospi_df['Sector'].isnull()][['Symbol','Name']].rename(columns={'Symbol':'code','Name':'name'})\n",
    "kospi_list.to_pickle('kospi_list.pkl')"
   ]
  },
  {
   "cell_type": "markdown",
   "id": "5f779a8c-3fa8-4e6e-9e6c-91179aa847d1",
   "metadata": {},
   "source": [
    "<br> 이제 변동성 돌파 전략의 수익율을 계산하는 함수를 불러옵니다. 일단 K 는 0.5 로 고정합니다. 모든 코스피 종목을 For-Loop 하면서 가장 수익율이 좋은 종목을 찾으면 됩니다. Loop 를 돌 때마다 종목이름, 종목코드, 평균수익율, 최대손실, 누적수익율을 list 에 저장합니다. 마지막으로 모든 list 를 모아서 하나의 DataFrame 으로 저장합니다. 800 개가 넘는 종목을 Loop 로 하나 씩 하니 시간이 많이 걸립니다. time 모듈을 이용해 총 데이터 처리시간도 측정해 봅니다. 2021년 변동성 돌파전략으로 매수할 수 있는 날이 50일 미만 경우는 무시하도록 if 문을 만들었습니다. 최종 결과를 pickle 로 저장합니다. "
   ]
  },
  {
   "cell_type": "code",
   "execution_count": 48,
   "id": "0117d080-843b-4f67-956d-ad5c55cbc70b",
   "metadata": {},
   "outputs": [
    {
     "name": "stdout",
     "output_type": "stream",
     "text": [
      "총 프로세싱 시간 100.75618124008179\n"
     ]
    }
   ],
   "source": [
    "import time\n",
    "\n",
    "start_time = time.time()\n",
    "K = 0.5\n",
    "\n",
    "def avg_r(code, K):\n",
    "    stock = fdr.DataReader(code,  start='2021-01-03', end='2021-12-31')    \n",
    "    stock['v'] = (stock['High'].shift(1) - stock['Low'].shift(1))*K\n",
    "    stock['buy_price'] = stock['Open'] + stock['v']\n",
    "    stock['buy'] = (stock['High']  > stock['buy_price']).astype(int)\n",
    "    stock['return'] = stock['Open'].shift(-1)/stock['buy_price']\n",
    "    return len(stock[stock['buy']==1]), stock[stock['buy']==1]['return'].mean(), stock[stock['buy']==1]['return'].min(), stock[stock['buy']==1]['return'].prod()\n",
    "\n",
    "code_list = []\n",
    "name_list = []\n",
    "return_list = []\n",
    "worst_list = []\n",
    "cumul_list = []\n",
    "\n",
    "for code, name in zip(kospi_list['code'], kospi_list['name']):\n",
    "\n",
    "    n, r, w, c = avg_r(code, K)\n",
    "\n",
    "    if n >= 50: # 최소한 50일 이상 거래일 존재해야 진행\n",
    "\n",
    "        code_list.append(code)\n",
    "        name_list.append(name)\n",
    "        return_list.append(r)\n",
    "        worst_list.append(w)\n",
    "        cumul_list.append(c)\n",
    "        \n",
    "    else:\n",
    "        continue\n",
    "\n",
    "outcome = pd.DataFrame({'code':code_list, 'name': name_list, 'return': return_list, 'worst': worst_list, 'cumul': cumul_list})    \n",
    "outcome.to_pickle('outcome.pkl')\n",
    "\n",
    "print(f'총 프로세싱 시간 {time.time() - start_time}')"
   ]
  },
  {
   "cell_type": "markdown",
   "id": "72895517-ede5-48a1-87b0-92c5777758c9",
   "metadata": {},
   "source": [
    "<br> 저장된 결과물 outcome 을 'return' 값의 내림차순으로 함 보겠습니다. 수익율이 좋은 종목 Top 3 는 '조일알미늄', '한전기술', '포스코스틸리온' 이였습니다. Top 10 에서 최대손실율을 동시에 고려하면, 2021년에는 '미원화학'이 좋아 보입니다. 미원화학을 2021년 초부터 변동성 돌파전략으로 매수 매도를 했으면 2021년 연말에는 원금의 2.9배가 되어 있었을 것입니다. 하지만, 지나간 일입니다. 이 책의 4장부터는 데이터 분석으로 미래를 예측하는 방법을 다룹니다."
   ]
  },
  {
   "cell_type": "code",
   "execution_count": 49,
   "id": "ec14c584-bad9-4b0a-8560-747aaab13a90",
   "metadata": {},
   "outputs": [
    {
     "data": {
      "text/html": [
       "<div>\n",
       "<style scoped>\n",
       "    .dataframe tbody tr th:only-of-type {\n",
       "        vertical-align: middle;\n",
       "    }\n",
       "\n",
       "    .dataframe tbody tr th {\n",
       "        vertical-align: top;\n",
       "    }\n",
       "\n",
       "    .dataframe thead th {\n",
       "        text-align: right;\n",
       "    }\n",
       "</style>\n",
       "<table border=\"1\" class=\"dataframe\">\n",
       "  <thead>\n",
       "    <tr style=\"text-align: right;\">\n",
       "      <th></th>\n",
       "      <th>code</th>\n",
       "      <th>name</th>\n",
       "      <th>return</th>\n",
       "      <th>worst</th>\n",
       "      <th>cumul</th>\n",
       "    </tr>\n",
       "  </thead>\n",
       "  <tbody>\n",
       "    <tr>\n",
       "      <th>570</th>\n",
       "      <td>018470</td>\n",
       "      <td>조일알미늄</td>\n",
       "      <td>1.017648</td>\n",
       "      <td>0.907132</td>\n",
       "      <td>4.549524</td>\n",
       "    </tr>\n",
       "    <tr>\n",
       "      <th>722</th>\n",
       "      <td>052690</td>\n",
       "      <td>한전기술</td>\n",
       "      <td>1.017243</td>\n",
       "      <td>0.932258</td>\n",
       "      <td>5.318219</td>\n",
       "    </tr>\n",
       "    <tr>\n",
       "      <th>645</th>\n",
       "      <td>058430</td>\n",
       "      <td>포스코스틸리온</td>\n",
       "      <td>1.016921</td>\n",
       "      <td>0.868904</td>\n",
       "      <td>3.838723</td>\n",
       "    </tr>\n",
       "    <tr>\n",
       "      <th>274</th>\n",
       "      <td>092200</td>\n",
       "      <td>디아이씨</td>\n",
       "      <td>1.016628</td>\n",
       "      <td>0.896846</td>\n",
       "      <td>3.478830</td>\n",
       "    </tr>\n",
       "    <tr>\n",
       "      <th>546</th>\n",
       "      <td>008500</td>\n",
       "      <td>일정실업</td>\n",
       "      <td>1.016182</td>\n",
       "      <td>0.928633</td>\n",
       "      <td>4.006988</td>\n",
       "    </tr>\n",
       "    <tr>\n",
       "      <th>318</th>\n",
       "      <td>134380</td>\n",
       "      <td>미원화학</td>\n",
       "      <td>1.015959</td>\n",
       "      <td>0.966864</td>\n",
       "      <td>2.918914</td>\n",
       "    </tr>\n",
       "    <tr>\n",
       "      <th>667</th>\n",
       "      <td>004090</td>\n",
       "      <td>한국석유</td>\n",
       "      <td>1.015428</td>\n",
       "      <td>0.914433</td>\n",
       "      <td>2.984814</td>\n",
       "    </tr>\n",
       "    <tr>\n",
       "      <th>773</th>\n",
       "      <td>010690</td>\n",
       "      <td>화신</td>\n",
       "      <td>1.014677</td>\n",
       "      <td>0.921250</td>\n",
       "      <td>3.405889</td>\n",
       "    </tr>\n",
       "    <tr>\n",
       "      <th>225</th>\n",
       "      <td>001440</td>\n",
       "      <td>대한전선</td>\n",
       "      <td>1.014668</td>\n",
       "      <td>0.706109</td>\n",
       "      <td>3.403380</td>\n",
       "    </tr>\n",
       "    <tr>\n",
       "      <th>594</th>\n",
       "      <td>001620</td>\n",
       "      <td>케이비아이동국실업</td>\n",
       "      <td>1.014626</td>\n",
       "      <td>0.932897</td>\n",
       "      <td>3.121872</td>\n",
       "    </tr>\n",
       "  </tbody>\n",
       "</table>\n",
       "</div>"
      ],
      "text/plain": [
       "       code       name    return     worst     cumul\n",
       "570  018470      조일알미늄  1.017648  0.907132  4.549524\n",
       "722  052690       한전기술  1.017243  0.932258  5.318219\n",
       "645  058430    포스코스틸리온  1.016921  0.868904  3.838723\n",
       "274  092200       디아이씨  1.016628  0.896846  3.478830\n",
       "546  008500       일정실업  1.016182  0.928633  4.006988\n",
       "318  134380       미원화학  1.015959  0.966864  2.918914\n",
       "667  004090       한국석유  1.015428  0.914433  2.984814\n",
       "773  010690         화신  1.014677  0.921250  3.405889\n",
       "225  001440       대한전선  1.014668  0.706109  3.403380\n",
       "594  001620  케이비아이동국실업  1.014626  0.932897  3.121872"
      ]
     },
     "execution_count": 49,
     "metadata": {},
     "output_type": "execute_result"
    }
   ],
   "source": [
    "outcome.sort_values(by='return', ascending=False).head(10)"
   ]
  },
  {
   "cell_type": "markdown",
   "id": "2890a2f3-fcb8-4008-9fbd-c2a0d7a76800",
   "metadata": {},
   "source": [
    "<br> 미원화학의 2021년 주가흐름을 함 보겠습니다. 2021년 3월에 급등이 있었습니다. "
   ]
  },
  {
   "cell_type": "code",
   "execution_count": 50,
   "id": "4fe2cc13-4935-4d88-96ff-afe918c0ef8f",
   "metadata": {},
   "outputs": [
    {
     "data": {
      "text/plain": [
       "<AxesSubplot:xlabel='Date'>"
      ]
     },
     "execution_count": 50,
     "metadata": {},
     "output_type": "execute_result"
    },
    {
     "data": {
      "image/png": "[encoded data removed]",
      "text/plain": [
       "<Figure size 432x288 with 1 Axes>"
      ]
     },
     "metadata": {
      "needs_background": "light"
     },
     "output_type": "display_data"
    }
   ],
   "source": [
    "code = '134380' # 미원화학\n",
    "stock_data = fdr.DataReader(code, start='2021-01-03', end='2021-12-31') \n",
    "stock_data['Close'].plot()"
   ]
  },
  {
   "cell_type": "code",
   "execution_count": null,
   "id": "f45521d1-34c3-41a7-aca6-ec78cc767835",
   "metadata": {},
   "outputs": [],
   "source": []
  }
 ],
 "metadata": {
  "kernelspec": {
   "display_name": "Python 3 (ipykernel)",
   "language": "python",
   "name": "python3"
  },
  "language_info": {
   "codemirror_mode": {
    "name": "ipython",
    "version": 3
   },
   "file_extension": ".py",
   "mimetype": "text/x-python",
   "name": "python",
   "nbconvert_exporter": "python",
   "pygments_lexer": "ipython3",
   "version": "3.9.7"
  }
 },
 "nbformat": 4,
 "nbformat_minor": 5
}
