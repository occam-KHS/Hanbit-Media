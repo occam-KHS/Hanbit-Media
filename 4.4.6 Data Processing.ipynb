{
 "cells": [
  {
   "cell_type": "code",
   "execution_count": 3,
   "metadata": {},
   "outputs": [],
   "source": [
    "import FinanceDataReader as fdr\n",
    "%matplotlib inline\n",
    "import matplotlib.pyplot as plt\n",
    "import requests\n",
    "import bs4\n",
    "import pandas as pd\n",
    "import numpy as np\n",
    "import time\n",
    "import datetime\n",
    "import os\n",
    "import warnings\n",
    "warnings.filterwarnings('ignore')\n",
    "import json\n",
    "import statsmodels\n",
    "import statsmodels.api as sm\n",
    "from statsmodels.tsa.stattools import coint\n",
    "import pickle\n",
    "import timeit\n",
    "from IPython.display import clear_output\n",
    "import glob\n",
    "\n",
    "pd.options.display.float_format = '{:,.3f}'.format"
   ]
  },
  {
   "cell_type": "markdown",
   "metadata": {},
   "source": [
    "- #### 타겟변수 생성\n",
    "\n",
    "앞에서 언급한 바와 같이 바이너리 타겟변수를 만들어 분석을 하고 모델을 구현 할 것입니다. 가설 검정도 타겟변수를 이용합니다. 타겟변수가 '1' 이라는 뜻은 정해진 매도 전략을 실행 후, 수익율이 1 초과된 것이고, '0' 이란 뜻은 수익율이 1 이하인 경우입니다. 모델 구현에 있어서 수익율 자체를 타겟변수로 할 수 도 있으나, 과거 일봉 데이터로 어떤 종목은 수익율 1 % 이고 어떤 종목은 수익율이 8% 을 맞추는 것은 상식적인 선에서도 불가능 할 것으로 생각이 됩니다. 하지만 매수 가격대비 더 비싸게 팔 기회가 있었는지는 여부는 과거 일봉 데이터로 예측해 볼 수 있을 것 같습니다. \n",
    "\n",
    "월별 타겟변수의 평균값을 보니, 5월에는 0.6 이 나왔습니다. 즉, 5월에 산 종목 60% 가 수익율 1 이상이 되었다는 뜻 입니다."
   ]
  },
  {
   "cell_type": "markdown",
   "metadata": {},
   "source": [
    "- ### Create a Target Feature"
   ]
  },
  {
   "cell_type": "code",
   "execution_count": 89,
   "metadata": {},
   "outputs": [
    {
     "name": "stdout",
     "output_type": "stream",
     "text": [
      "yymm\n",
      "2021-05   0.605\n",
      "2021-06   0.500\n",
      "2021-07   0.398\n",
      "Name: target, dtype: float64\n"
     ]
    }
   ],
   "source": [
    "model_data = pd.read_pickle('model_data.pkl')\n",
    "model_data['target'] = np.where(model_data['return']>1, 1, 0)\n",
    "print(model_data.groupby('yymm')['target'].mean())"
   ]
  },
  {
   "cell_type": "code",
   "execution_count": null,
   "metadata": {},
   "outputs": [],
   "source": []
  }
 ],
 "metadata": {
  "kernelspec": {
   "display_name": "Python 3",
   "language": "python",
   "name": "python3"
  },
  "language_info": {
   "codemirror_mode": {
    "name": "ipython",
    "version": 3
   },
   "file_extension": ".py",
   "mimetype": "text/x-python",
   "name": "python",
   "nbconvert_exporter": "python",
   "pygments_lexer": "ipython3",
   "version": "3.8.5"
  }
 },
 "nbformat": 4,
 "nbformat_minor": 4
}
