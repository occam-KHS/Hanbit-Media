{
 "cells": [
  {
   "cell_type": "code",
   "execution_count": 89,
   "metadata": {},
   "outputs": [],
   "source": [
    "import FinanceDataReader as fdr\n",
    "%matplotlib inline\n",
    "import matplotlib.pyplot as plt\n",
    "import pandas as pd\n",
    "import numpy as np\n",
    "\n",
    "pd.options.display.float_format = '{:,.5f}'.format\n"
   ]
  },
  {
   "cell_type": "markdown",
   "metadata": {},
   "source": [
    "### 매수 전략 데이터 프로세싱\n",
    "모델 개발을 위해서는 매수 전략에 따라 매수 종목을 결정할 수 있어야 합니다.이번 장에서는 기본적인 몇 가지 매수 종목을 찾는 데이터처리를 진행해 보겠습니다. 저장해 둔 mdl_data pickle 파일을 읽습니다.\n"
   ]
  },
  {
   "cell_type": "code",
   "execution_count": 156,
   "metadata": {},
   "outputs": [],
   "source": [
    "mdl_data = pd.read_pickle('mdl_data.pkl')"
   ]
  },
  {
   "cell_type": "markdown",
   "metadata": {},
   "source": [
    "### <br>매수 전략 1 - 시장 수익율보다 더 좋은 수익율을 보인 종목을 매수\n",
    "시장 수익율보다 더 좋은 수익율을 보인 종목을 알기 위해 4.4.5 절에 'win_market' 이라는 변수를 생성했습니다. 이것을 이용할 것인데요. 더 의미있는 지표를 생성하기 위해서 당일 하루 보다 과거 60일 누적합을 보겠습니다. 수익율은 max_return 이용하겠습니다.\n"
   ]
  },
  {
   "cell_type": "code",
   "execution_count": 301,
   "metadata": {},
   "outputs": [
    {
     "data": {
      "text/html": [
       "<div>\n",
       "<style scoped>\n",
       "    .dataframe tbody tr th:only-of-type {\n",
       "        vertical-align: middle;\n",
       "    }\n",
       "\n",
       "    .dataframe tbody tr th {\n",
       "        vertical-align: top;\n",
       "    }\n",
       "\n",
       "    .dataframe thead th {\n",
       "        text-align: right;\n",
       "    }\n",
       "</style>\n",
       "<table border=\"1\" class=\"dataframe\">\n",
       "  <thead>\n",
       "    <tr style=\"text-align: right;\">\n",
       "      <th></th>\n",
       "      <th>open</th>\n",
       "      <th>high</th>\n",
       "      <th>low</th>\n",
       "      <th>close</th>\n",
       "      <th>volume</th>\n",
       "      <th>change</th>\n",
       "      <th>code</th>\n",
       "      <th>name</th>\n",
       "      <th>kosdaq_return</th>\n",
       "      <th>return</th>\n",
       "      <th>...</th>\n",
       "      <th>high_r1</th>\n",
       "      <th>low_r1</th>\n",
       "      <th>high_r2</th>\n",
       "      <th>low_r2</th>\n",
       "      <th>high_r3</th>\n",
       "      <th>low_r3</th>\n",
       "      <th>high_r4</th>\n",
       "      <th>low_r4</th>\n",
       "      <th>high_r5</th>\n",
       "      <th>low_r5</th>\n",
       "    </tr>\n",
       "    <tr>\n",
       "      <th>date</th>\n",
       "      <th></th>\n",
       "      <th></th>\n",
       "      <th></th>\n",
       "      <th></th>\n",
       "      <th></th>\n",
       "      <th></th>\n",
       "      <th></th>\n",
       "      <th></th>\n",
       "      <th></th>\n",
       "      <th></th>\n",
       "      <th></th>\n",
       "      <th></th>\n",
       "      <th></th>\n",
       "      <th></th>\n",
       "      <th></th>\n",
       "      <th></th>\n",
       "      <th></th>\n",
       "      <th></th>\n",
       "      <th></th>\n",
       "      <th></th>\n",
       "      <th></th>\n",
       "    </tr>\n",
       "  </thead>\n",
       "  <tbody>\n",
       "    <tr>\n",
       "      <th>2021-03-31</th>\n",
       "      <td>13350</td>\n",
       "      <td>13350</td>\n",
       "      <td>13100</td>\n",
       "      <td>13100</td>\n",
       "      <td>103171</td>\n",
       "      <td>-0.01504</td>\n",
       "      <td>238490</td>\n",
       "      <td>힘스</td>\n",
       "      <td>0.99803</td>\n",
       "      <td>0.98496</td>\n",
       "      <td>...</td>\n",
       "      <td>1.04198</td>\n",
       "      <td>1.00000</td>\n",
       "      <td>1.04198</td>\n",
       "      <td>1.01527</td>\n",
       "      <td>1.05344</td>\n",
       "      <td>1.02290</td>\n",
       "      <td>1.06107</td>\n",
       "      <td>1.03053</td>\n",
       "      <td>1.06489</td>\n",
       "      <td>1.03053</td>\n",
       "    </tr>\n",
       "    <tr>\n",
       "      <th>2021-04-01</th>\n",
       "      <td>13100</td>\n",
       "      <td>13650</td>\n",
       "      <td>13100</td>\n",
       "      <td>13400</td>\n",
       "      <td>194185</td>\n",
       "      <td>0.02290</td>\n",
       "      <td>238490</td>\n",
       "      <td>힘스</td>\n",
       "      <td>1.01005</td>\n",
       "      <td>1.02290</td>\n",
       "      <td>...</td>\n",
       "      <td>1.01866</td>\n",
       "      <td>0.99254</td>\n",
       "      <td>1.02985</td>\n",
       "      <td>1.00000</td>\n",
       "      <td>1.03731</td>\n",
       "      <td>1.00746</td>\n",
       "      <td>1.04104</td>\n",
       "      <td>1.00746</td>\n",
       "      <td>1.04851</td>\n",
       "      <td>1.02612</td>\n",
       "    </tr>\n",
       "    <tr>\n",
       "      <th>2021-04-02</th>\n",
       "      <td>13500</td>\n",
       "      <td>13650</td>\n",
       "      <td>13300</td>\n",
       "      <td>13500</td>\n",
       "      <td>136673</td>\n",
       "      <td>0.00746</td>\n",
       "      <td>238490</td>\n",
       "      <td>힘스</td>\n",
       "      <td>1.00446</td>\n",
       "      <td>1.00746</td>\n",
       "      <td>...</td>\n",
       "      <td>1.02222</td>\n",
       "      <td>0.99259</td>\n",
       "      <td>1.02963</td>\n",
       "      <td>1.00000</td>\n",
       "      <td>1.03333</td>\n",
       "      <td>1.00000</td>\n",
       "      <td>1.04074</td>\n",
       "      <td>1.01852</td>\n",
       "      <td>1.02963</td>\n",
       "      <td>1.01481</td>\n",
       "    </tr>\n",
       "    <tr>\n",
       "      <th>2021-04-05</th>\n",
       "      <td>13600</td>\n",
       "      <td>13800</td>\n",
       "      <td>13400</td>\n",
       "      <td>13700</td>\n",
       "      <td>219062</td>\n",
       "      <td>0.01481</td>\n",
       "      <td>238490</td>\n",
       "      <td>힘스</td>\n",
       "      <td>0.99967</td>\n",
       "      <td>1.01481</td>\n",
       "      <td>...</td>\n",
       "      <td>1.01460</td>\n",
       "      <td>0.98540</td>\n",
       "      <td>1.01825</td>\n",
       "      <td>0.98540</td>\n",
       "      <td>1.02555</td>\n",
       "      <td>1.00365</td>\n",
       "      <td>1.01460</td>\n",
       "      <td>1.00000</td>\n",
       "      <td>1.01095</td>\n",
       "      <td>0.98905</td>\n",
       "    </tr>\n",
       "    <tr>\n",
       "      <th>2021-04-06</th>\n",
       "      <td>13800</td>\n",
       "      <td>13900</td>\n",
       "      <td>13500</td>\n",
       "      <td>13650</td>\n",
       "      <td>135914</td>\n",
       "      <td>-0.00365</td>\n",
       "      <td>238490</td>\n",
       "      <td>힘스</td>\n",
       "      <td>0.99882</td>\n",
       "      <td>0.99635</td>\n",
       "      <td>...</td>\n",
       "      <td>1.02198</td>\n",
       "      <td>0.98901</td>\n",
       "      <td>1.02930</td>\n",
       "      <td>1.00733</td>\n",
       "      <td>1.01832</td>\n",
       "      <td>1.00366</td>\n",
       "      <td>1.01465</td>\n",
       "      <td>0.99267</td>\n",
       "      <td>1.00733</td>\n",
       "      <td>0.99634</td>\n",
       "    </tr>\n",
       "  </tbody>\n",
       "</table>\n",
       "<p>5 rows × 28 columns</p>\n",
       "</div>"
      ],
      "text/plain": [
       "             open   high    low  close  volume   change    code name  \\\n",
       "date                                                                   \n",
       "2021-03-31  13350  13350  13100  13100  103171 -0.01504  238490   힘스   \n",
       "2021-04-01  13100  13650  13100  13400  194185  0.02290  238490   힘스   \n",
       "2021-04-02  13500  13650  13300  13500  136673  0.00746  238490   힘스   \n",
       "2021-04-05  13600  13800  13400  13700  219062  0.01481  238490   힘스   \n",
       "2021-04-06  13800  13900  13500  13650  135914 -0.00365  238490   힘스   \n",
       "\n",
       "            kosdaq_return  return  ...  high_r1  low_r1  high_r2  low_r2  \\\n",
       "date                               ...                                     \n",
       "2021-03-31        0.99803 0.98496  ...  1.04198 1.00000  1.04198 1.01527   \n",
       "2021-04-01        1.01005 1.02290  ...  1.01866 0.99254  1.02985 1.00000   \n",
       "2021-04-02        1.00446 1.00746  ...  1.02222 0.99259  1.02963 1.00000   \n",
       "2021-04-05        0.99967 1.01481  ...  1.01460 0.98540  1.01825 0.98540   \n",
       "2021-04-06        0.99882 0.99635  ...  1.02198 0.98901  1.02930 1.00733   \n",
       "\n",
       "            high_r3  low_r3  high_r4  low_r4  high_r5  low_r5  \n",
       "date                                                           \n",
       "2021-03-31  1.05344 1.02290  1.06107 1.03053  1.06489 1.03053  \n",
       "2021-04-01  1.03731 1.00746  1.04104 1.00746  1.04851 1.02612  \n",
       "2021-04-02  1.03333 1.00000  1.04074 1.01852  1.02963 1.01481  \n",
       "2021-04-05  1.02555 1.00365  1.01460 1.00000  1.01095 0.98905  \n",
       "2021-04-06  1.01832 1.00366  1.01465 0.99267  1.00733 0.99634  \n",
       "\n",
       "[5 rows x 28 columns]"
      ]
     },
     "execution_count": 301,
     "metadata": {},
     "output_type": "execute_result"
    }
   ],
   "source": [
    "kosdaq_list = pd.read_pickle('kosdaq_list.pkl')\n",
    "\n",
    "data_all_3 = pd.DataFrame()\n",
    "\n",
    "for code in kosdaq_list['code']:\n",
    "    \n",
    "    # 종목별 처리\n",
    "    data = mdl_data[mdl_data['code']==code].sort_index().copy()\n",
    "    \n",
    "    # win_market 누적 합\n",
    "    data['win_market_sum'] = data['win_market'].rolling(60).sum() \n",
    "    \n",
    "        # 고가, 저가, 종가 수익율\n",
    "    for i in [1,2,3,4,5]:\n",
    "\n",
    "        data['high_r' + str(i)] = data['high'].shift(-1*i)/data['close']      \n",
    "        data['low_r' + str(i)] = data['low'].shift(-1*i)/data['close']   \n",
    "        data['close_r' + str(i)] = data['close'].shift(-1*i)/data['close']    \n",
    "        \n",
    "    data['max_close']  = data[['close_r1','close_r2','close_r3','close_r4','close_r5']].max(axis=1) \n",
    "    data.dropna(subset=['win_market_sum','close_r1','close_r2','close_r3','close_r4','close_r5'], inplace=True)    \n",
    " \n",
    "    data_all_3 = pd.concat([data, data_all_3], axis=0)\n",
    "\n",
    "data_all_3.to_pickle('data_all_3.pkl')    \n",
    "data_all_3.head()    "
   ]
  },
  {
   "cell_type": "code",
   "execution_count": 344,
   "metadata": {},
   "outputs": [
    {
     "name": "stdout",
     "output_type": "stream",
     "text": [
      "win_market_sum\n",
      "(-0.001, 4.0]   1.02213\n",
      "(4.0, 5.0]      1.03136\n",
      "(5.0, 6.0]      1.03094\n",
      "(6.0, 7.0]      1.03165\n",
      "(7.0, 8.0]      1.03202\n",
      "(8.0, 9.0]      1.03370\n",
      "(9.0, 11.0]     1.03646\n",
      "(11.0, 22.0]    1.03989\n",
      "Name: max_close, dtype: float64\n"
     ]
    },
    {
     "data": {
      "text/plain": [
       "<AxesSubplot:xlabel='win_market_sum'>"
      ]
     },
     "execution_count": 344,
     "metadata": {},
     "output_type": "execute_result"
    },
    {
     "data": {
      "image/png": "[encoded data removed]",
      "text/plain": [
       "<Figure size 432x288 with 1 Axes>"
      ]
     },
     "metadata": {
      "needs_background": "light"
     },
     "output_type": "display_data"
    }
   ],
   "source": [
    "data_all_3 = pd.read_pickle('data_all_3.pkl')    \n",
    "ranks = pd.qcut(data_all_3['win_market_sum'], q=8)\n",
    "print(data_all_3.groupby(ranks)['max_close'].mean())\n",
    "data_all_3.groupby(ranks)['max_close'].mean().plot()"
   ]
  },
  {
   "cell_type": "markdown",
   "metadata": {},
   "source": [
    "### <br>메수 전략 2 - 섹터 평균 수익율보다 더 높은 수익율을 보인 종목을 매수\n",
    "kosdaq_list 에 있는 종목별 섹터 정보를 이용하겠습니다. 우선, 종목별 최근 60일 평균 수익율을 rolling 함수를 이용하여 으로 계산합니다. for Loop 을 이용하여 종목에 섹터 정보를 추가합니다. \n"
   ]
  },
  {
   "cell_type": "code",
   "execution_count": null,
   "metadata": {},
   "outputs": [],
   "source": [
    "kosdaq_list = pd.read_pickle('kosdaq_list.pkl')\n",
    "\n",
    "data_all_4 = pd.DataFrame()\n",
    "\n",
    "for code, sector in zip(kosdaq_list['code'], kosdaq_list['sector']):\n",
    "    \n",
    "    # 종목별 처리\n",
    "    data = mdl_data[mdl_data['code']==code].sort_index().copy()\n",
    "    data.dropna(inplace=True)\n",
    "    \n",
    "    # 최근 60일 평균 수익율            \n",
    "    data['return_mean'] = data['return'].rolling(60).mean()\n",
    "    data['sector'] = sector     \n",
    "  \n",
    "    data.dropna(subset=['return_mean'], inplace=True)    \n",
    "    data_all_4 = pd.concat([data, data_all_4], axis=0)\n",
    "\n",
    "data_all_4.to_pickle('data_all_4.pkl')   "
   ]
  },
  {
   "cell_type": "markdown",
   "metadata": {},
   "source": [
    "최근 60 일 평균수익율 정보를 섹터 별, 일 별로 요약한 평균을 추가합니다. 이때 apply 대신 Transform 함수가 이용되었습니다. apply 는 그룹의 숫자 만큼 행을 리턴하나, transform 은 그룹핑 전의 데이터 수를 리턴합니다. 결과를 보니, 섹터를 이용하여 종목을 선정할 때는 섹터 평균 수익율보다 많이 높거나, 많이 낮는 종목을 선정하는 것이 수익율이 좋게 나왔습니다. 섹터 평균 수익율 대비 종목 수익율은 미래 수익율 예측에 도움이 되는 정보입니다."
   ]
  },
  {
   "cell_type": "code",
   "execution_count": 361,
   "metadata": {},
   "outputs": [],
   "source": [
    "data_all_4 = pd.read_pickle('data_all_4.pkl') \n",
    "data_all_4['sector_return'] = data_all_4.groupby(['sector', data_all_4.index])['return'].transform(lambda x: x.mean())\n",
    "data_all_4['return over sector'] = (data_all_4['return']/data_all_4['sector_return'])"
   ]
  },
  {
   "cell_type": "code",
   "execution_count": 418,
   "metadata": {},
   "outputs": [
    {
     "name": "stdout",
     "output_type": "stream",
     "text": [
      "                        count  mean   std   min    1%   50%   99%   max\n",
      "return over sector                                                     \n",
      "(0.378, 0.964]     17,195.000 1.046 0.094 0.700 0.909 1.024 1.416 2.968\n",
      "(0.964, 0.974]     17,194.000 1.037 0.076 0.701 0.937 1.020 1.338 2.842\n",
      "(0.974, 0.98]      17,194.000 1.035 0.069 0.768 0.945 1.019 1.317 2.040\n",
      "(0.98, 0.984]      17,194.000 1.032 0.064 0.702 0.947 1.017 1.288 2.171\n",
      "(0.984, 0.987]     17,194.000 1.031 0.061 0.706 0.948 1.017 1.275 2.330\n",
      "(0.987, 0.99]      17,194.000 1.029 0.062 0.700 0.951 1.015 1.281 2.286\n",
      "(0.99, 0.992]      17,194.000 1.028 0.061 0.701 0.951 1.014 1.279 2.269\n",
      "(0.992, 0.994]     17,194.000 1.027 0.056 0.832 0.953 1.014 1.251 2.166\n",
      "(0.994, 0.996]     17,194.000 1.028 0.058 0.844 0.954 1.014 1.257 2.243\n",
      "(0.996, 0.999]     17,194.000 1.027 0.059 0.708 0.954 1.012 1.257 2.729\n",
      "(0.999, 1.0]       21,226.000 1.030 0.067 0.700 0.946 1.014 1.300 2.304\n",
      "(1.0, 1.002]       13,162.000 1.027 0.063 0.700 0.955 1.012 1.260 3.701\n",
      "(1.002, 1.004]     17,194.000 1.026 0.058 0.701 0.952 1.012 1.242 3.027\n",
      "(1.004, 1.007]     17,194.000 1.027 0.060 0.700 0.949 1.012 1.268 2.849\n",
      "(1.007, 1.01]      17,195.000 1.027 0.064 0.702 0.948 1.012 1.264 3.380\n",
      "(1.01, 1.013]      17,195.000 1.028 0.060 0.700 0.950 1.013 1.285 2.414\n",
      "(1.013, 1.018]     17,192.000 1.029 0.065 0.326 0.946 1.014 1.293 2.412\n",
      "(1.018, 1.026]     17,194.000 1.032 0.069 0.700 0.943 1.015 1.321 1.939\n",
      "(1.026, 1.041]     17,194.000 1.036 0.083 0.700 0.936 1.016 1.366 3.703\n",
      "(1.041, 1.399]     17,195.000 1.049 0.120 0.700 0.892 1.021 1.474 3.127\n"
     ]
    },
    {
     "data": {
      "text/plain": [
       "<AxesSubplot:xlabel='return over sector'>"
      ]
     },
     "execution_count": 418,
     "metadata": {},
     "output_type": "execute_result"
    },
    {
     "data": {
      "image/png": "[encoded data removed]",
      "text/plain": [
       "<Figure size 864x360 with 1 Axes>"
      ]
     },
     "metadata": {
      "needs_background": "light"
     },
     "output_type": "display_data"
    }
   ],
   "source": [
    "pd.options.display.float_format = '{:,.3f}'.format\n",
    "ranks = pd.qcut(data_all_4['return over sector'], q=20)\n",
    "print(data_all_4.groupby(ranks)['max_close'].describe(percentiles=[0.01, 0.99]))\n",
    "data_all_4.groupby(ranks)['max_close'].mean().plot(figsize=(12,5))"
   ]
  },
  {
   "cell_type": "code",
   "execution_count": 417,
   "metadata": {},
   "outputs": [
    {
     "name": "stdout",
     "output_type": "stream",
     "text": [
      "                        count  mean   std   min    1%   50%   99%   max\n",
      "return over sector                                                     \n",
      "(0.688, 0.963]     13,105.000 1.046 0.095 0.700 0.905 1.024 1.410 2.968\n",
      "(0.963, 0.973]     13,104.000 1.038 0.078 0.808 0.937 1.020 1.361 2.842\n",
      "(0.973, 0.979]     13,104.000 1.035 0.069 0.824 0.943 1.019 1.308 2.040\n",
      "(0.979, 0.983]     13,105.000 1.033 0.065 0.702 0.946 1.017 1.294 2.171\n",
      "(0.983, 0.986]     13,104.000 1.030 0.060 0.704 0.947 1.017 1.266 2.119\n",
      "(0.986, 0.989]     13,104.000 1.029 0.060 0.822 0.949 1.015 1.275 2.286\n",
      "(0.989, 0.991]     13,104.000 1.029 0.063 0.700 0.950 1.014 1.283 2.194\n",
      "(0.991, 0.994]     13,105.000 1.027 0.056 0.832 0.954 1.014 1.261 1.920\n",
      "(0.994, 0.996]     13,104.000 1.028 0.060 0.838 0.953 1.014 1.262 2.243\n",
      "(0.996, 0.998]     13,104.000 1.026 0.056 0.819 0.955 1.012 1.245 2.729\n",
      "(0.998, 1.0]       13,104.000 1.026 0.058 0.708 0.954 1.012 1.250 2.286\n",
      "(1.0, 1.002]       13,105.000 1.026 0.060 0.700 0.954 1.012 1.265 2.652\n",
      "(1.002, 1.004]     13,104.000 1.027 0.059 0.705 0.953 1.012 1.243 3.027\n",
      "(1.004, 1.007]     13,105.000 1.027 0.065 0.700 0.948 1.012 1.273 2.883\n",
      "(1.007, 1.01]      13,104.000 1.027 0.064 0.702 0.949 1.012 1.269 3.380\n",
      "(1.01, 1.014]      13,104.000 1.028 0.061 0.700 0.949 1.013 1.293 1.971\n",
      "(1.014, 1.019]     13,104.000 1.029 0.064 0.747 0.946 1.014 1.291 2.412\n",
      "(1.019, 1.027]     13,104.000 1.033 0.071 0.700 0.940 1.015 1.341 1.939\n",
      "(1.027, 1.044]     13,104.000 1.036 0.085 0.700 0.933 1.017 1.366 3.703\n",
      "(1.044, 1.399]     13,105.000 1.050 0.123 0.700 0.891 1.021 1.488 3.127\n"
     ]
    },
    {
     "data": {
      "text/plain": [
       "<AxesSubplot:xlabel='return over sector'>"
      ]
     },
     "execution_count": 417,
     "metadata": {},
     "output_type": "execute_result"
    },
    {
     "data": {
      "image/png": "[encoded data removed]",
      "text/plain": [
       "<Figure size 864x360 with 1 Axes>"
      ]
     },
     "metadata": {
      "needs_background": "light"
     },
     "output_type": "display_data"
    }
   ],
   "source": [
    "sector_count = data_all_4.groupby('sector')['code'].nunique().sort_values()\n",
    "data_all_4x = data_all_4[data_all_4['sector'].isin(sector_count[sector_count>10].index)]\n",
    "ranks = pd.qcut(data_all_4x['return over sector'], q=20)\n",
    "print(data_all_4x.groupby(ranks)['max_close'].describe(percentiles=[0.01, 0.99]))\n",
    "data_all_4x.groupby(ranks)['max_close'].mean().plot(figsize=(12,5))"
   ]
  },
  {
   "cell_type": "code",
   "execution_count": null,
   "metadata": {},
   "outputs": [],
   "source": []
  }
 ],
 "metadata": {
  "kernelspec": {
   "display_name": "Python 3 (ipykernel)",
   "language": "python",
   "name": "python3"
  },
  "language_info": {
   "codemirror_mode": {
    "name": "ipython",
    "version": 3
   },
   "file_extension": ".py",
   "mimetype": "text/x-python",
   "name": "python",
   "nbconvert_exporter": "python",
   "pygments_lexer": "ipython3",
   "version": "3.9.7"
  },
  "toc-showmarkdowntxt": true
 },
 "nbformat": 4,
 "nbformat_minor": 4
}
