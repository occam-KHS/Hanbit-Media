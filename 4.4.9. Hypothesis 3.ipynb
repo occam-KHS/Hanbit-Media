{
 "cells": [
  {
   "cell_type": "code",
   "execution_count": 2,
   "metadata": {},
   "outputs": [],
   "source": [
    "import FinanceDataReader as fdr\n",
    "%matplotlib inline\n",
    "import matplotlib.pyplot as plt\n",
    "import requests\n",
    "import bs4\n",
    "import pandas as pd\n",
    "import numpy as np\n",
    "import time\n",
    "import datetime\n",
    "import os\n",
    "import warnings\n",
    "warnings.filterwarnings('ignore')\n",
    "import json\n",
    "import statsmodels\n",
    "import statsmodels.api as sm\n",
    "from statsmodels.tsa.stattools import coint\n",
    "import pickle\n",
    "import timeit\n",
    "from IPython.display import clear_output\n",
    "import glob\n",
    "\n",
    "pd.options.display.float_format = '{:,.3f}'.format"
   ]
  },
  {
   "cell_type": "markdown",
   "metadata": {},
   "source": [
    "- #### 가설 - 위 꼬리가 긴 양봉이 자주 발생한다.\n",
    "\n",
    "위 꼬리 양봉의 수는 아주 많거나, 몇 개 없을 때 좋은 수익율을 보여줍니다. 윗 꼬리가 긴 양봉이 많이 발생하면 수익율이 좋습니다. 하지만, 윗 꼬리 양봉이 3 개 이하로 일봉이 나타나도 수익율은 좋습니다. 따라서 가설은 반은 맞고, 반은 틀리다고 할 수 있습니다. \n",
    "\n",
    "단조 감소나 단조 증가 형태가 아닌 오목한 형태의 막대그래프 흐름이 만들어 졌습니다. 선형모형은 입력변수와 타겟변수와의 선형적인 상관관계를 기본으로 하고 있습니다. 따라서, 단조 증가나 단조 감소형태의 모양이 좋은데요. 이 변수를 선형모형에 활용하기 위해서는 1 오분위 막대와 5 오분위 막대를 합하고, 나머지 막대를 합하여, 2 개의 막대로 다시 표현하면 좋습니다. 두 번째 그래프는 어떻게 데이터를 변경하는 지 보여줍니다. 선형모형으로 모델을 구현할 때는 새로게 생성된 'x_num_toptail' 를 이용하는 것이 좋습니다. \n"
   ]
  },
  {
   "cell_type": "code",
   "execution_count": 25,
   "metadata": {},
   "outputs": [
    {
     "name": "stdout",
     "output_type": "stream",
     "text": [
      "               count  mean\n",
      "ranks                     \n",
      "(-0.001, 3.0]    149 0.544\n",
      "(3.0, 5.0]        83 0.434\n",
      "(5.0, 7.0]        97 0.423\n",
      "(7.0, 12.0]       96 0.333\n",
      "(12.0, 19.0]      96 0.521\n"
     ]
    },
    {
     "data": {
      "image/png": "[encoded data removed]",
      "text/plain": [
       "<Figure size 864x360 with 1 Axes>"
      ]
     },
     "metadata": {
      "needs_background": "light"
     },
     "output_type": "display_data"
    }
   ],
   "source": [
    "var = 'num_toptail'\n",
    "model_data = pd.read_pickle('model_data.pkl')\n",
    "model_data['target'] = np.where(model_data['return']>1, 1, 0)\n",
    "model_data['ranks'] = pd.qcut(model_data[var], q = 5)\n",
    "print(model_data.groupby('ranks')['target'].agg(['count', 'mean']))\n",
    "model_data.groupby('ranks')['target'].mean().plot(kind='bar', figsize=(12,5), ylim=(0.3, 0.6))\n",
    "plt.title(var)\n",
    "plt.show()"
   ]
  },
  {
   "cell_type": "code",
   "execution_count": 29,
   "metadata": {},
   "outputs": [
    {
     "name": "stdout",
     "output_type": "stream",
     "text": [
      "               count  mean\n",
      "x_num_toptail             \n",
      "0                258 0.407\n",
      "1                263 0.513\n"
     ]
    },
    {
     "data": {
      "image/png": "[encoded data removed]",
      "text/plain": [
       "<Figure size 864x360 with 1 Axes>"
      ]
     },
     "metadata": {
      "needs_background": "light"
     },
     "output_type": "display_data"
    }
   ],
   "source": [
    "def div(x):\n",
    "    if (x <= 3) or (x >= 12):\n",
    "        return 1\n",
    "    else:\n",
    "        return 0\n",
    "\n",
    "var = 'x_num_toptail'    \n",
    "model_data[var] = model_data['num_toptail'].apply(div)    \n",
    "print(model_data.groupby(var)['target'].agg(['count', 'mean']))\n",
    "model_data.groupby(var)['target'].mean().plot(kind='bar', figsize=(12,5), ylim=(0.3, 0.6))\n",
    "plt.title(var)\n",
    "plt.show()"
   ]
  },
  {
   "cell_type": "code",
   "execution_count": null,
   "metadata": {},
   "outputs": [],
   "source": []
  }
 ],
 "metadata": {
  "kernelspec": {
   "display_name": "Python 3",
   "language": "python",
   "name": "python3"
  },
  "language_info": {
   "codemirror_mode": {
    "name": "ipython",
    "version": 3
   },
   "file_extension": ".py",
   "mimetype": "text/x-python",
   "name": "python",
   "nbconvert_exporter": "python",
   "pygments_lexer": "ipython3",
   "version": "3.8.5"
  }
 },
 "nbformat": 4,
 "nbformat_minor": 4
}
