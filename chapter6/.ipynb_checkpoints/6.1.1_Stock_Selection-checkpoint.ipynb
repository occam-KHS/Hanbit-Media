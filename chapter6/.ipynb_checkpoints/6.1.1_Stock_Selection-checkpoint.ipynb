{
 "cells": [
  {
   "cell_type": "markdown",
   "id": "8a98f70c-94d0-4ba4-b90f-addbe9015480",
   "metadata": {},
   "source": [
    "### 종목 추천 프로세스      \n",
    "\n",
    "완성된 모델을 이용하여 종목 추천을 받는 프로세스를 순서대로 만들어보겠습니다. \n",
    "오늘이 2022년 4월 1일라고 가정하고 어떤 종목들이 추천되는 지 보겠습니다. 4월1일 장 마감 후 프로그램을 돌려 추천 종목을 받고, 익일(4월 2일) 날 4월 1일의 종가에 매수를 하는 전략입니다.\n"
   ]
  },
  {
   "cell_type": "code",
   "execution_count": 20,
   "id": "3b883539-d0e5-4de7-a558-df48f569c85b",
   "metadata": {},
   "outputs": [],
   "source": [
    "import FinanceDataReader as fdr\n",
    "import matplotlib.pyplot as plt\n",
    "%matplotlib inline\n",
    "\n",
    "import pandas as pd\n",
    "import numpy as np\n",
    "import requests\n",
    "import bs4\n",
    "\n",
    "pd.options.display.float_format = '{:,.3f}'.format"
   ]
  },
  {
   "cell_type": "markdown",
   "id": "89c59d44-f47d-42e4-b616-0b20f8f8bbda",
   "metadata": {},
   "source": [
    "<br> 오늘이 2022년 4월 1일라고 가정하고 어떤 종목들이 추천되는 지 보겠습니다. 먼저 오늘 기준으로 100 일전 날짜를 timedelta 를 이용해 찾습니다. "
   ]
  },
  {
   "cell_type": "code",
   "execution_count": 21,
   "id": "daf32345-cc4f-490f-b5eb-9deddbb2d069",
   "metadata": {},
   "outputs": [
    {
     "name": "stdout",
     "output_type": "stream",
     "text": [
      "2021-12-22 00:00:00 2022-04-01\n"
     ]
    }
   ],
   "source": [
    "import datetime\n",
    "today_dt = '2022-04-01'\n",
    "today = datetime.datetime.strptime(today_dt, '%Y-%m-%d')\n",
    "start_dt = today - datetime.timedelta(days=100) # 100 일전 데이터 부터 시작 - 피쳐 엔지니어링은 최소 60 개의 일봉이 필요함\n",
    "print(start_dt, today_dt)"
   ]
  },
  {
   "cell_type": "markdown",
   "id": "81eeec7c-ef62-40ac-90cf-5316d90007e9",
   "metadata": {},
   "source": [
    "<br> 위 코드에서 찾은 시작일부터 오늘까지 종목별로 일봉을 가져와서 데이터셋을 구성합니다. 총 67 개의 일봉이 있습니다. 입력 피처를 생성하기 위해서는 최소한 60일의 데이터가 필요합니다."
   ]
  },
  {
   "cell_type": "code",
   "execution_count": 22,
   "id": "d7f2700b-a7be-4d1f-8d91-566434d30472",
   "metadata": {},
   "outputs": [
    {
     "name": "stdout",
     "output_type": "stream",
     "text": [
      "67\n"
     ]
    }
   ],
   "source": [
    "kosdaq_list = pd.read_pickle('kosdaq_list.pkl')\n",
    "\n",
    "price_data = pd.DataFrame()\n",
    "\n",
    "for code, name in zip(kosdaq_list['code'], kosdaq_list['name']):  # 코스닥 모든 종목에서 대하여 반복\n",
    "    daily_price = fdr.DataReader(code,  start = start_dt, end = today_dt) # 종목, 일봉, 데이터 갯수\n",
    "    daily_price['code'] = code\n",
    "    daily_price['name'] = name\n",
    "    price_data = pd.concat([price_data, daily_price], axis=0)   \n",
    "\n",
    "price_data.index.name = 'date'\n",
    "price_data.columns= price_data.columns.str.lower() # 컬럼 이름 소문자로 변경\n",
    "\n",
    "print(price_data.index.nunique())"
   ]
  },
  {
   "cell_type": "markdown",
   "id": "50d3a60a-4f8d-44de-8aad-f7daa5108931",
   "metadata": {},
   "source": [
    "<br> 주가지수 데이터를 가져오고, 일봉데이터에 추가합니다. 그리고 결과물을 merge 라는 이름으로 저장합니다."
   ]
  },
  {
   "cell_type": "code",
   "execution_count": 23,
   "id": "f49f6128-5273-457b-a086-c503eec16f86",
   "metadata": {},
   "outputs": [],
   "source": [
    "kosdaq_index = fdr.DataReader('KQ11', start = start_dt, end = today_dt) # 데이터 호출\n",
    "kosdaq_index.columns = ['close','open','high','low','volume','change'] # 컬럼명 변경\n",
    "kosdaq_index.index.name='date' # 인덱스 이름 생성\n",
    "kosdaq_index.sort_index(inplace=True) # 인덱스(날짜) 로 정렬 \n",
    "kosdaq_index['kosdaq_return'] = kosdaq_index['close']/kosdaq_index['close'].shift(1) # 수익율 : 전 날 종가대비 당일 종가\n",
    "\n",
    "merged = price_data.merge(kosdaq_index['kosdaq_return'], left_index=True, right_index=True, how='left')"
   ]
  },
  {
   "cell_type": "code",
   "execution_count": 24,
   "id": "009c7c84-91ca-4da3-9748-de3cf37e114d",
   "metadata": {},
   "outputs": [],
   "source": [
    "merged.to_pickle('merged.pkl')"
   ]
  },
  {
   "cell_type": "markdown",
   "id": "710cbf4f-34b8-4b2e-b08e-890b3bd74317",
   "metadata": {},
   "source": [
    "<br> 주가 지수 수익률과 종목별 수익율을 비교한 결과를 win_market 이라는 변수에 담습니다. "
   ]
  },
  {
   "cell_type": "code",
   "execution_count": 25,
   "id": "34005ff7-132d-4a12-80d8-e01e0c8a922c",
   "metadata": {},
   "outputs": [],
   "source": [
    "merged = pd.read_pickle('merged.pkl')\n",
    "\n",
    "return_all = pd.DataFrame()\n",
    "\n",
    "for code in kosdaq_list['code']:  \n",
    "    \n",
    "    stock_return = merged[merged['code']==code].sort_index()\n",
    "    stock_return['return'] = stock_return['close']/stock_return['close'].shift(1) # 종목별 전일 종가 대비 당일 종가 수익율\n",
    "    c1 = (stock_return['kosdaq_return'] < 1) # 수익율 1 보다 작음. 당일 종가가 전일 종가보다 낮음 (코스닥 지표)\n",
    "    c2 = (stock_return['return'] > 1) # 수익율 1 보다 큼. 당일 종가가 전일 종가보다 큼 (개별 종목)\n",
    "    stock_return['win_market'] = np.where((c1&c2), 1, 0) # C1 과 C2 조건을 동시에 만족하면 1, 아니면 0\n",
    "    return_all = pd.concat([return_all, stock_return], axis=0) \n",
    "    \n",
    "return_all.dropna(inplace=True)    "
   ]
  },
  {
   "cell_type": "markdown",
   "id": "5277f126-d9cb-432c-bf6d-337cae1fcb30",
   "metadata": {},
   "source": [
    "<br> 데이터가 잘 생성되었는 지 확인해 봅니다."
   ]
  },
  {
   "cell_type": "code",
   "execution_count": 26,
   "id": "16d859ff-e514-4fee-8176-129c702fe31e",
   "metadata": {},
   "outputs": [
    {
     "data": {
      "text/html": [
       "<style type=\"text/css\">\n",
       "</style>\n",
       "<table id=\"T_66199_\" style=\"font-size: 12px\">\n",
       "  <thead>\n",
       "    <tr>\n",
       "      <th class=\"blank level0\" >&nbsp;</th>\n",
       "      <th class=\"col_heading level0 col0\" >open</th>\n",
       "      <th class=\"col_heading level0 col1\" >high</th>\n",
       "      <th class=\"col_heading level0 col2\" >low</th>\n",
       "      <th class=\"col_heading level0 col3\" >close</th>\n",
       "      <th class=\"col_heading level0 col4\" >volume</th>\n",
       "      <th class=\"col_heading level0 col5\" >change</th>\n",
       "      <th class=\"col_heading level0 col6\" >code</th>\n",
       "      <th class=\"col_heading level0 col7\" >name</th>\n",
       "      <th class=\"col_heading level0 col8\" >kosdaq_return</th>\n",
       "      <th class=\"col_heading level0 col9\" >return</th>\n",
       "      <th class=\"col_heading level0 col10\" >win_market</th>\n",
       "    </tr>\n",
       "    <tr>\n",
       "      <th class=\"index_name level0\" >date</th>\n",
       "      <th class=\"blank col0\" >&nbsp;</th>\n",
       "      <th class=\"blank col1\" >&nbsp;</th>\n",
       "      <th class=\"blank col2\" >&nbsp;</th>\n",
       "      <th class=\"blank col3\" >&nbsp;</th>\n",
       "      <th class=\"blank col4\" >&nbsp;</th>\n",
       "      <th class=\"blank col5\" >&nbsp;</th>\n",
       "      <th class=\"blank col6\" >&nbsp;</th>\n",
       "      <th class=\"blank col7\" >&nbsp;</th>\n",
       "      <th class=\"blank col8\" >&nbsp;</th>\n",
       "      <th class=\"blank col9\" >&nbsp;</th>\n",
       "      <th class=\"blank col10\" >&nbsp;</th>\n",
       "    </tr>\n",
       "  </thead>\n",
       "  <tbody>\n",
       "    <tr>\n",
       "      <th id=\"T_66199_level0_row0\" class=\"row_heading level0 row0\" >2021-12-23 00:00:00</th>\n",
       "      <td id=\"T_66199_row0_col0\" class=\"data row0 col0\" >3195</td>\n",
       "      <td id=\"T_66199_row0_col1\" class=\"data row0 col1\" >3260</td>\n",
       "      <td id=\"T_66199_row0_col2\" class=\"data row0 col2\" >3195</td>\n",
       "      <td id=\"T_66199_row0_col3\" class=\"data row0 col3\" >3220</td>\n",
       "      <td id=\"T_66199_row0_col4\" class=\"data row0 col4\" >104180</td>\n",
       "      <td id=\"T_66199_row0_col5\" class=\"data row0 col5\" >-0.002</td>\n",
       "      <td id=\"T_66199_row0_col6\" class=\"data row0 col6\" >060310</td>\n",
       "      <td id=\"T_66199_row0_col7\" class=\"data row0 col7\" >3S</td>\n",
       "      <td id=\"T_66199_row0_col8\" class=\"data row0 col8\" >1.003</td>\n",
       "      <td id=\"T_66199_row0_col9\" class=\"data row0 col9\" >0.998</td>\n",
       "      <td id=\"T_66199_row0_col10\" class=\"data row0 col10\" >0</td>\n",
       "    </tr>\n",
       "    <tr>\n",
       "      <th id=\"T_66199_level0_row1\" class=\"row_heading level0 row1\" >2021-12-24 00:00:00</th>\n",
       "      <td id=\"T_66199_row1_col0\" class=\"data row1 col0\" >3230</td>\n",
       "      <td id=\"T_66199_row1_col1\" class=\"data row1 col1\" >3355</td>\n",
       "      <td id=\"T_66199_row1_col2\" class=\"data row1 col2\" >3220</td>\n",
       "      <td id=\"T_66199_row1_col3\" class=\"data row1 col3\" >3290</td>\n",
       "      <td id=\"T_66199_row1_col4\" class=\"data row1 col4\" >238933</td>\n",
       "      <td id=\"T_66199_row1_col5\" class=\"data row1 col5\" >0.022</td>\n",
       "      <td id=\"T_66199_row1_col6\" class=\"data row1 col6\" >060310</td>\n",
       "      <td id=\"T_66199_row1_col7\" class=\"data row1 col7\" >3S</td>\n",
       "      <td id=\"T_66199_row1_col8\" class=\"data row1 col8\" >1.004</td>\n",
       "      <td id=\"T_66199_row1_col9\" class=\"data row1 col9\" >1.022</td>\n",
       "      <td id=\"T_66199_row1_col10\" class=\"data row1 col10\" >0</td>\n",
       "    </tr>\n",
       "    <tr>\n",
       "      <th id=\"T_66199_level0_row2\" class=\"row_heading level0 row2\" >2021-12-27 00:00:00</th>\n",
       "      <td id=\"T_66199_row2_col0\" class=\"data row2 col0\" >3290</td>\n",
       "      <td id=\"T_66199_row2_col1\" class=\"data row2 col1\" >3380</td>\n",
       "      <td id=\"T_66199_row2_col2\" class=\"data row2 col2\" >3275</td>\n",
       "      <td id=\"T_66199_row2_col3\" class=\"data row2 col3\" >3305</td>\n",
       "      <td id=\"T_66199_row2_col4\" class=\"data row2 col4\" >130826</td>\n",
       "      <td id=\"T_66199_row2_col5\" class=\"data row2 col5\" >0.005</td>\n",
       "      <td id=\"T_66199_row2_col6\" class=\"data row2 col6\" >060310</td>\n",
       "      <td id=\"T_66199_row2_col7\" class=\"data row2 col7\" >3S</td>\n",
       "      <td id=\"T_66199_row2_col8\" class=\"data row2 col8\" >1.004</td>\n",
       "      <td id=\"T_66199_row2_col9\" class=\"data row2 col9\" >1.005</td>\n",
       "      <td id=\"T_66199_row2_col10\" class=\"data row2 col10\" >0</td>\n",
       "    </tr>\n",
       "    <tr>\n",
       "      <th id=\"T_66199_level0_row3\" class=\"row_heading level0 row3\" >2021-12-28 00:00:00</th>\n",
       "      <td id=\"T_66199_row3_col0\" class=\"data row3 col0\" >3355</td>\n",
       "      <td id=\"T_66199_row3_col1\" class=\"data row3 col1\" >3355</td>\n",
       "      <td id=\"T_66199_row3_col2\" class=\"data row3 col2\" >3180</td>\n",
       "      <td id=\"T_66199_row3_col3\" class=\"data row3 col3\" >3190</td>\n",
       "      <td id=\"T_66199_row3_col4\" class=\"data row3 col4\" >267316</td>\n",
       "      <td id=\"T_66199_row3_col5\" class=\"data row3 col5\" >-0.035</td>\n",
       "      <td id=\"T_66199_row3_col6\" class=\"data row3 col6\" >060310</td>\n",
       "      <td id=\"T_66199_row3_col7\" class=\"data row3 col7\" >3S</td>\n",
       "      <td id=\"T_66199_row3_col8\" class=\"data row3 col8\" >1.016</td>\n",
       "      <td id=\"T_66199_row3_col9\" class=\"data row3 col9\" >0.965</td>\n",
       "      <td id=\"T_66199_row3_col10\" class=\"data row3 col10\" >0</td>\n",
       "    </tr>\n",
       "    <tr>\n",
       "      <th id=\"T_66199_level0_row4\" class=\"row_heading level0 row4\" >2021-12-29 00:00:00</th>\n",
       "      <td id=\"T_66199_row4_col0\" class=\"data row4 col0\" >3200</td>\n",
       "      <td id=\"T_66199_row4_col1\" class=\"data row4 col1\" >3350</td>\n",
       "      <td id=\"T_66199_row4_col2\" class=\"data row4 col2\" >3200</td>\n",
       "      <td id=\"T_66199_row4_col3\" class=\"data row4 col3\" >3330</td>\n",
       "      <td id=\"T_66199_row4_col4\" class=\"data row4 col4\" >115094</td>\n",
       "      <td id=\"T_66199_row4_col5\" class=\"data row4 col5\" >0.044</td>\n",
       "      <td id=\"T_66199_row4_col6\" class=\"data row4 col6\" >060310</td>\n",
       "      <td id=\"T_66199_row4_col7\" class=\"data row4 col7\" >3S</td>\n",
       "      <td id=\"T_66199_row4_col8\" class=\"data row4 col8\" >1.001</td>\n",
       "      <td id=\"T_66199_row4_col9\" class=\"data row4 col9\" >1.044</td>\n",
       "      <td id=\"T_66199_row4_col10\" class=\"data row4 col10\" >0</td>\n",
       "    </tr>\n",
       "  </tbody>\n",
       "</table>\n"
      ],
      "text/plain": [
       "<pandas.io.formats.style.Styler at 0x2029278cee0>"
      ]
     },
     "execution_count": 26,
     "metadata": {},
     "output_type": "execute_result"
    }
   ],
   "source": [
    "return_all.head().style.set_table_attributes('style=\"font-size: 12px\"').format(precision=3)"
   ]
  },
  {
   "cell_type": "markdown",
   "id": "75a488eb-b27e-4290-9445-2b815c55aca6",
   "metadata": {},
   "source": [
    "<br>  모델에 입력할 변수를 생성합니다."
   ]
  },
  {
   "cell_type": "code",
   "execution_count": 27,
   "id": "f63ec6e4-8e7c-4fa4-b64e-7f2b0833bc3a",
   "metadata": {},
   "outputs": [],
   "source": [
    "model_inputs = pd.DataFrame()\n",
    "\n",
    "for code, name, sector in zip(kosdaq_list['code'], kosdaq_list['name'], kosdaq_list['sector']):\n",
    "\n",
    "    data = return_all[return_all['code']==code].sort_index().copy()    \n",
    "    \n",
    "    # 가격변동성이 크고, 거래량이 몰린 종목이 주가가 상승한다\n",
    "    data['price_mean'] = data['close'].rolling(20).mean()\n",
    "    data['price_std'] = data['close'].rolling(20).std(ddof=0)\n",
    "    data['price_z'] = (data['close'] - data['price_mean'])/data['price_std']    \n",
    "    data['volume_mean'] = data['volume'].rolling(20).mean()\n",
    "    data['volume_std'] = data['volume'].rolling(20).std(ddof=0)\n",
    "    data['volume_z'] = (data['volume'] - data['volume_mean'])/data['volume_std']\n",
    "    \n",
    "    # 위꼬리가 긴 양봉이 자주발생한다.\n",
    "    data['positive_candle'] = (data['close'] > data['open']).astype(int) # 양봉\n",
    "    data['high/close'] = (data['positive_candle']==1)*(data['high']/data['close'] > 1.1).astype(int) # 양봉이면서 고가가 종가보다 높게 위치\n",
    "    data['num_high/close'] =  data['high/close'].rolling(20).sum()\n",
    "    data['long_candle'] = (data['positive_candle']==1)*(data['high']==data['close'])*\\\n",
    "    (data['low']==data['open'])*(data['close']/data['open'] > 1.2).astype(int) # 장대 양봉을 데이터로 표현\n",
    "    data['num_long'] =  data['long_candle'].rolling(60).sum() # 지난 60 일 동안 장대양봉의 갯 수\n",
    "    \n",
    "    \n",
    "     # 거래량이 종좀 터지며 매집의 흔적을 보인다   \n",
    "    data['volume_mean'] = data['volume'].rolling(60).mean()\n",
    "    data['volume_std'] = data['volume'].rolling(60).std()\n",
    "    data['volume_z'] = (data['volume'] - data['volume_mean'])/data['volume_std'] # 거래량은 종목과 주가에 따라 다르기 떄문에 표준화한 값이 필요함\n",
    "    data['z>1.96'] = (data['close'] > data['open'])*(data['volume_z'] > 1.65).astype(int) # 양봉이면서 거래량이 90%신뢰구간을 벗어난 날\n",
    "    data['num_z>1.96'] =  data['z>1.96'].rolling(60).sum()  # 양봉이면서 거래량이 90% 신뢰구간을 벗어난 날을 카운트\n",
    "    \n",
    "    # 주가지수보다 더 좋은 수익율을 보여준다\n",
    "    data['num_win_market'] = data['win_market'].rolling(60).sum() # 주가지수 수익율이 1 보다 작을 때, 종목 수익율이 1 보다 큰 날 수\n",
    "    data['pct_win_market'] = (data['return']/data['kosdaq_return']).rolling(60).mean() # 주가지수 수익율 대비 종목 수익율\n",
    "    \n",
    "    \n",
    "    # 동종업체 수익률보다 더 좋은 수익율을 보여준다.           \n",
    "    data['return_mean'] = data['return'].rolling(60).mean() # 종목별 최근 60 일 수익율의 평균\n",
    "    data['sector'] = sector    \n",
    "    data['name'] = name\n",
    "     \n",
    "    data = data[(data['price_std']!=0) & (data['volume_std']!=0)]    \n",
    "\n",
    "    model_inputs = pd.concat([data, model_inputs], axis=0)\n",
    "\n",
    "model_inputs['sector_return'] = model_inputs.groupby(['sector', model_inputs.index])['return'].transform(lambda x: x.mean()) # 섹터의 평균 수익율 계산\n",
    "model_inputs['return over sector'] = (model_inputs['return']/model_inputs['sector_return']) # 섹터 평균 수익률 대비 종목 수익률 계산\n",
    "model_inputs.dropna(inplace=True) # Missing 값 있는 행 모두 제거\n",
    "\n",
    "model_inputs.to_pickle('model_inputs.pkl')"
   ]
  },
  {
   "cell_type": "markdown",
   "id": "1348b2e3-3165-4453-b722-2fad87aaa8ba",
   "metadata": {},
   "source": [
    "<br> 모델에 입력할 변수를 생성하고 X 에 담습니다."
   ]
  },
  {
   "cell_type": "code",
   "execution_count": 29,
   "id": "8604c9e5-3e20-45a5-ae85-aea574b1c02c",
   "metadata": {},
   "outputs": [
    {
     "data": {
      "text/html": [
       "<style type=\"text/css\">\n",
       "</style>\n",
       "<table id=\"T_802dc_\" style=\"font-size: 12px\">\n",
       "  <thead>\n",
       "    <tr>\n",
       "      <th class=\"blank level0\" >&nbsp;</th>\n",
       "      <th class=\"col_heading level0 col0\" >name</th>\n",
       "      <th class=\"col_heading level0 col1\" >return</th>\n",
       "      <th class=\"col_heading level0 col2\" >price_z</th>\n",
       "      <th class=\"col_heading level0 col3\" >volume_z</th>\n",
       "      <th class=\"col_heading level0 col4\" >num_high/close</th>\n",
       "      <th class=\"col_heading level0 col5\" >num_win_market</th>\n",
       "      <th class=\"col_heading level0 col6\" >pct_win_market</th>\n",
       "      <th class=\"col_heading level0 col7\" >return over sector</th>\n",
       "    </tr>\n",
       "    <tr>\n",
       "      <th class=\"index_name level0\" >code</th>\n",
       "      <th class=\"blank col0\" >&nbsp;</th>\n",
       "      <th class=\"blank col1\" >&nbsp;</th>\n",
       "      <th class=\"blank col2\" >&nbsp;</th>\n",
       "      <th class=\"blank col3\" >&nbsp;</th>\n",
       "      <th class=\"blank col4\" >&nbsp;</th>\n",
       "      <th class=\"blank col5\" >&nbsp;</th>\n",
       "      <th class=\"blank col6\" >&nbsp;</th>\n",
       "      <th class=\"blank col7\" >&nbsp;</th>\n",
       "    </tr>\n",
       "  </thead>\n",
       "  <tbody>\n",
       "    <tr>\n",
       "      <th id=\"T_802dc_level0_row0\" class=\"row_heading level0 row0\" >238490</th>\n",
       "      <td id=\"T_802dc_row0_col0\" class=\"data row0 col0\" >힘스</td>\n",
       "      <td id=\"T_802dc_row0_col1\" class=\"data row0 col1\" >0.997</td>\n",
       "      <td id=\"T_802dc_row0_col2\" class=\"data row0 col2\" >-1.290</td>\n",
       "      <td id=\"T_802dc_row0_col3\" class=\"data row0 col3\" >-0.519</td>\n",
       "      <td id=\"T_802dc_row0_col4\" class=\"data row0 col4\" >0.000</td>\n",
       "      <td id=\"T_802dc_row0_col5\" class=\"data row0 col5\" >6.000</td>\n",
       "      <td id=\"T_802dc_row0_col6\" class=\"data row0 col6\" >1.000</td>\n",
       "      <td id=\"T_802dc_row0_col7\" class=\"data row0 col7\" >1.002</td>\n",
       "    </tr>\n",
       "    <tr>\n",
       "      <th id=\"T_802dc_level0_row1\" class=\"row_heading level0 row1\" >037440</th>\n",
       "      <td id=\"T_802dc_row1_col0\" class=\"data row1 col0\" >희림</td>\n",
       "      <td id=\"T_802dc_row1_col1\" class=\"data row1 col1\" >0.981</td>\n",
       "      <td id=\"T_802dc_row1_col2\" class=\"data row1 col2\" >0.144</td>\n",
       "      <td id=\"T_802dc_row1_col3\" class=\"data row1 col3\" >-0.839</td>\n",
       "      <td id=\"T_802dc_row1_col4\" class=\"data row1 col4\" >0.000</td>\n",
       "      <td id=\"T_802dc_row1_col5\" class=\"data row1 col5\" >12.000</td>\n",
       "      <td id=\"T_802dc_row1_col6\" class=\"data row1 col6\" >1.009</td>\n",
       "      <td id=\"T_802dc_row1_col7\" class=\"data row1 col7\" >0.970</td>\n",
       "    </tr>\n",
       "    <tr>\n",
       "      <th id=\"T_802dc_level0_row2\" class=\"row_heading level0 row2\" >189980</th>\n",
       "      <td id=\"T_802dc_row2_col0\" class=\"data row2 col0\" >흥국에프엔비</td>\n",
       "      <td id=\"T_802dc_row2_col1\" class=\"data row2 col1\" >1.004</td>\n",
       "      <td id=\"T_802dc_row2_col2\" class=\"data row2 col2\" >0.304</td>\n",
       "      <td id=\"T_802dc_row2_col3\" class=\"data row2 col3\" >-0.555</td>\n",
       "      <td id=\"T_802dc_row2_col4\" class=\"data row2 col4\" >0.000</td>\n",
       "      <td id=\"T_802dc_row2_col5\" class=\"data row2 col5\" >14.000</td>\n",
       "      <td id=\"T_802dc_row2_col6\" class=\"data row2 col6\" >1.002</td>\n",
       "      <td id=\"T_802dc_row2_col7\" class=\"data row2 col7\" >1.000</td>\n",
       "    </tr>\n",
       "    <tr>\n",
       "      <th id=\"T_802dc_level0_row3\" class=\"row_heading level0 row3\" >010240</th>\n",
       "      <td id=\"T_802dc_row3_col0\" class=\"data row3 col0\" >흥국</td>\n",
       "      <td id=\"T_802dc_row3_col1\" class=\"data row3 col1\" >0.996</td>\n",
       "      <td id=\"T_802dc_row3_col2\" class=\"data row3 col2\" >0.962</td>\n",
       "      <td id=\"T_802dc_row3_col3\" class=\"data row3 col3\" >0.693</td>\n",
       "      <td id=\"T_802dc_row3_col4\" class=\"data row3 col4\" >0.000</td>\n",
       "      <td id=\"T_802dc_row3_col5\" class=\"data row3 col5\" >8.000</td>\n",
       "      <td id=\"T_802dc_row3_col6\" class=\"data row3 col6\" >1.000</td>\n",
       "      <td id=\"T_802dc_row3_col7\" class=\"data row3 col7\" >1.001</td>\n",
       "    </tr>\n",
       "    <tr>\n",
       "      <th id=\"T_802dc_level0_row4\" class=\"row_heading level0 row4\" >024060</th>\n",
       "      <td id=\"T_802dc_row4_col0\" class=\"data row4 col0\" >흥구석유</td>\n",
       "      <td id=\"T_802dc_row4_col1\" class=\"data row4 col1\" >1.011</td>\n",
       "      <td id=\"T_802dc_row4_col2\" class=\"data row4 col2\" >-0.838</td>\n",
       "      <td id=\"T_802dc_row4_col3\" class=\"data row4 col3\" >-0.590</td>\n",
       "      <td id=\"T_802dc_row4_col4\" class=\"data row4 col4\" >0.000</td>\n",
       "      <td id=\"T_802dc_row4_col5\" class=\"data row4 col5\" >15.000</td>\n",
       "      <td id=\"T_802dc_row4_col6\" class=\"data row4 col6\" >1.006</td>\n",
       "      <td id=\"T_802dc_row4_col7\" class=\"data row4 col7\" >1.012</td>\n",
       "    </tr>\n",
       "  </tbody>\n",
       "</table>\n"
      ],
      "text/plain": [
       "<pandas.io.formats.style.Styler at 0x202979d5490>"
      ]
     },
     "execution_count": 29,
     "metadata": {},
     "output_type": "execute_result"
    }
   ],
   "source": [
    "# 최종 피처만으로 구성\n",
    "model_inputs = pd.read_pickle('model_inputs.pkl')\n",
    "feature_list = ['price_z','volume_z','num_high/close','num_win_market','pct_win_market','return over sector']\n",
    "\n",
    "X = model_inputs.loc[today_dt][['code','name','return'] + feature_list].set_index('code') # 오늘 날짜 2022년 4월 1일 데이터만\n",
    "X.head().style.set_table_attributes('style=\"font-size: 12px\"').format(precision=3)"
   ]
  },
  {
   "cell_type": "markdown",
   "id": "aad1a8e0-8b62-4282-810d-0277129d7a5f",
   "metadata": {},
   "source": [
    "<br> 저장한 GAM 모델을 불러 읽고, 입력변수를 넣어 예측값을 생성합니다. 입력변수의 순서는 모델에 사용한 입력변수와 동일해야 합니다. X 라는 데이터 프레임에 예측값 yhat 이 추가되었습니다."
   ]
  },
  {
   "cell_type": "code",
   "execution_count": 30,
   "id": "6b2325c5-1f87-4fbd-955b-c0bcd4aa8727",
   "metadata": {},
   "outputs": [
    {
     "data": {
      "text/html": [
       "<style type=\"text/css\">\n",
       "</style>\n",
       "<table id=\"T_6fff3_\" style=\"font-size: 12px\">\n",
       "  <thead>\n",
       "    <tr>\n",
       "      <th class=\"blank level0\" >&nbsp;</th>\n",
       "      <th class=\"col_heading level0 col0\" >name</th>\n",
       "      <th class=\"col_heading level0 col1\" >return</th>\n",
       "      <th class=\"col_heading level0 col2\" >price_z</th>\n",
       "      <th class=\"col_heading level0 col3\" >volume_z</th>\n",
       "      <th class=\"col_heading level0 col4\" >num_high/close</th>\n",
       "      <th class=\"col_heading level0 col5\" >num_win_market</th>\n",
       "      <th class=\"col_heading level0 col6\" >pct_win_market</th>\n",
       "      <th class=\"col_heading level0 col7\" >return over sector</th>\n",
       "      <th class=\"col_heading level0 col8\" >yhat</th>\n",
       "    </tr>\n",
       "    <tr>\n",
       "      <th class=\"index_name level0\" >code</th>\n",
       "      <th class=\"blank col0\" >&nbsp;</th>\n",
       "      <th class=\"blank col1\" >&nbsp;</th>\n",
       "      <th class=\"blank col2\" >&nbsp;</th>\n",
       "      <th class=\"blank col3\" >&nbsp;</th>\n",
       "      <th class=\"blank col4\" >&nbsp;</th>\n",
       "      <th class=\"blank col5\" >&nbsp;</th>\n",
       "      <th class=\"blank col6\" >&nbsp;</th>\n",
       "      <th class=\"blank col7\" >&nbsp;</th>\n",
       "      <th class=\"blank col8\" >&nbsp;</th>\n",
       "    </tr>\n",
       "  </thead>\n",
       "  <tbody>\n",
       "    <tr>\n",
       "      <th id=\"T_6fff3_level0_row0\" class=\"row_heading level0 row0\" >238490</th>\n",
       "      <td id=\"T_6fff3_row0_col0\" class=\"data row0 col0\" >힘스</td>\n",
       "      <td id=\"T_6fff3_row0_col1\" class=\"data row0 col1\" >0.997</td>\n",
       "      <td id=\"T_6fff3_row0_col2\" class=\"data row0 col2\" >-1.290</td>\n",
       "      <td id=\"T_6fff3_row0_col3\" class=\"data row0 col3\" >-0.519</td>\n",
       "      <td id=\"T_6fff3_row0_col4\" class=\"data row0 col4\" >0.000</td>\n",
       "      <td id=\"T_6fff3_row0_col5\" class=\"data row0 col5\" >6.000</td>\n",
       "      <td id=\"T_6fff3_row0_col6\" class=\"data row0 col6\" >1.000</td>\n",
       "      <td id=\"T_6fff3_row0_col7\" class=\"data row0 col7\" >1.002</td>\n",
       "      <td id=\"T_6fff3_row0_col8\" class=\"data row0 col8\" >0.208</td>\n",
       "    </tr>\n",
       "    <tr>\n",
       "      <th id=\"T_6fff3_level0_row1\" class=\"row_heading level0 row1\" >037440</th>\n",
       "      <td id=\"T_6fff3_row1_col0\" class=\"data row1 col0\" >희림</td>\n",
       "      <td id=\"T_6fff3_row1_col1\" class=\"data row1 col1\" >0.981</td>\n",
       "      <td id=\"T_6fff3_row1_col2\" class=\"data row1 col2\" >0.144</td>\n",
       "      <td id=\"T_6fff3_row1_col3\" class=\"data row1 col3\" >-0.839</td>\n",
       "      <td id=\"T_6fff3_row1_col4\" class=\"data row1 col4\" >0.000</td>\n",
       "      <td id=\"T_6fff3_row1_col5\" class=\"data row1 col5\" >12.000</td>\n",
       "      <td id=\"T_6fff3_row1_col6\" class=\"data row1 col6\" >1.009</td>\n",
       "      <td id=\"T_6fff3_row1_col7\" class=\"data row1 col7\" >0.970</td>\n",
       "      <td id=\"T_6fff3_row1_col8\" class=\"data row1 col8\" >0.297</td>\n",
       "    </tr>\n",
       "    <tr>\n",
       "      <th id=\"T_6fff3_level0_row2\" class=\"row_heading level0 row2\" >189980</th>\n",
       "      <td id=\"T_6fff3_row2_col0\" class=\"data row2 col0\" >흥국에프엔비</td>\n",
       "      <td id=\"T_6fff3_row2_col1\" class=\"data row2 col1\" >1.004</td>\n",
       "      <td id=\"T_6fff3_row2_col2\" class=\"data row2 col2\" >0.304</td>\n",
       "      <td id=\"T_6fff3_row2_col3\" class=\"data row2 col3\" >-0.555</td>\n",
       "      <td id=\"T_6fff3_row2_col4\" class=\"data row2 col4\" >0.000</td>\n",
       "      <td id=\"T_6fff3_row2_col5\" class=\"data row2 col5\" >14.000</td>\n",
       "      <td id=\"T_6fff3_row2_col6\" class=\"data row2 col6\" >1.002</td>\n",
       "      <td id=\"T_6fff3_row2_col7\" class=\"data row2 col7\" >1.000</td>\n",
       "      <td id=\"T_6fff3_row2_col8\" class=\"data row2 col8\" >0.220</td>\n",
       "    </tr>\n",
       "    <tr>\n",
       "      <th id=\"T_6fff3_level0_row3\" class=\"row_heading level0 row3\" >010240</th>\n",
       "      <td id=\"T_6fff3_row3_col0\" class=\"data row3 col0\" >흥국</td>\n",
       "      <td id=\"T_6fff3_row3_col1\" class=\"data row3 col1\" >0.996</td>\n",
       "      <td id=\"T_6fff3_row3_col2\" class=\"data row3 col2\" >0.962</td>\n",
       "      <td id=\"T_6fff3_row3_col3\" class=\"data row3 col3\" >0.693</td>\n",
       "      <td id=\"T_6fff3_row3_col4\" class=\"data row3 col4\" >0.000</td>\n",
       "      <td id=\"T_6fff3_row3_col5\" class=\"data row3 col5\" >8.000</td>\n",
       "      <td id=\"T_6fff3_row3_col6\" class=\"data row3 col6\" >1.000</td>\n",
       "      <td id=\"T_6fff3_row3_col7\" class=\"data row3 col7\" >1.001</td>\n",
       "      <td id=\"T_6fff3_row3_col8\" class=\"data row3 col8\" >0.227</td>\n",
       "    </tr>\n",
       "    <tr>\n",
       "      <th id=\"T_6fff3_level0_row4\" class=\"row_heading level0 row4\" >024060</th>\n",
       "      <td id=\"T_6fff3_row4_col0\" class=\"data row4 col0\" >흥구석유</td>\n",
       "      <td id=\"T_6fff3_row4_col1\" class=\"data row4 col1\" >1.011</td>\n",
       "      <td id=\"T_6fff3_row4_col2\" class=\"data row4 col2\" >-0.838</td>\n",
       "      <td id=\"T_6fff3_row4_col3\" class=\"data row4 col3\" >-0.590</td>\n",
       "      <td id=\"T_6fff3_row4_col4\" class=\"data row4 col4\" >0.000</td>\n",
       "      <td id=\"T_6fff3_row4_col5\" class=\"data row4 col5\" >15.000</td>\n",
       "      <td id=\"T_6fff3_row4_col6\" class=\"data row4 col6\" >1.006</td>\n",
       "      <td id=\"T_6fff3_row4_col7\" class=\"data row4 col7\" >1.012</td>\n",
       "      <td id=\"T_6fff3_row4_col8\" class=\"data row4 col8\" >0.294</td>\n",
       "    </tr>\n",
       "  </tbody>\n",
       "</table>\n"
      ],
      "text/plain": [
       "<pandas.io.formats.style.Styler at 0x202979af070>"
      ]
     },
     "execution_count": 30,
     "metadata": {},
     "output_type": "execute_result"
    }
   ],
   "source": [
    "import pickle\n",
    "with open(\"gam.pkl\", \"rb\") as file:\n",
    "    gam = pickle.load(file)     \n",
    "    \n",
    "yhat = gam.predict_proba(X[feature_list])\n",
    "X['yhat'] = yhat\n",
    "X.head().style.set_table_attributes('style=\"font-size: 12px\"').format(precision=3)"
   ]
  },
  {
   "cell_type": "markdown",
   "id": "1b8fb4d6-b539-497e-8653-48bd43d9f1bd",
   "metadata": {},
   "source": [
    "<br> 어떤 종목이 높은 스코어를 받았는지 궁금합니다. 스코어의 내림차순 정렬한 후 종목을 확인해 봅니다. "
   ]
  },
  {
   "cell_type": "code",
   "execution_count": 31,
   "id": "a188f475-347a-47a1-ac9a-d989b7e507b1",
   "metadata": {},
   "outputs": [
    {
     "data": {
      "text/html": [
       "<style type=\"text/css\">\n",
       "</style>\n",
       "<table id=\"T_5d02d_\" style=\"font-size: 12px\">\n",
       "  <thead>\n",
       "    <tr>\n",
       "      <th class=\"blank level0\" >&nbsp;</th>\n",
       "      <th class=\"col_heading level0 col0\" >name</th>\n",
       "      <th class=\"col_heading level0 col1\" >return</th>\n",
       "      <th class=\"col_heading level0 col2\" >price_z</th>\n",
       "      <th class=\"col_heading level0 col3\" >volume_z</th>\n",
       "      <th class=\"col_heading level0 col4\" >num_high/close</th>\n",
       "      <th class=\"col_heading level0 col5\" >num_win_market</th>\n",
       "      <th class=\"col_heading level0 col6\" >pct_win_market</th>\n",
       "      <th class=\"col_heading level0 col7\" >return over sector</th>\n",
       "      <th class=\"col_heading level0 col8\" >yhat</th>\n",
       "    </tr>\n",
       "    <tr>\n",
       "      <th class=\"index_name level0\" >code</th>\n",
       "      <th class=\"blank col0\" >&nbsp;</th>\n",
       "      <th class=\"blank col1\" >&nbsp;</th>\n",
       "      <th class=\"blank col2\" >&nbsp;</th>\n",
       "      <th class=\"blank col3\" >&nbsp;</th>\n",
       "      <th class=\"blank col4\" >&nbsp;</th>\n",
       "      <th class=\"blank col5\" >&nbsp;</th>\n",
       "      <th class=\"blank col6\" >&nbsp;</th>\n",
       "      <th class=\"blank col7\" >&nbsp;</th>\n",
       "      <th class=\"blank col8\" >&nbsp;</th>\n",
       "    </tr>\n",
       "  </thead>\n",
       "  <tbody>\n",
       "    <tr>\n",
       "      <th id=\"T_5d02d_level0_row0\" class=\"row_heading level0 row0\" >056090</th>\n",
       "      <td id=\"T_5d02d_row0_col0\" class=\"data row0 col0\" >에디슨INNO</td>\n",
       "      <td id=\"T_5d02d_row0_col1\" class=\"data row0 col1\" >1.080</td>\n",
       "      <td id=\"T_5d02d_row0_col2\" class=\"data row0 col2\" >-1.621</td>\n",
       "      <td id=\"T_5d02d_row0_col3\" class=\"data row0 col3\" >1.764</td>\n",
       "      <td id=\"T_5d02d_row0_col4\" class=\"data row0 col4\" >3.000</td>\n",
       "      <td id=\"T_5d02d_row0_col5\" class=\"data row0 col5\" >16.000</td>\n",
       "      <td id=\"T_5d02d_row0_col6\" class=\"data row0 col6\" >1.026</td>\n",
       "      <td id=\"T_5d02d_row0_col7\" class=\"data row0 col7\" >1.064</td>\n",
       "      <td id=\"T_5d02d_row0_col8\" class=\"data row0 col8\" >0.542</td>\n",
       "    </tr>\n",
       "    <tr>\n",
       "      <th id=\"T_5d02d_level0_row1\" class=\"row_heading level0 row1\" >185490</th>\n",
       "      <td id=\"T_5d02d_row1_col0\" class=\"data row1 col0\" >아이진</td>\n",
       "      <td id=\"T_5d02d_row1_col1\" class=\"data row1 col1\" >0.908</td>\n",
       "      <td id=\"T_5d02d_row1_col2\" class=\"data row1 col2\" >-2.249</td>\n",
       "      <td id=\"T_5d02d_row1_col3\" class=\"data row1 col3\" >2.227</td>\n",
       "      <td id=\"T_5d02d_row1_col4\" class=\"data row1 col4\" >0.000</td>\n",
       "      <td id=\"T_5d02d_row1_col5\" class=\"data row1 col5\" >6.000</td>\n",
       "      <td id=\"T_5d02d_row1_col6\" class=\"data row1 col6\" >0.992</td>\n",
       "      <td id=\"T_5d02d_row1_col7\" class=\"data row1 col7\" >0.920</td>\n",
       "      <td id=\"T_5d02d_row1_col8\" class=\"data row1 col8\" >0.500</td>\n",
       "    </tr>\n",
       "    <tr>\n",
       "      <th id=\"T_5d02d_level0_row2\" class=\"row_heading level0 row2\" >069920</th>\n",
       "      <td id=\"T_5d02d_row2_col0\" class=\"data row2 col0\" >아이에스이커머스</td>\n",
       "      <td id=\"T_5d02d_row2_col1\" class=\"data row2 col1\" >1.300</td>\n",
       "      <td id=\"T_5d02d_row2_col2\" class=\"data row2 col2\" >2.396</td>\n",
       "      <td id=\"T_5d02d_row2_col3\" class=\"data row2 col3\" >3.518</td>\n",
       "      <td id=\"T_5d02d_row2_col4\" class=\"data row2 col4\" >2.000</td>\n",
       "      <td id=\"T_5d02d_row2_col5\" class=\"data row2 col5\" >15.000</td>\n",
       "      <td id=\"T_5d02d_row2_col6\" class=\"data row2 col6\" >1.019</td>\n",
       "      <td id=\"T_5d02d_row2_col7\" class=\"data row2 col7\" >1.224</td>\n",
       "      <td id=\"T_5d02d_row2_col8\" class=\"data row2 col8\" >0.474</td>\n",
       "    </tr>\n",
       "    <tr>\n",
       "      <th id=\"T_5d02d_level0_row3\" class=\"row_heading level0 row3\" >145020</th>\n",
       "      <td id=\"T_5d02d_row3_col0\" class=\"data row3 col0\" >휴젤</td>\n",
       "      <td id=\"T_5d02d_row3_col1\" class=\"data row3 col1\" >0.868</td>\n",
       "      <td id=\"T_5d02d_row3_col2\" class=\"data row3 col2\" >-3.379</td>\n",
       "      <td id=\"T_5d02d_row3_col3\" class=\"data row3 col3\" >7.109</td>\n",
       "      <td id=\"T_5d02d_row3_col4\" class=\"data row3 col4\" >0.000</td>\n",
       "      <td id=\"T_5d02d_row3_col5\" class=\"data row3 col5\" >6.000</td>\n",
       "      <td id=\"T_5d02d_row3_col6\" class=\"data row3 col6\" >0.998</td>\n",
       "      <td id=\"T_5d02d_row3_col7\" class=\"data row3 col7\" >0.868</td>\n",
       "      <td id=\"T_5d02d_row3_col8\" class=\"data row3 col8\" >0.471</td>\n",
       "    </tr>\n",
       "    <tr>\n",
       "      <th id=\"T_5d02d_level0_row4\" class=\"row_heading level0 row4\" >010280</th>\n",
       "      <td id=\"T_5d02d_row4_col0\" class=\"data row4 col0\" >쌍용정보통신</td>\n",
       "      <td id=\"T_5d02d_row4_col1\" class=\"data row4 col1\" >1.062</td>\n",
       "      <td id=\"T_5d02d_row4_col2\" class=\"data row4 col2\" >2.993</td>\n",
       "      <td id=\"T_5d02d_row4_col3\" class=\"data row4 col3\" >7.584</td>\n",
       "      <td id=\"T_5d02d_row4_col4\" class=\"data row4 col4\" >1.000</td>\n",
       "      <td id=\"T_5d02d_row4_col5\" class=\"data row4 col5\" >11.000</td>\n",
       "      <td id=\"T_5d02d_row4_col6\" class=\"data row4 col6\" >1.004</td>\n",
       "      <td id=\"T_5d02d_row4_col7\" class=\"data row4 col7\" >1.066</td>\n",
       "      <td id=\"T_5d02d_row4_col8\" class=\"data row4 col8\" >0.457</td>\n",
       "    </tr>\n",
       "  </tbody>\n",
       "</table>\n"
      ],
      "text/plain": [
       "<pandas.io.formats.style.Styler at 0x202979a7f40>"
      ]
     },
     "execution_count": 31,
     "metadata": {},
     "output_type": "execute_result"
    }
   ],
   "source": [
    "X.sort_values(by='yhat', ascending=False).head(5).style.set_table_attributes('style=\"font-size: 12px\"').format(precision=3)"
   ]
  },
  {
   "cell_type": "markdown",
   "id": "213b9456-c159-402c-94b8-8f369fbe2cae",
   "metadata": {},
   "source": [
    "<br> 그리고 필터링을 적용해서 최종 종목을 선정합니다. 최종적으로 5 개의 종목이 선정되었습니다. 우리는 4월 1일 이후에 주가 흐름을 알고 있습니다. 4월 2일이후 데이터를 추가하여 선택된 종목들이 유의미한지 점검해 보겠습니다."
   ]
  },
  {
   "cell_type": "code",
   "execution_count": 36,
   "id": "3af4b557-09de-4c53-9bcd-1f9973d0ede6",
   "metadata": {},
   "outputs": [
    {
     "name": "stdout",
     "output_type": "stream",
     "text": [
      "204\n"
     ]
    },
    {
     "data": {
      "text/html": [
       "<style type=\"text/css\">\n",
       "</style>\n",
       "<table id=\"T_76aca_\" style=\"font-size: 12px\">\n",
       "  <thead>\n",
       "    <tr>\n",
       "      <th class=\"blank level0\" >&nbsp;</th>\n",
       "      <th class=\"col_heading level0 col0\" >name</th>\n",
       "      <th class=\"col_heading level0 col1\" >return</th>\n",
       "      <th class=\"col_heading level0 col2\" >price_z</th>\n",
       "      <th class=\"col_heading level0 col3\" >yhat</th>\n",
       "      <th class=\"col_heading level0 col4\" >return</th>\n",
       "    </tr>\n",
       "    <tr>\n",
       "      <th class=\"index_name level0\" >code</th>\n",
       "      <th class=\"blank col0\" >&nbsp;</th>\n",
       "      <th class=\"blank col1\" >&nbsp;</th>\n",
       "      <th class=\"blank col2\" >&nbsp;</th>\n",
       "      <th class=\"blank col3\" >&nbsp;</th>\n",
       "      <th class=\"blank col4\" >&nbsp;</th>\n",
       "    </tr>\n",
       "  </thead>\n",
       "  <tbody>\n",
       "    <tr>\n",
       "      <th id=\"T_76aca_level0_row0\" class=\"row_heading level0 row0\" >024740</th>\n",
       "      <td id=\"T_76aca_row0_col0\" class=\"data row0 col0\" >한일단조</td>\n",
       "      <td id=\"T_76aca_row0_col1\" class=\"data row0 col1\" >1.062</td>\n",
       "      <td id=\"T_76aca_row0_col2\" class=\"data row0 col2\" >-0.823</td>\n",
       "      <td id=\"T_76aca_row0_col3\" class=\"data row0 col3\" >0.357</td>\n",
       "      <td id=\"T_76aca_row0_col4\" class=\"data row0 col4\" >1.062</td>\n",
       "    </tr>\n",
       "    <tr>\n",
       "      <th id=\"T_76aca_level0_row1\" class=\"row_heading level0 row1\" >174880</th>\n",
       "      <td id=\"T_76aca_row1_col0\" class=\"data row1 col0\" >장원테크</td>\n",
       "      <td id=\"T_76aca_row1_col1\" class=\"data row1 col1\" >1.090</td>\n",
       "      <td id=\"T_76aca_row1_col2\" class=\"data row1 col2\" >-0.366</td>\n",
       "      <td id=\"T_76aca_row1_col3\" class=\"data row1 col3\" >0.302</td>\n",
       "      <td id=\"T_76aca_row1_col4\" class=\"data row1 col4\" >1.090</td>\n",
       "    </tr>\n",
       "    <tr>\n",
       "      <th id=\"T_76aca_level0_row2\" class=\"row_heading level0 row2\" >056090</th>\n",
       "      <td id=\"T_76aca_row2_col0\" class=\"data row2 col0\" >에디슨INNO</td>\n",
       "      <td id=\"T_76aca_row2_col1\" class=\"data row2 col1\" >1.080</td>\n",
       "      <td id=\"T_76aca_row2_col2\" class=\"data row2 col2\" >-1.621</td>\n",
       "      <td id=\"T_76aca_row2_col3\" class=\"data row2 col3\" >0.542</td>\n",
       "      <td id=\"T_76aca_row2_col4\" class=\"data row2 col4\" >1.080</td>\n",
       "    </tr>\n",
       "    <tr>\n",
       "      <th id=\"T_76aca_level0_row3\" class=\"row_heading level0 row3\" >122690</th>\n",
       "      <td id=\"T_76aca_row3_col0\" class=\"data row3 col0\" >서진오토모티브</td>\n",
       "      <td id=\"T_76aca_row3_col1\" class=\"data row3 col1\" >1.058</td>\n",
       "      <td id=\"T_76aca_row3_col2\" class=\"data row3 col2\" >-0.114</td>\n",
       "      <td id=\"T_76aca_row3_col3\" class=\"data row3 col3\" >0.321</td>\n",
       "      <td id=\"T_76aca_row3_col4\" class=\"data row3 col4\" >1.058</td>\n",
       "    </tr>\n",
       "    <tr>\n",
       "      <th id=\"T_76aca_level0_row4\" class=\"row_heading level0 row4\" >083660</th>\n",
       "      <td id=\"T_76aca_row4_col0\" class=\"data row4 col0\" >CSA 코스믹</td>\n",
       "      <td id=\"T_76aca_row4_col1\" class=\"data row4 col1\" >1.035</td>\n",
       "      <td id=\"T_76aca_row4_col2\" class=\"data row4 col2\" >-0.094</td>\n",
       "      <td id=\"T_76aca_row4_col3\" class=\"data row4 col3\" >0.353</td>\n",
       "      <td id=\"T_76aca_row4_col4\" class=\"data row4 col4\" >1.035</td>\n",
       "    </tr>\n",
       "  </tbody>\n",
       "</table>\n"
      ],
      "text/plain": [
       "<pandas.io.formats.style.Styler at 0x202925e1e20>"
      ]
     },
     "execution_count": 36,
     "metadata": {},
     "output_type": "execute_result"
    }
   ],
   "source": [
    "tops = X[X['yhat'] >= 0.3].copy() # 스코어 0.3 이상 종목만 \n",
    "print(len(tops))\n",
    "select_tops = tops[(tops['return'] > 1.03) & (tops['price_z'] < 0)][['name','return','price_z','yhat','return']]          \n",
    "select_tops.style.set_table_attributes('style=\"font-size: 12px\"').format(precision=3)"
   ]
  },
  {
   "cell_type": "code",
   "execution_count": 33,
   "id": "0f4f2bed-7489-4ed5-beec-ac9e2fd6fc38",
   "metadata": {},
   "outputs": [],
   "source": [
    "outcome_data = pd.DataFrame()\n",
    "\n",
    "today_dt = '2022-04-01'\n",
    "end_dt = '2022-04-08'\n",
    "\n",
    "for code in list(select_tops.index):  # 스코어가 생성된 모든 종목에서 대하여 반복\n",
    "    daily_price = fdr.DataReader(code,  start = today_dt, end = end_dt) # 종목, 일봉, 데이터 갯수\n",
    "    daily_price['code'] = code\n",
    "  \n",
    "    \n",
    "    daily_price['close_r1'] = daily_price['Close'].shift(-1)/daily_price['Close']   # 4월 1일 종가 매수한 후, 4월 4일 수익율\n",
    "    daily_price['close_r2'] = daily_price['Close'].shift(-2)/daily_price['Close']   # 4월 1일 종가 매수한 후, 4월 5일 수익율\n",
    "    daily_price['close_r3'] = daily_price['Close'].shift(-3)/daily_price['Close']   # 4월 1일 종가 매수한 후, 4월 6일 수익율\n",
    "    daily_price['close_r4'] = daily_price['Close'].shift(-4)/daily_price['Close']   # 4월 1일 종가 매수한 후, 4월 7일 수익율\n",
    "    daily_price['close_r5'] = daily_price['Close'].shift(-5)/daily_price['Close']   # 4월 1일 종가 매수한 후, 4월 8일 수익율\n",
    "\n",
    "    daily_price['max_close'] = daily_price[['close_r1','close_r2','close_r3','close_r4','close_r5']].max(axis=1)\n",
    "    daily_price['mean_close'] = daily_price[['close_r1','close_r2','close_r3','close_r4','close_r5']].mean(axis=1)\n",
    "    daily_price['min_close'] = daily_price[['close_r1','close_r2','close_r3','close_r4','close_r5']].min(axis=1)\n",
    "\n",
    "    daily_price['buy_price'] = daily_price['Close']\n",
    "    daily_price['buy_low'] = daily_price['Low'].shift(-1) \n",
    "    daily_price['buy_high'] = daily_price['High'].shift(-1)\n",
    "\n",
    "    daily_price['buy'] = np.where((daily_price['buy_price'].between(daily_price['buy_low'], daily_price['buy_high'])), 1, 0) # 4월 2일 매수일, 4월 1일 종가에 살 수 있는 지 여부\n",
    "    daily_price['target'] = np.where(daily_price['max_close']>=1.05, 1, 0)    \n",
    "    \n",
    "    outcome_data = pd.concat([outcome_data, daily_price], axis=0)  "
   ]
  },
  {
   "cell_type": "markdown",
   "id": "261bbe85-77b6-449e-a02c-3672afdee05a",
   "metadata": {},
   "source": [
    "<br> 최종 선정된 종목들의 결과가 궁금합니다. 선정된 종목 데이터에 결과 데이터를 병합합니다. 두 데이터셋의 인덱스는 종목이어야 병합이 가능합니다. 5% 익절할 확률은 83.3% 로 높게 나왔습니다. 최저 수익률의 평균은 .98 로 리스크도 비교적 낮은 것으로 보입니다. 2022년 4월 1일 매수한 종목은 수익권으로 예상이 됩니다. 물론 모든 날짜에 대하여 동일한 결과가 나오지는 않습니다. "
   ]
  },
  {
   "cell_type": "code",
   "execution_count": 35,
   "id": "71482a71-5c3a-49e4-9cb9-dab5dcac07b0",
   "metadata": {},
   "outputs": [
    {
     "data": {
      "text/plain": [
       "yhat         0.375\n",
       "buy          0.800\n",
       "max_close    1.127\n",
       "mean_close   1.055\n",
       "min_close    0.983\n",
       "dtype: float64"
      ]
     },
     "execution_count": 35,
     "metadata": {},
     "output_type": "execute_result"
    }
   ],
   "source": [
    "outcome = outcome_data.loc[today_dt][['code','buy','buy_price','buy_low','buy_high','max_close','mean_close','min_close','target']].set_index('code')\n",
    "select_outcome = tops.merge(outcome, left_index=True, right_index=True, how='inner')\n",
    "select_outcome[['yhat','buy','max_close','mean_close','min_close']].mean()"
   ]
  },
  {
   "cell_type": "markdown",
   "id": "c4116096-af4a-4f19-bd6f-5129de916578",
   "metadata": {},
   "source": [
    "<br> buy 는 4월 1일 종가에 4월 2일 매수할 수 있는 기회가 있는 지를 알려주는 Flag 입니다. CSA 코스믹은 4월 2일 갭상승으로 시작했습니다. 4월 1일 종가에 살 수 있는 기회가 없습니다."
   ]
  },
  {
   "cell_type": "code",
   "execution_count": 38,
   "id": "9c153061-3f35-47e9-8f3e-112bfda22852",
   "metadata": {},
   "outputs": [
    {
     "data": {
      "text/html": [
       "<style type=\"text/css\">\n",
       "</style>\n",
       "<table id=\"T_70a7d_\" style=\"font-size: 12px\">\n",
       "  <thead>\n",
       "    <tr>\n",
       "      <th class=\"blank level0\" >&nbsp;</th>\n",
       "      <th class=\"col_heading level0 col0\" >name</th>\n",
       "      <th class=\"col_heading level0 col1\" >buy</th>\n",
       "      <th class=\"col_heading level0 col2\" >buy_price</th>\n",
       "      <th class=\"col_heading level0 col3\" >buy_low</th>\n",
       "      <th class=\"col_heading level0 col4\" >buy_high</th>\n",
       "      <th class=\"col_heading level0 col5\" >yhat</th>\n",
       "      <th class=\"col_heading level0 col6\" >max_close</th>\n",
       "      <th class=\"col_heading level0 col7\" >mean_close</th>\n",
       "      <th class=\"col_heading level0 col8\" >min_close</th>\n",
       "    </tr>\n",
       "    <tr>\n",
       "      <th class=\"index_name level0\" >code</th>\n",
       "      <th class=\"blank col0\" >&nbsp;</th>\n",
       "      <th class=\"blank col1\" >&nbsp;</th>\n",
       "      <th class=\"blank col2\" >&nbsp;</th>\n",
       "      <th class=\"blank col3\" >&nbsp;</th>\n",
       "      <th class=\"blank col4\" >&nbsp;</th>\n",
       "      <th class=\"blank col5\" >&nbsp;</th>\n",
       "      <th class=\"blank col6\" >&nbsp;</th>\n",
       "      <th class=\"blank col7\" >&nbsp;</th>\n",
       "      <th class=\"blank col8\" >&nbsp;</th>\n",
       "    </tr>\n",
       "  </thead>\n",
       "  <tbody>\n",
       "    <tr>\n",
       "      <th id=\"T_70a7d_level0_row0\" class=\"row_heading level0 row0\" >024740</th>\n",
       "      <td id=\"T_70a7d_row0_col0\" class=\"data row0 col0\" >한일단조</td>\n",
       "      <td id=\"T_70a7d_row0_col1\" class=\"data row0 col1\" >1</td>\n",
       "      <td id=\"T_70a7d_row0_col2\" class=\"data row0 col2\" >3185</td>\n",
       "      <td id=\"T_70a7d_row0_col3\" class=\"data row0 col3\" >3185.000</td>\n",
       "      <td id=\"T_70a7d_row0_col4\" class=\"data row0 col4\" >3300.000</td>\n",
       "      <td id=\"T_70a7d_row0_col5\" class=\"data row0 col5\" >0.357</td>\n",
       "      <td id=\"T_70a7d_row0_col6\" class=\"data row0 col6\" >1.057</td>\n",
       "      <td id=\"T_70a7d_row0_col7\" class=\"data row0 col7\" >1.025</td>\n",
       "      <td id=\"T_70a7d_row0_col8\" class=\"data row0 col8\" >0.983</td>\n",
       "    </tr>\n",
       "    <tr>\n",
       "      <th id=\"T_70a7d_level0_row1\" class=\"row_heading level0 row1\" >174880</th>\n",
       "      <td id=\"T_70a7d_row1_col0\" class=\"data row1 col0\" >장원테크</td>\n",
       "      <td id=\"T_70a7d_row1_col1\" class=\"data row1 col1\" >1</td>\n",
       "      <td id=\"T_70a7d_row1_col2\" class=\"data row1 col2\" >1990</td>\n",
       "      <td id=\"T_70a7d_row1_col3\" class=\"data row1 col3\" >1985.000</td>\n",
       "      <td id=\"T_70a7d_row1_col4\" class=\"data row1 col4\" >2225.000</td>\n",
       "      <td id=\"T_70a7d_row1_col5\" class=\"data row1 col5\" >0.302</td>\n",
       "      <td id=\"T_70a7d_row1_col6\" class=\"data row1 col6\" >1.116</td>\n",
       "      <td id=\"T_70a7d_row1_col7\" class=\"data row1 col7\" >0.988</td>\n",
       "      <td id=\"T_70a7d_row1_col8\" class=\"data row1 col8\" >0.925</td>\n",
       "    </tr>\n",
       "    <tr>\n",
       "      <th id=\"T_70a7d_level0_row2\" class=\"row_heading level0 row2\" >056090</th>\n",
       "      <td id=\"T_70a7d_row2_col0\" class=\"data row2 col0\" >에디슨INNO</td>\n",
       "      <td id=\"T_70a7d_row2_col1\" class=\"data row2 col1\" >1</td>\n",
       "      <td id=\"T_70a7d_row2_col2\" class=\"data row2 col2\" >12800</td>\n",
       "      <td id=\"T_70a7d_row2_col3\" class=\"data row2 col3\" >11350.000</td>\n",
       "      <td id=\"T_70a7d_row2_col4\" class=\"data row2 col4\" >13350.000</td>\n",
       "      <td id=\"T_70a7d_row2_col5\" class=\"data row2 col5\" >0.542</td>\n",
       "      <td id=\"T_70a7d_row2_col6\" class=\"data row2 col6\" >1.273</td>\n",
       "      <td id=\"T_70a7d_row2_col7\" class=\"data row2 col7\" >1.127</td>\n",
       "      <td id=\"T_70a7d_row2_col8\" class=\"data row2 col8\" >0.930</td>\n",
       "    </tr>\n",
       "    <tr>\n",
       "      <th id=\"T_70a7d_level0_row3\" class=\"row_heading level0 row3\" >122690</th>\n",
       "      <td id=\"T_70a7d_row3_col0\" class=\"data row3 col0\" >서진오토모티브</td>\n",
       "      <td id=\"T_70a7d_row3_col1\" class=\"data row3 col1\" >1</td>\n",
       "      <td id=\"T_70a7d_row3_col2\" class=\"data row3 col2\" >3350</td>\n",
       "      <td id=\"T_70a7d_row3_col3\" class=\"data row3 col3\" >3330.000</td>\n",
       "      <td id=\"T_70a7d_row3_col4\" class=\"data row3 col4\" >3680.000</td>\n",
       "      <td id=\"T_70a7d_row3_col5\" class=\"data row3 col5\" >0.321</td>\n",
       "      <td id=\"T_70a7d_row3_col6\" class=\"data row3 col6\" >1.103</td>\n",
       "      <td id=\"T_70a7d_row3_col7\" class=\"data row3 col7\" >1.070</td>\n",
       "      <td id=\"T_70a7d_row3_col8\" class=\"data row3 col8\" >1.037</td>\n",
       "    </tr>\n",
       "    <tr>\n",
       "      <th id=\"T_70a7d_level0_row4\" class=\"row_heading level0 row4\" >083660</th>\n",
       "      <td id=\"T_70a7d_row4_col0\" class=\"data row4 col0\" >CSA 코스믹</td>\n",
       "      <td id=\"T_70a7d_row4_col1\" class=\"data row4 col1\" >0</td>\n",
       "      <td id=\"T_70a7d_row4_col2\" class=\"data row4 col2\" >2080</td>\n",
       "      <td id=\"T_70a7d_row4_col3\" class=\"data row4 col3\" >2100.000</td>\n",
       "      <td id=\"T_70a7d_row4_col4\" class=\"data row4 col4\" >2270.000</td>\n",
       "      <td id=\"T_70a7d_row4_col5\" class=\"data row4 col5\" >0.353</td>\n",
       "      <td id=\"T_70a7d_row4_col6\" class=\"data row4 col6\" >1.087</td>\n",
       "      <td id=\"T_70a7d_row4_col7\" class=\"data row4 col7\" >1.067</td>\n",
       "      <td id=\"T_70a7d_row4_col8\" class=\"data row4 col8\" >1.041</td>\n",
       "    </tr>\n",
       "  </tbody>\n",
       "</table>\n"
      ],
      "text/plain": [
       "<pandas.io.formats.style.Styler at 0x202925b2550>"
      ]
     },
     "execution_count": 38,
     "metadata": {},
     "output_type": "execute_result"
    }
   ],
   "source": [
    "select_outcome[['name','buy','buy_price', 'buy_low','buy_high','yhat','max_close','mean_close','min_close']].style.set_table_attributes('style=\"font-size: 12px\"').format(precision=3)"
   ]
  },
  {
   "cell_type": "markdown",
   "id": "37956abf-1ada-45db-bac3-65872046bccf",
   "metadata": {},
   "source": [
    "2022년 4월 1일 추천받은 종목들의 일봉 차트를 보겠습니다. CSA 코스믹은 전일 종가로 당일 매수가 불가능합니다. 2022년 4월 2일 갭상승으로 시작을 했습니다.  에디슨 INNO 는 4월 2일 매수 후 익절할 기회를 제공하고 있습니다."
   ]
  },
  {
   "cell_type": "markdown",
   "id": "7f3d19d6-daef-4cdb-b776-f1135d95db13",
   "metadata": {},
   "source": [
    "<br> **한일단조**           \n",
    "<img src=\"../_images/Hanil.PNG\" width=\"500\" height=\"400\"></img>"
   ]
  },
  {
   "cell_type": "markdown",
   "id": "6bc8c031-2cf3-4b4a-a2c5-6dc8c6173e42",
   "metadata": {},
   "source": [
    "<br>**장원테크**            \n",
    "<img src=\"../_images/JangWon.PNG\" width=\"500\" height=\"400\"></img>"
   ]
  },
  {
   "cell_type": "markdown",
   "id": "a1b6e2e8-432c-4f1c-978b-97063970c22a",
   "metadata": {},
   "source": [
    "<br>**에디슨INNO**             \n",
    "<img src=\"../_images/Eddison.PNG\" width=\"500\" height=\"400\"></img>"
   ]
  },
  {
   "cell_type": "markdown",
   "id": "0f2fe063-0963-4a90-a180-e17d0efbbf2d",
   "metadata": {},
   "source": [
    "<br>**서진오토모티브**             \n",
    "<img src=\"../_images/SeoJin.PNG\" width=\"500\" height=\"400\"></img>"
   ]
  },
  {
   "cell_type": "markdown",
   "id": "07a80b3c-420d-46f7-867b-2723a6b07bed",
   "metadata": {},
   "source": [
    "<br>**CSA 코스믹**           \n",
    "<img src=\"../_images/CSA.PNG\" width=\"500\" height=\"400\"></img>"
   ]
  },
  {
   "cell_type": "code",
   "execution_count": null,
   "id": "fd317b42-142d-4377-9124-6d8512d9c820",
   "metadata": {},
   "outputs": [],
   "source": []
  }
 ],
 "metadata": {
  "kernelspec": {
   "display_name": "Python 3 (ipykernel)",
   "language": "python",
   "name": "python3"
  },
  "language_info": {
   "codemirror_mode": {
    "name": "ipython",
    "version": 3
   },
   "file_extension": ".py",
   "mimetype": "text/x-python",
   "name": "python",
   "nbconvert_exporter": "python",
   "pygments_lexer": "ipython3",
   "version": "3.9.7"
  }
 },
 "nbformat": 4,
 "nbformat_minor": 5
}
