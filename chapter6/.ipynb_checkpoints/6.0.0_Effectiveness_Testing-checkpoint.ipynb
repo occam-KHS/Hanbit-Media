{
 "cells": [
  {
   "cell_type": "markdown",
   "id": "b89f6e40-aee9-4132-975b-d4b01e9fa33c",
   "metadata": {},
   "source": [
    "### **해결책의 효과 측정**"
   ]
  },
  {
   "cell_type": "markdown",
   "id": "5913327d-40ca-4b6a-ac97-1e3a8c030ae9",
   "metadata": {},
   "source": [
    "완성된 모델을 이용하여 종목 추천을 받는 프로세스를 만들어보겠습니다. \n",
    "오늘이 2022년 4월 1일라고 가정하고 어떤 종목들이 추천되는 지 보겠습니다. 4월1일 장 마감 후 프로그램을 돌려 추천 종목을 받고, 익일(4월 2일) 날 4월 1일의 종가에 매수를 하는 전략입니다.\n"
   ]
  }
 ],
 "metadata": {
  "kernelspec": {
   "display_name": "Python 3 (ipykernel)",
   "language": "python",
   "name": "python3"
  },
  "language_info": {
   "codemirror_mode": {
    "name": "ipython",
    "version": 3
   },
   "file_extension": ".py",
   "mimetype": "text/x-python",
   "name": "python",
   "nbconvert_exporter": "python",
   "pygments_lexer": "ipython3",
   "version": "3.9.7"
  }
 },
 "nbformat": 4,
 "nbformat_minor": 5
}
