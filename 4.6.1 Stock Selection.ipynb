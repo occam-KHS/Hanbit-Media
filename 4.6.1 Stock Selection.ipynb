{
 "cells": [
  {
   "cell_type": "code",
   "execution_count": 4,
   "id": "3f64896d-520e-4f08-bb3e-a6c733296a4f",
   "metadata": {},
   "outputs": [],
   "source": [
    "import FinanceDataReader as fdr\n",
    "import matplotlib.pyplot as plt\n",
    "%matplotlib inline\n",
    "\n",
    "import pandas as pd\n",
    "import numpy as np\n",
    "import requests\n",
    "import bs4\n",
    "\n",
    "pd.options.display.float_format = '{:,.3f}'.format"
   ]
  },
  {
   "cell_type": "code",
   "execution_count": 5,
   "id": "daf32345-cc4f-490f-b5eb-9deddbb2d069",
   "metadata": {},
   "outputs": [],
   "source": [
    "import datetime\n",
    "today_dt = '2022-04-01'\n",
    "today = datetime.datetime.strptime(today_dt, '%Y-%m-%d')\n",
    "start_dt = today - datetime.timedelta(days=100) # 100 일전 데이터 부터 시작 - 피쳐 엔지니어링은 최소 60 개의 일봉이 필요함\n"
   ]
  },
  {
   "cell_type": "code",
   "execution_count": null,
   "id": "d7f2700b-a7be-4d1f-8d91-566434d30472",
   "metadata": {},
   "outputs": [],
   "source": [
    "kosdaq_list = pd.read_pickle('kosdaq_list.pkl')\n",
    "\n",
    "price_data = pd.DataFrame()\n",
    "\n",
    "for code, name in zip(kosdaq_list['code'], kosdaq_list['name']):  # 코스닥 모든 종목에서 대하여 반복\n",
    "    daily_price = fdr.DataReader(code,  start = start_dt, end = today_dt) # 종목, 일봉, 데이터 갯수\n",
    "    daily_price['code'] = code\n",
    "    daily_price['name'] = name\n",
    "    price_data = pd.concat([price_data, daily_price], axis=0)   \n",
    "\n",
    "price_data.index.name = 'date'\n",
    "price_data.columns= price_data.columns.str.lower() # 컬럼 이름 소문자로 변경"
   ]
  },
  {
   "cell_type": "code",
   "execution_count": null,
   "id": "f49f6128-5273-457b-a086-c503eec16f86",
   "metadata": {},
   "outputs": [],
   "source": [
    "kosdaq_index = fdr.DataReader('KQ11', start = start_dt, end = today_dt) # 데이터 호출\n",
    "kosdaq_index.columns = ['close','open','high','low','volume','change'] # 컬럼명 변경\n",
    "kosdaq_index.index.name='date' # 인덱스 이름 생성\n",
    "kosdaq_index.sort_index(inplace=True) # 인덱스(날짜) 로 정렬 \n",
    "kosdaq_index['kosdaq_return'] = kosdaq_index['close']/kosdaq_index['close'].shift(1) # 수익율 : 전 날 종가대비 당일 종가"
   ]
  },
  {
   "cell_type": "code",
   "execution_count": null,
   "id": "eae82546-2fe7-408a-8609-512a9caf5205",
   "metadata": {},
   "outputs": [],
   "source": [
    "merged = price_data.merge(kosdaq_index['kosdaq_return'], left_index=True, right_index=True, how='left')"
   ]
  },
  {
   "cell_type": "code",
   "execution_count": null,
   "id": "34005ff7-132d-4a12-80d8-e01e0c8a922c",
   "metadata": {},
   "outputs": [],
   "source": [
    "return_all = pd.DataFrame()\n",
    "\n",
    "for code in kosdaq_list['code']:  \n",
    "    \n",
    "    stock_return = merged[merged['code']==code].sort_index()\n",
    "    stock_return['return'] = stock_return['close']/stock_return['close'].shift(1) # 종목별 전일 종가 대비 당일 종가 수익율\n",
    "    c1 = (stock_return['kosdaq_return'] < 1) # 수익율 1 보다 작음. 당일 종가가 전일 종가보다 낮음 (코스닥 지표)\n",
    "    c2 = (stock_return['return'] > 1) # 수익율 1 보다 큼. 당일 종가가 전일 종가보다 큼 (개별 종목)\n",
    "    stock_return['win_market'] = np.where((c1&c2), 1, 0) # C1 과 C2 조건을 동시에 만족하면 1, 아니면 0\n",
    "    return_all = pd.concat([return_all, stock_return], axis=0) \n",
    "    \n",
    "return_all.dropna(inplace=True)    "
   ]
  },
  {
   "cell_type": "code",
   "execution_count": null,
   "id": "16d859ff-e514-4fee-8176-129c702fe31e",
   "metadata": {},
   "outputs": [],
   "source": [
    "return_all.head()"
   ]
  },
  {
   "cell_type": "code",
   "execution_count": null,
   "id": "f63ec6e4-8e7c-4fa4-b64e-7f2b0833bc3a",
   "metadata": {},
   "outputs": [],
   "source": [
    "feature_all = pd.DataFrame()\n",
    "\n",
    "for code, sector in zip(kosdaq_list['code'], kosdaq_list['sector']):\n",
    "\n",
    "    data = return_all[return_all['code']==code].sort_index().copy()    \n",
    "    \n",
    "    # 가격변동성이 크고, 거래량이 몰린 종목이 주가가 상승한다\n",
    "    data['price_mean'] = data['close'].rolling(20).mean()\n",
    "    data['price_std'] = data['close'].rolling(20).std(ddof=0)\n",
    "    data['price_z'] = (data['close'] - data['price_mean'])/data['price_std']    \n",
    "    data['volume_mean'] = data['volume'].rolling(20).mean()\n",
    "    data['volume_std'] = data['volume'].rolling(20).std(ddof=0)\n",
    "    data['volume_z'] = (data['volume'] - data['volume_mean'])/data['volume_std']\n",
    "    \n",
    "    # 위꼬리가 긴 양봉이 자주발생한다.\n",
    "    data['positive_candle'] = (data['close'] > data['open']).astype(int) # 양봉\n",
    "    data['high/close'] = (data['positive_candle']==1)*(data['high']/data['close'] > 1.1).astype(int) # 양봉이면서 고가가 종가보다 높게 위치\n",
    "    data['num_high/close'] =  data['high/close'].rolling(20).sum()\n",
    "    data['long_candle'] = (data['positive_candle']==1)*(data['high']==data['close'])*\\\n",
    "    (data['low']==data['open'])*(data['close']/data['open'] > 1.2).astype(int) # 장대 양봉을 데이터로 표현\n",
    "    data['num_long'] =  data['long_candle'].rolling(60).sum() # 지난 20 일 동안 장대양봉의 갯 수\n",
    "    \n",
    "    \n",
    "     # 거래량이 종좀 터지며 매집의 흔적을 보인다   \n",
    "    data['volume_mean'] = data['volume'].rolling(60).mean()\n",
    "    data['volume_std'] = data['volume'].rolling(60).std()\n",
    "    data['volume_z'] = (data['volume'] - data['volume_mean'])/data['volume_std'] # 거래량은 종목과 주가에 따라 다르기 떄문에 표준화한 값이 필요함\n",
    "    data['z>1.96'] = (data['close'] > data['open'])*(data['volume_z'] > 1.65).astype(int) # 양봉이면서 거래량이 90%신뢰구간을 벗어난 날\n",
    "    data['num_z>1.96'] =  data['z>1.96'].rolling(60).sum()  # 양봉이면서 거래량이 90% 신뢰구간을 벗어난 날을 카운트\n",
    "    \n",
    "    # 주가지수보다 더 좋은 수익율을 보여준다\n",
    "    data['num_win_market'] = data['win_market'].rolling(60).sum() # 주가지수 수익율이 1 보다 작을 때, 종목 수익율이 1 보다 큰 날 수\n",
    "    data['pct_win_market'] = (data['return']/data['kosdaq_return']).rolling(60).mean() # 주가지수 수익율 대비 종목 수익율\n",
    "    \n",
    "    \n",
    "    # 동종업체 수익률보다 더 좋은 수익율을 보여준다.           \n",
    "    data['return_mean'] = data['return'].rolling(60).mean() # 종목별 최근 60 일 수익율의 평균\n",
    "    data['sector'] = sector    \n",
    "    data['name'] = name\n",
    "     \n",
    "    data = data[(data['price_std']!=0) & (data['volume_std']!=0)]    \n",
    "\n",
    "    feature_all = pd.concat([data, feature_all], axis=0)\n",
    "\n",
    "feature_all['sector_return'] = feature_all.groupby(['sector', feature_all.index])['return'].transform(lambda x: x.mean()) # 섹터의 평균 수익율 계산\n",
    "feature_all['return over sector'] = (feature_all['return']/feature_all['sector_return']) # 섹터 평균 수익률 대비 종목 수익률 계산\n",
    "feature_all.dropna(inplace=True) # Missing 값 있는 행 모두 제거\n",
    "\n",
    "# 최종 피처만으로 구성\n",
    "feature_list = ['price_z','volume_z','num_win_market','pct_win_market','return over sector']\n",
    "X = feature_all.loc[today_dt][['code','name','return'] + feature_list].set_index('code')\n"
   ]
  },
  {
   "cell_type": "code",
   "execution_count": null,
   "id": "6b2325c5-1f87-4fbd-955b-c0bcd4aa8727",
   "metadata": {},
   "outputs": [],
   "source": [
    "import pickle\n",
    "with open(\"gam.pkl\", \"rb\") as file:\n",
    "    gam = pickle.load(file)     \n",
    "    \n",
    "yhat = gam.predict_proba(X.values)\n",
    "yhat = pd.DataFrame({'score': yhat}, index=X.index, ).merge(kosdaq_list[['code','name']].set_index('code'), left_index=True, right_index=True, how='left').sort_values(by='score', ascending=False)\n"
   ]
  },
  {
   "cell_type": "code",
   "execution_count": null,
   "id": "3af4b557-09de-4c53-9bcd-1f9973d0ede6",
   "metadata": {},
   "outputs": [],
   "source": [
    "yhat[:10]"
   ]
  },
  {
   "cell_type": "code",
   "execution_count": null,
   "id": "518f703a-8e11-4c8e-a197-e4bb72126788",
   "metadata": {},
   "outputs": [],
   "source": []
  }
 ],
 "metadata": {
  "kernelspec": {
   "display_name": "Python 3 (ipykernel)",
   "language": "python",
   "name": "python3"
  },
  "language_info": {
   "codemirror_mode": {
    "name": "ipython",
    "version": 3
   },
   "file_extension": ".py",
   "mimetype": "text/x-python",
   "name": "python",
   "nbconvert_exporter": "python",
   "pygments_lexer": "ipython3",
   "version": "3.9.7"
  }
 },
 "nbformat": 4,
 "nbformat_minor": 5
}
