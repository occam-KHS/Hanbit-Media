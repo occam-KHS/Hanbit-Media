{
 "cells": [
  {
   "cell_type": "markdown",
   "id": "f4ae94e4-30f8-49cd-b3d6-090fd3d51eab",
   "metadata": {},
   "source": [
    "### **데이터분석 활용사례**      \n",
    "\n",
    "데이터 분석이 현장에서 어떻게 활용되고 있는 지 산업별로 케이스를 만들어 보았습니다."
   ]
  },
  {
   "cell_type": "code",
   "execution_count": null,
   "id": "d1ad67ac-0c97-454e-a85c-1a38e20fce99",
   "metadata": {},
   "outputs": [],
   "source": []
  }
 ],
 "metadata": {
  "kernelspec": {
   "display_name": "Python 3 (ipykernel)",
   "language": "python",
   "name": "python3"
  },
  "language_info": {
   "codemirror_mode": {
    "name": "ipython",
    "version": 3
   },
   "file_extension": ".py",
   "mimetype": "text/x-python",
   "name": "python",
   "nbconvert_exporter": "python",
   "pygments_lexer": "ipython3",
   "version": "3.9.7"
  }
 },
 "nbformat": 4,
 "nbformat_minor": 5
}
