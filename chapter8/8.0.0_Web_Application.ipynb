{
 "cells": [
  {
   "cell_type": "markdown",
   "id": "9a8d1e60-13f4-47c5-8de2-abb4912ff0dd",
   "metadata": {},
   "source": [
    "### **WebApp을 만들어보자**"
   ]
  },
  {
   "cell_type": "markdown",
   "id": "b77015b6-5393-4e71-a288-71302080b1d3",
   "metadata": {},
   "source": [
    "Streamlit 는 머신러닝 결과를 손쉽게 배포할 수 있는 패키지입니다. 일반적으로 웹앱은 HTML, CSS, JavaScript 등의 기술이 있어야 원하는 웹앱을 만들 수 있습니다. 파이썬만으로 웹앱을 만들 수 있게 해 주는 패키지가 Streamlit 입니다."
   ]
  },
  {
   "cell_type": "code",
   "execution_count": null,
   "id": "4ed44177-9917-4969-b12d-5d51a60bd6c4",
   "metadata": {},
   "outputs": [],
   "source": []
  }
 ],
 "metadata": {
  "kernelspec": {
   "display_name": "Python 3 (ipykernel)",
   "language": "python",
   "name": "python3"
  },
  "language_info": {
   "codemirror_mode": {
    "name": "ipython",
    "version": 3
   },
   "file_extension": ".py",
   "mimetype": "text/x-python",
   "name": "python",
   "nbconvert_exporter": "python",
   "pygments_lexer": "ipython3",
   "version": "3.9.7"
  }
 },
 "nbformat": 4,
 "nbformat_minor": 5
}
