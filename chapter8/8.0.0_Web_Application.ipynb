{
 "cells": [
  {
   "cell_type": "markdown",
   "id": "9a8d1e60-13f4-47c5-8de2-abb4912ff0dd",
   "metadata": {},
   "source": [
    "### **WebApp을 만들어보자**"
   ]
  },
  {
   "cell_type": "markdown",
   "id": "b77015b6-5393-4e71-a288-71302080b1d3",
   "metadata": {},
   "source": [
    "Streamlit 는 머신러닝 결과를 손쉽게 배포할 수 있는 패키지입니다. 일반적으로 웹앱은 HTML, CSS, JavaScript 등의 기술이 있어야 원하는 웹앱을 만들 수 있습니다. 파이썬만으로 웹앱을 만들 수 있게 해 주는 패키지가 Streamlit 입니다. Steamlit 을 써보고 \"바로 이거야\" 하고 감탄했던 기억이 납니다. 이런 상황을 생각해 보세요. 오늘 갑자기 지방출장이 생겼습니다. 회사 노트북으로는 파이썬을 돌리지 못하니 어떤 종목을 추천받아 매수를 해야 할지 궁금합니다. 만약 웹앱을 만들어 인터넷으로 추천 종목 결과물을 받아보면 얼마나 좋을까요? streamlit 을 이용하면 아주 쉽게 할 수 있습니다. 더 나아가 매수/매도 결과 등도 웹앱을 이용해 조회 할 수 있습니다.    "
   ]
  },
  {
   "cell_type": "markdown",
   "id": "01b4c701-a062-4efb-8638-46b79fcee7f8",
   "metadata": {},
   "source": [
    "이 책에서 구현하고자 하는 웹앱은 장 마감 후, 당일 날짜를 'YYYY-MM-DD' 형식으로 입력하면 내일 매수 추천 종목이 뜨는 WebApp입니다. 먼저 만들어 놓은 종목 추천 함수를 테스트 해 봅니다. 추천함수에 필요한 데이터는 종목별로 Loop 를 돌리기 위한 'kosdaq_list.pkl' 파일과 모델 데이터 \"gam.pkl\" 입니다. 이 두 파일이 같은 폴더에 있어야 됩니다. "
   ]
  },
  {
   "cell_type": "code",
   "execution_count": 10,
   "id": "708894ab-f5ba-446e-8746-99c925c76223",
   "metadata": {},
   "outputs": [],
   "source": [
    "import FinanceDataReader as fdr\n",
    "import pandas as pd\n",
    "import numpy as np\n",
    "import datetime\n",
    "import pickle\n",
    "import time"
   ]
  },
  {
   "cell_type": "code",
   "execution_count": 8,
   "id": "28b9de10-d150-4874-b449-7533fbe77d08",
   "metadata": {},
   "outputs": [],
   "source": [
    "def select_stocks(today_dt):\n",
    "    \n",
    "    today = datetime.datetime.strptime(today_dt, '%Y-%m-%d')\n",
    "    start_dt = today - datetime.timedelta(days=100) # 100 일전 데이터 부터 시작 - 피쳐 엔지니어링은 최소 60 개의 일봉이 필요함\n",
    "    print(start_dt, today_dt)\n",
    "\n",
    "    kosdaq_list = pd.read_pickle('kosdaq_list.pkl')\n",
    "\n",
    "    price_data = pd.DataFrame()\n",
    "\n",
    "    for code, name in zip(kosdaq_list['code'], kosdaq_list['name']):  # 코스닥 모든 종목에서 대하여 반복\n",
    "        daily_price = fdr.DataReader(code, start = start_dt, end = today_dt) # 종목, 일봉, 데이터 갯수\n",
    "\n",
    "        daily_price['code'] = code\n",
    "        daily_price['name'] = name\n",
    "        price_data = pd.concat([price_data, daily_price], axis=0)   \n",
    "\n",
    "    price_data.index.name = 'date'\n",
    "    price_data.columns= price_data.columns.str.lower() # 컬럼 이름 소문자로 변경\n",
    "\n",
    "    kosdaq_index = fdr.DataReader('KQ11', start = start_dt, end = today_dt) # 데이터 호출\n",
    "    kosdaq_index.columns = ['close','open','high','low','volume','change'] # 컬럼명 변경\n",
    "    kosdaq_index.index.name='date' # 인덱스 이름 생성\n",
    "    kosdaq_index.sort_index(inplace=True) # 인덱스(날짜) 로 정렬 \n",
    "    kosdaq_index['kosdaq_return'] = kosdaq_index['close']/kosdaq_index['close'].shift(1) # 수익율 : 전 날 종가대비 당일 종가\n",
    "\n",
    "    merged = price_data.merge(kosdaq_index['kosdaq_return'], left_index=True, right_index=True, how='left')\n",
    "\n",
    "    return_all = pd.DataFrame()\n",
    "\n",
    "    for code in kosdaq_list['code']:  \n",
    "\n",
    "        stock_return = merged[merged['code']==code].sort_index()\n",
    "        stock_return['return'] = stock_return['close']/stock_return['close'].shift(1) # 종목별 전일 종가 대비 당일 종가 수익율\n",
    "        c1 = (stock_return['kosdaq_return'] < 1) # 수익율 1 보다 작음. 당일 종가가 전일 종가보다 낮음 (코스닥 지표)\n",
    "        c2 = (stock_return['return'] > 1) # 수익율 1 보다 큼. 당일 종가가 전일 종가보다 큼 (개별 종목)\n",
    "        stock_return['win_market'] = np.where((c1&c2), 1, 0) # C1 과 C2 조건을 동시에 만족하면 1, 아니면 0\n",
    "        return_all = pd.concat([return_all, stock_return], axis=0) \n",
    "\n",
    "    return_all.dropna(inplace=True)    \n",
    "\n",
    "    model_inputs = pd.DataFrame()\n",
    "\n",
    "    for code, name, sector in zip(kosdaq_list['code'], kosdaq_list['name'], kosdaq_list['sector']):\n",
    "\n",
    "        data = return_all[return_all['code']==code].sort_index().copy()    \n",
    "\n",
    "        # 가격변동성이 크고, 거래량이 몰린 종목이 주가가 상승한다\n",
    "        data['price_mean'] = data['close'].rolling(20).mean()\n",
    "        data['price_std'] = data['close'].rolling(20).std(ddof=0)\n",
    "        data['price_z'] = (data['close'] - data['price_mean'])/data['price_std']    \n",
    "        data['volume_mean'] = data['volume'].rolling(20).mean()\n",
    "        data['volume_std'] = data['volume'].rolling(20).std(ddof=0)\n",
    "        data['volume_z'] = (data['volume'] - data['volume_mean'])/data['volume_std']\n",
    "\n",
    "        # 위꼬리가 긴 양봉이 자주발생한다.\n",
    "        data['positive_candle'] = (data['close'] > data['open']).astype(int) # 양봉\n",
    "        data['high/close'] = (data['positive_candle']==1)*(data['high']/data['close'] > 1.1).astype(int) # 양봉이면서 고가가 종가보다 높게 위치\n",
    "        data['num_high/close'] =  data['high/close'].rolling(20).sum()\n",
    "        data['long_candle'] = (data['positive_candle']==1)*(data['high']==data['close'])*\\\n",
    "        (data['low']==data['open'])*(data['close']/data['open'] > 1.2).astype(int) # 장대 양봉을 데이터로 표현\n",
    "        data['num_long'] =  data['long_candle'].rolling(60).sum() # 지난 20 일 동안 장대양봉의 갯 수\n",
    "\n",
    "\n",
    "         # 거래량이 종좀 터지며 매집의 흔적을 보인다   \n",
    "        data['volume_mean'] = data['volume'].rolling(60).mean()\n",
    "        data['volume_std'] = data['volume'].rolling(60).std()\n",
    "        data['volume_z'] = (data['volume'] - data['volume_mean'])/data['volume_std'] # 거래량은 종목과 주가에 따라 다르기 떄문에 표준화한 값이 필요함\n",
    "        data['z>1.96'] = (data['close'] > data['open'])*(data['volume_z'] > 1.65).astype(int) # 양봉이면서 거래량이 90%신뢰구간을 벗어난 날\n",
    "        data['num_z>1.96'] =  data['z>1.96'].rolling(60).sum()  # 양봉이면서 거래량이 90% 신뢰구간을 벗어난 날을 카운트\n",
    "\n",
    "        # 주가지수보다 더 좋은 수익율을 보여준다\n",
    "        data['num_win_market'] = data['win_market'].rolling(60).sum() # 주가지수 수익율이 1 보다 작을 때, 종목 수익율이 1 보다 큰 날 수\n",
    "        data['pct_win_market'] = (data['return']/data['kosdaq_return']).rolling(60).mean() # 주가지수 수익율 대비 종목 수익율\n",
    "\n",
    "\n",
    "        # 동종업체 수익률보다 더 좋은 수익율을 보여준다.           \n",
    "        data['return_mean'] = data['return'].rolling(60).mean() # 종목별 최근 60 일 수익율의 평균\n",
    "        data['sector'] = sector    \n",
    "        data['name'] = name\n",
    "\n",
    "        data = data[(data['price_std']!=0) & (data['volume_std']!=0)]    \n",
    "\n",
    "        model_inputs = pd.concat([data, model_inputs], axis=0)\n",
    "\n",
    "    model_inputs['sector_return'] = model_inputs.groupby(['sector', model_inputs.index])['return'].transform(lambda x: x.mean()) # 섹터의 평균 수익율 계산\n",
    "    model_inputs['return over sector'] = (model_inputs['return']/model_inputs['sector_return']) # 섹터 평균 수익률 대비 종목 수익률 계산\n",
    "    model_inputs.dropna(inplace=True) # Missing 값 있는 행 모두 제거\n",
    "\n",
    "\n",
    "    feature_list = ['price_z','volume_z','num_high/close','num_win_market','pct_win_market','return over sector']\n",
    "\n",
    "    X = model_inputs.loc[today_dt][['code','name','return','kosdaq_return','close'] + feature_list].set_index('code') \n",
    "\n",
    "    with open(\"gam.pkl\", \"rb\") as file:\n",
    "        gam = pickle.load(file)     \n",
    "\n",
    "    yhat = gam.predict_proba(X[feature_list])\n",
    "    X['yhat'] = yhat\n",
    "\n",
    "    tops = X[X['yhat'] >= 0.3].sort_values(by='yhat', ascending=False) # 스코어 0.3 이상 종목만 \n",
    "    print(len(tops))    \n",
    "     \n",
    "    select_tops = tops[(tops['return'] > 1.03) & (tops['price_z'] < 0)][['name','return','price_z','yhat','return', 'kosdaq_return','close']]  # 기본 필터링 조건   \n",
    "      \n",
    "    if len(select_tops) > 1: # 최소한 2개 종목 - 추천 리스크 분산        \n",
    "        return select_tops    \n",
    "    \n",
    "    else:\n",
    "        return None"
   ]
  },
  {
   "cell_type": "markdown",
   "id": "f8db5808-4b77-49ee-a7de-e2f52c238f71",
   "metadata": {},
   "source": [
    "2022년 4월 1일을 테스트 한 결과 함수가 잘 작동하는 것을 확인할 수 있습니다."
   ]
  },
  {
   "cell_type": "code",
   "execution_count": 9,
   "id": "ed27d08d-921b-4bbf-953a-6747d17b9421",
   "metadata": {},
   "outputs": [
    {
     "name": "stdout",
     "output_type": "stream",
     "text": [
      "2021-12-22 00:00:00 2022-04-01\n",
      "204\n"
     ]
    },
    {
     "data": {
      "text/html": [
       "<style type=\"text/css\">\n",
       "</style>\n",
       "<table id=\"T_3a2fd_\" style=\"font-size: 12px\">\n",
       "  <thead>\n",
       "    <tr>\n",
       "      <th class=\"blank level0\" >&nbsp;</th>\n",
       "      <th class=\"col_heading level0 col0\" >name</th>\n",
       "      <th class=\"col_heading level0 col1\" >return</th>\n",
       "      <th class=\"col_heading level0 col2\" >price_z</th>\n",
       "      <th class=\"col_heading level0 col3\" >yhat</th>\n",
       "      <th class=\"col_heading level0 col4\" >return</th>\n",
       "      <th class=\"col_heading level0 col5\" >kosdaq_return</th>\n",
       "      <th class=\"col_heading level0 col6\" >close</th>\n",
       "    </tr>\n",
       "    <tr>\n",
       "      <th class=\"index_name level0\" >code</th>\n",
       "      <th class=\"blank col0\" >&nbsp;</th>\n",
       "      <th class=\"blank col1\" >&nbsp;</th>\n",
       "      <th class=\"blank col2\" >&nbsp;</th>\n",
       "      <th class=\"blank col3\" >&nbsp;</th>\n",
       "      <th class=\"blank col4\" >&nbsp;</th>\n",
       "      <th class=\"blank col5\" >&nbsp;</th>\n",
       "      <th class=\"blank col6\" >&nbsp;</th>\n",
       "    </tr>\n",
       "  </thead>\n",
       "  <tbody>\n",
       "    <tr>\n",
       "      <th id=\"T_3a2fd_level0_row0\" class=\"row_heading level0 row0\" >056090</th>\n",
       "      <td id=\"T_3a2fd_row0_col0\" class=\"data row0 col0\" >에디슨INNO</td>\n",
       "      <td id=\"T_3a2fd_row0_col1\" class=\"data row0 col1\" >1.080</td>\n",
       "      <td id=\"T_3a2fd_row0_col2\" class=\"data row0 col2\" >-1.621</td>\n",
       "      <td id=\"T_3a2fd_row0_col3\" class=\"data row0 col3\" >0.542</td>\n",
       "      <td id=\"T_3a2fd_row0_col4\" class=\"data row0 col4\" >1.080</td>\n",
       "      <td id=\"T_3a2fd_row0_col5\" class=\"data row0 col5\" >0.996</td>\n",
       "      <td id=\"T_3a2fd_row0_col6\" class=\"data row0 col6\" >12800</td>\n",
       "    </tr>\n",
       "    <tr>\n",
       "      <th id=\"T_3a2fd_level0_row1\" class=\"row_heading level0 row1\" >024740</th>\n",
       "      <td id=\"T_3a2fd_row1_col0\" class=\"data row1 col0\" >한일단조</td>\n",
       "      <td id=\"T_3a2fd_row1_col1\" class=\"data row1 col1\" >1.062</td>\n",
       "      <td id=\"T_3a2fd_row1_col2\" class=\"data row1 col2\" >-0.823</td>\n",
       "      <td id=\"T_3a2fd_row1_col3\" class=\"data row1 col3\" >0.357</td>\n",
       "      <td id=\"T_3a2fd_row1_col4\" class=\"data row1 col4\" >1.062</td>\n",
       "      <td id=\"T_3a2fd_row1_col5\" class=\"data row1 col5\" >0.996</td>\n",
       "      <td id=\"T_3a2fd_row1_col6\" class=\"data row1 col6\" >3185</td>\n",
       "    </tr>\n",
       "    <tr>\n",
       "      <th id=\"T_3a2fd_level0_row2\" class=\"row_heading level0 row2\" >083660</th>\n",
       "      <td id=\"T_3a2fd_row2_col0\" class=\"data row2 col0\" >CSA 코스믹</td>\n",
       "      <td id=\"T_3a2fd_row2_col1\" class=\"data row2 col1\" >1.035</td>\n",
       "      <td id=\"T_3a2fd_row2_col2\" class=\"data row2 col2\" >-0.094</td>\n",
       "      <td id=\"T_3a2fd_row2_col3\" class=\"data row2 col3\" >0.353</td>\n",
       "      <td id=\"T_3a2fd_row2_col4\" class=\"data row2 col4\" >1.035</td>\n",
       "      <td id=\"T_3a2fd_row2_col5\" class=\"data row2 col5\" >0.996</td>\n",
       "      <td id=\"T_3a2fd_row2_col6\" class=\"data row2 col6\" >2080</td>\n",
       "    </tr>\n",
       "    <tr>\n",
       "      <th id=\"T_3a2fd_level0_row3\" class=\"row_heading level0 row3\" >122690</th>\n",
       "      <td id=\"T_3a2fd_row3_col0\" class=\"data row3 col0\" >서진오토모티브</td>\n",
       "      <td id=\"T_3a2fd_row3_col1\" class=\"data row3 col1\" >1.058</td>\n",
       "      <td id=\"T_3a2fd_row3_col2\" class=\"data row3 col2\" >-0.114</td>\n",
       "      <td id=\"T_3a2fd_row3_col3\" class=\"data row3 col3\" >0.321</td>\n",
       "      <td id=\"T_3a2fd_row3_col4\" class=\"data row3 col4\" >1.058</td>\n",
       "      <td id=\"T_3a2fd_row3_col5\" class=\"data row3 col5\" >0.996</td>\n",
       "      <td id=\"T_3a2fd_row3_col6\" class=\"data row3 col6\" >3350</td>\n",
       "    </tr>\n",
       "    <tr>\n",
       "      <th id=\"T_3a2fd_level0_row4\" class=\"row_heading level0 row4\" >174880</th>\n",
       "      <td id=\"T_3a2fd_row4_col0\" class=\"data row4 col0\" >장원테크</td>\n",
       "      <td id=\"T_3a2fd_row4_col1\" class=\"data row4 col1\" >1.090</td>\n",
       "      <td id=\"T_3a2fd_row4_col2\" class=\"data row4 col2\" >-0.366</td>\n",
       "      <td id=\"T_3a2fd_row4_col3\" class=\"data row4 col3\" >0.302</td>\n",
       "      <td id=\"T_3a2fd_row4_col4\" class=\"data row4 col4\" >1.090</td>\n",
       "      <td id=\"T_3a2fd_row4_col5\" class=\"data row4 col5\" >0.996</td>\n",
       "      <td id=\"T_3a2fd_row4_col6\" class=\"data row4 col6\" >1990</td>\n",
       "    </tr>\n",
       "  </tbody>\n",
       "</table>\n"
      ],
      "text/plain": [
       "<pandas.io.formats.style.Styler at 0x11a422943d0>"
      ]
     },
     "execution_count": 9,
     "metadata": {},
     "output_type": "execute_result"
    }
   ],
   "source": [
    "select_tops = select_stocks('2022-04-01')\n",
    "select_tops.style.set_table_attributes('style=\"font-size: 12px\"').format(precision=3)"
   ]
  },
  {
   "cell_type": "markdown",
   "id": "12516f43-edf4-4332-82fb-b6de4416be45",
   "metadata": {},
   "source": [
    "<br></br>\n",
    "파이썬 파일 'stock_selection.py' 만들고 select_stocks() 함수를 복사해 넣습니다. 쥬피터랩을 쓰고 계신다면 File > New > Python File 에서 파일을 하나 만드시고 그 파일에 함수를 복사해서 넣으면 됩니다. stock_selection.py 파일을 동일한 폴더에 저장하신 후에, 아래와 같이 import 를 해 봅니다. 그리고 다시 함수를 호출해서 2022년 4월 1일 추천종목을 확인해 봅니다. 이상없이 함수가 호출되는 것을 확인했습니다."
   ]
  },
  {
   "cell_type": "code",
   "execution_count": 12,
   "id": "589a77d8-e94f-47b6-ae60-20e877b41d85",
   "metadata": {},
   "outputs": [
    {
     "name": "stdout",
     "output_type": "stream",
     "text": [
      "2021-12-22 00:00:00 2022-04-01\n",
      "204\n"
     ]
    },
    {
     "data": {
      "text/html": [
       "<div>\n",
       "<style scoped>\n",
       "    .dataframe tbody tr th:only-of-type {\n",
       "        vertical-align: middle;\n",
       "    }\n",
       "\n",
       "    .dataframe tbody tr th {\n",
       "        vertical-align: top;\n",
       "    }\n",
       "\n",
       "    .dataframe thead th {\n",
       "        text-align: right;\n",
       "    }\n",
       "</style>\n",
       "<table border=\"1\" class=\"dataframe\">\n",
       "  <thead>\n",
       "    <tr style=\"text-align: right;\">\n",
       "      <th></th>\n",
       "      <th>name</th>\n",
       "      <th>return</th>\n",
       "      <th>price_z</th>\n",
       "      <th>yhat</th>\n",
       "      <th>return</th>\n",
       "      <th>kosdaq_return</th>\n",
       "      <th>close</th>\n",
       "    </tr>\n",
       "    <tr>\n",
       "      <th>code</th>\n",
       "      <th></th>\n",
       "      <th></th>\n",
       "      <th></th>\n",
       "      <th></th>\n",
       "      <th></th>\n",
       "      <th></th>\n",
       "      <th></th>\n",
       "    </tr>\n",
       "  </thead>\n",
       "  <tbody>\n",
       "    <tr>\n",
       "      <th>056090</th>\n",
       "      <td>에디슨INNO</td>\n",
       "      <td>1.080169</td>\n",
       "      <td>-1.620633</td>\n",
       "      <td>0.542471</td>\n",
       "      <td>1.080169</td>\n",
       "      <td>0.995807</td>\n",
       "      <td>12800</td>\n",
       "    </tr>\n",
       "    <tr>\n",
       "      <th>024740</th>\n",
       "      <td>한일단조</td>\n",
       "      <td>1.061667</td>\n",
       "      <td>-0.823414</td>\n",
       "      <td>0.356940</td>\n",
       "      <td>1.061667</td>\n",
       "      <td>0.995807</td>\n",
       "      <td>3185</td>\n",
       "    </tr>\n",
       "    <tr>\n",
       "      <th>083660</th>\n",
       "      <td>CSA 코스믹</td>\n",
       "      <td>1.034826</td>\n",
       "      <td>-0.094418</td>\n",
       "      <td>0.353097</td>\n",
       "      <td>1.034826</td>\n",
       "      <td>0.995807</td>\n",
       "      <td>2080</td>\n",
       "    </tr>\n",
       "    <tr>\n",
       "      <th>122690</th>\n",
       "      <td>서진오토모티브</td>\n",
       "      <td>1.058452</td>\n",
       "      <td>-0.113779</td>\n",
       "      <td>0.320923</td>\n",
       "      <td>1.058452</td>\n",
       "      <td>0.995807</td>\n",
       "      <td>3350</td>\n",
       "    </tr>\n",
       "    <tr>\n",
       "      <th>174880</th>\n",
       "      <td>장원테크</td>\n",
       "      <td>1.090411</td>\n",
       "      <td>-0.366128</td>\n",
       "      <td>0.301724</td>\n",
       "      <td>1.090411</td>\n",
       "      <td>0.995807</td>\n",
       "      <td>1990</td>\n",
       "    </tr>\n",
       "  </tbody>\n",
       "</table>\n",
       "</div>"
      ],
      "text/plain": [
       "           name    return   price_z      yhat    return  kosdaq_return  close\n",
       "code                                                                         \n",
       "056090  에디슨INNO  1.080169 -1.620633  0.542471  1.080169       0.995807  12800\n",
       "024740     한일단조  1.061667 -0.823414  0.356940  1.061667       0.995807   3185\n",
       "083660  CSA 코스믹  1.034826 -0.094418  0.353097  1.034826       0.995807   2080\n",
       "122690  서진오토모티브  1.058452 -0.113779  0.320923  1.058452       0.995807   3350\n",
       "174880     장원테크  1.090411 -0.366128  0.301724  1.090411       0.995807   1990"
      ]
     },
     "execution_count": 12,
     "metadata": {},
     "output_type": "execute_result"
    }
   ],
   "source": [
    "import stock_selection\n",
    "stock_selection.select_stocks('2022-04-01')"
   ]
  },
  {
   "cell_type": "markdown",
   "id": "104a2fd2-fac6-499d-9f23-bff82a5c6609",
   "metadata": {},
   "source": [
    "<br></br>이제 main.py 파이썬 파일을 만들겠습니다. main.py 에서는 streamlit 을 import 할 것이므로 streamlit 을 설치합니다. (참고 링크 https://anaconda.org/conda-forge/streamlit)\n",
    "윈도우즈를 쓰고 계신다면 아나콘다 Prompt 을 열고 pip install streamlit 로 설치가 가능합니다. 아래 그림과 적으신 후 'Enter' 를 누르시면 자동으로 설치가 됩니다. 가상환경을 별도로 만들지 않고 (base) 에 설치하도록 하겠습니다. "
   ]
  },
  {
   "cell_type": "markdown",
   "id": "54ef3434-69ca-440a-aebb-49900d9df9c4",
   "metadata": {},
   "source": [
    "<img src=\"Install_Streamlit.PNG\" width=\"800\" height=\"150\"></img>"
   ]
  },
  {
   "cell_type": "markdown",
   "id": "7ad9045e-eb54-489f-bb04-552b568697fa",
   "metadata": {},
   "source": [
    "이제 Streamlit 이 Import 되는 지 확인해보겠습니다."
   ]
  },
  {
   "cell_type": "code",
   "execution_count": 16,
   "id": "7db79bd2-86c0-4477-b90d-e628ae4c3da3",
   "metadata": {},
   "outputs": [
    {
     "ename": "ImportError",
     "evalue": "DLL load failed while importing lib: 지정된 프로시저를 찾을 수 없습니다.",
     "output_type": "error",
     "traceback": [
      "\u001b[1;31m---------------------------------------------------------------------------\u001b[0m",
      "\u001b[1;31mImportError\u001b[0m                               Traceback (most recent call last)",
      "\u001b[1;32m~\\AppData\\Local\\Temp\\ipykernel_110828\\48860706.py\u001b[0m in \u001b[0;36m<module>\u001b[1;34m\u001b[0m\n\u001b[1;32m----> 1\u001b[1;33m \u001b[1;32mimport\u001b[0m \u001b[0mstreamlit\u001b[0m\u001b[1;33m\u001b[0m\u001b[1;33m\u001b[0m\u001b[0m\n\u001b[0m",
      "\u001b[1;32m~\\Anaconda3\\lib\\site-packages\\streamlit\\__init__.py\u001b[0m in \u001b[0;36m<module>\u001b[1;34m\u001b[0m\n\u001b[0;32m     68\u001b[0m \u001b[1;32mfrom\u001b[0m \u001b[0mstreamlit\u001b[0m \u001b[1;32mimport\u001b[0m \u001b[0msource_util\u001b[0m \u001b[1;32mas\u001b[0m \u001b[0m_source_util\u001b[0m\u001b[1;33m\u001b[0m\u001b[1;33m\u001b[0m\u001b[0m\n\u001b[0;32m     69\u001b[0m \u001b[1;32mfrom\u001b[0m \u001b[0mstreamlit\u001b[0m \u001b[1;32mimport\u001b[0m \u001b[0mstring_util\u001b[0m \u001b[1;32mas\u001b[0m \u001b[0m_string_util\u001b[0m\u001b[1;33m\u001b[0m\u001b[1;33m\u001b[0m\u001b[0m\n\u001b[1;32m---> 70\u001b[1;33m \u001b[1;32mfrom\u001b[0m \u001b[0mstreamlit\u001b[0m\u001b[1;33m.\u001b[0m\u001b[0mdelta_generator\u001b[0m \u001b[1;32mimport\u001b[0m \u001b[0mDeltaGenerator\u001b[0m \u001b[1;32mas\u001b[0m \u001b[0m_DeltaGenerator\u001b[0m\u001b[1;33m\u001b[0m\u001b[1;33m\u001b[0m\u001b[0m\n\u001b[0m\u001b[0;32m     71\u001b[0m from streamlit.scriptrunner import (\n\u001b[0;32m     72\u001b[0m     \u001b[0madd_script_run_ctx\u001b[0m \u001b[1;32mas\u001b[0m \u001b[0m_add_script_run_ctx\u001b[0m\u001b[1;33m,\u001b[0m\u001b[1;33m\u001b[0m\u001b[1;33m\u001b[0m\u001b[0m\n",
      "\u001b[1;32m~\\Anaconda3\\lib\\site-packages\\streamlit\\delta_generator.py\u001b[0m in \u001b[0;36m<module>\u001b[1;34m\u001b[0m\n\u001b[0;32m     34\u001b[0m \u001b[1;33m\u001b[0m\u001b[0m\n\u001b[0;32m     35\u001b[0m \u001b[1;32mimport\u001b[0m \u001b[0mstreamlit\u001b[0m \u001b[1;32mas\u001b[0m \u001b[0mst\u001b[0m\u001b[1;33m\u001b[0m\u001b[1;33m\u001b[0m\u001b[0m\n\u001b[1;32m---> 36\u001b[1;33m \u001b[1;32mfrom\u001b[0m \u001b[0mstreamlit\u001b[0m \u001b[1;32mimport\u001b[0m \u001b[0mcursor\u001b[0m\u001b[1;33m,\u001b[0m \u001b[0mcaching\u001b[0m\u001b[1;33m\u001b[0m\u001b[1;33m\u001b[0m\u001b[0m\n\u001b[0m\u001b[0;32m     37\u001b[0m \u001b[1;32mfrom\u001b[0m \u001b[0mstreamlit\u001b[0m \u001b[1;32mimport\u001b[0m \u001b[0mlegacy_caching\u001b[0m\u001b[1;33m\u001b[0m\u001b[1;33m\u001b[0m\u001b[0m\n\u001b[0;32m     38\u001b[0m \u001b[1;32mfrom\u001b[0m \u001b[0mstreamlit\u001b[0m \u001b[1;32mimport\u001b[0m \u001b[0mtype_util\u001b[0m\u001b[1;33m\u001b[0m\u001b[1;33m\u001b[0m\u001b[0m\n",
      "\u001b[1;32m~\\Anaconda3\\lib\\site-packages\\streamlit\\cursor.py\u001b[0m in \u001b[0;36m<module>\u001b[1;34m\u001b[0m\n\u001b[0;32m     16\u001b[0m \u001b[1;33m\u001b[0m\u001b[0m\n\u001b[0;32m     17\u001b[0m \u001b[1;32mfrom\u001b[0m \u001b[0mstreamlit\u001b[0m \u001b[1;32mimport\u001b[0m \u001b[0mutil\u001b[0m\u001b[1;33m\u001b[0m\u001b[1;33m\u001b[0m\u001b[0m\n\u001b[1;32m---> 18\u001b[1;33m \u001b[1;32mfrom\u001b[0m \u001b[0mstreamlit\u001b[0m\u001b[1;33m.\u001b[0m\u001b[0mscriptrunner\u001b[0m \u001b[1;32mimport\u001b[0m \u001b[0mget_script_run_ctx\u001b[0m\u001b[1;33m\u001b[0m\u001b[1;33m\u001b[0m\u001b[0m\n\u001b[0m\u001b[0;32m     19\u001b[0m \u001b[1;33m\u001b[0m\u001b[0m\n\u001b[0;32m     20\u001b[0m \u001b[1;33m\u001b[0m\u001b[0m\n",
      "\u001b[1;32m~\\Anaconda3\\lib\\site-packages\\streamlit\\scriptrunner\\__init__.py\u001b[0m in \u001b[0;36m<module>\u001b[1;34m\u001b[0m\n\u001b[0;32m     14\u001b[0m \u001b[1;33m\u001b[0m\u001b[0m\n\u001b[0;32m     15\u001b[0m \u001b[1;31m# Explicitly export public symobls\u001b[0m\u001b[1;33m\u001b[0m\u001b[1;33m\u001b[0m\u001b[0m\n\u001b[1;32m---> 16\u001b[1;33m from .script_runner import (\n\u001b[0m\u001b[0;32m     17\u001b[0m     \u001b[0mScriptRunner\u001b[0m \u001b[1;32mas\u001b[0m \u001b[0mScriptRunner\u001b[0m\u001b[1;33m,\u001b[0m\u001b[1;33m\u001b[0m\u001b[1;33m\u001b[0m\u001b[0m\n\u001b[0;32m     18\u001b[0m     \u001b[0mScriptRunnerEvent\u001b[0m \u001b[1;32mas\u001b[0m \u001b[0mScriptRunnerEvent\u001b[0m\u001b[1;33m,\u001b[0m\u001b[1;33m\u001b[0m\u001b[1;33m\u001b[0m\u001b[0m\n",
      "\u001b[1;32m~\\Anaconda3\\lib\\site-packages\\streamlit\\scriptrunner\\script_runner.py\u001b[0m in \u001b[0;36m<module>\u001b[1;34m\u001b[0m\n\u001b[0;32m     33\u001b[0m \u001b[1;32mfrom\u001b[0m \u001b[0mstreamlit\u001b[0m\u001b[1;33m.\u001b[0m\u001b[0mproto\u001b[0m\u001b[1;33m.\u001b[0m\u001b[0mForwardMsg_pb2\u001b[0m \u001b[1;32mimport\u001b[0m \u001b[0mForwardMsg\u001b[0m\u001b[1;33m\u001b[0m\u001b[1;33m\u001b[0m\u001b[0m\n\u001b[0;32m     34\u001b[0m \u001b[1;32mfrom\u001b[0m \u001b[0mstreamlit\u001b[0m\u001b[1;33m.\u001b[0m\u001b[0msession_data\u001b[0m \u001b[1;32mimport\u001b[0m \u001b[0mSessionData\u001b[0m\u001b[1;33m\u001b[0m\u001b[1;33m\u001b[0m\u001b[0m\n\u001b[1;32m---> 35\u001b[1;33m from streamlit.state import (\n\u001b[0m\u001b[0;32m     36\u001b[0m     \u001b[0mSessionState\u001b[0m\u001b[1;33m,\u001b[0m\u001b[1;33m\u001b[0m\u001b[1;33m\u001b[0m\u001b[0m\n\u001b[0;32m     37\u001b[0m     \u001b[0mSCRIPT_RUN_WITHOUT_ERRORS_KEY\u001b[0m\u001b[1;33m,\u001b[0m\u001b[1;33m\u001b[0m\u001b[1;33m\u001b[0m\u001b[0m\n",
      "\u001b[1;32m~\\Anaconda3\\lib\\site-packages\\streamlit\\state\\__init__.py\u001b[0m in \u001b[0;36m<module>\u001b[1;34m\u001b[0m\n\u001b[0;32m     25\u001b[0m )\n\u001b[0;32m     26\u001b[0m \u001b[1;33m\u001b[0m\u001b[0m\n\u001b[1;32m---> 27\u001b[1;33m from .session_state_proxy import (\n\u001b[0m\u001b[0;32m     28\u001b[0m     \u001b[0mSessionStateProxy\u001b[0m \u001b[1;32mas\u001b[0m \u001b[0mSessionStateProxy\u001b[0m\u001b[1;33m,\u001b[0m\u001b[1;33m\u001b[0m\u001b[1;33m\u001b[0m\u001b[0m\n\u001b[0;32m     29\u001b[0m     \u001b[0mget_session_state\u001b[0m \u001b[1;32mas\u001b[0m \u001b[0mget_session_state\u001b[0m\u001b[1;33m,\u001b[0m\u001b[1;33m\u001b[0m\u001b[1;33m\u001b[0m\u001b[0m\n",
      "\u001b[1;32m~\\Anaconda3\\lib\\site-packages\\streamlit\\state\\session_state_proxy.py\u001b[0m in \u001b[0;36m<module>\u001b[1;34m\u001b[0m\n\u001b[0;32m     22\u001b[0m \u001b[1;32mimport\u001b[0m \u001b[0mstreamlit\u001b[0m \u001b[1;32mas\u001b[0m \u001b[0mst\u001b[0m\u001b[1;33m\u001b[0m\u001b[1;33m\u001b[0m\u001b[0m\n\u001b[0;32m     23\u001b[0m \u001b[1;32mfrom\u001b[0m \u001b[0mstreamlit\u001b[0m \u001b[1;32mimport\u001b[0m \u001b[0mlogger\u001b[0m \u001b[1;32mas\u001b[0m \u001b[0m_logger\u001b[0m\u001b[1;33m\u001b[0m\u001b[1;33m\u001b[0m\u001b[0m\n\u001b[1;32m---> 24\u001b[1;33m \u001b[1;32mfrom\u001b[0m \u001b[0mstreamlit\u001b[0m\u001b[1;33m.\u001b[0m\u001b[0mtype_util\u001b[0m \u001b[1;32mimport\u001b[0m \u001b[0mKey\u001b[0m\u001b[1;33m\u001b[0m\u001b[1;33m\u001b[0m\u001b[0m\n\u001b[0m\u001b[0;32m     25\u001b[0m \u001b[1;32mfrom\u001b[0m \u001b[1;33m.\u001b[0m\u001b[0msafe_session_state\u001b[0m \u001b[1;32mimport\u001b[0m \u001b[0mSafeSessionState\u001b[0m\u001b[1;33m\u001b[0m\u001b[1;33m\u001b[0m\u001b[0m\n\u001b[0;32m     26\u001b[0m \u001b[1;32mfrom\u001b[0m \u001b[1;33m.\u001b[0m\u001b[0msession_state\u001b[0m \u001b[1;32mimport\u001b[0m \u001b[0mSessionState\u001b[0m\u001b[1;33m,\u001b[0m \u001b[0mrequire_valid_user_key\u001b[0m\u001b[1;33m\u001b[0m\u001b[1;33m\u001b[0m\u001b[0m\n",
      "\u001b[1;32m~\\Anaconda3\\lib\\site-packages\\streamlit\\type_util.py\u001b[0m in \u001b[0;36m<module>\u001b[1;34m\u001b[0m\n\u001b[0;32m     31\u001b[0m \u001b[1;32mfrom\u001b[0m \u001b[0mpandas\u001b[0m \u001b[1;32mimport\u001b[0m \u001b[0mDataFrame\u001b[0m\u001b[1;33m,\u001b[0m \u001b[0mSeries\u001b[0m\u001b[1;33m,\u001b[0m \u001b[0mIndex\u001b[0m\u001b[1;33m\u001b[0m\u001b[1;33m\u001b[0m\u001b[0m\n\u001b[0;32m     32\u001b[0m \u001b[1;32mimport\u001b[0m \u001b[0mnumpy\u001b[0m \u001b[1;32mas\u001b[0m \u001b[0mnp\u001b[0m\u001b[1;33m\u001b[0m\u001b[1;33m\u001b[0m\u001b[0m\n\u001b[1;32m---> 33\u001b[1;33m \u001b[1;32mimport\u001b[0m \u001b[0mpyarrow\u001b[0m \u001b[1;32mas\u001b[0m \u001b[0mpa\u001b[0m\u001b[1;33m\u001b[0m\u001b[1;33m\u001b[0m\u001b[0m\n\u001b[0m\u001b[0;32m     34\u001b[0m \u001b[1;33m\u001b[0m\u001b[0m\n\u001b[0;32m     35\u001b[0m \u001b[1;32mfrom\u001b[0m \u001b[0mstreamlit\u001b[0m \u001b[1;32mimport\u001b[0m \u001b[0merrors\u001b[0m\u001b[1;33m\u001b[0m\u001b[1;33m\u001b[0m\u001b[0m\n",
      "\u001b[1;32m~\\Anaconda3\\lib\\site-packages\\pyarrow\\__init__.py\u001b[0m in \u001b[0;36m<module>\u001b[1;34m\u001b[0m\n\u001b[0;32m     61\u001b[0m \u001b[0m_gc_enabled\u001b[0m \u001b[1;33m=\u001b[0m \u001b[0m_gc\u001b[0m\u001b[1;33m.\u001b[0m\u001b[0misenabled\u001b[0m\u001b[1;33m(\u001b[0m\u001b[1;33m)\u001b[0m\u001b[1;33m\u001b[0m\u001b[1;33m\u001b[0m\u001b[0m\n\u001b[0;32m     62\u001b[0m \u001b[0m_gc\u001b[0m\u001b[1;33m.\u001b[0m\u001b[0mdisable\u001b[0m\u001b[1;33m(\u001b[0m\u001b[1;33m)\u001b[0m\u001b[1;33m\u001b[0m\u001b[1;33m\u001b[0m\u001b[0m\n\u001b[1;32m---> 63\u001b[1;33m \u001b[1;32mimport\u001b[0m \u001b[0mpyarrow\u001b[0m\u001b[1;33m.\u001b[0m\u001b[0mlib\u001b[0m \u001b[1;32mas\u001b[0m \u001b[0m_lib\u001b[0m\u001b[1;33m\u001b[0m\u001b[1;33m\u001b[0m\u001b[0m\n\u001b[0m\u001b[0;32m     64\u001b[0m \u001b[1;32mif\u001b[0m \u001b[0m_gc_enabled\u001b[0m\u001b[1;33m:\u001b[0m\u001b[1;33m\u001b[0m\u001b[1;33m\u001b[0m\u001b[0m\n\u001b[0;32m     65\u001b[0m     \u001b[0m_gc\u001b[0m\u001b[1;33m.\u001b[0m\u001b[0menable\u001b[0m\u001b[1;33m(\u001b[0m\u001b[1;33m)\u001b[0m\u001b[1;33m\u001b[0m\u001b[1;33m\u001b[0m\u001b[0m\n",
      "\u001b[1;31mImportError\u001b[0m: DLL load failed while importing lib: 지정된 프로시저를 찾을 수 없습니다."
     ]
    }
   ],
   "source": [
    "import streamlit"
   ]
  },
  {
   "cell_type": "code",
   "execution_count": null,
   "id": "1dc0260f-c9cd-4321-b35b-e22e2dd7a7cd",
   "metadata": {},
   "outputs": [],
   "source": []
  }
 ],
 "metadata": {
  "kernelspec": {
   "display_name": "Python 3 (ipykernel)",
   "language": "python",
   "name": "python3"
  },
  "language_info": {
   "codemirror_mode": {
    "name": "ipython",
    "version": 3
   },
   "file_extension": ".py",
   "mimetype": "text/x-python",
   "name": "python",
   "nbconvert_exporter": "python",
   "pygments_lexer": "ipython3",
   "version": "3.9.7"
  }
 },
 "nbformat": 4,
 "nbformat_minor": 5
}
