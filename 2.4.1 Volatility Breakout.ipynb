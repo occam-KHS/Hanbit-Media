{
 "cells": [
  {
   "cell_type": "markdown",
   "id": "68b5c6f7-2d9d-4b0c-9241-16b9bc9e61cc",
   "metadata": {},
   "source": [
    "### Volatility Breakout Strategy\n",
    "변동성 돌파전략은 래리 윌리암스가 개발한 전략인데요. 이 전략으로 윌리암스는 주식투자 대회에서 많은 상을 받았다고 하네요. 심지어 딸에게 이 전략을 전수해 주었다고 합니다. 전략은 아주 간단합니다. '전날 고가와 저가의 차'에 상수 K (0.4 ~ 0.6) 를 곱하여 변동성 값 V 를 만듭니다. 그리고 당일 장이 시작하면 시가에 이 변동성 값 V 를 더한 값을 매수 가격으로 설정합니다. 장 중에 매수 가격을 돌파하면 무조건 매수합니다. 그리고 다음날 장 시작할 때 전량 매도하는 전략입니다. 다음 링크는 변동성 돌파전략에 관련하여 참고할만한 블로그 입니다. https://blog.naver.com/niolpa/222436997945 다시 삼성전자 일봉을 가져옵니다."
   ]
  },
  {
   "cell_type": "code",
   "execution_count": 1,
   "id": "ec14c584-bad9-4b0a-8560-747aaab13a90",
   "metadata": {},
   "outputs": [
    {
     "data": {
      "text/html": [
       "<div>\n",
       "<style scoped>\n",
       "    .dataframe tbody tr th:only-of-type {\n",
       "        vertical-align: middle;\n",
       "    }\n",
       "\n",
       "    .dataframe tbody tr th {\n",
       "        vertical-align: top;\n",
       "    }\n",
       "\n",
       "    .dataframe thead th {\n",
       "        text-align: right;\n",
       "    }\n",
       "</style>\n",
       "<table border=\"1\" class=\"dataframe\">\n",
       "  <thead>\n",
       "    <tr style=\"text-align: right;\">\n",
       "      <th></th>\n",
       "      <th>Open</th>\n",
       "      <th>High</th>\n",
       "      <th>Low</th>\n",
       "      <th>Close</th>\n",
       "      <th>Volume</th>\n",
       "      <th>Change</th>\n",
       "    </tr>\n",
       "    <tr>\n",
       "      <th>Date</th>\n",
       "      <th></th>\n",
       "      <th></th>\n",
       "      <th></th>\n",
       "      <th></th>\n",
       "      <th></th>\n",
       "      <th></th>\n",
       "    </tr>\n",
       "  </thead>\n",
       "  <tbody>\n",
       "    <tr>\n",
       "      <th>2021-01-04</th>\n",
       "      <td>81000</td>\n",
       "      <td>84400</td>\n",
       "      <td>80200</td>\n",
       "      <td>83000</td>\n",
       "      <td>38655276</td>\n",
       "      <td>0.024691</td>\n",
       "    </tr>\n",
       "    <tr>\n",
       "      <th>2021-01-05</th>\n",
       "      <td>81600</td>\n",
       "      <td>83900</td>\n",
       "      <td>81600</td>\n",
       "      <td>83900</td>\n",
       "      <td>35335669</td>\n",
       "      <td>0.010843</td>\n",
       "    </tr>\n",
       "    <tr>\n",
       "      <th>2021-01-06</th>\n",
       "      <td>83300</td>\n",
       "      <td>84500</td>\n",
       "      <td>82100</td>\n",
       "      <td>82200</td>\n",
       "      <td>42089013</td>\n",
       "      <td>-0.020262</td>\n",
       "    </tr>\n",
       "    <tr>\n",
       "      <th>2021-01-07</th>\n",
       "      <td>82800</td>\n",
       "      <td>84200</td>\n",
       "      <td>82700</td>\n",
       "      <td>82900</td>\n",
       "      <td>32644642</td>\n",
       "      <td>0.008516</td>\n",
       "    </tr>\n",
       "    <tr>\n",
       "      <th>2021-01-08</th>\n",
       "      <td>83300</td>\n",
       "      <td>90000</td>\n",
       "      <td>83000</td>\n",
       "      <td>88800</td>\n",
       "      <td>59013307</td>\n",
       "      <td>0.071170</td>\n",
       "    </tr>\n",
       "  </tbody>\n",
       "</table>\n",
       "</div>"
      ],
      "text/plain": [
       "             Open   High    Low  Close    Volume    Change\n",
       "Date                                                      \n",
       "2021-01-04  81000  84400  80200  83000  38655276  0.024691\n",
       "2021-01-05  81600  83900  81600  83900  35335669  0.010843\n",
       "2021-01-06  83300  84500  82100  82200  42089013 -0.020262\n",
       "2021-01-07  82800  84200  82700  82900  32644642  0.008516\n",
       "2021-01-08  83300  90000  83000  88800  59013307  0.071170"
      ]
     },
     "execution_count": 1,
     "metadata": {},
     "output_type": "execute_result"
    }
   ],
   "source": [
    "import FinanceDataReader as fdr \n",
    "\n",
    "code = '005930' # 삼성전자\n",
    "stock_data = fdr.DataReader(code, start='2021-01-03', end='2021-12-31') \n",
    "stock_data.head()"
   ]
  },
  {
   "cell_type": "markdown",
   "id": "a327620c-bc7e-4f95-9fed-e3044803bb78",
   "metadata": {},
   "source": [
    "<br> K = 0.5 라고 하고 전날의 고가와 저가를 이용하여 변동성 값 V 를 구합니다. 그리고 시가를 더하여 매수가격을 만듭니다. shift(1) 은 바로 위에 있는 row 를 참조하게 됩니다. 따라서 전날 데이터가 됩니다."
   ]
  },
  {
   "cell_type": "code",
   "execution_count": 2,
   "id": "bf7da348-693c-4eed-ab9c-d5660910e5d8",
   "metadata": {},
   "outputs": [],
   "source": [
    "K = 0.5\n",
    "stock_data['v'] = (stock_data['High'].shift(1) - stock_data['Low'].shift(1))*K  # 전날 고가에서 저가를 뺀 값에 K 를 곱함\n",
    "stock_data['buy_price'] = stock_data['Open'] + stock_data['v']  # 변동성 값 V 에 당일 시가를 더하여 매수가를 만듦"
   ]
  },
  {
   "cell_type": "markdown",
   "id": "826258f4-35d3-434d-97e8-f444c369ac27",
   "metadata": {},
   "source": [
    "<br> 만약 당일의 고가가 buy_price 보다 높다면 매수할 기회가 있었을 것입니다. 매수 여부를 'buy' 라는 컬럼에 저장합니다. 그리고 수익율 'return' 을 생성합니다. 수익율은 다음날 시가를 매수가격로 나눈 값이 됩니다."
   ]
  },
  {
   "cell_type": "code",
   "execution_count": 3,
   "id": "5500fe32-0d68-4b64-860a-33fa04ea04e5",
   "metadata": {},
   "outputs": [],
   "source": [
    "stock_data['buy'] = ( stock_data['High']  > stock_data['buy_price']).astype(int) # 매수 기회 있으면 1 아니면 0\n",
    "stock_data['return'] = stock_data['Open'].shift(-1)/stock_data['buy_price'] # 다음 날 시가를 이용하여 수익율 계산"
   ]
  },
  {
   "cell_type": "markdown",
   "id": "fbdcf323-a3bf-482c-a6f4-acf34d257951",
   "metadata": {},
   "source": [
    "<br> 이제 'buy' = 1 인 날의 평균 수익율을 구해봅니다. 0.2% 기대수익율(일) 을 얻을 수 있는 전략입니다. 여기서 기대 수익율이란 매수를 한 날 중 랜덤한 어떤 날의 기대 수익율입니다."
   ]
  },
  {
   "cell_type": "code",
   "execution_count": 4,
   "id": "6a90e825-70af-4217-a3b1-5dab979a32cf",
   "metadata": {},
   "outputs": [
    {
     "data": {
      "text/plain": [
       "buy\n",
       "0    0.985780\n",
       "1    1.002018\n",
       "Name: return, dtype: float64"
      ]
     },
     "execution_count": 4,
     "metadata": {},
     "output_type": "execute_result"
    }
   ],
   "source": [
    "stock_data.groupby('buy')['return'].mean()"
   ]
  },
  {
   "cell_type": "markdown",
   "id": "e31d3ae5-2d76-423b-b848-b5a8aad6c62c",
   "metadata": {},
   "source": [
    "<br> 다른 종목도 테스트할 수 있게 이 전략을 함수로 만들어 봅니다. 리턴은 평균수익율(일) 과 최대 손실율(일)로 하겠습니다."
   ]
  },
  {
   "cell_type": "code",
   "execution_count": 5,
   "id": "5c3f14a9-cf9a-416e-8c13-6274ac192fbe",
   "metadata": {},
   "outputs": [
    {
     "name": "stdout",
     "output_type": "stream",
     "text": [
      "1.002018419449279 0.9574350469872858\n",
      " 평균 수익율: 0.20% 최대 손실: 4.26%\n"
     ]
    }
   ],
   "source": [
    "# 위 내용을 모아서 함수로 만듦\n",
    "def avg_r(code, K):\n",
    "    stock = fdr.DataReader(code,  start='2021-01-03', end='2021-12-31')    \n",
    "    stock['v'] = (stock['High'].shift(1) - stock['Low'].shift(1))*K\n",
    "    stock['buy_price'] = stock['Open'] + stock['v']\n",
    "    stock['buy'] = ( stock['High']  > stock['buy_price']).astype(int)\n",
    "    stock['return'] = stock['Open'].shift(-1)/stock['buy_price']\n",
    "    return stock[stock['buy']==1]['return'].mean(), stock[stock['buy']==1]['return'].min()\n",
    "\n",
    "a, b = avg_r('005930', 0.5)\n",
    "print(a, b)\n",
    "\n",
    "# 참고로 아래와 같이 f-string 이용하여 출력을 이쁘게 할 수 있습니다.\n",
    "print(f' 평균 수익율: {(a-1):5.2%} 최대 손실: {(1-b):5.2%}')"
   ]
  },
  {
   "cell_type": "markdown",
   "id": "e646ac07-1285-412c-a765-d7d5badfe684",
   "metadata": {},
   "source": [
    "\n",
    "<br> 다른 종목의 결과값도 함 보겠습니다. 네이버(035420)와 현대차(005380)를 함 볼까요? 둘 다 삼성전자보다는 좋아보입니다. 네이버가 현대차보다 수익율도 높고, 리스크도 낮습니다."
   ]
  },
  {
   "cell_type": "code",
   "execution_count": 6,
   "id": "0b61886f-c5fb-4962-8115-7996ee0f9c7e",
   "metadata": {},
   "outputs": [
    {
     "name": "stdout",
     "output_type": "stream",
     "text": [
      "네이버 평균 수익율: 0.53% 최대 손실: 2.53%\n",
      "현대차 평균 수익율: 0.40% 최대 손실: 3.30%\n"
     ]
    }
   ],
   "source": [
    "a, b = avg_r('035420', 0.5)\n",
    "print(f'네이버 평균 수익율: {(a-1):5.2%} 최대 손실: {(1-b):5.2%}')\n",
    "\n",
    "a, b = avg_r('005380', 0.5)\n",
    "print(f'현대차 평균 수익율: {(a-1):5.2%} 최대 손실: {(1-b):5.2%}')"
   ]
  },
  {
   "cell_type": "markdown",
   "id": "6e4345c6-034c-479a-97e0-a5ed40ed7ea5",
   "metadata": {},
   "source": [
    "<br> 이번에는 누적 수익율도 궁금합니다. 즉, 2021년 1월 3일 100 원을 투자하면 2021년 12월 31일 얼마가 되어 있을까요? 함수의 리턴 값에 누적 수익율을 추가합니다. "
   ]
  },
  {
   "cell_type": "code",
   "execution_count": 9,
   "id": "8bb016e1-ba52-4612-87ff-127d5b97daf9",
   "metadata": {},
   "outputs": [
    {
     "name": "stdout",
     "output_type": "stream",
     "text": [
      "1.002018419449279 0.9574350469872858 1.1843972916348044\n",
      " 평균 수익율: 0.20% 최대 손실: 4.26% 누적수익율:18.44%\n"
     ]
    }
   ],
   "source": [
    "def avg_r(code, K):\n",
    "    stock = fdr.DataReader(code,  start='2021-01-03', end='2021-12-31')    \n",
    "    stock['v'] = (stock['High'].shift(1) - stock['Low'].shift(1))*K\n",
    "    stock['buy_price'] = stock['Open'] + stock['v']\n",
    "    stock['buy'] = ( stock['High']  > stock['buy_price']).astype(int)\n",
    "    stock['return'] = stock['Open'].shift(-1)/stock['buy_price']\n",
    "    return stock[stock['buy']==1]['return'].mean(), stock[stock['buy']==1]['return'].min(), stock[stock['buy']==1]['return'].prod()\n",
    "\n",
    "a, b, c = avg_r('005930', 0.5)\n",
    "print(a, b, c)\n",
    "\n",
    "# 참고로 아래와 같이 f-string 이용하여 출력을 이쁘게 할 수 있습니다.\n",
    "print(f' 평균 수익율: {(a-1):5.2%} 최대 손실: {(1-b):5.2%} 누적수익율:{(c-1):5.2%}')"
   ]
  },
  {
   "cell_type": "markdown",
   "id": "65f688b6-5bd8-4e19-853d-2df2f2bc3579",
   "metadata": {},
   "source": [
    "<br> 네이버의 누적 수익율은 58.2%, 현대차의 누적 수익율은 38.7% 입니다. 즉 2021년 초에 각 각 100 원을 투자했다면 연말에 네이버는 158원, 현대차는 138 원이 되어 있습니다. 실제 장에서는 원하는 가격에 매수 매도를 할 수 없으므로 실전 수익율은 아니겠지만 예상 수익율을 추정해 볼 수 있습니다. "
   ]
  },
  {
   "cell_type": "code",
   "execution_count": 11,
   "id": "ec104fd8-0967-419f-bff4-7e9cd76d0e0d",
   "metadata": {},
   "outputs": [
    {
     "name": "stdout",
     "output_type": "stream",
     "text": [
      "네이버 평균 수익율: 0.53% 최대 손실: 2.53% 누적수익율:58.23%\n",
      "현대차 평균 수익율: 0.40% 최대 손실: 3.30% 누적수익율:38.66%\n"
     ]
    }
   ],
   "source": [
    "a, b, c = avg_r('035420', 0.5)\n",
    "print(f'네이버 평균 수익율: {(a-1):5.2%} 최대 손실: {(1-b):5.2%} 누적수익율:{(c-1):5.2%}')\n",
    "\n",
    "a, b, c = avg_r('005380', 0.5)\n",
    "print(f'현대차 평균 수익율: {(a-1):5.2%} 최대 손실: {(1-b):5.2%} 누적수익율:{(c-1):5.2%}')"
   ]
  },
  {
   "cell_type": "code",
   "execution_count": null,
   "id": "fdd2a337-fe9c-40e9-aab8-5d6299ba4e8b",
   "metadata": {},
   "outputs": [],
   "source": []
  }
 ],
 "metadata": {
  "kernelspec": {
   "display_name": "Python 3 (ipykernel)",
   "language": "python",
   "name": "python3"
  },
  "language_info": {
   "codemirror_mode": {
    "name": "ipython",
    "version": 3
   },
   "file_extension": ".py",
   "mimetype": "text/x-python",
   "name": "python",
   "nbconvert_exporter": "python",
   "pygments_lexer": "ipython3",
   "version": "3.9.7"
  }
 },
 "nbformat": 4,
 "nbformat_minor": 5
}
