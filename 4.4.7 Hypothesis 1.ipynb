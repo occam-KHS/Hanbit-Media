{
 "cells": [
  {
   "cell_type": "code",
   "execution_count": 1,
   "metadata": {},
   "outputs": [],
   "source": [
    "import FinanceDataReader as fdr\n",
    "%matplotlib inline\n",
    "import matplotlib.pyplot as plt\n",
    "import pandas as pd\n",
    "import numpy as np\n",
    "pd.options.display.float_format = '{:,.3f}'.format"
   ]
  },
  {
   "cell_type": "markdown",
   "metadata": {},
   "source": [
    "### 가설 - 가격 변동성이 크고 거래량이 몰린 종목이 주가가 상승한다.   \n",
    "\"가격 변동성이 크다\" 표현 할 수 있는 변수와 \"거래량이 몰린\" 을 표현하는 변수를 만들어 보겠습니다. 먼저 일봉데이터를 불러옵니다."
   ]
  },
  {
   "cell_type": "code",
   "execution_count": 5,
   "metadata": {},
   "outputs": [
    {
     "data": {
      "text/html": [
       "<div>\n",
       "<style scoped>\n",
       "    .dataframe tbody tr th:only-of-type {\n",
       "        vertical-align: middle;\n",
       "    }\n",
       "\n",
       "    .dataframe tbody tr th {\n",
       "        vertical-align: top;\n",
       "    }\n",
       "\n",
       "    .dataframe thead th {\n",
       "        text-align: right;\n",
       "    }\n",
       "</style>\n",
       "<table border=\"1\" class=\"dataframe\">\n",
       "  <thead>\n",
       "    <tr style=\"text-align: right;\">\n",
       "      <th></th>\n",
       "      <th>open</th>\n",
       "      <th>high</th>\n",
       "      <th>low</th>\n",
       "      <th>close</th>\n",
       "      <th>volume</th>\n",
       "      <th>change</th>\n",
       "      <th>code</th>\n",
       "      <th>name</th>\n",
       "      <th>kosdaq_return</th>\n",
       "      <th>return</th>\n",
       "      <th>win_market</th>\n",
       "      <th>close_r1</th>\n",
       "      <th>close_r2</th>\n",
       "      <th>close_r3</th>\n",
       "      <th>close_r4</th>\n",
       "      <th>close_r5</th>\n",
       "      <th>max_close</th>\n",
       "    </tr>\n",
       "    <tr>\n",
       "      <th>date</th>\n",
       "      <th></th>\n",
       "      <th></th>\n",
       "      <th></th>\n",
       "      <th></th>\n",
       "      <th></th>\n",
       "      <th></th>\n",
       "      <th></th>\n",
       "      <th></th>\n",
       "      <th></th>\n",
       "      <th></th>\n",
       "      <th></th>\n",
       "      <th></th>\n",
       "      <th></th>\n",
       "      <th></th>\n",
       "      <th></th>\n",
       "      <th></th>\n",
       "      <th></th>\n",
       "    </tr>\n",
       "  </thead>\n",
       "  <tbody>\n",
       "    <tr>\n",
       "      <th>2021-01-04</th>\n",
       "      <td>2185</td>\n",
       "      <td>2320</td>\n",
       "      <td>2135</td>\n",
       "      <td>2260</td>\n",
       "      <td>588133</td>\n",
       "      <td>0.044</td>\n",
       "      <td>060310</td>\n",
       "      <td>3S</td>\n",
       "      <td>NaN</td>\n",
       "      <td>NaN</td>\n",
       "      <td>0</td>\n",
       "      <td>0.996</td>\n",
       "      <td>1.013</td>\n",
       "      <td>1.013</td>\n",
       "      <td>0.993</td>\n",
       "      <td>0.962</td>\n",
       "      <td>1.013</td>\n",
       "    </tr>\n",
       "    <tr>\n",
       "      <th>2021-01-05</th>\n",
       "      <td>2270</td>\n",
       "      <td>2285</td>\n",
       "      <td>2200</td>\n",
       "      <td>2250</td>\n",
       "      <td>410263</td>\n",
       "      <td>-0.004</td>\n",
       "      <td>060310</td>\n",
       "      <td>3S</td>\n",
       "      <td>1.008</td>\n",
       "      <td>0.996</td>\n",
       "      <td>0</td>\n",
       "      <td>1.018</td>\n",
       "      <td>1.018</td>\n",
       "      <td>0.998</td>\n",
       "      <td>0.967</td>\n",
       "      <td>0.971</td>\n",
       "      <td>1.018</td>\n",
       "    </tr>\n",
       "    <tr>\n",
       "      <th>2021-01-06</th>\n",
       "      <td>2225</td>\n",
       "      <td>2310</td>\n",
       "      <td>2215</td>\n",
       "      <td>2290</td>\n",
       "      <td>570349</td>\n",
       "      <td>0.018</td>\n",
       "      <td>060310</td>\n",
       "      <td>3S</td>\n",
       "      <td>0.996</td>\n",
       "      <td>1.018</td>\n",
       "      <td>1</td>\n",
       "      <td>1.000</td>\n",
       "      <td>0.980</td>\n",
       "      <td>0.950</td>\n",
       "      <td>0.954</td>\n",
       "      <td>0.950</td>\n",
       "      <td>1.000</td>\n",
       "    </tr>\n",
       "    <tr>\n",
       "      <th>2021-01-07</th>\n",
       "      <td>2290</td>\n",
       "      <td>2340</td>\n",
       "      <td>2240</td>\n",
       "      <td>2290</td>\n",
       "      <td>519777</td>\n",
       "      <td>0.000</td>\n",
       "      <td>060310</td>\n",
       "      <td>3S</td>\n",
       "      <td>1.008</td>\n",
       "      <td>1.000</td>\n",
       "      <td>0</td>\n",
       "      <td>0.980</td>\n",
       "      <td>0.950</td>\n",
       "      <td>0.954</td>\n",
       "      <td>0.950</td>\n",
       "      <td>0.959</td>\n",
       "      <td>0.980</td>\n",
       "    </tr>\n",
       "    <tr>\n",
       "      <th>2021-01-08</th>\n",
       "      <td>2300</td>\n",
       "      <td>2315</td>\n",
       "      <td>2225</td>\n",
       "      <td>2245</td>\n",
       "      <td>462568</td>\n",
       "      <td>-0.020</td>\n",
       "      <td>060310</td>\n",
       "      <td>3S</td>\n",
       "      <td>0.999</td>\n",
       "      <td>0.980</td>\n",
       "      <td>0</td>\n",
       "      <td>0.969</td>\n",
       "      <td>0.973</td>\n",
       "      <td>0.969</td>\n",
       "      <td>0.978</td>\n",
       "      <td>0.973</td>\n",
       "      <td>0.978</td>\n",
       "    </tr>\n",
       "  </tbody>\n",
       "</table>\n",
       "</div>"
      ],
      "text/plain": [
       "            open  high   low  close  volume  change    code name  \\\n",
       "date                                                               \n",
       "2021-01-04  2185  2320  2135   2260  588133   0.044  060310   3S   \n",
       "2021-01-05  2270  2285  2200   2250  410263  -0.004  060310   3S   \n",
       "2021-01-06  2225  2310  2215   2290  570349   0.018  060310   3S   \n",
       "2021-01-07  2290  2340  2240   2290  519777   0.000  060310   3S   \n",
       "2021-01-08  2300  2315  2225   2245  462568  -0.020  060310   3S   \n",
       "\n",
       "            kosdaq_return  return  win_market  close_r1  close_r2  close_r3  \\\n",
       "date                                                                          \n",
       "2021-01-04            NaN     NaN           0     0.996     1.013     1.013   \n",
       "2021-01-05          1.008   0.996           0     1.018     1.018     0.998   \n",
       "2021-01-06          0.996   1.018           1     1.000     0.980     0.950   \n",
       "2021-01-07          1.008   1.000           0     0.980     0.950     0.954   \n",
       "2021-01-08          0.999   0.980           0     0.969     0.973     0.969   \n",
       "\n",
       "            close_r4  close_r5  max_close  \n",
       "date                                       \n",
       "2021-01-04     0.993     0.962      1.013  \n",
       "2021-01-05     0.967     0.971      1.018  \n",
       "2021-01-06     0.954     0.950      1.000  \n",
       "2021-01-07     0.950     0.959      0.980  \n",
       "2021-01-08     0.978     0.973      0.978  "
      ]
     },
     "execution_count": 5,
     "metadata": {},
     "output_type": "execute_result"
    }
   ],
   "source": [
    "mdl_data = pd.read_pickle('mdl_data.pkl')\n",
    "mdl_data.head()"
   ]
  },
  {
   "cell_type": "code",
   "execution_count": null,
   "metadata": {},
   "outputs": [],
   "source": [
    "첫 번째 종목 060310 에 대하여 가격 변동성 변수를 만들어 보겠습니다. "
   ]
  },
  {
   "cell_type": "code",
   "execution_count": 17,
   "metadata": {},
   "outputs": [
    {
     "data": {
      "text/plain": [
       "<AxesSubplot:xlabel='close'>"
      ]
     },
     "execution_count": 17,
     "metadata": {},
     "output_type": "execute_result"
    },
    {
     "data": {
      "image/png": "[encoded data removed]",
      "text/plain": [
       "<Figure size 432x288 with 1 Axes>"
      ]
     },
     "metadata": {
      "needs_background": "light"
     },
     "output_type": "display_data"
    }
   ],
   "source": [
    "price_mean = mdl_data[mdl_data['code']=='060310']['close'].rolling(60).mean()\n",
    "price_std = mdl_data[mdl_data['code']=='060310']['close'].rolling(60).std()\n",
    "price_z = (mdl_data[mdl_data['code']=='060310']['close'] - price_mean)/price_std\n",
    "\n",
    "ranks = pd.qcut(price_z, q=10)\n",
    "mdl_data[mdl_data['code']=='060310'].groupby(ranks)['max_close'].mean()"
   ]
  },
  {
   "cell_type": "code",
   "execution_count": 20,
   "metadata": {},
   "outputs": [],
   "source": [
    "kosdaq_list = pd.read_pickle('kosdaq_list.pkl')\n",
    "\n",
    "data_all = pd.DataFrame()\n",
    "\n",
    "for code in kosdaq_list['code']:\n",
    "    \n",
    "    # 종목별 처리\n",
    "    data = mdl_data[mdl_data['code']==code].sort_index().copy()\n",
    "    \n",
    "    mdl_data['price_mean'] = mdl_data['close'].rolling(60).mean()\n",
    "    mdl_data['price_std'] = mdl_data['close'].rolling(60).std()\n",
    "    mdl_data['price_z'] = (mdl_data['close'] - mdl_data['price_mean'])/mdl_data['price_std']\n",
    "\n",
    "        # 고가, 저가, 종가 수익율\n",
    "    for i in [1,2,3,4,5]:\n",
    "\n",
    "        data['high_r' + str(i)] = data['high'].shift(-1*i)/data['close']      \n",
    "        data['low_r' + str(i)] = data['low'].shift(-1*i)/data['close']   \n",
    "        data['close_r' + str(i)] = data['close'].shift(-1*i)/data['close']    \n",
    "        \n",
    "    data['max_close']  = data[['close_r1','close_r2','close_r3','close_r4','close_r5']].max(axis=1) \n",
    "    data.dropna(subset=['price_mean','close_r1','close_r2','close_r3','close_r4','close_r5'], inplace=True)    \n",
    " \n",
    "    data_all = pd.concat([data, data_all], axis=0)\n",
    "\n"
   ]
  },
  {
   "cell_type": "code",
   "execution_count": null,
   "metadata": {},
   "outputs": [],
   "source": []
  },
  {
   "cell_type": "markdown",
   "metadata": {},
   "source": [
    "- #### 가설 - 가격 변동성이 크고 거래량이 몰린 종목이 주가가 상승한다\n",
    "4 오분위 수 이상 좋은 수익율을 보여줍니다. 가설은 맞다고 판단됩니다. 하지만 'price_z' 변수나 'volume_z' 변수에 대하여 단조 증가나 감소의 형태를 보여주지는 않습니다. 선형모형으로 데이터를 적합할 경우 입력변수와 타겟변수와의 선형적인 상관관계를 가정으로 하고 있습니다. 따라서, 선형모형의 경우 단조 증가나 단조 감소형태의 모양을 가진 입력변수가 설명력이 좋은 변수입니다. 'price_z' 나 'volume_z' 변수를 선형모형에 활용하기 위해서는 왼쪽 3개의 막대와 오늘쪽 2개의 막대를 각각 묶으면 이 변수가 좀 더 수익율을 잘 설명할 수 있을 것 같습니다. 새롭게 만들어진 변수이름 앞에는 'x_' 를 prefix 로 하도록 하겠습니다."
   ]
  },
  {
   "cell_type": "code",
   "execution_count": 71,
   "metadata": {},
   "outputs": [
    {
     "name": "stdout",
     "output_type": "stream",
     "text": [
      "                 count  mean\n",
      "ranks                       \n",
      "(-1.333, 0.447]    105 0.419\n",
      "(0.447, 1.033]     104 0.413\n",
      "(1.033, 1.632]     104 0.433\n",
      "(1.632, 2.174]     104 0.529\n",
      "(2.174, 5.96]      104 0.510\n"
     ]
    },
    {
     "data": {
      "image/png": "[encoded data removed]",
      "text/plain": [
       "<Figure size 864x360 with 1 Axes>"
      ]
     },
     "metadata": {
      "needs_background": "light"
     },
     "output_type": "display_data"
    }
   ],
   "source": [
    "var = 'price_z'\n",
    "model_data = pd.read_pickle('model_data.pkl')\n",
    "model_data['target'] = np.where(model_data['return']>1, 1, 0)\n",
    "model_data['ranks'] = pd.qcut(model_data[var], q = 5)\n",
    "print(model_data.groupby(['ranks'])['target'].agg(['count', 'mean']))\n",
    "model_data.groupby('ranks')['target'].mean().plot(kind='bar', figsize=(12,5), ylim=(0.3, 0.6))\n",
    "plt.show()"
   ]
  },
  {
   "cell_type": "code",
   "execution_count": 72,
   "metadata": {},
   "outputs": [
    {
     "name": "stdout",
     "output_type": "stream",
     "text": [
      "x_price_z\n",
      "0   0.424\n",
      "1   0.514\n",
      "Name: target, dtype: float64\n"
     ]
    },
    {
     "data": {
      "image/png": "[encoded data removed]",
      "text/plain": [
       "<Figure size 864x360 with 1 Axes>"
      ]
     },
     "metadata": {
      "needs_background": "light"
     },
     "output_type": "display_data"
    }
   ],
   "source": [
    "def div(x):\n",
    "    if x <= 1.63:\n",
    "        return 0\n",
    "    else:\n",
    "        return 1\n",
    "\n",
    "var = 'x_price_z'\n",
    "model_data[var] = model_data['price_z'].apply(div)\n",
    "print(model_data.groupby(var)['target'].mean())\n",
    "model_data.groupby(var)['target'].mean().plot(kind='bar', figsize=(12,5), ylim=(0.3, 0.6))\n",
    "plt.title(var)\n",
    "plt.show()"
   ]
  },
  {
   "cell_type": "code",
   "execution_count": 73,
   "metadata": {},
   "outputs": [
    {
     "name": "stdout",
     "output_type": "stream",
     "text": [
      "                  count  mean\n",
      "ranks                        \n",
      "(-0.915, -0.433]    105 0.381\n",
      "(-0.433, -0.324]    104 0.433\n",
      "(-0.324, -0.15]     104 0.442\n",
      "(-0.15, 0.253]      104 0.558\n",
      "(0.253, 7.384]      104 0.490\n"
     ]
    },
    {
     "data": {
      "image/png": "[encoded data removed]",
      "text/plain": [
       "<Figure size 864x360 with 1 Axes>"
      ]
     },
     "metadata": {
      "needs_background": "light"
     },
     "output_type": "display_data"
    }
   ],
   "source": [
    "model_data['ranks'] = pd.qcut(model_data['volume_z'], q = 5)\n",
    "print(model_data.groupby('ranks')['target'].agg(['count', 'mean']))\n",
    "model_data.groupby('ranks')['target'].mean().plot(kind='bar', figsize=(12,5), ylim=(0.3, 0.6))\n",
    "plt.show()"
   ]
  },
  {
   "cell_type": "code",
   "execution_count": 74,
   "metadata": {},
   "outputs": [
    {
     "name": "stdout",
     "output_type": "stream",
     "text": [
      "x_volume_z\n",
      "0   0.416\n",
      "1   0.523\n",
      "Name: target, dtype: float64\n"
     ]
    },
    {
     "data": {
      "image/png": "[encoded data removed]",
      "text/plain": [
       "<Figure size 864x360 with 1 Axes>"
      ]
     },
     "metadata": {
      "needs_background": "light"
     },
     "output_type": "display_data"
    }
   ],
   "source": [
    "def div(x):\n",
    "    if x <= -0.176:\n",
    "        return 0\n",
    "    else:\n",
    "        return 1\n",
    "\n",
    "var = 'x_volume_z'\n",
    "model_data[var] = model_data['volume_z'].apply(div)\n",
    "print(model_data.groupby(var)['target'].mean())\n",
    "model_data.groupby(var)['target'].mean().plot(kind='bar', figsize=(12,5), ylim=(0.3, 0.6))\n",
    "plt.title(var)\n",
    "plt.show()"
   ]
  },
  {
   "cell_type": "code",
   "execution_count": null,
   "metadata": {},
   "outputs": [],
   "source": []
  }
 ],
 "metadata": {
  "kernelspec": {
   "display_name": "Python 3 (ipykernel)",
   "language": "python",
   "name": "python3"
  },
  "language_info": {
   "codemirror_mode": {
    "name": "ipython",
    "version": 3
   },
   "file_extension": ".py",
   "mimetype": "text/x-python",
   "name": "python",
   "nbconvert_exporter": "python",
   "pygments_lexer": "ipython3",
   "version": "3.9.7"
  }
 },
 "nbformat": 4,
 "nbformat_minor": 4
}
