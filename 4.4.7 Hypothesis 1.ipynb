{
 "cells": [
  {
   "cell_type": "code",
   "execution_count": 1,
   "metadata": {},
   "outputs": [],
   "source": [
    "import FinanceDataReader as fdr\n",
    "%matplotlib inline\n",
    "import matplotlib.pyplot as plt\n",
    "import pandas as pd\n",
    "import numpy as np\n",
    "pd.options.display.float_format = '{:,.3f}'.format"
   ]
  },
  {
   "cell_type": "markdown",
   "metadata": {},
   "source": [
    "### **가설 - 가격 변동성이 크고 거래량이 몰린 종목이 주가가 상승한다.**   \n",
    "\"가격 변동성이 크고 거래량이 몰린 종목이 주가가 상승한다\" 라는 가설을 증명하기 위해서는 \"가격 변동성이 크다\", \"거래량이 몰린다\" 등을 표현하는 변수가 필요합니다. 먼저 일봉데이터를 불러옵니다."
   ]
  },
  {
   "cell_type": "code",
   "execution_count": 10,
   "metadata": {},
   "outputs": [
    {
     "data": {
      "text/html": [
       "<div>\n",
       "<style scoped>\n",
       "    .dataframe tbody tr th:only-of-type {\n",
       "        vertical-align: middle;\n",
       "    }\n",
       "\n",
       "    .dataframe tbody tr th {\n",
       "        vertical-align: top;\n",
       "    }\n",
       "\n",
       "    .dataframe thead th {\n",
       "        text-align: right;\n",
       "    }\n",
       "</style>\n",
       "<table border=\"1\" class=\"dataframe\">\n",
       "  <thead>\n",
       "    <tr style=\"text-align: right;\">\n",
       "      <th></th>\n",
       "      <th>open</th>\n",
       "      <th>high</th>\n",
       "      <th>low</th>\n",
       "      <th>close</th>\n",
       "      <th>volume</th>\n",
       "      <th>change</th>\n",
       "      <th>code</th>\n",
       "      <th>name</th>\n",
       "      <th>kosdaq_return</th>\n",
       "      <th>return</th>\n",
       "      <th>win_market</th>\n",
       "      <th>close_r1</th>\n",
       "      <th>close_r2</th>\n",
       "      <th>close_r3</th>\n",
       "      <th>close_r4</th>\n",
       "      <th>close_r5</th>\n",
       "      <th>max_close</th>\n",
       "    </tr>\n",
       "    <tr>\n",
       "      <th>date</th>\n",
       "      <th></th>\n",
       "      <th></th>\n",
       "      <th></th>\n",
       "      <th></th>\n",
       "      <th></th>\n",
       "      <th></th>\n",
       "      <th></th>\n",
       "      <th></th>\n",
       "      <th></th>\n",
       "      <th></th>\n",
       "      <th></th>\n",
       "      <th></th>\n",
       "      <th></th>\n",
       "      <th></th>\n",
       "      <th></th>\n",
       "      <th></th>\n",
       "      <th></th>\n",
       "    </tr>\n",
       "  </thead>\n",
       "  <tbody>\n",
       "    <tr>\n",
       "      <th>2021-01-04</th>\n",
       "      <td>2185</td>\n",
       "      <td>2320</td>\n",
       "      <td>2135</td>\n",
       "      <td>2260</td>\n",
       "      <td>588133</td>\n",
       "      <td>0.044</td>\n",
       "      <td>060310</td>\n",
       "      <td>3S</td>\n",
       "      <td>NaN</td>\n",
       "      <td>NaN</td>\n",
       "      <td>0</td>\n",
       "      <td>0.996</td>\n",
       "      <td>1.013</td>\n",
       "      <td>1.013</td>\n",
       "      <td>0.993</td>\n",
       "      <td>0.962</td>\n",
       "      <td>1.013</td>\n",
       "    </tr>\n",
       "    <tr>\n",
       "      <th>2021-01-05</th>\n",
       "      <td>2270</td>\n",
       "      <td>2285</td>\n",
       "      <td>2200</td>\n",
       "      <td>2250</td>\n",
       "      <td>410263</td>\n",
       "      <td>-0.004</td>\n",
       "      <td>060310</td>\n",
       "      <td>3S</td>\n",
       "      <td>1.008</td>\n",
       "      <td>0.996</td>\n",
       "      <td>0</td>\n",
       "      <td>1.018</td>\n",
       "      <td>1.018</td>\n",
       "      <td>0.998</td>\n",
       "      <td>0.967</td>\n",
       "      <td>0.971</td>\n",
       "      <td>1.018</td>\n",
       "    </tr>\n",
       "    <tr>\n",
       "      <th>2021-01-06</th>\n",
       "      <td>2225</td>\n",
       "      <td>2310</td>\n",
       "      <td>2215</td>\n",
       "      <td>2290</td>\n",
       "      <td>570349</td>\n",
       "      <td>0.018</td>\n",
       "      <td>060310</td>\n",
       "      <td>3S</td>\n",
       "      <td>0.996</td>\n",
       "      <td>1.018</td>\n",
       "      <td>1</td>\n",
       "      <td>1.000</td>\n",
       "      <td>0.980</td>\n",
       "      <td>0.950</td>\n",
       "      <td>0.954</td>\n",
       "      <td>0.950</td>\n",
       "      <td>1.000</td>\n",
       "    </tr>\n",
       "    <tr>\n",
       "      <th>2021-01-07</th>\n",
       "      <td>2290</td>\n",
       "      <td>2340</td>\n",
       "      <td>2240</td>\n",
       "      <td>2290</td>\n",
       "      <td>519777</td>\n",
       "      <td>0.000</td>\n",
       "      <td>060310</td>\n",
       "      <td>3S</td>\n",
       "      <td>1.008</td>\n",
       "      <td>1.000</td>\n",
       "      <td>0</td>\n",
       "      <td>0.980</td>\n",
       "      <td>0.950</td>\n",
       "      <td>0.954</td>\n",
       "      <td>0.950</td>\n",
       "      <td>0.959</td>\n",
       "      <td>0.980</td>\n",
       "    </tr>\n",
       "    <tr>\n",
       "      <th>2021-01-08</th>\n",
       "      <td>2300</td>\n",
       "      <td>2315</td>\n",
       "      <td>2225</td>\n",
       "      <td>2245</td>\n",
       "      <td>462568</td>\n",
       "      <td>-0.020</td>\n",
       "      <td>060310</td>\n",
       "      <td>3S</td>\n",
       "      <td>0.999</td>\n",
       "      <td>0.980</td>\n",
       "      <td>0</td>\n",
       "      <td>0.969</td>\n",
       "      <td>0.973</td>\n",
       "      <td>0.969</td>\n",
       "      <td>0.978</td>\n",
       "      <td>0.973</td>\n",
       "      <td>0.978</td>\n",
       "    </tr>\n",
       "  </tbody>\n",
       "</table>\n",
       "</div>"
      ],
      "text/plain": [
       "            open  high   low  close  volume  change    code name  \\\n",
       "date                                                               \n",
       "2021-01-04  2185  2320  2135   2260  588133   0.044  060310   3S   \n",
       "2021-01-05  2270  2285  2200   2250  410263  -0.004  060310   3S   \n",
       "2021-01-06  2225  2310  2215   2290  570349   0.018  060310   3S   \n",
       "2021-01-07  2290  2340  2240   2290  519777   0.000  060310   3S   \n",
       "2021-01-08  2300  2315  2225   2245  462568  -0.020  060310   3S   \n",
       "\n",
       "            kosdaq_return  return  win_market  close_r1  close_r2  close_r3  \\\n",
       "date                                                                          \n",
       "2021-01-04            NaN     NaN           0     0.996     1.013     1.013   \n",
       "2021-01-05          1.008   0.996           0     1.018     1.018     0.998   \n",
       "2021-01-06          0.996   1.018           1     1.000     0.980     0.950   \n",
       "2021-01-07          1.008   1.000           0     0.980     0.950     0.954   \n",
       "2021-01-08          0.999   0.980           0     0.969     0.973     0.969   \n",
       "\n",
       "            close_r4  close_r5  max_close  \n",
       "date                                       \n",
       "2021-01-04     0.993     0.962      1.013  \n",
       "2021-01-05     0.967     0.971      1.018  \n",
       "2021-01-06     0.954     0.950      1.000  \n",
       "2021-01-07     0.950     0.959      0.980  \n",
       "2021-01-08     0.978     0.973      0.978  "
      ]
     },
     "execution_count": 10,
     "metadata": {},
     "output_type": "execute_result"
    }
   ],
   "source": [
    "mdl_data = pd.read_pickle('mdl_data.pkl')\n",
    "mdl_data.head()"
   ]
  },
  {
   "cell_type": "markdown",
   "metadata": {},
   "source": [
    "첫 번째 종목 060310 에 대하여 가격 변동성 변수를 만들어 보겠습니다. 전 5일 종가의 평균(price_mean), 전 5일 종가의 표준편차(price_std)를 먼저 구합니다. 그리고, 전 5일의 평균 및 표준편차 대비 당일 종가의 수준을 표준화해서 보여주는 값이 'price_z' 입니다. price_z 값이 -1.96 와 +1.96 안에 값이면 95% 신뢰구간 안에 들어갑니다. 즉 -1.96 보다 작거나, 1.96 보다 크면(100 번중 5번 미만으로 일어날 확율) 당일의 종가는 직전 5일의 움직임에 비해 아주 특별하다고 생각할 수 있습니다."
   ]
  },
  {
   "cell_type": "code",
   "execution_count": 3,
   "metadata": {},
   "outputs": [
    {
     "data": {
      "text/html": [
       "<div>\n",
       "<style scoped>\n",
       "    .dataframe tbody tr th:only-of-type {\n",
       "        vertical-align: middle;\n",
       "    }\n",
       "\n",
       "    .dataframe tbody tr th {\n",
       "        vertical-align: top;\n",
       "    }\n",
       "\n",
       "    .dataframe thead th {\n",
       "        text-align: right;\n",
       "    }\n",
       "</style>\n",
       "<table border=\"1\" class=\"dataframe\">\n",
       "  <thead>\n",
       "    <tr style=\"text-align: right;\">\n",
       "      <th></th>\n",
       "      <th>close</th>\n",
       "      <th>price_mean</th>\n",
       "      <th>price_std</th>\n",
       "      <th>price_z</th>\n",
       "    </tr>\n",
       "    <tr>\n",
       "      <th>date</th>\n",
       "      <th></th>\n",
       "      <th></th>\n",
       "      <th></th>\n",
       "      <th></th>\n",
       "    </tr>\n",
       "  </thead>\n",
       "  <tbody>\n",
       "    <tr>\n",
       "      <th>2021-01-04</th>\n",
       "      <td>2260</td>\n",
       "      <td>NaN</td>\n",
       "      <td>NaN</td>\n",
       "      <td>NaN</td>\n",
       "    </tr>\n",
       "    <tr>\n",
       "      <th>2021-01-05</th>\n",
       "      <td>2250</td>\n",
       "      <td>NaN</td>\n",
       "      <td>NaN</td>\n",
       "      <td>NaN</td>\n",
       "    </tr>\n",
       "    <tr>\n",
       "      <th>2021-01-06</th>\n",
       "      <td>2290</td>\n",
       "      <td>NaN</td>\n",
       "      <td>NaN</td>\n",
       "      <td>NaN</td>\n",
       "    </tr>\n",
       "    <tr>\n",
       "      <th>2021-01-07</th>\n",
       "      <td>2290</td>\n",
       "      <td>NaN</td>\n",
       "      <td>NaN</td>\n",
       "      <td>NaN</td>\n",
       "    </tr>\n",
       "    <tr>\n",
       "      <th>2021-01-08</th>\n",
       "      <td>2245</td>\n",
       "      <td>2,267.000</td>\n",
       "      <td>21.679</td>\n",
       "      <td>-1.015</td>\n",
       "    </tr>\n",
       "    <tr>\n",
       "      <th>2021-01-11</th>\n",
       "      <td>2175</td>\n",
       "      <td>2,250.000</td>\n",
       "      <td>47.037</td>\n",
       "      <td>-1.594</td>\n",
       "    </tr>\n",
       "    <tr>\n",
       "      <th>2021-01-12</th>\n",
       "      <td>2185</td>\n",
       "      <td>2,237.000</td>\n",
       "      <td>55.295</td>\n",
       "      <td>-0.940</td>\n",
       "    </tr>\n",
       "    <tr>\n",
       "      <th>2021-01-13</th>\n",
       "      <td>2175</td>\n",
       "      <td>2,214.000</td>\n",
       "      <td>51.527</td>\n",
       "      <td>-0.757</td>\n",
       "    </tr>\n",
       "    <tr>\n",
       "      <th>2021-01-14</th>\n",
       "      <td>2195</td>\n",
       "      <td>2,195.000</td>\n",
       "      <td>29.155</td>\n",
       "      <td>0.000</td>\n",
       "    </tr>\n",
       "    <tr>\n",
       "      <th>2021-01-15</th>\n",
       "      <td>2185</td>\n",
       "      <td>2,183.000</td>\n",
       "      <td>8.367</td>\n",
       "      <td>0.239</td>\n",
       "    </tr>\n",
       "  </tbody>\n",
       "</table>\n",
       "</div>"
      ],
      "text/plain": [
       "            close  price_mean  price_std  price_z\n",
       "date                                             \n",
       "2021-01-04   2260         NaN        NaN      NaN\n",
       "2021-01-05   2250         NaN        NaN      NaN\n",
       "2021-01-06   2290         NaN        NaN      NaN\n",
       "2021-01-07   2290         NaN        NaN      NaN\n",
       "2021-01-08   2245   2,267.000     21.679   -1.015\n",
       "2021-01-11   2175   2,250.000     47.037   -1.594\n",
       "2021-01-12   2185   2,237.000     55.295   -0.940\n",
       "2021-01-13   2175   2,214.000     51.527   -0.757\n",
       "2021-01-14   2195   2,195.000     29.155    0.000\n",
       "2021-01-15   2185   2,183.000      8.367    0.239"
      ]
     },
     "execution_count": 3,
     "metadata": {},
     "output_type": "execute_result"
    }
   ],
   "source": [
    "df = mdl_data[mdl_data['code']=='060310'].copy() \n",
    "df['price_mean'] = df['close'].rolling(5).mean() # 직전 5일 종가의 평균\n",
    "df['price_std'] = df['close'].rolling(5).std() # 직전 5일 종가의 표준편차\n",
    "df['price_z'] = (df['close'] - df['price_mean'])/df['price_std'] # 직전 5일 종가의 평균 및 표준편차 대비 오늘 종가의 위치\n",
    "df[['close','price_mean','price_std','price_z']].head(10)"
   ]
  },
  {
   "cell_type": "markdown",
   "metadata": {},
   "source": [
    "<br> 전 종목에 대하여 동일한 계산을 합니다. 그리고 그 결과를 data_all_7 에 담습니다."
   ]
  },
  {
   "cell_type": "code",
   "execution_count": 4,
   "metadata": {},
   "outputs": [],
   "source": [
    "kosdaq_list = pd.read_pickle('kosdaq_list.pkl')\n",
    "\n",
    "data_all_7 = pd.DataFrame()\n",
    "\n",
    "for code in kosdaq_list['code']:\n",
    "\n",
    "    data = mdl_data[mdl_data['code']==code].sort_index().copy()\n",
    "    data['price_mean'] = data['close'].rolling(20).mean()\n",
    "    data['price_std'] = data['close'].rolling(20).std(ddof=0)\n",
    "    data['price_z'] = (data['close'] - data['price_mean'])/data['price_std']    \n",
    "    \n",
    "    data['volume_mean'] = data['volume'].rolling(20).mean()\n",
    "    data['volume_std'] = data['volume'].rolling(20).std(ddof=0)\n",
    "    data['volume_z'] = (data['volume'] - data['volume_mean'])/data['volume_std']\n",
    "       \n",
    "    data['max_close']  = data[['close_r1','close_r2','close_r3','close_r4','close_r5']].max(axis=1) # 5 영업일 종가 수익율 중 최고 값\n",
    "    data.dropna(subset=['price_z','volume_z','close_r1','close_r2','close_r3','close_r4','close_r5'], inplace=True) # missing 이 있는 행은 제거  \n",
    "    \n",
    "    data = data[(data['price_std']!=0) & (data['volume_std']!=0)] # 0 으로 나누는 상황은 없도록 함.\n",
    "    \n",
    "    data_all_7 = pd.concat([data, data_all_7], axis=0)\n",
    "\n",
    "data_all_7.to_pickle('data_all_7.pkl')  "
   ]
  },
  {
   "cell_type": "code",
   "execution_count": 5,
   "metadata": {},
   "outputs": [
    {
     "name": "stdout",
     "output_type": "stream",
     "text": [
      "min   -4.359\n",
      "max    4.359\n",
      "Name: price_z, dtype: float64\n",
      "min   -2.568\n",
      "max    4.359\n",
      "Name: volume_z, dtype: float64\n"
     ]
    }
   ],
   "source": [
    "data_all_7 = pd.read_pickle('data_all_7.pkl')  \n",
    "print(data_all_7['price_z'].agg(['min','max']))\n",
    "print(data_all_7['volume_z'].agg(['min','max']))"
   ]
  },
  {
   "cell_type": "code",
   "execution_count": 7,
   "metadata": {},
   "outputs": [
    {
     "data": {
      "text/plain": [
       "<AxesSubplot:xlabel='price_z'>"
      ]
     },
     "execution_count": 7,
     "metadata": {},
     "output_type": "execute_result"
    },
    {
     "data": {
      "image/png": "[encoded data removed]",
      "text/plain": [
       "<Figure size 432x288 with 1 Axes>"
      ]
     },
     "metadata": {
      "needs_background": "light"
     },
     "output_type": "display_data"
    }
   ],
   "source": [
    "rank = pd.qcut(data_all_7['price_z'], q=10, labels=range(10))\n",
    "data_all_7.groupby(rank)['max_close'].mean().plot()"
   ]
  },
  {
   "cell_type": "code",
   "execution_count": 8,
   "metadata": {},
   "outputs": [
    {
     "data": {
      "text/plain": [
       "<AxesSubplot:xlabel='volume_z'>"
      ]
     },
     "execution_count": 8,
     "metadata": {},
     "output_type": "execute_result"
    },
    {
     "data": {
      "image/png": "[encoded data removed]",
      "text/plain": [
       "<Figure size 432x288 with 1 Axes>"
      ]
     },
     "metadata": {
      "needs_background": "light"
     },
     "output_type": "display_data"
    }
   ],
   "source": [
    "rank = pd.qcut(data_all_7['volume_z'], q=10, labels=range(10))\n",
    "data_all_7.groupby(rank)['max_close'].mean().plot()"
   ]
  },
  {
   "cell_type": "markdown",
   "metadata": {},
   "source": [
    "<br> 종가의 표준화 값 price_z 와 거래량의 표준화 값 volume_z 를 서로 직교하는 테이블로 구성하고 평균 수익율을 보니, 가격이 변동성이 높고, 거래량이 몰리는 종목은 평균 수익율이 더 높다는 것이 확인되었습니다."
   ]
  },
  {
   "cell_type": "code",
   "execution_count": 9,
   "metadata": {},
   "outputs": [
    {
     "data": {
      "text/html": [
       "<div>\n",
       "<style scoped>\n",
       "    .dataframe tbody tr th:only-of-type {\n",
       "        vertical-align: middle;\n",
       "    }\n",
       "\n",
       "    .dataframe tbody tr th {\n",
       "        vertical-align: top;\n",
       "    }\n",
       "\n",
       "    .dataframe thead th {\n",
       "        text-align: right;\n",
       "    }\n",
       "</style>\n",
       "<table border=\"1\" class=\"dataframe\">\n",
       "  <thead>\n",
       "    <tr style=\"text-align: right;\">\n",
       "      <th>volume_z</th>\n",
       "      <th>0</th>\n",
       "      <th>1</th>\n",
       "      <th>2</th>\n",
       "      <th>3</th>\n",
       "      <th>4</th>\n",
       "    </tr>\n",
       "    <tr>\n",
       "      <th>price_z</th>\n",
       "      <th></th>\n",
       "      <th></th>\n",
       "      <th></th>\n",
       "      <th></th>\n",
       "      <th></th>\n",
       "    </tr>\n",
       "  </thead>\n",
       "  <tbody>\n",
       "    <tr>\n",
       "      <th>0</th>\n",
       "      <td>1.032</td>\n",
       "      <td>1.034</td>\n",
       "      <td>1.035</td>\n",
       "      <td>1.038</td>\n",
       "      <td>1.040</td>\n",
       "    </tr>\n",
       "    <tr>\n",
       "      <th>1</th>\n",
       "      <td>1.028</td>\n",
       "      <td>1.029</td>\n",
       "      <td>1.031</td>\n",
       "      <td>1.034</td>\n",
       "      <td>1.035</td>\n",
       "    </tr>\n",
       "    <tr>\n",
       "      <th>2</th>\n",
       "      <td>1.026</td>\n",
       "      <td>1.030</td>\n",
       "      <td>1.030</td>\n",
       "      <td>1.029</td>\n",
       "      <td>1.032</td>\n",
       "    </tr>\n",
       "    <tr>\n",
       "      <th>3</th>\n",
       "      <td>1.028</td>\n",
       "      <td>1.035</td>\n",
       "      <td>1.035</td>\n",
       "      <td>1.036</td>\n",
       "      <td>1.037</td>\n",
       "    </tr>\n",
       "    <tr>\n",
       "      <th>4</th>\n",
       "      <td>1.029</td>\n",
       "      <td>1.038</td>\n",
       "      <td>1.038</td>\n",
       "      <td>1.039</td>\n",
       "      <td>1.044</td>\n",
       "    </tr>\n",
       "  </tbody>\n",
       "</table>\n",
       "</div>"
      ],
      "text/plain": [
       "volume_z     0     1     2     3     4\n",
       "price_z                               \n",
       "0        1.032 1.034 1.035 1.038 1.040\n",
       "1        1.028 1.029 1.031 1.034 1.035\n",
       "2        1.026 1.030 1.030 1.029 1.032\n",
       "3        1.028 1.035 1.035 1.036 1.037\n",
       "4        1.029 1.038 1.038 1.039 1.044"
      ]
     },
     "execution_count": 9,
     "metadata": {},
     "output_type": "execute_result"
    }
   ],
   "source": [
    "rank1  = pd.qcut(data_all_7['price_z'], q=5, labels=range(5))\n",
    "rank2  = pd.qcut(data_all_7['volume_z'], q=5, labels=range(5))\n",
    "\n",
    "data_all_7.groupby([rank1, rank2])['max_close'].mean().unstack()"
   ]
  },
  {
   "cell_type": "code",
   "execution_count": null,
   "metadata": {},
   "outputs": [],
   "source": []
  }
 ],
 "metadata": {
  "kernelspec": {
   "display_name": "Python 3 (ipykernel)",
   "language": "python",
   "name": "python3"
  },
  "language_info": {
   "codemirror_mode": {
    "name": "ipython",
    "version": 3
   },
   "file_extension": ".py",
   "mimetype": "text/x-python",
   "name": "python",
   "nbconvert_exporter": "python",
   "pygments_lexer": "ipython3",
   "version": "3.9.7"
  }
 },
 "nbformat": 4,
 "nbformat_minor": 4
}
