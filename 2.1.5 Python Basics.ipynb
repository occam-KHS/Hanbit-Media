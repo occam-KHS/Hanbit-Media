{
 "cells": [
  {
   "cell_type": "markdown",
   "id": "2f3d0e46-fb0a-4c5d-bfc3-f28c9f2fcb0a",
   "metadata": {},
   "source": [
    "### Functions\n",
    "파이썬의 함수는 def 로 시작하고 결과값을 return 으로 반환합니다. 결과값의 반환은 여러 개도 가능합니다. 단, 함수 호출 후 결과 값을 받을 때, 함수가 return 하는 결과 값 갯수가 동일해야 합니다. 함수도 아래 예제를 보시면 쉽게 이해가 되시리라 생각합니다."
   ]
  },
  {
   "cell_type": "code",
   "execution_count": 9,
   "id": "639974db-2772-4dfe-a0d2-efdb1df25f23",
   "metadata": {},
   "outputs": [
    {
     "name": "stdout",
     "output_type": "stream",
     "text": [
      "5\n"
     ]
    }
   ],
   "source": [
    "def cal(x, y):\n",
    "    z = x + y\n",
    "    return z\n",
    "\n",
    "result = cal(2,3)\n",
    "print(result)"
   ]
  },
  {
   "cell_type": "code",
   "execution_count": 10,
   "id": "1802080b-fe2b-4330-9d14-923cbaf6801d",
   "metadata": {},
   "outputs": [
    {
     "name": "stdout",
     "output_type": "stream",
     "text": [
      "5 6\n"
     ]
    }
   ],
   "source": [
    "def cal(x, y):\n",
    "    z1 = x + y\n",
    "    z2 = x*y\n",
    "    return z1, z2\n",
    "\n",
    "result1, result2 = cal(2,3)\n",
    "print(result1, result2)"
   ]
  },
  {
   "cell_type": "code",
   "execution_count": 14,
   "id": "009618b6-6283-430b-a416-0908f18b6b7a",
   "metadata": {},
   "outputs": [
    {
     "name": "stdout",
     "output_type": "stream",
     "text": [
      "5 6 8\n"
     ]
    }
   ],
   "source": [
    "def cal(x, y):\n",
    "    return  (x+y), (x*y), (x**y)\n",
    "\n",
    "result1, result2, result3 = cal(2,3)\n",
    "print(result1, result2, result3)"
   ]
  },
  {
   "cell_type": "code",
   "execution_count": null,
   "id": "faf0ac8f-9806-494d-8c83-37631bff68b2",
   "metadata": {},
   "outputs": [],
   "source": []
  }
 ],
 "metadata": {
  "kernelspec": {
   "display_name": "Python 3 (ipykernel)",
   "language": "python",
   "name": "python3"
  },
  "language_info": {
   "codemirror_mode": {
    "name": "ipython",
    "version": 3
   },
   "file_extension": ".py",
   "mimetype": "text/x-python",
   "name": "python",
   "nbconvert_exporter": "python",
   "pygments_lexer": "ipython3",
   "version": "3.9.7"
  }
 },
 "nbformat": 4,
 "nbformat_minor": 5
}
