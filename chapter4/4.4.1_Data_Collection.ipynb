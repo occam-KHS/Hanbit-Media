{
 "cells": [
  {
   "cell_type": "code",
   "execution_count": 3,
   "metadata": {},
   "outputs": [],
   "source": [
    "import FinanceDataReader as fdr\n",
    "import matplotlib.pyplot as plt\n",
    "%matplotlib inline\n",
    "import os\n",
    "import FinanceDataReader as fdr \n",
    "import pandas as pd\n",
    "import numpy as np\n",
    "import requests\n",
    "import bs4\n",
    "\n",
    "pd.options.display.float_format = '{:,.3f}'.format\n"
   ]
  },
  {
   "cell_type": "markdown",
   "metadata": {},
   "source": [
    "### FinanceDataReader 로 일봉 데이터 가져오기\n",
    "가설 분석과 수익율 예측 모델링은 변동성이 큰 코스닥 종목만을 대상으로 하겠습니다. \n",
    "가설검정을 위하여 과거 수 개월치의 일봉데이터가 필요합니다. 우선 데이터를 종목별로 가져오기 위해서 FinanceDataReader 의 Stocklisting 메소드에서 코스닥의 종목 코드와 정보를 불러옵니다."
   ]
  },
  {
   "cell_type": "code",
   "execution_count": 4,
   "metadata": {},
   "outputs": [
    {
     "data": {
      "text/html": [
       "<style type=\"text/css\">\n",
       "</style>\n",
       "<table id=\"T_a633a_\" style=\"font-size: 12px\">\n",
       "  <thead>\n",
       "    <tr>\n",
       "      <th class=\"blank level0\" >&nbsp;</th>\n",
       "      <th class=\"col_heading level0 col0\" >Symbol</th>\n",
       "      <th class=\"col_heading level0 col1\" >Market</th>\n",
       "      <th class=\"col_heading level0 col2\" >Name</th>\n",
       "      <th class=\"col_heading level0 col3\" >Sector</th>\n",
       "      <th class=\"col_heading level0 col4\" >Industry</th>\n",
       "      <th class=\"col_heading level0 col5\" >ListingDate</th>\n",
       "      <th class=\"col_heading level0 col6\" >SettleMonth</th>\n",
       "      <th class=\"col_heading level0 col7\" >Representative</th>\n",
       "      <th class=\"col_heading level0 col8\" >HomePage</th>\n",
       "      <th class=\"col_heading level0 col9\" >Region</th>\n",
       "    </tr>\n",
       "  </thead>\n",
       "  <tbody>\n",
       "    <tr>\n",
       "      <th id=\"T_a633a_level0_row0\" class=\"row_heading level0 row0\" >0</th>\n",
       "      <td id=\"T_a633a_row0_col0\" class=\"data row0 col0\" >060310</td>\n",
       "      <td id=\"T_a633a_row0_col1\" class=\"data row0 col1\" >KOSDAQ</td>\n",
       "      <td id=\"T_a633a_row0_col2\" class=\"data row0 col2\" >3S</td>\n",
       "      <td id=\"T_a633a_row0_col3\" class=\"data row0 col3\" >전자부품 제조업</td>\n",
       "      <td id=\"T_a633a_row0_col4\" class=\"data row0 col4\" >반도체 웨이퍼 캐리어</td>\n",
       "      <td id=\"T_a633a_row0_col5\" class=\"data row0 col5\" >2002-04-23 00:00:00</td>\n",
       "      <td id=\"T_a633a_row0_col6\" class=\"data row0 col6\" >03월</td>\n",
       "      <td id=\"T_a633a_row0_col7\" class=\"data row0 col7\" >김세완</td>\n",
       "      <td id=\"T_a633a_row0_col8\" class=\"data row0 col8\" >http://www.3sref.com</td>\n",
       "      <td id=\"T_a633a_row0_col9\" class=\"data row0 col9\" >서울특별시</td>\n",
       "    </tr>\n",
       "    <tr>\n",
       "      <th id=\"T_a633a_level0_row1\" class=\"row_heading level0 row1\" >3</th>\n",
       "      <td id=\"T_a633a_row1_col0\" class=\"data row1 col0\" >054620</td>\n",
       "      <td id=\"T_a633a_row1_col1\" class=\"data row1 col1\" >KOSDAQ</td>\n",
       "      <td id=\"T_a633a_row1_col2\" class=\"data row1 col2\" >APS홀딩스</td>\n",
       "      <td id=\"T_a633a_row1_col3\" class=\"data row1 col3\" >기타 금융업</td>\n",
       "      <td id=\"T_a633a_row1_col4\" class=\"data row1 col4\" >인터넷 트래픽 솔루션</td>\n",
       "      <td id=\"T_a633a_row1_col5\" class=\"data row1 col5\" >2001-12-04 00:00:00</td>\n",
       "      <td id=\"T_a633a_row1_col6\" class=\"data row1 col6\" >12월</td>\n",
       "      <td id=\"T_a633a_row1_col7\" class=\"data row1 col7\" >정기로</td>\n",
       "      <td id=\"T_a633a_row1_col8\" class=\"data row1 col8\" >http://www.apsholdings.co.kr</td>\n",
       "      <td id=\"T_a633a_row1_col9\" class=\"data row1 col9\" >경기도</td>\n",
       "    </tr>\n",
       "    <tr>\n",
       "      <th id=\"T_a633a_level0_row2\" class=\"row_heading level0 row2\" >4</th>\n",
       "      <td id=\"T_a633a_row2_col0\" class=\"data row2 col0\" >265520</td>\n",
       "      <td id=\"T_a633a_row2_col1\" class=\"data row2 col1\" >KOSDAQ</td>\n",
       "      <td id=\"T_a633a_row2_col2\" class=\"data row2 col2\" >AP시스템</td>\n",
       "      <td id=\"T_a633a_row2_col3\" class=\"data row2 col3\" >특수 목적용 기계 제조업</td>\n",
       "      <td id=\"T_a633a_row2_col4\" class=\"data row2 col4\" >디스플레이 제조 장비</td>\n",
       "      <td id=\"T_a633a_row2_col5\" class=\"data row2 col5\" >2017-04-07 00:00:00</td>\n",
       "      <td id=\"T_a633a_row2_col6\" class=\"data row2 col6\" >12월</td>\n",
       "      <td id=\"T_a633a_row2_col7\" class=\"data row2 col7\" >김영주</td>\n",
       "      <td id=\"T_a633a_row2_col8\" class=\"data row2 col8\" >http://www.apsystems.co.kr</td>\n",
       "      <td id=\"T_a633a_row2_col9\" class=\"data row2 col9\" >경기도</td>\n",
       "    </tr>\n",
       "    <tr>\n",
       "      <th id=\"T_a633a_level0_row3\" class=\"row_heading level0 row3\" >5</th>\n",
       "      <td id=\"T_a633a_row3_col0\" class=\"data row3 col0\" >211270</td>\n",
       "      <td id=\"T_a633a_row3_col1\" class=\"data row3 col1\" >KOSDAQ</td>\n",
       "      <td id=\"T_a633a_row3_col2\" class=\"data row3 col2\" >AP위성</td>\n",
       "      <td id=\"T_a633a_row3_col3\" class=\"data row3 col3\" >통신 및 방송 장비 제조업</td>\n",
       "      <td id=\"T_a633a_row3_col4\" class=\"data row3 col4\" >위성통신 단말기</td>\n",
       "      <td id=\"T_a633a_row3_col5\" class=\"data row3 col5\" >2016-03-04 00:00:00</td>\n",
       "      <td id=\"T_a633a_row3_col6\" class=\"data row3 col6\" >12월</td>\n",
       "      <td id=\"T_a633a_row3_col7\" class=\"data row3 col7\" >류장수</td>\n",
       "      <td id=\"T_a633a_row3_col8\" class=\"data row3 col8\" >http://www.apsi.co.kr</td>\n",
       "      <td id=\"T_a633a_row3_col9\" class=\"data row3 col9\" >서울특별시</td>\n",
       "    </tr>\n",
       "    <tr>\n",
       "      <th id=\"T_a633a_level0_row4\" class=\"row_heading level0 row4\" >56</th>\n",
       "      <td id=\"T_a633a_row4_col0\" class=\"data row4 col0\" >032790</td>\n",
       "      <td id=\"T_a633a_row4_col1\" class=\"data row4 col1\" >KOSDAQ</td>\n",
       "      <td id=\"T_a633a_row4_col2\" class=\"data row4 col2\" >BNGT</td>\n",
       "      <td id=\"T_a633a_row4_col3\" class=\"data row4 col3\" >기계장비 및 관련 물품 도매업</td>\n",
       "      <td id=\"T_a633a_row4_col4\" class=\"data row4 col4\" >Bio 이종장기 사업, ICT 프린터 현상기</td>\n",
       "      <td id=\"T_a633a_row4_col5\" class=\"data row4 col5\" >1997-06-26 00:00:00</td>\n",
       "      <td id=\"T_a633a_row4_col6\" class=\"data row4 col6\" >12월</td>\n",
       "      <td id=\"T_a633a_row4_col7\" class=\"data row4 col7\" >조상환</td>\n",
       "      <td id=\"T_a633a_row4_col8\" class=\"data row4 col8\" >http://www.mgenplus.com</td>\n",
       "      <td id=\"T_a633a_row4_col9\" class=\"data row4 col9\" >서울특별시</td>\n",
       "    </tr>\n",
       "  </tbody>\n",
       "</table>\n"
      ],
      "text/plain": [
       "<pandas.io.formats.style.Styler at 0x199abda1f40>"
      ]
     },
     "execution_count": 4,
     "metadata": {},
     "output_type": "execute_result"
    }
   ],
   "source": [
    "kosdaq_df = fdr.StockListing('KOSDAQ')\n",
    "kosdaq_df.head().style.set_table_attributes('style=\"font-size: 12px\"')"
   ]
  },
  {
   "cell_type": "markdown",
   "metadata": {},
   "source": [
    "<br> 섹터가 정의되지 않은 종목과 2021년 1월 1일 이후 상장된 종목은 제외하겠습니다. 종 1422 개의 종목이 있습니다. 독자분이 책을 보시는 시점에는 종목 수가 바뀌어 있을 것입니다.    \n",
    "kosdaq_df 에서 필요한 컬럼 'Symbol' 과 'Name' 두 개만 kosdaq_list 에 저장합니다. 그리고 종목코드 'Symbol' 과 'Name' 을 각 각 'code' 외 'name' 으로 바꿔줍니다. 그리고 나중을 위해서 결과물을 pickle 파일로 저장도 합니다."
   ]
  },
  {
   "cell_type": "code",
   "execution_count": 5,
   "metadata": {},
   "outputs": [
    {
     "name": "stdout",
     "output_type": "stream",
     "text": [
      "1579\n",
      "1417\n"
     ]
    }
   ],
   "source": [
    "print(kosdaq_df['Symbol'].nunique())\n",
    "\n",
    "c1 = (kosdaq_df['ListingDate']>'2021-01-01') # 2021년 1월 1일 이후 상장된 종목\n",
    "c2 = (kosdaq_df['Sector'].isnull()) # 섹터 값이 비어있음\n",
    "print(kosdaq_df[~c1 & ~c2]['Symbol'].nunique())  # c1 이 아니고 c2 가 아닌 종목의 갯 수\n",
    "\n",
    "kosdaq_list = kosdaq_df[~c1 & ~c2][['Symbol','Name','Sector']].rename(columns={'Symbol':'code','Name':'name','Sector':'sector'})\n",
    "kosdaq_list.to_pickle('kosdaq_list.pkl')"
   ]
  },
  {
   "cell_type": "markdown",
   "metadata": {},
   "source": [
    "<br> 저장한 pickle 파일을 읽고, sector 가 몇개나 있는 지 세어봅니다. "
   ]
  },
  {
   "cell_type": "code",
   "execution_count": 4,
   "metadata": {},
   "outputs": [
    {
     "data": {
      "text/plain": [
       "132"
      ]
     },
     "execution_count": 4,
     "metadata": {},
     "output_type": "execute_result"
    }
   ],
   "source": [
    "kosdaq_list = pd.read_pickle('kosdaq_list.pkl')\n",
    "kosdaq_list['sector'].nunique()"
   ]
  },
  {
   "cell_type": "markdown",
   "metadata": {},
   "source": [
    "<br> For Loop 에서 kosdaq_list 의 종목코드와 종목이름을 하나씩 불러서 DataReader 로 2021년 1월 3일부터 2022년 3월 31일까지 일봉데이터를 수집합니다. "
   ]
  },
  {
   "cell_type": "code",
   "execution_count": 5,
   "metadata": {},
   "outputs": [],
   "source": [
    "price_data = pd.DataFrame()\n",
    "\n",
    "for code, name in zip(kosdaq_list['code'], kosdaq_list['name']):  # 코스닥 모든 종목에서 대하여 반복\n",
    "    daily_price = fdr.DataReader(code,  start='2021-01-03', end='2022-03-31') # 종목, 일봉, 데이터 갯수\n",
    "    daily_price['code'] = code\n",
    "    daily_price['name'] = name\n",
    "    price_data = pd.concat([price_data, daily_price], axis=0)   \n",
    "\n",
    "price_data.index.name = 'date'\n",
    "price_data.columns= price_data.columns.str.lower() # 컬럼 이름 소문자로 변경\n",
    "price_data.to_pickle('stock_data_from_fdr.pkl')"
   ]
  },
  {
   "cell_type": "markdown",
   "metadata": {},
   "source": [
    "<br> 저장한 pickle 파일을 다시 읽어 첫 5 라인을 head 메소드로 찍어보면 아래와 같습니다. 여기서 date가 인덱스로 처리되어 있다는 것을 기억해주시면 좋습니다. 타이핑 편의를 위해 컬럼이름을 소문자료 변경하겠습니다.  "
   ]
  },
  {
   "cell_type": "code",
   "execution_count": 6,
   "metadata": {},
   "outputs": [
    {
     "data": {
      "text/html": [
       "<style type=\"text/css\">\n",
       "</style>\n",
       "<table id=\"T_660d6_\" style=\"font-size: 12px\">\n",
       "  <thead>\n",
       "    <tr>\n",
       "      <th class=\"blank level0\" >&nbsp;</th>\n",
       "      <th class=\"col_heading level0 col0\" >open</th>\n",
       "      <th class=\"col_heading level0 col1\" >high</th>\n",
       "      <th class=\"col_heading level0 col2\" >low</th>\n",
       "      <th class=\"col_heading level0 col3\" >close</th>\n",
       "      <th class=\"col_heading level0 col4\" >volume</th>\n",
       "      <th class=\"col_heading level0 col5\" >change</th>\n",
       "      <th class=\"col_heading level0 col6\" >code</th>\n",
       "      <th class=\"col_heading level0 col7\" >name</th>\n",
       "    </tr>\n",
       "    <tr>\n",
       "      <th class=\"index_name level0\" >date</th>\n",
       "      <th class=\"blank col0\" >&nbsp;</th>\n",
       "      <th class=\"blank col1\" >&nbsp;</th>\n",
       "      <th class=\"blank col2\" >&nbsp;</th>\n",
       "      <th class=\"blank col3\" >&nbsp;</th>\n",
       "      <th class=\"blank col4\" >&nbsp;</th>\n",
       "      <th class=\"blank col5\" >&nbsp;</th>\n",
       "      <th class=\"blank col6\" >&nbsp;</th>\n",
       "      <th class=\"blank col7\" >&nbsp;</th>\n",
       "    </tr>\n",
       "  </thead>\n",
       "  <tbody>\n",
       "    <tr>\n",
       "      <th id=\"T_660d6_level0_row0\" class=\"row_heading level0 row0\" >2021-01-04 00:00:00</th>\n",
       "      <td id=\"T_660d6_row0_col0\" class=\"data row0 col0\" >2185</td>\n",
       "      <td id=\"T_660d6_row0_col1\" class=\"data row0 col1\" >2320</td>\n",
       "      <td id=\"T_660d6_row0_col2\" class=\"data row0 col2\" >2135</td>\n",
       "      <td id=\"T_660d6_row0_col3\" class=\"data row0 col3\" >2260</td>\n",
       "      <td id=\"T_660d6_row0_col4\" class=\"data row0 col4\" >588133</td>\n",
       "      <td id=\"T_660d6_row0_col5\" class=\"data row0 col5\" >0.043880</td>\n",
       "      <td id=\"T_660d6_row0_col6\" class=\"data row0 col6\" >060310</td>\n",
       "      <td id=\"T_660d6_row0_col7\" class=\"data row0 col7\" >3S</td>\n",
       "    </tr>\n",
       "    <tr>\n",
       "      <th id=\"T_660d6_level0_row1\" class=\"row_heading level0 row1\" >2021-01-05 00:00:00</th>\n",
       "      <td id=\"T_660d6_row1_col0\" class=\"data row1 col0\" >2270</td>\n",
       "      <td id=\"T_660d6_row1_col1\" class=\"data row1 col1\" >2285</td>\n",
       "      <td id=\"T_660d6_row1_col2\" class=\"data row1 col2\" >2200</td>\n",
       "      <td id=\"T_660d6_row1_col3\" class=\"data row1 col3\" >2250</td>\n",
       "      <td id=\"T_660d6_row1_col4\" class=\"data row1 col4\" >410263</td>\n",
       "      <td id=\"T_660d6_row1_col5\" class=\"data row1 col5\" >-0.004425</td>\n",
       "      <td id=\"T_660d6_row1_col6\" class=\"data row1 col6\" >060310</td>\n",
       "      <td id=\"T_660d6_row1_col7\" class=\"data row1 col7\" >3S</td>\n",
       "    </tr>\n",
       "    <tr>\n",
       "      <th id=\"T_660d6_level0_row2\" class=\"row_heading level0 row2\" >2021-01-06 00:00:00</th>\n",
       "      <td id=\"T_660d6_row2_col0\" class=\"data row2 col0\" >2225</td>\n",
       "      <td id=\"T_660d6_row2_col1\" class=\"data row2 col1\" >2310</td>\n",
       "      <td id=\"T_660d6_row2_col2\" class=\"data row2 col2\" >2215</td>\n",
       "      <td id=\"T_660d6_row2_col3\" class=\"data row2 col3\" >2290</td>\n",
       "      <td id=\"T_660d6_row2_col4\" class=\"data row2 col4\" >570349</td>\n",
       "      <td id=\"T_660d6_row2_col5\" class=\"data row2 col5\" >0.017778</td>\n",
       "      <td id=\"T_660d6_row2_col6\" class=\"data row2 col6\" >060310</td>\n",
       "      <td id=\"T_660d6_row2_col7\" class=\"data row2 col7\" >3S</td>\n",
       "    </tr>\n",
       "    <tr>\n",
       "      <th id=\"T_660d6_level0_row3\" class=\"row_heading level0 row3\" >2021-01-07 00:00:00</th>\n",
       "      <td id=\"T_660d6_row3_col0\" class=\"data row3 col0\" >2290</td>\n",
       "      <td id=\"T_660d6_row3_col1\" class=\"data row3 col1\" >2340</td>\n",
       "      <td id=\"T_660d6_row3_col2\" class=\"data row3 col2\" >2240</td>\n",
       "      <td id=\"T_660d6_row3_col3\" class=\"data row3 col3\" >2290</td>\n",
       "      <td id=\"T_660d6_row3_col4\" class=\"data row3 col4\" >519777</td>\n",
       "      <td id=\"T_660d6_row3_col5\" class=\"data row3 col5\" >0.000000</td>\n",
       "      <td id=\"T_660d6_row3_col6\" class=\"data row3 col6\" >060310</td>\n",
       "      <td id=\"T_660d6_row3_col7\" class=\"data row3 col7\" >3S</td>\n",
       "    </tr>\n",
       "    <tr>\n",
       "      <th id=\"T_660d6_level0_row4\" class=\"row_heading level0 row4\" >2021-01-08 00:00:00</th>\n",
       "      <td id=\"T_660d6_row4_col0\" class=\"data row4 col0\" >2300</td>\n",
       "      <td id=\"T_660d6_row4_col1\" class=\"data row4 col1\" >2315</td>\n",
       "      <td id=\"T_660d6_row4_col2\" class=\"data row4 col2\" >2225</td>\n",
       "      <td id=\"T_660d6_row4_col3\" class=\"data row4 col3\" >2245</td>\n",
       "      <td id=\"T_660d6_row4_col4\" class=\"data row4 col4\" >462568</td>\n",
       "      <td id=\"T_660d6_row4_col5\" class=\"data row4 col5\" >-0.019651</td>\n",
       "      <td id=\"T_660d6_row4_col6\" class=\"data row4 col6\" >060310</td>\n",
       "      <td id=\"T_660d6_row4_col7\" class=\"data row4 col7\" >3S</td>\n",
       "    </tr>\n",
       "  </tbody>\n",
       "</table>\n"
      ],
      "text/plain": [
       "<pandas.io.formats.style.Styler at 0x199b0f463a0>"
      ]
     },
     "execution_count": 6,
     "metadata": {},
     "output_type": "execute_result"
    }
   ],
   "source": [
    "price_data = pd.read_pickle('stock_data_from_fdr.pkl')\n",
    "price_data.head().style.set_table_attributes('style=\"font-size: 12px\"')"
   ]
  },
  {
   "cell_type": "markdown",
   "metadata": {},
   "source": [
    "<br> 몇 개의 종목이 있고, 각 종목별 일봉의 갯 수 가 몇 개인지 확인해 보겠습니다. 종목 수는 1417 개, 307 개의 일봉이 있습니다."
   ]
  },
  {
   "cell_type": "code",
   "execution_count": 7,
   "metadata": {},
   "outputs": [
    {
     "name": "stdout",
     "output_type": "stream",
     "text": [
      "1417\n",
      "min    307\n",
      "max    307\n",
      "Name: close, dtype: int64\n"
     ]
    }
   ],
   "source": [
    "print(price_data['code'].nunique())\n",
    "print(price_data.groupby('code')['close'].count().agg(['min','max']))"
   ]
  },
  {
   "cell_type": "markdown",
   "metadata": {},
   "source": [
    "<br>"
   ]
  },
  {
   "cell_type": "markdown",
   "metadata": {},
   "source": [
    "### 네이버 증권 웹크롤링으로 일봉 가져오기\n",
    "이 번에는 네이버 증권 차트 _(네이버 차트 예시 필요)_ 에서 데이터를 가져오는 방법도 시도해 보겠습니다. 웹 크롤링은 코드가 복잡합니다. 첫 번째 방법인 FinanceDataReader 로 추출하는 방법을 추천드립니다.   \n",
    "다시 pickle 파일을 읽습니다. make_price_data 함수는 '종목', '추출단위', '데이터 건수' 를 인자로 네이버증권에서 데이터를 가져오는 함수입니다. 인자는 작은 따옴표에 넣어야 합니다. 셀트리온 헬스케어(091990) 의 일봉 데이터를 최근 300 일 가져오고 싶다면  make_price_data('091990', 'day', '300') 와 같이 호출합니다. 이 함수를 for 문을 이용해 모든 코스닥 종목에서 대하여 호출하고, 각 결과를 price_data 라는 데이터프레임에 담습니다. \n",
    "for 문을 돌리고 결과를 concat 함수로 연속으로 저장하는 방법은 자주 활용되는 기법입니다. "
   ]
  },
  {
   "cell_type": "code",
   "execution_count": 8,
   "metadata": {},
   "outputs": [],
   "source": [
    "# 네이버 증권 차트에서 데이터 크롤링\n",
    "\n",
    "kosdaq_list = pd.read_pickle('kosdaq_list.pkl')\n",
    "\n",
    "def make_price_data(code, name, timeframe, count):\n",
    "    url = 'https://fchart.stock.naver.com/sise.nhn?symbol=' + code + '&timeframe=' + timeframe + '&count=' + count + '&requestType=0'\n",
    "    price_data = requests.get(url)\n",
    "    price_data_bs = bs4.BeautifulSoup(price_data.text, 'lxml')\n",
    "    item_list = price_data_bs.find_all('item')\n",
    "\n",
    "    date_list = [] \n",
    "    open_list = []\n",
    "    high_list = []\n",
    "    low_list = []\n",
    "    close_list = []\n",
    "    trade_list = []\n",
    "\n",
    "    for item in item_list:\n",
    "        data = item['data'].split('|')\n",
    "        date_list.append(data[0])\n",
    "        open_list.append(data[1])\n",
    "        high_list.append(data[2])\n",
    "        low_list.append(data[3])\n",
    "        close_list.append(data[4])\n",
    "        trade_list.append(data[5])        \n",
    "\n",
    "    price_df = pd.DataFrame({'open': open_list, 'high': high_list, 'low': low_list, 'close': close_list, 'volume': trade_list}, index=date_list)            \n",
    "    price_df['code'] = code\n",
    "    price_df['name'] = name\n",
    "    num_vars = ['open','high','low','close','volume']\n",
    "    char_vars = ['code','name']\n",
    "    price_df = price_df.reindex(columns = char_vars + num_vars)\n",
    "\n",
    "    for var in num_vars:\n",
    "        price_df[var] = pd.to_numeric(price_df[var], errors='coerce')\n",
    "\n",
    "    price_df.index = pd.to_datetime(price_df.index, errors='coerce')\n",
    "\n",
    "    return price_df\n",
    "\n",
    "price_data = pd.DataFrame()\n",
    "\n",
    "for code, name in zip(kosdaq_list['code'], kosdaq_list['name']):  # 코스닥 모든 종목에서 대하여 반복\n",
    "    daily_price = make_price_data(code, name, 'day', '307') # 종목, 일봉, 데이터 갯수\n",
    "    price_data = pd.concat([price_data, daily_price], axis=0)   \n",
    "\n",
    "price_data.index.name = 'date'\n",
    "price_data.to_pickle('stock_data_from_naver.pkl')"
   ]
  },
  {
   "cell_type": "markdown",
   "metadata": {},
   "source": [
    "<br> 저장한 pickle 파일을 다시 읽어 첫 5 라인을 head 메소드로 찍어보면 아래와 같습니다. 여기서 date가 인덱스로 처리되어 있다는 것을 기억해주시면 좋습니다.  "
   ]
  },
  {
   "cell_type": "code",
   "execution_count": 9,
   "metadata": {},
   "outputs": [
    {
     "data": {
      "text/html": [
       "<style type=\"text/css\">\n",
       "</style>\n",
       "<table id=\"T_b17e6_\" style=\"font-size: 12px\">\n",
       "  <thead>\n",
       "    <tr>\n",
       "      <th class=\"blank level0\" >&nbsp;</th>\n",
       "      <th class=\"col_heading level0 col0\" >code</th>\n",
       "      <th class=\"col_heading level0 col1\" >name</th>\n",
       "      <th class=\"col_heading level0 col2\" >open</th>\n",
       "      <th class=\"col_heading level0 col3\" >high</th>\n",
       "      <th class=\"col_heading level0 col4\" >low</th>\n",
       "      <th class=\"col_heading level0 col5\" >close</th>\n",
       "      <th class=\"col_heading level0 col6\" >volume</th>\n",
       "    </tr>\n",
       "    <tr>\n",
       "      <th class=\"index_name level0\" >date</th>\n",
       "      <th class=\"blank col0\" >&nbsp;</th>\n",
       "      <th class=\"blank col1\" >&nbsp;</th>\n",
       "      <th class=\"blank col2\" >&nbsp;</th>\n",
       "      <th class=\"blank col3\" >&nbsp;</th>\n",
       "      <th class=\"blank col4\" >&nbsp;</th>\n",
       "      <th class=\"blank col5\" >&nbsp;</th>\n",
       "      <th class=\"blank col6\" >&nbsp;</th>\n",
       "    </tr>\n",
       "  </thead>\n",
       "  <tbody>\n",
       "    <tr>\n",
       "      <th id=\"T_b17e6_level0_row0\" class=\"row_heading level0 row0\" >2021-03-23 00:00:00</th>\n",
       "      <td id=\"T_b17e6_row0_col0\" class=\"data row0 col0\" >060310</td>\n",
       "      <td id=\"T_b17e6_row0_col1\" class=\"data row0 col1\" >3S</td>\n",
       "      <td id=\"T_b17e6_row0_col2\" class=\"data row0 col2\" >2525</td>\n",
       "      <td id=\"T_b17e6_row0_col3\" class=\"data row0 col3\" >2525</td>\n",
       "      <td id=\"T_b17e6_row0_col4\" class=\"data row0 col4\" >2390</td>\n",
       "      <td id=\"T_b17e6_row0_col5\" class=\"data row0 col5\" >2410</td>\n",
       "      <td id=\"T_b17e6_row0_col6\" class=\"data row0 col6\" >245741</td>\n",
       "    </tr>\n",
       "    <tr>\n",
       "      <th id=\"T_b17e6_level0_row1\" class=\"row_heading level0 row1\" >2021-03-24 00:00:00</th>\n",
       "      <td id=\"T_b17e6_row1_col0\" class=\"data row1 col0\" >060310</td>\n",
       "      <td id=\"T_b17e6_row1_col1\" class=\"data row1 col1\" >3S</td>\n",
       "      <td id=\"T_b17e6_row1_col2\" class=\"data row1 col2\" >2410</td>\n",
       "      <td id=\"T_b17e6_row1_col3\" class=\"data row1 col3\" >2420</td>\n",
       "      <td id=\"T_b17e6_row1_col4\" class=\"data row1 col4\" >2350</td>\n",
       "      <td id=\"T_b17e6_row1_col5\" class=\"data row1 col5\" >2410</td>\n",
       "      <td id=\"T_b17e6_row1_col6\" class=\"data row1 col6\" >156213</td>\n",
       "    </tr>\n",
       "    <tr>\n",
       "      <th id=\"T_b17e6_level0_row2\" class=\"row_heading level0 row2\" >2021-03-25 00:00:00</th>\n",
       "      <td id=\"T_b17e6_row2_col0\" class=\"data row2 col0\" >060310</td>\n",
       "      <td id=\"T_b17e6_row2_col1\" class=\"data row2 col1\" >3S</td>\n",
       "      <td id=\"T_b17e6_row2_col2\" class=\"data row2 col2\" >2410</td>\n",
       "      <td id=\"T_b17e6_row2_col3\" class=\"data row2 col3\" >2510</td>\n",
       "      <td id=\"T_b17e6_row2_col4\" class=\"data row2 col4\" >2400</td>\n",
       "      <td id=\"T_b17e6_row2_col5\" class=\"data row2 col5\" >2465</td>\n",
       "      <td id=\"T_b17e6_row2_col6\" class=\"data row2 col6\" >288725</td>\n",
       "    </tr>\n",
       "    <tr>\n",
       "      <th id=\"T_b17e6_level0_row3\" class=\"row_heading level0 row3\" >2021-03-26 00:00:00</th>\n",
       "      <td id=\"T_b17e6_row3_col0\" class=\"data row3 col0\" >060310</td>\n",
       "      <td id=\"T_b17e6_row3_col1\" class=\"data row3 col1\" >3S</td>\n",
       "      <td id=\"T_b17e6_row3_col2\" class=\"data row3 col2\" >2480</td>\n",
       "      <td id=\"T_b17e6_row3_col3\" class=\"data row3 col3\" >2480</td>\n",
       "      <td id=\"T_b17e6_row3_col4\" class=\"data row3 col4\" >2400</td>\n",
       "      <td id=\"T_b17e6_row3_col5\" class=\"data row3 col5\" >2410</td>\n",
       "      <td id=\"T_b17e6_row3_col6\" class=\"data row3 col6\" >195825</td>\n",
       "    </tr>\n",
       "    <tr>\n",
       "      <th id=\"T_b17e6_level0_row4\" class=\"row_heading level0 row4\" >2021-03-29 00:00:00</th>\n",
       "      <td id=\"T_b17e6_row4_col0\" class=\"data row4 col0\" >060310</td>\n",
       "      <td id=\"T_b17e6_row4_col1\" class=\"data row4 col1\" >3S</td>\n",
       "      <td id=\"T_b17e6_row4_col2\" class=\"data row4 col2\" >2410</td>\n",
       "      <td id=\"T_b17e6_row4_col3\" class=\"data row4 col3\" >2435</td>\n",
       "      <td id=\"T_b17e6_row4_col4\" class=\"data row4 col4\" >2350</td>\n",
       "      <td id=\"T_b17e6_row4_col5\" class=\"data row4 col5\" >2385</td>\n",
       "      <td id=\"T_b17e6_row4_col6\" class=\"data row4 col6\" >194419</td>\n",
       "    </tr>\n",
       "  </tbody>\n",
       "</table>\n"
      ],
      "text/plain": [
       "<pandas.io.formats.style.Styler at 0x1c862384a90>"
      ]
     },
     "execution_count": 9,
     "metadata": {},
     "output_type": "execute_result"
    }
   ],
   "source": [
    "price_data = pd.read_pickle('stock_data_from_naver.pkl')\n",
    "price_data.head().style.set_table_attributes('style=\"font-size: 12px\"')"
   ]
  },
  {
   "cell_type": "markdown",
   "metadata": {},
   "source": [
    "<br> 몇 개의 종목이 있고, 각 종목별 일봉의 갯 수 가 몇 개인지 확인해 보겠습니다. 종목 수는 1422 개, 307 개의 일봉이 있습니다."
   ]
  },
  {
   "cell_type": "code",
   "execution_count": 10,
   "metadata": {},
   "outputs": [
    {
     "name": "stdout",
     "output_type": "stream",
     "text": [
      "1417\n",
      "min    307\n",
      "max    307\n",
      "Name: close, dtype: int64\n"
     ]
    }
   ],
   "source": [
    "print(price_data['code'].nunique())\n",
    "print(price_data.groupby('code')['close'].count().agg(['min','max']))"
   ]
  }
 ],
 "metadata": {
  "kernelspec": {
   "display_name": "Python 3 (ipykernel)",
   "language": "python",
   "name": "python3"
  },
  "language_info": {
   "codemirror_mode": {
    "name": "ipython",
    "version": 3
   },
   "file_extension": ".py",
   "mimetype": "text/x-python",
   "name": "python",
   "nbconvert_exporter": "python",
   "pygments_lexer": "ipython3",
   "version": "3.9.7"
  }
 },
 "nbformat": 4,
 "nbformat_minor": 4
}
