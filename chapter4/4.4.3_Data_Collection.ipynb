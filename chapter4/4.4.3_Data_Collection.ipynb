{
 "cells": [
  {
   "cell_type": "code",
   "execution_count": 3,
   "metadata": {},
   "outputs": [],
   "source": [
    "import FinanceDataReader as fdr\n",
    "%matplotlib inline\n",
    "import matplotlib.pyplot as plt\n",
    "import pandas as pd\n",
    "import numpy as np\n",
    "pd.options.display.float_format = '{:,.3f}'.format"
   ]
  },
  {
   "cell_type": "markdown",
   "metadata": {},
   "source": [
    "### 종목별 일봉 데이터와 코스피 지수 데이터와 결합   \n",
    "앞에서 저장한 종목 리스트, 코스닥 종목별 주가 데이터와 지수 데이터를 읽습니다. 인덱스(날짜) 의 최소값과 최대값을 확인해 봅니다."
   ]
  },
  {
   "cell_type": "code",
   "execution_count": 4,
   "metadata": {},
   "outputs": [
    {
     "name": "stdout",
     "output_type": "stream",
     "text": [
      "2021-01-04 00:00:00 2022-03-31 00:00:00\n",
      "2021-01-04 00:00:00 2022-06-24 00:00:00\n"
     ]
    }
   ],
   "source": [
    "price_data = pd.read_pickle('stock_data_from_fdr.pkl') # 주가 정보\n",
    "kosdaq_index = pd.read_pickle('kosdaq_index.pkl') # 지수 정보\n",
    "kosdaq_list = pd.read_pickle('kosdaq_list.pkl') # 종목 정보\n",
    "\n",
    "print(price_data.index.min(), price_data.index.max())\n",
    "print(kosdaq_index.index.min(), kosdaq_index.index.max())"
   ]
  },
  {
   "cell_type": "markdown",
   "metadata": {},
   "source": [
    "<br> 나중에 검정할 가설 중 하나가 \"주가가 상승할 확률이 높은 종목은 마켓이 안 좋을 때(즉 지표가 빠질 때) 수익율이 좋았다\" 입니다. 이 가설을 검증하기 위해 두 데이타셋을 병합합니다. 두 데이터를 종목별 날짜별로 병합을 해야 '종목 수익율'과 '코스닥 지수 수익율'을 비교할 수 있습니다.\n",
    "\n",
    "price_data 를 기준으로 kosdaq_index 데이터의 지수 수익율을 추가합니다. price_data 에 날짜를 Index 로 left merge 를 하면 주가지수 정보를 추가할 수 있습니다."
   ]
  },
  {
   "cell_type": "code",
   "execution_count": 5,
   "metadata": {},
   "outputs": [
    {
     "data": {
      "text/html": [
       "<style type=\"text/css\">\n",
       "</style>\n",
       "<table id=\"T_f179f_\" style=\"font-size: 12px\">\n",
       "  <thead>\n",
       "    <tr>\n",
       "      <th class=\"blank level0\" >&nbsp;</th>\n",
       "      <th class=\"col_heading level0 col0\" >open</th>\n",
       "      <th class=\"col_heading level0 col1\" >high</th>\n",
       "      <th class=\"col_heading level0 col2\" >low</th>\n",
       "      <th class=\"col_heading level0 col3\" >close</th>\n",
       "      <th class=\"col_heading level0 col4\" >volume</th>\n",
       "      <th class=\"col_heading level0 col5\" >change</th>\n",
       "      <th class=\"col_heading level0 col6\" >code</th>\n",
       "      <th class=\"col_heading level0 col7\" >name</th>\n",
       "      <th class=\"col_heading level0 col8\" >kosdaq_return</th>\n",
       "    </tr>\n",
       "    <tr>\n",
       "      <th class=\"index_name level0\" >date</th>\n",
       "      <th class=\"blank col0\" >&nbsp;</th>\n",
       "      <th class=\"blank col1\" >&nbsp;</th>\n",
       "      <th class=\"blank col2\" >&nbsp;</th>\n",
       "      <th class=\"blank col3\" >&nbsp;</th>\n",
       "      <th class=\"blank col4\" >&nbsp;</th>\n",
       "      <th class=\"blank col5\" >&nbsp;</th>\n",
       "      <th class=\"blank col6\" >&nbsp;</th>\n",
       "      <th class=\"blank col7\" >&nbsp;</th>\n",
       "      <th class=\"blank col8\" >&nbsp;</th>\n",
       "    </tr>\n",
       "  </thead>\n",
       "  <tbody>\n",
       "    <tr>\n",
       "      <th id=\"T_f179f_level0_row0\" class=\"row_heading level0 row0\" >2021-01-04 00:00:00</th>\n",
       "      <td id=\"T_f179f_row0_col0\" class=\"data row0 col0\" >2185</td>\n",
       "      <td id=\"T_f179f_row0_col1\" class=\"data row0 col1\" >2320</td>\n",
       "      <td id=\"T_f179f_row0_col2\" class=\"data row0 col2\" >2135</td>\n",
       "      <td id=\"T_f179f_row0_col3\" class=\"data row0 col3\" >2260</td>\n",
       "      <td id=\"T_f179f_row0_col4\" class=\"data row0 col4\" >588133</td>\n",
       "      <td id=\"T_f179f_row0_col5\" class=\"data row0 col5\" >0.043880</td>\n",
       "      <td id=\"T_f179f_row0_col6\" class=\"data row0 col6\" >060310</td>\n",
       "      <td id=\"T_f179f_row0_col7\" class=\"data row0 col7\" >3S</td>\n",
       "      <td id=\"T_f179f_row0_col8\" class=\"data row0 col8\" >nan</td>\n",
       "    </tr>\n",
       "    <tr>\n",
       "      <th id=\"T_f179f_level0_row1\" class=\"row_heading level0 row1\" >2021-01-04 00:00:00</th>\n",
       "      <td id=\"T_f179f_row1_col0\" class=\"data row1 col0\" >8220</td>\n",
       "      <td id=\"T_f179f_row1_col1\" class=\"data row1 col1\" >8270</td>\n",
       "      <td id=\"T_f179f_row1_col2\" class=\"data row1 col2\" >7960</td>\n",
       "      <td id=\"T_f179f_row1_col3\" class=\"data row1 col3\" >8000</td>\n",
       "      <td id=\"T_f179f_row1_col4\" class=\"data row1 col4\" >300316</td>\n",
       "      <td id=\"T_f179f_row1_col5\" class=\"data row1 col5\" >-0.025579</td>\n",
       "      <td id=\"T_f179f_row1_col6\" class=\"data row1 col6\" >054620</td>\n",
       "      <td id=\"T_f179f_row1_col7\" class=\"data row1 col7\" >APS홀딩스</td>\n",
       "      <td id=\"T_f179f_row1_col8\" class=\"data row1 col8\" >nan</td>\n",
       "    </tr>\n",
       "    <tr>\n",
       "      <th id=\"T_f179f_level0_row2\" class=\"row_heading level0 row2\" >2021-01-04 00:00:00</th>\n",
       "      <td id=\"T_f179f_row2_col0\" class=\"data row2 col0\" >25100</td>\n",
       "      <td id=\"T_f179f_row2_col1\" class=\"data row2 col1\" >25600</td>\n",
       "      <td id=\"T_f179f_row2_col2\" class=\"data row2 col2\" >24800</td>\n",
       "      <td id=\"T_f179f_row2_col3\" class=\"data row2 col3\" >25500</td>\n",
       "      <td id=\"T_f179f_row2_col4\" class=\"data row2 col4\" >415285</td>\n",
       "      <td id=\"T_f179f_row2_col5\" class=\"data row2 col5\" >0.026157</td>\n",
       "      <td id=\"T_f179f_row2_col6\" class=\"data row2 col6\" >265520</td>\n",
       "      <td id=\"T_f179f_row2_col7\" class=\"data row2 col7\" >AP시스템</td>\n",
       "      <td id=\"T_f179f_row2_col8\" class=\"data row2 col8\" >nan</td>\n",
       "    </tr>\n",
       "    <tr>\n",
       "      <th id=\"T_f179f_level0_row3\" class=\"row_heading level0 row3\" >2021-01-04 00:00:00</th>\n",
       "      <td id=\"T_f179f_row3_col0\" class=\"data row3 col0\" >7960</td>\n",
       "      <td id=\"T_f179f_row3_col1\" class=\"data row3 col1\" >8470</td>\n",
       "      <td id=\"T_f179f_row3_col2\" class=\"data row3 col2\" >7790</td>\n",
       "      <td id=\"T_f179f_row3_col3\" class=\"data row3 col3\" >8330</td>\n",
       "      <td id=\"T_f179f_row3_col4\" class=\"data row3 col4\" >424730</td>\n",
       "      <td id=\"T_f179f_row3_col5\" class=\"data row3 col5\" >0.051768</td>\n",
       "      <td id=\"T_f179f_row3_col6\" class=\"data row3 col6\" >211270</td>\n",
       "      <td id=\"T_f179f_row3_col7\" class=\"data row3 col7\" >AP위성</td>\n",
       "      <td id=\"T_f179f_row3_col8\" class=\"data row3 col8\" >nan</td>\n",
       "    </tr>\n",
       "    <tr>\n",
       "      <th id=\"T_f179f_level0_row4\" class=\"row_heading level0 row4\" >2021-01-04 00:00:00</th>\n",
       "      <td id=\"T_f179f_row4_col0\" class=\"data row4 col0\" >0</td>\n",
       "      <td id=\"T_f179f_row4_col1\" class=\"data row4 col1\" >0</td>\n",
       "      <td id=\"T_f179f_row4_col2\" class=\"data row4 col2\" >0</td>\n",
       "      <td id=\"T_f179f_row4_col3\" class=\"data row4 col3\" >4075</td>\n",
       "      <td id=\"T_f179f_row4_col4\" class=\"data row4 col4\" >0</td>\n",
       "      <td id=\"T_f179f_row4_col5\" class=\"data row4 col5\" >0.000000</td>\n",
       "      <td id=\"T_f179f_row4_col6\" class=\"data row4 col6\" >032790</td>\n",
       "      <td id=\"T_f179f_row4_col7\" class=\"data row4 col7\" >BNGT</td>\n",
       "      <td id=\"T_f179f_row4_col8\" class=\"data row4 col8\" >nan</td>\n",
       "    </tr>\n",
       "  </tbody>\n",
       "</table>\n"
      ],
      "text/plain": [
       "<pandas.io.formats.style.Styler at 0x25487cdbf40>"
      ]
     },
     "execution_count": 5,
     "metadata": {},
     "output_type": "execute_result"
    }
   ],
   "source": [
    "merged = price_data.merge(kosdaq_index['kosdaq_return'], left_index=True, right_index=True, how='left')\n",
    "merged.head().style.set_table_attributes('style=\"font-size: 12px\"')"
   ]
  },
  {
   "cell_type": "markdown",
   "metadata": {},
   "source": [
    "<br>가설 검정을 위해 미리 컬럼을 생성합니다. 코스닥 지수 수익율이 1 보다 적을 때, 종목의 수익율이 1 보다 크면 1, 아니면 0 을 생성합니다. 그 값을 win_market 이라는 새로운 컬럼에 저장합니다. 아래오와 같이 np.where 구문을 사용했는데요. \n",
    "\n",
    "```python\n",
    "stock_return['win_market'] = np.where((c1&c2), 1, 0)\n",
    "```\n",
    "이 메소드는 np.where(조건, 조건이 참일 때 값, 조건이 거짓일 때 값)와 같이 처리를 합니다. "
   ]
  },
  {
   "cell_type": "code",
   "execution_count": 6,
   "metadata": {},
   "outputs": [],
   "source": [
    "return_all = pd.DataFrame()\n",
    "\n",
    "for code in kosdaq_list['code']:  \n",
    "    \n",
    "    stock_return = merged[merged['code']==code].sort_index()\n",
    "    stock_return['return'] = stock_return['close']/stock_return['close'].shift(1) # 종목별 전일 종가 대비 당일 종가 수익율\n",
    "    c1 = (stock_return['kosdaq_return'] < 1) # 수익율 1 보다 작음. 당일 종가가 전일 종가보다 낮음 (코스닥 지표)\n",
    "    c2 = (stock_return['return'] > 1) # 수익율 1 보다 큼. 당일 종가가 전일 종가보다 큼 (개별 종목)\n",
    "    stock_return['win_market'] = np.where((c1&c2), 1, 0) # C1 과 C2 조건을 동시에 만족하면 1, 아니면 0\n",
    "    return_all = pd.concat([return_all, stock_return], axis=0) \n",
    "    \n",
    "return_all.to_pickle('return_all.pkl')       "
   ]
  },
  {
   "cell_type": "markdown",
   "metadata": {},
   "source": [
    "<br> 값이 잘 들어갔는 지 head 메소드로 첫 번째 행 5 개를 출력해 봅니다."
   ]
  },
  {
   "cell_type": "code",
   "execution_count": 7,
   "metadata": {},
   "outputs": [
    {
     "data": {
      "text/html": [
       "<style type=\"text/css\">\n",
       "</style>\n",
       "<table id=\"T_fdc41_\" style=\"font-size: 12px\">\n",
       "  <thead>\n",
       "    <tr>\n",
       "      <th class=\"blank level0\" >&nbsp;</th>\n",
       "      <th class=\"col_heading level0 col0\" >open</th>\n",
       "      <th class=\"col_heading level0 col1\" >high</th>\n",
       "      <th class=\"col_heading level0 col2\" >low</th>\n",
       "      <th class=\"col_heading level0 col3\" >close</th>\n",
       "      <th class=\"col_heading level0 col4\" >volume</th>\n",
       "      <th class=\"col_heading level0 col5\" >change</th>\n",
       "      <th class=\"col_heading level0 col6\" >code</th>\n",
       "      <th class=\"col_heading level0 col7\" >name</th>\n",
       "      <th class=\"col_heading level0 col8\" >kosdaq_return</th>\n",
       "      <th class=\"col_heading level0 col9\" >return</th>\n",
       "      <th class=\"col_heading level0 col10\" >win_market</th>\n",
       "    </tr>\n",
       "    <tr>\n",
       "      <th class=\"index_name level0\" >date</th>\n",
       "      <th class=\"blank col0\" >&nbsp;</th>\n",
       "      <th class=\"blank col1\" >&nbsp;</th>\n",
       "      <th class=\"blank col2\" >&nbsp;</th>\n",
       "      <th class=\"blank col3\" >&nbsp;</th>\n",
       "      <th class=\"blank col4\" >&nbsp;</th>\n",
       "      <th class=\"blank col5\" >&nbsp;</th>\n",
       "      <th class=\"blank col6\" >&nbsp;</th>\n",
       "      <th class=\"blank col7\" >&nbsp;</th>\n",
       "      <th class=\"blank col8\" >&nbsp;</th>\n",
       "      <th class=\"blank col9\" >&nbsp;</th>\n",
       "      <th class=\"blank col10\" >&nbsp;</th>\n",
       "    </tr>\n",
       "  </thead>\n",
       "  <tbody>\n",
       "    <tr>\n",
       "      <th id=\"T_fdc41_level0_row0\" class=\"row_heading level0 row0\" >2021-01-04 00:00:00</th>\n",
       "      <td id=\"T_fdc41_row0_col0\" class=\"data row0 col0\" >2185</td>\n",
       "      <td id=\"T_fdc41_row0_col1\" class=\"data row0 col1\" >2320</td>\n",
       "      <td id=\"T_fdc41_row0_col2\" class=\"data row0 col2\" >2135</td>\n",
       "      <td id=\"T_fdc41_row0_col3\" class=\"data row0 col3\" >2260</td>\n",
       "      <td id=\"T_fdc41_row0_col4\" class=\"data row0 col4\" >588133</td>\n",
       "      <td id=\"T_fdc41_row0_col5\" class=\"data row0 col5\" >0.043880</td>\n",
       "      <td id=\"T_fdc41_row0_col6\" class=\"data row0 col6\" >060310</td>\n",
       "      <td id=\"T_fdc41_row0_col7\" class=\"data row0 col7\" >3S</td>\n",
       "      <td id=\"T_fdc41_row0_col8\" class=\"data row0 col8\" >nan</td>\n",
       "      <td id=\"T_fdc41_row0_col9\" class=\"data row0 col9\" >nan</td>\n",
       "      <td id=\"T_fdc41_row0_col10\" class=\"data row0 col10\" >0</td>\n",
       "    </tr>\n",
       "    <tr>\n",
       "      <th id=\"T_fdc41_level0_row1\" class=\"row_heading level0 row1\" >2021-01-05 00:00:00</th>\n",
       "      <td id=\"T_fdc41_row1_col0\" class=\"data row1 col0\" >2270</td>\n",
       "      <td id=\"T_fdc41_row1_col1\" class=\"data row1 col1\" >2285</td>\n",
       "      <td id=\"T_fdc41_row1_col2\" class=\"data row1 col2\" >2200</td>\n",
       "      <td id=\"T_fdc41_row1_col3\" class=\"data row1 col3\" >2250</td>\n",
       "      <td id=\"T_fdc41_row1_col4\" class=\"data row1 col4\" >410263</td>\n",
       "      <td id=\"T_fdc41_row1_col5\" class=\"data row1 col5\" >-0.004425</td>\n",
       "      <td id=\"T_fdc41_row1_col6\" class=\"data row1 col6\" >060310</td>\n",
       "      <td id=\"T_fdc41_row1_col7\" class=\"data row1 col7\" >3S</td>\n",
       "      <td id=\"T_fdc41_row1_col8\" class=\"data row1 col8\" >1.008326</td>\n",
       "      <td id=\"T_fdc41_row1_col9\" class=\"data row1 col9\" >0.995575</td>\n",
       "      <td id=\"T_fdc41_row1_col10\" class=\"data row1 col10\" >0</td>\n",
       "    </tr>\n",
       "    <tr>\n",
       "      <th id=\"T_fdc41_level0_row2\" class=\"row_heading level0 row2\" >2021-01-06 00:00:00</th>\n",
       "      <td id=\"T_fdc41_row2_col0\" class=\"data row2 col0\" >2225</td>\n",
       "      <td id=\"T_fdc41_row2_col1\" class=\"data row2 col1\" >2310</td>\n",
       "      <td id=\"T_fdc41_row2_col2\" class=\"data row2 col2\" >2215</td>\n",
       "      <td id=\"T_fdc41_row2_col3\" class=\"data row2 col3\" >2290</td>\n",
       "      <td id=\"T_fdc41_row2_col4\" class=\"data row2 col4\" >570349</td>\n",
       "      <td id=\"T_fdc41_row2_col5\" class=\"data row2 col5\" >0.017778</td>\n",
       "      <td id=\"T_fdc41_row2_col6\" class=\"data row2 col6\" >060310</td>\n",
       "      <td id=\"T_fdc41_row2_col7\" class=\"data row2 col7\" >3S</td>\n",
       "      <td id=\"T_fdc41_row2_col8\" class=\"data row2 col8\" >0.995567</td>\n",
       "      <td id=\"T_fdc41_row2_col9\" class=\"data row2 col9\" >1.017778</td>\n",
       "      <td id=\"T_fdc41_row2_col10\" class=\"data row2 col10\" >1</td>\n",
       "    </tr>\n",
       "    <tr>\n",
       "      <th id=\"T_fdc41_level0_row3\" class=\"row_heading level0 row3\" >2021-01-07 00:00:00</th>\n",
       "      <td id=\"T_fdc41_row3_col0\" class=\"data row3 col0\" >2290</td>\n",
       "      <td id=\"T_fdc41_row3_col1\" class=\"data row3 col1\" >2340</td>\n",
       "      <td id=\"T_fdc41_row3_col2\" class=\"data row3 col2\" >2240</td>\n",
       "      <td id=\"T_fdc41_row3_col3\" class=\"data row3 col3\" >2290</td>\n",
       "      <td id=\"T_fdc41_row3_col4\" class=\"data row3 col4\" >519777</td>\n",
       "      <td id=\"T_fdc41_row3_col5\" class=\"data row3 col5\" >0.000000</td>\n",
       "      <td id=\"T_fdc41_row3_col6\" class=\"data row3 col6\" >060310</td>\n",
       "      <td id=\"T_fdc41_row3_col7\" class=\"data row3 col7\" >3S</td>\n",
       "      <td id=\"T_fdc41_row3_col8\" class=\"data row3 col8\" >1.007612</td>\n",
       "      <td id=\"T_fdc41_row3_col9\" class=\"data row3 col9\" >1.000000</td>\n",
       "      <td id=\"T_fdc41_row3_col10\" class=\"data row3 col10\" >0</td>\n",
       "    </tr>\n",
       "    <tr>\n",
       "      <th id=\"T_fdc41_level0_row4\" class=\"row_heading level0 row4\" >2021-01-08 00:00:00</th>\n",
       "      <td id=\"T_fdc41_row4_col0\" class=\"data row4 col0\" >2300</td>\n",
       "      <td id=\"T_fdc41_row4_col1\" class=\"data row4 col1\" >2315</td>\n",
       "      <td id=\"T_fdc41_row4_col2\" class=\"data row4 col2\" >2225</td>\n",
       "      <td id=\"T_fdc41_row4_col3\" class=\"data row4 col3\" >2245</td>\n",
       "      <td id=\"T_fdc41_row4_col4\" class=\"data row4 col4\" >462568</td>\n",
       "      <td id=\"T_fdc41_row4_col5\" class=\"data row4 col5\" >-0.019651</td>\n",
       "      <td id=\"T_fdc41_row4_col6\" class=\"data row4 col6\" >060310</td>\n",
       "      <td id=\"T_fdc41_row4_col7\" class=\"data row4 col7\" >3S</td>\n",
       "      <td id=\"T_fdc41_row4_col8\" class=\"data row4 col8\" >0.998918</td>\n",
       "      <td id=\"T_fdc41_row4_col9\" class=\"data row4 col9\" >0.980349</td>\n",
       "      <td id=\"T_fdc41_row4_col10\" class=\"data row4 col10\" >0</td>\n",
       "    </tr>\n",
       "  </tbody>\n",
       "</table>\n"
      ],
      "text/plain": [
       "<pandas.io.formats.style.Styler at 0x25489ff2850>"
      ]
     },
     "execution_count": 7,
     "metadata": {},
     "output_type": "execute_result"
    }
   ],
   "source": [
    "return_all = pd.read_pickle('return_all.pkl')  \n",
    "return_all.head().style.set_table_attributes('style=\"font-size: 12px\"')"
   ]
  },
  {
   "cell_type": "markdown",
   "metadata": {},
   "source": [
    "가설 검정 시 자세히 다루겠지만, win_market 의 비율과 종목별 수익율과의 관계를 간단하게 조사하겠습니다. 이번에 scatter plot 를 함 그려보겠습니다. Scatter plot 에는 x 축의 값과 y 축의 값을 인수로 넣어주면 됩니다. 그래프를 보니 두 값 사이에 상관성이 높아 보입니다. "
   ]
  },
  {
   "cell_type": "code",
   "execution_count": 8,
   "metadata": {},
   "outputs": [
    {
     "data": {
      "text/plain": [
       "Text(0, 0.5, 'Avg. Return')"
      ]
     },
     "execution_count": 8,
     "metadata": {},
     "output_type": "execute_result"
    },
    {
     "data": {
      "image/png": "[encoded data removed]",
      "text/plain": [
       "<Figure size 720x432 with 1 Axes>"
      ]
     },
     "metadata": {
      "needs_background": "light"
     },
     "output_type": "display_data"
    }
   ],
   "source": [
    "plt.figure(figsize=(10,6))\n",
    "x = return_all.groupby('code')['win_market'].mean() # 종목별 win_market의 비율\n",
    "y = return_all.groupby('code')['return'].mean() # 종목별 평균 수익율 \n",
    "plt.scatter(x = x , y= y, s=1, color='red')\n",
    "plt.xlabel('% of Win Market')\n",
    "plt.ylabel('Avg. Return')"
   ]
  },
  {
   "cell_type": "code",
   "execution_count": null,
   "metadata": {},
   "outputs": [],
   "source": []
  }
 ],
 "metadata": {
  "kernelspec": {
   "display_name": "Python 3 (ipykernel)",
   "language": "python",
   "name": "python3"
  },
  "language_info": {
   "codemirror_mode": {
    "name": "ipython",
    "version": 3
   },
   "file_extension": ".py",
   "mimetype": "text/x-python",
   "name": "python",
   "nbconvert_exporter": "python",
   "pygments_lexer": "ipython3",
   "version": "3.9.7"
  }
 },
 "nbformat": 4,
 "nbformat_minor": 4
}
