{
 "cells": [
  {
   "cell_type": "markdown",
   "id": "f4ae94e4-30f8-49cd-b3d6-090fd3d51eab",
   "metadata": {
    "tags": []
   },
   "source": [
    "### **가설 설정**     \n",
    "  "
   ]
  },
  {
   "cell_type": "markdown",
   "id": "bfcc958f-bc5d-4565-98e1-693c81e3cc7a",
   "metadata": {},
   "source": [
    "유투브및 여러 블로그에서 얻은 정보를 바탕으로 몇 가지 가설을 세웠습니다. 여기서 가설이란 이런 경우 주가가 상승한다하는 가정입니다. 아래는 제가 찾은 정보입니다. 독자분들은 더 좋은 가설을 세우실 수 있을 것이라고 생각합니다. 가설의 깊이가 예측 모델의 성능을 좌우합니다.\n",
    "\n",
    "\n",
    "- 변동성이 크고 거래량이 몰린 종목이 주가가 상승한다.\n",
    "- 5일 이동 평균선이 오늘 종가보다 위에 위치해 있다.\n",
    "- 위 꼬리가 긴 양봉이 자주 발생한다.\n",
    "- 거래량이 종종 크게 터지며 매집의 흔적을 보인다.\n",
    "- 주가지수보다 더 좋은 수익율을 자주 보여준다.\n",
    "- 동종업계의 평균 수익률보다 좋은 수익률을 보여준다.\n",
    "- 개인투자자보다는 투신/사모펀드 등이 매수를 많이 한다.\n",
    "\n",
    "마지막 가설(투자자)의 경우는 증권사 API 등을 활용하여 데이터를 추출을 해야하므로 별도의 공부가 필요합니다. 모델의 입력변수로 활용하지는 않겠습니다. "
   ]
  },
  {
   "cell_type": "markdown",
   "id": "a3f0b583-3701-4535-bbbf-8ba861d7d431",
   "metadata": {},
   "source": [
    "아래는 몇 가지 가설에 대한 차트 예시입니다. 우리가 데이터 분석으로 증명하고 싶은 것은 \"각 패턴이 통계적으로 유의미하게 자주 발생하는가?\" 입니다."
   ]
  },
  {
   "cell_type": "markdown",
   "id": "dbdaf438-63d4-4622-bd28-6513359b09f7",
   "metadata": {},
   "source": [
    "- **5일 이동 평균선이 오늘 종가보다 위에 위치해 있다.**     \n",
    "아래 3월 15일 노란색 부분을 매수 시점이라고 가정을 하면 5일 이동 평균선(녹색선)보다 종가가 아래에 위치해 있다가, 향후 이동평균선을 따라가는 모양을 보여주고 있습니다.\n",
    "<img src=\"../_images/종가가5일이평선보다아래.PNG\" width=\"800\" height=\"500\"></img>"
   ]
  },
  {
   "cell_type": "markdown",
   "id": "6b631950-8aa7-44f5-8bc5-a05e0c5dee6d",
   "metadata": {},
   "source": [
    "- **거래량이 종종 크게 터지며 매집의 흔적을 보인다.**    \n",
    "아래 차트에서 6월 10일 매수시점이라고 하면 급 상승 전에 거래량이 크게 자주 발생한 것을 확인할 수 있습니다.\n",
    "<img src=\"../_images/거래량이터지며매집흔적.PNG\" width=\"800\" height=\"500\"></img>"
   ]
  },
  {
   "cell_type": "markdown",
   "id": "68ffe996-9384-4f27-8c73-22aea6eb1012",
   "metadata": {},
   "source": [
    "- **위 꼬리가 긴 양봉이 자주 발생한다.**    \n",
    "아래 차트에서 2월 21일 매수시점이라고 하면 주가 상승전에 긴 꼬리 양봉이 자주 발생하는 것을 확인할 수 있습니다.\n",
    "<img src=\"../_images/위꼬리가긴양봉자주발생.PNG\" width=\"800\" height=\"500\"></img>"
   ]
  },
  {
   "cell_type": "markdown",
   "id": "83fddb56-e59a-4b07-9105-d71bd307417e",
   "metadata": {},
   "source": [
    "- **주가지수보다 더 좋은 수익율을 자주 보여준다.**    \n",
    "아래 2월 14일을 매수 시점으로 본다면 주가지수가 계속 하락하는 구간에서도 지에스이의 주가는 우상향하고 있었습니다. \n",
    "<img src=\"../_images/주가지수보다좋은수익률.PNG\" width=\"800\" height=\"400\"></img>"
   ]
  },
  {
   "cell_type": "code",
   "execution_count": null,
   "id": "5846e3c7-081a-4027-9c52-7d09597e6d95",
   "metadata": {},
   "outputs": [],
   "source": []
  }
 ],
 "metadata": {
  "kernelspec": {
   "display_name": "Python 3 (ipykernel)",
   "language": "python",
   "name": "python3"
  },
  "language_info": {
   "codemirror_mode": {
    "name": "ipython",
    "version": 3
   },
   "file_extension": ".py",
   "mimetype": "text/x-python",
   "name": "python",
   "nbconvert_exporter": "python",
   "pygments_lexer": "ipython3",
   "version": "3.9.7"
  }
 },
 "nbformat": 4,
 "nbformat_minor": 5
}
