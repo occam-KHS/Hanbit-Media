{
 "cells": [
  {
   "cell_type": "code",
   "execution_count": 7,
   "id": "ba72aee7-c16f-4c1a-b630-f19af1832a67",
   "metadata": {},
   "outputs": [
    {
     "data": {
      "text/plain": [
       "<aspose.words.saving.SaveOutputParameters object at 0x000002874B5A4450>"
      ]
     },
     "execution_count": 7,
     "metadata": {},
     "output_type": "execute_result"
    }
   ],
   "source": [
    "import aspose.words as aw\n",
    "\n",
    "path = 'C:\\\\Users\\\\shinki\\\\Hanbit_Media\\\\_build\\pdf\\\\'\n",
    "\n",
    "# Load the HTML file from disk\n",
    "doc = aw.Document(path + \"book.pdf\")\n",
    "\n",
    "# Save the HTML file as Word DOCX document\n",
    "doc.save(path + \"book.docx\")"
   ]
  },
  {
   "cell_type": "code",
   "execution_count": null,
   "id": "d3cef380-c7a6-45e1-b199-b1bb266e7bee",
   "metadata": {},
   "outputs": [],
   "source": []
  }
 ],
 "metadata": {
  "kernelspec": {
   "display_name": "Python 3 (ipykernel)",
   "language": "python",
   "name": "python3"
  },
  "language_info": {
   "codemirror_mode": {
    "name": "ipython",
    "version": 3
   },
   "file_extension": ".py",
   "mimetype": "text/x-python",
   "name": "python",
   "nbconvert_exporter": "python",
   "pygments_lexer": "ipython3",
   "version": "3.9.7"
  }
 },
 "nbformat": 4,
 "nbformat_minor": 5
}
