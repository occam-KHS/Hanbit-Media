{
 "cells": [
  {
   "cell_type": "markdown",
   "id": "f4ae94e4-30f8-49cd-b3d6-090fd3d51eab",
   "metadata": {
    "tags": []
   },
   "source": [
    "### **정보 수집 및 전문가 인터뷰**           \n",
    "  "
   ]
  },
  {
   "cell_type": "markdown",
   "id": "959dfefc-2048-4bda-ace8-edddfeb9073c",
   "metadata": {},
   "source": [
    "<br>   \n",
    "요즘은 유투브에 전문가들이 주식관련 동영상을 많이 올려주십니다. 다시한번 감사드립니다. 유투브가 아니였으면 주식관련된 정보를 얻는데 더 많은 시간이 필요했을 겁입니다. 캔들차트를 보여주시면서 이럴 때 주가가 상승하고, 저럴 때 하락한다 설명해주십니다. 저도 주식에 대한 문외한이라 다양한 컨텐츠를 봤습니다. 이 책의 목적은 데이터분석을 배워서 자신만의 추천모델을 만는 것이므로 분봉이나 틱 데이터가 필요한 정교한 모델(정확한 매수 매도 시점이 필요한 경우) 보다는 일봉으로도 충분히 모델링을 할 수 있는 단기 매매(1 주일이내 매도) 모델을 만들어 보겠습니다. 우리 주린이는 학습을 통해서 전문가의 지식을 최대한 이용해야 합니다. 사전 지식없이 모든 데이터를 다 모아서 분석하다가 생각지도 못한 좋은 통찰을 얻을 수 도 있습니다. 앞서 언급한 것과 같이 그것을 데이터 마이닝 접근법이라고 합니다. 마이닝을 통하여 전문가도 생각하지  못한 좋은 통찰을 얻을 수 도 있으나, 많은 시간과 노력이 필요합니다. 우리는 가설 수립 및 검정으로 신속하게 해결책을 찾아낼 것입니다.\n"
   ]
  }
 ],
 "metadata": {
  "kernelspec": {
   "display_name": "Python 3 (ipykernel)",
   "language": "python",
   "name": "python3"
  },
  "language_info": {
   "codemirror_mode": {
    "name": "ipython",
    "version": 3
   },
   "file_extension": ".py",
   "mimetype": "text/x-python",
   "name": "python",
   "nbconvert_exporter": "python",
   "pygments_lexer": "ipython3",
   "version": "3.9.7"
  }
 },
 "nbformat": 4,
 "nbformat_minor": 5
}
