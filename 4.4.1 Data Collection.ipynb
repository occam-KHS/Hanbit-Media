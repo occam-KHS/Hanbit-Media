{
 "cells": [
  {
   "cell_type": "code",
   "execution_count": 2,
   "metadata": {},
   "outputs": [],
   "source": [
    "import FinanceDataReader as fdr\n",
    "import matplotlib.pyplot as plt\n",
    "%matplotlib inline\n",
    "\n",
    "import FinanceDataReader as fdr \n",
    "import pandas as pd\n",
    "import numpy as np\n",
    "import requests\n",
    "import bs4\n",
    "\n",
    "pd.options.display.float_format = '{:,.3f}'.format"
   ]
  },
  {
   "cell_type": "markdown",
   "metadata": {},
   "source": [
    "### FinanceDataReader 로 일봉 데이터 가져오기\n",
    "가설 분석과 수익율 예측 모델링은 변동성이 큰 코스닥 종목만을 대상으로 하겠습니다. \n",
    "가설검정을 위하여 과거 수 개월치의 일봉데이터가 필요합니다. 우선 데이터를 종목별로 가져오기 위해서 FinanceDataReader 의 Stocklisting 메소드에서 코스닥의 종목 코드와 정보를 불러옵니다."
   ]
  },
  {
   "cell_type": "code",
   "execution_count": 16,
   "metadata": {},
   "outputs": [
    {
     "data": {
      "text/html": [
       "<div>\n",
       "<style scoped>\n",
       "    .dataframe tbody tr th:only-of-type {\n",
       "        vertical-align: middle;\n",
       "    }\n",
       "\n",
       "    .dataframe tbody tr th {\n",
       "        vertical-align: top;\n",
       "    }\n",
       "\n",
       "    .dataframe thead th {\n",
       "        text-align: right;\n",
       "    }\n",
       "</style>\n",
       "<table border=\"1\" class=\"dataframe\">\n",
       "  <thead>\n",
       "    <tr style=\"text-align: right;\">\n",
       "      <th></th>\n",
       "      <th>Symbol</th>\n",
       "      <th>Market</th>\n",
       "      <th>Name</th>\n",
       "      <th>Sector</th>\n",
       "      <th>Industry</th>\n",
       "      <th>ListingDate</th>\n",
       "      <th>SettleMonth</th>\n",
       "      <th>Representative</th>\n",
       "      <th>HomePage</th>\n",
       "      <th>Region</th>\n",
       "    </tr>\n",
       "  </thead>\n",
       "  <tbody>\n",
       "    <tr>\n",
       "      <th>0</th>\n",
       "      <td>060310</td>\n",
       "      <td>KOSDAQ</td>\n",
       "      <td>3S</td>\n",
       "      <td>전자부품 제조업</td>\n",
       "      <td>반도체 웨이퍼 캐리어</td>\n",
       "      <td>2002-04-23</td>\n",
       "      <td>03월</td>\n",
       "      <td>김세완</td>\n",
       "      <td>http://www.3sref.com</td>\n",
       "      <td>서울특별시</td>\n",
       "    </tr>\n",
       "    <tr>\n",
       "      <th>3</th>\n",
       "      <td>054620</td>\n",
       "      <td>KOSDAQ</td>\n",
       "      <td>APS홀딩스</td>\n",
       "      <td>기타 금융업</td>\n",
       "      <td>인터넷 트래픽 솔루션</td>\n",
       "      <td>2001-12-04</td>\n",
       "      <td>12월</td>\n",
       "      <td>정기로</td>\n",
       "      <td>http://www.apsholdings.co.kr</td>\n",
       "      <td>경기도</td>\n",
       "    </tr>\n",
       "    <tr>\n",
       "      <th>4</th>\n",
       "      <td>265520</td>\n",
       "      <td>KOSDAQ</td>\n",
       "      <td>AP시스템</td>\n",
       "      <td>특수 목적용 기계 제조업</td>\n",
       "      <td>디스플레이 제조 장비</td>\n",
       "      <td>2017-04-07</td>\n",
       "      <td>12월</td>\n",
       "      <td>김영주</td>\n",
       "      <td>http://www.apsystems.co.kr</td>\n",
       "      <td>경기도</td>\n",
       "    </tr>\n",
       "    <tr>\n",
       "      <th>5</th>\n",
       "      <td>211270</td>\n",
       "      <td>KOSDAQ</td>\n",
       "      <td>AP위성</td>\n",
       "      <td>통신 및 방송 장비 제조업</td>\n",
       "      <td>위성통신 단말기</td>\n",
       "      <td>2016-03-04</td>\n",
       "      <td>12월</td>\n",
       "      <td>류장수</td>\n",
       "      <td>http://www.apsi.co.kr</td>\n",
       "      <td>서울특별시</td>\n",
       "    </tr>\n",
       "    <tr>\n",
       "      <th>53</th>\n",
       "      <td>032790</td>\n",
       "      <td>KOSDAQ</td>\n",
       "      <td>BNGT</td>\n",
       "      <td>기계장비 및 관련 물품 도매업</td>\n",
       "      <td>Bio 이종장기 사업, ICT 프린터 현상기</td>\n",
       "      <td>1997-06-26</td>\n",
       "      <td>12월</td>\n",
       "      <td>조상환</td>\n",
       "      <td>http://www.mgenplus.com</td>\n",
       "      <td>서울특별시</td>\n",
       "    </tr>\n",
       "  </tbody>\n",
       "</table>\n",
       "</div>"
      ],
      "text/plain": [
       "    Symbol  Market    Name            Sector                  Industry  \\\n",
       "0   060310  KOSDAQ      3S          전자부품 제조업               반도체 웨이퍼 캐리어   \n",
       "3   054620  KOSDAQ  APS홀딩스            기타 금융업               인터넷 트래픽 솔루션   \n",
       "4   265520  KOSDAQ   AP시스템     특수 목적용 기계 제조업               디스플레이 제조 장비   \n",
       "5   211270  KOSDAQ    AP위성    통신 및 방송 장비 제조업                  위성통신 단말기   \n",
       "53  032790  KOSDAQ    BNGT  기계장비 및 관련 물품 도매업  Bio 이종장기 사업, ICT 프린터 현상기   \n",
       "\n",
       "   ListingDate SettleMonth Representative                      HomePage Region  \n",
       "0   2002-04-23         03월            김세완          http://www.3sref.com  서울특별시  \n",
       "3   2001-12-04         12월            정기로  http://www.apsholdings.co.kr    경기도  \n",
       "4   2017-04-07         12월            김영주    http://www.apsystems.co.kr    경기도  \n",
       "5   2016-03-04         12월            류장수         http://www.apsi.co.kr  서울특별시  \n",
       "53  1997-06-26         12월            조상환       http://www.mgenplus.com  서울특별시  "
      ]
     },
     "execution_count": 16,
     "metadata": {},
     "output_type": "execute_result"
    }
   ],
   "source": [
    "kosdaq_df = fdr.StockListing('KOSDAQ')\n",
    "kosdaq_df.head()"
   ]
  },
  {
   "cell_type": "markdown",
   "metadata": {},
   "source": [
    "<br> 섹터가 정의되지 않은 종목과 2021년 1월 1일 이후 상장된 종목은 제외하겠습니다. 종 1422 개의 종목이 있습니다. 독자분이 책을 보시는 시점에는 종목 수가 바뀌어 있을 것입니다.    \n",
    "kosdaq_df 에서 필요한 컬럼 'Symbol' 과 'Name' 두 개만 kosdaq_list 에 저장합니다. 그리고 종목코드 'Symbol' 과 'Name' 을 각 각 'code' 외 'name' 으로 바꿔줍니다. 그리고 나중을 위해서 결과물을 pickle 파일로 저장도 합니다."
   ]
  },
  {
   "cell_type": "code",
   "execution_count": 24,
   "metadata": {},
   "outputs": [
    {
     "name": "stdout",
     "output_type": "stream",
     "text": [
      "1574\n",
      "1422\n"
     ]
    }
   ],
   "source": [
    "print(kosdaq_df['Symbol'].nunique())\n",
    "\n",
    "c1 = (kosdaq_df['ListingDate']>'2021-01-01')\n",
    "c2 = (kosdaq_df['Sector'].isnull())\n",
    "print(kosdaq_df[~c1 & ~c2]['Symbol'].nunique())\n",
    "\n",
    "kosdaq_list = kosdaq_df[~c1 & ~c2][['Symbol','Name']].rename(columns={'Symbol':'code','Name':'name'})\n",
    "kosdaq_list.to_pickle('kosdaq_list.pkl')"
   ]
  },
  {
   "cell_type": "code",
   "execution_count": 57,
   "metadata": {},
   "outputs": [],
   "source": [
    "price_data = pd.DataFrame()\n",
    "\n",
    "for code, name in zip(kosdaq_list['code'], kosdaq_list['name']):  # 코스닥 모든 종목에서 대하여 반복\n",
    "    daily_price = fdr.DataReader(code,  start='2021-01-03', end='2022-03-31') # 종목, 일봉, 데이터 갯수\n",
    "    daily_price['code'] = code\n",
    "    daily_price['name'] = name\n",
    "    price_data = pd.concat([price_data, daily_price], axis=0)   \n",
    "\n",
    "price_data.index.name = 'date'\n",
    "price_data.columns= price_data.columns.str.lower() # 컬럼 이름 소문자로 변경\n",
    "price_data.to_pickle('stock_data_from_fdr.pkl')"
   ]
  },
  {
   "cell_type": "markdown",
   "metadata": {},
   "source": [
    "<br> 저장한 pickle 파일을 다시 읽어 첫 5 라인을 head 메소드로 찍어보면 아래와 같습니다. 여기서 date가 인덱스로 처리되어 있다는 것을 기억해주시면 좋습니다. 타이핑 편의를 위해 컬럼이름을 소문자료 변경하겠습니다.  "
   ]
  },
  {
   "cell_type": "code",
   "execution_count": 58,
   "metadata": {},
   "outputs": [
    {
     "data": {
      "text/html": [
       "<div>\n",
       "<style scoped>\n",
       "    .dataframe tbody tr th:only-of-type {\n",
       "        vertical-align: middle;\n",
       "    }\n",
       "\n",
       "    .dataframe tbody tr th {\n",
       "        vertical-align: top;\n",
       "    }\n",
       "\n",
       "    .dataframe thead th {\n",
       "        text-align: right;\n",
       "    }\n",
       "</style>\n",
       "<table border=\"1\" class=\"dataframe\">\n",
       "  <thead>\n",
       "    <tr style=\"text-align: right;\">\n",
       "      <th></th>\n",
       "      <th>open</th>\n",
       "      <th>high</th>\n",
       "      <th>low</th>\n",
       "      <th>close</th>\n",
       "      <th>volume</th>\n",
       "      <th>change</th>\n",
       "      <th>code</th>\n",
       "      <th>name</th>\n",
       "    </tr>\n",
       "    <tr>\n",
       "      <th>date</th>\n",
       "      <th></th>\n",
       "      <th></th>\n",
       "      <th></th>\n",
       "      <th></th>\n",
       "      <th></th>\n",
       "      <th></th>\n",
       "      <th></th>\n",
       "      <th></th>\n",
       "    </tr>\n",
       "  </thead>\n",
       "  <tbody>\n",
       "    <tr>\n",
       "      <th>2021-01-04</th>\n",
       "      <td>2185</td>\n",
       "      <td>2320</td>\n",
       "      <td>2135</td>\n",
       "      <td>2260</td>\n",
       "      <td>588133</td>\n",
       "      <td>0.043880</td>\n",
       "      <td>060310</td>\n",
       "      <td>3S</td>\n",
       "    </tr>\n",
       "    <tr>\n",
       "      <th>2021-01-05</th>\n",
       "      <td>2270</td>\n",
       "      <td>2285</td>\n",
       "      <td>2200</td>\n",
       "      <td>2250</td>\n",
       "      <td>410263</td>\n",
       "      <td>-0.004425</td>\n",
       "      <td>060310</td>\n",
       "      <td>3S</td>\n",
       "    </tr>\n",
       "    <tr>\n",
       "      <th>2021-01-06</th>\n",
       "      <td>2225</td>\n",
       "      <td>2310</td>\n",
       "      <td>2215</td>\n",
       "      <td>2290</td>\n",
       "      <td>570349</td>\n",
       "      <td>0.017778</td>\n",
       "      <td>060310</td>\n",
       "      <td>3S</td>\n",
       "    </tr>\n",
       "    <tr>\n",
       "      <th>2021-01-07</th>\n",
       "      <td>2290</td>\n",
       "      <td>2340</td>\n",
       "      <td>2240</td>\n",
       "      <td>2290</td>\n",
       "      <td>519777</td>\n",
       "      <td>0.000000</td>\n",
       "      <td>060310</td>\n",
       "      <td>3S</td>\n",
       "    </tr>\n",
       "    <tr>\n",
       "      <th>2021-01-08</th>\n",
       "      <td>2300</td>\n",
       "      <td>2315</td>\n",
       "      <td>2225</td>\n",
       "      <td>2245</td>\n",
       "      <td>462568</td>\n",
       "      <td>-0.019651</td>\n",
       "      <td>060310</td>\n",
       "      <td>3S</td>\n",
       "    </tr>\n",
       "  </tbody>\n",
       "</table>\n",
       "</div>"
      ],
      "text/plain": [
       "            open  high   low  close  volume    change    code name\n",
       "date                                                              \n",
       "2021-01-04  2185  2320  2135   2260  588133  0.043880  060310   3S\n",
       "2021-01-05  2270  2285  2200   2250  410263 -0.004425  060310   3S\n",
       "2021-01-06  2225  2310  2215   2290  570349  0.017778  060310   3S\n",
       "2021-01-07  2290  2340  2240   2290  519777  0.000000  060310   3S\n",
       "2021-01-08  2300  2315  2225   2245  462568 -0.019651  060310   3S"
      ]
     },
     "execution_count": 58,
     "metadata": {},
     "output_type": "execute_result"
    }
   ],
   "source": [
    "price_data = pd.read_pickle('stock_data_from_fdr.pkl')\n",
    "price_data.head()"
   ]
  },
  {
   "cell_type": "markdown",
   "metadata": {},
   "source": [
    "<br> 몇 개의 종목이 있고, 각 종목별 일봉의 갯 수 가 몇 개인지 확인해 보겠습니다. 종목 수는 1422 개, 307 개의 일봉이 있습니다."
   ]
  },
  {
   "cell_type": "code",
   "execution_count": 59,
   "metadata": {},
   "outputs": [
    {
     "name": "stdout",
     "output_type": "stream",
     "text": [
      "1422\n",
      "min    307\n",
      "max    307\n",
      "Name: close, dtype: int64\n"
     ]
    }
   ],
   "source": [
    "print(price_data['code'].nunique())\n",
    "print(price_data.groupby('code')['close'].count().agg(['min','max']))"
   ]
  },
  {
   "cell_type": "markdown",
   "metadata": {},
   "source": [
    "<br>"
   ]
  },
  {
   "cell_type": "markdown",
   "metadata": {},
   "source": [
    "### 네이버 증권 웹크롤링으로 일봉 가져오기\n",
    "이 번에는 네이버 증권 차트 _(네이버 차트 예시 필요)_ 에서 데이터를 가져오는 방법도 시도해 보겠습니다. 웹 크롤링은 코드가 복잡합니다. 첫 번째 방법인 FinanceDataReader 로 추출하는 방법을 추천드립니다.   \n",
    "다시 pickle 파일을 읽습니다. make_price_data 함수는 '종목', '추출단위', '데이터 건수' 를 인자로 네이버증권에서 데이터를 가져오는 함수입니다. 인자는 작은 따옴표에 넣어야 합니다. 셀트리온 헬스케어(091990) 의 일봉 데이터를 최근 300 일 가져오고 싶다면  make_price_data('091990', 'day', '300') 와 같이 호출합니다. 이 함수를 for 문을 이용해 모든 코스닥 종목에서 대하여 호출하고, 각 결과를 price_data 라는 데이터프레임에 담습니다. \n",
    "for 문을 돌리고 결과를 concat 함수로 연속으로 저장하는 방법은 자주 활용되는 기법입니다. "
   ]
  },
  {
   "cell_type": "code",
   "execution_count": 46,
   "metadata": {},
   "outputs": [],
   "source": [
    "# 네이버 증권 차트에서 데이터 크롤링\n",
    "\n",
    "kosdaq_list = pd.read_pickle('kosdaq_list.pkl')\n",
    "\n",
    "def make_price_data(code, name, timeframe, count):\n",
    "    url = 'https://fchart.stock.naver.com/sise.nhn?symbol=' + code + '&timeframe=' + timeframe + '&count=' + count + '&requestType=0'\n",
    "    price_data = requests.get(url)\n",
    "    price_data_bs = bs4.BeautifulSoup(price_data.text, 'lxml')\n",
    "    item_list = price_data_bs.find_all('item')\n",
    "\n",
    "    date_list = [] \n",
    "    open_list = []\n",
    "    high_list = []\n",
    "    low_list = []\n",
    "    close_list = []\n",
    "    trade_list = []\n",
    "\n",
    "    for item in item_list:\n",
    "        data = item['data'].split('|')\n",
    "        date_list.append(data[0])\n",
    "        open_list.append(data[1])\n",
    "        high_list.append(data[2])\n",
    "        low_list.append(data[3])\n",
    "        close_list.append(data[4])\n",
    "        trade_list.append(data[5])        \n",
    "\n",
    "    price_df = pd.DataFrame({'open': open_list, 'high': high_list, 'low': low_list, 'close': close_list, 'volume': trade_list}, index=date_list)            \n",
    "    price_df['code'] = code\n",
    "    price_df['name'] = name\n",
    "    num_vars = ['open','high','low','close','volume']\n",
    "    char_vars = ['code','name']\n",
    "    price_df = price_df.reindex(columns = char_vars + num_vars)\n",
    "\n",
    "    for var in num_vars:\n",
    "        price_df[var] = pd.to_numeric(price_df[var], errors='coerce')\n",
    "\n",
    "    price_df.index = pd.to_datetime(price_df.index, errors='coerce')\n",
    "\n",
    "    return price_df\n",
    "\n",
    "price_data = pd.DataFrame()\n",
    "\n",
    "for code, name in zip(kosdaq_list['code'], kosdaq_list['name']):  # 코스닥 모든 종목에서 대하여 반복\n",
    "    daily_price = make_price_data(code, name, 'day', '307') # 종목, 일봉, 데이터 갯수\n",
    "    price_data = pd.concat([price_data, daily_price], axis=0)   \n",
    "\n",
    "price_data.index.name = 'date'\n",
    "price_data.to_pickle('stock_data_from_naver.pkl')"
   ]
  },
  {
   "cell_type": "markdown",
   "metadata": {},
   "source": [
    "<br> 저장한 pickle 파일을 다시 읽어 첫 5 라인을 head 메소드로 찍어보면 아래와 같습니다. 여기서 date가 인덱스로 처리되어 있다는 것을 기억해주시면 좋습니다.  "
   ]
  },
  {
   "cell_type": "code",
   "execution_count": 47,
   "metadata": {},
   "outputs": [
    {
     "data": {
      "text/html": [
       "<div>\n",
       "<style scoped>\n",
       "    .dataframe tbody tr th:only-of-type {\n",
       "        vertical-align: middle;\n",
       "    }\n",
       "\n",
       "    .dataframe tbody tr th {\n",
       "        vertical-align: top;\n",
       "    }\n",
       "\n",
       "    .dataframe thead th {\n",
       "        text-align: right;\n",
       "    }\n",
       "</style>\n",
       "<table border=\"1\" class=\"dataframe\">\n",
       "  <thead>\n",
       "    <tr style=\"text-align: right;\">\n",
       "      <th></th>\n",
       "      <th>code</th>\n",
       "      <th>name</th>\n",
       "      <th>open</th>\n",
       "      <th>high</th>\n",
       "      <th>low</th>\n",
       "      <th>close</th>\n",
       "      <th>volume</th>\n",
       "    </tr>\n",
       "    <tr>\n",
       "      <th>date</th>\n",
       "      <th></th>\n",
       "      <th></th>\n",
       "      <th></th>\n",
       "      <th></th>\n",
       "      <th></th>\n",
       "      <th></th>\n",
       "      <th></th>\n",
       "    </tr>\n",
       "  </thead>\n",
       "  <tbody>\n",
       "    <tr>\n",
       "      <th>2021-02-08</th>\n",
       "      <td>060310</td>\n",
       "      <td>3S</td>\n",
       "      <td>2650</td>\n",
       "      <td>2655</td>\n",
       "      <td>2565</td>\n",
       "      <td>2610</td>\n",
       "      <td>663393</td>\n",
       "    </tr>\n",
       "    <tr>\n",
       "      <th>2021-02-09</th>\n",
       "      <td>060310</td>\n",
       "      <td>3S</td>\n",
       "      <td>2605</td>\n",
       "      <td>2745</td>\n",
       "      <td>2585</td>\n",
       "      <td>2735</td>\n",
       "      <td>964973</td>\n",
       "    </tr>\n",
       "    <tr>\n",
       "      <th>2021-02-10</th>\n",
       "      <td>060310</td>\n",
       "      <td>3S</td>\n",
       "      <td>2740</td>\n",
       "      <td>2765</td>\n",
       "      <td>2625</td>\n",
       "      <td>2730</td>\n",
       "      <td>520334</td>\n",
       "    </tr>\n",
       "    <tr>\n",
       "      <th>2021-02-15</th>\n",
       "      <td>060310</td>\n",
       "      <td>3S</td>\n",
       "      <td>2750</td>\n",
       "      <td>2765</td>\n",
       "      <td>2680</td>\n",
       "      <td>2720</td>\n",
       "      <td>488060</td>\n",
       "    </tr>\n",
       "    <tr>\n",
       "      <th>2021-02-16</th>\n",
       "      <td>060310</td>\n",
       "      <td>3S</td>\n",
       "      <td>2720</td>\n",
       "      <td>2745</td>\n",
       "      <td>2645</td>\n",
       "      <td>2715</td>\n",
       "      <td>453009</td>\n",
       "    </tr>\n",
       "  </tbody>\n",
       "</table>\n",
       "</div>"
      ],
      "text/plain": [
       "              code name  open  high   low  close  volume\n",
       "date                                                    \n",
       "2021-02-08  060310   3S  2650  2655  2565   2610  663393\n",
       "2021-02-09  060310   3S  2605  2745  2585   2735  964973\n",
       "2021-02-10  060310   3S  2740  2765  2625   2730  520334\n",
       "2021-02-15  060310   3S  2750  2765  2680   2720  488060\n",
       "2021-02-16  060310   3S  2720  2745  2645   2715  453009"
      ]
     },
     "execution_count": 47,
     "metadata": {},
     "output_type": "execute_result"
    }
   ],
   "source": [
    "price_data = pd.read_pickle('stock_data_from_naver.pkl')\n",
    "price_data.head()"
   ]
  },
  {
   "cell_type": "markdown",
   "metadata": {},
   "source": [
    "<br> 몇 개의 종목이 있고, 각 종목별 일봉의 갯 수 가 몇 개인지 확인해 보겠습니다. 종목 수는 1422 개, 307 개의 일봉이 있습니다."
   ]
  },
  {
   "cell_type": "code",
   "execution_count": 50,
   "metadata": {},
   "outputs": [
    {
     "name": "stdout",
     "output_type": "stream",
     "text": [
      "1422\n",
      "min    307\n",
      "max    307\n",
      "Name: close, dtype: int64\n"
     ]
    }
   ],
   "source": [
    "print(price_data['code'].nunique())\n",
    "print(price_data.groupby('code')['c.\n",
    "                                 lose'].count().agg(['min','max']))"
   ]
  }
 ],
 "metadata": {
  "kernelspec": {
   "display_name": "Python 3 (ipykernel)",
   "language": "python",
   "name": "python3"
  },
  "language_info": {
   "codemirror_mode": {
    "name": "ipython",
    "version": 3
   },
   "file_extension": ".py",
   "mimetype": "text/x-python",
   "name": "python",
   "nbconvert_exporter": "python",
   "pygments_lexer": "ipython3",
   "version": "3.9.7"
  }
 },
 "nbformat": 4,
 "nbformat_minor": 4
}
