{
 "cells": [
  {
   "cell_type": "code",
   "execution_count": 34,
   "id": "d658a5dc-7ab2-4e2a-b60a-e56b3444d1bd",
   "metadata": {},
   "outputs": [
    {
     "data": {
      "text/plain": [
       "<aspose.words.saving.SaveOutputParameters object at 0x000001AFF957A350>"
      ]
     },
     "execution_count": 34,
     "metadata": {},
     "output_type": "execute_result"
    }
   ],
   "source": [
    "import aspose.words as aw\n",
    "\n",
    "path = 'C:\\\\Users\\\\shinki\\\\OneDrive - Novelis Inc\\\\Documents\\\\Data Science\\\\10. Learning\\\\22. Hanbit Media\\\\pdf\\\\'\n",
    "doc = aw.Document(path + \"1.1.0.pdf\")\n",
    "doc.save(path + \"1.1.0.docx\")"
   ]
  },
  {
   "cell_type": "code",
   "execution_count": null,
   "id": "4349bda9-3f1b-4e4a-93b0-fdf88b64fcd6",
   "metadata": {},
   "outputs": [],
   "source": []
  }
 ],
 "metadata": {
  "kernelspec": {
   "display_name": "Python 3 (ipykernel)",
   "language": "python",
   "name": "python3"
  },
  "language_info": {
   "codemirror_mode": {
    "name": "ipython",
    "version": 3
   },
   "file_extension": ".py",
   "mimetype": "text/x-python",
   "name": "python",
   "nbconvert_exporter": "python",
   "pygments_lexer": "ipython3",
   "version": "3.9.7"
  }
 },
 "nbformat": 4,
 "nbformat_minor": 5
}
