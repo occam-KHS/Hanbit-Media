{
 "cells": [
  {
   "cell_type": "markdown",
   "id": "7daf7004-4187-4a44-bede-63cca1d262da",
   "metadata": {},
   "source": [
    "### If Condition\n",
    "파이썬의 조건문 if ~ else 형식으로 다른 컴퓨터 언어와 다르지 않습니다. 단지 else if 부분은 줄여서 elif 로 씁니다. 아래 예제를 보시면 쉽게 이해가 되실 것으로 생각합니다."
   ]
  },
  {
   "cell_type": "code",
   "execution_count": 27,
   "id": "f57c34df-e1a8-4678-9dd4-d94bb4844904",
   "metadata": {},
   "outputs": [
    {
     "name": "stdout",
     "output_type": "stream",
     "text": [
      "a > b\n"
     ]
    }
   ],
   "source": [
    "a = 3\n",
    "b = 2\n",
    "if a > b:\n",
    "    print('a > b')\n",
    "else:\n",
    "    print('a <= b')"
   ]
  },
  {
   "cell_type": "code",
   "execution_count": 28,
   "id": "9beb799e-52cb-4fc9-b4ef-393a1835811e",
   "metadata": {},
   "outputs": [
    {
     "name": "stdout",
     "output_type": "stream",
     "text": [
      "1 the number is less than 3\n",
      "2 the number is less than 3\n",
      "3 The number is 3\n",
      "4 The number is greater than 3\n",
      "5 The number is greater than 3\n",
      "6 The number is greater than 3\n"
     ]
    }
   ],
   "source": [
    "num_list = [1,2,3,4,5,6]\n",
    "\n",
    "for i in num_list:\n",
    "    if i < 3:\n",
    "        print(i, 'the number is less than 3')\n",
    "    elif i > 3:\n",
    "        print(i, 'The number is greater than 3')\n",
    "    else:\n",
    "        print(i, 'The number is 3')"
   ]
  },
  {
   "cell_type": "code",
   "execution_count": 30,
   "id": "3050dda1-fe8b-4673-9ea1-8342b37ccb72",
   "metadata": {},
   "outputs": [
    {
     "name": "stdout",
     "output_type": "stream",
     "text": [
      "1 the number is less than 3\n",
      "2 the number is less than 3\n",
      "3 The number is 3\n"
     ]
    }
   ],
   "source": [
    "for i in num_list:\n",
    "    if i < 3:\n",
    "        print(i, 'the number is less than 3')\n",
    "    elif i > 3:\n",
    "        pass  # 아무런 처리를 하지 않음\n",
    "    else:\n",
    "        print(i, 'The number is 3')"
   ]
  },
  {
   "cell_type": "code",
   "execution_count": null,
   "id": "8e2c67da-44d9-46c3-8082-a127f22c0a1b",
   "metadata": {},
   "outputs": [],
   "source": []
  }
 ],
 "metadata": {
  "kernelspec": {
   "display_name": "Python 3 (ipykernel)",
   "language": "python",
   "name": "python3"
  },
  "language_info": {
   "codemirror_mode": {
    "name": "ipython",
    "version": 3
   },
   "file_extension": ".py",
   "mimetype": "text/x-python",
   "name": "python",
   "nbconvert_exporter": "python",
   "pygments_lexer": "ipython3",
   "version": "3.9.7"
  }
 },
 "nbformat": 4,
 "nbformat_minor": 5
}
