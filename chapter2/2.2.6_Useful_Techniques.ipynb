{
 "cells": [
  {
   "cell_type": "markdown",
   "id": "157ed3b5-35d1-4f14-a1ea-0cf4fe67df84",
   "metadata": {},
   "source": [
    "### Shift\n",
    "Shift 은 이전 row 나 이후 row 에 있는 값을 가져올 수 있는 메소드입니다. 일단 삼성전자 일봉을 가져오겠습니다."
   ]
  },
  {
   "cell_type": "code",
   "execution_count": 6,
   "id": "71e5ba13-3d91-4ddd-9e4f-8b18c190a101",
   "metadata": {},
   "outputs": [
    {
     "data": {
      "text/html": [
       "<style type=\"text/css\">\n",
       "</style>\n",
       "<table id=\"T_4a764_\" style=\"font-size: 12px\">\n",
       "  <thead>\n",
       "    <tr>\n",
       "      <th class=\"blank level0\" >&nbsp;</th>\n",
       "      <th class=\"col_heading level0 col0\" >Open</th>\n",
       "      <th class=\"col_heading level0 col1\" >High</th>\n",
       "      <th class=\"col_heading level0 col2\" >Low</th>\n",
       "      <th class=\"col_heading level0 col3\" >Close</th>\n",
       "      <th class=\"col_heading level0 col4\" >Volume</th>\n",
       "      <th class=\"col_heading level0 col5\" >Change</th>\n",
       "    </tr>\n",
       "    <tr>\n",
       "      <th class=\"index_name level0\" >Date</th>\n",
       "      <th class=\"blank col0\" >&nbsp;</th>\n",
       "      <th class=\"blank col1\" >&nbsp;</th>\n",
       "      <th class=\"blank col2\" >&nbsp;</th>\n",
       "      <th class=\"blank col3\" >&nbsp;</th>\n",
       "      <th class=\"blank col4\" >&nbsp;</th>\n",
       "      <th class=\"blank col5\" >&nbsp;</th>\n",
       "    </tr>\n",
       "  </thead>\n",
       "  <tbody>\n",
       "    <tr>\n",
       "      <th id=\"T_4a764_level0_row0\" class=\"row_heading level0 row0\" >2021-01-04 00:00:00</th>\n",
       "      <td id=\"T_4a764_row0_col0\" class=\"data row0 col0\" >81000</td>\n",
       "      <td id=\"T_4a764_row0_col1\" class=\"data row0 col1\" >84400</td>\n",
       "      <td id=\"T_4a764_row0_col2\" class=\"data row0 col2\" >80200</td>\n",
       "      <td id=\"T_4a764_row0_col3\" class=\"data row0 col3\" >83000</td>\n",
       "      <td id=\"T_4a764_row0_col4\" class=\"data row0 col4\" >38655276</td>\n",
       "      <td id=\"T_4a764_row0_col5\" class=\"data row0 col5\" >0.024691</td>\n",
       "    </tr>\n",
       "    <tr>\n",
       "      <th id=\"T_4a764_level0_row1\" class=\"row_heading level0 row1\" >2021-01-05 00:00:00</th>\n",
       "      <td id=\"T_4a764_row1_col0\" class=\"data row1 col0\" >81600</td>\n",
       "      <td id=\"T_4a764_row1_col1\" class=\"data row1 col1\" >83900</td>\n",
       "      <td id=\"T_4a764_row1_col2\" class=\"data row1 col2\" >81600</td>\n",
       "      <td id=\"T_4a764_row1_col3\" class=\"data row1 col3\" >83900</td>\n",
       "      <td id=\"T_4a764_row1_col4\" class=\"data row1 col4\" >35335669</td>\n",
       "      <td id=\"T_4a764_row1_col5\" class=\"data row1 col5\" >0.010843</td>\n",
       "    </tr>\n",
       "    <tr>\n",
       "      <th id=\"T_4a764_level0_row2\" class=\"row_heading level0 row2\" >2021-01-06 00:00:00</th>\n",
       "      <td id=\"T_4a764_row2_col0\" class=\"data row2 col0\" >83300</td>\n",
       "      <td id=\"T_4a764_row2_col1\" class=\"data row2 col1\" >84500</td>\n",
       "      <td id=\"T_4a764_row2_col2\" class=\"data row2 col2\" >82100</td>\n",
       "      <td id=\"T_4a764_row2_col3\" class=\"data row2 col3\" >82200</td>\n",
       "      <td id=\"T_4a764_row2_col4\" class=\"data row2 col4\" >42089013</td>\n",
       "      <td id=\"T_4a764_row2_col5\" class=\"data row2 col5\" >-0.020262</td>\n",
       "    </tr>\n",
       "    <tr>\n",
       "      <th id=\"T_4a764_level0_row3\" class=\"row_heading level0 row3\" >2021-01-07 00:00:00</th>\n",
       "      <td id=\"T_4a764_row3_col0\" class=\"data row3 col0\" >82800</td>\n",
       "      <td id=\"T_4a764_row3_col1\" class=\"data row3 col1\" >84200</td>\n",
       "      <td id=\"T_4a764_row3_col2\" class=\"data row3 col2\" >82700</td>\n",
       "      <td id=\"T_4a764_row3_col3\" class=\"data row3 col3\" >82900</td>\n",
       "      <td id=\"T_4a764_row3_col4\" class=\"data row3 col4\" >32644642</td>\n",
       "      <td id=\"T_4a764_row3_col5\" class=\"data row3 col5\" >0.008516</td>\n",
       "    </tr>\n",
       "    <tr>\n",
       "      <th id=\"T_4a764_level0_row4\" class=\"row_heading level0 row4\" >2021-01-08 00:00:00</th>\n",
       "      <td id=\"T_4a764_row4_col0\" class=\"data row4 col0\" >83300</td>\n",
       "      <td id=\"T_4a764_row4_col1\" class=\"data row4 col1\" >90000</td>\n",
       "      <td id=\"T_4a764_row4_col2\" class=\"data row4 col2\" >83000</td>\n",
       "      <td id=\"T_4a764_row4_col3\" class=\"data row4 col3\" >88800</td>\n",
       "      <td id=\"T_4a764_row4_col4\" class=\"data row4 col4\" >59013307</td>\n",
       "      <td id=\"T_4a764_row4_col5\" class=\"data row4 col5\" >0.071170</td>\n",
       "    </tr>\n",
       "  </tbody>\n",
       "</table>\n"
      ],
      "text/plain": [
       "<pandas.io.formats.style.Styler at 0x14e71565940>"
      ]
     },
     "execution_count": 6,
     "metadata": {},
     "output_type": "execute_result"
    }
   ],
   "source": [
    "import FinanceDataReader as fdr \n",
    "\n",
    "code = '005930' # 삼성전자\n",
    "stock_data = fdr.DataReader(code, start='2021-01-03', end='2021-12-31') \n",
    "\n",
    "stock_data.head().style.set_table_attributes('style=\"font-size: 12px\"')"
   ]
  },
  {
   "cell_type": "markdown",
   "id": "4a7c52f6-34dc-4a12-a697-fdfa7b22db51",
   "metadata": {},
   "source": [
    "<br>\n",
    "일봉 데이터에서 전날의 종가를 당일로 가져와 보겠습니다. 아래 예제를 보시면 2021년 1월 5일 'Previous Close' 컬럼에 1월 4일 종가가 들어가 있습니다. 1월 4일은 전날이 없어서 NaN (값없음) 처리 되었습니다. "
   ]
  },
  {
   "cell_type": "code",
   "execution_count": 7,
   "id": "d8f993db-cb79-4528-af29-443971c73e70",
   "metadata": {},
   "outputs": [
    {
     "data": {
      "text/html": [
       "<style type=\"text/css\">\n",
       "</style>\n",
       "<table id=\"T_d9d39_\" style=\"font-size: 12px\">\n",
       "  <thead>\n",
       "    <tr>\n",
       "      <th class=\"blank level0\" >&nbsp;</th>\n",
       "      <th class=\"col_heading level0 col0\" >Open</th>\n",
       "      <th class=\"col_heading level0 col1\" >High</th>\n",
       "      <th class=\"col_heading level0 col2\" >Low</th>\n",
       "      <th class=\"col_heading level0 col3\" >Close</th>\n",
       "      <th class=\"col_heading level0 col4\" >Volume</th>\n",
       "      <th class=\"col_heading level0 col5\" >Change</th>\n",
       "      <th class=\"col_heading level0 col6\" >Previous Close</th>\n",
       "    </tr>\n",
       "    <tr>\n",
       "      <th class=\"index_name level0\" >Date</th>\n",
       "      <th class=\"blank col0\" >&nbsp;</th>\n",
       "      <th class=\"blank col1\" >&nbsp;</th>\n",
       "      <th class=\"blank col2\" >&nbsp;</th>\n",
       "      <th class=\"blank col3\" >&nbsp;</th>\n",
       "      <th class=\"blank col4\" >&nbsp;</th>\n",
       "      <th class=\"blank col5\" >&nbsp;</th>\n",
       "      <th class=\"blank col6\" >&nbsp;</th>\n",
       "    </tr>\n",
       "  </thead>\n",
       "  <tbody>\n",
       "    <tr>\n",
       "      <th id=\"T_d9d39_level0_row0\" class=\"row_heading level0 row0\" >2021-01-04 00:00:00</th>\n",
       "      <td id=\"T_d9d39_row0_col0\" class=\"data row0 col0\" >81000</td>\n",
       "      <td id=\"T_d9d39_row0_col1\" class=\"data row0 col1\" >84400</td>\n",
       "      <td id=\"T_d9d39_row0_col2\" class=\"data row0 col2\" >80200</td>\n",
       "      <td id=\"T_d9d39_row0_col3\" class=\"data row0 col3\" >83000</td>\n",
       "      <td id=\"T_d9d39_row0_col4\" class=\"data row0 col4\" >38655276</td>\n",
       "      <td id=\"T_d9d39_row0_col5\" class=\"data row0 col5\" >0.024691</td>\n",
       "      <td id=\"T_d9d39_row0_col6\" class=\"data row0 col6\" >nan</td>\n",
       "    </tr>\n",
       "    <tr>\n",
       "      <th id=\"T_d9d39_level0_row1\" class=\"row_heading level0 row1\" >2021-01-05 00:00:00</th>\n",
       "      <td id=\"T_d9d39_row1_col0\" class=\"data row1 col0\" >81600</td>\n",
       "      <td id=\"T_d9d39_row1_col1\" class=\"data row1 col1\" >83900</td>\n",
       "      <td id=\"T_d9d39_row1_col2\" class=\"data row1 col2\" >81600</td>\n",
       "      <td id=\"T_d9d39_row1_col3\" class=\"data row1 col3\" >83900</td>\n",
       "      <td id=\"T_d9d39_row1_col4\" class=\"data row1 col4\" >35335669</td>\n",
       "      <td id=\"T_d9d39_row1_col5\" class=\"data row1 col5\" >0.010843</td>\n",
       "      <td id=\"T_d9d39_row1_col6\" class=\"data row1 col6\" >83000.000000</td>\n",
       "    </tr>\n",
       "    <tr>\n",
       "      <th id=\"T_d9d39_level0_row2\" class=\"row_heading level0 row2\" >2021-01-06 00:00:00</th>\n",
       "      <td id=\"T_d9d39_row2_col0\" class=\"data row2 col0\" >83300</td>\n",
       "      <td id=\"T_d9d39_row2_col1\" class=\"data row2 col1\" >84500</td>\n",
       "      <td id=\"T_d9d39_row2_col2\" class=\"data row2 col2\" >82100</td>\n",
       "      <td id=\"T_d9d39_row2_col3\" class=\"data row2 col3\" >82200</td>\n",
       "      <td id=\"T_d9d39_row2_col4\" class=\"data row2 col4\" >42089013</td>\n",
       "      <td id=\"T_d9d39_row2_col5\" class=\"data row2 col5\" >-0.020262</td>\n",
       "      <td id=\"T_d9d39_row2_col6\" class=\"data row2 col6\" >83900.000000</td>\n",
       "    </tr>\n",
       "    <tr>\n",
       "      <th id=\"T_d9d39_level0_row3\" class=\"row_heading level0 row3\" >2021-01-07 00:00:00</th>\n",
       "      <td id=\"T_d9d39_row3_col0\" class=\"data row3 col0\" >82800</td>\n",
       "      <td id=\"T_d9d39_row3_col1\" class=\"data row3 col1\" >84200</td>\n",
       "      <td id=\"T_d9d39_row3_col2\" class=\"data row3 col2\" >82700</td>\n",
       "      <td id=\"T_d9d39_row3_col3\" class=\"data row3 col3\" >82900</td>\n",
       "      <td id=\"T_d9d39_row3_col4\" class=\"data row3 col4\" >32644642</td>\n",
       "      <td id=\"T_d9d39_row3_col5\" class=\"data row3 col5\" >0.008516</td>\n",
       "      <td id=\"T_d9d39_row3_col6\" class=\"data row3 col6\" >82200.000000</td>\n",
       "    </tr>\n",
       "    <tr>\n",
       "      <th id=\"T_d9d39_level0_row4\" class=\"row_heading level0 row4\" >2021-01-08 00:00:00</th>\n",
       "      <td id=\"T_d9d39_row4_col0\" class=\"data row4 col0\" >83300</td>\n",
       "      <td id=\"T_d9d39_row4_col1\" class=\"data row4 col1\" >90000</td>\n",
       "      <td id=\"T_d9d39_row4_col2\" class=\"data row4 col2\" >83000</td>\n",
       "      <td id=\"T_d9d39_row4_col3\" class=\"data row4 col3\" >88800</td>\n",
       "      <td id=\"T_d9d39_row4_col4\" class=\"data row4 col4\" >59013307</td>\n",
       "      <td id=\"T_d9d39_row4_col5\" class=\"data row4 col5\" >0.071170</td>\n",
       "      <td id=\"T_d9d39_row4_col6\" class=\"data row4 col6\" >82900.000000</td>\n",
       "    </tr>\n",
       "    <tr>\n",
       "      <th id=\"T_d9d39_level0_row5\" class=\"row_heading level0 row5\" >2021-01-11 00:00:00</th>\n",
       "      <td id=\"T_d9d39_row5_col0\" class=\"data row5 col0\" >90000</td>\n",
       "      <td id=\"T_d9d39_row5_col1\" class=\"data row5 col1\" >96800</td>\n",
       "      <td id=\"T_d9d39_row5_col2\" class=\"data row5 col2\" >89500</td>\n",
       "      <td id=\"T_d9d39_row5_col3\" class=\"data row5 col3\" >91000</td>\n",
       "      <td id=\"T_d9d39_row5_col4\" class=\"data row5 col4\" >90306177</td>\n",
       "      <td id=\"T_d9d39_row5_col5\" class=\"data row5 col5\" >0.024775</td>\n",
       "      <td id=\"T_d9d39_row5_col6\" class=\"data row5 col6\" >88800.000000</td>\n",
       "    </tr>\n",
       "  </tbody>\n",
       "</table>\n"
      ],
      "text/plain": [
       "<pandas.io.formats.style.Styler at 0x14e6ec2af40>"
      ]
     },
     "execution_count": 7,
     "metadata": {},
     "output_type": "execute_result"
    }
   ],
   "source": [
    "stock_data['Previous Close'] = stock_data['Close'].shift(1)\n",
    "stock_data.head(6).style.set_table_attributes('style=\"font-size: 12px\"')"
   ]
  },
  {
   "cell_type": "markdown",
   "id": "a045eb54-7332-44e1-874d-a40bc9bbb1d8",
   "metadata": {},
   "source": [
    "<br>\n",
    "이제 아주 단순한 전략을 구현해 보겠습니다. 구현해 볼 단순 전략은 '전날 종가보다 오늘 종가가 높으면 내일 시가에 매수하고 내일 종가에 매도' 입니다. 결과가 어떨지 정말 궁금합니다. 이 전략을 구현하면 수익율이 어떻게 될 지 테스트 해보겠습니다. 먼저 전날 종가보다 오늘 종가가 높은 날을 찾아야 합니다. 전날 종가는 이미 만들어서 'Previous Close' 컬럼에 저장해 두었습니다. 오늘 종가와 전날 종가를 비교한 후, True 이면 1 되도록 하겠습니다. 조건 (stock_data['Close'] > stock_data['Previous Close']) 는 True/False 를 반환합니다. 그래서, astype(int) 를 이용해서 정수로 변환합니다.\n",
    "\n",
    "그 다음 수익율 데이터를 만들어 보겠습니다. 내일의 시가는 stock_data['Open'].shift(-1), 내일의 종가는 stock_data['Close'].shift(-1) 로 가져오면 됩니다. 결과를 컬럼 'return' 에 넣겠습니다. shift(1) 는 전날의 정보를 shift(-1) 은 다음날의 데이터를 가져옵니다. \n"
   ]
  },
  {
   "cell_type": "code",
   "execution_count": 8,
   "id": "052efbcd-a0c3-4117-a204-846554b955b3",
   "metadata": {},
   "outputs": [
    {
     "data": {
      "text/html": [
       "<style type=\"text/css\">\n",
       "</style>\n",
       "<table id=\"T_b58b8_\" style=\"font-size: 12px\">\n",
       "  <thead>\n",
       "    <tr>\n",
       "      <th class=\"blank level0\" >&nbsp;</th>\n",
       "      <th class=\"col_heading level0 col0\" >Open</th>\n",
       "      <th class=\"col_heading level0 col1\" >High</th>\n",
       "      <th class=\"col_heading level0 col2\" >Low</th>\n",
       "      <th class=\"col_heading level0 col3\" >Close</th>\n",
       "      <th class=\"col_heading level0 col4\" >Volume</th>\n",
       "      <th class=\"col_heading level0 col5\" >Change</th>\n",
       "      <th class=\"col_heading level0 col6\" >Previous Close</th>\n",
       "      <th class=\"col_heading level0 col7\" >buy</th>\n",
       "      <th class=\"col_heading level0 col8\" >return</th>\n",
       "    </tr>\n",
       "    <tr>\n",
       "      <th class=\"index_name level0\" >Date</th>\n",
       "      <th class=\"blank col0\" >&nbsp;</th>\n",
       "      <th class=\"blank col1\" >&nbsp;</th>\n",
       "      <th class=\"blank col2\" >&nbsp;</th>\n",
       "      <th class=\"blank col3\" >&nbsp;</th>\n",
       "      <th class=\"blank col4\" >&nbsp;</th>\n",
       "      <th class=\"blank col5\" >&nbsp;</th>\n",
       "      <th class=\"blank col6\" >&nbsp;</th>\n",
       "      <th class=\"blank col7\" >&nbsp;</th>\n",
       "      <th class=\"blank col8\" >&nbsp;</th>\n",
       "    </tr>\n",
       "  </thead>\n",
       "  <tbody>\n",
       "    <tr>\n",
       "      <th id=\"T_b58b8_level0_row0\" class=\"row_heading level0 row0\" >2021-01-04 00:00:00</th>\n",
       "      <td id=\"T_b58b8_row0_col0\" class=\"data row0 col0\" >81000</td>\n",
       "      <td id=\"T_b58b8_row0_col1\" class=\"data row0 col1\" >84400</td>\n",
       "      <td id=\"T_b58b8_row0_col2\" class=\"data row0 col2\" >80200</td>\n",
       "      <td id=\"T_b58b8_row0_col3\" class=\"data row0 col3\" >83000</td>\n",
       "      <td id=\"T_b58b8_row0_col4\" class=\"data row0 col4\" >38655276</td>\n",
       "      <td id=\"T_b58b8_row0_col5\" class=\"data row0 col5\" >0.024691</td>\n",
       "      <td id=\"T_b58b8_row0_col6\" class=\"data row0 col6\" >nan</td>\n",
       "      <td id=\"T_b58b8_row0_col7\" class=\"data row0 col7\" >0</td>\n",
       "      <td id=\"T_b58b8_row0_col8\" class=\"data row0 col8\" >1.028186</td>\n",
       "    </tr>\n",
       "    <tr>\n",
       "      <th id=\"T_b58b8_level0_row1\" class=\"row_heading level0 row1\" >2021-01-05 00:00:00</th>\n",
       "      <td id=\"T_b58b8_row1_col0\" class=\"data row1 col0\" >81600</td>\n",
       "      <td id=\"T_b58b8_row1_col1\" class=\"data row1 col1\" >83900</td>\n",
       "      <td id=\"T_b58b8_row1_col2\" class=\"data row1 col2\" >81600</td>\n",
       "      <td id=\"T_b58b8_row1_col3\" class=\"data row1 col3\" >83900</td>\n",
       "      <td id=\"T_b58b8_row1_col4\" class=\"data row1 col4\" >35335669</td>\n",
       "      <td id=\"T_b58b8_row1_col5\" class=\"data row1 col5\" >0.010843</td>\n",
       "      <td id=\"T_b58b8_row1_col6\" class=\"data row1 col6\" >83000.000000</td>\n",
       "      <td id=\"T_b58b8_row1_col7\" class=\"data row1 col7\" >1</td>\n",
       "      <td id=\"T_b58b8_row1_col8\" class=\"data row1 col8\" >0.986795</td>\n",
       "    </tr>\n",
       "    <tr>\n",
       "      <th id=\"T_b58b8_level0_row2\" class=\"row_heading level0 row2\" >2021-01-06 00:00:00</th>\n",
       "      <td id=\"T_b58b8_row2_col0\" class=\"data row2 col0\" >83300</td>\n",
       "      <td id=\"T_b58b8_row2_col1\" class=\"data row2 col1\" >84500</td>\n",
       "      <td id=\"T_b58b8_row2_col2\" class=\"data row2 col2\" >82100</td>\n",
       "      <td id=\"T_b58b8_row2_col3\" class=\"data row2 col3\" >82200</td>\n",
       "      <td id=\"T_b58b8_row2_col4\" class=\"data row2 col4\" >42089013</td>\n",
       "      <td id=\"T_b58b8_row2_col5\" class=\"data row2 col5\" >-0.020262</td>\n",
       "      <td id=\"T_b58b8_row2_col6\" class=\"data row2 col6\" >83900.000000</td>\n",
       "      <td id=\"T_b58b8_row2_col7\" class=\"data row2 col7\" >0</td>\n",
       "      <td id=\"T_b58b8_row2_col8\" class=\"data row2 col8\" >1.001208</td>\n",
       "    </tr>\n",
       "    <tr>\n",
       "      <th id=\"T_b58b8_level0_row3\" class=\"row_heading level0 row3\" >2021-01-07 00:00:00</th>\n",
       "      <td id=\"T_b58b8_row3_col0\" class=\"data row3 col0\" >82800</td>\n",
       "      <td id=\"T_b58b8_row3_col1\" class=\"data row3 col1\" >84200</td>\n",
       "      <td id=\"T_b58b8_row3_col2\" class=\"data row3 col2\" >82700</td>\n",
       "      <td id=\"T_b58b8_row3_col3\" class=\"data row3 col3\" >82900</td>\n",
       "      <td id=\"T_b58b8_row3_col4\" class=\"data row3 col4\" >32644642</td>\n",
       "      <td id=\"T_b58b8_row3_col5\" class=\"data row3 col5\" >0.008516</td>\n",
       "      <td id=\"T_b58b8_row3_col6\" class=\"data row3 col6\" >82200.000000</td>\n",
       "      <td id=\"T_b58b8_row3_col7\" class=\"data row3 col7\" >1</td>\n",
       "      <td id=\"T_b58b8_row3_col8\" class=\"data row3 col8\" >1.066026</td>\n",
       "    </tr>\n",
       "    <tr>\n",
       "      <th id=\"T_b58b8_level0_row4\" class=\"row_heading level0 row4\" >2021-01-08 00:00:00</th>\n",
       "      <td id=\"T_b58b8_row4_col0\" class=\"data row4 col0\" >83300</td>\n",
       "      <td id=\"T_b58b8_row4_col1\" class=\"data row4 col1\" >90000</td>\n",
       "      <td id=\"T_b58b8_row4_col2\" class=\"data row4 col2\" >83000</td>\n",
       "      <td id=\"T_b58b8_row4_col3\" class=\"data row4 col3\" >88800</td>\n",
       "      <td id=\"T_b58b8_row4_col4\" class=\"data row4 col4\" >59013307</td>\n",
       "      <td id=\"T_b58b8_row4_col5\" class=\"data row4 col5\" >0.071170</td>\n",
       "      <td id=\"T_b58b8_row4_col6\" class=\"data row4 col6\" >82900.000000</td>\n",
       "      <td id=\"T_b58b8_row4_col7\" class=\"data row4 col7\" >1</td>\n",
       "      <td id=\"T_b58b8_row4_col8\" class=\"data row4 col8\" >1.011111</td>\n",
       "    </tr>\n",
       "    <tr>\n",
       "      <th id=\"T_b58b8_level0_row5\" class=\"row_heading level0 row5\" >2021-01-11 00:00:00</th>\n",
       "      <td id=\"T_b58b8_row5_col0\" class=\"data row5 col0\" >90000</td>\n",
       "      <td id=\"T_b58b8_row5_col1\" class=\"data row5 col1\" >96800</td>\n",
       "      <td id=\"T_b58b8_row5_col2\" class=\"data row5 col2\" >89500</td>\n",
       "      <td id=\"T_b58b8_row5_col3\" class=\"data row5 col3\" >91000</td>\n",
       "      <td id=\"T_b58b8_row5_col4\" class=\"data row5 col4\" >90306177</td>\n",
       "      <td id=\"T_b58b8_row5_col5\" class=\"data row5 col5\" >0.024775</td>\n",
       "      <td id=\"T_b58b8_row5_col6\" class=\"data row5 col6\" >88800.000000</td>\n",
       "      <td id=\"T_b58b8_row5_col7\" class=\"data row5 col7\" >1</td>\n",
       "      <td id=\"T_b58b8_row5_col8\" class=\"data row5 col8\" >1.003322</td>\n",
       "    </tr>\n",
       "  </tbody>\n",
       "</table>\n"
      ],
      "text/plain": [
       "<pandas.io.formats.style.Styler at 0x14e6ece0f40>"
      ]
     },
     "execution_count": 8,
     "metadata": {},
     "output_type": "execute_result"
    }
   ],
   "source": [
    "stock_data['buy'] = (stock_data['Close'] > stock_data['Previous Close']).astype(int) # 매수 시그널 생성\n",
    "stock_data['return'] = stock_data['Close'].shift(-1) / stock_data['Open'].shift(-1) # 전략의 수익율\n",
    "stock_data.head(6).style.set_table_attributes('style=\"font-size: 12px\"')"
   ]
  },
  {
   "cell_type": "markdown",
   "id": "45a5e923-0887-4ae8-af0e-118ab3664b9b",
   "metadata": {},
   "source": [
    "<br>\n",
    "이제 buy 시그널이 1 인 날의 수익율과 0 인 날의 수익율을 groupby 을 이용해서 비교해보겠습니다. 결과가 실망입니다. 좋은 전략이 아닌 것 같습니다. 100 원을 투자했으면 평균 기대수익율이 99.8 원입니다. 여기서 평균 수익율은 buy 가 1 인 날 중 랜덤한 날에 투자했을 때 기대할 수 있는 수익율이 0.998 (0.2% 손실) 이라는 의미입니다.  describe 메소드로 수익율의 분포도 확인해 보겠습니다. buy 가 1 인 날(매수)은 0 인 날에 비하여 평균도 낮고, 변동성(std) 이 더 큽니다. 차라리 전날 종가보다 오늘 종가가 높을 때 매수하는 것이 더 좋을 것 같습니다. "
   ]
  },
  {
   "cell_type": "code",
   "execution_count": 9,
   "id": "9662e5bd-dc21-469b-8184-146fe19cb9b3",
   "metadata": {},
   "outputs": [
    {
     "name": "stdout",
     "output_type": "stream",
     "text": [
      "buy\n",
      "0   0.999\n",
      "1   0.998\n",
      "Name: return, dtype: float64\n",
      "\n",
      "\n",
      "      count  mean   std   min   25%   50%   75%   max\n",
      "buy                                                  \n",
      "0   136.000 0.999 0.011 0.970 0.992 1.000 1.005 1.033\n",
      "1   110.000 0.998 0.013 0.975 0.990 0.997 1.004 1.066\n"
     ]
    }
   ],
   "source": [
    "import pandas as pd\n",
    "pd.options.display.float_format = '{:,.3f}'.format\n",
    "\n",
    "stock_data.dropna(inplace=True) # NaN(값 없음) 열 전부 제거\n",
    "print(stock_data.groupby('buy')['return'].mean()) # 평균 비교\n",
    "print('\\n')\n",
    "print(stock_data.groupby('buy')['return'].describe()) # 분포 비교"
   ]
  },
  {
   "cell_type": "markdown",
   "id": "b8f494ca-04e9-4816-babb-7a3477cac1b9",
   "metadata": {},
   "source": [
    "<br>\n",
    "위에서 구현한 단순 전략은 손실을 보는 전략입니다. 이번에는 만약 우리가 100 원을 투자했으면 110 영업일 이후에 얼마나 손해를 보는 지 확인 해 보겠습니다. 위 describe 결과에서 buy 가 1 인 날은 110일 입니다. 이번에 쓸 메소드는 prod 입니\n",
    "다. prod 는 값을 다 곱하라는 뜻입니다. 만약 당일 수익율이 0.9 이고 다음날 1.1 이면, 최종 수익율은 0.99 (=0.9 x 1.1) 가 됩니다. 아래 결과에서와 같이 단순 전략으로 2021년 초에 삼성전자에 100원을 투자하면 110 일 이후인 2021년 연말에는 잔고가 81.1 원이 됩니다. 약 19% 의 손실이 발생했습니다."
   ]
  },
  {
   "cell_type": "code",
   "execution_count": 10,
   "id": "c8bed123-85d3-4b8b-a042-b5bcc92e4e07",
   "metadata": {},
   "outputs": [
    {
     "name": "stdout",
     "output_type": "stream",
     "text": [
      "buy\n",
      "0   0.843\n",
      "1   0.811\n",
      "Name: return, dtype: float64\n"
     ]
    }
   ],
   "source": [
    "print(stock_data.groupby('buy')['return'].prod())"
   ]
  },
  {
   "cell_type": "code",
   "execution_count": null,
   "id": "947ee6cd-d569-4efb-bf78-48d3a1f7677e",
   "metadata": {},
   "outputs": [],
   "source": []
  }
 ],
 "metadata": {
  "kernelspec": {
   "display_name": "Python 3 (ipykernel)",
   "language": "python",
   "name": "python3"
  },
  "language_info": {
   "codemirror_mode": {
    "name": "ipython",
    "version": 3
   },
   "file_extension": ".py",
   "mimetype": "text/x-python",
   "name": "python",
   "nbconvert_exporter": "python",
   "pygments_lexer": "ipython3",
   "version": "3.9.7"
  }
 },
 "nbformat": 4,
 "nbformat_minor": 5
}
