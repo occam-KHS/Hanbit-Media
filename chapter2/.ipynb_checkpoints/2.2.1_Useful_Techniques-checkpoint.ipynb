{
 "cells": [
  {
   "cell_type": "markdown",
   "id": "a899d7ec-2641-4b5e-aee9-ad11dc185324",
   "metadata": {},
   "source": [
    "### Append \n",
    "append 는 반복문에서 발생하는 값을 순차적으로 모으는데 유용합니다. 아래 예제는 반복문에서 추출된 원소에 두제곱한 값을 계속 v_list 리스트에 추가하는 코드입니다. "
   ]
  },
  {
   "cell_type": "code",
   "execution_count": 2,
   "id": "54067a4a-210d-4719-9604-ea0fab2b0d4b",
   "metadata": {},
   "outputs": [
    {
     "name": "stdout",
     "output_type": "stream",
     "text": [
      "[1, 4, 9, 16, 25]\n"
     ]
    }
   ],
   "source": [
    "v_list = []\n",
    "\n",
    "aa = [1, 2, 3, 4, 5]\n",
    "\n",
    "for a in aa:\n",
    "    v_list.append(a**2)\n",
    "    \n",
    "print(v_list)    "
   ]
  },
  {
   "cell_type": "markdown",
   "id": "aa0fc86d-e327-4046-972d-753a91a01e25",
   "metadata": {},
   "source": [
    "<br>\n",
    "아래는 DataFrame 의 'c1' 컬럼을 List로 만들어, 반복을 수행합니다. 'c1' 의 제곱 값을 r_list 에 담은 후, 결과 값을 원래 DataFrame 에 'c3' Column 으로 추가하는 코드입니다."
   ]
  },
  {
   "cell_type": "code",
   "execution_count": 4,
   "id": "f907789f-9f78-4c3b-88f9-a2553f98ff43",
   "metadata": {},
   "outputs": [
    {
     "name": "stdout",
     "output_type": "stream",
     "text": [
      "   c1 c2   c3\n",
      "0  11  a  121\n",
      "1  12  b  144\n",
      "2  13  c  169\n",
      "3  14  d  196\n",
      "4  15  e  225\n"
     ]
    }
   ],
   "source": [
    "import pandas as pd\n",
    "\n",
    "r_list = []\n",
    "\n",
    "c1_list = [11,12,13,14,15]\n",
    "c2_list = ['a','b','c','d','e']\n",
    "\n",
    "df1 = pd.DataFrame({'c1': c1_list, 'c2': c2_list})\n",
    "\n",
    "for i in list(df1['c1']): # List 함수가 꼭 필요하지는 않음  df1['c1'] => [11,12,13,14,15]\n",
    "    r_list.append(i**2)\n",
    "    \n",
    "df1['c3'] = r_list # r_list 갯수와 df1 갯수가 동일해야 함\n",
    "print(df1)"
   ]
  },
  {
   "cell_type": "markdown",
   "id": "3347e808-4e4c-4302-bace-8df2f2f374b0",
   "metadata": {},
   "source": [
    "<br>\n",
    "아래와 같은 방식으로 처리를 해도 동일한 df1 가 생성됩니다."
   ]
  },
  {
   "cell_type": "code",
   "execution_count": 6,
   "id": "e9730493-0ecb-4eab-a2fa-db0c783ab75c",
   "metadata": {},
   "outputs": [
    {
     "name": "stdout",
     "output_type": "stream",
     "text": [
      "   c1 c2   c3\n",
      "0  11  a  121\n",
      "1  12  b  144\n",
      "2  13  c  169\n",
      "3  14  d  196\n",
      "4  15  e  225\n"
     ]
    }
   ],
   "source": [
    "import pandas as pd\n",
    "\n",
    "c1_list = [11,12,13,14,15]\n",
    "c2_list = ['a','b','c','d','e']\n",
    "df1 = pd.DataFrame({'c1': c1_list, 'c2': c2_list})\n",
    "\n",
    "df1['c3'] = df1['c1']**2\n",
    "print(df1)"
   ]
  },
  {
   "cell_type": "code",
   "execution_count": null,
   "id": "33f717a6-11f3-4288-a83f-50a513b4a450",
   "metadata": {},
   "outputs": [],
   "source": []
  }
 ],
 "metadata": {
  "kernelspec": {
   "display_name": "Python 3 (ipykernel)",
   "language": "python",
   "name": "python3"
  },
  "language_info": {
   "codemirror_mode": {
    "name": "ipython",
    "version": 3
   },
   "file_extension": ".py",
   "mimetype": "text/x-python",
   "name": "python",
   "nbconvert_exporter": "python",
   "pygments_lexer": "ipython3",
   "version": "3.9.7"
  }
 },
 "nbformat": 4,
 "nbformat_minor": 5
}
