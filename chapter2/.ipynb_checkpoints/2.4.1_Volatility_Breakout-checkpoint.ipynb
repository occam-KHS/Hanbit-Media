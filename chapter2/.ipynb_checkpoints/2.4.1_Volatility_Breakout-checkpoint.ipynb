{
 "cells": [
  {
   "cell_type": "markdown",
   "id": "68b5c6f7-2d9d-4b0c-9241-16b9bc9e61cc",
   "metadata": {},
   "source": [
    "### **변동성 돌파전략 구현**     \n",
    "\n",
    "여기까지 배운 내용을 토대로 래리윌리암스의 변동성 돌파전략을 구현해보겠습니다."
   ]
  },
  {
   "cell_type": "markdown",
   "id": "4d3ec317-1831-4f17-bcc9-d062a62a11e4",
   "metadata": {},
   "source": [
    "### 변동성 돌파전략 \n",
    "변동성 돌파전략은 래리 윌리암스가 개발한 전략인데요. 이 전략으로 윌리암스는 주식투자 대회에서 많은 상을 받았다고 하네요. 심지어 딸에게 이 전략을 전수해 주었다고 합니다. 전략은 아주 간단합니다. '전날 고가와 저가의 차'에 상수 K (0.4 ~ 0.6) 를 곱하여 변동성 값 V 를 만듭니다. 그리고 당일 장이 시작하면 시가에 이 변동성 값 V 를 더한 값을 매수 가격으로 설정합니다. 장 중에 매수 가격을 돌파하면 무조건 매수합니다. 그리고 다음날 장 시작할 때 전량 매도하는 전략입니다. 다음 링크는 변동성 돌파전략에 관련하여 참고할만한 블로그 입니다. https://blog.naver.com/niolpa/222436997945 다시 삼성전자 일봉을 가져옵니다."
   ]
  },
  {
   "cell_type": "code",
   "execution_count": 13,
   "id": "ec14c584-bad9-4b0a-8560-747aaab13a90",
   "metadata": {},
   "outputs": [
    {
     "data": {
      "text/html": [
       "<div>\n",
       "<style scoped>\n",
       "    .dataframe tbody tr th:only-of-type {\n",
       "        vertical-align: middle;\n",
       "    }\n",
       "\n",
       "    .dataframe tbody tr th {\n",
       "        vertical-align: top;\n",
       "    }\n",
       "\n",
       "    .dataframe thead th {\n",
       "        text-align: right;\n",
       "    }\n",
       "</style>\n",
       "<table border=\"1\" class=\"dataframe\">\n",
       "  <thead>\n",
       "    <tr style=\"text-align: right;\">\n",
       "      <th></th>\n",
       "      <th>Open</th>\n",
       "      <th>High</th>\n",
       "      <th>Low</th>\n",
       "      <th>Close</th>\n",
       "      <th>Volume</th>\n",
       "      <th>Change</th>\n",
       "    </tr>\n",
       "    <tr>\n",
       "      <th>Date</th>\n",
       "      <th></th>\n",
       "      <th></th>\n",
       "      <th></th>\n",
       "      <th></th>\n",
       "      <th></th>\n",
       "      <th></th>\n",
       "    </tr>\n",
       "  </thead>\n",
       "  <tbody>\n",
       "    <tr>\n",
       "      <th>2021-01-04</th>\n",
       "      <td>81000</td>\n",
       "      <td>84400</td>\n",
       "      <td>80200</td>\n",
       "      <td>83000</td>\n",
       "      <td>38655276</td>\n",
       "      <td>0.024691</td>\n",
       "    </tr>\n",
       "    <tr>\n",
       "      <th>2021-01-05</th>\n",
       "      <td>81600</td>\n",
       "      <td>83900</td>\n",
       "      <td>81600</td>\n",
       "      <td>83900</td>\n",
       "      <td>35335669</td>\n",
       "      <td>0.010843</td>\n",
       "    </tr>\n",
       "    <tr>\n",
       "      <th>2021-01-06</th>\n",
       "      <td>83300</td>\n",
       "      <td>84500</td>\n",
       "      <td>82100</td>\n",
       "      <td>82200</td>\n",
       "      <td>42089013</td>\n",
       "      <td>-0.020262</td>\n",
       "    </tr>\n",
       "    <tr>\n",
       "      <th>2021-01-07</th>\n",
       "      <td>82800</td>\n",
       "      <td>84200</td>\n",
       "      <td>82700</td>\n",
       "      <td>82900</td>\n",
       "      <td>32644642</td>\n",
       "      <td>0.008516</td>\n",
       "    </tr>\n",
       "    <tr>\n",
       "      <th>2021-01-08</th>\n",
       "      <td>83300</td>\n",
       "      <td>90000</td>\n",
       "      <td>83000</td>\n",
       "      <td>88800</td>\n",
       "      <td>59013307</td>\n",
       "      <td>0.071170</td>\n",
       "    </tr>\n",
       "  </tbody>\n",
       "</table>\n",
       "</div>"
      ],
      "text/plain": [
       "             Open   High    Low  Close    Volume    Change\n",
       "Date                                                      \n",
       "2021-01-04  81000  84400  80200  83000  38655276  0.024691\n",
       "2021-01-05  81600  83900  81600  83900  35335669  0.010843\n",
       "2021-01-06  83300  84500  82100  82200  42089013 -0.020262\n",
       "2021-01-07  82800  84200  82700  82900  32644642  0.008516\n",
       "2021-01-08  83300  90000  83000  88800  59013307  0.071170"
      ]
     },
     "execution_count": 13,
     "metadata": {},
     "output_type": "execute_result"
    }
   ],
   "source": [
    "import FinanceDataReader as fdr \n",
    "\n",
    "code = '005930' # 삼성전자\n",
    "stock_data = fdr.DataReader(code, start='2021-01-03', end='2021-12-31') \n",
    "stock_data.head().style.set_table_attributes('style=\"font-size: 12px\"')"
   ]
  },
  {
   "cell_type": "markdown",
   "id": "a327620c-bc7e-4f95-9fed-e3044803bb78",
   "metadata": {},
   "source": [
    "<br> K = 0.5 라고 하고 전날의 고가와 저가를 이용하여 변동성 값 V 를 구합니다. 그리고 시가를 더하여 매수가격을 만듭니다. shift(1) 은 바로 위에 있는 row 를 참조하게 됩니다. 따라서 전날 데이터가 됩니다."
   ]
  },
  {
   "cell_type": "code",
   "execution_count": 14,
   "id": "bf7da348-693c-4eed-ab9c-d5660910e5d8",
   "metadata": {},
   "outputs": [],
   "source": [
    "K = 0.5\n",
    "stock_data['v'] = (stock_data['High'].shift(1) - stock_data['Low'].shift(1))*K  # 전날 고가에서 저가를 뺀 값에 K 를 곱함\n",
    "stock_data['buy_price'] = stock_data['Open'] + stock_data['v']  # 변동성 값 V 에 당일 시가를 더하여 매수가를 만듦"
   ]
  },
  {
   "cell_type": "markdown",
   "id": "826258f4-35d3-434d-97e8-f444c369ac27",
   "metadata": {},
   "source": [
    "<br> 만약 buy_price 가 당일 고가와 저가 사이의 값이라면 매수할 기회가 있었을 것입니다. 매수 여부를 'buy' 라는 컬럼에 저장합니다. 그리고 수익율 'return' 을 생성합니다. 수익율은 다음날 시가를 매수가격로 나눈 값이 됩니다."
   ]
  },
  {
   "cell_type": "code",
   "execution_count": 19,
   "id": "5500fe32-0d68-4b64-860a-33fa04ea04e5",
   "metadata": {},
   "outputs": [],
   "source": [
    "stock_data['buy'] = (stock_data['High'] > stock_data['buy_price'])*(stock_data['Low'] < stock_data['buy_price']).astype(int) # 매수 기회 있으면 1 아니면 0\n",
    "stock_data['return'] = stock_data['Open'].shift(-1)/stock_data['buy_price'] # 다음 날 시가를 이용하여 수익율 계산"
   ]
  },
  {
   "cell_type": "markdown",
   "id": "fbdcf323-a3bf-482c-a6f4-acf34d257951",
   "metadata": {},
   "source": [
    "<br> 이제 'buy' = 1 인 날의 평균 수익율을 구해봅니다. 0.2% 기대수익율(일) 을 얻을 수 있는 전략입니다. 여기서 기대 수익율이란 매수를 한 날 중 랜덤한 어떤 날의 기대 수익율입니다."
   ]
  },
  {
   "cell_type": "code",
   "execution_count": 20,
   "id": "6a90e825-70af-4217-a3b1-5dab979a32cf",
   "metadata": {},
   "outputs": [
    {
     "data": {
      "text/plain": [
       "buy\n",
       "0    0.985780\n",
       "1    1.002018\n",
       "Name: return, dtype: float64"
      ]
     },
     "execution_count": 20,
     "metadata": {},
     "output_type": "execute_result"
    }
   ],
   "source": [
    "stock_data.groupby('buy')['return'].mean()"
   ]
  },
  {
   "cell_type": "markdown",
   "id": "e31d3ae5-2d76-423b-b848-b5a8aad6c62c",
   "metadata": {},
   "source": [
    "<br> 다른 종목도 테스트할 수 있게 이 전략을 함수로 만들어 봅니다. 리턴은 평균수익율(일) 과 최대 손실율(일)로 하겠습니다."
   ]
  },
  {
   "cell_type": "code",
   "execution_count": 24,
   "id": "5c3f14a9-cf9a-416e-8c13-6274ac192fbe",
   "metadata": {},
   "outputs": [
    {
     "name": "stdout",
     "output_type": "stream",
     "text": [
      "1.002018419449279 0.9574350469872858\n",
      " 평균 수익율: 0.20% 최대 손실: -4.26%\n"
     ]
    }
   ],
   "source": [
    "# 위 내용을 모아서 함수로 만듦\n",
    "def avg_return(code, K):\n",
    "    stock = fdr.DataReader(code,  start='2021-01-03', end='2021-12-31')    \n",
    "    stock['v'] = (stock['High'].shift(1) - stock['Low'].shift(1))*K\n",
    "    stock['buy_price'] = stock['Open'] + stock['v']\n",
    "    stock['buy'] = (stock_data['High'] > stock_data['buy_price'])*(stock_data['Low'] < stock_data['buy_price']).astype(int)\n",
    "    stock['return'] = stock['Open'].shift(-1)/stock['buy_price']\n",
    "    return stock[stock['buy']==1]['return'].mean(), stock[stock['buy']==1]['return'].min()\n",
    "\n",
    "a, b = avg_return('005930', 0.5)\n",
    "print(a, b)\n",
    "\n",
    "# 참고로 아래와 같이 f-string 이용하여 출력을 이쁘게 할 수 있습니다.\n",
    "print(f' 평균 수익율: {(a-1):5.2%} 최대 손실: {(b-1):5.2%}')"
   ]
  },
  {
   "cell_type": "markdown",
   "id": "e646ac07-1285-412c-a765-d7d5badfe684",
   "metadata": {},
   "source": [
    "\n",
    "<br> 다른 종목의 결과값도 함 보겠습니다. 네이버(035420)와 현대차(005380)를 함 볼까요? 삼성전자보다 더 안 좋은 결과가 나왔습니다."
   ]
  },
  {
   "cell_type": "code",
   "execution_count": 25,
   "id": "0b61886f-c5fb-4962-8115-7996ee0f9c7e",
   "metadata": {},
   "outputs": [
    {
     "name": "stdout",
     "output_type": "stream",
     "text": [
      "0.9902550213520191 0.9214501510574018\n",
      "네이버 평균 수익율: -0.97% 최대 손실: -7.85%\n",
      "\n",
      "\n",
      "0.9940220644638738 0.9295499021526419\n",
      "현대차 평균 수익율: -0.60% 최대 손실: -7.05%\n"
     ]
    }
   ],
   "source": [
    "a, b = avg_return('035420', 0.5)\n",
    "print(a, b)\n",
    "print(f'네이버 평균 수익율: {(a-1):5.2%} 최대 손실: {(b-1):5.2%}')\n",
    "print('\\n')\n",
    "\n",
    "a, b = avg_return('005380', 0.5)\n",
    "print(a, b)\n",
    "print(f'현대차 평균 수익율: {(a-1):5.2%} 최대 손실: {(b-1):5.2%}')"
   ]
  },
  {
   "cell_type": "markdown",
   "id": "6e4345c6-034c-479a-97e0-a5ed40ed7ea5",
   "metadata": {},
   "source": [
    "<br> 이번에는 누적 수익율도 궁금합니다. 즉, 2021년 1월 3일 100 원을 투자하면 2021년 12월 31일 얼마가 되어 있을까요? 함수의 리턴 값에 누적 수익율을 추가합니다. "
   ]
  },
  {
   "cell_type": "code",
   "execution_count": 34,
   "id": "8bb016e1-ba52-4612-87ff-127d5b97daf9",
   "metadata": {},
   "outputs": [
    {
     "name": "stdout",
     "output_type": "stream",
     "text": [
      "1.002018419449279 0.9574350469872858 1.1843972916348044\n",
      " 평균 수익율: 100.20% 최대 손실: 95.74% 누적수익율: 118.44%\n"
     ]
    }
   ],
   "source": [
    "def avg_return(code, K):\n",
    "    stock = fdr.DataReader(code,  start='2021-01-03', end='2021-12-31')    \n",
    "    stock['v'] = (stock['High'].shift(1) - stock['Low'].shift(1))*K\n",
    "    stock['buy_price'] = stock['Open'] + stock['v']\n",
    "    stock['buy'] = (stock_data['High'] > stock_data['buy_price'])*(stock_data['Low'] < stock_data['buy_price']).astype(int)\n",
    "    stock['return'] = stock['Open'].shift(-1)/stock['buy_price']\n",
    "    return stock[stock['buy']==1]['return'].mean(), stock[stock['buy']==1]['return'].min(), stock[stock['buy']==1]['return'].prod()\n",
    "\n",
    "a, b, c = avg_return('005930', 0.5)\n",
    "print(a, b, c)\n",
    "\n",
    "# 참고로 아래와 같이 f-string 이용하여 출력을 이쁘게 할 수 있습니다.\n",
    "print(f' 평균 수익율: {a:5.2%} 최대 손실: {b:5.2%} 누적수익율: {c:5.2%}')"
   ]
  },
  {
   "cell_type": "markdown",
   "id": "65f688b6-5bd8-4e19-853d-2df2f2bc3579",
   "metadata": {},
   "source": [
    "<br> 네이버의 누적 수익율은 58.2%, 현대차의 누적 수익율은 38.7% 입니다. 즉 2021년 초에 각 각 100 원을 투자했다면 연말에 네이버는 40원, 현대차는 56원이 되어 있습니다. 실제 장에서는 원하는 가격에 매수 매도를 할 수 없으므로 실전 수익율은 아니겠지만 예상 수익율을 추정해 볼 수 있습니다. "
   ]
  },
  {
   "cell_type": "code",
   "execution_count": 35,
   "id": "ec104fd8-0967-419f-bff4-7e9cd76d0e0d",
   "metadata": {},
   "outputs": [
    {
     "name": "stdout",
     "output_type": "stream",
     "text": [
      "네이버 평균 수익율: 99.03% 최대 손실: 92.15% 누적수익율: 40.87%\n",
      "현대차 평균 수익율: 99.40% 최대 손실: 92.95% 누적수익율: 56.69%\n"
     ]
    }
   ],
   "source": [
    "a, b, c = avg_return('035420', 0.5)\n",
    "print(f'네이버 평균 수익율: {a:5.2%} 최대 손실: {b:5.2%} 누적수익율: {c:5.2%}')\n",
    "\n",
    "a, b, c = avg_return('005380', 0.5)\n",
    "print(f'현대차 평균 수익율: {a:5.2%} 최대 손실: {b:5.2%} 누적수익율: {c:5.2%}')"
   ]
  },
  {
   "cell_type": "markdown",
   "id": "8bb3e31e-c9e3-42e7-b40f-45196c8069be",
   "metadata": {},
   "source": [
    "### K 값 찾기\n",
    "이전 단원에서 래리 윌리암스의 변동성 돌파전략을 파이썬으로 구현해봤습니다. K 값을 왜 0.5 로 했을까? 다른 K 는 어떨까 궁금해 집니다. 래리윌리암스는 K 값을 0.4 ~ 0.6 으로 추천했습니다. K 가 높아지면 매수 가격이 올라가므로 매수가격에 살 수 있는 기회가 적어지는 문제가 있습니다. K 가 낮아지면 쉽게 매수를 하므로 과연 변동성 돌파를 하고 있는지 의심이 듭니다. 이 번에는 삼성전자 K 값이 얼마일 때, 가장 좋은 결과가 나오는 지 알아보겠습니다. 삼성전자 2021년 일봉과 전 단원에서 만들어 놓은 함수를 가져옵니다."
   ]
  },
  {
   "cell_type": "code",
   "execution_count": 36,
   "id": "1a6b8c22-142c-4b12-9322-ab4a1c5c3451",
   "metadata": {},
   "outputs": [
    {
     "data": {
      "text/html": [
       "<div>\n",
       "<style scoped>\n",
       "    .dataframe tbody tr th:only-of-type {\n",
       "        vertical-align: middle;\n",
       "    }\n",
       "\n",
       "    .dataframe tbody tr th {\n",
       "        vertical-align: top;\n",
       "    }\n",
       "\n",
       "    .dataframe thead th {\n",
       "        text-align: right;\n",
       "    }\n",
       "</style>\n",
       "<table border=\"1\" class=\"dataframe\">\n",
       "  <thead>\n",
       "    <tr style=\"text-align: right;\">\n",
       "      <th></th>\n",
       "      <th>Open</th>\n",
       "      <th>High</th>\n",
       "      <th>Low</th>\n",
       "      <th>Close</th>\n",
       "      <th>Volume</th>\n",
       "      <th>Change</th>\n",
       "    </tr>\n",
       "    <tr>\n",
       "      <th>Date</th>\n",
       "      <th></th>\n",
       "      <th></th>\n",
       "      <th></th>\n",
       "      <th></th>\n",
       "      <th></th>\n",
       "      <th></th>\n",
       "    </tr>\n",
       "  </thead>\n",
       "  <tbody>\n",
       "    <tr>\n",
       "      <th>2021-01-04</th>\n",
       "      <td>81000</td>\n",
       "      <td>84400</td>\n",
       "      <td>80200</td>\n",
       "      <td>83000</td>\n",
       "      <td>38655276</td>\n",
       "      <td>0.024691</td>\n",
       "    </tr>\n",
       "    <tr>\n",
       "      <th>2021-01-05</th>\n",
       "      <td>81600</td>\n",
       "      <td>83900</td>\n",
       "      <td>81600</td>\n",
       "      <td>83900</td>\n",
       "      <td>35335669</td>\n",
       "      <td>0.010843</td>\n",
       "    </tr>\n",
       "    <tr>\n",
       "      <th>2021-01-06</th>\n",
       "      <td>83300</td>\n",
       "      <td>84500</td>\n",
       "      <td>82100</td>\n",
       "      <td>82200</td>\n",
       "      <td>42089013</td>\n",
       "      <td>-0.020262</td>\n",
       "    </tr>\n",
       "    <tr>\n",
       "      <th>2021-01-07</th>\n",
       "      <td>82800</td>\n",
       "      <td>84200</td>\n",
       "      <td>82700</td>\n",
       "      <td>82900</td>\n",
       "      <td>32644642</td>\n",
       "      <td>0.008516</td>\n",
       "    </tr>\n",
       "    <tr>\n",
       "      <th>2021-01-08</th>\n",
       "      <td>83300</td>\n",
       "      <td>90000</td>\n",
       "      <td>83000</td>\n",
       "      <td>88800</td>\n",
       "      <td>59013307</td>\n",
       "      <td>0.071170</td>\n",
       "    </tr>\n",
       "  </tbody>\n",
       "</table>\n",
       "</div>"
      ],
      "text/plain": [
       "             Open   High    Low  Close    Volume    Change\n",
       "Date                                                      \n",
       "2021-01-04  81000  84400  80200  83000  38655276  0.024691\n",
       "2021-01-05  81600  83900  81600  83900  35335669  0.010843\n",
       "2021-01-06  83300  84500  82100  82200  42089013 -0.020262\n",
       "2021-01-07  82800  84200  82700  82900  32644642  0.008516\n",
       "2021-01-08  83300  90000  83000  88800  59013307  0.071170"
      ]
     },
     "execution_count": 36,
     "metadata": {},
     "output_type": "execute_result"
    }
   ],
   "source": [
    "import FinanceDataReader as fdr \n",
    "\n",
    "code = '005930' # 삼성전자\n",
    "stock_data = fdr.DataReader(code, start='2021-01-03', end='2021-12-31') \n",
    "stock_data.head().style.set_table_attributes('style=\"font-size: 12px\"')"
   ]
  },
  {
   "cell_type": "code",
   "execution_count": 41,
   "id": "18be663e-52cf-400a-84c9-5f64602043d8",
   "metadata": {},
   "outputs": [
    {
     "name": "stdout",
     "output_type": "stream",
     "text": [
      " 평균 수익율: 100.20% 최대 손실: 95.74%\n"
     ]
    }
   ],
   "source": [
    "def avg_return(code, K):\n",
    "    stock = fdr.DataReader(code,  start='2021-01-03', end='2021-12-31')    \n",
    "    stock['v'] = (stock['High'].shift(1) - stock['Low'].shift(1))*K\n",
    "    stock['buy_price'] = stock['Open'] + stock['v']\n",
    "    stock['buy'] = (stock['High'] > stock['buy_price'])*(stock['Low'] < stock['buy_price']).astype(int)\n",
    "    stock['return'] = stock['Open'].shift(-1)/stock['buy_price']\n",
    "    return stock[stock['buy']==1]['return'].mean(), stock[stock['buy']==1]['return'].min()\n",
    "\n",
    "a, b = avg_return('005930', 0.5)\n",
    "\n",
    "print(f' 평균 수익율: {a:5.2%} 최대 손실: {b:5.2%}')"
   ]
  },
  {
   "cell_type": "markdown",
   "id": "9fdf1a41-a2ef-4e52-8433-2da9e0e76123",
   "metadata": {},
   "source": [
    "<br> 이제 K 를 조금씩 올려가면서 평균 수익율이 최대가 되는 지점을 알아보겠습니다. K 늘 조금씩 증가시켜가면서 For Loop 를 이용하면 좋을 것 같습니다. 그리고 각 K 에서 평균수익율과 최대손실을 list 에 담습니다.\n",
    "테스트 할 K 는 numpy 에서 제공하는 linspace(시작 값, 종료 값) 를 이용합니다. linspace 는 num(인수 중 하나) 을 지정하지 않으면 50개의 등 간격 구간으로 된 list 를 반환합니다."
   ]
  },
  {
   "cell_type": "code",
   "execution_count": 42,
   "id": "6a9ac405-2c8a-4b85-891e-1fb22cf47dc3",
   "metadata": {},
   "outputs": [
    {
     "name": "stdout",
     "output_type": "stream",
     "text": [
      "[0.         0.11111111 0.22222222 0.33333333 0.44444444 0.55555556\n",
      " 0.66666667 0.77777778 0.88888889 1.        ]\n",
      "\n",
      "\n"
     ]
    }
   ],
   "source": [
    "# Line space Test\n",
    "import numpy as np\n",
    "print(np.linspace(start=0, stop=1, num=10))\n",
    "\n",
    "print('\\n')\n",
    "import matplotlib.pyplot as plt\n",
    "%matplotlib inline\n",
    "import numpy as np\n",
    "import pandas as pd\n",
    "\n",
    "k_list = []\n",
    "r_list = []\n",
    "w_list = []\n",
    "\n",
    "for k in list(np.linspace(0.2, 0.8)): # 0.2 ~ 0.8 까지 50 구간 list \n",
    "    r, w = avg_return('005930', k)\n",
    "\n",
    "    k_list.append(k)       \n",
    "    r_list.append(r)\n",
    "    w_list.append(w)\n",
    "\n",
    "    \n",
    "outcome = pd.DataFrame({'k': k_list, 'return': r_list, 'worst': w_list})    "
   ]
  },
  {
   "cell_type": "markdown",
   "id": "58f06a44-b8b3-4e6b-8b85-ff163d2d1705",
   "metadata": {},
   "source": [
    "<br>위 50 개 결과를 Pandas Plot 그려보겠습니다. 파란색 라인이 평균 기대 수익율이고 빨간색 라인이 최대 손실입니다. 둘 다 값이 높아야 좋은 전략일 것 입니다. 그래프를 보시면 K = 0.4 보다는 k = 0.6 이 더 좋은 선택으로 판단됩니다. 기대 수익율이 제일 높은 K 는 0.67 입니다."
   ]
  },
  {
   "cell_type": "code",
   "execution_count": 43,
   "id": "b6eef250-00d0-4034-a64f-6a0b01ba2359",
   "metadata": {},
   "outputs": [
    {
     "data": {
      "image/png": "[encoded data removed]",
      "text/plain": [
       "<Figure size 720x288 with 2 Axes>"
      ]
     },
     "metadata": {
      "needs_background": "light"
     },
     "output_type": "display_data"
    }
   ],
   "source": [
    "plt.figure(figsize=(10,4))\n",
    "ax = outcome.set_index('k')['return'].plot(color='blue')\n",
    "ax2 = ax.twinx()\n",
    "ax2 = outcome.set_index('k')['worst'].plot(color='red', style='--')\n",
    "plt.title('Avergage Return vs. The Worst Return')\n",
    "ax.legend(loc=1)\n",
    "ax2.legend(loc=2)\n",
    "ax.set_ylabel('Avg. Return')\n",
    "ax2.set_ylabel('The Worst Return')\n",
    "plt.show()"
   ]
  },
  {
   "cell_type": "markdown",
   "id": "b5673f7b-977a-479a-81c8-ca6cb3562335",
   "metadata": {},
   "source": [
    "<br> 이번에는 위 라인을 rolling 을 이용하여 부드럽게 해 보겠습니다. "
   ]
  },
  {
   "cell_type": "code",
   "execution_count": 44,
   "id": "511a9555-1357-4d65-97fd-85dbd619a5f1",
   "metadata": {},
   "outputs": [
    {
     "data": {
      "image/png": "[encoded data removed]",
      "text/plain": [
       "<Figure size 720x288 with 2 Axes>"
      ]
     },
     "metadata": {
      "needs_background": "light"
     },
     "output_type": "display_data"
    }
   ],
   "source": [
    "plt.figure(figsize=(10,4))\n",
    "ax = outcome.set_index('k')['return'].rolling(3).mean().plot(color='blue')\n",
    "ax2 = ax.twinx()\n",
    "ax2 = outcome.set_index('k')['worst'].rolling(3).mean().plot(color='red', style='--')\n",
    "plt.title('Avergage Return vs. The Worst Return')\n",
    "ax.legend(loc=1)\n",
    "ax2.legend(loc=2)\n",
    "ax.set_ylabel('Avg. Return')\n",
    "ax2.set_ylabel('The Worst Return')\n",
    "plt.show()"
   ]
  },
  {
   "cell_type": "markdown",
   "id": "45c4b56f-0893-4b61-ab5b-5468f5cdf33d",
   "metadata": {},
   "source": [
    "2021년 데이터에서는 K 가 0.4 근처보다는 0.6 근처가 더 좋은 전략으로 관찰되었습니다. 과연 2022년도 그럴지 궁금합니다. 2022년 1분기 데이터를 이용해 보겠습니다. 다른 결과가 나왔습니다. K= 0.5 가 더 좋은 것 같습니다. 과거에 좋은 K 가 현재에도 좋은 K 가 아닌 것 같습니다. 단순이 과거 K 를 이용하는 것이 좋은 방법이 아니라는 것을 알았습니다."
   ]
  },
  {
   "cell_type": "code",
   "execution_count": 46,
   "id": "6c7a3789-0364-4d97-8adb-cd2c29ebbb1c",
   "metadata": {},
   "outputs": [
    {
     "data": {
      "image/png": "[encoded data removed]",
      "text/plain": [
       "<Figure size 720x288 with 2 Axes>"
      ]
     },
     "metadata": {
      "needs_background": "light"
     },
     "output_type": "display_data"
    }
   ],
   "source": [
    "def avg_return(code, K):\n",
    "    stock = fdr.DataReader(code,  start='2022-01-03', end='2022-03-31')    # 2022년 1분기 데이터\n",
    "    stock['v'] = (stock['High'].shift(1) - stock['Low'].shift(1))*K\n",
    "    stock['buy_price'] = stock['Open'] + stock['v']\n",
    "    stock['buy'] = (stock['High'] > stock['buy_price'])*(stock['Low'] < stock['buy_price']).astype(int)\n",
    "    stock['return'] = stock['Open'].shift(-1)/stock['buy_price']\n",
    "    return stock[stock['buy']==1]['return'].mean(), stock[stock['buy']==1]['return'].min()\n",
    "\n",
    "k_list = []\n",
    "r_list = []\n",
    "w_list = []\n",
    "\n",
    "for k in list(np.linspace(0.2, 0.8)): # 0.2 ~ 0.8 까지 50 구간 list \n",
    "    r, w = avg_return('005930', k)\n",
    "\n",
    "    k_list.append(k)       \n",
    "    r_list.append(r)\n",
    "    w_list.append(w)\n",
    "    \n",
    "outcome = pd.DataFrame({'k': k_list, 'return': r_list, 'worst': w_list})   \n",
    "\n",
    "plt.figure(figsize=(10,4))\n",
    "ax = outcome.set_index('k')['return'].rolling(3).mean().plot(color='blue')\n",
    "ax2 = ax.twinx()\n",
    "ax2 = outcome.set_index('k')['worst'].rolling(3).mean().plot(color='red', style='--')\n",
    "plt.title('Avergage Return vs. The Worst Return')\n",
    "ax.legend(loc=1)\n",
    "ax2.legend(loc=2)\n",
    "ax.set_ylabel('Avg. Return')\n",
    "ax2.set_ylabel('The Worst Return')\n",
    "plt.show()"
   ]
  },
  {
   "cell_type": "markdown",
   "id": "2cb5ec97-fce2-4287-a36c-2b0a721abf10",
   "metadata": {},
   "source": [
    "### 종목 찾기\n",
    "이전 단원에서 최적의 K 를 찾아보았는데요. 이번에는 K 를 고정하고 최적의 종목을 찾아보겠습니다. 코스피로 한정해서 종목을 찾아보겠습니다. FinanceDataReaer 의 StockListing 메소드의 인수로 'KOSPI' 를 넣으면 코스피 모든 종목을 반환합니다."
   ]
  },
  {
   "cell_type": "code",
   "execution_count": 53,
   "id": "b0aee421-d207-4bab-a67c-59688097bceb",
   "metadata": {},
   "outputs": [
    {
     "data": {
      "text/html": [
       "<style type=\"text/css\">\n",
       "</style>\n",
       "<table id=\"T_1654c_\" style=\"font-size: 12px\">\n",
       "  <thead>\n",
       "    <tr>\n",
       "      <th class=\"blank level0\" >&nbsp;</th>\n",
       "      <th class=\"col_heading level0 col0\" >Symbol</th>\n",
       "      <th class=\"col_heading level0 col1\" >Market</th>\n",
       "      <th class=\"col_heading level0 col2\" >Name</th>\n",
       "      <th class=\"col_heading level0 col3\" >Sector</th>\n",
       "      <th class=\"col_heading level0 col4\" >Industry</th>\n",
       "      <th class=\"col_heading level0 col5\" >ListingDate</th>\n",
       "      <th class=\"col_heading level0 col6\" >SettleMonth</th>\n",
       "      <th class=\"col_heading level0 col7\" >Representative</th>\n",
       "      <th class=\"col_heading level0 col8\" >HomePage</th>\n",
       "      <th class=\"col_heading level0 col9\" >Region</th>\n",
       "    </tr>\n",
       "  </thead>\n",
       "  <tbody>\n",
       "    <tr>\n",
       "      <th id=\"T_1654c_level0_row0\" class=\"row_heading level0 row0\" >1</th>\n",
       "      <td id=\"T_1654c_row0_col0\" class=\"data row0 col0\" >095570</td>\n",
       "      <td id=\"T_1654c_row0_col1\" class=\"data row0 col1\" >KOSPI</td>\n",
       "      <td id=\"T_1654c_row0_col2\" class=\"data row0 col2\" >AJ네트웍스</td>\n",
       "      <td id=\"T_1654c_row0_col3\" class=\"data row0 col3\" >산업용 기계 및 장비 임대업</td>\n",
       "      <td id=\"T_1654c_row0_col4\" class=\"data row0 col4\" >렌탈(파렛트, OA장비, 건설장비)</td>\n",
       "      <td id=\"T_1654c_row0_col5\" class=\"data row0 col5\" >2015-08-21 00:00:00</td>\n",
       "      <td id=\"T_1654c_row0_col6\" class=\"data row0 col6\" >12월</td>\n",
       "      <td id=\"T_1654c_row0_col7\" class=\"data row0 col7\" >박대현, 손삼달</td>\n",
       "      <td id=\"T_1654c_row0_col8\" class=\"data row0 col8\" >http://www.ajnet.co.kr</td>\n",
       "      <td id=\"T_1654c_row0_col9\" class=\"data row0 col9\" >서울특별시</td>\n",
       "    </tr>\n",
       "    <tr>\n",
       "      <th id=\"T_1654c_level0_row1\" class=\"row_heading level0 row1\" >2</th>\n",
       "      <td id=\"T_1654c_row1_col0\" class=\"data row1 col0\" >006840</td>\n",
       "      <td id=\"T_1654c_row1_col1\" class=\"data row1 col1\" >KOSPI</td>\n",
       "      <td id=\"T_1654c_row1_col2\" class=\"data row1 col2\" >AK홀딩스</td>\n",
       "      <td id=\"T_1654c_row1_col3\" class=\"data row1 col3\" >기타 금융업</td>\n",
       "      <td id=\"T_1654c_row1_col4\" class=\"data row1 col4\" >지주사업</td>\n",
       "      <td id=\"T_1654c_row1_col5\" class=\"data row1 col5\" >1999-08-11 00:00:00</td>\n",
       "      <td id=\"T_1654c_row1_col6\" class=\"data row1 col6\" >12월</td>\n",
       "      <td id=\"T_1654c_row1_col7\" class=\"data row1 col7\" >채형석, 이석주(각자 대표이사)</td>\n",
       "      <td id=\"T_1654c_row1_col8\" class=\"data row1 col8\" >http://www.aekyunggroup.co.kr</td>\n",
       "      <td id=\"T_1654c_row1_col9\" class=\"data row1 col9\" >서울특별시</td>\n",
       "    </tr>\n",
       "    <tr>\n",
       "      <th id=\"T_1654c_level0_row2\" class=\"row_heading level0 row2\" >6</th>\n",
       "      <td id=\"T_1654c_row2_col0\" class=\"data row2 col0\" >152100</td>\n",
       "      <td id=\"T_1654c_row2_col1\" class=\"data row2 col1\" >KOSPI</td>\n",
       "      <td id=\"T_1654c_row2_col2\" class=\"data row2 col2\" >ARIRANG 200</td>\n",
       "      <td id=\"T_1654c_row2_col3\" class=\"data row2 col3\" >nan</td>\n",
       "      <td id=\"T_1654c_row2_col4\" class=\"data row2 col4\" >nan</td>\n",
       "      <td id=\"T_1654c_row2_col5\" class=\"data row2 col5\" >NaT</td>\n",
       "      <td id=\"T_1654c_row2_col6\" class=\"data row2 col6\" >nan</td>\n",
       "      <td id=\"T_1654c_row2_col7\" class=\"data row2 col7\" >nan</td>\n",
       "      <td id=\"T_1654c_row2_col8\" class=\"data row2 col8\" >nan</td>\n",
       "      <td id=\"T_1654c_row2_col9\" class=\"data row2 col9\" >nan</td>\n",
       "    </tr>\n",
       "    <tr>\n",
       "      <th id=\"T_1654c_level0_row3\" class=\"row_heading level0 row3\" >7</th>\n",
       "      <td id=\"T_1654c_row3_col0\" class=\"data row3 col0\" >295820</td>\n",
       "      <td id=\"T_1654c_row3_col1\" class=\"data row3 col1\" >KOSPI</td>\n",
       "      <td id=\"T_1654c_row3_col2\" class=\"data row3 col2\" >ARIRANG 200동일가중</td>\n",
       "      <td id=\"T_1654c_row3_col3\" class=\"data row3 col3\" >nan</td>\n",
       "      <td id=\"T_1654c_row3_col4\" class=\"data row3 col4\" >nan</td>\n",
       "      <td id=\"T_1654c_row3_col5\" class=\"data row3 col5\" >NaT</td>\n",
       "      <td id=\"T_1654c_row3_col6\" class=\"data row3 col6\" >nan</td>\n",
       "      <td id=\"T_1654c_row3_col7\" class=\"data row3 col7\" >nan</td>\n",
       "      <td id=\"T_1654c_row3_col8\" class=\"data row3 col8\" >nan</td>\n",
       "      <td id=\"T_1654c_row3_col9\" class=\"data row3 col9\" >nan</td>\n",
       "    </tr>\n",
       "    <tr>\n",
       "      <th id=\"T_1654c_level0_row4\" class=\"row_heading level0 row4\" >8</th>\n",
       "      <td id=\"T_1654c_row4_col0\" class=\"data row4 col0\" >253150</td>\n",
       "      <td id=\"T_1654c_row4_col1\" class=\"data row4 col1\" >KOSPI</td>\n",
       "      <td id=\"T_1654c_row4_col2\" class=\"data row4 col2\" >ARIRANG 200선물레버리지</td>\n",
       "      <td id=\"T_1654c_row4_col3\" class=\"data row4 col3\" >nan</td>\n",
       "      <td id=\"T_1654c_row4_col4\" class=\"data row4 col4\" >nan</td>\n",
       "      <td id=\"T_1654c_row4_col5\" class=\"data row4 col5\" >NaT</td>\n",
       "      <td id=\"T_1654c_row4_col6\" class=\"data row4 col6\" >nan</td>\n",
       "      <td id=\"T_1654c_row4_col7\" class=\"data row4 col7\" >nan</td>\n",
       "      <td id=\"T_1654c_row4_col8\" class=\"data row4 col8\" >nan</td>\n",
       "      <td id=\"T_1654c_row4_col9\" class=\"data row4 col9\" >nan</td>\n",
       "    </tr>\n",
       "  </tbody>\n",
       "</table>\n"
      ],
      "text/plain": [
       "<pandas.io.formats.style.Styler at 0x275bc9fea60>"
      ]
     },
     "execution_count": 53,
     "metadata": {},
     "output_type": "execute_result"
    }
   ],
   "source": [
    "import FinanceDataReader as fdr \n",
    "import pandas as pd\n",
    "import numpy as np\n",
    "\n",
    "kospi_df = fdr.StockListing('KOSPI')\n",
    "kospi_df.head().style.set_table_attributes('style=\"font-size: 12px\"')"
   ]
  },
  {
   "cell_type": "markdown",
   "id": "1de0b584-cffe-4e04-b56e-6181c2ad8718",
   "metadata": {},
   "source": [
    "<br> nunique() 은 유니크한 종목 수를 세는 메소드입니다. 6,361 개의 종목이 있습니다. Sector 가 비어있는 종목의 경우는 일반적인 회사의 종목이 아닌 것인 것으로 보입니다. Sector 가 비어있는 종목은 제외하겠습니다. 이제 820 개의 종목만 남았습니다."
   ]
  },
  {
   "cell_type": "code",
   "execution_count": 48,
   "id": "97a52f34-5684-4241-9a5a-cb50d74fc6a4",
   "metadata": {},
   "outputs": [
    {
     "name": "stdout",
     "output_type": "stream",
     "text": [
      "6151\n",
      "821\n"
     ]
    }
   ],
   "source": [
    "print(kospi_df['Symbol'].nunique())\n",
    "print(kospi_df[~kospi_df['Sector'].isnull()]['Symbol'].nunique())"
   ]
  },
  {
   "cell_type": "markdown",
   "id": "b39b66ac-0f11-428e-90c1-1526ce102411",
   "metadata": {},
   "source": [
    "<br> kospi_df 에서 필요한 컬럼 'Symbol' 과 'Name' 두 개만 kospi_list DataFrame 에 저장합니다. 그리고 종목코드 'Symbol' 과 'Name' 을 각 각 'code' 외 'name' 으로 바꿔줍니다. 그리고 나중을 위해서 결과물을 pickle 파일로 저장도 합니다."
   ]
  },
  {
   "cell_type": "code",
   "execution_count": 49,
   "id": "0436ea7d-1288-4f89-82de-d2f4addd9b6b",
   "metadata": {},
   "outputs": [],
   "source": [
    "kospi_list = kospi_df[~kospi_df['Sector'].isnull()][['Symbol','Name']].rename(columns={'Symbol':'code','Name':'name'})\n",
    "kospi_list.to_pickle('kospi_list.pkl')\n",
    "kospi_list = pd.read_pickle('kospi_list.pkl')"
   ]
  },
  {
   "cell_type": "markdown",
   "id": "dd970c09-d78f-4d27-93f0-156f86804761",
   "metadata": {},
   "source": [
    "<br> 이제 변동성 돌파 전략의 수익율을 계산하는 함수를 불러옵니다. 일단 K 는 0.5 로 고정합니다. 모든 코스피 종목을 For-Loop 하면서 가장 수익율이 좋은 종목을 찾으면 됩니다. Loop 를 돌 때마다 종목이름, 종목코드, 평균수익율, 최대손실, 누적수익율을 list 에 저장합니다. 마지막으로 모든 list 를 모아서 하나의 DataFrame 으로 저장합니다. 800 개가 넘는 종목을 Loop 로 하나 씩 하니 시간이 많이 걸립니다. time 모듈을 이용해 총 데이터 처리시간도 측정해 봅니다. 2021년 변동성 돌파전략으로 매수할 수 있는 날이 50일 미만 경우는 무시하도록 if 문을 만들었습니다. 최종 결과를 pickle 로 저장합니다. "
   ]
  },
  {
   "cell_type": "code",
   "execution_count": 50,
   "id": "efc1611b-bb7f-47d1-9cdd-716c7a8fa1c0",
   "metadata": {},
   "outputs": [
    {
     "name": "stdout",
     "output_type": "stream",
     "text": [
      "총 프로세싱 시간 114.99634575843811\n"
     ]
    }
   ],
   "source": [
    "import time\n",
    "\n",
    "start_time = time.time()\n",
    "K = 0.5\n",
    "\n",
    "def avg_r2(code, K):\n",
    "    stock = fdr.DataReader(code,  start='2021-01-03', end='2021-12-31')    \n",
    "    stock['v'] = (stock['High'].shift(1) - stock['Low'].shift(1))*K\n",
    "    stock['buy_price'] = stock['Open'] + stock['v']\n",
    "    stock['buy'] = (stock['High'] > stock['buy_price'])*(stock['Low'] < stock['buy_price']).astype(int)\n",
    "    stock['return'] = stock['Open'].shift(-1)/stock['buy_price']\n",
    "    n = len(stock[stock['buy']==1])\n",
    "    r = stock[stock['buy']==1]['return'].mean()\n",
    "    w = stock[stock['buy']==1]['return'].min()\n",
    "    c = stock[stock['buy']==1]['return'].prod()\n",
    "    return n, r, w, c\n",
    "\n",
    "code_list = []\n",
    "name_list = []\n",
    "return_list = []\n",
    "worst_list = []\n",
    "cumul_list = []\n",
    "\n",
    "for code, name in zip(kospi_list['code'], kospi_list['name']):\n",
    "\n",
    "    n, r, w, c = avg_r2(code, K)\n",
    "\n",
    "    if n >= 50: # 최소한 50일 이상 거래일 존재해야 진행\n",
    "\n",
    "        code_list.append(code)\n",
    "        name_list.append(name)\n",
    "        return_list.append(r)\n",
    "        worst_list.append(w)\n",
    "        cumul_list.append(c)\n",
    "        \n",
    "    else:\n",
    "        continue\n",
    "\n",
    "outcome = pd.DataFrame({'code': code_list, 'name': name_list, 'return': return_list, 'worst': worst_list, 'cumul': cumul_list})    \n",
    "outcome.to_pickle('outcome.pkl')\n",
    "\n",
    "print(f'총 프로세싱 시간 {time.time() - start_time}')"
   ]
  },
  {
   "cell_type": "markdown",
   "id": "22ad6f9a-ad3e-47ca-8484-40de2f81c80e",
   "metadata": {},
   "source": [
    "<br> 저장된 결과물 outcome 을 'return' 값의 내림차순으로 함 보겠습니다. 수익율이 좋은 종목 Top 3 는 '조일알미늄', '한전기술', '포스코스틸리온' 이였습니다. Top 10 에서 최대손실율을 동시에 고려하면, 2021년에는 '미원화학'이 좋아 보입니다. 미원화학을 2021년 초부터 변동성 돌파전략으로 매수 매도를 했으면 2021년 연말에는 원금의 2.9배가 되어 있었을 것입니다. 하지만, 지나간 일입니다. 이 책의 4장부터는 데이터 분석으로 미래를 예측하는 방법을 다룹니다."
   ]
  },
  {
   "cell_type": "code",
   "execution_count": 54,
   "id": "410672c0-129d-4db9-8eee-8a84691986a0",
   "metadata": {},
   "outputs": [
    {
     "data": {
      "text/html": [
       "<style type=\"text/css\">\n",
       "</style>\n",
       "<table id=\"T_e6feb_\" style=\"font-size: 12px\">\n",
       "  <thead>\n",
       "    <tr>\n",
       "      <th class=\"blank level0\" >&nbsp;</th>\n",
       "      <th class=\"col_heading level0 col0\" >code</th>\n",
       "      <th class=\"col_heading level0 col1\" >name</th>\n",
       "      <th class=\"col_heading level0 col2\" >return</th>\n",
       "      <th class=\"col_heading level0 col3\" >worst</th>\n",
       "      <th class=\"col_heading level0 col4\" >cumul</th>\n",
       "    </tr>\n",
       "  </thead>\n",
       "  <tbody>\n",
       "    <tr>\n",
       "      <th id=\"T_e6feb_level0_row0\" class=\"row_heading level0 row0\" >570</th>\n",
       "      <td id=\"T_e6feb_row0_col0\" class=\"data row0 col0\" >018470</td>\n",
       "      <td id=\"T_e6feb_row0_col1\" class=\"data row0 col1\" >조일알미늄</td>\n",
       "      <td id=\"T_e6feb_row0_col2\" class=\"data row0 col2\" >1.017648</td>\n",
       "      <td id=\"T_e6feb_row0_col3\" class=\"data row0 col3\" >0.907132</td>\n",
       "      <td id=\"T_e6feb_row0_col4\" class=\"data row0 col4\" >4.549524</td>\n",
       "    </tr>\n",
       "    <tr>\n",
       "      <th id=\"T_e6feb_level0_row1\" class=\"row_heading level0 row1\" >722</th>\n",
       "      <td id=\"T_e6feb_row1_col0\" class=\"data row1 col0\" >052690</td>\n",
       "      <td id=\"T_e6feb_row1_col1\" class=\"data row1 col1\" >한전기술</td>\n",
       "      <td id=\"T_e6feb_row1_col2\" class=\"data row1 col2\" >1.017243</td>\n",
       "      <td id=\"T_e6feb_row1_col3\" class=\"data row1 col3\" >0.932258</td>\n",
       "      <td id=\"T_e6feb_row1_col4\" class=\"data row1 col4\" >5.318219</td>\n",
       "    </tr>\n",
       "    <tr>\n",
       "      <th id=\"T_e6feb_level0_row2\" class=\"row_heading level0 row2\" >645</th>\n",
       "      <td id=\"T_e6feb_row2_col0\" class=\"data row2 col0\" >058430</td>\n",
       "      <td id=\"T_e6feb_row2_col1\" class=\"data row2 col1\" >포스코스틸리온</td>\n",
       "      <td id=\"T_e6feb_row2_col2\" class=\"data row2 col2\" >1.016921</td>\n",
       "      <td id=\"T_e6feb_row2_col3\" class=\"data row2 col3\" >0.868904</td>\n",
       "      <td id=\"T_e6feb_row2_col4\" class=\"data row2 col4\" >3.838723</td>\n",
       "    </tr>\n",
       "    <tr>\n",
       "      <th id=\"T_e6feb_level0_row3\" class=\"row_heading level0 row3\" >275</th>\n",
       "      <td id=\"T_e6feb_row3_col0\" class=\"data row3 col0\" >092200</td>\n",
       "      <td id=\"T_e6feb_row3_col1\" class=\"data row3 col1\" >디아이씨</td>\n",
       "      <td id=\"T_e6feb_row3_col2\" class=\"data row3 col2\" >1.016628</td>\n",
       "      <td id=\"T_e6feb_row3_col3\" class=\"data row3 col3\" >0.896846</td>\n",
       "      <td id=\"T_e6feb_row3_col4\" class=\"data row3 col4\" >3.478830</td>\n",
       "    </tr>\n",
       "    <tr>\n",
       "      <th id=\"T_e6feb_level0_row4\" class=\"row_heading level0 row4\" >546</th>\n",
       "      <td id=\"T_e6feb_row4_col0\" class=\"data row4 col0\" >008500</td>\n",
       "      <td id=\"T_e6feb_row4_col1\" class=\"data row4 col1\" >일정실업</td>\n",
       "      <td id=\"T_e6feb_row4_col2\" class=\"data row4 col2\" >1.016182</td>\n",
       "      <td id=\"T_e6feb_row4_col3\" class=\"data row4 col3\" >0.928633</td>\n",
       "      <td id=\"T_e6feb_row4_col4\" class=\"data row4 col4\" >4.006988</td>\n",
       "    </tr>\n",
       "    <tr>\n",
       "      <th id=\"T_e6feb_level0_row5\" class=\"row_heading level0 row5\" >318</th>\n",
       "      <td id=\"T_e6feb_row5_col0\" class=\"data row5 col0\" >134380</td>\n",
       "      <td id=\"T_e6feb_row5_col1\" class=\"data row5 col1\" >미원화학</td>\n",
       "      <td id=\"T_e6feb_row5_col2\" class=\"data row5 col2\" >1.015959</td>\n",
       "      <td id=\"T_e6feb_row5_col3\" class=\"data row5 col3\" >0.966864</td>\n",
       "      <td id=\"T_e6feb_row5_col4\" class=\"data row5 col4\" >2.918914</td>\n",
       "    </tr>\n",
       "    <tr>\n",
       "      <th id=\"T_e6feb_level0_row6\" class=\"row_heading level0 row6\" >667</th>\n",
       "      <td id=\"T_e6feb_row6_col0\" class=\"data row6 col0\" >004090</td>\n",
       "      <td id=\"T_e6feb_row6_col1\" class=\"data row6 col1\" >한국석유</td>\n",
       "      <td id=\"T_e6feb_row6_col2\" class=\"data row6 col2\" >1.015428</td>\n",
       "      <td id=\"T_e6feb_row6_col3\" class=\"data row6 col3\" >0.914433</td>\n",
       "      <td id=\"T_e6feb_row6_col4\" class=\"data row6 col4\" >2.984814</td>\n",
       "    </tr>\n",
       "    <tr>\n",
       "      <th id=\"T_e6feb_level0_row7\" class=\"row_heading level0 row7\" >773</th>\n",
       "      <td id=\"T_e6feb_row7_col0\" class=\"data row7 col0\" >010690</td>\n",
       "      <td id=\"T_e6feb_row7_col1\" class=\"data row7 col1\" >화신</td>\n",
       "      <td id=\"T_e6feb_row7_col2\" class=\"data row7 col2\" >1.014677</td>\n",
       "      <td id=\"T_e6feb_row7_col3\" class=\"data row7 col3\" >0.921250</td>\n",
       "      <td id=\"T_e6feb_row7_col4\" class=\"data row7 col4\" >3.405889</td>\n",
       "    </tr>\n",
       "    <tr>\n",
       "      <th id=\"T_e6feb_level0_row8\" class=\"row_heading level0 row8\" >226</th>\n",
       "      <td id=\"T_e6feb_row8_col0\" class=\"data row8 col0\" >001440</td>\n",
       "      <td id=\"T_e6feb_row8_col1\" class=\"data row8 col1\" >대한전선</td>\n",
       "      <td id=\"T_e6feb_row8_col2\" class=\"data row8 col2\" >1.014668</td>\n",
       "      <td id=\"T_e6feb_row8_col3\" class=\"data row8 col3\" >0.706109</td>\n",
       "      <td id=\"T_e6feb_row8_col4\" class=\"data row8 col4\" >3.403380</td>\n",
       "    </tr>\n",
       "    <tr>\n",
       "      <th id=\"T_e6feb_level0_row9\" class=\"row_heading level0 row9\" >594</th>\n",
       "      <td id=\"T_e6feb_row9_col0\" class=\"data row9 col0\" >001620</td>\n",
       "      <td id=\"T_e6feb_row9_col1\" class=\"data row9 col1\" >케이비아이동국실업</td>\n",
       "      <td id=\"T_e6feb_row9_col2\" class=\"data row9 col2\" >1.014626</td>\n",
       "      <td id=\"T_e6feb_row9_col3\" class=\"data row9 col3\" >0.932897</td>\n",
       "      <td id=\"T_e6feb_row9_col4\" class=\"data row9 col4\" >3.121872</td>\n",
       "    </tr>\n",
       "  </tbody>\n",
       "</table>\n"
      ],
      "text/plain": [
       "<pandas.io.formats.style.Styler at 0x275c102af40>"
      ]
     },
     "execution_count": 54,
     "metadata": {},
     "output_type": "execute_result"
    }
   ],
   "source": [
    "outcome.sort_values(by='return', ascending=False).head(10).style.set_table_attributes('style=\"font-size: 12px\"')"
   ]
  },
  {
   "cell_type": "markdown",
   "id": "bd0a59e3-79f5-4858-9e03-f143620dcd76",
   "metadata": {},
   "source": [
    "<br> 미원화학의 2021년 주가흐름을 함 보겠습니다. 2021년 3월에 급등이 있었습니다. "
   ]
  },
  {
   "cell_type": "code",
   "execution_count": 52,
   "id": "092b0cef-4990-42be-bf0f-9486b0d2318a",
   "metadata": {},
   "outputs": [
    {
     "data": {
      "text/plain": [
       "<AxesSubplot:xlabel='Date'>"
      ]
     },
     "execution_count": 52,
     "metadata": {},
     "output_type": "execute_result"
    },
    {
     "data": {
      "image/png": "[encoded data removed]",
      "text/plain": [
       "<Figure size 432x288 with 1 Axes>"
      ]
     },
     "metadata": {
      "needs_background": "light"
     },
     "output_type": "display_data"
    }
   ],
   "source": [
    "code = '134380' # 미원화학\n",
    "stock_data = fdr.DataReader(code, start='2021-01-03', end='2021-12-31') \n",
    "stock_data['Close'].plot()"
   ]
  },
  {
   "cell_type": "code",
   "execution_count": null,
   "id": "f4dc9575-dd64-43d4-9f6a-5e31e28a580a",
   "metadata": {},
   "outputs": [],
   "source": []
  }
 ],
 "metadata": {
  "kernelspec": {
   "display_name": "Python 3 (ipykernel)",
   "language": "python",
   "name": "python3"
  },
  "language_info": {
   "codemirror_mode": {
    "name": "ipython",
    "version": 3
   },
   "file_extension": ".py",
   "mimetype": "text/x-python",
   "name": "python",
   "nbconvert_exporter": "python",
   "pygments_lexer": "ipython3",
   "version": "3.9.7"
  }
 },
 "nbformat": 4,
 "nbformat_minor": 5
}
