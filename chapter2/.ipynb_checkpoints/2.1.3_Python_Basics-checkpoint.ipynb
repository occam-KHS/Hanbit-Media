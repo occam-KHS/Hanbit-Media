{
 "cells": [
  {
   "cell_type": "markdown",
   "id": "8f9863fa-e65f-4134-b80f-109a64ef1c5e",
   "metadata": {},
   "source": [
    "### For Loop\n",
    "컴퓨터를 잘 활용한다는 것의 컴퓨터의 3 가지 강점 - 기억, 반복, 계산을 잘 활용한다는 뜻입니다. 그 중에서도 인간보다 탁월한 능력이 바로 반복입니다. 컴퓨터는 수만번, 수천번의 반복도 금방 해 치웁니다. 이번에는 그 반복문을 배우겠습니다. 반복문 중에 for ~ in 구분이 가장 많이 활용됩니다. for ~ in 형식에서 in 다음에 List 를 넣으면 List 의 원소를 순서대로 꺼내어 처리합니다. 단순히 출력만 해보겠습니다. 다음에는 제곱한 값을 출력해 보겠습니다."
   ]
  },
  {
   "cell_type": "code",
   "execution_count": 1,
   "id": "c6890ab6-d5da-4a99-82cc-5f8dcd94ae4f",
   "metadata": {},
   "outputs": [
    {
     "name": "stdout",
     "output_type": "stream",
     "text": [
      "1\n",
      "2\n",
      "3\n",
      "4\n",
      "5\n",
      "6\n",
      "\n",
      "\n",
      "1\n",
      "4\n",
      "9\n",
      "16\n",
      "25\n",
      "36\n"
     ]
    }
   ],
   "source": [
    "num_list = [1,2,3,4,5,6]\n",
    "for i in num_list:\n",
    "    print(i)\n",
    "\n",
    "print('\\n')    \n",
    "for i in num_list:\n",
    "    print(i**2)    "
   ]
  },
  {
   "cell_type": "markdown",
   "id": "f52616f6-cdda-4be3-a2c8-7974b8192e64",
   "metadata": {},
   "source": [
    "<br>\n",
    "for 반복문에서 break 와 continue 의 활용법도 배워보겠습니다. i 가 3 일때 for 반복문을 빠져나오고 싶으면 break 를 사용하고, i 가 3 일때는 패스하고, 4 부터 다시 시작하고 싶으면 continue를 사용합니다."
   ]
  },
  {
   "cell_type": "code",
   "execution_count": 2,
   "id": "2cdf9558-374b-4c5e-b94f-b1e5892cb684",
   "metadata": {},
   "outputs": [
    {
     "name": "stdout",
     "output_type": "stream",
     "text": [
      "1\n",
      "4\n"
     ]
    }
   ],
   "source": [
    "# break\n",
    "for i in num_list:\n",
    "    if i == 3:\n",
    "        break\n",
    "    print(i**2)  "
   ]
  },
  {
   "cell_type": "code",
   "execution_count": 3,
   "id": "f8542911-243c-40aa-8f53-440d86e50762",
   "metadata": {},
   "outputs": [
    {
     "name": "stdout",
     "output_type": "stream",
     "text": [
      "1\n",
      "4\n",
      "16\n",
      "25\n",
      "36\n"
     ]
    }
   ],
   "source": [
    "# continue\n",
    "for i in num_list:\n",
    "    if i == 3:\n",
    "        continue\n",
    "    print(i**2)    "
   ]
  },
  {
   "cell_type": "markdown",
   "id": "7271d897-207b-4bc0-8a13-4e2c6fa56ab0",
   "metadata": {},
   "source": [
    "### While Loop\n",
    "While 반복문도 자주 활용됩니다. While 안의 조건이 만족하는 한, 계속 반복합니다. break 문으로 While Loop 를 빠져나올 수 있습니다."
   ]
  },
  {
   "cell_type": "code",
   "execution_count": 4,
   "id": "fa548280-84d0-4327-8bc3-7401b6c1b864",
   "metadata": {},
   "outputs": [
    {
     "name": "stdout",
     "output_type": "stream",
     "text": [
      "1\n",
      "4\n",
      "9\n",
      "16\n",
      "25\n",
      "36\n",
      "49\n",
      "64\n",
      "81\n",
      "100\n"
     ]
    }
   ],
   "source": [
    "i = 0\n",
    "while(True):\n",
    "    i = i + 1\n",
    "    print(i**2)\n",
    "    if i == 10:\n",
    "        break"
   ]
  },
  {
   "cell_type": "code",
   "execution_count": 5,
   "id": "d1637210-b529-4d2d-b0ce-8abde74ed3ac",
   "metadata": {},
   "outputs": [
    {
     "name": "stdout",
     "output_type": "stream",
     "text": [
      "1\n",
      "4\n",
      "9\n",
      "16\n",
      "25\n",
      "36\n",
      "49\n",
      "64\n",
      "81\n",
      "100\n"
     ]
    }
   ],
   "source": [
    "i = 0\n",
    "while(i<10):\n",
    "    i = i + 1\n",
    "    print(i**2)"
   ]
  }
 ],
 "metadata": {
  "kernelspec": {
   "display_name": "Python 3 (ipykernel)",
   "language": "python",
   "name": "python3"
  },
  "language_info": {
   "codemirror_mode": {
    "name": "ipython",
    "version": 3
   },
   "file_extension": ".py",
   "mimetype": "text/x-python",
   "name": "python",
   "nbconvert_exporter": "python",
   "pygments_lexer": "ipython3",
   "version": "3.9.7"
  }
 },
 "nbformat": 4,
 "nbformat_minor": 5
}
