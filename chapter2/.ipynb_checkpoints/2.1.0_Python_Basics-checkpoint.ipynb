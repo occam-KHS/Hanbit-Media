{
 "cells": [
  {
   "cell_type": "markdown",
   "id": "7130e3ad-58cf-4931-a666-baed70865d99",
   "metadata": {},
   "source": [
    "### **파이썬 데이터분석 기초**\n",
    "\n",
    "이번 장에서는 데이터 분석에 꼭 필요한 부분만 다룰 수 있도록 하겠습니다. 파이썬 기초 학습은 유튜브에서 좋은 강의를 쉽게 찾으실 수 있습니다. 이 장에서는 주가데이터 분석에 필요한 기술만 우선적으로 익히고, 배운 기술을 이용하여 래리 윌리암스의 변동성 돌파전략을 구현해 보겠습니다. 알고리즘 개발을 위한 파이썬 코드는 쥬피터노트북 환경에서 작성하고 실행을 하였습니다. 주피터노트북은 대화형으로 코딩을 할 수 있는 파이썬 에디터이기 때문에 데이터분석가 가장 선호하는 에디터입니다. 아나콘다를 설치하면 데이터분석을 위한 여러 패키지와 함께 주피터노트북이 설치됩니다. 아나콘다 설치 관련하여 다양한 유투브 동영상과 온라인 자료가 있습니다. 본서에는 7장(자동매매)에서 아나콘다 설치를 위한 가이드를 제공합니다. 아나콘다를 설치 못하신 독자는 아나콘다 설치 완료하시고 진행하시면 되겠습니다. \n"
   ]
  },
  {
   "cell_type": "code",
   "execution_count": null,
   "id": "66734e29-a539-4abb-a8b0-c4681fc47bd0",
   "metadata": {},
   "outputs": [],
   "source": []
  }
 ],
 "metadata": {
  "kernelspec": {
   "display_name": "Python 3 (ipykernel)",
   "language": "python",
   "name": "python3"
  },
  "language_info": {
   "codemirror_mode": {
    "name": "ipython",
    "version": 3
   },
   "file_extension": ".py",
   "mimetype": "text/x-python",
   "name": "python",
   "nbconvert_exporter": "python",
   "pygments_lexer": "ipython3",
   "version": "3.9.7"
  }
 },
 "nbformat": 4,
 "nbformat_minor": 5
}
