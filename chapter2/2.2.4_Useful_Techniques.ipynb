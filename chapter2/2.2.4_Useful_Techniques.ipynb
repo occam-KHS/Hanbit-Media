{
 "cells": [
  {
   "cell_type": "markdown",
   "id": "30724f83-599e-4402-9550-3f597af8aee1",
   "metadata": {},
   "source": [
    "### Resample\n",
    "Resample 은 시간데이터를 다른 시간 단위로 변경하고 싶을 때 활용합니다. 예를 들면, 초 단위 데이터를 일단위 혹은 월단위 데이터로 변경 할 수 있습니다. 연습을 위하여 시간 레벨의 데이터가 필요합니다. 시간레벨 데이터는 FinanceDataReader 패키지에서 제공하는 일봉 데이터를 활용하겠습니다. FinanceDataReader 는 이승준님이 금융자료 분석을 하시는 분들을 위하여 만들어 주신 정말 유용한 패키지입니다. 자세한 내용은 아래 링크에 설명이 되어 있습니다. \n",
    "https://financedata.github.io/posts/finance-data-reader-users-guide.html 또한, 이승준님이 Pycon 에서 엑셀에 비하여 파이썬의 장점에 대하여 강연하시는 내용이 유투브에 있습니다. https://www.youtube.com/watch?v=w7Q_eKN5r-I"
   ]
  },
  {
   "cell_type": "markdown",
   "id": "a9cf5fe3-a2b8-4eaf-86b1-521bad51ea7f",
   "metadata": {},
   "source": [
    "### FinanceDataReader\n",
    "FinanceDataReader 를 import 합니다. DataReader 함수에 종목코드, 시작일, 종료일을 인수로 넣어주면 아래와 같이 일봉데이터를 리턴합니다. 출력해보면 Date 가 index 로 되어 있음을 알 수 있습니다. "
   ]
  },
  {
   "cell_type": "code",
   "execution_count": 4,
   "id": "1a8aa93b-7cb5-4732-8134-1ee2530d8a31",
   "metadata": {},
   "outputs": [
    {
     "data": {
      "text/html": [
       "<style type=\"text/css\">\n",
       "</style>\n",
       "<table id=\"T_6963e_\" style=\"font-size: 12px\">\n",
       "  <thead>\n",
       "    <tr>\n",
       "      <th class=\"blank level0\" >&nbsp;</th>\n",
       "      <th class=\"col_heading level0 col0\" >Open</th>\n",
       "      <th class=\"col_heading level0 col1\" >High</th>\n",
       "      <th class=\"col_heading level0 col2\" >Low</th>\n",
       "      <th class=\"col_heading level0 col3\" >Close</th>\n",
       "      <th class=\"col_heading level0 col4\" >Volume</th>\n",
       "      <th class=\"col_heading level0 col5\" >Change</th>\n",
       "    </tr>\n",
       "    <tr>\n",
       "      <th class=\"index_name level0\" >Date</th>\n",
       "      <th class=\"blank col0\" >&nbsp;</th>\n",
       "      <th class=\"blank col1\" >&nbsp;</th>\n",
       "      <th class=\"blank col2\" >&nbsp;</th>\n",
       "      <th class=\"blank col3\" >&nbsp;</th>\n",
       "      <th class=\"blank col4\" >&nbsp;</th>\n",
       "      <th class=\"blank col5\" >&nbsp;</th>\n",
       "    </tr>\n",
       "  </thead>\n",
       "  <tbody>\n",
       "    <tr>\n",
       "      <th id=\"T_6963e_level0_row0\" class=\"row_heading level0 row0\" >2021-01-04 00:00:00</th>\n",
       "      <td id=\"T_6963e_row0_col0\" class=\"data row0 col0\" >81000</td>\n",
       "      <td id=\"T_6963e_row0_col1\" class=\"data row0 col1\" >84400</td>\n",
       "      <td id=\"T_6963e_row0_col2\" class=\"data row0 col2\" >80200</td>\n",
       "      <td id=\"T_6963e_row0_col3\" class=\"data row0 col3\" >83000</td>\n",
       "      <td id=\"T_6963e_row0_col4\" class=\"data row0 col4\" >38655276</td>\n",
       "      <td id=\"T_6963e_row0_col5\" class=\"data row0 col5\" >0.024691</td>\n",
       "    </tr>\n",
       "    <tr>\n",
       "      <th id=\"T_6963e_level0_row1\" class=\"row_heading level0 row1\" >2021-01-05 00:00:00</th>\n",
       "      <td id=\"T_6963e_row1_col0\" class=\"data row1 col0\" >81600</td>\n",
       "      <td id=\"T_6963e_row1_col1\" class=\"data row1 col1\" >83900</td>\n",
       "      <td id=\"T_6963e_row1_col2\" class=\"data row1 col2\" >81600</td>\n",
       "      <td id=\"T_6963e_row1_col3\" class=\"data row1 col3\" >83900</td>\n",
       "      <td id=\"T_6963e_row1_col4\" class=\"data row1 col4\" >35335669</td>\n",
       "      <td id=\"T_6963e_row1_col5\" class=\"data row1 col5\" >0.010843</td>\n",
       "    </tr>\n",
       "    <tr>\n",
       "      <th id=\"T_6963e_level0_row2\" class=\"row_heading level0 row2\" >2021-01-06 00:00:00</th>\n",
       "      <td id=\"T_6963e_row2_col0\" class=\"data row2 col0\" >83300</td>\n",
       "      <td id=\"T_6963e_row2_col1\" class=\"data row2 col1\" >84500</td>\n",
       "      <td id=\"T_6963e_row2_col2\" class=\"data row2 col2\" >82100</td>\n",
       "      <td id=\"T_6963e_row2_col3\" class=\"data row2 col3\" >82200</td>\n",
       "      <td id=\"T_6963e_row2_col4\" class=\"data row2 col4\" >42089013</td>\n",
       "      <td id=\"T_6963e_row2_col5\" class=\"data row2 col5\" >-0.020262</td>\n",
       "    </tr>\n",
       "    <tr>\n",
       "      <th id=\"T_6963e_level0_row3\" class=\"row_heading level0 row3\" >2021-01-07 00:00:00</th>\n",
       "      <td id=\"T_6963e_row3_col0\" class=\"data row3 col0\" >82800</td>\n",
       "      <td id=\"T_6963e_row3_col1\" class=\"data row3 col1\" >84200</td>\n",
       "      <td id=\"T_6963e_row3_col2\" class=\"data row3 col2\" >82700</td>\n",
       "      <td id=\"T_6963e_row3_col3\" class=\"data row3 col3\" >82900</td>\n",
       "      <td id=\"T_6963e_row3_col4\" class=\"data row3 col4\" >32644642</td>\n",
       "      <td id=\"T_6963e_row3_col5\" class=\"data row3 col5\" >0.008516</td>\n",
       "    </tr>\n",
       "    <tr>\n",
       "      <th id=\"T_6963e_level0_row4\" class=\"row_heading level0 row4\" >2021-01-08 00:00:00</th>\n",
       "      <td id=\"T_6963e_row4_col0\" class=\"data row4 col0\" >83300</td>\n",
       "      <td id=\"T_6963e_row4_col1\" class=\"data row4 col1\" >90000</td>\n",
       "      <td id=\"T_6963e_row4_col2\" class=\"data row4 col2\" >83000</td>\n",
       "      <td id=\"T_6963e_row4_col3\" class=\"data row4 col3\" >88800</td>\n",
       "      <td id=\"T_6963e_row4_col4\" class=\"data row4 col4\" >59013307</td>\n",
       "      <td id=\"T_6963e_row4_col5\" class=\"data row4 col5\" >0.071170</td>\n",
       "    </tr>\n",
       "  </tbody>\n",
       "</table>\n"
      ],
      "text/plain": [
       "<pandas.io.formats.style.Styler at 0x1eab9282310>"
      ]
     },
     "execution_count": 4,
     "metadata": {},
     "output_type": "execute_result"
    }
   ],
   "source": [
    "import FinanceDataReader as fdr\n",
    "\n",
    "code = '005930' # 삼성전자\n",
    "stock_data = fdr.DataReader(code, start='2021-01-03', end='2021-12-31') \n",
    "\n",
    "stock_data.head().style.set_table_attributes('style=\"font-size: 12px\"') # head 메소드는 처음 5 row 만 출력합니다."
   ]
  },
  {
   "cell_type": "markdown",
   "id": "d6b5ee6a-bdba-4bdb-b41e-fe7fbd4c97cf",
   "metadata": {},
   "source": [
    "<br>\n",
    "각 월별 종가의 평균, 최대값, 최소값을 알아봅니다. 월별로 요약하면 index 에는 월의 마지막 날짜가 되는 것을 유의하세요. head 메소드로 출력을 5 열로 제한합니다. pd.options 로 소숫점 이하는 보이지 않도록 합니다. 시간이 index 가 되어 있을 때 resample 이 가능합니다. \n"
   ]
  },
  {
   "cell_type": "code",
   "execution_count": 5,
   "id": "142f8a0f-03a9-4581-9f55-b290e9cfb50e",
   "metadata": {},
   "outputs": [
    {
     "data": {
      "text/html": [
       "<style type=\"text/css\">\n",
       "</style>\n",
       "<table id=\"T_72789_\" style=\"font-size: 12px\">\n",
       "  <thead>\n",
       "    <tr>\n",
       "      <th class=\"blank level0\" >&nbsp;</th>\n",
       "      <th class=\"col_heading level0 col0\" >mean</th>\n",
       "      <th class=\"col_heading level0 col1\" >max</th>\n",
       "      <th class=\"col_heading level0 col2\" >min</th>\n",
       "    </tr>\n",
       "    <tr>\n",
       "      <th class=\"index_name level0\" >Date</th>\n",
       "      <th class=\"blank col0\" >&nbsp;</th>\n",
       "      <th class=\"blank col1\" >&nbsp;</th>\n",
       "      <th class=\"blank col2\" >&nbsp;</th>\n",
       "    </tr>\n",
       "  </thead>\n",
       "  <tbody>\n",
       "    <tr>\n",
       "      <th id=\"T_72789_level0_row0\" class=\"row_heading level0 row0\" >2021-01-31 00:00:00</th>\n",
       "      <td id=\"T_72789_row0_col0\" class=\"data row0 col0\" >86565.000000</td>\n",
       "      <td id=\"T_72789_row0_col1\" class=\"data row0 col1\" >91000</td>\n",
       "      <td id=\"T_72789_row0_col2\" class=\"data row0 col2\" >82000</td>\n",
       "    </tr>\n",
       "    <tr>\n",
       "      <th id=\"T_72789_level0_row1\" class=\"row_heading level0 row1\" >2021-02-28 00:00:00</th>\n",
       "      <td id=\"T_72789_row1_col0\" class=\"data row1 col0\" >83127.777778</td>\n",
       "      <td id=\"T_72789_row1_col1\" class=\"data row1 col1\" >85300</td>\n",
       "      <td id=\"T_72789_row1_col2\" class=\"data row1 col2\" >81600</td>\n",
       "    </tr>\n",
       "    <tr>\n",
       "      <th id=\"T_72789_level0_row2\" class=\"row_heading level0 row2\" >2021-03-31 00:00:00</th>\n",
       "      <td id=\"T_72789_row2_col0\" class=\"data row2 col0\" >82072.727273</td>\n",
       "      <td id=\"T_72789_row2_col1\" class=\"data row2 col1\" >84000</td>\n",
       "      <td id=\"T_72789_row2_col2\" class=\"data row2 col2\" >80900</td>\n",
       "    </tr>\n",
       "    <tr>\n",
       "      <th id=\"T_72789_level0_row3\" class=\"row_heading level0 row3\" >2021-04-30 00:00:00</th>\n",
       "      <td id=\"T_72789_row3_col0\" class=\"data row3 col0\" >83586.363636</td>\n",
       "      <td id=\"T_72789_row3_col1\" class=\"data row3 col1\" >86000</td>\n",
       "      <td id=\"T_72789_row3_col2\" class=\"data row3 col2\" >81500</td>\n",
       "    </tr>\n",
       "    <tr>\n",
       "      <th id=\"T_72789_level0_row4\" class=\"row_heading level0 row4\" >2021-05-31 00:00:00</th>\n",
       "      <td id=\"T_72789_row4_col0\" class=\"data row4 col0\" >80521.052632</td>\n",
       "      <td id=\"T_72789_row4_col1\" class=\"data row4 col1\" >83200</td>\n",
       "      <td id=\"T_72789_row4_col2\" class=\"data row4 col2\" >78500</td>\n",
       "    </tr>\n",
       "  </tbody>\n",
       "</table>\n"
      ],
      "text/plain": [
       "<pandas.io.formats.style.Styler at 0x1eab69f9af0>"
      ]
     },
     "execution_count": 5,
     "metadata": {},
     "output_type": "execute_result"
    }
   ],
   "source": [
    "import pandas as pd\n",
    "pd.options.display.float_format = '{:,.0f}'.format\n",
    "stock_data.resample('M')['Close'].agg(['mean','max','min']).head().style.set_table_attributes('style=\"font-size: 12px\"') # 처음 5개만 출력"
   ]
  },
  {
   "cell_type": "markdown",
   "id": "b3c98e04-92c2-4dd8-b46e-670e41738697",
   "metadata": {},
   "source": [
    "주별로 요약할 수 도 있습니다. 이번에는 resample('W') 라고 해 줍니다. Resample 이 정말 유용한 기능이라는 것을 직감하셨을 것으로 생각합니다. 역시 한 주(월요일 ~ 일요일)의 마지막날이 Index 로 들어가 있습니다. 디폴트는 일요일입니다."
   ]
  },
  {
   "cell_type": "code",
   "execution_count": 6,
   "id": "e989696a-d3b5-4b1d-9a88-5f1bd4a8bc88",
   "metadata": {},
   "outputs": [
    {
     "data": {
      "text/html": [
       "<style type=\"text/css\">\n",
       "</style>\n",
       "<table id=\"T_23904_\" style=\"font-size: 12px\">\n",
       "  <thead>\n",
       "    <tr>\n",
       "      <th class=\"blank level0\" >&nbsp;</th>\n",
       "      <th class=\"col_heading level0 col0\" >mean</th>\n",
       "      <th class=\"col_heading level0 col1\" >max</th>\n",
       "      <th class=\"col_heading level0 col2\" >min</th>\n",
       "    </tr>\n",
       "    <tr>\n",
       "      <th class=\"index_name level0\" >Date</th>\n",
       "      <th class=\"blank col0\" >&nbsp;</th>\n",
       "      <th class=\"blank col1\" >&nbsp;</th>\n",
       "      <th class=\"blank col2\" >&nbsp;</th>\n",
       "    </tr>\n",
       "  </thead>\n",
       "  <tbody>\n",
       "    <tr>\n",
       "      <th id=\"T_23904_level0_row0\" class=\"row_heading level0 row0\" >2021-01-10 00:00:00</th>\n",
       "      <td id=\"T_23904_row0_col0\" class=\"data row0 col0\" >84160.000000</td>\n",
       "      <td id=\"T_23904_row0_col1\" class=\"data row0 col1\" >88800</td>\n",
       "      <td id=\"T_23904_row0_col2\" class=\"data row0 col2\" >82200</td>\n",
       "    </tr>\n",
       "    <tr>\n",
       "      <th id=\"T_23904_level0_row1\" class=\"row_heading level0 row1\" >2021-01-17 00:00:00</th>\n",
       "      <td id=\"T_23904_row1_col0\" class=\"data row1 col0\" >89800.000000</td>\n",
       "      <td id=\"T_23904_row1_col1\" class=\"data row1 col1\" >91000</td>\n",
       "      <td id=\"T_23904_row1_col2\" class=\"data row1 col2\" >88000</td>\n",
       "    </tr>\n",
       "    <tr>\n",
       "      <th id=\"T_23904_level0_row2\" class=\"row_heading level0 row2\" >2021-01-24 00:00:00</th>\n",
       "      <td id=\"T_23904_row2_col0\" class=\"data row2 col0\" >86820.000000</td>\n",
       "      <td id=\"T_23904_row2_col1\" class=\"data row2 col1\" >88100</td>\n",
       "      <td id=\"T_23904_row2_col2\" class=\"data row2 col2\" >85000</td>\n",
       "    </tr>\n",
       "    <tr>\n",
       "      <th id=\"T_23904_level0_row3\" class=\"row_heading level0 row3\" >2021-01-31 00:00:00</th>\n",
       "      <td id=\"T_23904_row3_col0\" class=\"data row3 col0\" >85480.000000</td>\n",
       "      <td id=\"T_23904_row3_col1\" class=\"data row3 col1\" >89400</td>\n",
       "      <td id=\"T_23904_row3_col2\" class=\"data row3 col2\" >82000</td>\n",
       "    </tr>\n",
       "    <tr>\n",
       "      <th id=\"T_23904_level0_row4\" class=\"row_heading level0 row4\" >2021-02-07 00:00:00</th>\n",
       "      <td id=\"T_23904_row4_col0\" class=\"data row4 col0\" >83600.000000</td>\n",
       "      <td id=\"T_23904_row4_col1\" class=\"data row4 col1\" >84600</td>\n",
       "      <td id=\"T_23904_row4_col2\" class=\"data row4 col2\" >82500</td>\n",
       "    </tr>\n",
       "  </tbody>\n",
       "</table>\n"
      ],
      "text/plain": [
       "<pandas.io.formats.style.Styler at 0x1eab947fdc0>"
      ]
     },
     "execution_count": 6,
     "metadata": {},
     "output_type": "execute_result"
    }
   ],
   "source": [
    "pd.options.display.float_format = '{:,.0f}'.format\n",
    "stock_data.resample('W')['Close'].agg(['mean','max','min']).head().style.set_table_attributes('style=\"font-size: 12px\"')"
   ]
  },
  {
   "cell_type": "code",
   "execution_count": null,
   "id": "b52bafbc-84bc-4105-b9a2-afa34bd39131",
   "metadata": {},
   "outputs": [],
   "source": []
  }
 ],
 "metadata": {
  "kernelspec": {
   "display_name": "Python 3 (ipykernel)",
   "language": "python",
   "name": "python3"
  },
  "language_info": {
   "codemirror_mode": {
    "name": "ipython",
    "version": 3
   },
   "file_extension": ".py",
   "mimetype": "text/x-python",
   "name": "python",
   "nbconvert_exporter": "python",
   "pygments_lexer": "ipython3",
   "version": "3.9.7"
  }
 },
 "nbformat": 4,
 "nbformat_minor": 5
}
