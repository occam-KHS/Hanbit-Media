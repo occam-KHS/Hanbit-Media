{
 "cells": [
  {
   "cell_type": "markdown",
   "id": "4889ef0f-b554-4919-b881-af8ab9c1dba9",
   "metadata": {},
   "source": [
    "### Groupby\n",
    "Groupby 는 데이터를 요약할 때 많이 활용하는 기법입니다. 아래 예제에서 만들어진 DataFrame - df 의 'grp' 컬럼을 이용하여 'a', 'b', 'c' 등의 3 개의 그룹으로 나눌 수 있습니다.\n",
    "먼저, 그룹을 무시하고 v1, v2 의 평균값을 알아봅니다. 그 다음, 그룹 별로 v1 과 v2 의 평균값을 알아봅니다."
   ]
  },
  {
   "cell_type": "code",
   "execution_count": 1,
   "id": "ac5e0d35-9bd8-4400-838d-b6e4c35bdd79",
   "metadata": {},
   "outputs": [],
   "source": [
    "import pandas as pd\n",
    "\n",
    "g_list = ['a','a','a','b','b','b','c','c','c','c']\n",
    "v1_list = [1, 2, 3, 4, 5, 6, 7, 8, 9, 10]\n",
    "v2_list = [11, 12, 13, 14, 15, 16, 17, 18, 19, 20]\n",
    "\n",
    "df =  pd.DataFrame({'grp': g_list, 'v1': v1_list, 'v2': v2_list}) # 그룹핑을 할 수 있는 컬럼을 가진 DataFrame 생성"
   ]
  },
  {
   "cell_type": "code",
   "execution_count": 2,
   "id": "4ee921c5-6c5e-4056-9f62-3494457c02ce",
   "metadata": {},
   "outputs": [
    {
     "data": {
      "text/plain": [
       "v1     5.5\n",
       "v2    15.5\n",
       "dtype: float64"
      ]
     },
     "execution_count": 2,
     "metadata": {},
     "output_type": "execute_result"
    }
   ],
   "source": [
    "df[['v1', 'v2']].mean() # 전체 평균"
   ]
  },
  {
   "cell_type": "code",
   "execution_count": 3,
   "id": "0116ea98-07a6-4838-b62e-90973157d010",
   "metadata": {},
   "outputs": [
    {
     "data": {
      "text/plain": [
       "grp\n",
       "a    2.0\n",
       "b    5.0\n",
       "c    8.5\n",
       "Name: v1, dtype: float64"
      ]
     },
     "execution_count": 3,
     "metadata": {},
     "output_type": "execute_result"
    }
   ],
   "source": [
    "df.groupby('grp')['v1'].mean() # 그룹별 평균"
   ]
  },
  {
   "cell_type": "markdown",
   "id": "b0479571-b69a-4996-9d91-5201a3b1a07c",
   "metadata": {},
   "source": [
    "<br>\n",
    "그룹별로 여러개의 통계값도 구할 수 있습니다. v1 의 평균, 최대값, 총합을 알아봅니다."
   ]
  },
  {
   "cell_type": "code",
   "execution_count": 4,
   "id": "e3541027-619c-47d5-8a41-8edd34250630",
   "metadata": {},
   "outputs": [
    {
     "data": {
      "text/html": [
       "<div>\n",
       "<style scoped>\n",
       "    .dataframe tbody tr th:only-of-type {\n",
       "        vertical-align: middle;\n",
       "    }\n",
       "\n",
       "    .dataframe tbody tr th {\n",
       "        vertical-align: top;\n",
       "    }\n",
       "\n",
       "    .dataframe thead th {\n",
       "        text-align: right;\n",
       "    }\n",
       "</style>\n",
       "<table border=\"1\" class=\"dataframe\">\n",
       "  <thead>\n",
       "    <tr style=\"text-align: right;\">\n",
       "      <th></th>\n",
       "      <th>mean</th>\n",
       "      <th>max</th>\n",
       "      <th>sum</th>\n",
       "    </tr>\n",
       "    <tr>\n",
       "      <th>grp</th>\n",
       "      <th></th>\n",
       "      <th></th>\n",
       "      <th></th>\n",
       "    </tr>\n",
       "  </thead>\n",
       "  <tbody>\n",
       "    <tr>\n",
       "      <th>a</th>\n",
       "      <td>2.0</td>\n",
       "      <td>3</td>\n",
       "      <td>6</td>\n",
       "    </tr>\n",
       "    <tr>\n",
       "      <th>b</th>\n",
       "      <td>5.0</td>\n",
       "      <td>6</td>\n",
       "      <td>15</td>\n",
       "    </tr>\n",
       "    <tr>\n",
       "      <th>c</th>\n",
       "      <td>8.5</td>\n",
       "      <td>10</td>\n",
       "      <td>34</td>\n",
       "    </tr>\n",
       "  </tbody>\n",
       "</table>\n",
       "</div>"
      ],
      "text/plain": [
       "     mean  max  sum\n",
       "grp                \n",
       "a     2.0    3    6\n",
       "b     5.0    6   15\n",
       "c     8.5   10   34"
      ]
     },
     "execution_count": 4,
     "metadata": {},
     "output_type": "execute_result"
    }
   ],
   "source": [
    "df.groupby('grp')['v1'].agg(['mean','max','sum'])"
   ]
  },
  {
   "cell_type": "markdown",
   "id": "0faf308f-a3bc-4170-a3b8-718f798a72d3",
   "metadata": {},
   "source": [
    "<br>\n",
    "그룹별로 v1 과 v2 의 평균, 최대값, 총합을 알아봅니다."
   ]
  },
  {
   "cell_type": "code",
   "execution_count": 5,
   "id": "7f06d884-0ef9-4d3c-895f-97c1c8bfa4ba",
   "metadata": {},
   "outputs": [
    {
     "data": {
      "text/html": [
       "<div>\n",
       "<style scoped>\n",
       "    .dataframe tbody tr th:only-of-type {\n",
       "        vertical-align: middle;\n",
       "    }\n",
       "\n",
       "    .dataframe tbody tr th {\n",
       "        vertical-align: top;\n",
       "    }\n",
       "\n",
       "    .dataframe thead tr th {\n",
       "        text-align: left;\n",
       "    }\n",
       "\n",
       "    .dataframe thead tr:last-of-type th {\n",
       "        text-align: right;\n",
       "    }\n",
       "</style>\n",
       "<table border=\"1\" class=\"dataframe\">\n",
       "  <thead>\n",
       "    <tr>\n",
       "      <th></th>\n",
       "      <th colspan=\"3\" halign=\"left\">v1</th>\n",
       "      <th colspan=\"3\" halign=\"left\">v2</th>\n",
       "    </tr>\n",
       "    <tr>\n",
       "      <th></th>\n",
       "      <th>mean</th>\n",
       "      <th>max</th>\n",
       "      <th>sum</th>\n",
       "      <th>mean</th>\n",
       "      <th>max</th>\n",
       "      <th>sum</th>\n",
       "    </tr>\n",
       "    <tr>\n",
       "      <th>grp</th>\n",
       "      <th></th>\n",
       "      <th></th>\n",
       "      <th></th>\n",
       "      <th></th>\n",
       "      <th></th>\n",
       "      <th></th>\n",
       "    </tr>\n",
       "  </thead>\n",
       "  <tbody>\n",
       "    <tr>\n",
       "      <th>a</th>\n",
       "      <td>2.0</td>\n",
       "      <td>3</td>\n",
       "      <td>6</td>\n",
       "      <td>12.0</td>\n",
       "      <td>13</td>\n",
       "      <td>36</td>\n",
       "    </tr>\n",
       "    <tr>\n",
       "      <th>b</th>\n",
       "      <td>5.0</td>\n",
       "      <td>6</td>\n",
       "      <td>15</td>\n",
       "      <td>15.0</td>\n",
       "      <td>16</td>\n",
       "      <td>45</td>\n",
       "    </tr>\n",
       "    <tr>\n",
       "      <th>c</th>\n",
       "      <td>8.5</td>\n",
       "      <td>10</td>\n",
       "      <td>34</td>\n",
       "      <td>18.5</td>\n",
       "      <td>20</td>\n",
       "      <td>74</td>\n",
       "    </tr>\n",
       "  </tbody>\n",
       "</table>\n",
       "</div>"
      ],
      "text/plain": [
       "      v1            v2        \n",
       "    mean max sum  mean max sum\n",
       "grp                           \n",
       "a    2.0   3   6  12.0  13  36\n",
       "b    5.0   6  15  15.0  16  45\n",
       "c    8.5  10  34  18.5  20  74"
      ]
     },
     "execution_count": 5,
     "metadata": {},
     "output_type": "execute_result"
    }
   ],
   "source": [
    "df.groupby('grp')[['v1','v2']].agg(['mean','max','sum'])"
   ]
  },
  {
   "cell_type": "markdown",
   "id": "5fd0d0f6-79e0-407b-83d2-be7ba1696f20",
   "metadata": {},
   "source": [
    "<br>\n",
    "이번에는 그룹별로 v1 은 평균, v2 는 총합을 알아봅니다."
   ]
  },
  {
   "cell_type": "code",
   "execution_count": 6,
   "id": "0c10cfc8-65f1-4369-a223-9c668fa31f95",
   "metadata": {},
   "outputs": [
    {
     "data": {
      "text/html": [
       "<div>\n",
       "<style scoped>\n",
       "    .dataframe tbody tr th:only-of-type {\n",
       "        vertical-align: middle;\n",
       "    }\n",
       "\n",
       "    .dataframe tbody tr th {\n",
       "        vertical-align: top;\n",
       "    }\n",
       "\n",
       "    .dataframe thead th {\n",
       "        text-align: right;\n",
       "    }\n",
       "</style>\n",
       "<table border=\"1\" class=\"dataframe\">\n",
       "  <thead>\n",
       "    <tr style=\"text-align: right;\">\n",
       "      <th></th>\n",
       "      <th>v1</th>\n",
       "      <th>v2</th>\n",
       "    </tr>\n",
       "    <tr>\n",
       "      <th>grp</th>\n",
       "      <th></th>\n",
       "      <th></th>\n",
       "    </tr>\n",
       "  </thead>\n",
       "  <tbody>\n",
       "    <tr>\n",
       "      <th>a</th>\n",
       "      <td>2.0</td>\n",
       "      <td>36</td>\n",
       "    </tr>\n",
       "    <tr>\n",
       "      <th>b</th>\n",
       "      <td>5.0</td>\n",
       "      <td>45</td>\n",
       "    </tr>\n",
       "    <tr>\n",
       "      <th>c</th>\n",
       "      <td>8.5</td>\n",
       "      <td>74</td>\n",
       "    </tr>\n",
       "  </tbody>\n",
       "</table>\n",
       "</div>"
      ],
      "text/plain": [
       "      v1  v2\n",
       "grp         \n",
       "a    2.0  36\n",
       "b    5.0  45\n",
       "c    8.5  74"
      ]
     },
     "execution_count": 6,
     "metadata": {},
     "output_type": "execute_result"
    }
   ],
   "source": [
    "s = {'v1':'mean', 'v2':'sum'}\n",
    "df.groupby('grp').agg(s)"
   ]
  },
  {
   "cell_type": "markdown",
   "id": "af737841-3a51-42b1-a22d-f70b6b0a441c",
   "metadata": {},
   "source": [
    "<br>\n",
    "그룹별 최대값에서 최소값을 뺀 값을 알아봅니다. lambda 함수를 이용했습니다. lambda 함수의 자세한 활용법은 다루지 않도록 하겠습니다. Apply 함수를 이용한 경우와 Transform 함수를 이용한 경우의 차이점을 알아야 합니다. Apply 를 이용하면 생성된 그룹의 갯 수 만큼의 행을 리턴합니다. Transform 은 그룹핑하기 전의 데이터 행의 갯 수 만큼을 반환합니다. 그룹별 요약된 정보를 원래 데이터에 추가하고 싶을 때는 Transform 이 사용됩니다."
   ]
  },
  {
   "cell_type": "code",
   "execution_count": 7,
   "id": "fc3be88f-2f1d-449d-8c62-8884834a0fd9",
   "metadata": {},
   "outputs": [
    {
     "data": {
      "text/plain": [
       "grp\n",
       "a    1.0\n",
       "b    1.0\n",
       "c    1.5\n",
       "Name: v1, dtype: float64"
      ]
     },
     "execution_count": 7,
     "metadata": {},
     "output_type": "execute_result"
    }
   ],
   "source": [
    "df.groupby('grp')['v1'].apply(lambda x: x.max() - x.mean())"
   ]
  },
  {
   "cell_type": "code",
   "execution_count": 8,
   "id": "b4955d92-fe31-4438-9205-0692a8d321a8",
   "metadata": {},
   "outputs": [
    {
     "data": {
      "text/plain": [
       "0    1.0\n",
       "1    1.0\n",
       "2    1.0\n",
       "3    1.0\n",
       "4    1.0\n",
       "5    1.0\n",
       "6    1.5\n",
       "7    1.5\n",
       "8    1.5\n",
       "9    1.5\n",
       "Name: v1, dtype: float64"
      ]
     },
     "execution_count": 8,
     "metadata": {},
     "output_type": "execute_result"
    }
   ],
   "source": [
    "df.groupby('grp')['v1'].transform(lambda x: x.max() - x.mean())"
   ]
  },
  {
   "cell_type": "code",
   "execution_count": null,
   "id": "766b4b6c-7361-439b-9f3e-ee3f044f474e",
   "metadata": {},
   "outputs": [],
   "source": []
  }
 ],
 "metadata": {
  "kernelspec": {
   "display_name": "Python 3 (ipykernel)",
   "language": "python",
   "name": "python3"
  },
  "language_info": {
   "codemirror_mode": {
    "name": "ipython",
    "version": 3
   },
   "file_extension": ".py",
   "mimetype": "text/x-python",
   "name": "python",
   "nbconvert_exporter": "python",
   "pygments_lexer": "ipython3",
   "version": "3.9.7"
  }
 },
 "nbformat": 4,
 "nbformat_minor": 5
}
