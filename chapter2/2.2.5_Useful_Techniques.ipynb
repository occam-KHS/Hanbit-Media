{
 "cells": [
  {
   "cell_type": "markdown",
   "id": "30724f83-599e-4402-9550-3f597af8aee1",
   "metadata": {},
   "source": [
    "### Pickle\n",
    "Pickle 은 사전적으로 절여서 저장해 놓는다는 말인데요. 파이썬에서 데이터를 저장해 놓을 때 쓰는 패키지입니다. 파이썬 언어로 만들어진 데이터는 RAM 메모리에 존재합니다. 따라서, 컴퓨터가 꺼지면 자동으로 데이터가 사라지게 됩니다. 그래서, 저는 pickle 를 이용해서 데이터 작업 중간에 데이터를 저장합니다. 파이썬 DataFrame 의 저장은 csv, excel, json 등 다양한 형식으로 저장할 수 있으나, 파이썬의 데이터 타입을 손상시키지 않고, 원형대로 저장하고 불러올 수 있는 pickle 이 제일 편리합니다. 삼성전자 일봉데이터를 가져와서 피클로 저장해 보겠습니다."
   ]
  },
  {
   "cell_type": "code",
   "execution_count": 5,
   "id": "b52bafbc-84bc-4105-b9a2-afa34bd39131",
   "metadata": {},
   "outputs": [],
   "source": [
    "import FinanceDataReader as fdr \n",
    "\n",
    "code = '005930' # 삼성전자\n",
    "stock_data = fdr.DataReader(code, start='2021-01-03', end='2021-12-31') \n",
    "\n",
    "stock_data.to_pickle('stock_data.pkl') # 디렉토리를 지정하지 않으면 현재 작업 폴더에 저장이 됩니다."
   ]
  },
  {
   "cell_type": "markdown",
   "id": "fef10a8a-269d-4982-9ebe-b49663873afb",
   "metadata": {},
   "source": [
    "<br>\n",
    "이번에는 저장된 pickle 파일을 불러와 출력해 보겠습니다. read_pickle 을 이용하면 데이터가 손상되지 않고, 원형 그대로 복원되었음을 알 수 있습니다."
   ]
  },
  {
   "cell_type": "code",
   "execution_count": 6,
   "id": "40607c64-09a2-45a1-ae90-c387a67a5e25",
   "metadata": {},
   "outputs": [
    {
     "data": {
      "text/html": [
       "<style type=\"text/css\">\n",
       "</style>\n",
       "<table id=\"T_70d70_\" style=\"font-size: 12px\">\n",
       "  <thead>\n",
       "    <tr>\n",
       "      <th class=\"blank level0\" >&nbsp;</th>\n",
       "      <th class=\"col_heading level0 col0\" >Open</th>\n",
       "      <th class=\"col_heading level0 col1\" >High</th>\n",
       "      <th class=\"col_heading level0 col2\" >Low</th>\n",
       "      <th class=\"col_heading level0 col3\" >Close</th>\n",
       "      <th class=\"col_heading level0 col4\" >Volume</th>\n",
       "      <th class=\"col_heading level0 col5\" >Change</th>\n",
       "    </tr>\n",
       "    <tr>\n",
       "      <th class=\"index_name level0\" >Date</th>\n",
       "      <th class=\"blank col0\" >&nbsp;</th>\n",
       "      <th class=\"blank col1\" >&nbsp;</th>\n",
       "      <th class=\"blank col2\" >&nbsp;</th>\n",
       "      <th class=\"blank col3\" >&nbsp;</th>\n",
       "      <th class=\"blank col4\" >&nbsp;</th>\n",
       "      <th class=\"blank col5\" >&nbsp;</th>\n",
       "    </tr>\n",
       "  </thead>\n",
       "  <tbody>\n",
       "    <tr>\n",
       "      <th id=\"T_70d70_level0_row0\" class=\"row_heading level0 row0\" >2021-01-04 00:00:00</th>\n",
       "      <td id=\"T_70d70_row0_col0\" class=\"data row0 col0\" >81000</td>\n",
       "      <td id=\"T_70d70_row0_col1\" class=\"data row0 col1\" >84400</td>\n",
       "      <td id=\"T_70d70_row0_col2\" class=\"data row0 col2\" >80200</td>\n",
       "      <td id=\"T_70d70_row0_col3\" class=\"data row0 col3\" >83000</td>\n",
       "      <td id=\"T_70d70_row0_col4\" class=\"data row0 col4\" >38655276</td>\n",
       "      <td id=\"T_70d70_row0_col5\" class=\"data row0 col5\" >0.024691</td>\n",
       "    </tr>\n",
       "    <tr>\n",
       "      <th id=\"T_70d70_level0_row1\" class=\"row_heading level0 row1\" >2021-01-05 00:00:00</th>\n",
       "      <td id=\"T_70d70_row1_col0\" class=\"data row1 col0\" >81600</td>\n",
       "      <td id=\"T_70d70_row1_col1\" class=\"data row1 col1\" >83900</td>\n",
       "      <td id=\"T_70d70_row1_col2\" class=\"data row1 col2\" >81600</td>\n",
       "      <td id=\"T_70d70_row1_col3\" class=\"data row1 col3\" >83900</td>\n",
       "      <td id=\"T_70d70_row1_col4\" class=\"data row1 col4\" >35335669</td>\n",
       "      <td id=\"T_70d70_row1_col5\" class=\"data row1 col5\" >0.010843</td>\n",
       "    </tr>\n",
       "    <tr>\n",
       "      <th id=\"T_70d70_level0_row2\" class=\"row_heading level0 row2\" >2021-01-06 00:00:00</th>\n",
       "      <td id=\"T_70d70_row2_col0\" class=\"data row2 col0\" >83300</td>\n",
       "      <td id=\"T_70d70_row2_col1\" class=\"data row2 col1\" >84500</td>\n",
       "      <td id=\"T_70d70_row2_col2\" class=\"data row2 col2\" >82100</td>\n",
       "      <td id=\"T_70d70_row2_col3\" class=\"data row2 col3\" >82200</td>\n",
       "      <td id=\"T_70d70_row2_col4\" class=\"data row2 col4\" >42089013</td>\n",
       "      <td id=\"T_70d70_row2_col5\" class=\"data row2 col5\" >-0.020262</td>\n",
       "    </tr>\n",
       "    <tr>\n",
       "      <th id=\"T_70d70_level0_row3\" class=\"row_heading level0 row3\" >2021-01-07 00:00:00</th>\n",
       "      <td id=\"T_70d70_row3_col0\" class=\"data row3 col0\" >82800</td>\n",
       "      <td id=\"T_70d70_row3_col1\" class=\"data row3 col1\" >84200</td>\n",
       "      <td id=\"T_70d70_row3_col2\" class=\"data row3 col2\" >82700</td>\n",
       "      <td id=\"T_70d70_row3_col3\" class=\"data row3 col3\" >82900</td>\n",
       "      <td id=\"T_70d70_row3_col4\" class=\"data row3 col4\" >32644642</td>\n",
       "      <td id=\"T_70d70_row3_col5\" class=\"data row3 col5\" >0.008516</td>\n",
       "    </tr>\n",
       "    <tr>\n",
       "      <th id=\"T_70d70_level0_row4\" class=\"row_heading level0 row4\" >2021-01-08 00:00:00</th>\n",
       "      <td id=\"T_70d70_row4_col0\" class=\"data row4 col0\" >83300</td>\n",
       "      <td id=\"T_70d70_row4_col1\" class=\"data row4 col1\" >90000</td>\n",
       "      <td id=\"T_70d70_row4_col2\" class=\"data row4 col2\" >83000</td>\n",
       "      <td id=\"T_70d70_row4_col3\" class=\"data row4 col3\" >88800</td>\n",
       "      <td id=\"T_70d70_row4_col4\" class=\"data row4 col4\" >59013307</td>\n",
       "      <td id=\"T_70d70_row4_col5\" class=\"data row4 col5\" >0.071170</td>\n",
       "    </tr>\n",
       "  </tbody>\n",
       "</table>\n"
      ],
      "text/plain": [
       "<pandas.io.formats.style.Styler at 0x23a6792aa90>"
      ]
     },
     "execution_count": 6,
     "metadata": {},
     "output_type": "execute_result"
    }
   ],
   "source": [
    "import pandas as pd\n",
    "stock_data = pd.read_pickle('stock_data.pkl')\n",
    "stock_data.head().style.set_table_attributes('style=\"font-size: 12px\"')"
   ]
  },
  {
   "cell_type": "markdown",
   "id": "d2a61d8f-670b-48ff-b15d-6f1fe2b88fe6",
   "metadata": {},
   "source": [
    "<br>\n",
    "pickle 모듈을 이용하여 binary 파일로 저장하는 것도 가능합니다. 특히 pickle 모듈로 파일을 저장하고 읽을 때는 저장하는 환경의 Pandas 버전과 읽는 환경의 Pandas 버전이 동일해야 에러가 발생하지 않습니다. "
   ]
  },
  {
   "cell_type": "code",
   "execution_count": 7,
   "id": "343bf55f-047d-43d2-b0c0-b81dbd796169",
   "metadata": {},
   "outputs": [],
   "source": [
    "import pickle\n",
    "\n",
    "with open('stock_data.pkl', 'wb') as file:    # Binary 파일로 저징\n",
    "    pickle.dump(stock_data, file)\n",
    "    \n",
    "with open('stock_data.pkl', 'rb') as file:    # 저장된 binary 파일 읽기\n",
    "    stock_data = pickle.load(file)    "
   ]
  },
  {
   "cell_type": "code",
   "execution_count": 8,
   "id": "761cee21-da0a-4021-8fa7-5c33f3a0733f",
   "metadata": {},
   "outputs": [
    {
     "data": {
      "text/html": [
       "<style type=\"text/css\">\n",
       "</style>\n",
       "<table id=\"T_76568_\" style=\"font-size: 12px\">\n",
       "  <thead>\n",
       "    <tr>\n",
       "      <th class=\"blank level0\" >&nbsp;</th>\n",
       "      <th class=\"col_heading level0 col0\" >Open</th>\n",
       "      <th class=\"col_heading level0 col1\" >High</th>\n",
       "      <th class=\"col_heading level0 col2\" >Low</th>\n",
       "      <th class=\"col_heading level0 col3\" >Close</th>\n",
       "      <th class=\"col_heading level0 col4\" >Volume</th>\n",
       "      <th class=\"col_heading level0 col5\" >Change</th>\n",
       "    </tr>\n",
       "    <tr>\n",
       "      <th class=\"index_name level0\" >Date</th>\n",
       "      <th class=\"blank col0\" >&nbsp;</th>\n",
       "      <th class=\"blank col1\" >&nbsp;</th>\n",
       "      <th class=\"blank col2\" >&nbsp;</th>\n",
       "      <th class=\"blank col3\" >&nbsp;</th>\n",
       "      <th class=\"blank col4\" >&nbsp;</th>\n",
       "      <th class=\"blank col5\" >&nbsp;</th>\n",
       "    </tr>\n",
       "  </thead>\n",
       "  <tbody>\n",
       "    <tr>\n",
       "      <th id=\"T_76568_level0_row0\" class=\"row_heading level0 row0\" >2021-01-04 00:00:00</th>\n",
       "      <td id=\"T_76568_row0_col0\" class=\"data row0 col0\" >81000</td>\n",
       "      <td id=\"T_76568_row0_col1\" class=\"data row0 col1\" >84400</td>\n",
       "      <td id=\"T_76568_row0_col2\" class=\"data row0 col2\" >80200</td>\n",
       "      <td id=\"T_76568_row0_col3\" class=\"data row0 col3\" >83000</td>\n",
       "      <td id=\"T_76568_row0_col4\" class=\"data row0 col4\" >38655276</td>\n",
       "      <td id=\"T_76568_row0_col5\" class=\"data row0 col5\" >0.024691</td>\n",
       "    </tr>\n",
       "    <tr>\n",
       "      <th id=\"T_76568_level0_row1\" class=\"row_heading level0 row1\" >2021-01-05 00:00:00</th>\n",
       "      <td id=\"T_76568_row1_col0\" class=\"data row1 col0\" >81600</td>\n",
       "      <td id=\"T_76568_row1_col1\" class=\"data row1 col1\" >83900</td>\n",
       "      <td id=\"T_76568_row1_col2\" class=\"data row1 col2\" >81600</td>\n",
       "      <td id=\"T_76568_row1_col3\" class=\"data row1 col3\" >83900</td>\n",
       "      <td id=\"T_76568_row1_col4\" class=\"data row1 col4\" >35335669</td>\n",
       "      <td id=\"T_76568_row1_col5\" class=\"data row1 col5\" >0.010843</td>\n",
       "    </tr>\n",
       "    <tr>\n",
       "      <th id=\"T_76568_level0_row2\" class=\"row_heading level0 row2\" >2021-01-06 00:00:00</th>\n",
       "      <td id=\"T_76568_row2_col0\" class=\"data row2 col0\" >83300</td>\n",
       "      <td id=\"T_76568_row2_col1\" class=\"data row2 col1\" >84500</td>\n",
       "      <td id=\"T_76568_row2_col2\" class=\"data row2 col2\" >82100</td>\n",
       "      <td id=\"T_76568_row2_col3\" class=\"data row2 col3\" >82200</td>\n",
       "      <td id=\"T_76568_row2_col4\" class=\"data row2 col4\" >42089013</td>\n",
       "      <td id=\"T_76568_row2_col5\" class=\"data row2 col5\" >-0.020262</td>\n",
       "    </tr>\n",
       "    <tr>\n",
       "      <th id=\"T_76568_level0_row3\" class=\"row_heading level0 row3\" >2021-01-07 00:00:00</th>\n",
       "      <td id=\"T_76568_row3_col0\" class=\"data row3 col0\" >82800</td>\n",
       "      <td id=\"T_76568_row3_col1\" class=\"data row3 col1\" >84200</td>\n",
       "      <td id=\"T_76568_row3_col2\" class=\"data row3 col2\" >82700</td>\n",
       "      <td id=\"T_76568_row3_col3\" class=\"data row3 col3\" >82900</td>\n",
       "      <td id=\"T_76568_row3_col4\" class=\"data row3 col4\" >32644642</td>\n",
       "      <td id=\"T_76568_row3_col5\" class=\"data row3 col5\" >0.008516</td>\n",
       "    </tr>\n",
       "    <tr>\n",
       "      <th id=\"T_76568_level0_row4\" class=\"row_heading level0 row4\" >2021-01-08 00:00:00</th>\n",
       "      <td id=\"T_76568_row4_col0\" class=\"data row4 col0\" >83300</td>\n",
       "      <td id=\"T_76568_row4_col1\" class=\"data row4 col1\" >90000</td>\n",
       "      <td id=\"T_76568_row4_col2\" class=\"data row4 col2\" >83000</td>\n",
       "      <td id=\"T_76568_row4_col3\" class=\"data row4 col3\" >88800</td>\n",
       "      <td id=\"T_76568_row4_col4\" class=\"data row4 col4\" >59013307</td>\n",
       "      <td id=\"T_76568_row4_col5\" class=\"data row4 col5\" >0.071170</td>\n",
       "    </tr>\n",
       "  </tbody>\n",
       "</table>\n"
      ],
      "text/plain": [
       "<pandas.io.formats.style.Styler at 0x23a67948880>"
      ]
     },
     "execution_count": 8,
     "metadata": {},
     "output_type": "execute_result"
    }
   ],
   "source": [
    "stock_data.head().style.set_table_attributes('style=\"font-size: 12px\"')"
   ]
  },
  {
   "cell_type": "code",
   "execution_count": null,
   "id": "56116b27-8189-4fe3-b268-18a51efc90f3",
   "metadata": {},
   "outputs": [],
   "source": []
  }
 ],
 "metadata": {
  "kernelspec": {
   "display_name": "Python 3 (ipykernel)",
   "language": "python",
   "name": "python3"
  },
  "language_info": {
   "codemirror_mode": {
    "name": "ipython",
    "version": 3
   },
   "file_extension": ".py",
   "mimetype": "text/x-python",
   "name": "python",
   "nbconvert_exporter": "python",
   "pygments_lexer": "ipython3",
   "version": "3.9.7"
  }
 },
 "nbformat": 4,
 "nbformat_minor": 5
}
