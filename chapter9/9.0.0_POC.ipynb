{
 "cells": [
  {
   "cell_type": "markdown",
   "id": "92c217b1-5633-4c1c-926c-7ea85e310f37",
   "metadata": {},
   "source": [
    "### **계좌인증**"
   ]
  },
  {
   "cell_type": "markdown",
   "id": "340670db-b792-4be0-840a-d8dda95a8d9c",
   "metadata": {},
   "source": [
    "계좌인증"
   ]
  },
  {
   "cell_type": "code",
   "execution_count": null,
   "id": "c55791f8-90a9-4cdf-b7f7-6669735f7033",
   "metadata": {},
   "outputs": [],
   "source": []
  }
 ],
 "metadata": {
  "kernelspec": {
   "display_name": "Python 3 (ipykernel)",
   "language": "python",
   "name": "python3"
  },
  "language_info": {
   "codemirror_mode": {
    "name": "ipython",
    "version": 3
   },
   "file_extension": ".py",
   "mimetype": "text/x-python",
   "name": "python",
   "nbconvert_exporter": "python",
   "pygments_lexer": "ipython3",
   "version": "3.9.7"
  }
 },
 "nbformat": 4,
 "nbformat_minor": 5
}
